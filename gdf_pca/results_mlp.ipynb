{
 "cells": [
  {
   "cell_type": "markdown",
   "metadata": {},
   "source": [
    "# GDF+PCA+MLP results for all 10000 stocks\n",
    "\n",
    "As features for MLP we use reduced GDF (all 50) + Queue Imbalance + Previous Queue Imbalance reduced using PCA to 10 components. We are prediciting Mid-Price Indicator.\n",
    "\n",
    "## Hyperparameters for MLP\n",
    "\n",
    "* r - parameter for GDF\n",
    "* s - parameter for GDF\n",
    "* alpha - L2 penalty parameter from set $ [1.0, 0.1, 0.01, 0.0001, 0.001]$\n",
    "* hidden_layer_size - number of hidden layers from set ${(8, 8), (8, 16), (8), (16), (16, 16), (16, 8)}$\n",
    "* activation function - tanh\n",
    "* solver - adam\n",
    "\n",
    "## Validation\n",
    "We used 10-fold forward anchored cross validation\n",
    "\n",
    "We measure MCC (Matthews Correlation Coefficient) and ROC area score. Choice of best classifier is done using MCC instead of ROC area score, since MCC is not prone to class imbalance issues (different amounts of positives and negatives in data set). Of course for most of the stocks we observed that classes are usually balanced. But also usually classifier with highest MCC score on validation set has also the highest ROC area score.\n",
    "\n",
    "We compare approach GDF+PCA+MLP with Logistic Regression on Queue Imbalance feature (LR+QUE)."
   ]
  },
  {
   "cell_type": "code",
   "execution_count": 1,
   "metadata": {},
   "outputs": [],
   "source": [
    "%load_ext autoreload\n",
    "\n",
    "%autoreload 2\n",
    "%matplotlib inline\n",
    "import pandas as pd\n",
    "import matplotlib.pyplot as plt\n",
    "import seaborn as sns\n",
    "from sklearn.cluster import KMeans\n",
    "from sklearn.svm import SVC\n",
    "from sklearn.decomposition import PCA\n",
    "from sklearn import metrics\n",
    "\n",
    "from sklearn import preprocessing\n",
    "from sklearn.linear_model import LogisticRegression\n",
    "from ast import literal_eval\n",
    "\n",
    "import warnings\n",
    "import numpy as np\n",
    "from collections import OrderedDict\n",
    "\n",
    "from lob_data_utils import lob, db_result, model, roc_results\n",
    "from lob_data_utils.svm_calculation import lob_svm\n",
    "import os\n",
    "\n",
    "\n",
    "sns.set_style('whitegrid')\n",
    "warnings.filterwarnings('ignore')"
   ]
  },
  {
   "cell_type": "code",
   "execution_count": 2,
   "metadata": {},
   "outputs": [],
   "source": [
    "data_length = 10000\n",
    "rs_params = [(0.1, 1.0), (1.0, 0.1), (1.0, 1.0), (0.1, 0.1), (0.01, 1.0), (0.01, 0.1)]\n",
    "stocks = list(roc_results.result_cv_10000.keys())\n",
    "data_dir = 'res_mlp_pca_gdf_que_prev10'"
   ]
  },
  {
   "cell_type": "code",
   "execution_count": 3,
   "metadata": {},
   "outputs": [],
   "source": [
    "def get_mean_scores(scores: dict) -> dict:\n",
    "    mean_scores = {}\n",
    "    for k, v in scores.items():\n",
    "        mean_scores[k] = np.mean(v)\n",
    "    return mean_scores\n",
    "\n",
    "def get_score_for_clf(clf, df_test):\n",
    "    x_test = df_test[['queue_imbalance']]\n",
    "    y_test = df_test['mid_price_indicator'].values\n",
    "    return model.test_model(clf, x_test, y_test)\n",
    "\n",
    "def get_logistic_regression(stock, data_length):\n",
    "    df, df_test = lob.load_prepared_data(\n",
    "        stock, data_dir='../gaussian_filter/data', cv=False, length=data_length)\n",
    "    clf = LogisticRegression()\n",
    "    train_x = df[['queue_imbalance']]\n",
    "\n",
    "    scores = model.validate_model(clf, train_x, df['mid_price_indicator'], folds=2)\n",
    "    res = {\n",
    "        **get_mean_scores(scores),\n",
    "        'stock': stock,\n",
    "        'kernel': 'logistic',\n",
    "    }\n",
    "    test_scores = get_score_for_clf(clf, df_test)\n",
    "    return {**res, **test_scores}"
   ]
  },
  {
   "cell_type": "code",
   "execution_count": 4,
   "metadata": {},
   "outputs": [
    {
     "data": {
      "text/html": [
       "<div>\n",
       "<style scoped>\n",
       "    .dataframe tbody tr th:only-of-type {\n",
       "        vertical-align: middle;\n",
       "    }\n",
       "\n",
       "    .dataframe tbody tr th {\n",
       "        vertical-align: top;\n",
       "    }\n",
       "\n",
       "    .dataframe thead th {\n",
       "        text-align: right;\n",
       "    }\n",
       "</style>\n",
       "<table border=\"1\" class=\"dataframe\">\n",
       "  <thead>\n",
       "    <tr style=\"text-align: right;\">\n",
       "      <th></th>\n",
       "      <th>stock</th>\n",
       "      <th>hidden_layer_sizes</th>\n",
       "      <th>matthews</th>\n",
       "      <th>roc_auc</th>\n",
       "      <th>test_matthews</th>\n",
       "      <th>test_roc_auc</th>\n",
       "      <th>r</th>\n",
       "      <th>s</th>\n",
       "    </tr>\n",
       "  </thead>\n",
       "  <tbody>\n",
       "    <tr>\n",
       "      <th>12</th>\n",
       "      <td>11946</td>\n",
       "      <td>(8, 16)</td>\n",
       "      <td>0.193830</td>\n",
       "      <td>0.595376</td>\n",
       "      <td>0.201930</td>\n",
       "      <td>0.599834</td>\n",
       "      <td>0.10</td>\n",
       "      <td>0.1</td>\n",
       "    </tr>\n",
       "    <tr>\n",
       "      <th>4</th>\n",
       "      <td>3879</td>\n",
       "      <td>(8, 16)</td>\n",
       "      <td>0.176045</td>\n",
       "      <td>0.587324</td>\n",
       "      <td>0.099171</td>\n",
       "      <td>0.549295</td>\n",
       "      <td>0.10</td>\n",
       "      <td>0.1</td>\n",
       "    </tr>\n",
       "    <tr>\n",
       "      <th>14</th>\n",
       "      <td>7858</td>\n",
       "      <td>(16, 8)</td>\n",
       "      <td>0.174937</td>\n",
       "      <td>0.586756</td>\n",
       "      <td>0.138448</td>\n",
       "      <td>0.564298</td>\n",
       "      <td>0.10</td>\n",
       "      <td>1.0</td>\n",
       "    </tr>\n",
       "    <tr>\n",
       "      <th>8</th>\n",
       "      <td>4320</td>\n",
       "      <td>(8, 16)</td>\n",
       "      <td>0.170416</td>\n",
       "      <td>0.584709</td>\n",
       "      <td>0.161428</td>\n",
       "      <td>0.580071</td>\n",
       "      <td>0.01</td>\n",
       "      <td>1.0</td>\n",
       "    </tr>\n",
       "    <tr>\n",
       "      <th>4</th>\n",
       "      <td>3035</td>\n",
       "      <td>(8, 16)</td>\n",
       "      <td>0.170008</td>\n",
       "      <td>0.584310</td>\n",
       "      <td>0.101339</td>\n",
       "      <td>0.550399</td>\n",
       "      <td>0.10</td>\n",
       "      <td>1.0</td>\n",
       "    </tr>\n",
       "  </tbody>\n",
       "</table>\n",
       "</div>"
      ],
      "text/plain": [
       "    stock hidden_layer_sizes  matthews   roc_auc  test_matthews  test_roc_auc  \\\n",
       "12  11946            (8, 16)  0.193830  0.595376       0.201930      0.599834   \n",
       "4    3879            (8, 16)  0.176045  0.587324       0.099171      0.549295   \n",
       "14   7858            (16, 8)  0.174937  0.586756       0.138448      0.564298   \n",
       "8    4320            (8, 16)  0.170416  0.584709       0.161428      0.580071   \n",
       "4    3035            (8, 16)  0.170008  0.584310       0.101339      0.550399   \n",
       "\n",
       "       r    s  \n",
       "12  0.10  0.1  \n",
       "4   0.10  0.1  \n",
       "14  0.10  1.0  \n",
       "8   0.01  1.0  \n",
       "4   0.10  1.0  "
      ]
     },
     "execution_count": 4,
     "metadata": {},
     "output_type": "execute_result"
    }
   ],
   "source": [
    "df_res = pd.DataFrame()\n",
    "for stock in stocks:\n",
    "    for r, s in rs_params:\n",
    "        filename = data_dir + '/mlp_pca_gdf_{}_len{}_r{}_s{}.csv'.format(stock, data_length, r, s)\n",
    "        if os.path.exists(filename):\n",
    "            df_temp = pd.read_csv(filename)\n",
    "            df_temp['r'] = [r] * len(df_temp)\n",
    "            df_temp['s'] = [s] * len(df_temp)\n",
    "            df_res = df_res.append(df_temp)\n",
    "columns = ['stock', 'hidden_layer_sizes', \n",
    "           'matthews', 'roc_auc',  'test_matthews', 'test_roc_auc', 'r', 's']\n",
    "df_res[columns].sort_values(by='matthews', ascending=False).groupby('stock').head(1).head(5)"
   ]
  },
  {
   "cell_type": "markdown",
   "metadata": {},
   "source": [
    "Above we see a few results for the best MLP classifiers (sorted by MCC validation score `matthews`). The results are not perfect - for sure for some of them we are overfitting (f.e. 3879 difference between validation and test scores is big)."
   ]
  },
  {
   "cell_type": "code",
   "execution_count": 5,
   "metadata": {},
   "outputs": [],
   "source": [
    "df_gdf_best = df_res[columns].sort_values(by='matthews', ascending=False).groupby('stock').head(1)\n",
    "df_gdf_best['stock'] = df_gdf_best['stock'].values.astype(np.int)\n",
    "df_gdf_best.index = df_gdf_best['stock'].values.astype(np.int)"
   ]
  },
  {
   "cell_type": "code",
   "execution_count": 6,
   "metadata": {},
   "outputs": [
    {
     "data": {
      "text/plain": [
       "Text(0.5,1,'MCC score distribution for different r and s parameters for validation set')"
      ]
     },
     "execution_count": 6,
     "metadata": {},
     "output_type": "execute_result"
    },
    {
     "data": {
      "image/png": "[encoded data removed]",
      "text/plain": [
       "<Figure size 1152x576 with 1 Axes>"
      ]
     },
     "metadata": {},
     "output_type": "display_data"
    }
   ],
   "source": [
    "r_s_dict = OrderedDict()\n",
    "r_parameters = [0.01, 0.1, 1.0]\n",
    "s_parameters = [0.1, 1.0]\n",
    "for r in r_parameters:\n",
    "    for s in s_parameters:\n",
    "        r_s_dict[\n",
    "            'r={}, s={}'.format(r, s)] = df_gdf_best[df_gdf_best['r'] == r][df_gdf_best['s'] == s][\n",
    "            'matthews'].values\n",
    "\n",
    "plt.figure(figsize=(16, 8))\n",
    "ax = sns.boxplot(data=list(r_s_dict.values()))\n",
    "plt.ylabel('ROC area score')\n",
    "plt.xlabel('Parameters r and s')\n",
    "_ = ax.set_xticklabels(list(r_s_dict.keys()), rotation=45)\n",
    "plt.title('MCC score distribution for different r and s parameters for validation set')"
   ]
  },
  {
   "cell_type": "code",
   "execution_count": 7,
   "metadata": {},
   "outputs": [
    {
     "data": {
      "text/html": [
       "<div>\n",
       "<style scoped>\n",
       "    .dataframe tbody tr th:only-of-type {\n",
       "        vertical-align: middle;\n",
       "    }\n",
       "\n",
       "    .dataframe tbody tr th {\n",
       "        vertical-align: top;\n",
       "    }\n",
       "\n",
       "    .dataframe thead th {\n",
       "        text-align: right;\n",
       "    }\n",
       "</style>\n",
       "<table border=\"1\" class=\"dataframe\">\n",
       "  <thead>\n",
       "    <tr style=\"text-align: right;\">\n",
       "      <th></th>\n",
       "      <th>matthews_mlp</th>\n",
       "      <th>matthews_log</th>\n",
       "      <th>test_matthews_mlp</th>\n",
       "      <th>test_matthews_log</th>\n",
       "      <th>roc_auc_mlp</th>\n",
       "      <th>roc_auc_log</th>\n",
       "      <th>test_roc_auc_mlp</th>\n",
       "      <th>test_roc_auc_log</th>\n",
       "      <th>stock</th>\n",
       "      <th>matthews_diff</th>\n",
       "      <th>matthews_test_diff</th>\n",
       "    </tr>\n",
       "  </thead>\n",
       "  <tbody>\n",
       "    <tr>\n",
       "      <th>0</th>\n",
       "      <td>0.193830</td>\n",
       "      <td>0.195228</td>\n",
       "      <td>0.201930</td>\n",
       "      <td>0.207584</td>\n",
       "      <td>0.595376</td>\n",
       "      <td>0.597678</td>\n",
       "      <td>0.599834</td>\n",
       "      <td>0.603555</td>\n",
       "      <td>11946</td>\n",
       "      <td>-0.001398</td>\n",
       "      <td>-0.005654</td>\n",
       "    </tr>\n",
       "    <tr>\n",
       "      <th>1</th>\n",
       "      <td>0.176045</td>\n",
       "      <td>0.156645</td>\n",
       "      <td>0.099171</td>\n",
       "      <td>0.109705</td>\n",
       "      <td>0.587324</td>\n",
       "      <td>0.577662</td>\n",
       "      <td>0.549295</td>\n",
       "      <td>0.554478</td>\n",
       "      <td>3879</td>\n",
       "      <td>0.019400</td>\n",
       "      <td>-0.010534</td>\n",
       "    </tr>\n",
       "    <tr>\n",
       "      <th>2</th>\n",
       "      <td>0.174937</td>\n",
       "      <td>0.153560</td>\n",
       "      <td>0.138448</td>\n",
       "      <td>0.171398</td>\n",
       "      <td>0.586756</td>\n",
       "      <td>0.576792</td>\n",
       "      <td>0.564298</td>\n",
       "      <td>0.584732</td>\n",
       "      <td>7858</td>\n",
       "      <td>0.021377</td>\n",
       "      <td>-0.032950</td>\n",
       "    </tr>\n",
       "    <tr>\n",
       "      <th>3</th>\n",
       "      <td>0.170416</td>\n",
       "      <td>0.186482</td>\n",
       "      <td>0.161428</td>\n",
       "      <td>0.154918</td>\n",
       "      <td>0.584709</td>\n",
       "      <td>0.592922</td>\n",
       "      <td>0.580071</td>\n",
       "      <td>0.577343</td>\n",
       "      <td>4320</td>\n",
       "      <td>-0.016067</td>\n",
       "      <td>0.006510</td>\n",
       "    </tr>\n",
       "    <tr>\n",
       "      <th>4</th>\n",
       "      <td>0.170008</td>\n",
       "      <td>0.180586</td>\n",
       "      <td>0.101339</td>\n",
       "      <td>0.097073</td>\n",
       "      <td>0.584310</td>\n",
       "      <td>0.590223</td>\n",
       "      <td>0.550399</td>\n",
       "      <td>0.548374</td>\n",
       "      <td>3035</td>\n",
       "      <td>-0.010579</td>\n",
       "      <td>0.004266</td>\n",
       "    </tr>\n",
       "  </tbody>\n",
       "</table>\n",
       "</div>"
      ],
      "text/plain": [
       "   matthews_mlp  matthews_log  test_matthews_mlp  test_matthews_log  \\\n",
       "0      0.193830      0.195228           0.201930           0.207584   \n",
       "1      0.176045      0.156645           0.099171           0.109705   \n",
       "2      0.174937      0.153560           0.138448           0.171398   \n",
       "3      0.170416      0.186482           0.161428           0.154918   \n",
       "4      0.170008      0.180586           0.101339           0.097073   \n",
       "\n",
       "   roc_auc_mlp  roc_auc_log  test_roc_auc_mlp  test_roc_auc_log  stock  \\\n",
       "0     0.595376     0.597678          0.599834          0.603555  11946   \n",
       "1     0.587324     0.577662          0.549295          0.554478   3879   \n",
       "2     0.586756     0.576792          0.564298          0.584732   7858   \n",
       "3     0.584709     0.592922          0.580071          0.577343   4320   \n",
       "4     0.584310     0.590223          0.550399          0.548374   3035   \n",
       "\n",
       "   matthews_diff  matthews_test_diff  \n",
       "0      -0.001398           -0.005654  \n",
       "1       0.019400           -0.010534  \n",
       "2       0.021377           -0.032950  \n",
       "3      -0.016067            0.006510  \n",
       "4      -0.010579            0.004266  "
      ]
     },
     "execution_count": 7,
     "metadata": {},
     "output_type": "execute_result"
    }
   ],
   "source": [
    "log_res = []\n",
    "for stock in stocks:\n",
    "    log_res.append(get_logistic_regression(stock, data_length))\n",
    "df_log_res = pd.DataFrame(log_res)\n",
    "df_log_res['stock'] = df_log_res['stock'].values.astype(np.int)\n",
    "df_log_res.index = df_log_res['stock'].values.astype(np.int)\n",
    "df_all = pd.merge(df_gdf_best, df_log_res, on='stock', suffixes=['_mlp', '_log'])\n",
    "df_all['matthews_diff'] = df_all['matthews_mlp'] -  df_all['matthews_log']\n",
    "df_all['matthews_test_diff'] = df_all['test_matthews_mlp'] - df_all['test_matthews_log']\n",
    "all_columns = ['matthews_mlp', 'matthews_log',  'test_matthews_mlp','test_matthews_log', \n",
    "       'roc_auc_mlp', 'roc_auc_log', 'test_roc_auc_mlp',  'test_roc_auc_log', 'stock',\n",
    "              'matthews_diff', 'matthews_test_diff']\n",
    "\n",
    "df_all[all_columns].head()"
   ]
  },
  {
   "cell_type": "markdown",
   "metadata": {},
   "source": [
    "Above we have LR+QUE scores combined with GDF+PCA+MLP."
   ]
  },
  {
   "cell_type": "code",
   "execution_count": 8,
   "metadata": {},
   "outputs": [
    {
     "name": "stdout",
     "output_type": "stream",
     "text": [
      "Median of difference of MCC scores on validation and testing set\n",
      "0.008455976615747068 0.00290996036730988\n",
      "Mean of difference of MCC scores on validation and testing set\n",
      "0.007842720291149779 0.002889854915793175\n"
     ]
    },
    {
     "data": {
      "image/png": "[encoded data removed]",
      "text/plain": [
       "<Figure size 432x288 with 1 Axes>"
      ]
     },
     "metadata": {},
     "output_type": "display_data"
    }
   ],
   "source": [
    "sns.distplot(df_all['matthews_diff'], label='training')\n",
    "sns.distplot(df_all['matthews_test_diff'], label='testing')\n",
    "plt.legend()\n",
    "plt.title('Distribution of differences between GDF+PCA+MLP and LR+QUE MCC scores on validation and training set')\n",
    "\n",
    "print('Median of difference of MCC scores on validation and testing set')\n",
    "print(df_all['matthews_diff'].median(), df_all['matthews_test_diff'].median())\n",
    "print('Mean of difference of MCC scores on validation and testing set')\n",
    "print(df_all['matthews_diff'].mean(), df_all['matthews_test_diff'].mean())"
   ]
  },
  {
   "cell_type": "code",
   "execution_count": 9,
   "metadata": {},
   "outputs": [
    {
     "data": {
      "text/plain": [
       "<matplotlib.legend.Legend at 0x7fb9ea43b6a0>"
      ]
     },
     "execution_count": 9,
     "metadata": {},
     "output_type": "execute_result"
    },
    {
     "data": {
      "image/png": "[encoded data removed]",
      "text/plain": [
       "<Figure size 432x288 with 1 Axes>"
      ]
     },
     "metadata": {},
     "output_type": "display_data"
    }
   ],
   "source": [
    "sns.distplot(df_all['matthews_mlp'], label='GDF+PCA+MLP')\n",
    "sns.distplot(df_all['matthews_log'], label='LR')\n",
    "plt.title('Distribution of MCC validation scores for the best classifiers')\n",
    "plt.legend()"
   ]
  },
  {
   "cell_type": "code",
   "execution_count": 10,
   "metadata": {},
   "outputs": [
    {
     "name": "stdout",
     "output_type": "stream",
     "text": [
      "Number of better stocks for which we got better results using MLP+PCA+GDF approachthan for Logistic Regression with Queue Imbalance:\n",
      "validation set 34\n",
      "test_set 33\n",
      "total number of stocks 53\n"
     ]
    }
   ],
   "source": [
    "print('Number of better stocks for which we got better results using MLP+PCA+GDF approach'\n",
    "      'than for Logistic Regression with Queue Imbalance:')\n",
    "\n",
    "print('validation set', len(df_all[df_all['matthews_mlp'] > df_all['matthews_log']][all_columns]))\n",
    "print('test_set', len(df_all[df_all['test_matthews_mlp'] > df_all['test_matthews_log']]))\n",
    "print('total number of stocks', len(df_all))"
   ]
  },
  {
   "cell_type": "code",
   "execution_count": 11,
   "metadata": {},
   "outputs": [
    {
     "name": "stdout",
     "output_type": "stream",
     "text": [
      "Median of difference for stocks which were worse for MLP than LR+QUE\n"
     ]
    },
    {
     "data": {
      "text/plain": [
       "-0.010984430938083045"
      ]
     },
     "execution_count": 11,
     "metadata": {},
     "output_type": "execute_result"
    },
    {
     "data": {
      "image/png": "[encoded data removed]",
      "text/plain": [
       "<Figure size 432x288 with 1 Axes>"
      ]
     },
     "metadata": {},
     "output_type": "display_data"
    }
   ],
   "source": [
    "sns.distplot(df_all[df_all['test_matthews_mlp'] < df_all['test_matthews_log']]['matthews_test_diff'])\n",
    "plt.title('Distribution of differences between MLP and LR+QUE MCC scores when it performed worse than LR+QUE')\n",
    "print('Median of difference for stocks which were worse for MLP than LR+QUE')\n",
    "df_all[df_all['test_matthews_mlp'] < df_all['test_matthews_log']]['matthews_test_diff'].median()"
   ]
  },
  {
   "cell_type": "code",
   "execution_count": 12,
   "metadata": {},
   "outputs": [
    {
     "name": "stdout",
     "output_type": "stream",
     "text": [
      "Number of better stocks for which we got better scores using ROC Area score using MLP+PCA+GDF approachthan for Logistic Regression with Queue Imbalance:\n",
      "validation set 34\n",
      "test_set 29\n",
      "total number of stocks 53\n"
     ]
    }
   ],
   "source": [
    "print('Number of better stocks for which we got better scores using ROC Area score using MLP+PCA+GDF approach'\n",
    "      'than for Logistic Regression with Queue Imbalance:')\n",
    "\n",
    "print('validation set', len(df_all[df_all['roc_auc_mlp'] > df_all['roc_auc_log']][all_columns]))\n",
    "print('test_set', len(df_all[df_all['test_roc_auc_mlp'] > df_all['test_roc_auc_log']]))\n",
    "print('total number of stocks', len(df_all))"
   ]
  },
  {
   "cell_type": "code",
   "execution_count": 13,
   "metadata": {},
   "outputs": [
    {
     "data": {
      "text/html": [
       "<div>\n",
       "<style scoped>\n",
       "    .dataframe tbody tr th:only-of-type {\n",
       "        vertical-align: middle;\n",
       "    }\n",
       "\n",
       "    .dataframe tbody tr th {\n",
       "        vertical-align: top;\n",
       "    }\n",
       "\n",
       "    .dataframe thead th {\n",
       "        text-align: right;\n",
       "    }\n",
       "</style>\n",
       "<table border=\"1\" class=\"dataframe\">\n",
       "  <thead>\n",
       "    <tr style=\"text-align: right;\">\n",
       "      <th></th>\n",
       "      <th>matthews_mlp</th>\n",
       "      <th>matthews_log</th>\n",
       "      <th>test_matthews_mlp</th>\n",
       "      <th>test_matthews_log</th>\n",
       "      <th>roc_auc_mlp</th>\n",
       "      <th>roc_auc_log</th>\n",
       "      <th>test_roc_auc_mlp</th>\n",
       "      <th>test_roc_auc_log</th>\n",
       "      <th>stock</th>\n",
       "      <th>matthews_diff</th>\n",
       "      <th>matthews_test_diff</th>\n",
       "    </tr>\n",
       "  </thead>\n",
       "  <tbody>\n",
       "    <tr>\n",
       "      <th>0</th>\n",
       "      <td>0.193830</td>\n",
       "      <td>0.195228</td>\n",
       "      <td>0.201930</td>\n",
       "      <td>0.207584</td>\n",
       "      <td>0.595376</td>\n",
       "      <td>0.597678</td>\n",
       "      <td>0.599834</td>\n",
       "      <td>0.603555</td>\n",
       "      <td>11946</td>\n",
       "      <td>-0.001398</td>\n",
       "      <td>-0.005654</td>\n",
       "    </tr>\n",
       "    <tr>\n",
       "      <th>1</th>\n",
       "      <td>0.176045</td>\n",
       "      <td>0.156645</td>\n",
       "      <td>0.099171</td>\n",
       "      <td>0.109705</td>\n",
       "      <td>0.587324</td>\n",
       "      <td>0.577662</td>\n",
       "      <td>0.549295</td>\n",
       "      <td>0.554478</td>\n",
       "      <td>3879</td>\n",
       "      <td>0.019400</td>\n",
       "      <td>-0.010534</td>\n",
       "    </tr>\n",
       "    <tr>\n",
       "      <th>2</th>\n",
       "      <td>0.174937</td>\n",
       "      <td>0.153560</td>\n",
       "      <td>0.138448</td>\n",
       "      <td>0.171398</td>\n",
       "      <td>0.586756</td>\n",
       "      <td>0.576792</td>\n",
       "      <td>0.564298</td>\n",
       "      <td>0.584732</td>\n",
       "      <td>7858</td>\n",
       "      <td>0.021377</td>\n",
       "      <td>-0.032950</td>\n",
       "    </tr>\n",
       "    <tr>\n",
       "      <th>5</th>\n",
       "      <td>0.161776</td>\n",
       "      <td>0.144501</td>\n",
       "      <td>0.118693</td>\n",
       "      <td>0.123164</td>\n",
       "      <td>0.578453</td>\n",
       "      <td>0.570231</td>\n",
       "      <td>0.556268</td>\n",
       "      <td>0.557401</td>\n",
       "      <td>1472</td>\n",
       "      <td>0.017275</td>\n",
       "      <td>-0.004471</td>\n",
       "    </tr>\n",
       "    <tr>\n",
       "      <th>12</th>\n",
       "      <td>0.150362</td>\n",
       "      <td>0.156086</td>\n",
       "      <td>0.141941</td>\n",
       "      <td>0.143297</td>\n",
       "      <td>0.574519</td>\n",
       "      <td>0.577835</td>\n",
       "      <td>0.570933</td>\n",
       "      <td>0.571621</td>\n",
       "      <td>11869</td>\n",
       "      <td>-0.005724</td>\n",
       "      <td>-0.001356</td>\n",
       "    </tr>\n",
       "  </tbody>\n",
       "</table>\n",
       "</div>"
      ],
      "text/plain": [
       "    matthews_mlp  matthews_log  test_matthews_mlp  test_matthews_log  \\\n",
       "0       0.193830      0.195228           0.201930           0.207584   \n",
       "1       0.176045      0.156645           0.099171           0.109705   \n",
       "2       0.174937      0.153560           0.138448           0.171398   \n",
       "5       0.161776      0.144501           0.118693           0.123164   \n",
       "12      0.150362      0.156086           0.141941           0.143297   \n",
       "\n",
       "    roc_auc_mlp  roc_auc_log  test_roc_auc_mlp  test_roc_auc_log  stock  \\\n",
       "0      0.595376     0.597678          0.599834          0.603555  11946   \n",
       "1      0.587324     0.577662          0.549295          0.554478   3879   \n",
       "2      0.586756     0.576792          0.564298          0.584732   7858   \n",
       "5      0.578453     0.570231          0.556268          0.557401   1472   \n",
       "12     0.574519     0.577835          0.570933          0.571621  11869   \n",
       "\n",
       "    matthews_diff  matthews_test_diff  \n",
       "0       -0.001398           -0.005654  \n",
       "1        0.019400           -0.010534  \n",
       "2        0.021377           -0.032950  \n",
       "5        0.017275           -0.004471  \n",
       "12      -0.005724           -0.001356  "
      ]
     },
     "execution_count": 13,
     "metadata": {},
     "output_type": "execute_result"
    }
   ],
   "source": [
    "df_all[df_all['test_matthews_mlp'] < df_all['test_matthews_log']][all_columns].head()"
   ]
  },
  {
   "cell_type": "code",
   "execution_count": 14,
   "metadata": {},
   "outputs": [
    {
     "data": {
      "text/html": [
       "<div>\n",
       "<style scoped>\n",
       "    .dataframe tbody tr th:only-of-type {\n",
       "        vertical-align: middle;\n",
       "    }\n",
       "\n",
       "    .dataframe tbody tr th {\n",
       "        vertical-align: top;\n",
       "    }\n",
       "\n",
       "    .dataframe thead th {\n",
       "        text-align: right;\n",
       "    }\n",
       "</style>\n",
       "<table border=\"1\" class=\"dataframe\">\n",
       "  <thead>\n",
       "    <tr style=\"text-align: right;\">\n",
       "      <th></th>\n",
       "      <th>matthews_mlp</th>\n",
       "      <th>matthews_log</th>\n",
       "      <th>test_matthews_mlp</th>\n",
       "      <th>test_matthews_log</th>\n",
       "      <th>roc_auc_mlp</th>\n",
       "      <th>roc_auc_log</th>\n",
       "      <th>test_roc_auc_mlp</th>\n",
       "      <th>test_roc_auc_log</th>\n",
       "      <th>stock</th>\n",
       "      <th>matthews_diff</th>\n",
       "      <th>matthews_test_diff</th>\n",
       "    </tr>\n",
       "  </thead>\n",
       "  <tbody>\n",
       "    <tr>\n",
       "      <th>0</th>\n",
       "      <td>0.193830</td>\n",
       "      <td>0.195228</td>\n",
       "      <td>0.201930</td>\n",
       "      <td>0.207584</td>\n",
       "      <td>0.595376</td>\n",
       "      <td>0.597678</td>\n",
       "      <td>0.599834</td>\n",
       "      <td>0.603555</td>\n",
       "      <td>11946</td>\n",
       "      <td>-0.001398</td>\n",
       "      <td>-0.005654</td>\n",
       "    </tr>\n",
       "    <tr>\n",
       "      <th>1</th>\n",
       "      <td>0.176045</td>\n",
       "      <td>0.156645</td>\n",
       "      <td>0.099171</td>\n",
       "      <td>0.109705</td>\n",
       "      <td>0.587324</td>\n",
       "      <td>0.577662</td>\n",
       "      <td>0.549295</td>\n",
       "      <td>0.554478</td>\n",
       "      <td>3879</td>\n",
       "      <td>0.019400</td>\n",
       "      <td>-0.010534</td>\n",
       "    </tr>\n",
       "    <tr>\n",
       "      <th>2</th>\n",
       "      <td>0.174937</td>\n",
       "      <td>0.153560</td>\n",
       "      <td>0.138448</td>\n",
       "      <td>0.171398</td>\n",
       "      <td>0.586756</td>\n",
       "      <td>0.576792</td>\n",
       "      <td>0.564298</td>\n",
       "      <td>0.584732</td>\n",
       "      <td>7858</td>\n",
       "      <td>0.021377</td>\n",
       "      <td>-0.032950</td>\n",
       "    </tr>\n",
       "    <tr>\n",
       "      <th>5</th>\n",
       "      <td>0.161776</td>\n",
       "      <td>0.144501</td>\n",
       "      <td>0.118693</td>\n",
       "      <td>0.123164</td>\n",
       "      <td>0.578453</td>\n",
       "      <td>0.570231</td>\n",
       "      <td>0.556268</td>\n",
       "      <td>0.557401</td>\n",
       "      <td>1472</td>\n",
       "      <td>0.017275</td>\n",
       "      <td>-0.004471</td>\n",
       "    </tr>\n",
       "    <tr>\n",
       "      <th>7</th>\n",
       "      <td>0.159369</td>\n",
       "      <td>0.176488</td>\n",
       "      <td>0.111070</td>\n",
       "      <td>0.110441</td>\n",
       "      <td>0.578566</td>\n",
       "      <td>0.588278</td>\n",
       "      <td>0.555151</td>\n",
       "      <td>0.555225</td>\n",
       "      <td>10484</td>\n",
       "      <td>-0.017119</td>\n",
       "      <td>0.000629</td>\n",
       "    </tr>\n",
       "  </tbody>\n",
       "</table>\n",
       "</div>"
      ],
      "text/plain": [
       "   matthews_mlp  matthews_log  test_matthews_mlp  test_matthews_log  \\\n",
       "0      0.193830      0.195228           0.201930           0.207584   \n",
       "1      0.176045      0.156645           0.099171           0.109705   \n",
       "2      0.174937      0.153560           0.138448           0.171398   \n",
       "5      0.161776      0.144501           0.118693           0.123164   \n",
       "7      0.159369      0.176488           0.111070           0.110441   \n",
       "\n",
       "   roc_auc_mlp  roc_auc_log  test_roc_auc_mlp  test_roc_auc_log  stock  \\\n",
       "0     0.595376     0.597678          0.599834          0.603555  11946   \n",
       "1     0.587324     0.577662          0.549295          0.554478   3879   \n",
       "2     0.586756     0.576792          0.564298          0.584732   7858   \n",
       "5     0.578453     0.570231          0.556268          0.557401   1472   \n",
       "7     0.578566     0.588278          0.555151          0.555225  10484   \n",
       "\n",
       "   matthews_diff  matthews_test_diff  \n",
       "0      -0.001398           -0.005654  \n",
       "1       0.019400           -0.010534  \n",
       "2       0.021377           -0.032950  \n",
       "5       0.017275           -0.004471  \n",
       "7      -0.017119            0.000629  "
      ]
     },
     "execution_count": 14,
     "metadata": {},
     "output_type": "execute_result"
    }
   ],
   "source": [
    "df_all[df_all['test_roc_auc_mlp'] < df_all['test_roc_auc_log']][all_columns].head()"
   ]
  },
  {
   "cell_type": "markdown",
   "metadata": {},
   "source": [
    "## Conclusion\n",
    "\n",
    "A bit of further hyper-parameter tuning for some stocks will be needed, because it is possible that we are overfitting. Still GDF+PCA+MLP approach performs better for more than half of the stocks. We didn't try many hyper-parameters."
   ]
  }
 ],
 "metadata": {
  "kernelspec": {
   "display_name": "Python 3",
   "language": "python",
   "name": "python3"
  },
  "language_info": {
   "codemirror_mode": {
    "name": "ipython",
    "version": 3
   },
   "file_extension": ".py",
   "mimetype": "text/x-python",
   "name": "python",
   "nbconvert_exporter": "python",
   "pygments_lexer": "ipython3",
   "version": "3.6.5"
  }
 },
 "nbformat": 4,
 "nbformat_minor": 2
}
