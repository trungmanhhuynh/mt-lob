{
 "cells": [
  {
   "cell_type": "code",
   "execution_count": 1,
   "metadata": {
    "collapsed": true
   },
   "outputs": [],
   "source": [
    "%load_ext autoreload\n",
    "\n",
    "%autoreload 2\n",
    "%matplotlib inline\n",
    "import pandas as pd\n",
    "import matplotlib.pyplot as plt\n",
    "import seaborn as sns\n",
    "from sklearn.cluster import KMeans\n",
    "from sklearn.svm import SVC\n",
    "from sklearn.decomposition import PCA\n",
    "from sklearn import metrics\n",
    "\n",
    "# from mlxtend.plotting import plot_decision_regions\n",
    "from sklearn import preprocessing\n",
    "from sklearn.linear_model import LogisticRegression\n",
    "from ast import literal_eval\n",
    "\n",
    "import warnings\n",
    "import numpy as np\n",
    "from collections import OrderedDict\n",
    "\n",
    "from lob_data_utils import lob, db_result, model, roc_results\n",
    "from lob_data_utils.svm_calculation import lob_svm\n",
    "import os\n",
    "\n",
    "\n",
    "sns.set_style('whitegrid')\n",
    "warnings.filterwarnings('ignore')"
   ]
  },
  {
   "cell_type": "code",
   "execution_count": 2,
   "metadata": {
    "collapsed": true
   },
   "outputs": [],
   "source": [
    "data_length = 10000\n",
    "r = 0.1\n",
    "s = 0.1\n",
    "stocks = list(roc_results.result_cv_10000.keys())"
   ]
  },
  {
   "cell_type": "code",
   "execution_count": 3,
   "metadata": {
    "collapsed": true
   },
   "outputs": [],
   "source": [
    "def get_mean_scores(scores: dict) -> dict:\n",
    "    mean_scores = {}\n",
    "    for k, v in scores.items():\n",
    "        mean_scores[k] = np.mean(v)\n",
    "    return mean_scores\n",
    "\n",
    "def get_score_for_clf(clf, df_test):\n",
    "    x_test = df_test[['queue_imbalance']]\n",
    "    y_test = df_test['mid_price_indicator'].values\n",
    "    return model.test_model(clf, x_test, y_test)\n",
    "\n",
    "def get_logistic_regression(stock, data_length):\n",
    "    df, df_test = lob.load_prepared_data(\n",
    "        stock, data_dir='../gaussian_filter/data', cv=False, length=data_length)\n",
    "    clf = LogisticRegression()\n",
    "    train_x = df[['queue_imbalance']]\n",
    "\n",
    "    scores = model.validate_model(clf, train_x, df['mid_price_indicator'])\n",
    "    res = {\n",
    "        **get_mean_scores(scores),\n",
    "        'stock': stock,\n",
    "        'kernel': 'logistic',\n",
    "    }\n",
    "    test_scores = get_score_for_clf(clf, df_test)\n",
    "    return {**res, **test_scores}"
   ]
  },
  {
   "cell_type": "code",
   "execution_count": 4,
   "metadata": {},
   "outputs": [
    {
     "data": {
      "text/html": [
       "<div>\n",
       "<style>\n",
       "    .dataframe thead tr:only-child th {\n",
       "        text-align: right;\n",
       "    }\n",
       "\n",
       "    .dataframe thead th {\n",
       "        text-align: left;\n",
       "    }\n",
       "\n",
       "    .dataframe tbody tr th {\n",
       "        vertical-align: top;\n",
       "    }\n",
       "</style>\n",
       "<table border=\"1\" class=\"dataframe\">\n",
       "  <thead>\n",
       "    <tr style=\"text-align: right;\">\n",
       "      <th></th>\n",
       "      <th>C</th>\n",
       "      <th>f1</th>\n",
       "      <th>features</th>\n",
       "      <th>gamma</th>\n",
       "      <th>kappa</th>\n",
       "      <th>matthews</th>\n",
       "      <th>roc_auc</th>\n",
       "      <th>stock</th>\n",
       "      <th>test_f1</th>\n",
       "      <th>test_kappa</th>\n",
       "      <th>test_matthews</th>\n",
       "      <th>test_roc_auc</th>\n",
       "    </tr>\n",
       "  </thead>\n",
       "  <tbody>\n",
       "    <tr>\n",
       "      <th>42</th>\n",
       "      <td>1000.0</td>\n",
       "      <td>0.585711</td>\n",
       "      <td>pca_gdf_que7</td>\n",
       "      <td>0.001</td>\n",
       "      <td>0.152738</td>\n",
       "      <td>0.156651</td>\n",
       "      <td>0.576624</td>\n",
       "      <td>1472</td>\n",
       "      <td>0.635364</td>\n",
       "      <td>0.119467</td>\n",
       "      <td>0.122784</td>\n",
       "      <td>0.558790</td>\n",
       "    </tr>\n",
       "    <tr>\n",
       "      <th>45</th>\n",
       "      <td>1000.0</td>\n",
       "      <td>0.520271</td>\n",
       "      <td>pca_gdf_que5</td>\n",
       "      <td>1.000</td>\n",
       "      <td>0.135072</td>\n",
       "      <td>0.139166</td>\n",
       "      <td>0.567845</td>\n",
       "      <td>9270</td>\n",
       "      <td>0.527620</td>\n",
       "      <td>0.085164</td>\n",
       "      <td>0.085445</td>\n",
       "      <td>0.542615</td>\n",
       "    </tr>\n",
       "    <tr>\n",
       "      <th>31</th>\n",
       "      <td>10.0</td>\n",
       "      <td>0.561681</td>\n",
       "      <td>pca_gdf_que_prev2</td>\n",
       "      <td>1.000</td>\n",
       "      <td>0.121475</td>\n",
       "      <td>0.125003</td>\n",
       "      <td>0.560711</td>\n",
       "      <td>9094</td>\n",
       "      <td>0.588732</td>\n",
       "      <td>0.121901</td>\n",
       "      <td>0.122494</td>\n",
       "      <td>0.560852</td>\n",
       "    </tr>\n",
       "    <tr>\n",
       "      <th>42</th>\n",
       "      <td>1000.0</td>\n",
       "      <td>0.515607</td>\n",
       "      <td>pca_gdf_que_prev3</td>\n",
       "      <td>0.001</td>\n",
       "      <td>0.113407</td>\n",
       "      <td>0.117054</td>\n",
       "      <td>0.557108</td>\n",
       "      <td>9063</td>\n",
       "      <td>0.522809</td>\n",
       "      <td>0.069043</td>\n",
       "      <td>0.069199</td>\n",
       "      <td>0.534544</td>\n",
       "    </tr>\n",
       "    <tr>\n",
       "      <th>24</th>\n",
       "      <td>1.0</td>\n",
       "      <td>0.563332</td>\n",
       "      <td>pca_gdf_que2</td>\n",
       "      <td>1.000</td>\n",
       "      <td>0.110648</td>\n",
       "      <td>0.113999</td>\n",
       "      <td>0.555375</td>\n",
       "      <td>9069</td>\n",
       "      <td>0.596476</td>\n",
       "      <td>0.080342</td>\n",
       "      <td>0.082867</td>\n",
       "      <td>0.540038</td>\n",
       "    </tr>\n",
       "  </tbody>\n",
       "</table>\n",
       "</div>"
      ],
      "text/plain": [
       "         C        f1           features  gamma     kappa  matthews   roc_auc  \\\n",
       "42  1000.0  0.585711       pca_gdf_que7  0.001  0.152738  0.156651  0.576624   \n",
       "45  1000.0  0.520271       pca_gdf_que5  1.000  0.135072  0.139166  0.567845   \n",
       "31    10.0  0.561681  pca_gdf_que_prev2  1.000  0.121475  0.125003  0.560711   \n",
       "42  1000.0  0.515607  pca_gdf_que_prev3  0.001  0.113407  0.117054  0.557108   \n",
       "24     1.0  0.563332       pca_gdf_que2  1.000  0.110648  0.113999  0.555375   \n",
       "\n",
       "    stock   test_f1  test_kappa  test_matthews  test_roc_auc  \n",
       "42   1472  0.635364    0.119467       0.122784      0.558790  \n",
       "45   9270  0.527620    0.085164       0.085445      0.542615  \n",
       "31   9094  0.588732    0.121901       0.122494      0.560852  \n",
       "42   9063  0.522809    0.069043       0.069199      0.534544  \n",
       "24   9069  0.596476    0.080342       0.082867      0.540038  "
      ]
     },
     "execution_count": 4,
     "metadata": {},
     "output_type": "execute_result"
    }
   ],
   "source": [
    "df_res = pd.DataFrame()\n",
    "for stock in stocks:\n",
    "    #pd.read_csv('svm_features_{}_len{}_r{}_s{}.csv'.format(stock, data_length, r, s))\n",
    "    filename = 'svm_pca_only_gdf_{}_len{}_r{}_s{}.csv'.format(stock, data_length, r, s)\n",
    "    if os.path.exists(filename):\n",
    "        df_res = df_res.append(pd.read_csv(filename))\n",
    "#df_res.drop(columns=['Unnamed: 0'], inplace=True)\n",
    "columns = ['C', 'f1', 'features', 'gamma', 'kappa',\n",
    "           'matthews', 'roc_auc', 'stock',\n",
    "       'test_f1', 'test_kappa', 'test_matthews', 'test_roc_auc']\n",
    "df_res[columns].sort_values(by='matthews', ascending=False).groupby('stock').head(1)"
   ]
  },
  {
   "cell_type": "code",
   "execution_count": 5,
   "metadata": {
    "collapsed": true
   },
   "outputs": [],
   "source": [
    "log_res = []\n",
    "for stock in stocks:\n",
    "    log_res.append(get_logistic_regression(stock, data_length))\n",
    "df_log_res = pd.DataFrame(log_res)\n",
    "df_log_res['stock'] = df_log_res['stock'].values.astype(np.int)\n",
    "df_log_res.index = df_log_res['stock'].values.astype(np.int)"
   ]
  },
  {
   "cell_type": "code",
   "execution_count": 6,
   "metadata": {
    "collapsed": true
   },
   "outputs": [],
   "source": [
    "df_gdf_best = df_res[columns].sort_values(by='test_matthews', ascending=False).groupby('stock').head(1)\n",
    "df_gdf_best['stock'] = df_gdf_best['stock'].values.astype(np.int)\n",
    "df_gdf_best.index = df_gdf_best['stock'].values.astype(np.int)"
   ]
  },
  {
   "cell_type": "code",
   "execution_count": 7,
   "metadata": {
    "collapsed": true
   },
   "outputs": [],
   "source": [
    "df_all = pd.merge(df_gdf_best, df_log_res, on='stock', suffixes=['_svm', '_log'])"
   ]
  },
  {
   "cell_type": "code",
   "execution_count": 8,
   "metadata": {},
   "outputs": [
    {
     "data": {
      "text/html": [
       "<div>\n",
       "<style>\n",
       "    .dataframe thead tr:only-child th {\n",
       "        text-align: right;\n",
       "    }\n",
       "\n",
       "    .dataframe thead th {\n",
       "        text-align: left;\n",
       "    }\n",
       "\n",
       "    .dataframe tbody tr th {\n",
       "        vertical-align: top;\n",
       "    }\n",
       "</style>\n",
       "<table border=\"1\" class=\"dataframe\">\n",
       "  <thead>\n",
       "    <tr style=\"text-align: right;\">\n",
       "      <th></th>\n",
       "      <th>features</th>\n",
       "      <th>matthews_svm</th>\n",
       "      <th>matthews_log</th>\n",
       "      <th>test_matthews_svm</th>\n",
       "      <th>test_matthews_log</th>\n",
       "      <th>roc_auc_svm</th>\n",
       "      <th>roc_auc_log</th>\n",
       "      <th>test_roc_auc_svm</th>\n",
       "      <th>test_roc_auc_log</th>\n",
       "      <th>stock</th>\n",
       "      <th>f1_svm</th>\n",
       "      <th>f1_log</th>\n",
       "      <th>test_f1_svm</th>\n",
       "      <th>test_f1_log</th>\n",
       "    </tr>\n",
       "  </thead>\n",
       "  <tbody>\n",
       "    <tr>\n",
       "      <th>0</th>\n",
       "      <td>pca_gdf_que_prev2</td>\n",
       "      <td>0.123814</td>\n",
       "      <td>0.120071</td>\n",
       "      <td>0.136019</td>\n",
       "      <td>0.129138</td>\n",
       "      <td>0.560401</td>\n",
       "      <td>0.559200</td>\n",
       "      <td>0.567960</td>\n",
       "      <td>0.564415</td>\n",
       "      <td>9094</td>\n",
       "      <td>0.541219</td>\n",
       "      <td>0.556465</td>\n",
       "      <td>0.580457</td>\n",
       "      <td>0.583333</td>\n",
       "    </tr>\n",
       "    <tr>\n",
       "      <th>1</th>\n",
       "      <td>pca_gdf_que7</td>\n",
       "      <td>0.149064</td>\n",
       "      <td>0.148600</td>\n",
       "      <td>0.128257</td>\n",
       "      <td>0.118223</td>\n",
       "      <td>0.573251</td>\n",
       "      <td>0.572888</td>\n",
       "      <td>0.561548</td>\n",
       "      <td>0.557251</td>\n",
       "      <td>1472</td>\n",
       "      <td>0.580760</td>\n",
       "      <td>0.583823</td>\n",
       "      <td>0.636402</td>\n",
       "      <td>0.627148</td>\n",
       "    </tr>\n",
       "    <tr>\n",
       "      <th>2</th>\n",
       "      <td>pca_gdf_que2</td>\n",
       "      <td>0.087958</td>\n",
       "      <td>0.107065</td>\n",
       "      <td>0.121065</td>\n",
       "      <td>0.115421</td>\n",
       "      <td>0.542579</td>\n",
       "      <td>0.552507</td>\n",
       "      <td>0.559619</td>\n",
       "      <td>0.556709</td>\n",
       "      <td>9069</td>\n",
       "      <td>0.545622</td>\n",
       "      <td>0.556665</td>\n",
       "      <td>0.598353</td>\n",
       "      <td>0.598182</td>\n",
       "    </tr>\n",
       "    <tr>\n",
       "      <th>3</th>\n",
       "      <td>pca_gdf_que5</td>\n",
       "      <td>0.126075</td>\n",
       "      <td>0.129431</td>\n",
       "      <td>0.101088</td>\n",
       "      <td>0.070337</td>\n",
       "      <td>0.557459</td>\n",
       "      <td>0.563917</td>\n",
       "      <td>0.548588</td>\n",
       "      <td>0.534968</td>\n",
       "      <td>9270</td>\n",
       "      <td>0.437023</td>\n",
       "      <td>0.532698</td>\n",
       "      <td>0.477784</td>\n",
       "      <td>0.561171</td>\n",
       "    </tr>\n",
       "    <tr>\n",
       "      <th>4</th>\n",
       "      <td>pca_gdf_que_prev3</td>\n",
       "      <td>0.114035</td>\n",
       "      <td>0.111922</td>\n",
       "      <td>0.076066</td>\n",
       "      <td>0.086004</td>\n",
       "      <td>0.555615</td>\n",
       "      <td>0.554976</td>\n",
       "      <td>0.537993</td>\n",
       "      <td>0.543004</td>\n",
       "      <td>9063</td>\n",
       "      <td>0.515005</td>\n",
       "      <td>0.525106</td>\n",
       "      <td>0.529052</td>\n",
       "      <td>0.545274</td>\n",
       "    </tr>\n",
       "  </tbody>\n",
       "</table>\n",
       "</div>"
      ],
      "text/plain": [
       "            features  matthews_svm  matthews_log  test_matthews_svm  \\\n",
       "0  pca_gdf_que_prev2      0.123814      0.120071           0.136019   \n",
       "1       pca_gdf_que7      0.149064      0.148600           0.128257   \n",
       "2       pca_gdf_que2      0.087958      0.107065           0.121065   \n",
       "3       pca_gdf_que5      0.126075      0.129431           0.101088   \n",
       "4  pca_gdf_que_prev3      0.114035      0.111922           0.076066   \n",
       "\n",
       "   test_matthews_log  roc_auc_svm  roc_auc_log  test_roc_auc_svm  \\\n",
       "0           0.129138     0.560401     0.559200          0.567960   \n",
       "1           0.118223     0.573251     0.572888          0.561548   \n",
       "2           0.115421     0.542579     0.552507          0.559619   \n",
       "3           0.070337     0.557459     0.563917          0.548588   \n",
       "4           0.086004     0.555615     0.554976          0.537993   \n",
       "\n",
       "   test_roc_auc_log  stock    f1_svm    f1_log  test_f1_svm  test_f1_log  \n",
       "0          0.564415   9094  0.541219  0.556465     0.580457     0.583333  \n",
       "1          0.557251   1472  0.580760  0.583823     0.636402     0.627148  \n",
       "2          0.556709   9069  0.545622  0.556665     0.598353     0.598182  \n",
       "3          0.534968   9270  0.437023  0.532698     0.477784     0.561171  \n",
       "4          0.543004   9063  0.515005  0.525106     0.529052     0.545274  "
      ]
     },
     "execution_count": 8,
     "metadata": {},
     "output_type": "execute_result"
    }
   ],
   "source": [
    "all_columns = [ 'features', 'matthews_svm', 'matthews_log',  'test_matthews_svm',  'test_matthews_log',\n",
    "       'roc_auc_svm', 'roc_auc_log', 'test_roc_auc_svm',  'test_roc_auc_log', 'stock', \n",
    "               'f1_svm', 'f1_log', 'test_f1_svm', 'test_f1_log', ]\n",
    "df_all[all_columns]"
   ]
  },
  {
   "cell_type": "code",
   "execution_count": 9,
   "metadata": {},
   "outputs": [
    {
     "data": {
      "text/plain": [
       "(3, 5)"
      ]
     },
     "execution_count": 9,
     "metadata": {},
     "output_type": "execute_result"
    }
   ],
   "source": [
    "len(df_all[df_all['matthews_svm'] > df_all['matthews_log']][all_columns]), len(df_all)"
   ]
  },
  {
   "cell_type": "code",
   "execution_count": 10,
   "metadata": {},
   "outputs": [
    {
     "data": {
      "text/plain": [
       "(3, 5)"
      ]
     },
     "execution_count": 10,
     "metadata": {},
     "output_type": "execute_result"
    }
   ],
   "source": [
    "len(df_all[df_all['roc_auc_svm'] > df_all['roc_auc_log']][all_columns]), len(df_all)"
   ]
  },
  {
   "cell_type": "code",
   "execution_count": 11,
   "metadata": {},
   "outputs": [
    {
     "data": {
      "text/html": [
       "<div>\n",
       "<style>\n",
       "    .dataframe thead tr:only-child th {\n",
       "        text-align: right;\n",
       "    }\n",
       "\n",
       "    .dataframe thead th {\n",
       "        text-align: left;\n",
       "    }\n",
       "\n",
       "    .dataframe tbody tr th {\n",
       "        vertical-align: top;\n",
       "    }\n",
       "</style>\n",
       "<table border=\"1\" class=\"dataframe\">\n",
       "  <thead>\n",
       "    <tr style=\"text-align: right;\">\n",
       "      <th></th>\n",
       "      <th>features</th>\n",
       "      <th>matthews_svm</th>\n",
       "      <th>matthews_log</th>\n",
       "      <th>test_matthews_svm</th>\n",
       "      <th>test_matthews_log</th>\n",
       "      <th>roc_auc_svm</th>\n",
       "      <th>roc_auc_log</th>\n",
       "      <th>test_roc_auc_svm</th>\n",
       "      <th>test_roc_auc_log</th>\n",
       "      <th>stock</th>\n",
       "      <th>f1_svm</th>\n",
       "      <th>f1_log</th>\n",
       "      <th>test_f1_svm</th>\n",
       "      <th>test_f1_log</th>\n",
       "    </tr>\n",
       "  </thead>\n",
       "  <tbody>\n",
       "    <tr>\n",
       "      <th>4</th>\n",
       "      <td>pca_gdf_que_prev3</td>\n",
       "      <td>0.114035</td>\n",
       "      <td>0.111922</td>\n",
       "      <td>0.076066</td>\n",
       "      <td>0.086004</td>\n",
       "      <td>0.555615</td>\n",
       "      <td>0.554976</td>\n",
       "      <td>0.537993</td>\n",
       "      <td>0.543004</td>\n",
       "      <td>9063</td>\n",
       "      <td>0.515005</td>\n",
       "      <td>0.525106</td>\n",
       "      <td>0.529052</td>\n",
       "      <td>0.545274</td>\n",
       "    </tr>\n",
       "  </tbody>\n",
       "</table>\n",
       "</div>"
      ],
      "text/plain": [
       "            features  matthews_svm  matthews_log  test_matthews_svm  \\\n",
       "4  pca_gdf_que_prev3      0.114035      0.111922           0.076066   \n",
       "\n",
       "   test_matthews_log  roc_auc_svm  roc_auc_log  test_roc_auc_svm  \\\n",
       "4           0.086004     0.555615     0.554976          0.537993   \n",
       "\n",
       "   test_roc_auc_log  stock    f1_svm    f1_log  test_f1_svm  test_f1_log  \n",
       "4          0.543004   9063  0.515005  0.525106     0.529052     0.545274  "
      ]
     },
     "execution_count": 11,
     "metadata": {},
     "output_type": "execute_result"
    }
   ],
   "source": [
    "df_all[df_all['test_matthews_svm'] < df_all['test_matthews_log']][all_columns]"
   ]
  },
  {
   "cell_type": "code",
   "execution_count": 12,
   "metadata": {},
   "outputs": [
    {
     "data": {
      "text/html": [
       "<div>\n",
       "<style>\n",
       "    .dataframe thead tr:only-child th {\n",
       "        text-align: right;\n",
       "    }\n",
       "\n",
       "    .dataframe thead th {\n",
       "        text-align: left;\n",
       "    }\n",
       "\n",
       "    .dataframe tbody tr th {\n",
       "        vertical-align: top;\n",
       "    }\n",
       "</style>\n",
       "<table border=\"1\" class=\"dataframe\">\n",
       "  <thead>\n",
       "    <tr style=\"text-align: right;\">\n",
       "      <th></th>\n",
       "      <th>features</th>\n",
       "      <th>matthews_svm</th>\n",
       "      <th>matthews_log</th>\n",
       "      <th>test_matthews_svm</th>\n",
       "      <th>test_matthews_log</th>\n",
       "      <th>roc_auc_svm</th>\n",
       "      <th>roc_auc_log</th>\n",
       "      <th>test_roc_auc_svm</th>\n",
       "      <th>test_roc_auc_log</th>\n",
       "      <th>stock</th>\n",
       "      <th>f1_svm</th>\n",
       "      <th>f1_log</th>\n",
       "      <th>test_f1_svm</th>\n",
       "      <th>test_f1_log</th>\n",
       "    </tr>\n",
       "  </thead>\n",
       "  <tbody>\n",
       "    <tr>\n",
       "      <th>4</th>\n",
       "      <td>pca_gdf_que_prev3</td>\n",
       "      <td>0.114035</td>\n",
       "      <td>0.111922</td>\n",
       "      <td>0.076066</td>\n",
       "      <td>0.086004</td>\n",
       "      <td>0.555615</td>\n",
       "      <td>0.554976</td>\n",
       "      <td>0.537993</td>\n",
       "      <td>0.543004</td>\n",
       "      <td>9063</td>\n",
       "      <td>0.515005</td>\n",
       "      <td>0.525106</td>\n",
       "      <td>0.529052</td>\n",
       "      <td>0.545274</td>\n",
       "    </tr>\n",
       "  </tbody>\n",
       "</table>\n",
       "</div>"
      ],
      "text/plain": [
       "            features  matthews_svm  matthews_log  test_matthews_svm  \\\n",
       "4  pca_gdf_que_prev3      0.114035      0.111922           0.076066   \n",
       "\n",
       "   test_matthews_log  roc_auc_svm  roc_auc_log  test_roc_auc_svm  \\\n",
       "4           0.086004     0.555615     0.554976          0.537993   \n",
       "\n",
       "   test_roc_auc_log  stock    f1_svm    f1_log  test_f1_svm  test_f1_log  \n",
       "4          0.543004   9063  0.515005  0.525106     0.529052     0.545274  "
      ]
     },
     "execution_count": 12,
     "metadata": {},
     "output_type": "execute_result"
    }
   ],
   "source": [
    "df_all[df_all['test_roc_auc_svm'] < df_all['test_roc_auc_log']][all_columns]"
   ]
  },
  {
   "cell_type": "code",
   "execution_count": null,
   "metadata": {
    "collapsed": true
   },
   "outputs": [],
   "source": []
  },
  {
   "cell_type": "code",
   "execution_count": 13,
   "metadata": {},
   "outputs": [
    {
     "data": {
      "text/plain": [
       "pca_gdf_que5    1\n",
       "pca_gdf_que2    1\n",
       "Name: features, dtype: int64"
      ]
     },
     "execution_count": 13,
     "metadata": {},
     "output_type": "execute_result"
    }
   ],
   "source": [
    "df_all[df_all['matthews_svm'] < df_all['matthews_log']]['features'].value_counts()"
   ]
  },
  {
   "cell_type": "code",
   "execution_count": 14,
   "metadata": {},
   "outputs": [
    {
     "data": {
      "text/plain": [
       "pca_gdf_que_prev2    1\n",
       "pca_gdf_que_prev3    1\n",
       "pca_gdf_que7         1\n",
       "Name: features, dtype: int64"
      ]
     },
     "execution_count": 14,
     "metadata": {},
     "output_type": "execute_result"
    }
   ],
   "source": [
    "df_all[df_all['matthews_svm'] > df_all['matthews_log']]['features'].value_counts()"
   ]
  }
 ],
 "metadata": {
  "kernelspec": {
   "display_name": "Python 3",
   "language": "python",
   "name": "python3"
  },
  "language_info": {
   "codemirror_mode": {
    "name": "ipython",
    "version": 3
   },
   "file_extension": ".py",
   "mimetype": "text/x-python",
   "name": "python",
   "nbconvert_exporter": "python",
   "pygments_lexer": "ipython3",
   "version": "3.6.1"
  }
 },
 "nbformat": 4,
 "nbformat_minor": 2
}
