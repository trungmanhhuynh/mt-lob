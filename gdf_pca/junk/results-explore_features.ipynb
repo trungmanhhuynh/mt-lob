{
 "cells": [
  {
   "cell_type": "code",
   "execution_count": 1,
   "metadata": {
    "collapsed": true
   },
   "outputs": [],
   "source": [
    "%load_ext autoreload\n",
    "\n",
    "%autoreload 2\n",
    "%matplotlib inline\n",
    "import pandas as pd\n",
    "import matplotlib.pyplot as plt\n",
    "import seaborn as sns\n",
    "from sklearn.cluster import KMeans\n",
    "from sklearn.svm import SVC\n",
    "from sklearn.decomposition import PCA\n",
    "from sklearn import metrics\n",
    "\n",
    "# from mlxtend.plotting import plot_decision_regions\n",
    "from sklearn import preprocessing\n",
    "from sklearn.linear_model import LogisticRegression\n",
    "from ast import literal_eval\n",
    "\n",
    "import warnings\n",
    "import numpy as np\n",
    "from collections import OrderedDict\n",
    "\n",
    "from lob_data_utils import lob, db_result, model, roc_results\n",
    "from lob_data_utils.svm_calculation import lob_svm\n",
    "import os\n",
    "\n",
    "\n",
    "sns.set_style('whitegrid')\n",
    "warnings.filterwarnings('ignore')"
   ]
  },
  {
   "cell_type": "code",
   "execution_count": 2,
   "metadata": {
    "collapsed": true
   },
   "outputs": [],
   "source": [
    "data_length = 10000\n",
    "rs_params = [(1.0, 1.0),(0.1, 0.1)]\n",
    "stocks = list(roc_results.result_cv_10000.keys())"
   ]
  },
  {
   "cell_type": "code",
   "execution_count": 3,
   "metadata": {
    "collapsed": true
   },
   "outputs": [],
   "source": [
    "def get_mean_scores(scores: dict) -> dict:\n",
    "    mean_scores = {}\n",
    "    for k, v in scores.items():\n",
    "        mean_scores[k] = np.mean(v)\n",
    "    return mean_scores\n",
    "\n",
    "def get_score_for_clf(clf, df_test):\n",
    "    x_test = df_test[['queue_imbalance']]\n",
    "    y_test = df_test['mid_price_indicator'].values\n",
    "    return model.test_model(clf, x_test, y_test)\n",
    "\n",
    "def get_logistic_regression(stock, data_length):\n",
    "    df, df_test = lob.load_prepared_data(\n",
    "        stock, data_dir='../gaussian_filter/data', cv=False, length=data_length)\n",
    "    clf = LogisticRegression()\n",
    "    train_x = df[['queue_imbalance']]\n",
    "\n",
    "    scores = model.validate_model(clf, train_x, df['mid_price_indicator'])\n",
    "    res = {\n",
    "        **get_mean_scores(scores),\n",
    "        'stock': stock,\n",
    "        'kernel': 'logistic',\n",
    "    }\n",
    "    test_scores = get_score_for_clf(clf, df_test)\n",
    "    return {**res, **test_scores}"
   ]
  },
  {
   "cell_type": "code",
   "execution_count": 4,
   "metadata": {
    "collapsed": true
   },
   "outputs": [],
   "source": [
    "df_res = pd.DataFrame()\n",
    "for stock in stocks:\n",
    "    for r, s in rs_params:\n",
    "        filename = 'svm_features_{}_len{}_r{}_s{}.csv'.format(stock, data_length, r, s)\n",
    "        if os.path.exists(filename):\n",
    "            df_res = df_res.append(pd.read_csv(filename))"
   ]
  },
  {
   "cell_type": "code",
   "execution_count": 7,
   "metadata": {},
   "outputs": [
    {
     "data": {
      "text/plain": [
       "Index(['Unnamed: 0', 'f1', 'features', 'matthews', 'roc_auc', 'stock'], dtype='object')"
      ]
     },
     "execution_count": 7,
     "metadata": {},
     "output_type": "execute_result"
    }
   ],
   "source": [
    "df_res.columns"
   ]
  },
  {
   "cell_type": "code",
   "execution_count": 11,
   "metadata": {},
   "outputs": [],
   "source": [
    "df_best = df_res.sort_values(by='roc_auc', ascending=False).groupby('stock').head(1)"
   ]
  },
  {
   "cell_type": "code",
   "execution_count": 16,
   "metadata": {},
   "outputs": [
    {
     "data": {
      "text/html": [
       "<div>\n",
       "<style>\n",
       "    .dataframe thead tr:only-child th {\n",
       "        text-align: right;\n",
       "    }\n",
       "\n",
       "    .dataframe thead th {\n",
       "        text-align: left;\n",
       "    }\n",
       "\n",
       "    .dataframe tbody tr th {\n",
       "        vertical-align: top;\n",
       "    }\n",
       "</style>\n",
       "<table border=\"1\" class=\"dataframe\">\n",
       "  <thead>\n",
       "    <tr style=\"text-align: right;\">\n",
       "      <th></th>\n",
       "      <th>Unnamed: 0</th>\n",
       "      <th>f1</th>\n",
       "      <th>features</th>\n",
       "      <th>matthews</th>\n",
       "      <th>roc_auc</th>\n",
       "      <th>stock</th>\n",
       "    </tr>\n",
       "  </thead>\n",
       "  <tbody>\n",
       "    <tr>\n",
       "      <th>13</th>\n",
       "      <td>13</td>\n",
       "      <td>0.616044</td>\n",
       "      <td>gdf_0-50_que_prev</td>\n",
       "      <td>0.160525</td>\n",
       "      <td>0.579122</td>\n",
       "      <td>10484</td>\n",
       "    </tr>\n",
       "    <tr>\n",
       "      <th>13</th>\n",
       "      <td>13</td>\n",
       "      <td>0.582263</td>\n",
       "      <td>gdf_0-50_que_prev</td>\n",
       "      <td>0.153776</td>\n",
       "      <td>0.575610</td>\n",
       "      <td>1472</td>\n",
       "    </tr>\n",
       "    <tr>\n",
       "      <th>13</th>\n",
       "      <td>13</td>\n",
       "      <td>0.555019</td>\n",
       "      <td>gdf_0-50_que_prev</td>\n",
       "      <td>0.137578</td>\n",
       "      <td>0.568531</td>\n",
       "      <td>9268</td>\n",
       "    </tr>\n",
       "    <tr>\n",
       "      <th>13</th>\n",
       "      <td>13</td>\n",
       "      <td>0.592979</td>\n",
       "      <td>gdf_0-50_que_prev</td>\n",
       "      <td>0.136065</td>\n",
       "      <td>0.566648</td>\n",
       "      <td>1907</td>\n",
       "    </tr>\n",
       "    <tr>\n",
       "      <th>13</th>\n",
       "      <td>13</td>\n",
       "      <td>0.613321</td>\n",
       "      <td>gdf_0-50_que_prev</td>\n",
       "      <td>0.131917</td>\n",
       "      <td>0.563730</td>\n",
       "      <td>3022</td>\n",
       "    </tr>\n",
       "    <tr>\n",
       "      <th>13</th>\n",
       "      <td>13</td>\n",
       "      <td>0.563877</td>\n",
       "      <td>gdf_0-50_que_prev</td>\n",
       "      <td>0.114953</td>\n",
       "      <td>0.557299</td>\n",
       "      <td>12059</td>\n",
       "    </tr>\n",
       "  </tbody>\n",
       "</table>\n",
       "</div>"
      ],
      "text/plain": [
       "    Unnamed: 0        f1           features  matthews   roc_auc  stock\n",
       "13          13  0.616044  gdf_0-50_que_prev  0.160525  0.579122  10484\n",
       "13          13  0.582263  gdf_0-50_que_prev  0.153776  0.575610   1472\n",
       "13          13  0.555019  gdf_0-50_que_prev  0.137578  0.568531   9268\n",
       "13          13  0.592979  gdf_0-50_que_prev  0.136065  0.566648   1907\n",
       "13          13  0.613321  gdf_0-50_que_prev  0.131917  0.563730   3022\n",
       "13          13  0.563877  gdf_0-50_que_prev  0.114953  0.557299  12059"
      ]
     },
     "execution_count": 16,
     "metadata": {},
     "output_type": "execute_result"
    }
   ],
   "source": [
    "df_best[df_best['features'] == 'gdf_0-50_que_prev']"
   ]
  },
  {
   "cell_type": "code",
   "execution_count": null,
   "metadata": {
    "collapsed": true
   },
   "outputs": [],
   "source": []
  }
 ],
 "metadata": {
  "kernelspec": {
   "display_name": "Python 3",
   "language": "python",
   "name": "python3"
  },
  "language_info": {
   "codemirror_mode": {
    "name": "ipython",
    "version": 3
   },
   "file_extension": ".py",
   "mimetype": "text/x-python",
   "name": "python",
   "nbconvert_exporter": "python",
   "pygments_lexer": "ipython3",
   "version": "3.6.1"
  }
 },
 "nbformat": 4,
 "nbformat_minor": 2
}
