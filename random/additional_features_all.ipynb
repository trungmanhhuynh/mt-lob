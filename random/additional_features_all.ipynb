{
 "cells": [
  {
   "cell_type": "code",
   "execution_count": 21,
   "metadata": {},
   "outputs": [
    {
     "name": "stdout",
     "output_type": "stream",
     "text": [
      "The autoreload extension is already loaded. To reload it, use:\n",
      "  %reload_ext autoreload\n"
     ]
    }
   ],
   "source": [
    "%load_ext autoreload\n",
    "\n",
    "%autoreload 2\n",
    "%matplotlib inline\n",
    "import pandas as pd\n",
    "import matplotlib.pyplot as plt\n",
    "import seaborn as sns\n",
    "from sklearn.cluster import KMeans\n",
    "from sklearn.svm import SVC\n",
    "from sklearn.metrics import roc_auc_score, roc_curve\n",
    "from ast import literal_eval\n",
    "import os\n",
    "import itertools\n",
    "\n",
    "from sklearn import preprocessing\n",
    "from sklearn.linear_model import LogisticRegressionCV, LinearRegression\n",
    "\n",
    "from sklearn.preprocessing import MinMaxScaler\n",
    "\n",
    "import warnings\n",
    "import numpy as np\n",
    "from collections import OrderedDict\n",
    "\n",
    "from lob_data_utils import lob, db_result, overview, roc_results\n",
    "from lob_data_utils.svm_calculation import lob_svm\n",
    "\n",
    "sns.set_style('whitegrid')\n",
    "warnings.filterwarnings('ignore')"
   ]
  },
  {
   "cell_type": "code",
   "execution_count": 10,
   "metadata": {
    "collapsed": true
   },
   "outputs": [],
   "source": [
    "# data_length = 10000 # TODO: not used\n",
    "plot_dir = 'results_additional_features_all'\n",
    "stocks = list(roc_results.results_10000.keys())"
   ]
  },
  {
   "cell_type": "code",
   "execution_count": 11,
   "metadata": {
    "collapsed": true
   },
   "outputs": [],
   "source": [
    "def rescale(df):\n",
    "    scaler = MinMaxScaler()\n",
    "    df[['mid_price']] = scaler.fit_transform(df[['mid_price']])\n",
    "    for c in [c for c in df.columns if 'prev' in c or 'next' in c]:\n",
    "        df[[c]] = scaler.transform(df[[c]])\n",
    "    return df\n",
    "\n",
    "def svc(clf, df, df_cv, columns):\n",
    "    df = rescale(df)\n",
    "    df_cv = rescale(df_cv)\n",
    "    X = df[columns]\n",
    "    y = df['mid_price_indicator']\n",
    "    clf.fit(X, y)\n",
    "    pred = clf.predict(X)\n",
    "    pred_cv = clf.predict(df_cv[columns])\n",
    "    return roc_auc_score(y, pred), roc_auc_score(df_cv['mid_price_indicator'], pred_cv)"
   ]
  },
  {
   "cell_type": "code",
   "execution_count": 50,
   "metadata": {
    "collapsed": true
   },
   "outputs": [],
   "source": [
    "def plot_results(clf, df, df_cv, plot_title='', stock=None):\n",
    "    x_columns = {}\n",
    "    nums = [2, 5, 10, 20, 50]\n",
    "    x_columns['queue_imb'] = [c for c in df.columns if 'queue_im'  in c]\n",
    "    for n in nums:\n",
    "        x_columns['prev_{}'.format(n)] = [\n",
    "            c for c in df.columns if 'prev_mid_price_avg_{}'.format(n) == c]\n",
    "        x_columns['prev_{}_and_imb'.format(n)] = [\n",
    "            c for c in df.columns if 'prev_mid_price_avg_{}'.format(n) == c or 'queue_im' in c]\n",
    "    results = []\n",
    "    titles = []\n",
    "    \n",
    "    for features, x_cols in x_columns.items():\n",
    "        res = svc(clf, df, df_cv, x_cols)\n",
    "        titles.append(features)\n",
    "        results.append({'train': res[0], 'cv': res[1], 'stock': stock, 'features': features})\n",
    "    df_res = pd.DataFrame(results, index=titles)\n",
    "    df_res[['train', 'cv']].plot(kind='bar')\n",
    "\n",
    "    plt.legend(loc='lower left')\n",
    "    plt.ylim(0, 1)\n",
    "    plt.title(plot_title)\n",
    "    plt.savefig(os.path.join(plot_dir, '{}_{}.png'.format(stock, plot_title)))\n",
    "    return results"
   ]
  },
  {
   "cell_type": "code",
   "execution_count": 51,
   "metadata": {},
   "outputs": [],
   "source": [
    "%%capture\n",
    "results = []\n",
    "for stock in stocks:\n",
    "    df, df_cv, df_test = lob.load_prepared_data(\n",
    "        stock, data_dir='../queue_imbalance/data/avg_mid_bool/', cv=True, include_test=True, length=None)\n",
    "    df.dropna(inplace=True)\n",
    "    df_cv.dropna(inplace=True)\n",
    "    df_test.dropna(inplace=True)\n",
    "    df.rename(columns={'Unnamed: 0': 'datetime'}, inplace=True)\n",
    "    df.index = df['datetime']\n",
    "    df = df.sort_index()\n",
    "\n",
    "    title = 'Logistic Regression for {}'.format(stock)\n",
    "    print(title)\n",
    "    clf = LogisticRegressionCV()\n",
    "    result = plot_results(clf, df, df_cv, plot_title=title, stock=stock)\n",
    "    results += result\n",
    "df_res = pd.DataFrame(results)\n",
    "df_res.to_csv('{}/results.csv'.format(plot_dir))"
   ]
  },
  {
   "cell_type": "code",
   "execution_count": 52,
   "metadata": {},
   "outputs": [
    {
     "data": {
      "text/plain": [
       "<matplotlib.axes._subplots.AxesSubplot at 0x7fa6aee15748>"
      ]
     },
     "execution_count": 52,
     "metadata": {},
     "output_type": "execute_result"
    },
    {
     "data": {
      "image/png": "[encoded data removed]",
      "text/plain": [
       "<Figure size 432x288 with 1 Axes>"
      ]
     },
     "metadata": {},
     "output_type": "display_data"
    }
   ],
   "source": [
    "df_res.sort_values(by='cv', ascending=False).groupby('stock').first().groupby(\n",
    "    'features').count().plot(kind='bar')"
   ]
  },
  {
   "cell_type": "code",
   "execution_count": 53,
   "metadata": {
    "collapsed": true
   },
   "outputs": [],
   "source": [
    "df_best = df_res.sort_values(by='cv', ascending=False).groupby('stock').first()\n",
    "best_features = list(df_best.groupby('features').count().nlargest(10, 'cv').index)"
   ]
  },
  {
   "cell_type": "code",
   "execution_count": 55,
   "metadata": {},
   "outputs": [
    {
     "data": {
      "text/html": [
       "<div>\n",
       "<style scoped>\n",
       "    .dataframe tbody tr th:only-of-type {\n",
       "        vertical-align: middle;\n",
       "    }\n",
       "\n",
       "    .dataframe tbody tr th {\n",
       "        vertical-align: top;\n",
       "    }\n",
       "\n",
       "    .dataframe thead th {\n",
       "        text-align: right;\n",
       "    }\n",
       "</style>\n",
       "<table border=\"1\" class=\"dataframe\">\n",
       "  <thead>\n",
       "    <tr style=\"text-align: right;\">\n",
       "      <th></th>\n",
       "      <th>prev_10_and_imb vs queue_imb cv</th>\n",
       "      <th>prev_20_and_imb vs queue_imb cv</th>\n",
       "      <th>prev_2_and_imb vs queue_imb cv</th>\n",
       "      <th>prev_50_and_imb vs queue_imb cv</th>\n",
       "      <th>prev_5_and_imb vs queue_imb cv</th>\n",
       "    </tr>\n",
       "  </thead>\n",
       "  <tbody>\n",
       "    <tr>\n",
       "      <th>count</th>\n",
       "      <td>53.000000</td>\n",
       "      <td>53.000000</td>\n",
       "      <td>53.000000</td>\n",
       "      <td>53.000000</td>\n",
       "      <td>53.000000</td>\n",
       "    </tr>\n",
       "    <tr>\n",
       "      <th>mean</th>\n",
       "      <td>0.000896</td>\n",
       "      <td>0.000729</td>\n",
       "      <td>0.000637</td>\n",
       "      <td>0.000642</td>\n",
       "      <td>0.000628</td>\n",
       "    </tr>\n",
       "    <tr>\n",
       "      <th>std</th>\n",
       "      <td>0.002486</td>\n",
       "      <td>0.002649</td>\n",
       "      <td>0.001919</td>\n",
       "      <td>0.002635</td>\n",
       "      <td>0.001990</td>\n",
       "    </tr>\n",
       "    <tr>\n",
       "      <th>min</th>\n",
       "      <td>-0.003517</td>\n",
       "      <td>-0.005906</td>\n",
       "      <td>-0.003188</td>\n",
       "      <td>-0.005906</td>\n",
       "      <td>-0.003365</td>\n",
       "    </tr>\n",
       "    <tr>\n",
       "      <th>25%</th>\n",
       "      <td>-0.000612</td>\n",
       "      <td>-0.000584</td>\n",
       "      <td>-0.000634</td>\n",
       "      <td>-0.000713</td>\n",
       "      <td>-0.000634</td>\n",
       "    </tr>\n",
       "    <tr>\n",
       "      <th>50%</th>\n",
       "      <td>0.000707</td>\n",
       "      <td>0.000634</td>\n",
       "      <td>0.000587</td>\n",
       "      <td>0.000487</td>\n",
       "      <td>0.000707</td>\n",
       "    </tr>\n",
       "    <tr>\n",
       "      <th>75%</th>\n",
       "      <td>0.001657</td>\n",
       "      <td>0.001548</td>\n",
       "      <td>0.001662</td>\n",
       "      <td>0.001483</td>\n",
       "      <td>0.001718</td>\n",
       "    </tr>\n",
       "    <tr>\n",
       "      <th>max</th>\n",
       "      <td>0.014265</td>\n",
       "      <td>0.013468</td>\n",
       "      <td>0.005169</td>\n",
       "      <td>0.013448</td>\n",
       "      <td>0.005169</td>\n",
       "    </tr>\n",
       "  </tbody>\n",
       "</table>\n",
       "</div>"
      ],
      "text/plain": [
       "       prev_10_and_imb vs queue_imb cv  prev_20_and_imb vs queue_imb cv  \\\n",
       "count                        53.000000                        53.000000   \n",
       "mean                          0.000896                         0.000729   \n",
       "std                           0.002486                         0.002649   \n",
       "min                          -0.003517                        -0.005906   \n",
       "25%                          -0.000612                        -0.000584   \n",
       "50%                           0.000707                         0.000634   \n",
       "75%                           0.001657                         0.001548   \n",
       "max                           0.014265                         0.013468   \n",
       "\n",
       "       prev_2_and_imb vs queue_imb cv  prev_50_and_imb vs queue_imb cv  \\\n",
       "count                       53.000000                        53.000000   \n",
       "mean                         0.000637                         0.000642   \n",
       "std                          0.001919                         0.002635   \n",
       "min                         -0.003188                        -0.005906   \n",
       "25%                         -0.000634                        -0.000713   \n",
       "50%                          0.000587                         0.000487   \n",
       "75%                          0.001662                         0.001483   \n",
       "max                          0.005169                         0.013448   \n",
       "\n",
       "       prev_5_and_imb vs queue_imb cv  \n",
       "count                       53.000000  \n",
       "mean                         0.000628  \n",
       "std                          0.001990  \n",
       "min                         -0.003365  \n",
       "25%                         -0.000634  \n",
       "50%                          0.000707  \n",
       "75%                          0.001718  \n",
       "max                          0.005169  "
      ]
     },
     "execution_count": 55,
     "metadata": {},
     "output_type": "execute_result"
    }
   ],
   "source": [
    "df_compare = df_res.sort_values(by=['stock', 'cv'], ascending=False).groupby('stock').head(\n",
    "    len(df_res['features'].unique()))\n",
    "results = []\n",
    "feature_combinations = list(itertools.combinations(list(range(len(best_features))), 2))\n",
    "for s in stocks:\n",
    "    r = {'stock': s}\n",
    "    for comb in feature_combinations:\n",
    "        df_stock = df_compare[df_compare['stock'] == s]\n",
    "        a = df_stock[df_compare['features'] == best_features[comb[0]]]['cv'].values[0]\n",
    "        b = df_stock[df_compare['features'] == best_features[comb[1]]]['cv'].values[0]\n",
    "        r['{} vs {} cv'.format(best_features[comb[0]], best_features[comb[1]])] = a-b\n",
    "        r['{} vs {} cv'.format(best_features[comb[1]], best_features[comb[0]])] = b-a\n",
    "    results.append(r)\n",
    "\n",
    "df_s = pd.DataFrame(results)\n",
    "#df_s.plot(figsize=(16, 16))\n",
    "df_s[[c for c in df_s.columns if 'vs queue_imb' in c]].describe()\n",
    "        "
   ]
  }
 ],
 "metadata": {
  "kernelspec": {
   "display_name": "Python 3",
   "language": "python",
   "name": "python3"
  },
  "language_info": {
   "codemirror_mode": {
    "name": "ipython",
    "version": 3
   },
   "file_extension": ".py",
   "mimetype": "text/x-python",
   "name": "python",
   "nbconvert_exporter": "python",
   "pygments_lexer": "ipython3",
   "version": "3.6.5"
  }
 },
 "nbformat": 4,
 "nbformat_minor": 2
}
