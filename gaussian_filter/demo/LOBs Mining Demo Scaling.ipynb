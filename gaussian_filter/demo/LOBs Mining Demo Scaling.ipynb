{
 "cells": [
  {
   "cell_type": "markdown",
   "metadata": {},
   "source": [
    "# LOBs Encoding 1\n",
    "\n",
    "This notebook illustrates the LOB encoding with Gaussian Density Filters (GDF)."
   ]
  },
  {
   "cell_type": "code",
   "execution_count": 1,
   "metadata": {},
   "outputs": [
    {
     "data": {
      "text/html": [
       "<script type=\"text/javascript\">window.PlotlyConfig = {MathJaxConfig: 'local'};</script><script type=\"text/javascript\">if (window.MathJax) {MathJax.Hub.Config({SVG: {font: \"STIX-Web\"}});}</script><script>requirejs.config({paths: { 'plotly': ['https://cdn.plot.ly/plotly-latest.min']},});if(!window._Plotly) {require(['plotly'],function(plotly) {window._Plotly=plotly;});}</script>"
      ],
      "text/vnd.plotly.v1+html": [
       "<script type=\"text/javascript\">window.PlotlyConfig = {MathJaxConfig: 'local'};</script><script type=\"text/javascript\">if (window.MathJax) {MathJax.Hub.Config({SVG: {font: \"STIX-Web\"}});}</script><script>requirejs.config({paths: { 'plotly': ['https://cdn.plot.ly/plotly-latest.min']},});if(!window._Plotly) {require(['plotly'],function(plotly) {window._Plotly=plotly;});}</script>"
      ]
     },
     "metadata": {},
     "output_type": "display_data"
    }
   ],
   "source": [
    "import numpy as np\n",
    "import matplotlib.pyplot as plt\n",
    "import pandas as pd\n",
    "\n",
    "from scipy.stats import norm\n",
    "\n",
    "import datetime\n",
    "import time\n",
    "import pickle\n",
    "import gzip\n",
    "\n",
    "% matplotlib inline\n",
    "\n",
    "import plotly.offline as py\n",
    "import plotly.figure_factory as ff\n",
    "import plotly.graph_objs as go\n",
    "import warnings\n",
    "py.init_notebook_mode(connected=True)\n",
    "\n",
    "from ipywidgets import interact, interactive, fixed, interact_manual, widgets\n",
    "\n",
    "from lobs import *\n",
    "warnings.filterwarnings('ignore')"
   ]
  },
  {
   "cell_type": "code",
   "execution_count": 2,
   "metadata": {},
   "outputs": [],
   "source": [
    "filename = \"OrderBookSnapshots.csv.9061.zip\"\n",
    "order_book_snapshots = load_order_book_snapshots(filename)\n",
    "snapshot = order_book_snapshots[131]\n",
    "date_time, buy_orders, sell_orders = transform_order_book_snapshot_to_orders(snapshot)"
   ]
  },
  {
   "cell_type": "markdown",
   "metadata": {},
   "source": [
    "## Limit Order Books"
   ]
  },
  {
   "cell_type": "code",
   "execution_count": 3,
   "metadata": {},
   "outputs": [
    {
     "data": {
      "application/vnd.jupyter.widget-view+json": {
       "model_id": "fdd3e2cf2f17487592fef30a06e32e5e",
       "version_major": 2,
       "version_minor": 0
      },
      "text/plain": [
       "interactive(children=(IntSlider(value=15, description='levels', min=1), Output()), _dom_classes=('widget-inter…"
      ]
     },
     "metadata": {},
     "output_type": "display_data"
    }
   ],
   "source": [
    "@interact(levels=(1, 100))\n",
    "def _plot_lob_original(levels=15):\n",
    "    plot_lob(buy_orders, sell_orders, levels, showMidPrice=True, title='Limit Order Book', xtitle='Price', ytitle='Volume')"
   ]
  },
  {
   "cell_type": "markdown",
   "metadata": {},
   "source": [
    "## Normalization of Limit Order Books"
   ]
  },
  {
   "cell_type": "code",
   "execution_count": 35,
   "metadata": {},
   "outputs": [],
   "source": [
    "def normalize_limit_order_book(buy_orders, sell_orders):\n",
    "    bid_prices = buy_orders[:, 0]\n",
    "    ask_prices = sell_orders[:, 0]\n",
    "    bid_volumes = buy_orders[:, 1]\n",
    "    ask_volumes = sell_orders[:, 1]\n",
    "\n",
    "    bid_volumes = bid_prices * bid_volumes\n",
    "    ask_volumes = ask_prices * ask_volumes\n",
    "\n",
    "    total_capital = bid_volumes.sum() + ask_volumes.sum()\n",
    "    bid_vol_norm = bid_volumes / total_capital\n",
    "    ask_vol_norm = ask_volumes / total_capital\n",
    "\n",
    "    min_price = min(bid_prices)\n",
    "    max_price = max(ask_prices)\n",
    "\n",
    "    bid_price_norm = (bid_prices - min_price) / (max_price - min_price)\n",
    "    ask_price_norm = (ask_prices - min_price) / (max_price - min_price)\n",
    "    buy_orders[:, 1] = bid_vol_norm\n",
    "    sell_orders[:, 1] = ask_vol_norm\n",
    "    \n",
    "    buy_orders[:, 0] = bid_price_norm\n",
    "    sell_orders[:, 0] = ask_price_norm\n",
    "    return buy_orders, sell_orders"
   ]
  },
  {
   "cell_type": "code",
   "execution_count": 36,
   "metadata": {},
   "outputs": [],
   "source": [
    "buy_orders, sell_orders = normalize_limit_order_book(buy_orders, sell_orders)"
   ]
  },
  {
   "cell_type": "code",
   "execution_count": 37,
   "metadata": {},
   "outputs": [
    {
     "data": {
      "application/vnd.jupyter.widget-view+json": {
       "model_id": "2659fd6d998c4518812951fd4f2fccba",
       "version_major": 2,
       "version_minor": 0
      },
      "text/plain": [
       "interactive(children=(IntSlider(value=15, description='levels', min=1), Output()), _dom_classes=('widget-inter…"
      ]
     },
     "metadata": {},
     "output_type": "display_data"
    }
   ],
   "source": [
    "@interact(levels=(1, 100))\n",
    "def _plot_lob_normalized(levels=15):\n",
    "    plot_lob(buy_orders, sell_orders, levels, showMidPrice=True, title='Limit Order Book', xtitle='Price (normalized)', ytitle='Volume (normalized)')"
   ]
  },
  {
   "cell_type": "markdown",
   "metadata": {},
   "source": [
    "## Encoding Limit Order Books with Gaussian Density Filters"
   ]
  },
  {
   "cell_type": "code",
   "execution_count": 38,
   "metadata": {},
   "outputs": [],
   "source": [
    "K = 50\n",
    "gdfs_r = 0.0025 * np.ones(K)\n",
    "gdfs_m = 0.1000 * np.hstack([np.arange(- K // 2, 0), np.arange(1, K // 2 + 1)])\n",
    "gdfs_s = 0.0500 * np.ones(K)\n",
    "gdfs = np.vstack([gdfs_r, gdfs_m, gdfs_s]).T"
   ]
  },
  {
   "cell_type": "code",
   "execution_count": 39,
   "metadata": {},
   "outputs": [
    {
     "data": {
      "application/vnd.jupyter.widget-view+json": {
       "model_id": "4257f1f8eade44069115a1f355479265",
       "version_major": 2,
       "version_minor": 0
      },
      "text/plain": [
       "interactive(children=(IntSlider(value=26, description='gdf', max=49), IntSlider(value=20, description='levels'…"
      ]
     },
     "metadata": {},
     "output_type": "display_data"
    }
   ],
   "source": [
    "@interact(levels=(1, 100), gdf=(0, K-1))\n",
    "def _plot_lob_and_gdf(gdf=K//2+1, levels=20):\n",
    "    plot_lob_and_gdf(buy_orders, sell_orders, gdfs[gdf, :], levels)\n",
    "    print('GDF parameters: r = %2.4f, m = %2.4f, s = %2.4f.' % (gdfs[gdf, 0], gdfs[gdf, 1], gdfs[gdf, 2]))\n",
    "    print('LOB area: %2.4f' % gdf_representation(buy_orders, sell_orders, gdfs[gdf, :]))    "
   ]
  },
  {
   "cell_type": "code",
   "execution_count": 40,
   "metadata": {},
   "outputs": [
    {
     "data": {
      "application/vnd.jupyter.widget-view+json": {
       "model_id": "f38c6bfbca704c149a19705fd7a387d5",
       "version_major": 2,
       "version_minor": 0
      },
      "text/plain": [
       "interactive(children=(IntSlider(value=26, description='gdf', max=49), IntSlider(value=20, description='levels'…"
      ]
     },
     "metadata": {},
     "output_type": "display_data"
    }
   ],
   "source": [
    "@interact(levels=(1, 100), gdf=(0, K-1))\n",
    "def _plot_lob_clipped_to_gdf(gdf=K//2+1, levels=20):\n",
    "    plot_lob_clipped_to_gdf(buy_orders, sell_orders, gdfs[gdf, :], levels)\n",
    "    print('GDF parameters: r = %2.4f, m = %2.4f, s = %2.4f.' % (gdfs[gdf, 0], gdfs[gdf, 1], gdfs[gdf, 2]))\n",
    "    print('LOB area: %2.4f' % gdf_representation(buy_orders, sell_orders, gdfs[gdf, :]))"
   ]
  },
  {
   "cell_type": "code",
   "execution_count": 41,
   "metadata": {},
   "outputs": [
    {
     "data": {
      "application/vnd.plotly.v1+json": {
       "config": {
        "displayModeBar": false,
        "editable": false,
        "linkText": "Export to plot.ly",
        "plotlyServerURL": "https://plot.ly",
        "showLink": false
       },
       "data": [
        {
         "marker": {
          "color": "rgb(0, 0, 128)",
          "line": {
           "color": "rgb(0, 0, 128)",
           "width": 1.5
          }
         },
         "name": "GDF Features",
         "opacity": 0.75,
         "type": "bar",
         "uid": "d258818a-83d1-4c37-88ad-6eed64b72ce5",
         "x": [
          0,
          1,
          2,
          3,
          4,
          5,
          6,
          7,
          8,
          9,
          10,
          11,
          12,
          13,
          14,
          15,
          16,
          17,
          18,
          19,
          20,
          21,
          22,
          23,
          24,
          25,
          26,
          27,
          28,
          29,
          30,
          31,
          32,
          33,
          34,
          35,
          36,
          37,
          38,
          39,
          40,
          41,
          42,
          43,
          44,
          45,
          46,
          47,
          48,
          49
         ],
         "y": [
          0,
          0,
          0,
          0,
          0,
          0,
          0,
          0,
          0,
          8.482396728366478e-293,
          6.801586898582057e-262,
          1.0010408288846012e-232,
          2.7049970396464543e-205,
          1.3424427779084994e-179,
          1.2240497513880711e-155,
          2.051448962258402e-133,
          6.322581007655256e-113,
          3.585524659164695e-94,
          3.744059223156141e-77,
          7.205323635601256e-62,
          2.5586333313357467e-48,
          1.6794527478097917e-36,
          2.0434318498402586e-26,
          4.632494715059189e-18,
          1.977543140092508e-11,
          0.0019275690204901995,
          0.020089000172478437,
          0.19690227164339458,
          0.4530792218711823,
          0.3104317002542482,
          0.09527738779525431,
          0.0774212819911828,
          0.03668517955702356,
          0.030362087999668788,
          0.026007378677844438,
          0.0027217407406950225,
          6.693183225449509e-06,
          3.037965516884044e-10,
          2.5261361869785917e-16,
          3.847299345152492e-24,
          1.0731918681189865e-33,
          5.4830327969921725e-45,
          5.1308153639609636e-58,
          8.7937477129756e-73,
          2.7604741810798826e-89,
          1.5871407764126314e-107,
          1.671357220897039e-127,
          3.22362998569856e-149,
          1.1387887393680715e-172,
          7.368230674392738e-198
         ]
        }
       ],
       "layout": {
        "showlegend": false,
        "title": "Limit Order Book in GDF Encoding",
        "xaxis": {
         "title": "GDF Feature"
        },
        "yaxis": {
         "title": "GDF Value"
        }
       }
      },
      "text/html": [
       "<div id=\"d3d59430-945b-45c0-a887-1f694c6f8c5f\" style=\"height: 525px; width: 100%;\" class=\"plotly-graph-div\"></div><script type=\"text/javascript\">require([\"plotly\"], function(Plotly) { window.PLOTLYENV=window.PLOTLYENV || {};window.PLOTLYENV.BASE_URL=\"https://plot.ly\";Plotly.newPlot(\"d3d59430-945b-45c0-a887-1f694c6f8c5f\", [{\"marker\": {\"color\": \"rgb(0, 0, 128)\", \"line\": {\"color\": \"rgb(0, 0, 128)\", \"width\": 1.5}}, \"name\": \"GDF Features\", \"opacity\": 0.75, \"x\": [0, 1, 2, 3, 4, 5, 6, 7, 8, 9, 10, 11, 12, 13, 14, 15, 16, 17, 18, 19, 20, 21, 22, 23, 24, 25, 26, 27, 28, 29, 30, 31, 32, 33, 34, 35, 36, 37, 38, 39, 40, 41, 42, 43, 44, 45, 46, 47, 48, 49], \"y\": [0.0, 0.0, 0.0, 0.0, 0.0, 0.0, 0.0, 0.0, 0.0, 8.482396728366478e-293, 6.801586898582057e-262, 1.0010408288846012e-232, 2.7049970396464543e-205, 1.3424427779084994e-179, 1.2240497513880711e-155, 2.051448962258402e-133, 6.322581007655256e-113, 3.585524659164695e-94, 3.744059223156141e-77, 7.205323635601256e-62, 2.5586333313357467e-48, 1.6794527478097917e-36, 2.0434318498402586e-26, 4.632494715059189e-18, 1.977543140092508e-11, 0.0019275690204901995, 0.020089000172478437, 0.19690227164339458, 0.4530792218711823, 0.3104317002542482, 0.09527738779525431, 0.0774212819911828, 0.03668517955702356, 0.030362087999668788, 0.026007378677844438, 0.0027217407406950225, 6.693183225449509e-06, 3.037965516884044e-10, 2.5261361869785917e-16, 3.847299345152492e-24, 1.0731918681189865e-33, 5.4830327969921725e-45, 5.1308153639609636e-58, 8.7937477129756e-73, 2.7604741810798826e-89, 1.5871407764126314e-107, 1.671357220897039e-127, 3.22362998569856e-149, 1.1387887393680715e-172, 7.368230674392738e-198], \"type\": \"bar\", \"uid\": \"d258818a-83d1-4c37-88ad-6eed64b72ce5\"}], {\"showlegend\": false, \"title\": \"Limit Order Book in GDF Encoding\", \"xaxis\": {\"title\": \"GDF Feature\"}, \"yaxis\": {\"title\": \"GDF Value\"}}, {\"editable\": false, \"showLink\": false, \"linkText\": \"Export to plot.ly\", \"displayModeBar\": false, \"plotlyServerURL\": \"https://plot.ly\"})});</script><script type=\"text/javascript\">window.addEventListener(\"resize\", function(){window._Plotly.Plots.resize(document.getElementById(\"d3d59430-945b-45c0-a887-1f694c6f8c5f\"));});</script>"
      ],
      "text/vnd.plotly.v1+html": [
       "<div id=\"d3d59430-945b-45c0-a887-1f694c6f8c5f\" style=\"height: 525px; width: 100%;\" class=\"plotly-graph-div\"></div><script type=\"text/javascript\">require([\"plotly\"], function(Plotly) { window.PLOTLYENV=window.PLOTLYENV || {};window.PLOTLYENV.BASE_URL=\"https://plot.ly\";Plotly.newPlot(\"d3d59430-945b-45c0-a887-1f694c6f8c5f\", [{\"marker\": {\"color\": \"rgb(0, 0, 128)\", \"line\": {\"color\": \"rgb(0, 0, 128)\", \"width\": 1.5}}, \"name\": \"GDF Features\", \"opacity\": 0.75, \"x\": [0, 1, 2, 3, 4, 5, 6, 7, 8, 9, 10, 11, 12, 13, 14, 15, 16, 17, 18, 19, 20, 21, 22, 23, 24, 25, 26, 27, 28, 29, 30, 31, 32, 33, 34, 35, 36, 37, 38, 39, 40, 41, 42, 43, 44, 45, 46, 47, 48, 49], \"y\": [0.0, 0.0, 0.0, 0.0, 0.0, 0.0, 0.0, 0.0, 0.0, 8.482396728366478e-293, 6.801586898582057e-262, 1.0010408288846012e-232, 2.7049970396464543e-205, 1.3424427779084994e-179, 1.2240497513880711e-155, 2.051448962258402e-133, 6.322581007655256e-113, 3.585524659164695e-94, 3.744059223156141e-77, 7.205323635601256e-62, 2.5586333313357467e-48, 1.6794527478097917e-36, 2.0434318498402586e-26, 4.632494715059189e-18, 1.977543140092508e-11, 0.0019275690204901995, 0.020089000172478437, 0.19690227164339458, 0.4530792218711823, 0.3104317002542482, 0.09527738779525431, 0.0774212819911828, 0.03668517955702356, 0.030362087999668788, 0.026007378677844438, 0.0027217407406950225, 6.693183225449509e-06, 3.037965516884044e-10, 2.5261361869785917e-16, 3.847299345152492e-24, 1.0731918681189865e-33, 5.4830327969921725e-45, 5.1308153639609636e-58, 8.7937477129756e-73, 2.7604741810798826e-89, 1.5871407764126314e-107, 1.671357220897039e-127, 3.22362998569856e-149, 1.1387887393680715e-172, 7.368230674392738e-198], \"type\": \"bar\", \"uid\": \"d258818a-83d1-4c37-88ad-6eed64b72ce5\"}], {\"showlegend\": false, \"title\": \"Limit Order Book in GDF Encoding\", \"xaxis\": {\"title\": \"GDF Feature\"}, \"yaxis\": {\"title\": \"GDF Value\"}}, {\"editable\": false, \"showLink\": false, \"linkText\": \"Export to plot.ly\", \"displayModeBar\": false, \"plotlyServerURL\": \"https://plot.ly\"})});</script><script type=\"text/javascript\">window.addEventListener(\"resize\", function(){window._Plotly.Plots.resize(document.getElementById(\"d3d59430-945b-45c0-a887-1f694c6f8c5f\"));});</script>"
      ]
     },
     "metadata": {},
     "output_type": "display_data"
    }
   ],
   "source": [
    "gdf_features = np.empty(K)\n",
    "for k in range(K):\n",
    "    gdf_features[k] = gdf_representation(buy_orders, sell_orders, gdfs[k, :])\n",
    "\n",
    "plot_gdf_features(gdf_features)"
   ]
  },
  {
   "cell_type": "markdown",
   "metadata": {},
   "source": [
    "## Adjustement of Parameters of Gaussian Density Filters"
   ]
  },
  {
   "cell_type": "code",
   "execution_count": 44,
   "metadata": {},
   "outputs": [
    {
     "data": {
      "application/vnd.jupyter.widget-view+json": {
       "model_id": "ce03ac48dbe941759aff18a52940e340",
       "version_major": 2,
       "version_minor": 0
      },
      "text/plain": [
       "interactive(children=(FloatSlider(value=0.01, description='r', max=1.0, min=0.01, step=0.01), FloatSlider(valu…"
      ]
     },
     "metadata": {},
     "output_type": "display_data"
    }
   ],
   "source": [
    "@interact(r=(0.01, 1.00, 0.01), s=(0.01, 1.00, 0.01))\n",
    "def _plot_gdf_features(r=0.01, s=0.05):\n",
    "    K = 50\n",
    "    gdfs_r = r * np.ones(K)\n",
    "    gdfs_m = 0.1000 * np.hstack([np.arange(- K // 2, 0), np.arange(1, K // 2 + 1)])\n",
    "    gdfs_s = s * np.ones(K)\n",
    "    gdfs = np.vstack([gdfs_r, gdfs_m, gdfs_s]).T\n",
    "\n",
    "    gdf_features = np.empty(K)\n",
    "    for k in range(K):\n",
    "        gdf_features[k] = gdf_representation(buy_orders, sell_orders, gdfs[k, :])\n",
    "\n",
    "    plot_gdf_features(gdf_features)"
   ]
  },
  {
   "cell_type": "markdown",
   "metadata": {},
   "source": [
    "## Observing Limit Order Books in Time"
   ]
  },
  {
   "cell_type": "code",
   "execution_count": 12,
   "metadata": {},
   "outputs": [
    {
     "data": {
      "application/vnd.jupyter.widget-view+json": {
       "model_id": "2e6ed265a3ea447c92a7744d4d397810",
       "version_major": 2,
       "version_minor": 0
      },
      "text/plain": [
       "interactive(children=(IntSlider(value=131, description='t', max=5473), IntSlider(value=15, description='levels…"
      ]
     },
     "metadata": {},
     "output_type": "display_data"
    }
   ],
   "source": [
    "N = len(order_book_snapshots)\n",
    "@interact(t=(0, N-1), levels=(1, 100))\n",
    "def _plot_lob_original(t=131, levels=15):\n",
    "    snapshot = order_book_snapshots[t]\n",
    "    date_time, buy_orders, sell_orders = transform_order_book_snapshot_to_orders(snapshot)\n",
    "\n",
    "    plot_lob(buy_orders, sell_orders, levels, showMidPrice=True, title='Limit Order Book', xtitle='Price', ytitle='Volume')"
   ]
  },
  {
   "cell_type": "code",
   "execution_count": 13,
   "metadata": {},
   "outputs": [
    {
     "data": {
      "application/vnd.jupyter.widget-view+json": {
       "model_id": "38dddfcdcc3a4ca7bcf9cf859c874826",
       "version_major": 2,
       "version_minor": 0
      },
      "text/plain": [
       "interactive(children=(IntSlider(value=131, description='t', max=5473), IntSlider(value=15, description='levels…"
      ]
     },
     "metadata": {},
     "output_type": "display_data"
    }
   ],
   "source": [
    "@interact(t=(0, N-1), levels=(1, 100))\n",
    "def _plot_lob_normalized(t=131, levels=15):\n",
    "    snapshot = order_book_snapshots[t]\n",
    "    date_time, buy_orders, sell_orders = transform_order_book_snapshot_to_orders(snapshot)\n",
    "    buy_orders, sell_orders = normalize_limit_order_book(buy_orders, sell_orders)\n",
    "\n",
    "    plot_lob(buy_orders, sell_orders, levels, showMidPrice=True, title='Limit Order Book', xtitle='Price (normalized)', ytitle='Volume (normalized)')"
   ]
  },
  {
   "cell_type": "code",
   "execution_count": 14,
   "metadata": {},
   "outputs": [],
   "source": [
    "K = 50\n",
    "gdfs_r = 0.0025 * np.ones(K)\n",
    "gdfs_m = 0.1000 * np.hstack([np.arange(- K // 2, 0), np.arange(1, K // 2 + 1)])\n",
    "gdfs_s = 0.0500 * np.ones(K)\n",
    "gdfs = np.vstack([gdfs_r, gdfs_m, gdfs_s]).T"
   ]
  },
  {
   "cell_type": "code",
   "execution_count": 15,
   "metadata": {},
   "outputs": [
    {
     "data": {
      "application/vnd.jupyter.widget-view+json": {
       "model_id": "fcd4019625894c24b80269abb0877609",
       "version_major": 2,
       "version_minor": 0
      },
      "text/plain": [
       "interactive(children=(IntSlider(value=131, description='t', max=5473), Output()), _dom_classes=('widget-intera…"
      ]
     },
     "metadata": {},
     "output_type": "display_data"
    }
   ],
   "source": [
    "@interact(t=(0, N-1))\n",
    "def _plot_gdf_features(t=131):\n",
    "    snapshot = order_book_snapshots[t]\n",
    "    date_time, buy_orders, sell_orders = transform_order_book_snapshot_to_orders(snapshot)\n",
    "    buy_orders, sell_orders = normalize_limit_order_book(buy_orders, sell_orders)\n",
    "\n",
    "    gdf_features = np.empty(K)\n",
    "    for k in range(K):\n",
    "        gdf_features[k] = gdf_representation(buy_orders, sell_orders, gdfs[k, :])\n",
    "\n",
    "    plot_gdf_features(gdf_features)"
   ]
  },
  {
   "cell_type": "code",
   "execution_count": null,
   "metadata": {},
   "outputs": [],
   "source": []
  },
  {
   "cell_type": "code",
   "execution_count": 16,
   "metadata": {},
   "outputs": [
    {
     "data": {
      "application/vnd.jupyter.widget-view+json": {
       "model_id": "334f3de470b7409b8bdb7632f0846dc7",
       "version_major": 2,
       "version_minor": 0
      },
      "text/plain": [
       "interactive(children=(FloatSlider(value=0.01, description='r', max=1.0, min=0.01, step=0.01), FloatSlider(valu…"
      ]
     },
     "metadata": {},
     "output_type": "display_data"
    }
   ],
   "source": [
    "@interact(r=(0.01, 1.00, 0.01), s=(0.01, 1.00, 0.01), t=(0, N-1))\n",
    "def _plot_gdf_features(r=0.01, s=0.05, t=131):\n",
    "    K = 50\n",
    "    gdfs_r = r * np.ones(K)\n",
    "    gdfs_m = 0.1000 * np.hstack([np.arange(- K // 2, 0), np.arange(1, K // 2 + 1)])\n",
    "    gdfs_s = s * np.ones(K)\n",
    "    gdfs = np.vstack([gdfs_r, gdfs_m, gdfs_s]).T\n",
    "    \n",
    "    snapshot = order_book_snapshots[t]\n",
    "    date_time, buy_orders, sell_orders = transform_order_book_snapshot_to_orders(snapshot)\n",
    "    buy_orders, sell_orders = normalize_limit_order_book(buy_orders, sell_orders)\n",
    "\n",
    "    gdf_features = np.empty(K)\n",
    "    for k in range(K):\n",
    "        gdf_features[k] = gdf_representation(buy_orders, sell_orders, gdfs[k, :])\n",
    "\n",
    "    plot_gdf_features(gdf_features)"
   ]
  },
  {
   "cell_type": "code",
   "execution_count": 17,
   "metadata": {},
   "outputs": [
    {
     "data": {
      "application/vnd.jupyter.widget-view+json": {
       "model_id": "a143b3f759e243cbac352f220109d9e9",
       "version_major": 2,
       "version_minor": 0
      },
      "text/plain": [
       "interactive(children=(IntSlider(value=20, description='levels', min=1), FloatSlider(value=0.01, description='r…"
      ]
     },
     "metadata": {},
     "output_type": "display_data"
    }
   ],
   "source": [
    "@interact(levels=(1, 100),  r=(0.01, 1.00, 0.01), s=(0.01, 1.00, 0.01), t=(0, N-1), gdf=(0, K-1))\n",
    "def _plot_lob_and_gdf(levels=20, r=0.01, s=0.05, t=131, gdf=K//2+1):\n",
    "    K = 50\n",
    "    gdfs_r = r * np.ones(K)\n",
    "    gdfs_m = 0.1000 * np.hstack([np.arange(- K // 2, 0), np.arange(1, K // 2 + 1)])\n",
    "    gdfs_s = s * np.ones(K)\n",
    "    gdfs = np.vstack([gdfs_r, gdfs_m, gdfs_s]).T\n",
    "    plot_lob_and_gdf(buy_orders, sell_orders, gdfs[gdf, :], levels)\n",
    "    print('GDF parameters: r = %2.4f, m = %2.4f, s = %2.4f.' % (gdfs[gdf, 0], gdfs[gdf, 1], gdfs[gdf, 2]))\n",
    "    print('LOB area: %2.4f' % gdf_representation(buy_orders, sell_orders, gdfs[gdf, :]))  "
   ]
  },
  {
   "cell_type": "code",
   "execution_count": 18,
   "metadata": {},
   "outputs": [
    {
     "data": {
      "application/vnd.jupyter.widget-view+json": {
       "model_id": "4c5290ba9b6e4751aaf54eba07cccdf7",
       "version_major": 2,
       "version_minor": 0
      },
      "text/plain": [
       "interactive(children=(IntSlider(value=20, description='levels', min=1), FloatSlider(value=0.01, description='r…"
      ]
     },
     "metadata": {},
     "output_type": "display_data"
    }
   ],
   "source": [
    "@interact(levels=(1, 100),  r=(0.01, 1.00, 0.01), s=(0.01, 1.00, 0.01), t=(0, N-1), K=(1, 50))\n",
    "def _plot_lob_and_gdf(levels=20, r=0.01, s=0.05, t=131, K=15):\n",
    "    gdfs_r = r * np.ones(K)\n",
    "    gdfs_m = 0.1000 * np.hstack([np.arange(- K // 2, 0), np.arange(1, K // 2 + 1)])\n",
    "    gdfs_s = s * np.ones(K)\n",
    "    gdfs = np.vstack([gdfs_r, gdfs_m, gdfs_s]).T\n",
    "    gdf = 1\n",
    "    plot_lob_and_gdf(buy_orders, sell_orders, gdfs[gdf, :], levels)\n",
    "    print('GDF parameters: r = %2.4f, m = %2.4f, s = %2.4f.' % (gdfs[gdf, 0], gdfs[gdf, 1], gdfs[gdf, 2]))\n",
    "    print('LOB area: %2.4f' % gdf_representation(buy_orders, sell_orders, gdfs[gdf, :])) "
   ]
  },
  {
   "cell_type": "code",
   "execution_count": 19,
   "metadata": {},
   "outputs": [
    {
     "data": {
      "application/vnd.jupyter.widget-view+json": {
       "model_id": "cd10c9b336c847e99d9eab4f0d40cedd",
       "version_major": 2,
       "version_minor": 0
      },
      "text/plain": [
       "interactive(children=(FloatSlider(value=0.01, description='r', max=1.0, min=0.01, step=0.01), FloatSlider(valu…"
      ]
     },
     "metadata": {},
     "output_type": "display_data"
    }
   ],
   "source": [
    "@interact(r=(0.01, 1.00, 0.01), s=(0.01, 1.00, 0.01), t=(0, N-1), K=(1, 50))\n",
    "def _plot_gdf_features(r=0.01, s=0.05, t=131, K=15):\n",
    "    gdfs_r = r * np.ones(K)\n",
    "    gdfs_m = 0.1000 * np.hstack([np.arange(- K // 2, 0), np.arange(1, K // 2 + 1)])\n",
    "    gdfs_s = s * np.ones(K)\n",
    "    gdfs = np.vstack([gdfs_r, gdfs_m, gdfs_s]).T\n",
    "    \n",
    "    snapshot = order_book_snapshots[t]\n",
    "    date_time, buy_orders, sell_orders = transform_order_book_snapshot_to_orders(snapshot)\n",
    "    buy_orders, sell_orders = normalize_limit_order_book(buy_orders, sell_orders)\n",
    "\n",
    "    gdf_features = np.empty(K)\n",
    "    for k in range(K):\n",
    "        gdf_features[k] = gdf_representation(buy_orders, sell_orders, gdfs[k, :])\n",
    "\n",
    "    plot_gdf_features(gdf_features)"
   ]
  },
  {
   "cell_type": "markdown",
   "metadata": {},
   "source": [
    "## Random plots"
   ]
  },
  {
   "cell_type": "code",
   "execution_count": null,
   "metadata": {},
   "outputs": [],
   "source": []
  },
  {
   "cell_type": "code",
   "execution_count": 20,
   "metadata": {},
   "outputs": [
    {
     "name": "stdout",
     "output_type": "stream",
     "text": [
      "2013-09-05 09:26:00\n"
     ]
    },
    {
     "data": {
      "text/html": [
       "<div>\n",
       "<style scoped>\n",
       "    .dataframe tbody tr th:only-of-type {\n",
       "        vertical-align: middle;\n",
       "    }\n",
       "\n",
       "    .dataframe tbody tr th {\n",
       "        vertical-align: top;\n",
       "    }\n",
       "\n",
       "    .dataframe thead th {\n",
       "        text-align: right;\n",
       "    }\n",
       "</style>\n",
       "<table border=\"1\" class=\"dataframe\">\n",
       "  <thead>\n",
       "    <tr style=\"text-align: right;\">\n",
       "      <th></th>\n",
       "      <th>price</th>\n",
       "      <th>volume</th>\n",
       "    </tr>\n",
       "  </thead>\n",
       "  <tbody>\n",
       "    <tr>\n",
       "      <th>0</th>\n",
       "      <td>0.000000</td>\n",
       "      <td>0.000442</td>\n",
       "    </tr>\n",
       "    <tr>\n",
       "      <th>1</th>\n",
       "      <td>0.071618</td>\n",
       "      <td>0.002955</td>\n",
       "    </tr>\n",
       "    <tr>\n",
       "      <th>2</th>\n",
       "      <td>0.244032</td>\n",
       "      <td>0.001887</td>\n",
       "    </tr>\n",
       "    <tr>\n",
       "      <th>3</th>\n",
       "      <td>0.283820</td>\n",
       "      <td>0.008035</td>\n",
       "    </tr>\n",
       "    <tr>\n",
       "      <th>4</th>\n",
       "      <td>0.286472</td>\n",
       "      <td>0.000978</td>\n",
       "    </tr>\n",
       "    <tr>\n",
       "      <th>5</th>\n",
       "      <td>0.289125</td>\n",
       "      <td>0.001267</td>\n",
       "    </tr>\n",
       "    <tr>\n",
       "      <th>6</th>\n",
       "      <td>0.297082</td>\n",
       "      <td>0.008149</td>\n",
       "    </tr>\n",
       "    <tr>\n",
       "      <th>7</th>\n",
       "      <td>0.307692</td>\n",
       "      <td>0.001349</td>\n",
       "    </tr>\n",
       "    <tr>\n",
       "      <th>8</th>\n",
       "      <td>0.310345</td>\n",
       "      <td>0.004701</td>\n",
       "    </tr>\n",
       "    <tr>\n",
       "      <th>9</th>\n",
       "      <td>0.315650</td>\n",
       "      <td>0.004336</td>\n",
       "    </tr>\n",
       "    <tr>\n",
       "      <th>10</th>\n",
       "      <td>0.323607</td>\n",
       "      <td>0.001960</td>\n",
       "    </tr>\n",
       "    <tr>\n",
       "      <th>11</th>\n",
       "      <td>0.331565</td>\n",
       "      <td>0.000410</td>\n",
       "    </tr>\n",
       "    <tr>\n",
       "      <th>12</th>\n",
       "      <td>0.336870</td>\n",
       "      <td>0.046209</td>\n",
       "    </tr>\n",
       "    <tr>\n",
       "      <th>13</th>\n",
       "      <td>0.339788</td>\n",
       "      <td>0.000134</td>\n",
       "    </tr>\n",
       "    <tr>\n",
       "      <th>14</th>\n",
       "      <td>0.363395</td>\n",
       "      <td>0.012700</td>\n",
       "    </tr>\n",
       "    <tr>\n",
       "      <th>15</th>\n",
       "      <td>0.368700</td>\n",
       "      <td>0.013972</td>\n",
       "    </tr>\n",
       "    <tr>\n",
       "      <th>16</th>\n",
       "      <td>0.376658</td>\n",
       "      <td>0.014709</td>\n",
       "    </tr>\n",
       "    <tr>\n",
       "      <th>17</th>\n",
       "      <td>0.379576</td>\n",
       "      <td>0.000694</td>\n",
       "    </tr>\n",
       "    <tr>\n",
       "      <th>18</th>\n",
       "      <td>0.384881</td>\n",
       "      <td>0.000696</td>\n",
       "    </tr>\n",
       "    <tr>\n",
       "      <th>19</th>\n",
       "      <td>0.389920</td>\n",
       "      <td>0.012022</td>\n",
       "    </tr>\n",
       "    <tr>\n",
       "      <th>20</th>\n",
       "      <td>0.390186</td>\n",
       "      <td>0.000698</td>\n",
       "    </tr>\n",
       "    <tr>\n",
       "      <th>21</th>\n",
       "      <td>0.395491</td>\n",
       "      <td>0.000700</td>\n",
       "    </tr>\n",
       "    <tr>\n",
       "      <th>22</th>\n",
       "      <td>0.400796</td>\n",
       "      <td>0.000702</td>\n",
       "    </tr>\n",
       "    <tr>\n",
       "      <th>23</th>\n",
       "      <td>0.404509</td>\n",
       "      <td>0.001076</td>\n",
       "    </tr>\n",
       "    <tr>\n",
       "      <th>24</th>\n",
       "      <td>0.406101</td>\n",
       "      <td>0.000704</td>\n",
       "    </tr>\n",
       "    <tr>\n",
       "      <th>25</th>\n",
       "      <td>0.408488</td>\n",
       "      <td>0.001143</td>\n",
       "    </tr>\n",
       "    <tr>\n",
       "      <th>26</th>\n",
       "      <td>0.411406</td>\n",
       "      <td>0.000706</td>\n",
       "    </tr>\n",
       "    <tr>\n",
       "      <th>27</th>\n",
       "      <td>0.416446</td>\n",
       "      <td>0.010046</td>\n",
       "    </tr>\n",
       "    <tr>\n",
       "      <th>28</th>\n",
       "      <td>0.416711</td>\n",
       "      <td>0.000709</td>\n",
       "    </tr>\n",
       "    <tr>\n",
       "      <th>29</th>\n",
       "      <td>0.422016</td>\n",
       "      <td>0.000711</td>\n",
       "    </tr>\n",
       "    <tr>\n",
       "      <th>...</th>\n",
       "      <td>...</td>\n",
       "      <td>...</td>\n",
       "    </tr>\n",
       "    <tr>\n",
       "      <th>53</th>\n",
       "      <td>0.469231</td>\n",
       "      <td>0.000591</td>\n",
       "    </tr>\n",
       "    <tr>\n",
       "      <th>54</th>\n",
       "      <td>0.469496</td>\n",
       "      <td>0.021331</td>\n",
       "    </tr>\n",
       "    <tr>\n",
       "      <th>55</th>\n",
       "      <td>0.470027</td>\n",
       "      <td>0.017734</td>\n",
       "    </tr>\n",
       "    <tr>\n",
       "      <th>56</th>\n",
       "      <td>0.471618</td>\n",
       "      <td>0.002367</td>\n",
       "    </tr>\n",
       "    <tr>\n",
       "      <th>57</th>\n",
       "      <td>0.472149</td>\n",
       "      <td>0.001204</td>\n",
       "    </tr>\n",
       "    <tr>\n",
       "      <th>58</th>\n",
       "      <td>0.472414</td>\n",
       "      <td>0.002959</td>\n",
       "    </tr>\n",
       "    <tr>\n",
       "      <th>59</th>\n",
       "      <td>0.472679</td>\n",
       "      <td>0.009472</td>\n",
       "    </tr>\n",
       "    <tr>\n",
       "      <th>60</th>\n",
       "      <td>0.472944</td>\n",
       "      <td>0.006761</td>\n",
       "    </tr>\n",
       "    <tr>\n",
       "      <th>61</th>\n",
       "      <td>0.473210</td>\n",
       "      <td>0.001184</td>\n",
       "    </tr>\n",
       "    <tr>\n",
       "      <th>62</th>\n",
       "      <td>0.474005</td>\n",
       "      <td>0.003568</td>\n",
       "    </tr>\n",
       "    <tr>\n",
       "      <th>63</th>\n",
       "      <td>0.475332</td>\n",
       "      <td>0.001005</td>\n",
       "    </tr>\n",
       "    <tr>\n",
       "      <th>64</th>\n",
       "      <td>0.476393</td>\n",
       "      <td>0.006170</td>\n",
       "    </tr>\n",
       "    <tr>\n",
       "      <th>65</th>\n",
       "      <td>0.476658</td>\n",
       "      <td>0.000593</td>\n",
       "    </tr>\n",
       "    <tr>\n",
       "      <th>66</th>\n",
       "      <td>0.477454</td>\n",
       "      <td>0.011675</td>\n",
       "    </tr>\n",
       "    <tr>\n",
       "      <th>67</th>\n",
       "      <td>0.477719</td>\n",
       "      <td>0.006301</td>\n",
       "    </tr>\n",
       "    <tr>\n",
       "      <th>68</th>\n",
       "      <td>0.477984</td>\n",
       "      <td>0.009324</td>\n",
       "    </tr>\n",
       "    <tr>\n",
       "      <th>69</th>\n",
       "      <td>0.478249</td>\n",
       "      <td>0.001914</td>\n",
       "    </tr>\n",
       "    <tr>\n",
       "      <th>70</th>\n",
       "      <td>0.478515</td>\n",
       "      <td>0.001033</td>\n",
       "    </tr>\n",
       "    <tr>\n",
       "      <th>71</th>\n",
       "      <td>0.478780</td>\n",
       "      <td>0.001514</td>\n",
       "    </tr>\n",
       "    <tr>\n",
       "      <th>72</th>\n",
       "      <td>0.479045</td>\n",
       "      <td>0.002011</td>\n",
       "    </tr>\n",
       "    <tr>\n",
       "      <th>73</th>\n",
       "      <td>0.479310</td>\n",
       "      <td>0.007070</td>\n",
       "    </tr>\n",
       "    <tr>\n",
       "      <th>74</th>\n",
       "      <td>0.479576</td>\n",
       "      <td>0.006602</td>\n",
       "    </tr>\n",
       "    <tr>\n",
       "      <th>75</th>\n",
       "      <td>0.479841</td>\n",
       "      <td>0.010055</td>\n",
       "    </tr>\n",
       "    <tr>\n",
       "      <th>76</th>\n",
       "      <td>0.480106</td>\n",
       "      <td>0.016558</td>\n",
       "    </tr>\n",
       "    <tr>\n",
       "      <th>77</th>\n",
       "      <td>0.480371</td>\n",
       "      <td>0.014332</td>\n",
       "    </tr>\n",
       "    <tr>\n",
       "      <th>78</th>\n",
       "      <td>0.480637</td>\n",
       "      <td>0.007601</td>\n",
       "    </tr>\n",
       "    <tr>\n",
       "      <th>79</th>\n",
       "      <td>0.480902</td>\n",
       "      <td>0.009447</td>\n",
       "    </tr>\n",
       "    <tr>\n",
       "      <th>80</th>\n",
       "      <td>0.481167</td>\n",
       "      <td>0.008168</td>\n",
       "    </tr>\n",
       "    <tr>\n",
       "      <th>81</th>\n",
       "      <td>0.481432</td>\n",
       "      <td>0.011854</td>\n",
       "    </tr>\n",
       "    <tr>\n",
       "      <th>82</th>\n",
       "      <td>0.481698</td>\n",
       "      <td>0.003798</td>\n",
       "    </tr>\n",
       "  </tbody>\n",
       "</table>\n",
       "<p>83 rows × 2 columns</p>\n",
       "</div>"
      ],
      "text/plain": [
       "       price    volume\n",
       "0   0.000000  0.000442\n",
       "1   0.071618  0.002955\n",
       "2   0.244032  0.001887\n",
       "3   0.283820  0.008035\n",
       "4   0.286472  0.000978\n",
       "5   0.289125  0.001267\n",
       "6   0.297082  0.008149\n",
       "7   0.307692  0.001349\n",
       "8   0.310345  0.004701\n",
       "9   0.315650  0.004336\n",
       "10  0.323607  0.001960\n",
       "11  0.331565  0.000410\n",
       "12  0.336870  0.046209\n",
       "13  0.339788  0.000134\n",
       "14  0.363395  0.012700\n",
       "15  0.368700  0.013972\n",
       "16  0.376658  0.014709\n",
       "17  0.379576  0.000694\n",
       "18  0.384881  0.000696\n",
       "19  0.389920  0.012022\n",
       "20  0.390186  0.000698\n",
       "21  0.395491  0.000700\n",
       "22  0.400796  0.000702\n",
       "23  0.404509  0.001076\n",
       "24  0.406101  0.000704\n",
       "25  0.408488  0.001143\n",
       "26  0.411406  0.000706\n",
       "27  0.416446  0.010046\n",
       "28  0.416711  0.000709\n",
       "29  0.422016  0.000711\n",
       "..       ...       ...\n",
       "53  0.469231  0.000591\n",
       "54  0.469496  0.021331\n",
       "55  0.470027  0.017734\n",
       "56  0.471618  0.002367\n",
       "57  0.472149  0.001204\n",
       "58  0.472414  0.002959\n",
       "59  0.472679  0.009472\n",
       "60  0.472944  0.006761\n",
       "61  0.473210  0.001184\n",
       "62  0.474005  0.003568\n",
       "63  0.475332  0.001005\n",
       "64  0.476393  0.006170\n",
       "65  0.476658  0.000593\n",
       "66  0.477454  0.011675\n",
       "67  0.477719  0.006301\n",
       "68  0.477984  0.009324\n",
       "69  0.478249  0.001914\n",
       "70  0.478515  0.001033\n",
       "71  0.478780  0.001514\n",
       "72  0.479045  0.002011\n",
       "73  0.479310  0.007070\n",
       "74  0.479576  0.006602\n",
       "75  0.479841  0.010055\n",
       "76  0.480106  0.016558\n",
       "77  0.480371  0.014332\n",
       "78  0.480637  0.007601\n",
       "79  0.480902  0.009447\n",
       "80  0.481167  0.008168\n",
       "81  0.481432  0.011854\n",
       "82  0.481698  0.003798\n",
       "\n",
       "[83 rows x 2 columns]"
      ]
     },
     "execution_count": 20,
     "metadata": {},
     "output_type": "execute_result"
    }
   ],
   "source": [
    "sn = order_book_snapshots[1733]\n",
    "dt, bo, so = transform_order_book_snapshot_to_orders(sn)\n",
    "print(dt)\n",
    "bo, so = normalize_limit_order_book(bo, so)\n",
    "\n",
    "b = [{'price': b[0], 'volume': b[1]} for b in bo]\n",
    "df_b = pd.DataFrame(b)\n",
    "df_b"
   ]
  },
  {
   "cell_type": "code",
   "execution_count": 21,
   "metadata": {},
   "outputs": [],
   "source": [
    "K = 50\n",
    "gdfs_r = 0.0025 * np.ones(K)\n",
    "gdfs_m = 0.1000 * np.hstack([np.arange(- K // 2, 0), np.arange(1, K // 2 + 1)])\n",
    "gdfs_s = 0.0500 * np.ones(K)\n",
    "gdfs = np.vstack([gdfs_r, gdfs_m, gdfs_s]).T"
   ]
  },
  {
   "cell_type": "code",
   "execution_count": 22,
   "metadata": {},
   "outputs": [
    {
     "data": {
      "text/plain": [
       "[<matplotlib.lines.Line2D at 0x7ffb3e09dd68>]"
      ]
     },
     "execution_count": 22,
     "metadata": {},
     "output_type": "execute_result"
    },
    {
     "data": {
      "image/png": "[encoded data removed]",
      "text/plain": [
       "<Figure size 432x288 with 1 Axes>"
      ]
     },
     "metadata": {},
     "output_type": "display_data"
    }
   ],
   "source": [
    "plt.plot([gdf_representation(bo, so, gdfs[k, :]) for k in range(0, K)])\n",
    "plt.plot(df_b[[ 'volume']])"
   ]
  },
  {
   "cell_type": "code",
   "execution_count": 23,
   "metadata": {},
   "outputs": [
    {
     "data": {
      "text/plain": [
       "0.0"
      ]
     },
     "execution_count": 23,
     "metadata": {},
     "output_type": "execute_result"
    }
   ],
   "source": [
    "gdf_representation(bo, so, gdfs[0, :])"
   ]
  },
  {
   "cell_type": "code",
   "execution_count": 24,
   "metadata": {},
   "outputs": [
    {
     "data": {
      "text/plain": [
       "datetime.datetime(2013, 9, 5, 9, 26)"
      ]
     },
     "execution_count": 24,
     "metadata": {},
     "output_type": "execute_result"
    }
   ],
   "source": [
    "dt"
   ]
  },
  {
   "cell_type": "code",
   "execution_count": 25,
   "metadata": {},
   "outputs": [
    {
     "data": {
      "text/plain": [
       "array([[0.00000000e+00, 3.16358218e-03],\n",
       "       [2.28571429e-01, 8.55029441e-03],\n",
       "       [2.31428571e-01, 1.04481906e-03],\n",
       "       [2.34285714e-01, 1.35607607e-03],\n",
       "       [2.42857143e-01, 8.72375727e-03],\n",
       "       [2.54285714e-01, 1.44386679e-03],\n",
       "       [2.57142857e-01, 4.62760435e-03],\n",
       "       [2.62857143e-01, 4.64206562e-03],\n",
       "       [2.71428571e-01, 1.74890907e-03],\n",
       "       [2.85714286e-01, 4.02764720e-02],\n",
       "       [2.88857143e-01, 8.82724569e-04],\n",
       "       [2.94571429e-01, 8.85436056e-04],\n",
       "       [3.00285714e-01, 8.88147543e-04],\n",
       "       [3.06000000e-01, 8.90859030e-04],\n",
       "       [3.11714286e-01, 8.93570517e-04],\n",
       "       [3.14285714e-01, 7.22215389e-03],\n",
       "       [3.15142857e-01, 9.11310962e-04],\n",
       "       [3.17428571e-01, 8.96282004e-04],\n",
       "       [3.18857143e-01, 1.19594650e-03],\n",
       "       [3.20000000e-01, 1.49583695e-02],\n",
       "       [3.23142857e-01, 8.98993490e-04],\n",
       "       [3.28571429e-01, 1.57474122e-02],\n",
       "       [3.28857143e-01, 9.01704977e-04],\n",
       "       [3.34571429e-01, 9.04416464e-04],\n",
       "       [3.37142857e-01, 1.20751551e-03],\n",
       "       [3.40285714e-01, 9.07127951e-04],\n",
       "       [3.42857143e-01, 1.24407359e-02],\n",
       "       [3.44000000e-01, 1.81778084e-03],\n",
       "       [3.46000000e-01, 9.09839438e-04],\n",
       "       [3.46285714e-01, 2.42660003e-03],\n",
       "       [3.48857143e-01, 6.07463454e-04],\n",
       "       [3.52571429e-01, 1.21727686e-03],\n",
       "       [3.57142857e-01, 4.88067647e-03],\n",
       "       [3.58857143e-01, 1.22125371e-03],\n",
       "       [3.62000000e-01, 3.97553694e-03],\n",
       "       [3.62857143e-01, 4.49801968e-03],\n",
       "       [3.65142857e-01, 1.25953701e-03],\n",
       "       [3.68857143e-01, 3.68274154e-03],\n",
       "       [3.71428571e-01, 3.67963237e-03],\n",
       "       [3.74857143e-01, 2.46275319e-03],\n",
       "       [3.75714286e-01, 9.18395535e-04],\n",
       "       [3.77142857e-01, 1.23282272e-02],\n",
       "       [3.78571429e-01, 2.13434693e-02],\n",
       "       [3.80000000e-01, 1.85256289e-03],\n",
       "       [3.80285714e-01, 1.85221672e-03],\n",
       "       [3.81428571e-01, 6.17767105e-03],\n",
       "       [3.84285714e-01, 1.23734187e-03],\n",
       "       [3.85714286e-01, 3.38350637e-02],\n",
       "       [3.87714286e-01, 1.23951106e-03],\n",
       "       [3.88571429e-01, 2.46770618e-02],\n",
       "       [3.89428571e-01, 6.20297826e-04],\n",
       "       [3.90571429e-01, 1.24131871e-03],\n",
       "       [3.91428571e-01, 3.14811767e-04],\n",
       "       [3.92285714e-01, 3.72720993e-03],\n",
       "       [3.92571429e-01, 1.23637116e-04],\n",
       "       [3.92857143e-01, 3.85319239e-03],\n",
       "       [3.94000000e-01, 1.24162267e-03],\n",
       "       [3.94285714e-01, 6.01313802e-04],\n",
       "       [3.95142857e-01, 6.18372851e-04],\n",
       "       [3.95428571e-01, 5.97556910e-03],\n",
       "       [3.96285714e-01, 7.67190596e-03],\n",
       "       [3.96571429e-01, 7.25901926e-04],\n",
       "       [3.96857143e-01, 1.62884660e-03],\n",
       "       [3.97142857e-01, 6.30833760e-04],\n",
       "       [3.97428571e-01, 6.21271476e-03],\n",
       "       [3.97714286e-01, 3.09777584e-03],\n",
       "       [3.98000000e-01, 3.71002046e-03],\n",
       "       [3.98285714e-01, 5.27765442e-04],\n",
       "       [3.98571429e-01, 1.20107424e-02],\n",
       "       [3.98857143e-01, 1.10538790e-02],\n",
       "       [3.99142857e-01, 9.55253482e-03],\n",
       "       [3.99428571e-01, 1.32872057e-02],\n",
       "       [3.99714286e-01, 1.24872445e-02],\n",
       "       [4.00000000e-01, 7.69698948e-03],\n",
       "       [4.00285714e-01, 9.02104135e-03],\n",
       "       [4.00571429e-01, 7.37420883e-03],\n",
       "       [4.00857143e-01, 2.63416128e-03]])"
      ]
     },
     "execution_count": 25,
     "metadata": {},
     "output_type": "execute_result"
    }
   ],
   "source": [
    "buy_orders"
   ]
  },
  {
   "cell_type": "code",
   "execution_count": 26,
   "metadata": {},
   "outputs": [
    {
     "data": {
      "application/vnd.jupyter.widget-view+json": {
       "model_id": "b2554d06a1cd4e20a1f0dcc3d1aaa066",
       "version_major": 2,
       "version_minor": 0
      },
      "text/plain": [
       "interactive(children=(IntSlider(value=20, description='levels', min=1), FloatSlider(value=0.01, description='r…"
      ]
     },
     "metadata": {},
     "output_type": "display_data"
    }
   ],
   "source": [
    "@interact(levels=(1, 100),  r=(0.01, 1.00, 0.01), s=(0.01, 1.00, 0.01), m=(0.001, 1.00, 0.01), t=(0, N-1), K=(1, 50))\n",
    "def _plot_lob_and_gdf(levels=20, r=0.01, s=0.05, m=0.1, t=131, K=15):\n",
    "    gdfs_r = r * np.ones(K)\n",
    "    gdfs_m = m * np.hstack([np.arange(- K // 2, 0), np.arange(1, K // 2 + 1)])\n",
    "    gdfs_s = s * np.ones(K)\n",
    "    gdfs = np.vstack([gdfs_r, gdfs_m, gdfs_s]).T\n",
    "    gdf = 1\n",
    "    plot_lob_and_gdf(buy_orders, sell_orders, gdfs[gdf, :], levels)\n",
    "    print('GDF parameters: r = %2.4f, m = %2.4f, s = %2.4f.' % (gdfs[gdf, 0], gdfs[gdf, 1], gdfs[gdf, 2]))\n",
    "    print('LOB area: %2.4f' % gdf_representation(buy_orders, sell_orders, gdfs[gdf, :])) "
   ]
  },
  {
   "cell_type": "code",
   "execution_count": null,
   "metadata": {},
   "outputs": [],
   "source": []
  }
 ],
 "metadata": {
  "kernelspec": {
   "display_name": "Python 3",
   "language": "python",
   "name": "python3"
  },
  "language_info": {
   "codemirror_mode": {
    "name": "ipython",
    "version": 3
   },
   "file_extension": ".py",
   "mimetype": "text/x-python",
   "name": "python",
   "nbconvert_exporter": "python",
   "pygments_lexer": "ipython3",
   "version": "3.6.5"
  }
 },
 "nbformat": 4,
 "nbformat_minor": 2
}
