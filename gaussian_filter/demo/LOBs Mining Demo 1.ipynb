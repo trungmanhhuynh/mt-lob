{
 "cells": [
  {
   "cell_type": "markdown",
   "metadata": {},
   "source": [
    "# LOBs Encoding 1\n",
    "\n",
    "This notebook illustrates the LOB encoding with Gaussian Density Filters (GDF)."
   ]
  },
  {
   "cell_type": "code",
   "execution_count": 1,
   "metadata": {},
   "outputs": [
    {
     "data": {
      "text/html": [
       "<script type=\"text/javascript\">window.PlotlyConfig = {MathJaxConfig: 'local'};</script><script type=\"text/javascript\">if (window.MathJax) {MathJax.Hub.Config({SVG: {font: \"STIX-Web\"}});}</script><script>requirejs.config({paths: { 'plotly': ['https://cdn.plot.ly/plotly-latest.min']},});if(!window._Plotly) {require(['plotly'],function(plotly) {window._Plotly=plotly;});}</script>"
      ],
      "text/vnd.plotly.v1+html": [
       "<script type=\"text/javascript\">window.PlotlyConfig = {MathJaxConfig: 'local'};</script><script type=\"text/javascript\">if (window.MathJax) {MathJax.Hub.Config({SVG: {font: \"STIX-Web\"}});}</script><script>requirejs.config({paths: { 'plotly': ['https://cdn.plot.ly/plotly-latest.min']},});if(!window._Plotly) {require(['plotly'],function(plotly) {window._Plotly=plotly;});}</script>"
      ]
     },
     "metadata": {},
     "output_type": "display_data"
    },
    {
     "data": {
      "text/html": [
       "<script type=\"text/javascript\">window.PlotlyConfig = {MathJaxConfig: 'local'};</script><script type=\"text/javascript\">if (window.MathJax) {MathJax.Hub.Config({SVG: {font: \"STIX-Web\"}});}</script><script>requirejs.config({paths: { 'plotly': ['https://cdn.plot.ly/plotly-latest.min']},});if(!window._Plotly) {require(['plotly'],function(plotly) {window._Plotly=plotly;});}</script>"
      ],
      "text/vnd.plotly.v1+html": [
       "<script type=\"text/javascript\">window.PlotlyConfig = {MathJaxConfig: 'local'};</script><script type=\"text/javascript\">if (window.MathJax) {MathJax.Hub.Config({SVG: {font: \"STIX-Web\"}});}</script><script>requirejs.config({paths: { 'plotly': ['https://cdn.plot.ly/plotly-latest.min']},});if(!window._Plotly) {require(['plotly'],function(plotly) {window._Plotly=plotly;});}</script>"
      ]
     },
     "metadata": {},
     "output_type": "display_data"
    }
   ],
   "source": [
    "import numpy as np\n",
    "import matplotlib.pyplot as plt\n",
    "import pandas as pd\n",
    "\n",
    "from scipy.stats import norm\n",
    "\n",
    "import datetime\n",
    "import time\n",
    "import pickle\n",
    "import gzip\n",
    "\n",
    "% matplotlib inline\n",
    "\n",
    "import plotly.offline as py\n",
    "import plotly.figure_factory as ff\n",
    "import plotly.graph_objs as go\n",
    "\n",
    "py.init_notebook_mode(connected=True)\n",
    "\n",
    "from ipywidgets import interact, interactive, fixed, interact_manual, widgets\n",
    "import warnings\n",
    "py.init_notebook_mode(connected=True)\n",
    "\n",
    "from ipywidgets import interact, interactive, fixed, interact_manual, widgets\n",
    "\n",
    "from lobs import *\n",
    "warnings.filterwarnings('ignore')\n",
    "from lobs import *"
   ]
  },
  {
   "cell_type": "code",
   "execution_count": 2,
   "metadata": {},
   "outputs": [],
   "source": [
    "filename = \"OrderBookSnapshots.csv.9061.zip\"\n",
    "order_book_snapshots = load_order_book_snapshots(filename)\n",
    "snapshot = order_book_snapshots[131]\n",
    "date_time, buy_orders, sell_orders = transform_order_book_snapshot_to_orders(snapshot)"
   ]
  },
  {
   "cell_type": "markdown",
   "metadata": {},
   "source": [
    "## Limit Order Books"
   ]
  },
  {
   "cell_type": "code",
   "execution_count": 3,
   "metadata": {},
   "outputs": [
    {
     "data": {
      "application/vnd.jupyter.widget-view+json": {
       "model_id": "a8ca2d68d8d043029bbc75aef0aee660",
       "version_major": 2,
       "version_minor": 0
      },
      "text/plain": [
       "interactive(children=(IntSlider(value=15, description='levels', min=1), Output()), _dom_classes=('widget-inter…"
      ]
     },
     "metadata": {},
     "output_type": "display_data"
    }
   ],
   "source": [
    "@interact(levels=(1, 100))\n",
    "def _plot_lob_original(levels=15):\n",
    "    plot_lob(buy_orders, sell_orders, levels, showMidPrice=True, title='Limit Order Book', xtitle='Price', ytitle='Volume')"
   ]
  },
  {
   "cell_type": "markdown",
   "metadata": {},
   "source": [
    "## Normalization of Limit Order Books"
   ]
  },
  {
   "cell_type": "code",
   "execution_count": 4,
   "metadata": {},
   "outputs": [],
   "source": [
    "def normalize_limit_order_book(buy_orders, sell_orders):\n",
    "    mid_price = (buy_orders[-1, 0] + sell_orders[0, 0]) / 2.0\n",
    "\n",
    "    if(buy_orders.shape[0] > 0):\n",
    "        buy_orders[:, 1] = buy_orders[:, 0] * buy_orders[:, 1]\n",
    "        buy_orders[:, 0] = 1000.0 * (buy_orders[:, 0] - mid_price) / mid_price\n",
    "\n",
    "    if(sell_orders.shape[0] > 0):\n",
    "        sell_orders[:, 1] = sell_orders[:, 0] * sell_orders[:, 1]\n",
    "        sell_orders[:, 0] = 1000.0 * (sell_orders[:, 0] - mid_price) / mid_price\n",
    "\n",
    "    total_capital = buy_orders[:, 1].sum() + sell_orders[:, 1].sum()\n",
    "    buy_orders[:, 1] /= total_capital\n",
    "    sell_orders[:, 1] /= total_capital\n",
    "\n",
    "    return buy_orders, sell_orders"
   ]
  },
  {
   "cell_type": "code",
   "execution_count": 5,
   "metadata": {},
   "outputs": [],
   "source": [
    "buy_orders, sell_orders = normalize_limit_order_book(buy_orders, sell_orders)"
   ]
  },
  {
   "cell_type": "code",
   "execution_count": 6,
   "metadata": {},
   "outputs": [
    {
     "data": {
      "application/vnd.jupyter.widget-view+json": {
       "model_id": "3417583b01a84166b70d09341211e6c7",
       "version_major": 2,
       "version_minor": 0
      },
      "text/plain": [
       "interactive(children=(IntSlider(value=15, description='levels', min=1), Output()), _dom_classes=('widget-inter…"
      ]
     },
     "metadata": {},
     "output_type": "display_data"
    }
   ],
   "source": [
    "@interact(levels=(1, 100))\n",
    "def _plot_lob_normalized(levels=15):\n",
    "    plot_lob(buy_orders, sell_orders, levels, showMidPrice=True, title='Limit Order Book', xtitle='Price (normalized)', ytitle='Volume (normalized)')"
   ]
  },
  {
   "cell_type": "markdown",
   "metadata": {},
   "source": [
    "## Encoding Limit Order Books with Gaussian Density Filters"
   ]
  },
  {
   "cell_type": "code",
   "execution_count": 7,
   "metadata": {},
   "outputs": [],
   "source": [
    "K = 50\n",
    "gdfs_r = 0.0025 * np.ones(K)\n",
    "gdfs_m = 0.1000 * np.hstack([np.arange(- K // 2, 0), np.arange(1, K // 2 + 1)])\n",
    "gdfs_s = 0.0500 * np.ones(K)\n",
    "gdfs = np.vstack([gdfs_r, gdfs_m, gdfs_s]).T"
   ]
  },
  {
   "cell_type": "code",
   "execution_count": 8,
   "metadata": {},
   "outputs": [
    {
     "data": {
      "application/vnd.jupyter.widget-view+json": {
       "model_id": "200b87e009884324b53cb6fb5724af1d",
       "version_major": 2,
       "version_minor": 0
      },
      "text/plain": [
       "interactive(children=(IntSlider(value=26, description='gdf', max=49), IntSlider(value=20, description='levels'…"
      ]
     },
     "metadata": {},
     "output_type": "display_data"
    }
   ],
   "source": [
    "@interact(levels=(1, 100), gdf=(0, K-1))\n",
    "def _plot_lob_and_gdf(gdf=K//2+1, levels=20):\n",
    "    plot_lob_and_gdf(buy_orders, sell_orders, gdfs[gdf, :], levels)\n",
    "    print('GDF parameters: r = %2.4f, m = %2.4f, s = %2.4f.' % (gdfs[gdf, 0], gdfs[gdf, 1], gdfs[gdf, 2]))\n",
    "    print('LOB area: %2.4f' % gdf_representation(buy_orders, sell_orders, gdfs[gdf, :]))    "
   ]
  },
  {
   "cell_type": "code",
   "execution_count": 9,
   "metadata": {},
   "outputs": [
    {
     "data": {
      "application/vnd.jupyter.widget-view+json": {
       "model_id": "c8c3d6d3828c4f08b2b17c918b03ac4b",
       "version_major": 2,
       "version_minor": 0
      },
      "text/plain": [
       "interactive(children=(IntSlider(value=26, description='gdf', max=49), IntSlider(value=20, description='levels'…"
      ]
     },
     "metadata": {},
     "output_type": "display_data"
    }
   ],
   "source": [
    "@interact(levels=(1, 100), gdf=(0, K-1))\n",
    "def _plot_lob_clipped_to_gdf(gdf=K//2+1, levels=20):\n",
    "    plot_lob_clipped_to_gdf(buy_orders, sell_orders, gdfs[gdf, :], levels)\n",
    "    print('GDF parameters: r = %2.4f, m = %2.4f, s = %2.4f.' % (gdfs[gdf, 0], gdfs[gdf, 1], gdfs[gdf, 2]))\n",
    "    print('LOB area: %2.4f' % gdf_representation(buy_orders, sell_orders, gdfs[gdf, :]))"
   ]
  },
  {
   "cell_type": "code",
   "execution_count": 10,
   "metadata": {},
   "outputs": [
    {
     "data": {
      "application/vnd.plotly.v1+json": {
       "config": {
        "displayModeBar": false,
        "editable": false,
        "linkText": "Export to plot.ly",
        "plotlyServerURL": "https://plot.ly",
        "showLink": false
       },
       "data": [
        {
         "marker": {
          "color": "rgb(0, 0, 128)",
          "line": {
           "color": "rgb(0, 0, 128)",
           "width": 1.5
          }
         },
         "name": "GDF Features",
         "opacity": 0.75,
         "type": "bar",
         "uid": "fff8a64c-adcf-467e-bc5a-35f8d167b124",
         "x": [
          0,
          1,
          2,
          3,
          4,
          5,
          6,
          7,
          8,
          9,
          10,
          11,
          12,
          13,
          14,
          15,
          16,
          17,
          18,
          19,
          20,
          21,
          22,
          23,
          24,
          25,
          26,
          27,
          28,
          29,
          30,
          31,
          32,
          33,
          34,
          35,
          36,
          37,
          38,
          39,
          40,
          41,
          42,
          43,
          44,
          45,
          46,
          47,
          48,
          49
         ],
         "y": [
          0.008397852355774508,
          0.0014213735393802222,
          0.002361814143944189,
          0.0022746871733138386,
          0.0012318821974074347,
          0.0068587343653099125,
          0.009317475919250147,
          0.003796240455636429,
          0.005484037843285083,
          0.004241499930474399,
          0.0015279168478559112,
          0.012604818564773848,
          0.014017603269554188,
          0.01259441293675674,
          0.01032486053237458,
          0.014551888268068483,
          0.0156557372788697,
          0.013098679595441207,
          0.010796522752850304,
          0.01123195706265054,
          0.00966478675491772,
          0.009427002552348322,
          0.01001218157533697,
          0.0027383996969012102,
          0.0012758424874865703,
          0.0012758424874964233,
          0.006601372691707345,
          0.01372736670402105,
          0.010705240692481239,
          0.012694615351973033,
          0.012906170359442795,
          0.012470736049683557,
          0.010691604617955524,
          0.01652318892548845,
          0.014551888268029684,
          0.00922112808710176,
          0.005601844262248376,
          0.005493785452158832,
          0.0025756244948520915,
          0.013479481210897728,
          0.00599589670961806,
          0.0019078169377741378,
          0.002036354531129873,
          0.004377617836246567,
          0.0028293981060784163,
          0.00030191210789983836,
          1.5006817487212614e-05,
          0.003984075435451816,
          0.008199630583982974,
          0.010186226857966715
         ]
        }
       ],
       "layout": {
        "showlegend": false,
        "title": "Limit Order Book in GDF Encoding",
        "xaxis": {
         "title": "GDF Feature"
        },
        "yaxis": {
         "title": "GDF Value"
        }
       }
      },
      "text/html": [
       "<div id=\"3ae7ce00-9f63-46fa-8a7b-1783a8e43d5b\" style=\"height: 525px; width: 100%;\" class=\"plotly-graph-div\"></div><script type=\"text/javascript\">require([\"plotly\"], function(Plotly) { window.PLOTLYENV=window.PLOTLYENV || {};window.PLOTLYENV.BASE_URL=\"https://plot.ly\";Plotly.newPlot(\"3ae7ce00-9f63-46fa-8a7b-1783a8e43d5b\", [{\"marker\": {\"color\": \"rgb(0, 0, 128)\", \"line\": {\"color\": \"rgb(0, 0, 128)\", \"width\": 1.5}}, \"name\": \"GDF Features\", \"opacity\": 0.75, \"x\": [0, 1, 2, 3, 4, 5, 6, 7, 8, 9, 10, 11, 12, 13, 14, 15, 16, 17, 18, 19, 20, 21, 22, 23, 24, 25, 26, 27, 28, 29, 30, 31, 32, 33, 34, 35, 36, 37, 38, 39, 40, 41, 42, 43, 44, 45, 46, 47, 48, 49], \"y\": [0.008397852355774508, 0.0014213735393802222, 0.002361814143944189, 0.0022746871733138386, 0.0012318821974074347, 0.0068587343653099125, 0.009317475919250147, 0.003796240455636429, 0.005484037843285083, 0.004241499930474399, 0.0015279168478559112, 0.012604818564773848, 0.014017603269554188, 0.01259441293675674, 0.01032486053237458, 0.014551888268068483, 0.0156557372788697, 0.013098679595441207, 0.010796522752850304, 0.01123195706265054, 0.00966478675491772, 0.009427002552348322, 0.01001218157533697, 0.0027383996969012102, 0.0012758424874865703, 0.0012758424874964233, 0.006601372691707345, 0.01372736670402105, 0.010705240692481239, 0.012694615351973033, 0.012906170359442795, 0.012470736049683557, 0.010691604617955524, 0.01652318892548845, 0.014551888268029684, 0.00922112808710176, 0.005601844262248376, 0.005493785452158832, 0.0025756244948520915, 0.013479481210897728, 0.00599589670961806, 0.0019078169377741378, 0.002036354531129873, 0.004377617836246567, 0.0028293981060784163, 0.00030191210789983836, 1.5006817487212614e-05, 0.003984075435451816, 0.008199630583982974, 0.010186226857966715], \"type\": \"bar\", \"uid\": \"fff8a64c-adcf-467e-bc5a-35f8d167b124\"}], {\"showlegend\": false, \"title\": \"Limit Order Book in GDF Encoding\", \"xaxis\": {\"title\": \"GDF Feature\"}, \"yaxis\": {\"title\": \"GDF Value\"}}, {\"editable\": false, \"showLink\": false, \"linkText\": \"Export to plot.ly\", \"displayModeBar\": false, \"plotlyServerURL\": \"https://plot.ly\"})});</script><script type=\"text/javascript\">window.addEventListener(\"resize\", function(){window._Plotly.Plots.resize(document.getElementById(\"3ae7ce00-9f63-46fa-8a7b-1783a8e43d5b\"));});</script>"
      ],
      "text/vnd.plotly.v1+html": [
       "<div id=\"3ae7ce00-9f63-46fa-8a7b-1783a8e43d5b\" style=\"height: 525px; width: 100%;\" class=\"plotly-graph-div\"></div><script type=\"text/javascript\">require([\"plotly\"], function(Plotly) { window.PLOTLYENV=window.PLOTLYENV || {};window.PLOTLYENV.BASE_URL=\"https://plot.ly\";Plotly.newPlot(\"3ae7ce00-9f63-46fa-8a7b-1783a8e43d5b\", [{\"marker\": {\"color\": \"rgb(0, 0, 128)\", \"line\": {\"color\": \"rgb(0, 0, 128)\", \"width\": 1.5}}, \"name\": \"GDF Features\", \"opacity\": 0.75, \"x\": [0, 1, 2, 3, 4, 5, 6, 7, 8, 9, 10, 11, 12, 13, 14, 15, 16, 17, 18, 19, 20, 21, 22, 23, 24, 25, 26, 27, 28, 29, 30, 31, 32, 33, 34, 35, 36, 37, 38, 39, 40, 41, 42, 43, 44, 45, 46, 47, 48, 49], \"y\": [0.008397852355774508, 0.0014213735393802222, 0.002361814143944189, 0.0022746871733138386, 0.0012318821974074347, 0.0068587343653099125, 0.009317475919250147, 0.003796240455636429, 0.005484037843285083, 0.004241499930474399, 0.0015279168478559112, 0.012604818564773848, 0.014017603269554188, 0.01259441293675674, 0.01032486053237458, 0.014551888268068483, 0.0156557372788697, 0.013098679595441207, 0.010796522752850304, 0.01123195706265054, 0.00966478675491772, 0.009427002552348322, 0.01001218157533697, 0.0027383996969012102, 0.0012758424874865703, 0.0012758424874964233, 0.006601372691707345, 0.01372736670402105, 0.010705240692481239, 0.012694615351973033, 0.012906170359442795, 0.012470736049683557, 0.010691604617955524, 0.01652318892548845, 0.014551888268029684, 0.00922112808710176, 0.005601844262248376, 0.005493785452158832, 0.0025756244948520915, 0.013479481210897728, 0.00599589670961806, 0.0019078169377741378, 0.002036354531129873, 0.004377617836246567, 0.0028293981060784163, 0.00030191210789983836, 1.5006817487212614e-05, 0.003984075435451816, 0.008199630583982974, 0.010186226857966715], \"type\": \"bar\", \"uid\": \"fff8a64c-adcf-467e-bc5a-35f8d167b124\"}], {\"showlegend\": false, \"title\": \"Limit Order Book in GDF Encoding\", \"xaxis\": {\"title\": \"GDF Feature\"}, \"yaxis\": {\"title\": \"GDF Value\"}}, {\"editable\": false, \"showLink\": false, \"linkText\": \"Export to plot.ly\", \"displayModeBar\": false, \"plotlyServerURL\": \"https://plot.ly\"})});</script><script type=\"text/javascript\">window.addEventListener(\"resize\", function(){window._Plotly.Plots.resize(document.getElementById(\"3ae7ce00-9f63-46fa-8a7b-1783a8e43d5b\"));});</script>"
      ]
     },
     "metadata": {},
     "output_type": "display_data"
    }
   ],
   "source": [
    "gdf_features = np.empty(K)\n",
    "for k in range(K):\n",
    "    gdf_features[k] = gdf_representation(buy_orders, sell_orders, gdfs[k, :])\n",
    "\n",
    "plot_gdf_features(gdf_features)"
   ]
  },
  {
   "cell_type": "markdown",
   "metadata": {},
   "source": [
    "## Adjustement of Parameters of Gaussian Density Filters"
   ]
  },
  {
   "cell_type": "code",
   "execution_count": 11,
   "metadata": {},
   "outputs": [
    {
     "data": {
      "application/vnd.jupyter.widget-view+json": {
       "model_id": "885f6e64b61b4c3dbb7cea91d010291f",
       "version_major": 2,
       "version_minor": 0
      },
      "text/plain": [
       "interactive(children=(FloatSlider(value=0.01, description='r', max=1.0, min=0.01, step=0.01), FloatSlider(valu…"
      ]
     },
     "metadata": {},
     "output_type": "display_data"
    }
   ],
   "source": [
    "@interact(r=(0.01, 1.00, 0.01), s=(0.01, 1.00, 0.01))\n",
    "def _plot_gdf_features(r=0.01, s=0.05):\n",
    "    K = 50\n",
    "    gdfs_r = r * np.ones(K)\n",
    "    gdfs_m = 0.1000 * np.hstack([np.arange(- K // 2, 0), np.arange(1, K // 2 + 1)])\n",
    "    gdfs_s = s * np.ones(K)\n",
    "    gdfs = np.vstack([gdfs_r, gdfs_m, gdfs_s]).T\n",
    "\n",
    "    gdf_features = np.empty(K)\n",
    "    for k in range(K):\n",
    "        gdf_features[k] = gdf_representation(buy_orders, sell_orders, gdfs[k, :])\n",
    "\n",
    "    plot_gdf_features(gdf_features)"
   ]
  },
  {
   "cell_type": "markdown",
   "metadata": {},
   "source": [
    "## Observing Limit Order Books in Time"
   ]
  },
  {
   "cell_type": "code",
   "execution_count": 12,
   "metadata": {},
   "outputs": [
    {
     "data": {
      "application/vnd.jupyter.widget-view+json": {
       "model_id": "7968101cc38d4e2894b31f9d95a03814",
       "version_major": 2,
       "version_minor": 0
      },
      "text/plain": [
       "interactive(children=(IntSlider(value=131, description='t', max=5473), IntSlider(value=15, description='levels…"
      ]
     },
     "metadata": {},
     "output_type": "display_data"
    }
   ],
   "source": [
    "N = len(order_book_snapshots)\n",
    "@interact(t=(0, N-1), levels=(1, 100))\n",
    "def _plot_lob_original(t=131, levels=15):\n",
    "    snapshot = order_book_snapshots[t]\n",
    "    date_time, buy_orders, sell_orders = transform_order_book_snapshot_to_orders(snapshot)\n",
    "\n",
    "    plot_lob(buy_orders, sell_orders, levels, showMidPrice=True, title='Limit Order Book', xtitle='Price', ytitle='Volume')"
   ]
  },
  {
   "cell_type": "code",
   "execution_count": 13,
   "metadata": {},
   "outputs": [
    {
     "data": {
      "application/vnd.jupyter.widget-view+json": {
       "model_id": "9548f1e5b4e7405086606f1716620af9",
       "version_major": 2,
       "version_minor": 0
      },
      "text/plain": [
       "interactive(children=(IntSlider(value=131, description='t', max=5473), IntSlider(value=15, description='levels…"
      ]
     },
     "metadata": {},
     "output_type": "display_data"
    }
   ],
   "source": [
    "@interact(t=(0, N-1), levels=(1, 100))\n",
    "def _plot_lob_normalized(t=131, levels=15):\n",
    "    snapshot = order_book_snapshots[t]\n",
    "    date_time, buy_orders, sell_orders = transform_order_book_snapshot_to_orders(snapshot)\n",
    "    buy_orders, sell_orders = normalize_limit_order_book(buy_orders, sell_orders)\n",
    "\n",
    "    plot_lob(buy_orders, sell_orders, levels, showMidPrice=True, title='Limit Order Book', xtitle='Price (normalized)', ytitle='Volume (normalized)')"
   ]
  },
  {
   "cell_type": "code",
   "execution_count": 14,
   "metadata": {},
   "outputs": [],
   "source": [
    "K = 50\n",
    "gdfs_r = 0.0025 * np.ones(K)\n",
    "gdfs_m = 0.1000 * np.hstack([np.arange(- K // 2, 0), np.arange(1, K // 2 + 1)])\n",
    "gdfs_s = 0.0500 * np.ones(K)\n",
    "gdfs = np.vstack([gdfs_r, gdfs_m, gdfs_s]).T"
   ]
  },
  {
   "cell_type": "code",
   "execution_count": 15,
   "metadata": {},
   "outputs": [
    {
     "data": {
      "application/vnd.jupyter.widget-view+json": {
       "model_id": "dc03a6718ade4510ba513bbaaf55cf9f",
       "version_major": 2,
       "version_minor": 0
      },
      "text/plain": [
       "interactive(children=(IntSlider(value=131, description='t', max=5473), Output()), _dom_classes=('widget-intera…"
      ]
     },
     "metadata": {},
     "output_type": "display_data"
    }
   ],
   "source": [
    "@interact(t=(0, N-1))\n",
    "def _plot_gdf_features(t=131):\n",
    "    snapshot = order_book_snapshots[t]\n",
    "    date_time, buy_orders, sell_orders = transform_order_book_snapshot_to_orders(snapshot)\n",
    "    buy_orders, sell_orders = normalize_limit_order_book(buy_orders, sell_orders)\n",
    "\n",
    "    gdf_features = np.empty(K)\n",
    "    for k in range(K):\n",
    "        gdf_features[k] = gdf_representation(buy_orders, sell_orders, gdfs[k, :])\n",
    "\n",
    "    plot_gdf_features(gdf_features)"
   ]
  },
  {
   "cell_type": "code",
   "execution_count": null,
   "metadata": {},
   "outputs": [],
   "source": []
  },
  {
   "cell_type": "code",
   "execution_count": 16,
   "metadata": {},
   "outputs": [
    {
     "data": {
      "application/vnd.jupyter.widget-view+json": {
       "model_id": "d69b91ff622a442fa85b5391d6cc7864",
       "version_major": 2,
       "version_minor": 0
      },
      "text/plain": [
       "interactive(children=(FloatSlider(value=0.01, description='r', max=1.0, min=0.01, step=0.01), FloatSlider(valu…"
      ]
     },
     "metadata": {},
     "output_type": "display_data"
    }
   ],
   "source": [
    "@interact(r=(0.01, 1.00, 0.01), s=(0.01, 1.00, 0.01), t=(0, N-1))\n",
    "def _plot_gdf_features(r=0.01, s=0.05, t=131):\n",
    "    K = 50\n",
    "    gdfs_r = r * np.ones(K)\n",
    "    gdfs_m = 0.1000 * np.hstack([np.arange(- K // 2, 0), np.arange(1, K // 2 + 1)])\n",
    "    gdfs_s = s * np.ones(K)\n",
    "    gdfs = np.vstack([gdfs_r, gdfs_m, gdfs_s]).T\n",
    "    \n",
    "    snapshot = order_book_snapshots[t]\n",
    "    date_time, buy_orders, sell_orders = transform_order_book_snapshot_to_orders(snapshot)\n",
    "    buy_orders, sell_orders = normalize_limit_order_book(buy_orders, sell_orders)\n",
    "\n",
    "    gdf_features = np.empty(K)\n",
    "    for k in range(K):\n",
    "        gdf_features[k] = gdf_representation(buy_orders, sell_orders, gdfs[k, :])\n",
    "\n",
    "    plot_gdf_features(gdf_features)"
   ]
  },
  {
   "cell_type": "code",
   "execution_count": 29,
   "metadata": {},
   "outputs": [
    {
     "data": {
      "application/vnd.jupyter.widget-view+json": {
       "model_id": "1d4dea71f7794677955031897ca47cfb",
       "version_major": 2,
       "version_minor": 0
      },
      "text/plain": [
       "interactive(children=(IntSlider(value=20, description='levels', min=1), FloatSlider(value=0.01, description='r…"
      ]
     },
     "metadata": {},
     "output_type": "display_data"
    }
   ],
   "source": [
    "@interact(levels=(1, 100),  r=(0.01, 1.00, 0.01), s=(0.01, 1.00, 0.01), t=(0, N-1), gdf=(0, K-1))\n",
    "def _plot_lob_and_gdf(levels=20, r=0.01, s=0.05, t=131, gdf=K//2+1):\n",
    "    K = 51\n",
    "    snapshot = order_book_snapshots[t]\n",
    "    date_time, buy_orders, sell_orders = transform_order_book_snapshot_to_orders(snapshot)\n",
    "    buy_orders, sell_orders = normalize_limit_order_book(buy_orders, sell_orders)\n",
    "    gdfs_r = r * np.ones(K)\n",
    "    gdfs_m = 0.1000 * np.hstack([np.arange(- K // 2, 0), np.arange(1, K // 2 + 1)])\n",
    "    gdfs_s = s * np.ones(K)\n",
    "    gdfs = np.vstack([gdfs_r, gdfs_m, gdfs_s]).T\n",
    "    plot_lob_and_gdf(buy_orders, sell_orders, gdfs[gdf, :], levels)\n",
    "    print('GDF parameters: r = %2.4f, m = %2.4f, s = %2.4f.' % (gdfs[gdf, 0], gdfs[gdf, 1], gdfs[gdf, 2]))\n",
    "    print('LOB area: %2.4f' % gdf_representation(buy_orders, sell_orders, gdfs[gdf, :]))  "
   ]
  },
  {
   "cell_type": "code",
   "execution_count": 18,
   "metadata": {},
   "outputs": [
    {
     "data": {
      "application/vnd.jupyter.widget-view+json": {
       "model_id": "4130a16d48d24e3fa005c8d6ebb5397a",
       "version_major": 2,
       "version_minor": 0
      },
      "text/plain": [
       "interactive(children=(IntSlider(value=20, description='levels', min=1), FloatSlider(value=0.01, description='r…"
      ]
     },
     "metadata": {},
     "output_type": "display_data"
    }
   ],
   "source": [
    "@interact(levels=(1, 100),  r=(0.01, 1.00, 0.01), s=(0.01, 1.00, 0.01), t=(0, N-1), K=(1, 50))\n",
    "def _plot_lob_and_gdf(levels=20, r=0.01, s=0.05, t=131, K=15):\n",
    "    gdfs_r = r * np.ones(K)\n",
    "    gdfs_m = 0.1000 * np.hstack([np.arange(- K // 2, 0), np.arange(1, K // 2 + 1)])\n",
    "    gdfs_s = s * np.ones(K)\n",
    "    gdfs = np.vstack([gdfs_r, gdfs_m, gdfs_s]).T\n",
    "    gdf = 1\n",
    "    plot_lob_and_gdf(buy_orders, sell_orders, gdfs[gdf, :], levels)\n",
    "    print('GDF parameters: r = %2.4f, m = %2.4f, s = %2.4f.' % (gdfs[gdf, 0], gdfs[gdf, 1], gdfs[gdf, 2]))\n",
    "    print('LOB area: %2.4f' % gdf_representation(buy_orders, sell_orders, gdfs[gdf, :])) "
   ]
  },
  {
   "cell_type": "code",
   "execution_count": 19,
   "metadata": {},
   "outputs": [
    {
     "data": {
      "application/vnd.jupyter.widget-view+json": {
       "model_id": "ade7d0c2855e4b80a6c8e0b2166b0a46",
       "version_major": 2,
       "version_minor": 0
      },
      "text/plain": [
       "interactive(children=(FloatSlider(value=0.01, description='r', max=1.0, min=0.01, step=0.01), FloatSlider(valu…"
      ]
     },
     "metadata": {},
     "output_type": "display_data"
    }
   ],
   "source": [
    "@interact(r=(0.01, 1.00, 0.01), s=(0.01, 1.00, 0.01), t=(0, N-1), K=(1, 50))\n",
    "def _plot_gdf_features(r=0.01, s=0.05, t=131, K=15):\n",
    "    gdfs_r = r * np.ones(K)\n",
    "    gdfs_m = 0.1000 * np.hstack([np.arange(- K // 2, 0), np.arange(1, K // 2 + 1)])\n",
    "    gdfs_s = s * np.ones(K)\n",
    "    gdfs = np.vstack([gdfs_r, gdfs_m, gdfs_s]).T\n",
    "    \n",
    "    snapshot = order_book_snapshots[t]\n",
    "    date_time, buy_orders, sell_orders = transform_order_book_snapshot_to_orders(snapshot)\n",
    "    buy_orders, sell_orders = normalize_limit_order_book(buy_orders, sell_orders)\n",
    "\n",
    "    gdf_features = np.empty(K)\n",
    "    for k in range(K):\n",
    "        gdf_features[k] = gdf_representation(buy_orders, sell_orders, gdfs[k, :])\n",
    "\n",
    "    plot_gdf_features(gdf_features)"
   ]
  },
  {
   "cell_type": "markdown",
   "metadata": {},
   "source": [
    "## Random plots"
   ]
  },
  {
   "cell_type": "code",
   "execution_count": null,
   "metadata": {},
   "outputs": [],
   "source": []
  },
  {
   "cell_type": "code",
   "execution_count": 20,
   "metadata": {},
   "outputs": [
    {
     "name": "stdout",
     "output_type": "stream",
     "text": [
      "2013-09-05 09:26:00\n"
     ]
    },
    {
     "data": {
      "text/html": [
       "<div>\n",
       "<style scoped>\n",
       "    .dataframe tbody tr th:only-of-type {\n",
       "        vertical-align: middle;\n",
       "    }\n",
       "\n",
       "    .dataframe tbody tr th {\n",
       "        vertical-align: top;\n",
       "    }\n",
       "\n",
       "    .dataframe thead th {\n",
       "        text-align: right;\n",
       "    }\n",
       "</style>\n",
       "<table border=\"1\" class=\"dataframe\">\n",
       "  <thead>\n",
       "    <tr style=\"text-align: right;\">\n",
       "      <th></th>\n",
       "      <th>price</th>\n",
       "      <th>volume</th>\n",
       "    </tr>\n",
       "  </thead>\n",
       "  <tbody>\n",
       "    <tr>\n",
       "      <th>0</th>\n",
       "      <td>-257.892870</td>\n",
       "      <td>0.000442</td>\n",
       "    </tr>\n",
       "    <tr>\n",
       "      <th>1</th>\n",
       "      <td>-219.581412</td>\n",
       "      <td>0.002955</td>\n",
       "    </tr>\n",
       "    <tr>\n",
       "      <th>2</th>\n",
       "      <td>-127.350124</td>\n",
       "      <td>0.001887</td>\n",
       "    </tr>\n",
       "    <tr>\n",
       "      <th>3</th>\n",
       "      <td>-106.065981</td>\n",
       "      <td>0.008035</td>\n",
       "    </tr>\n",
       "    <tr>\n",
       "      <th>4</th>\n",
       "      <td>-104.647038</td>\n",
       "      <td>0.000978</td>\n",
       "    </tr>\n",
       "    <tr>\n",
       "      <th>5</th>\n",
       "      <td>-103.228095</td>\n",
       "      <td>0.001267</td>\n",
       "    </tr>\n",
       "    <tr>\n",
       "      <th>6</th>\n",
       "      <td>-98.971266</td>\n",
       "      <td>0.008149</td>\n",
       "    </tr>\n",
       "    <tr>\n",
       "      <th>7</th>\n",
       "      <td>-93.295495</td>\n",
       "      <td>0.001349</td>\n",
       "    </tr>\n",
       "    <tr>\n",
       "      <th>8</th>\n",
       "      <td>-91.876552</td>\n",
       "      <td>0.004701</td>\n",
       "    </tr>\n",
       "    <tr>\n",
       "      <th>9</th>\n",
       "      <td>-89.038666</td>\n",
       "      <td>0.004336</td>\n",
       "    </tr>\n",
       "    <tr>\n",
       "      <th>10</th>\n",
       "      <td>-84.781838</td>\n",
       "      <td>0.001960</td>\n",
       "    </tr>\n",
       "    <tr>\n",
       "      <th>11</th>\n",
       "      <td>-80.525009</td>\n",
       "      <td>0.000410</td>\n",
       "    </tr>\n",
       "    <tr>\n",
       "      <th>12</th>\n",
       "      <td>-77.687123</td>\n",
       "      <td>0.046209</td>\n",
       "    </tr>\n",
       "    <tr>\n",
       "      <th>13</th>\n",
       "      <td>-76.126286</td>\n",
       "      <td>0.000134</td>\n",
       "    </tr>\n",
       "    <tr>\n",
       "      <th>14</th>\n",
       "      <td>-63.497694</td>\n",
       "      <td>0.012700</td>\n",
       "    </tr>\n",
       "    <tr>\n",
       "      <th>15</th>\n",
       "      <td>-60.659808</td>\n",
       "      <td>0.013972</td>\n",
       "    </tr>\n",
       "    <tr>\n",
       "      <th>16</th>\n",
       "      <td>-56.402980</td>\n",
       "      <td>0.014709</td>\n",
       "    </tr>\n",
       "    <tr>\n",
       "      <th>17</th>\n",
       "      <td>-54.842143</td>\n",
       "      <td>0.000694</td>\n",
       "    </tr>\n",
       "    <tr>\n",
       "      <th>18</th>\n",
       "      <td>-52.004257</td>\n",
       "      <td>0.000696</td>\n",
       "    </tr>\n",
       "    <tr>\n",
       "      <th>19</th>\n",
       "      <td>-49.308265</td>\n",
       "      <td>0.012022</td>\n",
       "    </tr>\n",
       "    <tr>\n",
       "      <th>20</th>\n",
       "      <td>-49.166371</td>\n",
       "      <td>0.000698</td>\n",
       "    </tr>\n",
       "    <tr>\n",
       "      <th>21</th>\n",
       "      <td>-46.328485</td>\n",
       "      <td>0.000700</td>\n",
       "    </tr>\n",
       "    <tr>\n",
       "      <th>22</th>\n",
       "      <td>-43.490600</td>\n",
       "      <td>0.000702</td>\n",
       "    </tr>\n",
       "    <tr>\n",
       "      <th>23</th>\n",
       "      <td>-41.504079</td>\n",
       "      <td>0.001076</td>\n",
       "    </tr>\n",
       "    <tr>\n",
       "      <th>24</th>\n",
       "      <td>-40.652714</td>\n",
       "      <td>0.000704</td>\n",
       "    </tr>\n",
       "    <tr>\n",
       "      <th>25</th>\n",
       "      <td>-39.375665</td>\n",
       "      <td>0.001143</td>\n",
       "    </tr>\n",
       "    <tr>\n",
       "      <th>26</th>\n",
       "      <td>-37.814828</td>\n",
       "      <td>0.000706</td>\n",
       "    </tr>\n",
       "    <tr>\n",
       "      <th>27</th>\n",
       "      <td>-35.118836</td>\n",
       "      <td>0.010046</td>\n",
       "    </tr>\n",
       "    <tr>\n",
       "      <th>28</th>\n",
       "      <td>-34.976942</td>\n",
       "      <td>0.000709</td>\n",
       "    </tr>\n",
       "    <tr>\n",
       "      <th>29</th>\n",
       "      <td>-32.139056</td>\n",
       "      <td>0.000711</td>\n",
       "    </tr>\n",
       "    <tr>\n",
       "      <th>...</th>\n",
       "      <td>...</td>\n",
       "      <td>...</td>\n",
       "    </tr>\n",
       "    <tr>\n",
       "      <th>53</th>\n",
       "      <td>-6.881873</td>\n",
       "      <td>0.000591</td>\n",
       "    </tr>\n",
       "    <tr>\n",
       "      <th>54</th>\n",
       "      <td>-6.739979</td>\n",
       "      <td>0.021331</td>\n",
       "    </tr>\n",
       "    <tr>\n",
       "      <th>55</th>\n",
       "      <td>-6.456190</td>\n",
       "      <td>0.017734</td>\n",
       "    </tr>\n",
       "    <tr>\n",
       "      <th>56</th>\n",
       "      <td>-5.604824</td>\n",
       "      <td>0.002367</td>\n",
       "    </tr>\n",
       "    <tr>\n",
       "      <th>57</th>\n",
       "      <td>-5.321036</td>\n",
       "      <td>0.001204</td>\n",
       "    </tr>\n",
       "    <tr>\n",
       "      <th>58</th>\n",
       "      <td>-5.179142</td>\n",
       "      <td>0.002959</td>\n",
       "    </tr>\n",
       "    <tr>\n",
       "      <th>59</th>\n",
       "      <td>-5.037247</td>\n",
       "      <td>0.009472</td>\n",
       "    </tr>\n",
       "    <tr>\n",
       "      <th>60</th>\n",
       "      <td>-4.895353</td>\n",
       "      <td>0.006761</td>\n",
       "    </tr>\n",
       "    <tr>\n",
       "      <th>61</th>\n",
       "      <td>-4.753459</td>\n",
       "      <td>0.001184</td>\n",
       "    </tr>\n",
       "    <tr>\n",
       "      <th>62</th>\n",
       "      <td>-4.327776</td>\n",
       "      <td>0.003568</td>\n",
       "    </tr>\n",
       "    <tr>\n",
       "      <th>63</th>\n",
       "      <td>-3.618304</td>\n",
       "      <td>0.001005</td>\n",
       "    </tr>\n",
       "    <tr>\n",
       "      <th>64</th>\n",
       "      <td>-3.050727</td>\n",
       "      <td>0.006170</td>\n",
       "    </tr>\n",
       "    <tr>\n",
       "      <th>65</th>\n",
       "      <td>-2.908833</td>\n",
       "      <td>0.000593</td>\n",
       "    </tr>\n",
       "    <tr>\n",
       "      <th>66</th>\n",
       "      <td>-2.483150</td>\n",
       "      <td>0.011675</td>\n",
       "    </tr>\n",
       "    <tr>\n",
       "      <th>67</th>\n",
       "      <td>-2.341256</td>\n",
       "      <td>0.006301</td>\n",
       "    </tr>\n",
       "    <tr>\n",
       "      <th>68</th>\n",
       "      <td>-2.199361</td>\n",
       "      <td>0.009324</td>\n",
       "    </tr>\n",
       "    <tr>\n",
       "      <th>69</th>\n",
       "      <td>-2.057467</td>\n",
       "      <td>0.001914</td>\n",
       "    </tr>\n",
       "    <tr>\n",
       "      <th>70</th>\n",
       "      <td>-1.915573</td>\n",
       "      <td>0.001033</td>\n",
       "    </tr>\n",
       "    <tr>\n",
       "      <th>71</th>\n",
       "      <td>-1.773679</td>\n",
       "      <td>0.001514</td>\n",
       "    </tr>\n",
       "    <tr>\n",
       "      <th>72</th>\n",
       "      <td>-1.631784</td>\n",
       "      <td>0.002011</td>\n",
       "    </tr>\n",
       "    <tr>\n",
       "      <th>73</th>\n",
       "      <td>-1.489890</td>\n",
       "      <td>0.007070</td>\n",
       "    </tr>\n",
       "    <tr>\n",
       "      <th>74</th>\n",
       "      <td>-1.347996</td>\n",
       "      <td>0.006602</td>\n",
       "    </tr>\n",
       "    <tr>\n",
       "      <th>75</th>\n",
       "      <td>-1.206101</td>\n",
       "      <td>0.010055</td>\n",
       "    </tr>\n",
       "    <tr>\n",
       "      <th>76</th>\n",
       "      <td>-1.064207</td>\n",
       "      <td>0.016558</td>\n",
       "    </tr>\n",
       "    <tr>\n",
       "      <th>77</th>\n",
       "      <td>-0.922313</td>\n",
       "      <td>0.014332</td>\n",
       "    </tr>\n",
       "    <tr>\n",
       "      <th>78</th>\n",
       "      <td>-0.780419</td>\n",
       "      <td>0.007601</td>\n",
       "    </tr>\n",
       "    <tr>\n",
       "      <th>79</th>\n",
       "      <td>-0.638524</td>\n",
       "      <td>0.009447</td>\n",
       "    </tr>\n",
       "    <tr>\n",
       "      <th>80</th>\n",
       "      <td>-0.496630</td>\n",
       "      <td>0.008168</td>\n",
       "    </tr>\n",
       "    <tr>\n",
       "      <th>81</th>\n",
       "      <td>-0.354736</td>\n",
       "      <td>0.011854</td>\n",
       "    </tr>\n",
       "    <tr>\n",
       "      <th>82</th>\n",
       "      <td>-0.212841</td>\n",
       "      <td>0.003798</td>\n",
       "    </tr>\n",
       "  </tbody>\n",
       "</table>\n",
       "<p>83 rows × 2 columns</p>\n",
       "</div>"
      ],
      "text/plain": [
       "         price    volume\n",
       "0  -257.892870  0.000442\n",
       "1  -219.581412  0.002955\n",
       "2  -127.350124  0.001887\n",
       "3  -106.065981  0.008035\n",
       "4  -104.647038  0.000978\n",
       "5  -103.228095  0.001267\n",
       "6   -98.971266  0.008149\n",
       "7   -93.295495  0.001349\n",
       "8   -91.876552  0.004701\n",
       "9   -89.038666  0.004336\n",
       "10  -84.781838  0.001960\n",
       "11  -80.525009  0.000410\n",
       "12  -77.687123  0.046209\n",
       "13  -76.126286  0.000134\n",
       "14  -63.497694  0.012700\n",
       "15  -60.659808  0.013972\n",
       "16  -56.402980  0.014709\n",
       "17  -54.842143  0.000694\n",
       "18  -52.004257  0.000696\n",
       "19  -49.308265  0.012022\n",
       "20  -49.166371  0.000698\n",
       "21  -46.328485  0.000700\n",
       "22  -43.490600  0.000702\n",
       "23  -41.504079  0.001076\n",
       "24  -40.652714  0.000704\n",
       "25  -39.375665  0.001143\n",
       "26  -37.814828  0.000706\n",
       "27  -35.118836  0.010046\n",
       "28  -34.976942  0.000709\n",
       "29  -32.139056  0.000711\n",
       "..         ...       ...\n",
       "53   -6.881873  0.000591\n",
       "54   -6.739979  0.021331\n",
       "55   -6.456190  0.017734\n",
       "56   -5.604824  0.002367\n",
       "57   -5.321036  0.001204\n",
       "58   -5.179142  0.002959\n",
       "59   -5.037247  0.009472\n",
       "60   -4.895353  0.006761\n",
       "61   -4.753459  0.001184\n",
       "62   -4.327776  0.003568\n",
       "63   -3.618304  0.001005\n",
       "64   -3.050727  0.006170\n",
       "65   -2.908833  0.000593\n",
       "66   -2.483150  0.011675\n",
       "67   -2.341256  0.006301\n",
       "68   -2.199361  0.009324\n",
       "69   -2.057467  0.001914\n",
       "70   -1.915573  0.001033\n",
       "71   -1.773679  0.001514\n",
       "72   -1.631784  0.002011\n",
       "73   -1.489890  0.007070\n",
       "74   -1.347996  0.006602\n",
       "75   -1.206101  0.010055\n",
       "76   -1.064207  0.016558\n",
       "77   -0.922313  0.014332\n",
       "78   -0.780419  0.007601\n",
       "79   -0.638524  0.009447\n",
       "80   -0.496630  0.008168\n",
       "81   -0.354736  0.011854\n",
       "82   -0.212841  0.003798\n",
       "\n",
       "[83 rows x 2 columns]"
      ]
     },
     "execution_count": 20,
     "metadata": {},
     "output_type": "execute_result"
    }
   ],
   "source": [
    "sn = order_book_snapshots[1733]\n",
    "dt, bo, so = transform_order_book_snapshot_to_orders(sn)\n",
    "print(dt)\n",
    "bo, so = normalize_limit_order_book(bo, so)\n",
    "\n",
    "b = [{'price': b[0], 'volume': b[1]} for b in bo]\n",
    "df_b = pd.DataFrame(b)\n",
    "df_b"
   ]
  },
  {
   "cell_type": "code",
   "execution_count": 21,
   "metadata": {},
   "outputs": [],
   "source": [
    "K = 50\n",
    "gdfs_r = 0.0025 * np.ones(K)\n",
    "gdfs_m = 0.1000 * np.hstack([np.arange(- K // 2, 0), np.arange(1, K // 2 + 1)])\n",
    "gdfs_s = 0.0500 * np.ones(K)\n",
    "gdfs = np.vstack([gdfs_r, gdfs_m, gdfs_s]).T"
   ]
  },
  {
   "cell_type": "code",
   "execution_count": 22,
   "metadata": {},
   "outputs": [
    {
     "data": {
      "text/plain": [
       "[<matplotlib.lines.Line2D at 0x7f3e65731320>]"
      ]
     },
     "execution_count": 22,
     "metadata": {},
     "output_type": "execute_result"
    },
    {
     "data": {
      "image/png": "[encoded data removed]",
      "text/plain": [
       "<Figure size 432x288 with 1 Axes>"
      ]
     },
     "metadata": {},
     "output_type": "display_data"
    }
   ],
   "source": [
    "plt.plot([gdf_representation(bo, so, gdfs[k, :]) for k in range(0, K)])\n",
    "plt.plot(df_b[[ 'volume']])"
   ]
  },
  {
   "cell_type": "code",
   "execution_count": 23,
   "metadata": {},
   "outputs": [
    {
     "data": {
      "text/plain": [
       "0.011803799371167123"
      ]
     },
     "execution_count": 23,
     "metadata": {},
     "output_type": "execute_result"
    }
   ],
   "source": [
    "gdf_representation(bo, so, gdfs[0, :])"
   ]
  },
  {
   "cell_type": "code",
   "execution_count": 24,
   "metadata": {},
   "outputs": [
    {
     "data": {
      "text/plain": [
       "datetime.datetime(2013, 9, 5, 9, 26)"
      ]
     },
     "execution_count": 24,
     "metadata": {},
     "output_type": "execute_result"
    }
   ],
   "source": [
    "dt"
   ]
  },
  {
   "cell_type": "code",
   "execution_count": 25,
   "metadata": {},
   "outputs": [
    {
     "data": {
      "text/plain": [
       "array([[-2.03418061e+02,  3.16358218e-03],\n",
       "       [-8.75515968e+01,  8.55029441e-03],\n",
       "       [-8.61032660e+01,  1.04481906e-03],\n",
       "       [-8.46549352e+01,  1.35607607e-03],\n",
       "       [-8.03099428e+01,  8.72375727e-03],\n",
       "       [-7.45166196e+01,  1.44386679e-03],\n",
       "       [-7.30682888e+01,  4.62760435e-03],\n",
       "       [-7.01716272e+01,  4.64206562e-03],\n",
       "       [-6.58266348e+01,  1.74890907e-03],\n",
       "       [-5.85849808e+01,  4.02764720e-02],\n",
       "       [-5.69918169e+01,  8.82724569e-04],\n",
       "       [-5.40951553e+01,  8.85436056e-04],\n",
       "       [-5.11984937e+01,  8.88147543e-04],\n",
       "       [-4.83018321e+01,  8.90859030e-04],\n",
       "       [-4.54051705e+01,  8.93570517e-04],\n",
       "       [-4.41016728e+01,  7.22215389e-03],\n",
       "       [-4.36671736e+01,  9.11310962e-04],\n",
       "       [-4.25085089e+01,  8.96282004e-04],\n",
       "       [-4.17843435e+01,  1.19594650e-03],\n",
       "       [-4.12050112e+01,  1.49583695e-02],\n",
       "       [-3.96118473e+01,  8.98993490e-04],\n",
       "       [-3.68600188e+01,  1.57474122e-02],\n",
       "       [-3.67151857e+01,  9.01704977e-04],\n",
       "       [-3.38185242e+01,  9.04416464e-04],\n",
       "       [-3.25150264e+01,  1.20751551e-03],\n",
       "       [-3.09218626e+01,  9.07127951e-04],\n",
       "       [-2.96183648e+01,  1.24407359e-02],\n",
       "       [-2.90390325e+01,  1.81778084e-03],\n",
       "       [-2.80252010e+01,  9.09839438e-04],\n",
       "       [-2.78803679e+01,  2.42660003e-03],\n",
       "       [-2.65768702e+01,  6.07463454e-04],\n",
       "       [-2.46940401e+01,  1.21727686e-03],\n",
       "       [-2.23767108e+01,  4.88067647e-03],\n",
       "       [-2.15077124e+01,  1.22125371e-03],\n",
       "       [-1.99145485e+01,  3.97553694e-03],\n",
       "       [-1.94800492e+01,  4.49801968e-03],\n",
       "       [-1.83213846e+01,  1.25953701e-03],\n",
       "       [-1.64385546e+01,  3.68274154e-03],\n",
       "       [-1.51350568e+01,  3.67963237e-03],\n",
       "       [-1.33970599e+01,  2.46275319e-03],\n",
       "       [-1.29625606e+01,  9.18395535e-04],\n",
       "       [-1.22383952e+01,  1.23282272e-02],\n",
       "       [-1.15142299e+01,  2.13434693e-02],\n",
       "       [-1.07900645e+01,  1.85256289e-03],\n",
       "       [-1.06452314e+01,  1.85221672e-03],\n",
       "       [-1.00658991e+01,  6.17767105e-03],\n",
       "       [-8.61756825e+00,  1.23734187e-03],\n",
       "       [-7.89340285e+00,  3.38350637e-02],\n",
       "       [-6.87957129e+00,  1.23951106e-03],\n",
       "       [-6.44507205e+00,  2.46770618e-02],\n",
       "       [-6.01057281e+00,  6.20297826e-04],\n",
       "       [-5.43124050e+00,  1.24131871e-03],\n",
       "       [-4.99674126e+00,  3.14811767e-04],\n",
       "       [-4.56224202e+00,  3.72720993e-03],\n",
       "       [-4.41740894e+00,  1.23637116e-04],\n",
       "       [-4.27257586e+00,  3.85319239e-03],\n",
       "       [-3.69324354e+00,  1.24162267e-03],\n",
       "       [-3.54841046e+00,  6.01313802e-04],\n",
       "       [-3.11391122e+00,  6.18372851e-04],\n",
       "       [-2.96907814e+00,  5.97556910e-03],\n",
       "       [-2.53457890e+00,  7.67190596e-03],\n",
       "       [-2.38974582e+00,  7.25901926e-04],\n",
       "       [-2.24491274e+00,  1.62884660e-03],\n",
       "       [-2.10007966e+00,  6.30833760e-04],\n",
       "       [-1.95524658e+00,  6.21271476e-03],\n",
       "       [-1.81041350e+00,  3.09777584e-03],\n",
       "       [-1.66558042e+00,  3.71002046e-03],\n",
       "       [-1.52074734e+00,  5.27765442e-04],\n",
       "       [-1.37591426e+00,  1.20107424e-02],\n",
       "       [-1.23108118e+00,  1.10538790e-02],\n",
       "       [-1.08624810e+00,  9.55253482e-03],\n",
       "       [-9.41415019e-01,  1.32872057e-02],\n",
       "       [-7.96581939e-01,  1.24872445e-02],\n",
       "       [-6.51748859e-01,  7.69698948e-03],\n",
       "       [-5.06915780e-01,  9.02104135e-03],\n",
       "       [-3.62082700e-01,  7.37420883e-03],\n",
       "       [-2.17249620e-01,  2.63416128e-03]])"
      ]
     },
     "execution_count": 25,
     "metadata": {},
     "output_type": "execute_result"
    }
   ],
   "source": [
    "buy_orders"
   ]
  },
  {
   "cell_type": "code",
   "execution_count": 26,
   "metadata": {},
   "outputs": [
    {
     "data": {
      "application/vnd.jupyter.widget-view+json": {
       "model_id": "830e5872173f45d69ff493b9f6b6e8f3",
       "version_major": 2,
       "version_minor": 0
      },
      "text/plain": [
       "interactive(children=(IntSlider(value=20, description='levels', min=1), FloatSlider(value=0.01, description='r…"
      ]
     },
     "metadata": {},
     "output_type": "display_data"
    }
   ],
   "source": [
    "@interact(levels=(1, 100),  r=(0.01, 1.00, 0.01), s=(0.01, 1.00, 0.01), m=(0.001, 1.00, 0.01), t=(0, N-1), K=(1, 50))\n",
    "def _plot_lob_and_gdf(levels=20, r=0.01, s=0.05, m=0.1, t=131, K=15):\n",
    "    gdfs_r = r * np.ones(K)\n",
    "    gdfs_m = m * np.hstack([np.arange(- K // 2, 0), np.arange(1, K // 2 + 1)])\n",
    "    gdfs_s = s * np.ones(K)\n",
    "    gdfs = np.vstack([gdfs_r, gdfs_m, gdfs_s]).T\n",
    "    gdf = 1\n",
    "    plot_lob_and_gdf(buy_orders, sell_orders, gdfs[gdf, :], levels)\n",
    "    print('GDF parameters: r = %2.4f, m = %2.4f, s = %2.4f.' % (gdfs[gdf, 0], gdfs[gdf, 1], gdfs[gdf, 2]))\n",
    "    print('LOB area: %2.4f' % gdf_representation(buy_orders, sell_orders, gdfs[gdf, :])) "
   ]
  },
  {
   "cell_type": "code",
   "execution_count": null,
   "metadata": {},
   "outputs": [],
   "source": []
  }
 ],
 "metadata": {
  "kernelspec": {
   "display_name": "Python 3",
   "language": "python",
   "name": "python3"
  },
  "language_info": {
   "codemirror_mode": {
    "name": "ipython",
    "version": 3
   },
   "file_extension": ".py",
   "mimetype": "text/x-python",
   "name": "python",
   "nbconvert_exporter": "python",
   "pygments_lexer": "ipython3",
   "version": "3.6.5"
  }
 },
 "nbformat": 4,
 "nbformat_minor": 2
}
