{
 "cells": [
  {
   "cell_type": "markdown",
   "metadata": {},
   "source": [
    "# Gaussian Density Filtering for predicting mid price raise in LOBs for 9062\n",
    "\n",
    "In this notebook we present results of prediction if the mid price of LOB will raise in next tick. For data preparation we use GDF filters with various parameters `r` and `s`.\n",
    "\n",
    "This notebook contains information which parameters for GDF and SVM were the best."
   ]
  },
  {
   "cell_type": "code",
   "execution_count": 1,
   "metadata": {},
   "outputs": [
    {
     "data": {
      "text/html": [
       "<script>requirejs.config({paths: { 'plotly': ['https://cdn.plot.ly/plotly-latest.min']},});if(!window.Plotly) {{require(['plotly'],function(plotly) {window.Plotly=plotly;});}}</script>"
      ],
      "text/vnd.plotly.v1+html": [
       "<script>requirejs.config({paths: { 'plotly': ['https://cdn.plot.ly/plotly-latest.min']},});if(!window.Plotly) {{require(['plotly'],function(plotly) {window.Plotly=plotly;});}}</script>"
      ]
     },
     "metadata": {},
     "output_type": "display_data"
    }
   ],
   "source": [
    "%matplotlib inline\n",
    "from ast import literal_eval\n",
    "import pandas as pd\n",
    "import matplotlib.pyplot as plt\n",
    "import seaborn as sns\n",
    "from sklearn.cluster import KMeans\n",
    "from sklearn.svm import SVC\n",
    "from typing import Tuple\n",
    "import numpy as np\n",
    "import itertools\n",
    "import os\n",
    "from collections import OrderedDict\n",
    "\n",
    "from sklearn import preprocessing\n",
    "from sklearn.metrics import roc_auc_score\n",
    "from scipy.stats import norm\n",
    "\n",
    "import plotly.offline as py\n",
    "import plotly.figure_factory as ff\n",
    "import plotly.graph_objs as go\n",
    "\n",
    "import warnings\n",
    "\n",
    "from lob_data_utils import lob, db_result, roc_results\n",
    "\n",
    "sns.set_style('whitegrid')\n",
    "warnings.filterwarnings('ignore')\n",
    "py.init_notebook_mode(connected=True)"
   ]
  },
  {
   "cell_type": "code",
   "execution_count": 2,
   "metadata": {},
   "outputs": [
    {
     "data": {
      "text/html": [
       "<div>\n",
       "<style scoped>\n",
       "    .dataframe tbody tr th:only-of-type {\n",
       "        vertical-align: middle;\n",
       "    }\n",
       "\n",
       "    .dataframe tbody tr th {\n",
       "        vertical-align: top;\n",
       "    }\n",
       "\n",
       "    .dataframe thead th {\n",
       "        text-align: right;\n",
       "    }\n",
       "</style>\n",
       "<table border=\"1\" class=\"dataframe\">\n",
       "  <thead>\n",
       "    <tr style=\"text-align: right;\">\n",
       "      <th></th>\n",
       "      <th>C</th>\n",
       "      <th>K</th>\n",
       "      <th>gamma</th>\n",
       "      <th>r</th>\n",
       "      <th>roc_cv</th>\n",
       "      <th>roc_train</th>\n",
       "      <th>s</th>\n",
       "      <th>stock</th>\n",
       "      <th>features_num</th>\n",
       "    </tr>\n",
       "  </thead>\n",
       "  <tbody>\n",
       "    <tr>\n",
       "      <th>1</th>\n",
       "      <td>1</td>\n",
       "      <td>50</td>\n",
       "      <td>10</td>\n",
       "      <td>0.01</td>\n",
       "      <td>0.648274</td>\n",
       "      <td>0.551536</td>\n",
       "      <td>0.1</td>\n",
       "      <td>9061</td>\n",
       "      <td>4</td>\n",
       "    </tr>\n",
       "    <tr>\n",
       "      <th>2</th>\n",
       "      <td>1</td>\n",
       "      <td>50</td>\n",
       "      <td>100</td>\n",
       "      <td>0.01</td>\n",
       "      <td>0.543908</td>\n",
       "      <td>0.539210</td>\n",
       "      <td>0.1</td>\n",
       "      <td>9061</td>\n",
       "      <td>4</td>\n",
       "    </tr>\n",
       "    <tr>\n",
       "      <th>3</th>\n",
       "      <td>1</td>\n",
       "      <td>50</td>\n",
       "      <td>1000</td>\n",
       "      <td>0.01</td>\n",
       "      <td>0.552827</td>\n",
       "      <td>0.545479</td>\n",
       "      <td>0.1</td>\n",
       "      <td>9061</td>\n",
       "      <td>4</td>\n",
       "    </tr>\n",
       "    <tr>\n",
       "      <th>4</th>\n",
       "      <td>1</td>\n",
       "      <td>50</td>\n",
       "      <td>10000</td>\n",
       "      <td>0.01</td>\n",
       "      <td>0.541277</td>\n",
       "      <td>0.555785</td>\n",
       "      <td>0.1</td>\n",
       "      <td>9061</td>\n",
       "      <td>4</td>\n",
       "    </tr>\n",
       "    <tr>\n",
       "      <th>5</th>\n",
       "      <td>10</td>\n",
       "      <td>50</td>\n",
       "      <td>1</td>\n",
       "      <td>0.01</td>\n",
       "      <td>0.648274</td>\n",
       "      <td>0.556111</td>\n",
       "      <td>0.1</td>\n",
       "      <td>9061</td>\n",
       "      <td>4</td>\n",
       "    </tr>\n",
       "  </tbody>\n",
       "</table>\n",
       "</div>"
      ],
      "text/plain": [
       "    C   K  gamma     r    roc_cv  roc_train    s  stock  features_num\n",
       "1   1  50     10  0.01  0.648274   0.551536  0.1   9061             4\n",
       "2   1  50    100  0.01  0.543908   0.539210  0.1   9061             4\n",
       "3   1  50   1000  0.01  0.552827   0.545479  0.1   9061             4\n",
       "4   1  50  10000  0.01  0.541277   0.555785  0.1   9061             4\n",
       "5  10  50      1  0.01  0.648274   0.556111  0.1   9061             4"
      ]
     },
     "execution_count": 2,
     "metadata": {},
     "output_type": "execute_result"
    }
   ],
   "source": [
    "s_parameters = [0.1, 0.2, 0.3, 0.4, 0.5]\n",
    "r_parameters = [0.01, 0.02, 0.03, 0.04, 0.05, 0.06, 0.07, 0.08, 0.09, 0.1]\n",
    "K = 50\n",
    "length = 10000\n",
    "\n",
    "stock = 9061\n",
    "\n",
    "Ks = {'4': (23, 27), '10': (20, 30)}\n",
    "df_res = pd.DataFrame()\n",
    "for r in r_parameters:\n",
    "    for s in s_parameters:\n",
    "        for k, v in Ks.items():\n",
    "            v1, v2 = v\n",
    "            filename = '../data_res/res_{}_len{}_r{}_s{}_K{}-{}.csv'.format(stock, length, r, s, v1, v2)\n",
    "            df = pd.read_csv(filename)\n",
    "            df['features_num'] = k\n",
    "            df_res = df_res.append(df, ignore_index=True)\n",
    "df_res.drop('Unnamed: 0', axis=1, inplace=True)\n",
    "df_res = df_res.apply(pd.to_numeric)\n",
    "df_res.dropna(axis=0, inplace=True)\n",
    "df_res.head()"
   ]
  },
  {
   "cell_type": "markdown",
   "metadata": {},
   "source": [
    "## Best parameters"
   ]
  },
  {
   "cell_type": "markdown",
   "metadata": {},
   "source": [
    "### Best parameters for 4"
   ]
  },
  {
   "cell_type": "code",
   "execution_count": 8,
   "metadata": {},
   "outputs": [
    {
     "data": {
      "text/plain": [
       "<matplotlib.text.Text at 0x7f19adbb6860>"
      ]
     },
     "execution_count": 8,
     "metadata": {},
     "output_type": "execute_result"
    },
    {
     "data": {
      "image/png": "[encoded data removed]",
      "text/plain": [
       "<matplotlib.figure.Figure at 0x7f19ad9e8080>"
      ]
     },
     "metadata": {},
     "output_type": "display_data"
    }
   ],
   "source": [
    "r_s_dict = OrderedDict()\n",
    "for s in s_parameters:\n",
    "    for r in r_parameters:\n",
    "        r_s_dict['s={}, r={}'.format(s, r)] = df_res[df_res['s'] == s][df_res['r'] == r][\n",
    "            df_res['features_num'] == 4]['roc_cv'].values\n",
    "\n",
    "plt.figure(figsize=(16, 8))\n",
    "ax = sns.boxplot(data=list(r_s_dict.values()))\n",
    "plt.ylabel('ROC area score')\n",
    "plt.xlabel('Parameters r and s')\n",
    "_ = ax.set_xticklabels(list(r_s_dict.keys()), rotation=45)\n",
    "plt.title('ROC area score distribution for different r and s parameters')"
   ]
  },
  {
   "cell_type": "markdown",
   "metadata": {},
   "source": [
    "Not sure what is the best, but let's take r = 0.01 and s = 0.1 anyway (the standard deviation is small). Which SVM parameters?"
   ]
  },
  {
   "cell_type": "code",
   "execution_count": 10,
   "metadata": {},
   "outputs": [
    {
     "data": {
      "text/html": [
       "<div>\n",
       "<style scoped>\n",
       "    .dataframe tbody tr th:only-of-type {\n",
       "        vertical-align: middle;\n",
       "    }\n",
       "\n",
       "    .dataframe tbody tr th {\n",
       "        vertical-align: top;\n",
       "    }\n",
       "\n",
       "    .dataframe thead th {\n",
       "        text-align: right;\n",
       "    }\n",
       "</style>\n",
       "<table border=\"1\" class=\"dataframe\">\n",
       "  <thead>\n",
       "    <tr style=\"text-align: right;\">\n",
       "      <th></th>\n",
       "      <th>C</th>\n",
       "      <th>K</th>\n",
       "      <th>gamma</th>\n",
       "      <th>r</th>\n",
       "      <th>roc_cv</th>\n",
       "      <th>roc_train</th>\n",
       "      <th>s</th>\n",
       "      <th>stock</th>\n",
       "      <th>features_num</th>\n",
       "      <th>roc_log_cv</th>\n",
       "      <th>roc_log_train</th>\n",
       "    </tr>\n",
       "  </thead>\n",
       "  <tbody>\n",
       "    <tr>\n",
       "      <th>1</th>\n",
       "      <td>1</td>\n",
       "      <td>50</td>\n",
       "      <td>10</td>\n",
       "      <td>0.01</td>\n",
       "      <td>0.648274</td>\n",
       "      <td>0.551536</td>\n",
       "      <td>0.1</td>\n",
       "      <td>9061</td>\n",
       "      <td>4</td>\n",
       "      <td>0.528266</td>\n",
       "      <td>0.557542</td>\n",
       "    </tr>\n",
       "    <tr>\n",
       "      <th>5</th>\n",
       "      <td>10</td>\n",
       "      <td>50</td>\n",
       "      <td>1</td>\n",
       "      <td>0.01</td>\n",
       "      <td>0.648274</td>\n",
       "      <td>0.556111</td>\n",
       "      <td>0.1</td>\n",
       "      <td>9061</td>\n",
       "      <td>4</td>\n",
       "      <td>0.528266</td>\n",
       "      <td>0.557542</td>\n",
       "    </tr>\n",
       "    <tr>\n",
       "      <th>10</th>\n",
       "      <td>100</td>\n",
       "      <td>50</td>\n",
       "      <td>1</td>\n",
       "      <td>0.01</td>\n",
       "      <td>0.557910</td>\n",
       "      <td>0.541042</td>\n",
       "      <td>0.1</td>\n",
       "      <td>9061</td>\n",
       "      <td>4</td>\n",
       "      <td>0.528266</td>\n",
       "      <td>0.557542</td>\n",
       "    </tr>\n",
       "    <tr>\n",
       "      <th>6</th>\n",
       "      <td>10</td>\n",
       "      <td>50</td>\n",
       "      <td>10</td>\n",
       "      <td>0.01</td>\n",
       "      <td>0.555386</td>\n",
       "      <td>0.540444</td>\n",
       "      <td>0.1</td>\n",
       "      <td>9061</td>\n",
       "      <td>4</td>\n",
       "      <td>0.528266</td>\n",
       "      <td>0.557542</td>\n",
       "    </tr>\n",
       "    <tr>\n",
       "      <th>12</th>\n",
       "      <td>100</td>\n",
       "      <td>50</td>\n",
       "      <td>100</td>\n",
       "      <td>0.01</td>\n",
       "      <td>0.553635</td>\n",
       "      <td>0.547311</td>\n",
       "      <td>0.1</td>\n",
       "      <td>9061</td>\n",
       "      <td>4</td>\n",
       "      <td>0.528266</td>\n",
       "      <td>0.557542</td>\n",
       "    </tr>\n",
       "  </tbody>\n",
       "</table>\n",
       "</div>"
      ],
      "text/plain": [
       "      C   K  gamma     r    roc_cv  roc_train    s  stock  features_num  \\\n",
       "1     1  50     10  0.01  0.648274   0.551536  0.1   9061             4   \n",
       "5    10  50      1  0.01  0.648274   0.556111  0.1   9061             4   \n",
       "10  100  50      1  0.01  0.557910   0.541042  0.1   9061             4   \n",
       "6    10  50     10  0.01  0.555386   0.540444  0.1   9061             4   \n",
       "12  100  50    100  0.01  0.553635   0.547311  0.1   9061             4   \n",
       "\n",
       "    roc_log_cv  roc_log_train  \n",
       "1     0.528266       0.557542  \n",
       "5     0.528266       0.557542  \n",
       "10    0.528266       0.557542  \n",
       "6     0.528266       0.557542  \n",
       "12    0.528266       0.557542  "
      ]
     },
     "execution_count": 10,
     "metadata": {},
     "output_type": "execute_result"
    }
   ],
   "source": [
    "df_res_01 = df_res[df_res['r'] == 0.01][df_res['s'] == 0.1][df_res['features_num'] == 4]\n",
    "df_res_01.head()"
   ]
  },
  {
   "cell_type": "code",
   "execution_count": 20,
   "metadata": {},
   "outputs": [
    {
     "ename": "TypeError",
     "evalue": "ufunc 'isnan' not supported for the input types, and the inputs could not be safely coerced to any supported types according to the casting rule ''safe''",
     "output_type": "error",
     "traceback": [
      "\u001b[0;31m---------------------------------------------------------------------------\u001b[0m",
      "\u001b[0;31mTypeError\u001b[0m                                 Traceback (most recent call last)",
      "\u001b[0;32m<ipython-input-20-dce6f7afd015>\u001b[0m in \u001b[0;36m<module>\u001b[0;34m()\u001b[0m\n\u001b[1;32m      8\u001b[0m \u001b[0;34m\u001b[0m\u001b[0m\n\u001b[1;32m      9\u001b[0m \u001b[0mplt\u001b[0m\u001b[0;34m.\u001b[0m\u001b[0mfigure\u001b[0m\u001b[0;34m(\u001b[0m\u001b[0mfigsize\u001b[0m\u001b[0;34m=\u001b[0m\u001b[0;34m(\u001b[0m\u001b[0;36m16\u001b[0m\u001b[0;34m,\u001b[0m \u001b[0;36m8\u001b[0m\u001b[0;34m)\u001b[0m\u001b[0;34m)\u001b[0m\u001b[0;34m\u001b[0m\u001b[0m\n\u001b[0;32m---> 10\u001b[0;31m \u001b[0max\u001b[0m \u001b[0;34m=\u001b[0m \u001b[0msns\u001b[0m\u001b[0;34m.\u001b[0m\u001b[0mheatmap\u001b[0m\u001b[0;34m(\u001b[0m\u001b[0mdf_res_01\u001b[0m\u001b[0;34m.\u001b[0m\u001b[0mgroupby\u001b[0m\u001b[0;34m(\u001b[0m\u001b[0mby\u001b[0m\u001b[0;34m=\u001b[0m\u001b[0;34m[\u001b[0m\u001b[0;34m'C'\u001b[0m\u001b[0;34m,\u001b[0m \u001b[0;34m'gamma'\u001b[0m\u001b[0;34m]\u001b[0m\u001b[0;34m)\u001b[0m\u001b[0;34m[\u001b[0m\u001b[0;34m'roc_cv'\u001b[0m\u001b[0;34m]\u001b[0m\u001b[0;34m)\u001b[0m\u001b[0;34m\u001b[0m\u001b[0m\n\u001b[0m\u001b[1;32m     11\u001b[0m \u001b[0mplt\u001b[0m\u001b[0;34m.\u001b[0m\u001b[0mylabel\u001b[0m\u001b[0;34m(\u001b[0m\u001b[0;34m'ROC area score'\u001b[0m\u001b[0;34m)\u001b[0m\u001b[0;34m\u001b[0m\u001b[0m\n\u001b[1;32m     12\u001b[0m \u001b[0mplt\u001b[0m\u001b[0;34m.\u001b[0m\u001b[0mxlabel\u001b[0m\u001b[0;34m(\u001b[0m\u001b[0;34m'Parameters r and s'\u001b[0m\u001b[0;34m)\u001b[0m\u001b[0;34m\u001b[0m\u001b[0m\n",
      "\u001b[0;32m/home/vevurka/.conda/envs/python36/lib/python3.6/site-packages/seaborn/matrix.py\u001b[0m in \u001b[0;36mheatmap\u001b[0;34m(data, vmin, vmax, cmap, center, robust, annot, fmt, annot_kws, linewidths, linecolor, cbar, cbar_kws, cbar_ax, square, ax, xticklabels, yticklabels, mask, **kwargs)\u001b[0m\n\u001b[1;32m    483\u001b[0m     plotter = _HeatMapper(data, vmin, vmax, cmap, center, robust, annot, fmt,\n\u001b[1;32m    484\u001b[0m                           \u001b[0mannot_kws\u001b[0m\u001b[0;34m,\u001b[0m \u001b[0mcbar\u001b[0m\u001b[0;34m,\u001b[0m \u001b[0mcbar_kws\u001b[0m\u001b[0;34m,\u001b[0m \u001b[0mxticklabels\u001b[0m\u001b[0;34m,\u001b[0m\u001b[0;34m\u001b[0m\u001b[0m\n\u001b[0;32m--> 485\u001b[0;31m                           yticklabels, mask)\n\u001b[0m\u001b[1;32m    486\u001b[0m \u001b[0;34m\u001b[0m\u001b[0m\n\u001b[1;32m    487\u001b[0m     \u001b[0;31m# Add the pcolormesh kwargs here\u001b[0m\u001b[0;34m\u001b[0m\u001b[0;34m\u001b[0m\u001b[0m\n",
      "\u001b[0;32m/home/vevurka/.conda/envs/python36/lib/python3.6/site-packages/seaborn/matrix.py\u001b[0m in \u001b[0;36m__init__\u001b[0;34m(self, data, vmin, vmax, cmap, center, robust, annot, fmt, annot_kws, cbar, cbar_kws, xticklabels, yticklabels, mask)\u001b[0m\n\u001b[1;32m    165\u001b[0m         \u001b[0;31m# Determine good default values for the colormapping\u001b[0m\u001b[0;34m\u001b[0m\u001b[0;34m\u001b[0m\u001b[0m\n\u001b[1;32m    166\u001b[0m         self._determine_cmap_params(plot_data, vmin, vmax,\n\u001b[0;32m--> 167\u001b[0;31m                                     cmap, center, robust)\n\u001b[0m\u001b[1;32m    168\u001b[0m \u001b[0;34m\u001b[0m\u001b[0m\n\u001b[1;32m    169\u001b[0m         \u001b[0;31m# Sort out the annotations\u001b[0m\u001b[0;34m\u001b[0m\u001b[0;34m\u001b[0m\u001b[0m\n",
      "\u001b[0;32m/home/vevurka/.conda/envs/python36/lib/python3.6/site-packages/seaborn/matrix.py\u001b[0m in \u001b[0;36m_determine_cmap_params\u001b[0;34m(self, plot_data, vmin, vmax, cmap, center, robust)\u001b[0m\n\u001b[1;32m    202\u001b[0m                                cmap, center, robust):\n\u001b[1;32m    203\u001b[0m         \u001b[0;34m\"\"\"Use some heuristics to set good defaults for colorbar and range.\"\"\"\u001b[0m\u001b[0;34m\u001b[0m\u001b[0m\n\u001b[0;32m--> 204\u001b[0;31m         \u001b[0mcalc_data\u001b[0m \u001b[0;34m=\u001b[0m \u001b[0mplot_data\u001b[0m\u001b[0;34m.\u001b[0m\u001b[0mdata\u001b[0m\u001b[0;34m[\u001b[0m\u001b[0;34m~\u001b[0m\u001b[0mnp\u001b[0m\u001b[0;34m.\u001b[0m\u001b[0misnan\u001b[0m\u001b[0;34m(\u001b[0m\u001b[0mplot_data\u001b[0m\u001b[0;34m.\u001b[0m\u001b[0mdata\u001b[0m\u001b[0;34m)\u001b[0m\u001b[0;34m]\u001b[0m\u001b[0;34m\u001b[0m\u001b[0m\n\u001b[0m\u001b[1;32m    205\u001b[0m         \u001b[0;32mif\u001b[0m \u001b[0mvmin\u001b[0m \u001b[0;32mis\u001b[0m \u001b[0;32mNone\u001b[0m\u001b[0;34m:\u001b[0m\u001b[0;34m\u001b[0m\u001b[0m\n\u001b[1;32m    206\u001b[0m             \u001b[0mvmin\u001b[0m \u001b[0;34m=\u001b[0m \u001b[0mnp\u001b[0m\u001b[0;34m.\u001b[0m\u001b[0mpercentile\u001b[0m\u001b[0;34m(\u001b[0m\u001b[0mcalc_data\u001b[0m\u001b[0;34m,\u001b[0m \u001b[0;36m2\u001b[0m\u001b[0;34m)\u001b[0m \u001b[0;32mif\u001b[0m \u001b[0mrobust\u001b[0m \u001b[0;32melse\u001b[0m \u001b[0mcalc_data\u001b[0m\u001b[0;34m.\u001b[0m\u001b[0mmin\u001b[0m\u001b[0;34m(\u001b[0m\u001b[0;34m)\u001b[0m\u001b[0;34m\u001b[0m\u001b[0m\n",
      "\u001b[0;31mTypeError\u001b[0m: ufunc 'isnan' not supported for the input types, and the inputs could not be safely coerced to any supported types according to the casting rule ''safe''"
     ]
    },
    {
     "data": {
      "text/plain": [
       "<matplotlib.figure.Figure at 0x7f19a8ada0b8>"
      ]
     },
     "metadata": {},
     "output_type": "display_data"
    }
   ],
   "source": [
    "r_s_dict = OrderedDict()\n",
    "cs = df_res['C'].unique()\n",
    "gammas = df_res['gamma'].unique()\n",
    "for c in cs:\n",
    "    for g in gammas:\n",
    "        r_s_dict['s={}, r={}'.format(c, g)] = df_res_01[df_res_01['C'] == c][df_res_01['gamma'] == g][\n",
    "            df_res_01['features_num'] == 4]['roc_cv'].values\n",
    "\n",
    "plt.figure(figsize=(16, 8))\n",
    "ax = sns.heatmap(df_res_01.groupby(by=['C', 'gamma'])['roc_cv'])\n",
    "plt.ylabel('ROC area score')\n",
    "plt.xlabel('Parameters r and s')\n",
    "_ = ax.set_xticklabels(list(r_s_dict.keys()), rotation=45)\n",
    "plt.title('ROC area score distribution for different r and s parameters')"
   ]
  },
  {
   "cell_type": "code",
   "execution_count": null,
   "metadata": {
    "collapsed": true
   },
   "outputs": [],
   "source": []
  },
  {
   "cell_type": "markdown",
   "metadata": {},
   "source": [
    "## Analysis of wrong predictions"
   ]
  },
  {
   "cell_type": "code",
   "execution_count": 4,
   "metadata": {},
   "outputs": [
    {
     "data": {
      "text/html": [
       "<div>\n",
       "<style scoped>\n",
       "    .dataframe tbody tr th:only-of-type {\n",
       "        vertical-align: middle;\n",
       "    }\n",
       "\n",
       "    .dataframe tbody tr th {\n",
       "        vertical-align: top;\n",
       "    }\n",
       "\n",
       "    .dataframe thead th {\n",
       "        text-align: right;\n",
       "    }\n",
       "</style>\n",
       "<table border=\"1\" class=\"dataframe\">\n",
       "  <thead>\n",
       "    <tr style=\"text-align: right;\">\n",
       "      <th></th>\n",
       "      <th>C</th>\n",
       "      <th>K</th>\n",
       "      <th>gamma</th>\n",
       "      <th>r</th>\n",
       "      <th>roc_cv</th>\n",
       "      <th>roc_train</th>\n",
       "      <th>s</th>\n",
       "      <th>stock</th>\n",
       "      <th>features_num</th>\n",
       "      <th>roc_log_cv</th>\n",
       "      <th>roc_log_train</th>\n",
       "    </tr>\n",
       "  </thead>\n",
       "  <tbody>\n",
       "    <tr>\n",
       "      <th>1</th>\n",
       "      <td>1</td>\n",
       "      <td>50</td>\n",
       "      <td>10</td>\n",
       "      <td>0.01</td>\n",
       "      <td>0.648274</td>\n",
       "      <td>0.551536</td>\n",
       "      <td>0.1</td>\n",
       "      <td>9061</td>\n",
       "      <td>4</td>\n",
       "      <td>0.528266</td>\n",
       "      <td>0.557542</td>\n",
       "    </tr>\n",
       "    <tr>\n",
       "      <th>2</th>\n",
       "      <td>1</td>\n",
       "      <td>50</td>\n",
       "      <td>100</td>\n",
       "      <td>0.01</td>\n",
       "      <td>0.543908</td>\n",
       "      <td>0.539210</td>\n",
       "      <td>0.1</td>\n",
       "      <td>9061</td>\n",
       "      <td>4</td>\n",
       "      <td>0.528266</td>\n",
       "      <td>0.557542</td>\n",
       "    </tr>\n",
       "    <tr>\n",
       "      <th>3</th>\n",
       "      <td>1</td>\n",
       "      <td>50</td>\n",
       "      <td>1000</td>\n",
       "      <td>0.01</td>\n",
       "      <td>0.552827</td>\n",
       "      <td>0.545479</td>\n",
       "      <td>0.1</td>\n",
       "      <td>9061</td>\n",
       "      <td>4</td>\n",
       "      <td>0.528266</td>\n",
       "      <td>0.557542</td>\n",
       "    </tr>\n",
       "    <tr>\n",
       "      <th>4</th>\n",
       "      <td>1</td>\n",
       "      <td>50</td>\n",
       "      <td>10000</td>\n",
       "      <td>0.01</td>\n",
       "      <td>0.541277</td>\n",
       "      <td>0.555785</td>\n",
       "      <td>0.1</td>\n",
       "      <td>9061</td>\n",
       "      <td>4</td>\n",
       "      <td>0.528266</td>\n",
       "      <td>0.557542</td>\n",
       "    </tr>\n",
       "    <tr>\n",
       "      <th>5</th>\n",
       "      <td>10</td>\n",
       "      <td>50</td>\n",
       "      <td>1</td>\n",
       "      <td>0.01</td>\n",
       "      <td>0.648274</td>\n",
       "      <td>0.556111</td>\n",
       "      <td>0.1</td>\n",
       "      <td>9061</td>\n",
       "      <td>4</td>\n",
       "      <td>0.528266</td>\n",
       "      <td>0.557542</td>\n",
       "    </tr>\n",
       "  </tbody>\n",
       "</table>\n",
       "</div>"
      ],
      "text/plain": [
       "    C   K  gamma     r    roc_cv  roc_train    s  stock  features_num  \\\n",
       "1   1  50     10  0.01  0.648274   0.551536  0.1   9061             4   \n",
       "2   1  50    100  0.01  0.543908   0.539210  0.1   9061             4   \n",
       "3   1  50   1000  0.01  0.552827   0.545479  0.1   9061             4   \n",
       "4   1  50  10000  0.01  0.541277   0.555785  0.1   9061             4   \n",
       "5  10  50      1  0.01  0.648274   0.556111  0.1   9061             4   \n",
       "\n",
       "   roc_log_cv  roc_log_train  \n",
       "1    0.528266       0.557542  \n",
       "2    0.528266       0.557542  \n",
       "3    0.528266       0.557542  \n",
       "4    0.528266       0.557542  \n",
       "5    0.528266       0.557542  "
      ]
     },
     "execution_count": 4,
     "metadata": {},
     "output_type": "execute_result"
    }
   ],
   "source": [
    "df_res['roc_log_cv'] = np.zeros(len(df_res)) - 1\n",
    "df_res['roc_log_train'] = np.zeros(len(df_res)) - 1\n",
    "roc_log_cv = []\n",
    "res_log = roc_results.result_cv_10000\n",
    "for idx, row in df_res.iterrows():\n",
    "    roc_log_cv.append(res_log[str(int(row['stock']))])\n",
    "df_res['roc_log_cv'] = roc_log_cv\n",
    "\n",
    "\n",
    "roc_log_train = []\n",
    "res_log = roc_results.results_10000\n",
    "for idx, row in df_res.iterrows():\n",
    "    roc_log_train.append(res_log[str(int(row['stock']))])\n",
    "df_res['roc_log_train'] = roc_log_train\n",
    "\n",
    "df_res.head()"
   ]
  },
  {
   "cell_type": "markdown",
   "metadata": {},
   "source": [
    "## Tunning of `r` and `s` parameters for filters"
   ]
  },
  {
   "cell_type": "code",
   "execution_count": 5,
   "metadata": {},
   "outputs": [
    {
     "ename": "NameError",
     "evalue": "name 'rr' is not defined",
     "output_type": "error",
     "traceback": [
      "\u001b[0;31m---------------------------------------------------------------------------\u001b[0m",
      "\u001b[0;31mNameError\u001b[0m                                 Traceback (most recent call last)",
      "\u001b[0;32m<ipython-input-5-9aa622cb6211>\u001b[0m in \u001b[0;36m<module>\u001b[0;34m()\u001b[0m\n\u001b[1;32m      1\u001b[0m \u001b[0mdf_res\u001b[0m \u001b[0;34m=\u001b[0m \u001b[0mdf_res\u001b[0m\u001b[0;34m.\u001b[0m\u001b[0msort_values\u001b[0m\u001b[0;34m(\u001b[0m\u001b[0mby\u001b[0m\u001b[0;34m=\u001b[0m\u001b[0;34m'roc_cv'\u001b[0m\u001b[0;34m,\u001b[0m \u001b[0mascending\u001b[0m\u001b[0;34m=\u001b[0m\u001b[0;32mFalse\u001b[0m\u001b[0;34m)\u001b[0m\u001b[0;34m\u001b[0m\u001b[0m\n\u001b[0;32m----> 2\u001b[0;31m \u001b[0mdf_g\u001b[0m \u001b[0;34m=\u001b[0m \u001b[0mpd\u001b[0m\u001b[0;34m.\u001b[0m\u001b[0mDataFrame\u001b[0m\u001b[0;34m(\u001b[0m\u001b[0mindex\u001b[0m\u001b[0;34m=\u001b[0m\u001b[0mrr\u001b[0m\u001b[0;34m,\u001b[0m \u001b[0mcolumns\u001b[0m\u001b[0;34m=\u001b[0m\u001b[0mss\u001b[0m\u001b[0;34m)\u001b[0m\u001b[0;34m\u001b[0m\u001b[0m\n\u001b[0m\u001b[1;32m      3\u001b[0m \u001b[0;32mfor\u001b[0m \u001b[0mi\u001b[0m\u001b[0;34m,\u001b[0m \u001b[0mrow\u001b[0m \u001b[0;32min\u001b[0m \u001b[0mdf_res\u001b[0m\u001b[0;34m.\u001b[0m\u001b[0mgroupby\u001b[0m\u001b[0;34m(\u001b[0m\u001b[0;34m[\u001b[0m\u001b[0;34m'r'\u001b[0m\u001b[0;34m,\u001b[0m \u001b[0;34m's'\u001b[0m\u001b[0;34m]\u001b[0m\u001b[0;34m)\u001b[0m\u001b[0;34m.\u001b[0m\u001b[0mmax\u001b[0m\u001b[0;34m(\u001b[0m\u001b[0;34m)\u001b[0m\u001b[0;34m.\u001b[0m\u001b[0miterrows\u001b[0m\u001b[0;34m(\u001b[0m\u001b[0;34m)\u001b[0m\u001b[0;34m:\u001b[0m\u001b[0;34m\u001b[0m\u001b[0m\n\u001b[1;32m      4\u001b[0m     \u001b[0;32mif\u001b[0m \u001b[0;32mnot\u001b[0m \u001b[0mnp\u001b[0m\u001b[0;34m.\u001b[0m\u001b[0misnan\u001b[0m\u001b[0;34m(\u001b[0m\u001b[0mrow\u001b[0m\u001b[0;34m[\u001b[0m\u001b[0;34m'roc_cv'\u001b[0m\u001b[0;34m]\u001b[0m\u001b[0;34m)\u001b[0m\u001b[0;34m:\u001b[0m\u001b[0;34m\u001b[0m\u001b[0m\n\u001b[1;32m      5\u001b[0m         \u001b[0mdf_g\u001b[0m\u001b[0;34m.\u001b[0m\u001b[0mloc\u001b[0m\u001b[0;34m[\u001b[0m\u001b[0mi\u001b[0m\u001b[0;34m[\u001b[0m\u001b[0;36m0\u001b[0m\u001b[0;34m]\u001b[0m\u001b[0;34m]\u001b[0m\u001b[0;34m[\u001b[0m\u001b[0mi\u001b[0m\u001b[0;34m[\u001b[0m\u001b[0;36m1\u001b[0m\u001b[0;34m]\u001b[0m\u001b[0;34m]\u001b[0m \u001b[0;34m=\u001b[0m \u001b[0mrow\u001b[0m\u001b[0;34m[\u001b[0m\u001b[0;34m'roc_cv'\u001b[0m\u001b[0;34m]\u001b[0m\u001b[0;34m\u001b[0m\u001b[0m\n",
      "\u001b[0;31mNameError\u001b[0m: name 'rr' is not defined"
     ]
    }
   ],
   "source": [
    "df_res = df_res.sort_values(by='roc_cv', ascending=False)\n",
    "df_g = pd.DataFrame(index=rr, columns=ss)\n",
    "for i, row in df_res.groupby(['r', 's']).max().iterrows():\n",
    "    if not np.isnan(row['roc_cv']):\n",
    "        df_g.loc[i[0]][i[1]] = row['roc_cv']\n",
    "df_g = df_g.apply(pd.to_numeric)      \n",
    "sns.heatmap(df_g, annot=True)\n",
    "plt.figure()"
   ]
  },
  {
   "cell_type": "markdown",
   "metadata": {},
   "source": [
    "### SVM hyperparameter tunnig (`gamma` and `C`)"
   ]
  },
  {
   "cell_type": "code",
   "execution_count": null,
   "metadata": {},
   "outputs": [],
   "source": [
    "df_g = pd.DataFrame(index=sorted(df_res['C'].unique()), columns=sorted(df_res['gamma'].unique()))\n",
    "for i, row in df_res.groupby(['C', 'gamma']).max().iterrows():\n",
    "    if not np.isnan(row['roc_cv']):\n",
    "        df_g.loc[i[0]][i[1]] = row['roc_cv']\n",
    "df_g = df_g.apply(pd.to_numeric)      \n",
    "sns.heatmap(df_g, annot=True)\n",
    "plt.figure()"
   ]
  },
  {
   "cell_type": "code",
   "execution_count": null,
   "metadata": {},
   "outputs": [],
   "source": [
    "from itertools import product\n",
    "\n",
    "cs = sorted(df_res['C'].unique())\n",
    "gammas = sorted(df_res['gamma'].unique())\n",
    "\n",
    "svm_params = product(gammas, cs)\n",
    "gdf_params = list(product([int(r*100) for r in rr], [int(s*100) for s in ss]))\n",
    "\n",
    "\n",
    "df_res = df_res.sort_values(by='roc_cv', ascending=False)\n",
    "df_g = pd.DataFrame(index=list(svm_params), columns=list(gdf_params))\n",
    "\n",
    "for i, row in df_res.iterrows():\n",
    "    r = int(row['r'] * 100)\n",
    "    s = int(row['s'] * 100)\n",
    "    column = (r, s)\n",
    "    index = (row['C'], row['gamma'])\n",
    "    df_g[column].loc[index] = row['roc_train']\n",
    "df_g = df_g.apply(pd.to_numeric)   \n",
    "df_g.head()"
   ]
  },
  {
   "cell_type": "code",
   "execution_count": null,
   "metadata": {},
   "outputs": [],
   "source": [
    "plt.figure(num=None, figsize=(20, 20), dpi=80, facecolor='w', edgecolor='k')\n",
    "gdf_params_10 = [g for g in list(gdf_params) if g[0] >= 5]\n",
    "sns.heatmap(df_g[gdf_params_10], annot=True)"
   ]
  },
  {
   "cell_type": "code",
   "execution_count": null,
   "metadata": {},
   "outputs": [],
   "source": [
    "plt.figure(num=None, figsize=(20, 20), dpi=80, facecolor='w', edgecolor='k')\n",
    "gdf_params_5 = [g for g in list(gdf_params) if g[0] < 5]\n",
    "sns.heatmap(df_g[gdf_params_5], annot=True)"
   ]
  },
  {
   "cell_type": "code",
   "execution_count": null,
   "metadata": {},
   "outputs": [],
   "source": [
    "plt.plot(df_res['roc_cv'].values)\n",
    "plt.plot(df_res['roc_train'].values)"
   ]
  },
  {
   "cell_type": "markdown",
   "metadata": {},
   "source": [
    "## Learning curves"
   ]
  },
  {
   "cell_type": "code",
   "execution_count": null,
   "metadata": {
    "collapsed": true
   },
   "outputs": [],
   "source": [
    "import numpy as np\n",
    "import matplotlib.pyplot as plt\n",
    "from sklearn.naive_bayes import GaussianNB\n",
    "from sklearn.svm import SVC\n",
    "from sklearn.datasets import load_digits\n",
    "from sklearn.model_selection import learning_curve\n",
    "from sklearn.model_selection import ShuffleSplit\n",
    "\n",
    "\n",
    "def plot_learning_curve(estimator, X, y, ylim=None, cv=None,\n",
    "                        n_jobs=1, train_sizes=np.linspace(.1, 1.0, 5)):\n",
    "    plt.figure()\n",
    "    if ylim is not None:\n",
    "        plt.ylim(*ylim)\n",
    "    plt.xlabel(\"Training examples\")\n",
    "    plt.ylabel(\"Score\")\n",
    "    train_sizes, train_scores, test_scores = learning_curve(\n",
    "        estimator, X, y, cv=cv, n_jobs=n_jobs, train_sizes=train_sizes, scoring='roc_auc')\n",
    "    train_scores_mean = np.mean(train_scores, axis=1)\n",
    "    train_scores_std = np.std(train_scores, axis=1)\n",
    "    test_scores_mean = np.mean(test_scores, axis=1)\n",
    "    test_scores_std = np.std(test_scores, axis=1)\n",
    "    plt.grid()\n",
    "\n",
    "    plt.fill_between(train_sizes, train_scores_mean - train_scores_std,\n",
    "                     train_scores_mean + train_scores_std, alpha=0.1,\n",
    "                     color=\"r\")\n",
    "    plt.fill_between(train_sizes, test_scores_mean - test_scores_std,\n",
    "                     test_scores_mean + test_scores_std, alpha=0.1, color=\"g\")\n",
    "    plt.plot(train_sizes, train_scores_mean, 'o-', color=\"r\",\n",
    "             label=\"Training score\")\n",
    "    plt.plot(train_sizes, test_scores_mean, 'o-', color=\"g\",\n",
    "             label=\"Cross-validation score\")\n",
    "\n",
    "    plt.legend(loc=\"best\")\n",
    "    return plt\n",
    "\n",
    "def read_gdf_data(stock, r, s, K=50, length=10000):\n",
    "    filename = 'gdf_{}_len{}_r{}_s{}_K{}'.format(stock, length, r, s, K)\n",
    "    if not os.path.exists(os.path.join('data_gdf',  filename + '.csv')):\n",
    "        print('GDF file ', filename, 'does not exist')\n",
    "    try:\n",
    "        dfs, dfs_cv, dfs_test = lob.load_prepared_data(\n",
    "            filename, data_dir='data_gdf/', cv=True, length=length)\n",
    "        if dfs is None:\n",
    "            print('none')\n",
    "    except Exception as e:\n",
    "        print(filename, 'not read', e)\n",
    "    return dfs, dfs_cv, dfs_test\n",
    "\n",
    "def plot_svm_learning_curve(df, C=1000, gamma=1):\n",
    "    clf = SVC(kernel='rbf', C=C, gamma=gamma)\n",
    "    gdf_columns = ['gdf_' + str(i) for i in range(0, 50)][K1:K2]\n",
    "    X = df.loc[:, gdf_columns]\n",
    "    y = df[['mid_price_indicator']].values\n",
    "    c, r = y.shape\n",
    "    y = y.reshape(c, )\n",
    "    y[0] = 0\n",
    "    clf.fit(X, y)\n",
    "    plot_learning_curve(clf, X, y)\n",
    "    return clf"
   ]
  },
  {
   "cell_type": "code",
   "execution_count": null,
   "metadata": {},
   "outputs": [],
   "source": [
    "row = df_res.max()\n",
    "r = row['r']\n",
    "s = row['s']\n",
    "gamma = row['gamma']\n",
    "C = row['C']\n",
    "\n",
    "df, df_cv, df_test = read_gdf_data(stock, r, s)\n",
    "clf = plot_svm_learning_curve(df, C=C, gamma=gamma)"
   ]
  },
  {
   "cell_type": "code",
   "execution_count": null,
   "metadata": {},
   "outputs": [],
   "source": [
    "row = df_res.min()\n",
    "r = row['r']\n",
    "s = row['s']\n",
    "gamma = row['gamma']\n",
    "C = row['C']\n",
    "\n",
    "df, df_cv, df_test = read_gdf_data(stock, r, s)\n",
    "clf = plot_svm_learning_curve(df, C=C, gamma=gamma)"
   ]
  },
  {
   "cell_type": "markdown",
   "metadata": {
    "collapsed": true
   },
   "source": [
    "### Validation curve"
   ]
  },
  {
   "cell_type": "code",
   "execution_count": null,
   "metadata": {
    "collapsed": true
   },
   "outputs": [],
   "source": [
    "import matplotlib.pyplot as plt\n",
    "import numpy as np\n",
    "\n",
    "from sklearn.svm import SVC\n",
    "from sklearn.model_selection import validation_curve\n",
    "\n",
    "\n",
    "def plot_validation_curve(df, c_range, gamma_range, c_start=1, gamma_start=1):\n",
    "    gdf_columns = ['gdf_' + str(i) for i in range(0, 50)][K1:K2]\n",
    "    X = df.loc[:, gdf_columns]\n",
    "    y = df[['mid_price_indicator']].values\n",
    "    c, r = y.shape\n",
    "    y = y.reshape(c, )\n",
    "    y[0] = 0\n",
    "    train_scores, test_scores = validation_curve(\n",
    "        SVC(kernel='rbf', C=c_start), X, y, param_name=\"gamma\", param_range=gamma_range, scoring=\"roc_auc\", n_jobs=1)\n",
    "    train_scores_mean = np.mean(train_scores, axis=1)\n",
    "    train_scores_std = np.std(train_scores, axis=1)\n",
    "    test_scores_mean = np.mean(test_scores, axis=1)\n",
    "    test_scores_std = np.std(test_scores, axis=1)\n",
    "\n",
    "    plt.title(\"Validation Curve with SVM\")\n",
    "    plt.xlabel(\"$\\gamma$\")\n",
    "    plt.ylabel(\"Score\")\n",
    "    plt.ylim(0.0, 1.1)\n",
    "    lw = 2\n",
    "    plt.semilogx(gamma_range, train_scores_mean, label=\"Training score\",\n",
    "                 color=\"darkorange\", lw=lw)\n",
    "    plt.fill_between(gamma_range, train_scores_mean - train_scores_std,\n",
    "                     train_scores_mean + train_scores_std, alpha=0.2,\n",
    "                     color=\"darkorange\", lw=lw)\n",
    "    plt.semilogx(gamma_range, test_scores_mean, label=\"Cross-validation score\",\n",
    "                 color=\"navy\", lw=lw)\n",
    "    plt.fill_between(gamma_range, test_scores_mean - test_scores_std,\n",
    "                     test_scores_mean + test_scores_std, alpha=0.2,\n",
    "                     color=\"navy\", lw=lw)\n",
    "    \n",
    "    train_scores, test_scores = validation_curve(\n",
    "    SVC(kernel='rbf', gamma=gamma_start), X, y, param_name=\"C\", param_range=c_range, scoring=\"roc_auc\", n_jobs=1)\n",
    "    train_scores_mean = np.mean(train_scores, axis=1)\n",
    "    train_scores_std = np.std(train_scores, axis=1)\n",
    "    test_scores_mean = np.mean(test_scores, axis=1)\n",
    "    test_scores_std = np.std(test_scores, axis=1)\n",
    "\n",
    "    plt.title(\"Validation Curve with SVM\")\n",
    "    plt.xlabel(\"$\\gamma$\")\n",
    "    plt.ylabel(\"Score\")\n",
    "    plt.ylim(0.0, 1.1)\n",
    "    lw = 2\n",
    "    plt.semilogx(c_range, train_scores_mean, label=\"Training score C\",\n",
    "                 color=\"red\", lw=lw)\n",
    "    plt.fill_between(c_range, train_scores_mean - train_scores_std,\n",
    "                     train_scores_mean + train_scores_std, alpha=0.2,\n",
    "                     color=\"red\", lw=lw)\n",
    "    plt.semilogx(c_range, test_scores_mean, label=\"Cross-validation score C\",\n",
    "                 color=\"green\", lw=lw)\n",
    "    plt.fill_between(c_range, test_scores_mean - test_scores_std,\n",
    "                     test_scores_mean + test_scores_std, alpha=0.2,\n",
    "                     color=\"green\", lw=lw)\n",
    "    \n",
    "    \n",
    "    plt.legend(loc=\"best\")"
   ]
  },
  {
   "cell_type": "markdown",
   "metadata": {},
   "source": []
  },
  {
   "cell_type": "code",
   "execution_count": null,
   "metadata": {},
   "outputs": [],
   "source": [
    "row = df_res.max()\n",
    "r = row['r']\n",
    "s = row['s']\n",
    "gamma = row['gamma']\n",
    "C = row['C']\n",
    "print(row)\n",
    "df, df_cv, df_test = read_gdf_data(stock, r, s)\n",
    "plot_validation_curve(df, c_range=np.logspace(1, 5, 5), \n",
    "                      gamma_range=np.logspace(1, 5, 5), c_start=100, gamma_start=1000)"
   ]
  },
  {
   "cell_type": "code",
   "execution_count": null,
   "metadata": {},
   "outputs": [],
   "source": [
    "row = df_res.max()\n",
    "r = row['r']\n",
    "s = row['s']\n",
    "\n",
    "gamma = row['gamma']\n",
    "C = row['C']\n",
    "print(row)\n",
    "df, df_cv, df_test = read_gdf_data(stock, r, s)\n",
    "plot_validation_curve(df, c_range=np.logspace(0.1, 3, 6), \n",
    "                      gamma_range=np.logspace(1.1, 3, 6), c_start=10, gamma_start=10)"
   ]
  },
  {
   "cell_type": "code",
   "execution_count": null,
   "metadata": {},
   "outputs": [],
   "source": [
    "plot_validation_curve(df, c_range=np.logspace(1, 5, 5), \n",
    "                      gamma_range=np.logspace(1, 5, 5), c_start=1000, gamma_start=1000)"
   ]
  },
  {
   "cell_type": "code",
   "execution_count": null,
   "metadata": {},
   "outputs": [],
   "source": [
    "plot_svm_learning_curve(df, C=0.1, gamma=0.1)"
   ]
  },
  {
   "cell_type": "code",
   "execution_count": null,
   "metadata": {
    "collapsed": true
   },
   "outputs": [],
   "source": []
  },
  {
   "cell_type": "code",
   "execution_count": null,
   "metadata": {},
   "outputs": [],
   "source": [
    "row = df_res.max()\n",
    "r = 0.1\n",
    "s = 0.5\n",
    "gamma = 7000\n",
    "C = 70\n",
    "\n",
    "df, df_cv, df_test = read_gdf_data(stock, r, s)\n",
    "clf = plot_svm_learning_curve(df, C=C, gamma=gamma)\n",
    "\n"
   ]
  },
  {
   "cell_type": "code",
   "execution_count": null,
   "metadata": {
    "collapsed": true
   },
   "outputs": [],
   "source": []
  }
 ],
 "metadata": {
  "kernelspec": {
   "display_name": "Python 3",
   "language": "python",
   "name": "python3"
  },
  "language_info": {
   "codemirror_mode": {
    "name": "ipython",
    "version": 3
   },
   "file_extension": ".py",
   "mimetype": "text/x-python",
   "name": "python",
   "nbconvert_exporter": "python",
   "pygments_lexer": "ipython3",
   "version": "3.6.1"
  }
 },
 "nbformat": 4,
 "nbformat_minor": 2
}
