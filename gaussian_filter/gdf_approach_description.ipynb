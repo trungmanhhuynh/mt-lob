{
 "cells": [
  {
   "cell_type": "markdown",
   "metadata": {},
   "source": [
    "# GDF approach description\n",
    "\n",
    "We will use Gaussian Density Filter (GDF) to extract features from Limited Order Books, which we mid price raise prediction for the next tick. \n",
    "\n",
    "The order of this notebook is as follows:\n",
    "1. Motivation\n",
    "2. Data preparation:\n",
    "    * data normalization\n",
    "    * GDF filtering\n",
    "    * feature preparation\n",
    "2. Initial Predictions\n",
    "3. Conclusions"
   ]
  },
  {
   "cell_type": "markdown",
   "metadata": {},
   "source": [
    "## Motivation\n",
    "\n",
    "Limited order book is a list of orders, where order is a tuple $(price, volume)$. For each stock LOB may change every tick. LOBs do not have fixed sizes that is why it is impossible to use them directly as inputs (features) to classyfing algoritms. They hold a lot of noisy, but sometimes useful information. \n",
    "\n",
    "The other issue with LOBs is that they are sorted, so it's often that when in tick $i$ $order(price_x, volume_x)$ is $n$-th element of the LOB, but in tick $i+1$ the same order may become $m$-th element, where $n != m$.\n",
    "\n",
    "We want to find a way in which we can use information from LOBs."
   ]
  },
  {
   "cell_type": "code",
   "execution_count": 1,
   "metadata": {},
   "outputs": [
    {
     "data": {
      "text/html": [
       "<script>requirejs.config({paths: { 'plotly': ['https://cdn.plot.ly/plotly-latest.min']},});if(!window.Plotly) {{require(['plotly'],function(plotly) {window.Plotly=plotly;});}}</script>"
      ],
      "text/vnd.plotly.v1+html": [
       "<script>requirejs.config({paths: { 'plotly': ['https://cdn.plot.ly/plotly-latest.min']},});if(!window.Plotly) {{require(['plotly'],function(plotly) {window.Plotly=plotly;});}}</script>"
      ]
     },
     "metadata": {},
     "output_type": "display_data"
    }
   ],
   "source": [
    " %matplotlib inline\n",
    "from ast import literal_eval\n",
    "import pandas as pd\n",
    "import matplotlib.pyplot as plt\n",
    "import seaborn as sns\n",
    "from sklearn.cluster import KMeans\n",
    "from sklearn.svm import SVC\n",
    "from sklearn.linear_model import LogisticRegressionCV\n",
    "from typing import Tuple\n",
    "import numpy as np\n",
    "import itertools\n",
    "import os\n",
    "\n",
    "from sklearn import preprocessing\n",
    "from sklearn.metrics import roc_auc_score\n",
    "from scipy.stats import norm\n",
    "\n",
    "import plotly.offline as py\n",
    "import plotly.figure_factory as ff\n",
    "import plotly.graph_objs as go\n",
    "\n",
    "import warnings\n",
    "\n",
    "from lob_data_utils import lob, db_result, roc_results\n",
    "\n",
    "sns.set_style('whitegrid')\n",
    "warnings.filterwarnings('ignore')\n",
    "py.init_notebook_mode(connected=True)"
   ]
  },
  {
   "cell_type": "markdown",
   "metadata": {},
   "source": [
    "## Data preparation\n",
    "\n",
    "### Data normalization\n",
    "\n",
    "Let's define LOB as $(bid\\_list, ask\\_list)$ where both `bid_list` and `ask_list` are lists of pairs `(price, volume)`.\n",
    "\n",
    "$\n",
    "\\begin{equation*}\n",
    "volumes = \\{v: where (p, v) \\in bid\\_list ||  (p, v) \\in ask\\_list \\}\n",
    "\\end{equation*}\n",
    "$\n",
    "\n",
    "$ mid\\_price = \\frac{max(price \\in bid\\_list) - min(price \\in ask\\_list)}{2}$\n",
    "\n",
    "Then normalization of the order `(price, volume)` is a pair `(price_norm, volume_norm)` where:\n",
    "\n",
    "$$\n",
    "\\begin{equation*}\n",
    "volume\\_norm = \\frac{price * volume}{\\sum(volumes)} \\\\\n",
    "price\\_norm = \\frac{1000 * (price - mid\\_price)}{mid\\_price}\n",
    "\\end{equation*}\n",
    "$$\n"
   ]
  },
  {
   "cell_type": "code",
   "execution_count": 2,
   "metadata": {
    "collapsed": true
   },
   "outputs": [],
   "source": [
    "def transform_to_orders(df: pd.DataFrame) -> pd.DataFrame:\n",
    "    \"\"\"\n",
    "     Orders in data frame are lists of [(price, volume)].\n",
    "    \"\"\"\n",
    "    orders = []\n",
    "    for idx, row in df.iterrows():\n",
    "        bid = np.array([literal_eval(row.get('bid'))][0])\n",
    "        ask = np.array([literal_eval(row.get('ask'))][0])\n",
    "\n",
    "        mid_price = row['mid_price']\n",
    "\n",
    "        bid_vol_norm = bid[:, 1] * bid[:, 0]\n",
    "        ask_vol_norm = ask[:, 1] * ask[:, 0]\n",
    "\n",
    "        total_capital = bid_vol_norm.sum() + ask_vol_norm.sum()\n",
    "        bid_vol_norm /= total_capital\n",
    "        ask_vol_norm /= total_capital\n",
    "\n",
    "        bid_price_norm = 1000 * (bid[:, 0] - mid_price) / mid_price\n",
    "        ask_price_norm = 1000 * (ask[:, 0] - mid_price) / mid_price\n",
    "\n",
    "        o = {}\n",
    "        o['bid_norm'] = list(zip(bid_price_norm, bid_vol_norm))\n",
    "        o['ask_norm'] = list(zip(ask_price_norm, ask_vol_norm))\n",
    "        o['mid_price'] = mid_price\n",
    "        o['mid_price_indicator'] = row['mid_price_indicator']\n",
    "        orders.append(o)\n",
    "    return pd.DataFrame(orders)"
   ]
  },
  {
   "cell_type": "markdown",
   "metadata": {},
   "source": [
    "### GDF filtering\n",
    "\n",
    "We are using Gaussian density function as filter for the \"noise\", since we want to look more on the shape of the data then on exact values.\n",
    "\n",
    "$f(x;\\mu ,\\sigma ^{2})=r * {\\frac {1}{\\sigma {\\sqrt {2\\pi }}}}e^{-{\\frac {1}{2}}\\left({\\frac {x-\\mu }{\\sigma }}\\right)^{2}}$.\n",
    "\n",
    "\n",
    "There are two parameters which need to be set:\n",
    "* $\\sigma^2$ - variance (how wide is the gaussian curve)\n",
    "* $\\mu$ - median (location)\n",
    "* $r$ - scale parameter (how tall is the gaussian curve)\n",
    "\n",
    "For which LOB we will split it into $K$ segments $(s_0, s_1, \\ldots, s_{K-1}$. For each segment $s_i$ we will define the gaussian curve $G_i$ with the parameters: \n",
    "* $\\sigma$ - variance\n",
    "* $r$ - scale\n",
    "* $s_{i+1} - s_{i}$ - median\n",
    "\n",
    "Then we will calculate area intersection between each $G_i$ and orders and we will call it `gdf_i`.\n",
    "We will also calculate `mid_price_index` which will tell us in which `gdf` mid price is located."
   ]
  },
  {
   "cell_type": "code",
   "execution_count": 3,
   "metadata": {
    "collapsed": true
   },
   "outputs": [],
   "source": [
    "def gdf_representation(buy_orders, sell_orders, gdf):\n",
    "    buy_price, buy_volume = buy_orders\n",
    "    sell_price, sell_volume = sell_orders\n",
    "    buy_gdf_y = gdf[0] * norm.pdf(buy_price, loc=gdf[1], scale=gdf[2])\n",
    "    sell_gdf_y = gdf[0] * norm.pdf(sell_price, loc=gdf[1], scale=gdf[2])\n",
    "    return np.clip(buy_volume, 0.0, buy_gdf_y).sum() + np.clip(sell_volume, 0.0, sell_gdf_y).sum()\n",
    "\n",
    "\n",
    "def transform_to_gdf(df: pd.DataFrame, r=0.025, s=0.05, K=50) -> pd.DataFrame:\n",
    "    gdfs_r = r * np.ones(K)\n",
    "    gdfs_m = 0.1000 * np.hstack([np.arange(- K // 2, 0), np.arange(1, K // 2 + 1)])\n",
    "    gdfs_s = s * np.ones(K)\n",
    "    gdfs = np.vstack([gdfs_r, gdfs_m, gdfs_s]).T\n",
    "    order_list = []\n",
    "    for idx, row in df.iterrows():\n",
    "        d_bid = np.array([row.get('bid_norm')][0])\n",
    "        d_ask = np.array([row.get('ask_norm')][0])\n",
    "        \n",
    "\n",
    "        new_row_dict = {}\n",
    "        for i in range(0, K):\n",
    "            gdf_repr = gdf_representation((d_bid[:, 0], d_bid[:, 1]),\n",
    "                                          (d_ask[:, 0], d_ask[:, 1]),\n",
    "                                          gdfs[i, :])\n",
    "            new_row_dict['gdf_' + str(i)] = gdf_repr\n",
    "        new_row_dict['mid_price_index'] = len(d_bid)/(len(d_bid)+len(d_ask)) * K\n",
    "        new_row_dict['mid_price'] = (np.max(d_bid) - np.min(d_ask)) / 2\n",
    "        new_row_dict['mid_price_indicator'] = row.get('mid_price_indicator')\n",
    "\n",
    "        order_list.append(new_row_dict)\n",
    "    order_df = pd.DataFrame(order_list)\n",
    "    return order_df"
   ]
  },
  {
   "cell_type": "code",
   "execution_count": 4,
   "metadata": {},
   "outputs": [
    {
     "data": {
      "text/html": [
       "<div>\n",
       "<style scoped>\n",
       "    .dataframe tbody tr th:only-of-type {\n",
       "        vertical-align: middle;\n",
       "    }\n",
       "\n",
       "    .dataframe tbody tr th {\n",
       "        vertical-align: top;\n",
       "    }\n",
       "\n",
       "    .dataframe thead th {\n",
       "        text-align: right;\n",
       "    }\n",
       "</style>\n",
       "<table border=\"1\" class=\"dataframe\">\n",
       "  <thead>\n",
       "    <tr style=\"text-align: right;\">\n",
       "      <th></th>\n",
       "      <th>gdf_0</th>\n",
       "      <th>gdf_1</th>\n",
       "      <th>gdf_2</th>\n",
       "      <th>gdf_3</th>\n",
       "      <th>gdf_4</th>\n",
       "      <th>gdf_5</th>\n",
       "      <th>gdf_6</th>\n",
       "      <th>gdf_7</th>\n",
       "      <th>gdf_8</th>\n",
       "      <th>gdf_9</th>\n",
       "      <th>mid_price</th>\n",
       "      <th>mid_price_index</th>\n",
       "      <th>mid_price_indicator</th>\n",
       "    </tr>\n",
       "  </thead>\n",
       "  <tbody>\n",
       "    <tr>\n",
       "      <th>0</th>\n",
       "      <td>0.021738</td>\n",
       "      <td>0.028745</td>\n",
       "      <td>0.024675</td>\n",
       "      <td>0.007122</td>\n",
       "      <td>0.007091</td>\n",
       "      <td>0.017308</td>\n",
       "      <td>0.017339</td>\n",
       "      <td>0.019849</td>\n",
       "      <td>0.021375</td>\n",
       "      <td>0.019036</td>\n",
       "      <td>0.026232</td>\n",
       "      <td>3.508772</td>\n",
       "      <td>0.0</td>\n",
       "    </tr>\n",
       "    <tr>\n",
       "      <th>1</th>\n",
       "      <td>0.031267</td>\n",
       "      <td>0.033193</td>\n",
       "      <td>0.022252</td>\n",
       "      <td>0.025480</td>\n",
       "      <td>0.007833</td>\n",
       "      <td>0.004534</td>\n",
       "      <td>0.017279</td>\n",
       "      <td>0.017350</td>\n",
       "      <td>0.027793</td>\n",
       "      <td>0.030522</td>\n",
       "      <td>0.027020</td>\n",
       "      <td>3.411765</td>\n",
       "      <td>1.0</td>\n",
       "    </tr>\n",
       "    <tr>\n",
       "      <th>2</th>\n",
       "      <td>0.021667</td>\n",
       "      <td>0.027262</td>\n",
       "      <td>0.026460</td>\n",
       "      <td>0.011302</td>\n",
       "      <td>0.011278</td>\n",
       "      <td>0.009864</td>\n",
       "      <td>0.009888</td>\n",
       "      <td>0.019059</td>\n",
       "      <td>0.021628</td>\n",
       "      <td>0.022085</td>\n",
       "      <td>0.026750</td>\n",
       "      <td>3.428571</td>\n",
       "      <td>0.0</td>\n",
       "    </tr>\n",
       "    <tr>\n",
       "      <th>3</th>\n",
       "      <td>0.025888</td>\n",
       "      <td>0.021047</td>\n",
       "      <td>0.015933</td>\n",
       "      <td>0.020087</td>\n",
       "      <td>0.008753</td>\n",
       "      <td>0.002441</td>\n",
       "      <td>0.013646</td>\n",
       "      <td>0.015803</td>\n",
       "      <td>0.024850</td>\n",
       "      <td>0.026251</td>\n",
       "      <td>0.026465</td>\n",
       "      <td>3.450292</td>\n",
       "      <td>0.0</td>\n",
       "    </tr>\n",
       "    <tr>\n",
       "      <th>4</th>\n",
       "      <td>0.028570</td>\n",
       "      <td>0.021729</td>\n",
       "      <td>0.012486</td>\n",
       "      <td>0.000595</td>\n",
       "      <td>0.000134</td>\n",
       "      <td>0.008970</td>\n",
       "      <td>0.013258</td>\n",
       "      <td>0.025474</td>\n",
       "      <td>0.022342</td>\n",
       "      <td>0.021619</td>\n",
       "      <td>0.027529</td>\n",
       "      <td>3.411765</td>\n",
       "      <td>0.0</td>\n",
       "    </tr>\n",
       "  </tbody>\n",
       "</table>\n",
       "</div>"
      ],
      "text/plain": [
       "      gdf_0     gdf_1     gdf_2     gdf_3     gdf_4     gdf_5     gdf_6  \\\n",
       "0  0.021738  0.028745  0.024675  0.007122  0.007091  0.017308  0.017339   \n",
       "1  0.031267  0.033193  0.022252  0.025480  0.007833  0.004534  0.017279   \n",
       "2  0.021667  0.027262  0.026460  0.011302  0.011278  0.009864  0.009888   \n",
       "3  0.025888  0.021047  0.015933  0.020087  0.008753  0.002441  0.013646   \n",
       "4  0.028570  0.021729  0.012486  0.000595  0.000134  0.008970  0.013258   \n",
       "\n",
       "      gdf_7     gdf_8     gdf_9  mid_price  mid_price_index  \\\n",
       "0  0.019849  0.021375  0.019036   0.026232         3.508772   \n",
       "1  0.017350  0.027793  0.030522   0.027020         3.411765   \n",
       "2  0.019059  0.021628  0.022085   0.026750         3.428571   \n",
       "3  0.015803  0.024850  0.026251   0.026465         3.450292   \n",
       "4  0.025474  0.022342  0.021619   0.027529         3.411765   \n",
       "\n",
       "   mid_price_indicator  \n",
       "0                  0.0  \n",
       "1                  1.0  \n",
       "2                  0.0  \n",
       "3                  0.0  \n",
       "4                  0.0  "
      ]
     },
     "execution_count": 4,
     "metadata": {},
     "output_type": "execute_result"
    }
   ],
   "source": [
    "stock = '9061'\n",
    "length = 10000\n",
    "df, df_cv, df_test= lob.load_prepared_data(stock, data_dir='data/', cv=True, length=length)\n",
    "df_gdf_example = transform_to_gdf(transform_to_orders(df_cv), K=10)\n",
    "df_gdf_example.head()"
   ]
  },
  {
   "cell_type": "code",
   "execution_count": 5,
   "metadata": {},
   "outputs": [
    {
     "data": {
      "text/plain": [
       "<matplotlib.text.Text at 0x7f0bdfa0a1d0>"
      ]
     },
     "execution_count": 5,
     "metadata": {},
     "output_type": "execute_result"
    },
    {
     "data": {
      "image/png": "[encoded data removed]",
      "text/plain": [
       "<matplotlib.figure.Figure at 0x7f0bdf9fc390>"
      ]
     },
     "metadata": {},
     "output_type": "display_data"
    }
   ],
   "source": [
    "df_gdf_example[['gdf_0', 'gdf_5', 'gdf_9']].iloc[0:50].plot(marker='.')\n",
    "plt.title('Example plot of gdf features')\n",
    "plt.ylabel('GDF value')\n",
    "plt.xlabel('GDF feature')"
   ]
  },
  {
   "cell_type": "code",
   "execution_count": 6,
   "metadata": {},
   "outputs": [
    {
     "data": {
      "text/plain": [
       "<matplotlib.text.Text at 0x7f0bde8520f0>"
      ]
     },
     "execution_count": 6,
     "metadata": {},
     "output_type": "execute_result"
    },
    {
     "data": {
      "image/png": "[encoded data removed]",
      "text/plain": [
       "<matplotlib.figure.Figure at 0x7f0be2f34358>"
      ]
     },
     "metadata": {},
     "output_type": "display_data"
    }
   ],
   "source": [
    "cols = ['gdf_' + str(i) for i in range(0, 10)]\n",
    "df_gdf_example[cols].plot(kind='box')\n",
    "plt.title('GDF features distribution')\n",
    "plt.ylabel('GDF value')\n",
    "plt.xlabel('GDF feature')"
   ]
  },
  {
   "cell_type": "markdown",
   "metadata": {},
   "source": [
    "### Feature preparation\n",
    "\n",
    "Mid price value is between the maximum bid price and minimum ask price. That is why we want to look at `gdf features` which are corresponding to the values close to mid-price. Let's denote number of features we want to use by $ n $. If mid price is located in $ gdf_i $ we will calculate $mgdf_0, mgdf_1, \\ldots, mgdf_n$ in which $mgdf_{n/2}$ will correspond to $gdf_i$, $mgdf_0$ to $gdf_{i-n/2}$, $mgdf_1$ to $gdf_{i-n/2 + 1}$, etc. \n",
    "\n",
    "This approach assummes that both bid and ask lists are always longer than half of number of features, so we have to pick number of features thoughtfully. We will refer to this features as **close to mid-price features**.\n",
    "\n",
    "To avoid that issue we could just always pick fixed gdf features indexes, f.e. \n",
    "if we calculated `gdf`'s for $K=5$ (so we have $gdf_0, gdf_1, ..., gdf_4$) we will pick always $gdf_2$, $gdf_3$ instead of occasionally picking $gdf_1$ or $gdf_4$ if they are \"closer\" to mid price.  We will refer to this features as **fixed indexes features**.\n",
    "\n",
    "I'm not sure which approach is better, most calculations were done for the second one (fixed indexes)."
   ]
  },
  {
   "cell_type": "code",
   "execution_count": 7,
   "metadata": {
    "collapsed": true
   },
   "outputs": [],
   "source": [
    "def prepare_features(df, features_num):\n",
    "    prepared_list = []\n",
    "    for i, row in df.iterrows():\n",
    "        prepared = {}\n",
    "        mid_idx = int(np.floor(row['mid_price_index']))\n",
    "        for i in range(-features_num//2, features_num//2):\n",
    "            f_idx = mid_idx + i\n",
    "            prepared['mgdf_' + str(i + features_num//2)] = row['gdf_' + str(f_idx)]\n",
    "            prepared['mid_price_indicator'] = row['mid_price_indicator']\n",
    "        prepared_list.append(prepared)\n",
    "    return pd.DataFrame(prepared_list)"
   ]
  },
  {
   "cell_type": "code",
   "execution_count": 8,
   "metadata": {},
   "outputs": [
    {
     "data": {
      "text/html": [
       "<div>\n",
       "<style scoped>\n",
       "    .dataframe tbody tr th:only-of-type {\n",
       "        vertical-align: middle;\n",
       "    }\n",
       "\n",
       "    .dataframe tbody tr th {\n",
       "        vertical-align: top;\n",
       "    }\n",
       "\n",
       "    .dataframe thead th {\n",
       "        text-align: right;\n",
       "    }\n",
       "</style>\n",
       "<table border=\"1\" class=\"dataframe\">\n",
       "  <thead>\n",
       "    <tr style=\"text-align: right;\">\n",
       "      <th></th>\n",
       "      <th>mgdf_0</th>\n",
       "      <th>mgdf_1</th>\n",
       "      <th>mgdf_2</th>\n",
       "      <th>mgdf_3</th>\n",
       "      <th>mid_price_indicator</th>\n",
       "    </tr>\n",
       "  </thead>\n",
       "  <tbody>\n",
       "    <tr>\n",
       "      <th>0</th>\n",
       "      <td>0.028745</td>\n",
       "      <td>0.024675</td>\n",
       "      <td>0.007122</td>\n",
       "      <td>0.007091</td>\n",
       "      <td>0.0</td>\n",
       "    </tr>\n",
       "    <tr>\n",
       "      <th>1</th>\n",
       "      <td>0.033193</td>\n",
       "      <td>0.022252</td>\n",
       "      <td>0.025480</td>\n",
       "      <td>0.007833</td>\n",
       "      <td>1.0</td>\n",
       "    </tr>\n",
       "    <tr>\n",
       "      <th>2</th>\n",
       "      <td>0.027262</td>\n",
       "      <td>0.026460</td>\n",
       "      <td>0.011302</td>\n",
       "      <td>0.011278</td>\n",
       "      <td>0.0</td>\n",
       "    </tr>\n",
       "    <tr>\n",
       "      <th>3</th>\n",
       "      <td>0.021047</td>\n",
       "      <td>0.015933</td>\n",
       "      <td>0.020087</td>\n",
       "      <td>0.008753</td>\n",
       "      <td>0.0</td>\n",
       "    </tr>\n",
       "    <tr>\n",
       "      <th>4</th>\n",
       "      <td>0.021729</td>\n",
       "      <td>0.012486</td>\n",
       "      <td>0.000595</td>\n",
       "      <td>0.000134</td>\n",
       "      <td>0.0</td>\n",
       "    </tr>\n",
       "  </tbody>\n",
       "</table>\n",
       "</div>"
      ],
      "text/plain": [
       "     mgdf_0    mgdf_1    mgdf_2    mgdf_3  mid_price_indicator\n",
       "0  0.028745  0.024675  0.007122  0.007091                  0.0\n",
       "1  0.033193  0.022252  0.025480  0.007833                  1.0\n",
       "2  0.027262  0.026460  0.011302  0.011278                  0.0\n",
       "3  0.021047  0.015933  0.020087  0.008753                  0.0\n",
       "4  0.021729  0.012486  0.000595  0.000134                  0.0"
      ]
     },
     "execution_count": 8,
     "metadata": {},
     "output_type": "execute_result"
    }
   ],
   "source": [
    "df_gdf_features_example = prepare_features(df_gdf_example, 4)\n",
    "df_gdf_features_example.head()"
   ]
  },
  {
   "cell_type": "code",
   "execution_count": 9,
   "metadata": {},
   "outputs": [
    {
     "data": {
      "text/plain": [
       "<matplotlib.text.Text at 0x7f0be0efc080>"
      ]
     },
     "execution_count": 9,
     "metadata": {},
     "output_type": "execute_result"
    },
    {
     "data": {
      "image/png": "[encoded data removed]",
      "text/plain": [
       "<matplotlib.figure.Figure at 0x7f0bdea85400>"
      ]
     },
     "metadata": {},
     "output_type": "display_data"
    }
   ],
   "source": [
    "cols = ['mgdf_' + str(i) for i in range(0, 4)]\n",
    "df_gdf_features_example[cols].plot(kind='box')\n",
    "plt.title('GDF features distribution')\n",
    "plt.ylabel('GDF value')\n",
    "plt.xlabel('GDF feature')"
   ]
  },
  {
   "cell_type": "code",
   "execution_count": 10,
   "metadata": {},
   "outputs": [
    {
     "data": {
      "text/plain": [
       "<matplotlib.legend.Legend at 0x7f0bdf99ad30>"
      ]
     },
     "execution_count": 10,
     "metadata": {},
     "output_type": "execute_result"
    },
    {
     "data": {
      "image/png": "[encoded data removed]",
      "text/plain": [
       "<matplotlib.figure.Figure at 0x7f0bdeff76d8>"
      ]
     },
     "metadata": {},
     "output_type": "display_data"
    }
   ],
   "source": [
    "plt.plot(df_gdf_example['gdf_1'].iloc[0:50], label='gdf_2, usually around mid price')\n",
    "plt.plot(df_gdf_features_example['mgdf_1'].iloc[0:50], label='gdf closest to mid-price')\n",
    "plt.title('Example plot of gdf features')\n",
    "plt.ylabel('GDF value')\n",
    "plt.xlabel('GDF feature')\n",
    "plt.legend()"
   ]
  },
  {
   "cell_type": "markdown",
   "metadata": {},
   "source": [
    "## Initial predictions\n",
    "\n",
    "We will try to do a few predictions if the `mid_price` will raise in the next tick (`mid_price_indicator` in the code) using SVM and logistic regression. In the other notebooks it's explored more.\n",
    "\n",
    "We will use SVM and Logistic Regression, we will try a few different parameters, but hyperparameter tunning will not be performed here. This section is more for getting an idea what might work and what are the main obstacles in this approach of feature extraction.\n",
    "\n",
    "We will use two kinds of features:\n",
    "* \"close\" mid-price features\n",
    "* fixed indexes features"
   ]
  },
  {
   "cell_type": "code",
   "execution_count": 11,
   "metadata": {
    "collapsed": true
   },
   "outputs": [],
   "source": [
    "def svm_classification(df, gdf_columns, C=1000, gamma=1):\n",
    "    clf = SVC(kernel='rbf', C=C, gamma=gamma)\n",
    "    X = df.loc[:, gdf_columns]\n",
    "    y = df['mid_price_indicator'].values.reshape(-1, 1)\n",
    "    y[0] = 0\n",
    "    clf.fit(X, y)\n",
    "    return clf\n",
    "\n",
    "def perform_svm_fixed_features(stock, length=10000, r=0.025, s=0.5, K=50, C=100, gamma=1, features_num=30):\n",
    "    df, df_cv, df_test= lob.load_prepared_data(stock, data_dir='data/', cv=True, length=length)\n",
    "\n",
    "    df_orders = transform_to_orders(df) \n",
    "    df_orders_cv = transform_to_orders(df_cv)\n",
    "    df_orders_test = transform_to_orders(df_test)\n",
    "    df_orders.head()\n",
    "\n",
    "    df_gdf = transform_to_gdf(df_orders, r=r, s=s, K=K)\n",
    "    df_gdf_cv = transform_to_gdf(df_orders_cv, r=r, s=s, K=K)\n",
    "    df_gdf_test = transform_to_gdf(df_orders_test, r=r, s=s, K=K)\n",
    "\n",
    "    cols = ['gdf_' + str(i) for i in range(int(K//2 - features_num//2), int(K//2 + features_num//2))]\n",
    "\n",
    "    clf = svm_classification(df_gdf, cols, C=C, gamma=gamma)\n",
    "    pred = clf.predict(df_gdf.loc[:, cols])\n",
    "    pred_cv = clf.predict(df_gdf_cv.loc[:, cols])\n",
    "\n",
    "    print('SVM with fixed indexes features:')\n",
    "    print('Data preparation params: K = {}, s = {}, r = {}'.format(K, s, r))\n",
    "    print('SVM hyperparams: gamma={}, C={}, fixed feature number: {}'.format(gamma, C, features_num))\n",
    "    print('Training set ROC area score:', roc_auc_score(df_gdf['mid_price_indicator'], pred))\n",
    "    print('Validation set ROC area score:', roc_auc_score(df_gdf_cv['mid_price_indicator'], pred_cv))\n",
    "\n",
    "def perform_svm(stock, length=10000, r=0.025, s=0.5, K=50, C=100, gamma=1, features_num=30):\n",
    "    df, df_cv, df_test= lob.load_prepared_data(stock, data_dir='data/', cv=True, length=length)\n",
    "\n",
    "    df_orders = transform_to_orders(df) \n",
    "    df_orders_cv = transform_to_orders(df_cv)\n",
    "    df_orders_test = transform_to_orders(df_test)\n",
    "    df_orders.head()\n",
    "\n",
    "    df_gdf = transform_to_gdf(df_orders, r=r, s=s, K=K)\n",
    "    df_gdf_cv = transform_to_gdf(df_orders_cv, r=r, s=s, K=K)\n",
    "    df_gdf_test = transform_to_gdf(df_orders_test, r=r, s=s, K=K)\n",
    "\n",
    "    df_prepared = prepare_features(df_gdf, features_num)\n",
    "    cols = ['mgdf_' + str(i) for i in range(0, features_num)]\n",
    "\n",
    "    clf = svm_classification(df_prepared, cols, C=C, gamma=gamma)\n",
    "    pred = clf.predict(df_prepared.loc[:, cols])\n",
    "\n",
    "    df_prepared_cv = prepare_features(df_gdf_cv, features_num)\n",
    "    pred_cv = clf.predict(df_prepared_cv.loc[:, cols])\n",
    "\n",
    "    print('SVM with close mid-price features:')\n",
    "    print('Data preparation params: K = {}, s = {}, r = {}'.format(K, s, r))\n",
    "    print('SVM hyperparams: gamma={}, C={}, feature number: {}'.format(gamma, C, features_num))\n",
    "    print('Training set ROC area score:', roc_auc_score(df_prepared['mid_price_indicator'], pred))\n",
    "    print('Validation set ROC area score:', roc_auc_score(df_prepared_cv['mid_price_indicator'], pred_cv))\n",
    "    \n",
    "def perform_logistic(stock, r=0.025, s=0.5, K=50, features_num=30):\n",
    "    df, df_cv, df_test= lob.load_prepared_data(stock, data_dir='data/', cv=True, length=length)\n",
    "\n",
    "    df_orders = transform_to_orders(df) \n",
    "    df_orders_cv = transform_to_orders(df_cv)\n",
    "    df_orders_test = transform_to_orders(df_test)\n",
    "    df_orders.head()\n",
    "\n",
    "    df_gdf = transform_to_gdf(df_orders, r=r, s=s, K=K)\n",
    "    df_gdf_cv = transform_to_gdf(df_orders_cv, r=r, s=s, K=K)\n",
    "    df_gdf_test = transform_to_gdf(df_orders_test, r=r, s=s, K=K)\n",
    "\n",
    "    df_prepared = prepare_features(df_gdf, features_num)\n",
    "    df_prepared_cv = prepare_features(df_gdf_cv, features_num)\n",
    "    \n",
    "    cols = ['mgdf_' + str(i) for i in range(0, features_num)]\n",
    "    log_clf = LogisticRegressionCV()\n",
    "    log_clf.fit(df_prepared.loc[:, cols], df_prepared['mid_price_indicator'])\n",
    "    \n",
    "    pred = log_clf.predict(df_prepared.loc[:, cols])\n",
    "    pred_cv = log_clf.predict(df_prepared_cv.loc[:, cols])\n",
    "\n",
    "    print('Logistic regression with close mid-price features:')\n",
    "    print('Data preparation params: K = {}, s = {}, r = {}'.format(K, s, r))\n",
    "    print('Logistic regression hyperparams: C={}, feature number: {}'.format(C, features_num))\n",
    "    print('Training set ROC area score:', roc_auc_score(df_prepared['mid_price_indicator'], pred))\n",
    "    print('Validation set ROC area score:', roc_auc_score(df_prepared_cv['mid_price_indicator'], pred_cv))\n",
    "    \n",
    "def perform_logistic_fixed_features(stock, r=0.025, s=0.5, K=50, features_num=30):\n",
    "    df, df_cv, df_test= lob.load_prepared_data(stock, data_dir='data/', cv=True, length=length)\n",
    "\n",
    "    df_orders = transform_to_orders(df) \n",
    "    df_orders_cv = transform_to_orders(df_cv)\n",
    "    df_orders_test = transform_to_orders(df_test)\n",
    "    df_orders.head()\n",
    "\n",
    "    df_gdf = transform_to_gdf(df_orders, r=r, s=s, K=K)\n",
    "    df_gdf_cv = transform_to_gdf(df_orders_cv, r=r, s=s, K=K)\n",
    "    df_gdf_test = transform_to_gdf(df_orders_test, r=r, s=s, K=K)\n",
    "\n",
    "    \n",
    "    cols = ['gdf_' + str(i) for i in range(int(K//2 - features_num//2), int(K//2 + features_num//2))]\n",
    "    log_clf = LogisticRegressionCV()\n",
    "    log_clf.fit(df_gdf.loc[:, cols], df_gdf['mid_price_indicator'])\n",
    "    \n",
    "    pred = log_clf.predict(df_gdf.loc[:, cols])\n",
    "    pred_cv = log_clf.predict(df_gdf_cv.loc[:, cols])\n",
    "\n",
    "    print('Logistic regression with fixed indexes features:')\n",
    "    print('Data preparation params: K = {}, s = {}, r = {}'.format(K, s, r))\n",
    "    print('Logistic regression hyperparams: C={}, feature number: {}'.format(C, features_num))\n",
    "    print('Training set ROC area score:', roc_auc_score(df_gdf['mid_price_indicator'], pred))\n",
    "    print('Validation set ROC area score:', roc_auc_score(df_gdf_cv['mid_price_indicator'], pred_cv))"
   ]
  },
  {
   "cell_type": "markdown",
   "metadata": {},
   "source": [
    "### K = 50, r = 0.03, s = 0.2"
   ]
  },
  {
   "cell_type": "code",
   "execution_count": 12,
   "metadata": {},
   "outputs": [
    {
     "name": "stdout",
     "output_type": "stream",
     "text": [
      "SVM with close mid-price features:\n",
      "Data preparation params: K = 50, s = 0.2, r = 0.03\n",
      "SVM hyperparams: gamma=1, C=100, feature number: 30\n",
      "Training set ROC area score: 0.515576401918\n",
      "Validation set ROC area score: 0.509648683815\n"
     ]
    }
   ],
   "source": [
    "r = 0.03\n",
    "s = 0.2\n",
    "K = 50\n",
    "stock = '9061'\n",
    "C = 100\n",
    "gamma = 1\n",
    "features_num = 30\n",
    "\n",
    "perform_svm(stock, r=r, s=s, K=K, C=C, gamma=gamma, features_num=features_num)"
   ]
  },
  {
   "cell_type": "code",
   "execution_count": 13,
   "metadata": {},
   "outputs": [
    {
     "name": "stdout",
     "output_type": "stream",
     "text": [
      "SVM with fixed indexes features:\n",
      "Data preparation params: K = 50, s = 0.2, r = 0.03\n",
      "SVM hyperparams: gamma=1, C=100, fixed feature number: 30\n",
      "Training set ROC area score: 0.542180529498\n",
      "Validation set ROC area score: 0.525447903113\n"
     ]
    }
   ],
   "source": [
    "perform_svm_fixed_features(stock, r=r, s=s, K=K, C=C, gamma=gamma, features_num=features_num)"
   ]
  },
  {
   "cell_type": "code",
   "execution_count": 14,
   "metadata": {},
   "outputs": [
    {
     "name": "stdout",
     "output_type": "stream",
     "text": [
      "Logistic regression with close mid-price features:\n",
      "Data preparation params: K = 50, s = 0.2, r = 0.03\n",
      "Logistic regression hyperparams: C=100, feature number: 30\n",
      "Training set ROC area score: 0.5\n",
      "Validation set ROC area score: 0.5\n"
     ]
    }
   ],
   "source": [
    "perform_logistic(stock, r=r, s=s, K=K, features_num=features_num)"
   ]
  },
  {
   "cell_type": "code",
   "execution_count": 15,
   "metadata": {},
   "outputs": [
    {
     "name": "stdout",
     "output_type": "stream",
     "text": [
      "Logistic regression with fixed indexes features:\n",
      "Data preparation params: K = 50, s = 0.2, r = 0.03\n",
      "Logistic regression hyperparams: C=100, feature number: 30\n",
      "Training set ROC area score: 0.541709401709\n",
      "Validation set ROC area score: 0.542112901611\n"
     ]
    }
   ],
   "source": [
    "perform_logistic_fixed_features(stock, r=r, s=s, K=K, features_num=features_num)"
   ]
  },
  {
   "cell_type": "markdown",
   "metadata": {},
   "source": [
    "### K = 50, r = 0.2, s = 0.4"
   ]
  },
  {
   "cell_type": "code",
   "execution_count": 16,
   "metadata": {},
   "outputs": [
    {
     "name": "stdout",
     "output_type": "stream",
     "text": [
      "SVM with close mid-price features:\n",
      "Data preparation params: K = 50, s = 0.4, r = 0.1\n",
      "SVM hyperparams: gamma=1, C=1000, feature number: 30\n",
      "Training set ROC area score: 0.547488013342\n",
      "Validation set ROC area score: 0.520278250425\n"
     ]
    }
   ],
   "source": [
    "r = 0.1\n",
    "s = 0.4\n",
    "stock = '9061'\n",
    "features_num = 30\n",
    "gamma= 1\n",
    "C = 1000\n",
    "\n",
    "perform_svm(stock, r=r, s=s, K=K, C=C, gamma=gamma, features_num=features_num)"
   ]
  },
  {
   "cell_type": "code",
   "execution_count": 17,
   "metadata": {},
   "outputs": [
    {
     "name": "stdout",
     "output_type": "stream",
     "text": [
      "SVM with fixed indexes features:\n",
      "Data preparation params: K = 50, s = 0.4, r = 0.1\n",
      "SVM hyperparams: gamma=1, C=1000, fixed feature number: 30\n",
      "Training set ROC area score: 0.544448613717\n",
      "Validation set ROC area score: 0.533795415874\n"
     ]
    }
   ],
   "source": [
    "perform_svm_fixed_features(stock, r=r, s=s, K=K, C=C, gamma=gamma, features_num=features_num)"
   ]
  },
  {
   "cell_type": "code",
   "execution_count": 18,
   "metadata": {},
   "outputs": [
    {
     "name": "stdout",
     "output_type": "stream",
     "text": [
      "Logistic regression with close mid-price features:\n",
      "Data preparation params: K = 50, s = 0.4, r = 0.1\n",
      "Logistic regression hyperparams: C=1000, feature number: 30\n",
      "Training set ROC area score: 0.538690848447\n",
      "Validation set ROC area score: 0.507681913722\n"
     ]
    }
   ],
   "source": [
    "perform_logistic(stock, r=r, s=s, K=K, features_num=features_num)"
   ]
  },
  {
   "cell_type": "code",
   "execution_count": 19,
   "metadata": {},
   "outputs": [
    {
     "name": "stdout",
     "output_type": "stream",
     "text": [
      "Logistic regression with fixed indexes features:\n",
      "Data preparation params: K = 50, s = 0.4, r = 0.1\n",
      "Logistic regression hyperparams: C=1000, feature number: 30\n",
      "Training set ROC area score: 0.534855117782\n",
      "Validation set ROC area score: 0.52741967771\n"
     ]
    }
   ],
   "source": [
    "perform_logistic_fixed_features(stock, r=r, s=s, K=K, features_num=features_num)"
   ]
  },
  {
   "cell_type": "markdown",
   "metadata": {},
   "source": [
    "### K = 30, r = 0.01, s = 0.5"
   ]
  },
  {
   "cell_type": "code",
   "execution_count": 20,
   "metadata": {},
   "outputs": [
    {
     "name": "stdout",
     "output_type": "stream",
     "text": [
      "SVM with close mid-price features:\n",
      "Data preparation params: K = 30, s = 0.5, r = 0.01\n",
      "SVM hyperparams: gamma=1, C=100, feature number: 10\n",
      "Training set ROC area score: 0.5\n",
      "Validation set ROC area score: 0.5\n"
     ]
    }
   ],
   "source": [
    "r = 0.01\n",
    "s = 0.5\n",
    "K = 30\n",
    "stock = '9061'\n",
    "features_num = 10\n",
    "gamma= 1\n",
    "C = 100\n",
    "\n",
    "perform_svm(stock, r=r, s=s, K=K, C=C, gamma=gamma, features_num=features_num)"
   ]
  },
  {
   "cell_type": "code",
   "execution_count": 21,
   "metadata": {},
   "outputs": [
    {
     "name": "stdout",
     "output_type": "stream",
     "text": [
      "SVM with fixed indexes features:\n",
      "Data preparation params: K = 30, s = 0.5, r = 0.01\n",
      "SVM hyperparams: gamma=1, C=100, fixed feature number: 10\n",
      "Training set ROC area score: 0.501726078799\n",
      "Validation set ROC area score: 0.500335301772\n"
     ]
    }
   ],
   "source": [
    "perform_svm_fixed_features(stock, r=r, s=s, K=K, C=C, gamma=gamma, features_num=features_num)"
   ]
  },
  {
   "cell_type": "code",
   "execution_count": 22,
   "metadata": {},
   "outputs": [
    {
     "name": "stdout",
     "output_type": "stream",
     "text": [
      "Logistic regression with close mid-price features:\n",
      "Data preparation params: K = 30, s = 0.5, r = 0.01\n",
      "Logistic regression hyperparams: C=100, feature number: 10\n",
      "Training set ROC area score: 0.515984990619\n",
      "Validation set ROC area score: 0.503748373536\n"
     ]
    }
   ],
   "source": [
    "perform_logistic(stock, r=r, s=s, K=K, features_num=features_num)"
   ]
  },
  {
   "cell_type": "code",
   "execution_count": 23,
   "metadata": {},
   "outputs": [
    {
     "name": "stdout",
     "output_type": "stream",
     "text": [
      "Logistic regression with fixed indexes features:\n",
      "Data preparation params: K = 30, s = 0.5, r = 0.01\n",
      "Logistic regression hyperparams: C=100, feature number: 10\n",
      "Training set ROC area score: 0.52548676256\n",
      "Validation set ROC area score: 0.540486437794\n"
     ]
    }
   ],
   "source": [
    "perform_logistic_fixed_features(stock, r=r, s=s, K=K, features_num=features_num)"
   ]
  },
  {
   "cell_type": "markdown",
   "metadata": {},
   "source": [
    "## Conclusions\n",
    "\n",
    "The main obstacle in GDF feature extraction approach is choosing the inital parameters K (number of segments), $\\sigma$ (how wide is the filter) and $r$ (scale, how tall is it) for data preparation. These parameters have to be choosen before performing any prediction. It's impossible to say if the features extracted using these parameters will lead to dataset for which we will be able to do any preditions. \n",
    "\n",
    "After choosing feature extraction parameters, we still need to choose the right parameters for classifier - f.e. in case of SVM with rbf kernel there are two parameters to pick ($C$ and $\\gamma$) along with the number of features we actually want to use.\n",
    "\n",
    "This means that in total we have at least 5 parameters. It happens that wrong choice of feature extraction parameters $K$, $\\sigma$ and $r$ easily leads to dataset on which is very hard to find proper hyperparameters for classifer.\n",
    "\n",
    "We saw that potentially the approach with fixed indexes of gdf parameters works better.\n",
    "\n",
    "### Next steps\n",
    "\n",
    "We will perform more predictions for features obtained by fixed indexes gdf feature extraction approach. We will check if feature extraction parameters choice might be simplified."
   ]
  }
 ],
 "metadata": {
  "kernelspec": {
   "display_name": "Python 3",
   "language": "python",
   "name": "python3"
  },
  "language_info": {
   "codemirror_mode": {
    "name": "ipython",
    "version": 3
   },
   "file_extension": ".py",
   "mimetype": "text/x-python",
   "name": "python",
   "nbconvert_exporter": "python",
   "pygments_lexer": "ipython3",
   "version": "3.6.1"
  }
 },
 "nbformat": 4,
 "nbformat_minor": 2
}
