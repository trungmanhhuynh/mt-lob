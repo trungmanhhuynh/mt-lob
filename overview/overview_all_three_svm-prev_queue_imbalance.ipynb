{
 "cells": [
  {
   "cell_type": "code",
   "execution_count": 1,
   "metadata": {},
   "outputs": [
    {
     "name": "stderr",
     "output_type": "stream",
     "text": [
      "/home/vevurka/.conda/envs/python36/lib/python3.6/site-packages/sklearn/utils/fixes.py:313: FutureWarning: numpy not_equal will not check object identity in the future. The comparison did not return the same result as suggested by the identity (`is`)) and will change.\n",
      "  _nan_object_mask = _nan_object_array != _nan_object_array\n"
     ]
    },
    {
     "ename": "ModuleNotFoundError",
     "evalue": "No module named 'mlxtend'",
     "output_type": "error",
     "traceback": [
      "\u001b[0;31m---------------------------------------------------------------------------\u001b[0m",
      "\u001b[0;31mModuleNotFoundError\u001b[0m                       Traceback (most recent call last)",
      "\u001b[0;32m<ipython-input-1-8625982e6295>\u001b[0m in \u001b[0;36m<module>\u001b[0;34m()\u001b[0m\n\u001b[1;32m     10\u001b[0m \u001b[0;32mfrom\u001b[0m \u001b[0msklearn\u001b[0m \u001b[0;32mimport\u001b[0m \u001b[0mmetrics\u001b[0m\u001b[0;34m\u001b[0m\u001b[0m\n\u001b[1;32m     11\u001b[0m \u001b[0;34m\u001b[0m\u001b[0m\n\u001b[0;32m---> 12\u001b[0;31m \u001b[0;32mfrom\u001b[0m \u001b[0mmlxtend\u001b[0m\u001b[0;34m.\u001b[0m\u001b[0mplotting\u001b[0m \u001b[0;32mimport\u001b[0m \u001b[0mplot_decision_regions\u001b[0m\u001b[0;34m\u001b[0m\u001b[0m\n\u001b[0m\u001b[1;32m     13\u001b[0m \u001b[0;32mfrom\u001b[0m \u001b[0msklearn\u001b[0m \u001b[0;32mimport\u001b[0m \u001b[0mpreprocessing\u001b[0m\u001b[0;34m\u001b[0m\u001b[0m\n\u001b[1;32m     14\u001b[0m \u001b[0;32mfrom\u001b[0m \u001b[0msklearn\u001b[0m\u001b[0;34m.\u001b[0m\u001b[0mlinear_model\u001b[0m \u001b[0;32mimport\u001b[0m \u001b[0mLogisticRegression\u001b[0m\u001b[0;34m\u001b[0m\u001b[0m\n",
      "\u001b[0;31mModuleNotFoundError\u001b[0m: No module named 'mlxtend'"
     ]
    }
   ],
   "source": [
    "%load_ext autoreload\n",
    "\n",
    "%autoreload 2\n",
    "%matplotlib inline\n",
    "import pandas as pd\n",
    "import matplotlib.pyplot as plt\n",
    "import seaborn as sns\n",
    "from sklearn.cluster import KMeans\n",
    "from sklearn.svm import SVC\n",
    "from sklearn import metrics\n",
    "\n",
    "from mlxtend.plotting import plot_decision_regions\n",
    "from sklearn import preprocessing\n",
    "from sklearn.linear_model import LogisticRegression\n",
    "\n",
    "\n",
    "import warnings\n",
    "import numpy as np\n",
    "from collections import OrderedDict\n",
    "\n",
    "from lob_data_utils import lob, db_result, model\n",
    "from lob_data_utils.svm_calculation import lob_svm\n",
    "\n",
    "\n",
    "sns.set_style('whitegrid')\n",
    "warnings.filterwarnings('ignore')"
   ]
  },
  {
   "cell_type": "code",
   "execution_count": null,
   "metadata": {
    "collapsed": true
   },
   "outputs": [],
   "source": [
    "data_length = 15000\n",
    "stocks = ['9064', '9061', '9265']"
   ]
  },
  {
   "cell_type": "code",
   "execution_count": null,
   "metadata": {
    "collapsed": true
   },
   "outputs": [],
   "source": [
    "d_stocks = {}\n",
    "d_cv_stocks = {}\n",
    "d_test_stocks = {}\n",
    "for s in stocks:\n",
    "    d,  d_test = lob.load_prepared_data(\n",
    "        s, data_dir='../queue_imbalance/data/prepared', cv=False, length=data_length)\n",
    "    d.index = pd.to_datetime(d['Unnamed: 0'].values)\n",
    "    d_test.index = pd.to_datetime(d_test['Unnamed: 0'].values)\n",
    "    d['prev_queue_imbalance'] = [None] + d['queue_imbalance'].iloc[0:len(d)-1].values.tolist()\n",
    "    d.dropna(inplace=True)\n",
    "    d_test['prev_queue_imbalance'] = [None] + d_test['queue_imbalance'].iloc[0:len(d_test)-1].values.tolist()\n",
    "    d_test.dropna(inplace=True)\n",
    "    d_stocks[s] = d\n",
    "    d_test_stocks[s] = d_test"
   ]
  },
  {
   "cell_type": "code",
   "execution_count": null,
   "metadata": {},
   "outputs": [],
   "source": [
    "d_stocks['9265'].head()"
   ]
  },
  {
   "cell_type": "markdown",
   "metadata": {},
   "source": [
    "## SVM with queue imbalance"
   ]
  },
  {
   "cell_type": "code",
   "execution_count": null,
   "metadata": {
    "collapsed": true
   },
   "outputs": [],
   "source": [
    "df_res = {}\n",
    "for s in stocks:\n",
    "    df_res_temp = pd.read_csv('res_{}_prev_queue_imbalance.csv'.format(s))\n",
    "    df_res_temp = df_res_temp[df_res_temp['features'] != 'queue_imbalance']\n",
    "    df_res_temp = df_res_temp[df_res_temp['method'] != 'logistic']\n",
    "    df_res_temp['stock'] = [s for i in range(len(df_res_temp))]\n",
    "    df_res[s] = df_res_temp"
   ]
  },
  {
   "cell_type": "code",
   "execution_count": null,
   "metadata": {},
   "outputs": [],
   "source": [
    "df_res['9061'].sort_values(by='matthews', ascending=False).head()"
   ]
  },
  {
   "cell_type": "code",
   "execution_count": null,
   "metadata": {},
   "outputs": [],
   "source": [
    "df_best_svm = pd.DataFrame()\n",
    "for s in stocks:\n",
    "    idx_max = df_res[s]['matthews'].idxmax()\n",
    "    df_best_svm = df_best_svm.append(df_res[s].loc[idx_max])\n",
    "df_best_svm"
   ]
  },
  {
   "cell_type": "code",
   "execution_count": null,
   "metadata": {
    "collapsed": true
   },
   "outputs": [],
   "source": [
    "def fit_best_svm_classifier(df_best_svm, df, stock=None):\n",
    "    gamma = df_best_svm[df_best_svm['stock'] == stock]['gamma'].values[0]\n",
    "    coef0 = df_best_svm[df_best_svm['stock'] == stock]['coef0'].values[0]\n",
    "    c = df_best_svm[df_best_svm['stock'] == stock]['c'].values[0]\n",
    "    kernel = df_best_svm[df_best_svm['stock'] == stock]['method'].values[0].split('_')[1]\n",
    "\n",
    "    X = df[['prev_queue_imbalance', 'queue_imbalance']]\n",
    "    y = df['mid_price_indicator']\n",
    "    \n",
    "    clf = SVC(gamma=gamma, C=c, coef0=coef0, kernel=kernel)\n",
    "    clf.fit(X, y)\n",
    "    return clf\n",
    "    "
   ]
  },
  {
   "cell_type": "code",
   "execution_count": null,
   "metadata": {},
   "outputs": [],
   "source": [
    "from sklearn.model_selection import StratifiedKFold\n",
    "from sklearn.model_selection import TimeSeriesSplit\n",
    "\n",
    "f, ax = plt.subplots(1, 3, figsize=(15,4))\n",
    "i = 0\n",
    "for stock in stocks:\n",
    "    log_clf = fit_best_svm_classifier(df_best_svm, d_stocks[stock], stock=stock)\n",
    "    lob.plot_learning_curve(\n",
    "        log_clf, d_stocks[stock][['prev_queue_imbalance', 'queue_imbalance']],\n",
    "        d_stocks[stock]['mid_price_indicator'], \n",
    "        cv=TimeSeriesSplit(n_splits=10, max_train_size=9000), ax=ax[i], scoring='f1')\n",
    "    ax[i].set_title('Learning Curve for {}'.format(stock))\n",
    "    i += 1\n",
    "plt.savefig('svm_learning_curves_prev_queue_imb.png')"
   ]
  },
  {
   "cell_type": "code",
   "execution_count": null,
   "metadata": {},
   "outputs": [],
   "source": [
    "f, (ax1, ax3) = plt.subplots(1, 2, figsize=(21,6))\n",
    "for stock in stocks:\n",
    "    log_clf = fit_best_svm_classifier(df_best_svm, d_stocks[stock], stock=stock)\n",
    "    pred_train = log_clf.predict(d_stocks[stock][['prev_queue_imbalance', 'queue_imbalance']])\n",
    "    pred_test = log_clf.predict(d_test_stocks[stock][['prev_queue_imbalance', 'queue_imbalance']])\n",
    "    d_stocks[stock]['pred_log'] = pred_train\n",
    "    d_test_stocks[stock]['pred_log'] = pred_test\n",
    "    lob.plot_f1(d_stocks[stock], log_clf, stock=stock, label='', ax=ax1,\n",
    "                 title='Precision vs Recall for 3 stocks on training data', \n",
    "                features=['prev_queue_imbalance', 'queue_imbalance'])\n",
    "    lob.plot_f1(d_test_stocks[stock], log_clf, stock=stock, label='', ax=ax3,\n",
    "                 title='Precision vs Recall for 3 stocks on testing data', \n",
    "                features=['prev_queue_imbalance', 'queue_imbalance'])\n",
    "    plt.savefig('svm_results_prev_queue_imb.png')"
   ]
  },
  {
   "cell_type": "code",
   "execution_count": null,
   "metadata": {
    "collapsed": true
   },
   "outputs": [],
   "source": [
    "def get_scores_dict_for_data(functions_to_run, dfs, log_clf, stock):\n",
    "    scores = {'stock': stock}\n",
    "    for func_name, func in functions_to_run.items():\n",
    "        for df_name, df in dfs.items():\n",
    "            pred = log_clf.predict(df[['prev_queue_imbalance', 'queue_imbalance']])\n",
    "            scores['{}_{}'.format(df_name, func_name)] = func(df['mid_price_indicator'], pred)\n",
    "    return scores\n",
    "            \n",
    "functions_to_run = {'precision': metrics.precision_score, 'roc_auc': metrics.roc_auc_score,\n",
    "                   'f1_score': metrics.f1_score, 'recall': metrics.recall_score,\n",
    "                   'matthews': metrics.matthews_corrcoef, 'kappa': metrics.cohen_kappa_score}\n",
    "scores = []\n",
    "for stock in stocks:\n",
    "    log_clf = fit_best_svm_classifier(df_best_svm, d_stocks[stock], stock=stock)\n",
    "    dfs = {'train': d_stocks[stock], 'test': d_test_stocks[stock], }\n",
    "    res_train = model.validate_model(fit_best_svm_classifier(df_best_svm, d_stocks[stock], stock=stock), \n",
    "                                     d_stocks[stock][['prev_queue_imbalance', 'queue_imbalance']], \n",
    "                                     d_stocks[stock]['mid_price_indicator'], should_validate=False)\n",
    "    res = get_scores_dict_for_data(functions_to_run, dfs, log_clf, stock)\n",
    "    res = {**res, **res_train}\n",
    "    scores.append(res)\n",
    "df_scores = pd.DataFrame(scores, index=stocks)"
   ]
  },
  {
   "cell_type": "code",
   "execution_count": null,
   "metadata": {},
   "outputs": [],
   "source": [
    "df_scores[['train_precision', 'precision', 'test_precision', 'train_recall', 'recall', 'test_recall']]"
   ]
  },
  {
   "cell_type": "code",
   "execution_count": null,
   "metadata": {},
   "outputs": [],
   "source": [
    "df_scores[['train_f1', 'f1', 'test_f1_score', 'train_roc_auc', 'roc_auc', 'test_roc_auc']]"
   ]
  },
  {
   "cell_type": "code",
   "execution_count": null,
   "metadata": {},
   "outputs": [],
   "source": [
    "f, ax = plt.subplots(1, 3, figsize=(27,6))\n",
    "for i in range(len(stocks)):\n",
    "    s = stocks[i]\n",
    "    d_stocks[s]['Predicition of Mid Price Indicator'] = d_stocks[s]['pred_log']\n",
    "    d_stocks[s]['Mid Price Indicator'] = d_stocks[s]['mid_price_indicator']\n",
    "    d_stocks[s][['Predicition of Mid Price Indicator', 'Mid Price Indicator']].plot(\n",
    "        kind='kde', ax=ax[i])\n",
    "    ax[i].set_title('Density of Mid Price Indicator and its prediction {} on training data'.format(s))\n",
    "    ax[i].legend(loc='lower right')\n",
    "plt.savefig('density_of_mid_price_and_prediction_training_data_svm_prev_queue_imb.png')"
   ]
  },
  {
   "cell_type": "code",
   "execution_count": null,
   "metadata": {},
   "outputs": [],
   "source": [
    "for s in stocks:\n",
    "   # plt.figure()\n",
    "    d_stocks[s]['queue_imbalance'].plot(kind='kde', label=s, alpha=0.5)\n",
    "   # d_stocks[s]['mid_price_indicator'].plot(kind='kde', label=s)\n",
    "    plt.legend()"
   ]
  },
  {
   "cell_type": "code",
   "execution_count": null,
   "metadata": {},
   "outputs": [],
   "source": [
    "for s in stocks:\n",
    "   # plt.figure()\n",
    "   # d_stocks[s]['queue_imbalance'].plot(kind='kde', label=s, alpha=0.5)\n",
    "    d_stocks[s]['mid_price_indicator'].plot(kind='kde', label=s, alpha=0.5)\n",
    "    plt.legend()\n",
    "s = stocks[2]\n",
    "d_stocks[s][d_stocks[s]['mid_price_indicator'] == 1].count(), d_stocks[s][d_stocks[s]['mid_price_indicator'] == 0].count()"
   ]
  },
  {
   "cell_type": "code",
   "execution_count": null,
   "metadata": {},
   "outputs": [],
   "source": [
    "def convert_scores(df, column):\n",
    "    scores = []\n",
    "    for i, row in df.iterrows():\n",
    "        scores.append(np.mean(row[column]))\n",
    "    return scores\n",
    "scores_columns = ['f1', 'kappa', 'matthews', 'precision', 'recall', 'roc_auc', 'train_f1', 'train_kappa',\n",
    "       'train_matthews', 'train_precision', 'train_recall', 'train_roc_auc']\n",
    "\n",
    "for col in scores_columns:\n",
    "    df_scores[col] = convert_scores(df_scores, col)\n",
    "df_scores"
   ]
  },
  {
   "cell_type": "code",
   "execution_count": null,
   "metadata": {},
   "outputs": [],
   "source": [
    "df_best_svm"
   ]
  },
  {
   "cell_type": "code",
   "execution_count": null,
   "metadata": {},
   "outputs": [],
   "source": [
    "f, ax = plt.subplots(3, 1, figsize=(16, 16), sharex=True)\n",
    "i = 0\n",
    "\n",
    "for i in range(len(stocks)):\n",
    "    s = stocks[i]\n",
    "    df = d_stocks[s]\n",
    "    X = d_stocks[s][['prev_queue_imbalance', 'queue_imbalance']].values\n",
    "    y = d_stocks[s]['mid_price_indicator'].values.astype(np.integer)\n",
    "\n",
    "    clf = fit_best_svm_classifier(df_best_svm, d_stocks[s], stock=s)\n",
    "    # plot_decision_regions(X[0:1500], y[0:1500], clf=clf,ax=ax[i], colors=','.join(['orange', 'blue']))\n",
    "    ax[i].set_xlabel('Previous Queue Imbalance')\n",
    "    ax[i].set_xlabel('Queue Imbalance')\n",
    "    ax[i].set_title('SVM Decision Regions for {} on training data'.format(s))\n",
    "    ax[i].set_xlim(-1.01, 1.01)\n",
    "\n",
    "\n",
    "# plt.savefig('svm_decision_region_prev_queue_imb.png')"
   ]
  }
 ],
 "metadata": {
  "kernelspec": {
   "display_name": "Python 3",
   "language": "python",
   "name": "python3"
  },
  "language_info": {
   "codemirror_mode": {
    "name": "ipython",
    "version": 3
   },
   "file_extension": ".py",
   "mimetype": "text/x-python",
   "name": "python",
   "nbconvert_exporter": "python",
   "pygments_lexer": "ipython3",
   "version": "3.6.1"
  }
 },
 "nbformat": 4,
 "nbformat_minor": 2
}
