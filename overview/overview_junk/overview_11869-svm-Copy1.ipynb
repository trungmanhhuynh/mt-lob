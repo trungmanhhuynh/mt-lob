{
 "cells": [
  {
   "cell_type": "code",
   "execution_count": 1,
   "metadata": {
    "collapsed": true
   },
   "outputs": [],
   "source": [
    "%load_ext autoreload\n",
    "\n",
    "%autoreload 2\n",
    "%matplotlib inline\n",
    "import pandas as pd\n",
    "import matplotlib.pyplot as plt\n",
    "import seaborn as sns\n",
    "from sklearn.cluster import KMeans\n",
    "from sklearn.svm import SVC\n",
    "from sklearn.metrics import roc_auc_score, roc_curve\n",
    "\n",
    "from mlxtend.plotting import plot_decision_regions\n",
    "\n",
    "from sklearn import preprocessing\n",
    "from sklearn.linear_model import LogisticRegression\n",
    "\n",
    "import warnings\n",
    "import numpy as np\n",
    "from collections import OrderedDict\n",
    "\n",
    "from lob_data_utils import lob, db_result, overview\n",
    "from lob_data_utils.svm_calculation import lob_svm\n",
    "\n",
    "sns.set_style('whitegrid')\n",
    "warnings.filterwarnings('ignore')"
   ]
  },
  {
   "cell_type": "code",
   "execution_count": 2,
   "metadata": {
    "collapsed": true
   },
   "outputs": [],
   "source": [
    "data_length = 10000\n",
    "stock = '11869'"
   ]
  },
  {
   "cell_type": "code",
   "execution_count": 3,
   "metadata": {
    "collapsed": true
   },
   "outputs": [],
   "source": [
    "df, df_cv, df_test = lob.load_prepared_data(\n",
    "    stock, data_dir='../queue_imbalance/data/prepared', cv=True, length=data_length)"
   ]
  },
  {
   "cell_type": "code",
   "execution_count": 4,
   "metadata": {},
   "outputs": [
    {
     "data": {
      "text/html": [
       "<div>\n",
       "<style scoped>\n",
       "    .dataframe tbody tr th:only-of-type {\n",
       "        vertical-align: middle;\n",
       "    }\n",
       "\n",
       "    .dataframe tbody tr th {\n",
       "        vertical-align: top;\n",
       "    }\n",
       "\n",
       "    .dataframe thead th {\n",
       "        text-align: right;\n",
       "    }\n",
       "</style>\n",
       "<table border=\"1\" class=\"dataframe\">\n",
       "  <thead>\n",
       "    <tr style=\"text-align: right;\">\n",
       "      <th></th>\n",
       "      <th>Unnamed: 0</th>\n",
       "      <th>bid</th>\n",
       "      <th>ask</th>\n",
       "      <th>bid_price</th>\n",
       "      <th>ask_price</th>\n",
       "      <th>mid_price</th>\n",
       "      <th>sum_sell_ask</th>\n",
       "      <th>sum_buy_bid</th>\n",
       "      <th>mid_price_indicator</th>\n",
       "      <th>queue_imbalance</th>\n",
       "    </tr>\n",
       "  </thead>\n",
       "  <tbody>\n",
       "    <tr>\n",
       "      <th>2000</th>\n",
       "      <td>2013-09-16 11:39:00</td>\n",
       "      <td>[(2420.0, 1000.0), (2430.0, 500.0), (2500.0, 3...</td>\n",
       "      <td>[(2663.0, 202.0), (2664.0, 652.0), (2665.0, 15...</td>\n",
       "      <td>2661.0</td>\n",
       "      <td>2663.0</td>\n",
       "      <td>2662.0</td>\n",
       "      <td>202.0</td>\n",
       "      <td>271.0</td>\n",
       "      <td>1.0</td>\n",
       "      <td>0.145877</td>\n",
       "    </tr>\n",
       "    <tr>\n",
       "      <th>2001</th>\n",
       "      <td>2013-09-16 11:42:00</td>\n",
       "      <td>[(2420.0, 1000.0), (2430.0, 500.0), (2500.0, 3...</td>\n",
       "      <td>[(2664.0, 97.0), (2665.0, 894.0), (2666.0, 142...</td>\n",
       "      <td>2663.0</td>\n",
       "      <td>2664.0</td>\n",
       "      <td>2663.5</td>\n",
       "      <td>97.0</td>\n",
       "      <td>121.0</td>\n",
       "      <td>0.0</td>\n",
       "      <td>0.110092</td>\n",
       "    </tr>\n",
       "    <tr>\n",
       "      <th>2002</th>\n",
       "      <td>2013-09-16 11:43:00</td>\n",
       "      <td>[(2420.0, 1000.0), (2430.0, 500.0), (2500.0, 3...</td>\n",
       "      <td>[(2662.0, 100.0), (2663.0, 428.0), (2664.0, 83...</td>\n",
       "      <td>2661.0</td>\n",
       "      <td>2662.0</td>\n",
       "      <td>2661.5</td>\n",
       "      <td>100.0</td>\n",
       "      <td>174.0</td>\n",
       "      <td>1.0</td>\n",
       "      <td>0.270073</td>\n",
       "    </tr>\n",
       "    <tr>\n",
       "      <th>2003</th>\n",
       "      <td>2013-09-16 11:44:00</td>\n",
       "      <td>[(2420.0, 1000.0), (2430.0, 500.0), (2500.0, 3...</td>\n",
       "      <td>[(2663.0, 338.0), (2664.0, 647.0), (2665.0, 17...</td>\n",
       "      <td>2661.0</td>\n",
       "      <td>2663.0</td>\n",
       "      <td>2662.0</td>\n",
       "      <td>338.0</td>\n",
       "      <td>222.0</td>\n",
       "      <td>1.0</td>\n",
       "      <td>-0.207143</td>\n",
       "    </tr>\n",
       "    <tr>\n",
       "      <th>2004</th>\n",
       "      <td>2013-09-16 11:45:00</td>\n",
       "      <td>[(2420.0, 1000.0), (2430.0, 500.0), (2500.0, 3...</td>\n",
       "      <td>[(2664.0, 442.0), (2665.0, 1161.0), (2666.0, 1...</td>\n",
       "      <td>2661.0</td>\n",
       "      <td>2664.0</td>\n",
       "      <td>2662.5</td>\n",
       "      <td>442.0</td>\n",
       "      <td>420.0</td>\n",
       "      <td>1.0</td>\n",
       "      <td>-0.025522</td>\n",
       "    </tr>\n",
       "  </tbody>\n",
       "</table>\n",
       "</div>"
      ],
      "text/plain": [
       "               Unnamed: 0                                                bid  \\\n",
       "2000  2013-09-16 11:39:00  [(2420.0, 1000.0), (2430.0, 500.0), (2500.0, 3...   \n",
       "2001  2013-09-16 11:42:00  [(2420.0, 1000.0), (2430.0, 500.0), (2500.0, 3...   \n",
       "2002  2013-09-16 11:43:00  [(2420.0, 1000.0), (2430.0, 500.0), (2500.0, 3...   \n",
       "2003  2013-09-16 11:44:00  [(2420.0, 1000.0), (2430.0, 500.0), (2500.0, 3...   \n",
       "2004  2013-09-16 11:45:00  [(2420.0, 1000.0), (2430.0, 500.0), (2500.0, 3...   \n",
       "\n",
       "                                                    ask  bid_price  ask_price  \\\n",
       "2000  [(2663.0, 202.0), (2664.0, 652.0), (2665.0, 15...     2661.0     2663.0   \n",
       "2001  [(2664.0, 97.0), (2665.0, 894.0), (2666.0, 142...     2663.0     2664.0   \n",
       "2002  [(2662.0, 100.0), (2663.0, 428.0), (2664.0, 83...     2661.0     2662.0   \n",
       "2003  [(2663.0, 338.0), (2664.0, 647.0), (2665.0, 17...     2661.0     2663.0   \n",
       "2004  [(2664.0, 442.0), (2665.0, 1161.0), (2666.0, 1...     2661.0     2664.0   \n",
       "\n",
       "      mid_price  sum_sell_ask  sum_buy_bid  mid_price_indicator  \\\n",
       "2000     2662.0         202.0        271.0                  1.0   \n",
       "2001     2663.5          97.0        121.0                  0.0   \n",
       "2002     2661.5         100.0        174.0                  1.0   \n",
       "2003     2662.0         338.0        222.0                  1.0   \n",
       "2004     2662.5         442.0        420.0                  1.0   \n",
       "\n",
       "      queue_imbalance  \n",
       "2000         0.145877  \n",
       "2001         0.110092  \n",
       "2002         0.270073  \n",
       "2003        -0.207143  \n",
       "2004        -0.025522  "
      ]
     },
     "execution_count": 4,
     "metadata": {},
     "output_type": "execute_result"
    }
   ],
   "source": [
    "df.head()"
   ]
  },
  {
   "cell_type": "markdown",
   "metadata": {},
   "source": [
    "## Logistic"
   ]
  },
  {
   "cell_type": "code",
   "execution_count": 5,
   "metadata": {},
   "outputs": [
    {
     "data": {
      "text/plain": [
       "0.5726846518177163"
      ]
     },
     "execution_count": 5,
     "metadata": {},
     "output_type": "execute_result"
    },
    {
     "data": {
      "image/png": "[encoded data removed]",
      "text/plain": [
       "<Figure size 432x288 with 1 Axes>"
      ]
     },
     "metadata": {},
     "output_type": "display_data"
    }
   ],
   "source": [
    "def logistic_regression(df, start_idx, end_idx):\n",
    "    from sklearn.linear_model import LogisticRegressionCV\n",
    "    clf = LogisticRegressionCV(fit_intercept=True, solver='sag')\n",
    "    X = df['queue_imbalance'][start_idx:end_idx].values.reshape(-1, 1)\n",
    "    y = df['mid_price_avg_indicator_10'][start_idx:end_idx].values.ravel()\n",
    "    clf.fit(X, y)\n",
    "    return clf\n",
    "\n",
    "log_clf = lob.logistic_regression(df, 0, len(df))\n",
    "pred_train = log_clf.predict(df['queue_imbalance'].values.reshape(-1, 1))\n",
    "pred_test = log_clf.predict(df_test['queue_imbalance'].values.reshape(-1, 1))\n",
    "df['pred_log'] = pred_train\n",
    "df_test['pred_log'] = pred_test\n",
    "lob.plot_roc(df, log_clf, stock=int(stock), label='train')\n",
    "lob.plot_roc(df_test, log_clf, stock=int(stock), label='test')"
   ]
  },
  {
   "cell_type": "code",
   "execution_count": 6,
   "metadata": {},
   "outputs": [
    {
     "data": {
      "image/png": "[encoded data removed]",
      "text/plain": [
       "<Figure size 432x288 with 1 Axes>"
      ]
     },
     "metadata": {},
     "output_type": "display_data"
    }
   ],
   "source": [
    "lob.plot_learning_curve(log_clf, df['queue_imbalance'].values.reshape(-1, 1), df['mid_price_indicator'])"
   ]
  },
  {
   "cell_type": "markdown",
   "metadata": {},
   "source": [
    "### Let's look inside"
   ]
  },
  {
   "cell_type": "code",
   "execution_count": 7,
   "metadata": {},
   "outputs": [
    {
     "data": {
      "text/plain": [
       "<matplotlib.axes._subplots.AxesSubplot at 0x7feb9d5a0be0>"
      ]
     },
     "execution_count": 7,
     "metadata": {},
     "output_type": "execute_result"
    },
    {
     "data": {
      "image/png": "[encoded data removed]",
      "text/plain": [
       "<Figure size 432x288 with 1 Axes>"
      ]
     },
     "metadata": {},
     "output_type": "display_data"
    }
   ],
   "source": [
    "df_test[df_test['pred_log'] != df_test['mid_price_indicator']][['pred_log', 'mid_price_indicator']].plot(kind='kde')"
   ]
  },
  {
   "cell_type": "code",
   "execution_count": 8,
   "metadata": {},
   "outputs": [
    {
     "name": "stdout",
     "output_type": "stream",
     "text": [
      "855 2000\n"
     ]
    },
    {
     "data": {
      "text/html": [
       "<div>\n",
       "<style scoped>\n",
       "    .dataframe tbody tr th:only-of-type {\n",
       "        vertical-align: middle;\n",
       "    }\n",
       "\n",
       "    .dataframe tbody tr th {\n",
       "        vertical-align: top;\n",
       "    }\n",
       "\n",
       "    .dataframe thead th {\n",
       "        text-align: right;\n",
       "    }\n",
       "</style>\n",
       "<table border=\"1\" class=\"dataframe\">\n",
       "  <thead>\n",
       "    <tr style=\"text-align: right;\">\n",
       "      <th></th>\n",
       "      <th>pred_log</th>\n",
       "      <th>mid_price_indicator</th>\n",
       "      <th>queue_imbalance</th>\n",
       "    </tr>\n",
       "  </thead>\n",
       "  <tbody>\n",
       "    <tr>\n",
       "      <th>3</th>\n",
       "      <td>0.0</td>\n",
       "      <td>1.0</td>\n",
       "      <td>-0.201413</td>\n",
       "    </tr>\n",
       "    <tr>\n",
       "      <th>5</th>\n",
       "      <td>1.0</td>\n",
       "      <td>0.0</td>\n",
       "      <td>0.039879</td>\n",
       "    </tr>\n",
       "    <tr>\n",
       "      <th>10</th>\n",
       "      <td>1.0</td>\n",
       "      <td>0.0</td>\n",
       "      <td>0.681627</td>\n",
       "    </tr>\n",
       "    <tr>\n",
       "      <th>15</th>\n",
       "      <td>1.0</td>\n",
       "      <td>0.0</td>\n",
       "      <td>0.360843</td>\n",
       "    </tr>\n",
       "    <tr>\n",
       "      <th>16</th>\n",
       "      <td>1.0</td>\n",
       "      <td>0.0</td>\n",
       "      <td>0.664000</td>\n",
       "    </tr>\n",
       "  </tbody>\n",
       "</table>\n",
       "</div>"
      ],
      "text/plain": [
       "    pred_log  mid_price_indicator  queue_imbalance\n",
       "3        0.0                  1.0        -0.201413\n",
       "5        1.0                  0.0         0.039879\n",
       "10       1.0                  0.0         0.681627\n",
       "15       1.0                  0.0         0.360843\n",
       "16       1.0                  0.0         0.664000"
      ]
     },
     "execution_count": 8,
     "metadata": {},
     "output_type": "execute_result"
    }
   ],
   "source": [
    "print(len(df_test[df_test['pred_log'] != df_test['mid_price_indicator']]), len(df_test))\n",
    "df_test[df_test['pred_log'] != df_test['mid_price_indicator']][['pred_log', 'mid_price_indicator', 'queue_imbalance']].head()"
   ]
  },
  {
   "cell_type": "code",
   "execution_count": 9,
   "metadata": {},
   "outputs": [
    {
     "data": {
      "text/plain": [
       "-0.037809647979139514"
      ]
     },
     "execution_count": 9,
     "metadata": {},
     "output_type": "execute_result"
    }
   ],
   "source": [
    "pivot = min(df[df['pred_log'] == 1]['queue_imbalance'])\n",
    "pivot"
   ]
  },
  {
   "cell_type": "code",
   "execution_count": 10,
   "metadata": {},
   "outputs": [
    {
     "name": "stdout",
     "output_type": "stream",
     "text": [
      "Amount of positive samples below the pivot and negative above the pivot for training data:\n",
      "0 0\n",
      "Amount of positive samples below the pivot and negative above the pivot for testing data:\n",
      "0 0\n"
     ]
    }
   ],
   "source": [
    "print('Amount of positive samples below the pivot and negative above the pivot for training data:')\n",
    "print(len(df[df['queue_imbalance'] < pivot][df['pred_log'] == 1]), \n",
    "      len(df[df['queue_imbalance'] >= pivot][df['pred_log'] == 0]))\n",
    "\n",
    "print('Amount of positive samples below the pivot and negative above the pivot for testing data:')\n",
    "print(len(df_test[df_test['queue_imbalance'] < pivot][df_test['pred_log'] == 1]), \n",
    "      len(df_test[df_test['queue_imbalance'] >= pivot][df_test['pred_log'] == 0]))"
   ]
  },
  {
   "cell_type": "markdown",
   "metadata": {},
   "source": [
    "So this classifier just finds a pivot. But why this particular one is choosen? Let's check what amount of data is below and above the pivot."
   ]
  },
  {
   "cell_type": "code",
   "execution_count": 11,
   "metadata": {},
   "outputs": [
    {
     "data": {
      "text/plain": [
       "(2774, 3226)"
      ]
     },
     "execution_count": 11,
     "metadata": {},
     "output_type": "execute_result"
    }
   ],
   "source": [
    "len(df[df['queue_imbalance'] < pivot]), len(df[df['queue_imbalance'] >= pivot])"
   ]
  },
  {
   "cell_type": "code",
   "execution_count": 12,
   "metadata": {},
   "outputs": [
    {
     "data": {
      "text/plain": [
       "<matplotlib.axes._subplots.AxesSubplot at 0x7feb9d4a6cc0>"
      ]
     },
     "execution_count": 12,
     "metadata": {},
     "output_type": "execute_result"
    },
    {
     "data": {
      "image/png": "[encoded data removed]",
      "text/plain": [
       "<Figure size 432x288 with 1 Axes>"
      ]
     },
     "metadata": {},
     "output_type": "display_data"
    }
   ],
   "source": [
    "df[df['queue_imbalance'] < pivot]['queue_imbalance'].plot(kind='kde')\n",
    "df[df['queue_imbalance'] >= pivot]['queue_imbalance'].plot(kind='kde')\n",
    "df['queue_imbalance'].plot(kind='kde')"
   ]
  },
  {
   "cell_type": "markdown",
   "metadata": {},
   "source": [
    "## SVM"
   ]
  },
  {
   "cell_type": "code",
   "execution_count": 13,
   "metadata": {},
   "outputs": [
    {
     "name": "stdout",
     "output_type": "stream",
     "text": [
      "Results read from file\n"
     ]
    },
    {
     "data": {
      "text/html": [
       "<div>\n",
       "<style scoped>\n",
       "    .dataframe tbody tr th:only-of-type {\n",
       "        vertical-align: middle;\n",
       "    }\n",
       "\n",
       "    .dataframe tbody tr th {\n",
       "        vertical-align: top;\n",
       "    }\n",
       "\n",
       "    .dataframe thead th {\n",
       "        text-align: right;\n",
       "    }\n",
       "</style>\n",
       "<table border=\"1\" class=\"dataframe\">\n",
       "  <thead>\n",
       "    <tr style=\"text-align: right;\">\n",
       "      <th></th>\n",
       "      <th>svm</th>\n",
       "      <th>c</th>\n",
       "      <th>gamma</th>\n",
       "      <th>coef0</th>\n",
       "      <th>roc_cv_score</th>\n",
       "      <th>roc_train_score</th>\n",
       "    </tr>\n",
       "  </thead>\n",
       "  <tbody>\n",
       "    <tr>\n",
       "      <th>447</th>\n",
       "      <td>sigmoid</td>\n",
       "      <td>5.0</td>\n",
       "      <td>5000.0</td>\n",
       "      <td>0.0050</td>\n",
       "      <td>0.487149</td>\n",
       "      <td>0.462868</td>\n",
       "    </tr>\n",
       "    <tr>\n",
       "      <th>446</th>\n",
       "      <td>sigmoid</td>\n",
       "      <td>5.0</td>\n",
       "      <td>5000.0</td>\n",
       "      <td>0.0005</td>\n",
       "      <td>0.487149</td>\n",
       "      <td>0.463717</td>\n",
       "    </tr>\n",
       "    <tr>\n",
       "      <th>445</th>\n",
       "      <td>sigmoid</td>\n",
       "      <td>5.0</td>\n",
       "      <td>5000.0</td>\n",
       "      <td>0.0000</td>\n",
       "      <td>0.487631</td>\n",
       "      <td>0.463553</td>\n",
       "    </tr>\n",
       "    <tr>\n",
       "      <th>444</th>\n",
       "      <td>sigmoid</td>\n",
       "      <td>1.0</td>\n",
       "      <td>5000.0</td>\n",
       "      <td>1.0000</td>\n",
       "      <td>0.490782</td>\n",
       "      <td>0.459714</td>\n",
       "    </tr>\n",
       "    <tr>\n",
       "      <th>443</th>\n",
       "      <td>sigmoid</td>\n",
       "      <td>50.0</td>\n",
       "      <td>50.0</td>\n",
       "      <td>50.0000</td>\n",
       "      <td>0.495439</td>\n",
       "      <td>0.498900</td>\n",
       "    </tr>\n",
       "  </tbody>\n",
       "</table>\n",
       "</div>"
      ],
      "text/plain": [
       "         svm     c   gamma    coef0  roc_cv_score  roc_train_score\n",
       "447  sigmoid   5.0  5000.0   0.0050      0.487149         0.462868\n",
       "446  sigmoid   5.0  5000.0   0.0005      0.487149         0.463717\n",
       "445  sigmoid   5.0  5000.0   0.0000      0.487631         0.463553\n",
       "444  sigmoid   1.0  5000.0   1.0000      0.490782         0.459714\n",
       "443  sigmoid  50.0    50.0  50.0000      0.495439         0.498900"
      ]
     },
     "execution_count": 13,
     "metadata": {},
     "output_type": "execute_result"
    }
   ],
   "source": [
    "overview_data = overview.Overview(stock, data_length)\n",
    "\n",
    "gammas = [0.0005, 0.005, 1, 5, 50, 500, 5000]\n",
    "cs = [0.0005, 0.005, 1, 5.0, 50, 500, 1000]\n",
    "coef0s = [0, 0.0005, 0.005, 1, 5, 50, 500, 5000]\n",
    "\n",
    "df_svm_res = overview_data.write_svm_results(df, df_cv, gammas=gammas, cs=cs, coef0s=coef0s)\n",
    "unnamed_columns = [c for c in df_svm_res.columns if 'Unnamed' in c]\n",
    "df_svm_res.drop(columns=unnamed_columns, inplace=True)\n",
    "df_svm_res.sort_values(by='roc_cv_score').head()"
   ]
  },
  {
   "cell_type": "code",
   "execution_count": 14,
   "metadata": {},
   "outputs": [
    {
     "data": {
      "text/html": [
       "<div>\n",
       "<style scoped>\n",
       "    .dataframe tbody tr th:only-of-type {\n",
       "        vertical-align: middle;\n",
       "    }\n",
       "\n",
       "    .dataframe tbody tr th {\n",
       "        vertical-align: top;\n",
       "    }\n",
       "\n",
       "    .dataframe thead th {\n",
       "        text-align: right;\n",
       "    }\n",
       "</style>\n",
       "<table border=\"1\" class=\"dataframe\">\n",
       "  <thead>\n",
       "    <tr style=\"text-align: right;\">\n",
       "      <th></th>\n",
       "      <th>svm</th>\n",
       "      <th>c</th>\n",
       "      <th>gamma</th>\n",
       "      <th>coef0</th>\n",
       "      <th>roc_cv_score</th>\n",
       "      <th>roc_train_score</th>\n",
       "    </tr>\n",
       "  </thead>\n",
       "  <tbody>\n",
       "    <tr>\n",
       "      <th>0</th>\n",
       "      <td>sigmoid</td>\n",
       "      <td>0.005</td>\n",
       "      <td>500.000</td>\n",
       "      <td>5.0</td>\n",
       "      <td>0.565739</td>\n",
       "      <td>0.578554</td>\n",
       "    </tr>\n",
       "    <tr>\n",
       "      <th>1</th>\n",
       "      <td>rbf</td>\n",
       "      <td>0.005</td>\n",
       "      <td>50.000</td>\n",
       "      <td>NaN</td>\n",
       "      <td>0.565326</td>\n",
       "      <td>0.569674</td>\n",
       "    </tr>\n",
       "    <tr>\n",
       "      <th>2</th>\n",
       "      <td>sigmoid</td>\n",
       "      <td>0.005</td>\n",
       "      <td>5000.000</td>\n",
       "      <td>50.0</td>\n",
       "      <td>0.565183</td>\n",
       "      <td>0.580281</td>\n",
       "    </tr>\n",
       "    <tr>\n",
       "      <th>3</th>\n",
       "      <td>rbf</td>\n",
       "      <td>5.000</td>\n",
       "      <td>50.000</td>\n",
       "      <td>NaN</td>\n",
       "      <td>0.564847</td>\n",
       "      <td>0.581670</td>\n",
       "    </tr>\n",
       "    <tr>\n",
       "      <th>4</th>\n",
       "      <td>sigmoid</td>\n",
       "      <td>500.000</td>\n",
       "      <td>0.005</td>\n",
       "      <td>1.0</td>\n",
       "      <td>0.564812</td>\n",
       "      <td>0.578852</td>\n",
       "    </tr>\n",
       "  </tbody>\n",
       "</table>\n",
       "</div>"
      ],
      "text/plain": [
       "       svm        c     gamma  coef0  roc_cv_score  roc_train_score\n",
       "0  sigmoid    0.005   500.000    5.0      0.565739         0.578554\n",
       "1      rbf    0.005    50.000    NaN      0.565326         0.569674\n",
       "2  sigmoid    0.005  5000.000   50.0      0.565183         0.580281\n",
       "3      rbf    5.000    50.000    NaN      0.564847         0.581670\n",
       "4  sigmoid  500.000     0.005    1.0      0.564812         0.578852"
      ]
     },
     "execution_count": 14,
     "metadata": {},
     "output_type": "execute_result"
    }
   ],
   "source": [
    "df_svm_res.head()"
   ]
  },
  {
   "cell_type": "code",
   "execution_count": 15,
   "metadata": {},
   "outputs": [
    {
     "data": {
      "text/html": [
       "<div>\n",
       "<style scoped>\n",
       "    .dataframe tbody tr th:only-of-type {\n",
       "        vertical-align: middle;\n",
       "    }\n",
       "\n",
       "    .dataframe tbody tr th {\n",
       "        vertical-align: top;\n",
       "    }\n",
       "\n",
       "    .dataframe thead th {\n",
       "        text-align: right;\n",
       "    }\n",
       "</style>\n",
       "<table border=\"1\" class=\"dataframe\">\n",
       "  <thead>\n",
       "    <tr style=\"text-align: right;\">\n",
       "      <th></th>\n",
       "      <th>svm</th>\n",
       "      <th>c</th>\n",
       "      <th>gamma</th>\n",
       "      <th>coef0</th>\n",
       "      <th>roc_cv_score</th>\n",
       "      <th>roc_train_score</th>\n",
       "    </tr>\n",
       "  </thead>\n",
       "  <tbody>\n",
       "    <tr>\n",
       "      <th>0</th>\n",
       "      <td>sigmoid</td>\n",
       "      <td>0.005</td>\n",
       "      <td>500.000</td>\n",
       "      <td>5.0</td>\n",
       "      <td>0.565739</td>\n",
       "      <td>0.578554</td>\n",
       "    </tr>\n",
       "    <tr>\n",
       "      <th>1</th>\n",
       "      <td>rbf</td>\n",
       "      <td>0.005</td>\n",
       "      <td>50.000</td>\n",
       "      <td>NaN</td>\n",
       "      <td>0.565326</td>\n",
       "      <td>0.569674</td>\n",
       "    </tr>\n",
       "    <tr>\n",
       "      <th>2</th>\n",
       "      <td>sigmoid</td>\n",
       "      <td>0.005</td>\n",
       "      <td>5000.000</td>\n",
       "      <td>50.0</td>\n",
       "      <td>0.565183</td>\n",
       "      <td>0.580281</td>\n",
       "    </tr>\n",
       "    <tr>\n",
       "      <th>3</th>\n",
       "      <td>rbf</td>\n",
       "      <td>5.000</td>\n",
       "      <td>50.000</td>\n",
       "      <td>NaN</td>\n",
       "      <td>0.564847</td>\n",
       "      <td>0.581670</td>\n",
       "    </tr>\n",
       "    <tr>\n",
       "      <th>4</th>\n",
       "      <td>sigmoid</td>\n",
       "      <td>500.000</td>\n",
       "      <td>0.005</td>\n",
       "      <td>1.0</td>\n",
       "      <td>0.564812</td>\n",
       "      <td>0.578852</td>\n",
       "    </tr>\n",
       "  </tbody>\n",
       "</table>\n",
       "</div>"
      ],
      "text/plain": [
       "       svm        c     gamma  coef0  roc_cv_score  roc_train_score\n",
       "0  sigmoid    0.005   500.000    5.0      0.565739         0.578554\n",
       "1      rbf    0.005    50.000    NaN      0.565326         0.569674\n",
       "2  sigmoid    0.005  5000.000   50.0      0.565183         0.580281\n",
       "3      rbf    5.000    50.000    NaN      0.564847         0.581670\n",
       "4  sigmoid  500.000     0.005    1.0      0.564812         0.578852"
      ]
     },
     "execution_count": 15,
     "metadata": {},
     "output_type": "execute_result"
    }
   ],
   "source": [
    "df_svm_res.sort_values(by='roc_cv_score', ascending=False).head()"
   ]
  },
  {
   "cell_type": "code",
   "execution_count": 16,
   "metadata": {},
   "outputs": [
    {
     "data": {
      "text/plain": [
       "(0.006711409395973154, 0.005952380952380952, 0.5786666666666667)"
      ]
     },
     "execution_count": 16,
     "metadata": {},
     "output_type": "execute_result"
    },
    {
     "data": {
      "image/png": "[encoded data removed]",
      "text/plain": [
       "<Figure size 432x288 with 1 Axes>"
      ]
     },
     "metadata": {},
     "output_type": "display_data"
    }
   ],
   "source": [
    "X = df[['queue_imbalance']].values\n",
    "y = df['mid_price_indicator'].values.astype(np.integer)\n",
    "\n",
    "clf = SVC(kernel='sigmoid', C=0.005, gamma=500, coef0=5.0)\n",
    "clf.fit(df[['queue_imbalance']], df['mid_price_indicator'])\n",
    "df['pred'] = clf.predict(df[['queue_imbalance']])\n",
    "plot_decision_regions(X, y, clf=clf, legend='data', hide_spines=True, markers='.',\n",
    "                     colors=','.join(['yellow', 'grey']))\n",
    "plt.xlabel('')\n",
    "plt.title('')\n",
    "min(df[df['pred'] == 1]['queue_imbalance']), max(df[df['pred'] == 0]['queue_imbalance']), clf.score(X, y)"
   ]
  },
  {
   "cell_type": "code",
   "execution_count": 17,
   "metadata": {},
   "outputs": [
    {
     "data": {
      "text/plain": [
       "(-0.997936016511868, -0.18875502008032127, 0.5723333333333334)"
      ]
     },
     "execution_count": 17,
     "metadata": {},
     "output_type": "execute_result"
    },
    {
     "data": {
      "image/png": "[encoded data removed]",
      "text/plain": [
       "<Figure size 432x288 with 1 Axes>"
      ]
     },
     "metadata": {},
     "output_type": "display_data"
    }
   ],
   "source": [
    "X = df[['queue_imbalance']].values\n",
    "y = df['mid_price_indicator'].values.astype(np.integer)\n",
    "\n",
    "clf = SVC(kernel='rbf', C=0.005, gamma=50)\n",
    "clf.fit(df[['queue_imbalance']], df['mid_price_indicator'])\n",
    "df['pred'] = clf.predict(df[['queue_imbalance']])\n",
    "plot_decision_regions(X, y, clf=clf, legend='data', hide_spines=True, markers='.',\n",
    "                     colors=','.join(['yellow', 'grey']))\n",
    "plt.xlabel('')\n",
    "plt.title('')\n",
    "min(df[df['pred'] == 1]['queue_imbalance']), max(df[df['pred'] == 0]['queue_imbalance']), clf.score(X, y)"
   ]
  },
  {
   "cell_type": "code",
   "execution_count": 18,
   "metadata": {},
   "outputs": [
    {
     "data": {
      "text/plain": [
       "(-0.05987261146496815, -0.060523938572719066, 0.582)"
      ]
     },
     "execution_count": 18,
     "metadata": {},
     "output_type": "execute_result"
    },
    {
     "data": {
      "image/png": "[encoded data removed]",
      "text/plain": [
       "<Figure size 432x288 with 1 Axes>"
      ]
     },
     "metadata": {},
     "output_type": "display_data"
    }
   ],
   "source": [
    "X = np.vstack([df['queue_imbalance'].values, np.power(df['queue_imbalance'], 2)]).T\n",
    "y = df['mid_price_indicator'].values.astype(np.integer)\n",
    "\n",
    "clf = SVC(kernel='rbf', C=1, gamma=1)\n",
    "clf.fit(X, y)\n",
    "df['pred'] = clf.predict(X)\n",
    "plot_decision_regions(X, y, clf=clf, legend='data', hide_spines=True, markers='.',\n",
    "                     colors=','.join(['yellow', 'grey']))\n",
    "plt.xlabel('')\n",
    "plt.title('')\n",
    "min(df[df['pred'] == 1]['queue_imbalance']), max(df[df['pred'] == 0]['queue_imbalance']), clf.score(X, y)"
   ]
  },
  {
   "cell_type": "code",
   "execution_count": 19,
   "metadata": {},
   "outputs": [
    {
     "data": {
      "text/plain": [
       "SVC(C=1.0, cache_size=200, class_weight=None, coef0=0.0,\n",
       "  decision_function_shape='ovr', degree=3, gamma='auto_deprecated',\n",
       "  kernel='linear', max_iter=-1, probability=False, random_state=None,\n",
       "  shrinking=True, tol=0.001, verbose=False)"
      ]
     },
     "execution_count": 19,
     "metadata": {},
     "output_type": "execute_result"
    }
   ],
   "source": [
    "clf1 = SVC(kernel='rbf')\n",
    "clf2 = SVC(kernel='sigmoid')\n",
    "clf3 = SVC(kernel='rbf', probability=True)\n",
    "eclf = SVC(kernel='linear')\n",
    "                    \n",
    "\n",
    "clf1.fit(X, y)\n",
    "clf2.fit(X, y)\n",
    "clf3.fit(X, y)\n",
    "eclf.fit(X, y)"
   ]
  },
  {
   "cell_type": "code",
   "execution_count": 20,
   "metadata": {},
   "outputs": [
    {
     "data": {
      "text/html": [
       "<script>requirejs.config({paths: { 'plotly': ['https://cdn.plot.ly/plotly-latest.min']},});if(!window.Plotly) {{require(['plotly'],function(plotly) {window.Plotly=plotly;});}}</script>"
      ],
      "text/vnd.plotly.v1+html": [
       "<script>requirejs.config({paths: { 'plotly': ['https://cdn.plot.ly/plotly-latest.min']},});if(!window.Plotly) {{require(['plotly'],function(plotly) {window.Plotly=plotly;});}}</script>"
      ]
     },
     "metadata": {},
     "output_type": "display_data"
    },
    {
     "name": "stderr",
     "output_type": "stream",
     "text": [
      "IOPub data rate exceeded.\n",
      "The notebook server will temporarily stop sending output\n",
      "to the client in order to avoid crashing it.\n",
      "To change this limit, set the config variable\n",
      "`--NotebookApp.iopub_data_rate_limit`.\n"
     ]
    }
   ],
   "source": [
    "import plotly.offline as py\n",
    "import plotly.figure_factory as ff\n",
    "import plotly.graph_objs as go\n",
    "\n",
    "from plotly import tools\n",
    "from itertools import product\n",
    "py.init_notebook_mode(connected=True)\n",
    "\n",
    "titles =  ('Decision Tree (depth=4)', 'KNN (k=7)',\n",
    "           'Kernel SVM', 'Soft Voting')\n",
    "\n",
    "fig = tools.make_subplots(rows=2, cols=2,\n",
    "                          print_grid=False,\n",
    "                          subplot_titles=titles\n",
    "                         )\n",
    "\n",
    "x_min, x_max = X[:, 0].min() - 1, X[:, 0].max() + 1\n",
    "y_min, y_max = X[:, 1].min() - 1, X[:, 1].max() + 1\n",
    "xx, yy = np.meshgrid(np.arange(x_min, x_max, 0.1),\n",
    "                     np.arange(y_min, y_max, 0.1))\n",
    "y_ = np.arange(y_min, y_max, 0.1)\n",
    "for idx, clf in zip(product([0, 1], [0, 1]),\n",
    "                    [clf1, clf2, clf3, eclf]):\n",
    "    Z = clf.predict(np.c_[xx.ravel(), yy.ravel()])\n",
    "    Z = Z.reshape(xx.shape)\n",
    "\n",
    "    trace1 = go.Contour(x=xx[0], y=y_, \n",
    "                        z=Z,\n",
    "                        colorscale=[[0, 'purple'],\n",
    "                                    [0.5, 'cyan'],\n",
    "                                    [1, 'pink']\n",
    "                                   ],\n",
    "                        opacity=0.5,\n",
    "                        showscale=False\n",
    "                        )\n",
    "    trace2 = go.Scatter(x=X[:, 0], y=X[:, 1], \n",
    "                        showlegend=False,\n",
    "                        mode='markers',\n",
    "                        marker=dict(color=y,\n",
    "                                    line=dict(color='black', width=1)\n",
    "                                    )\n",
    "                       )\n",
    "    \n",
    "    fig.append_trace(trace1, idx[0]+1, idx[1]+1)\n",
    "    fig.append_trace(trace2, idx[0]+1, idx[1]+1)\n",
    "    \n",
    "fig['layout'].update(height=900, hovermode='closest')\n",
    "\n",
    "for i in map(str, range(1,5)):\n",
    "    x = 'xaxis' + i\n",
    "    y = 'yaxis' + i\n",
    "    fig['layout'][x].update(showgrid=False, zeroline=False)\n",
    "    fig['layout'][y].update(showgrid=False, zeroline=False)\n",
    "py.iplot(fig)"
   ]
  },
  {
   "cell_type": "code",
   "execution_count": null,
   "metadata": {
    "collapsed": true
   },
   "outputs": [],
   "source": []
  }
 ],
 "metadata": {
  "kernelspec": {
   "display_name": "Python 3",
   "language": "python",
   "name": "python3"
  },
  "language_info": {
   "codemirror_mode": {
    "name": "ipython",
    "version": 3
   },
   "file_extension": ".py",
   "mimetype": "text/x-python",
   "name": "python",
   "nbconvert_exporter": "python",
   "pygments_lexer": "ipython3",
   "version": "3.6.1"
  }
 },
 "nbformat": 4,
 "nbformat_minor": 2
}
