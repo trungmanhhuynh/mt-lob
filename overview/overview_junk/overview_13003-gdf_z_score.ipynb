{
 "cells": [
  {
   "cell_type": "code",
   "execution_count": 1,
   "metadata": {
    "collapsed": true
   },
   "outputs": [],
   "source": [
    "%load_ext autoreload\n",
    "\n",
    "%autoreload 2\n",
    "%matplotlib inline\n",
    "import pandas as pd\n",
    "import matplotlib.pyplot as plt\n",
    "import seaborn as sns\n",
    "from sklearn.cluster import KMeans\n",
    "from sklearn.svm import SVC\n",
    "from sklearn.metrics import roc_auc_score, roc_curve\n",
    "\n",
    "from sklearn import preprocessing\n",
    "from sklearn.linear_model import LogisticRegression\n",
    "\n",
    "import warnings\n",
    "import numpy as np\n",
    "from collections import OrderedDict\n",
    "\n",
    "from lob_data_utils import lob, db_result, overview\n",
    "from lob_data_utils.svm_calculation import lob_svm\n",
    "\n",
    "sns.set_style('whitegrid')\n",
    "warnings.filterwarnings('ignore')"
   ]
  },
  {
   "cell_type": "code",
   "execution_count": 2,
   "metadata": {
    "collapsed": true
   },
   "outputs": [],
   "source": [
    "data_length = 10000\n",
    "stock = '13003'"
   ]
  },
  {
   "cell_type": "code",
   "execution_count": 3,
   "metadata": {
    "collapsed": true
   },
   "outputs": [],
   "source": [
    "df, df_cv, df_test = lob.load_prepared_data(\n",
    "    stock, data_dir='../queue_imbalance/data/prepared', cv=True, length=data_length)"
   ]
  },
  {
   "cell_type": "code",
   "execution_count": 4,
   "metadata": {
    "collapsed": true
   },
   "outputs": [],
   "source": [
    "## Overview with z score"
   ]
  },
  {
   "cell_type": "code",
   "execution_count": 5,
   "metadata": {},
   "outputs": [
    {
     "name": "stdout",
     "output_type": "stream",
     "text": [
      "Results file does not exist yet\n",
      "Only one class present in y_true. ROC AUC score is not defined in that case. 0.01 0.1 1\n",
      "Only one class present in y_true. ROC AUC score is not defined in that case. 0.01 0.1 1\n",
      "Only one class present in y_true. ROC AUC score is not defined in that case. 0.01 1.0 10000\n",
      "Only one class present in y_true. ROC AUC score is not defined in that case. 0.1 1.0 1000\n",
      "Only one class present in y_true. ROC AUC score is not defined in that case. 0.1 1.0 10000\n"
     ]
    },
    {
     "data": {
      "text/html": [
       "<div>\n",
       "<style scoped>\n",
       "    .dataframe tbody tr th:only-of-type {\n",
       "        vertical-align: middle;\n",
       "    }\n",
       "\n",
       "    .dataframe tbody tr th {\n",
       "        vertical-align: top;\n",
       "    }\n",
       "\n",
       "    .dataframe thead th {\n",
       "        text-align: right;\n",
       "    }\n",
       "</style>\n",
       "<table border=\"1\" class=\"dataframe\">\n",
       "  <thead>\n",
       "    <tr style=\"text-align: right;\">\n",
       "      <th></th>\n",
       "      <th>c</th>\n",
       "      <th>roc_cv_score</th>\n",
       "      <th>roc_train_score</th>\n",
       "      <th>K</th>\n",
       "      <th>Kn</th>\n",
       "      <th>r</th>\n",
       "      <th>s</th>\n",
       "      <th>stock</th>\n",
       "    </tr>\n",
       "  </thead>\n",
       "  <tbody>\n",
       "    <tr>\n",
       "      <th>48</th>\n",
       "      <td>1000</td>\n",
       "      <td>0.757568</td>\n",
       "      <td>0.550267</td>\n",
       "      <td>50</td>\n",
       "      <td>10</td>\n",
       "      <td>0.05</td>\n",
       "      <td>1.0</td>\n",
       "      <td>13003</td>\n",
       "    </tr>\n",
       "    <tr>\n",
       "      <th>49</th>\n",
       "      <td>10000</td>\n",
       "      <td>0.757436</td>\n",
       "      <td>0.550267</td>\n",
       "      <td>50</td>\n",
       "      <td>10</td>\n",
       "      <td>0.05</td>\n",
       "      <td>1.0</td>\n",
       "      <td>13003</td>\n",
       "    </tr>\n",
       "    <tr>\n",
       "      <th>72</th>\n",
       "      <td>100</td>\n",
       "      <td>0.591057</td>\n",
       "      <td>0.553942</td>\n",
       "      <td>50</td>\n",
       "      <td>10</td>\n",
       "      <td>0.10</td>\n",
       "      <td>1.0</td>\n",
       "      <td>13003</td>\n",
       "    </tr>\n",
       "    <tr>\n",
       "      <th>65</th>\n",
       "      <td>1</td>\n",
       "      <td>0.547250</td>\n",
       "      <td>0.542677</td>\n",
       "      <td>50</td>\n",
       "      <td>10</td>\n",
       "      <td>0.10</td>\n",
       "      <td>0.5</td>\n",
       "      <td>13003</td>\n",
       "    </tr>\n",
       "    <tr>\n",
       "      <th>17</th>\n",
       "      <td>100</td>\n",
       "      <td>0.538025</td>\n",
       "      <td>0.551103</td>\n",
       "      <td>50</td>\n",
       "      <td>10</td>\n",
       "      <td>0.01</td>\n",
       "      <td>0.5</td>\n",
       "      <td>13003</td>\n",
       "    </tr>\n",
       "  </tbody>\n",
       "</table>\n",
       "</div>"
      ],
      "text/plain": [
       "        c  roc_cv_score  roc_train_score   K  Kn     r    s  stock\n",
       "48   1000      0.757568         0.550267  50  10  0.05  1.0  13003\n",
       "49  10000      0.757436         0.550267  50  10  0.05  1.0  13003\n",
       "72    100      0.591057         0.553942  50  10  0.10  1.0  13003\n",
       "65      1      0.547250         0.542677  50  10  0.10  0.5  13003\n",
       "17    100      0.538025         0.551103  50  10  0.01  0.5  13003"
      ]
     },
     "execution_count": 5,
     "metadata": {},
     "output_type": "execute_result"
    }
   ],
   "source": [
    "overview_z_score = overview.Overview(stock, data_length, results_dir='results_z_score', \n",
    "                                     data_dir='../gaussian_filter/data_gdf_z_score/', suffix='_z_score')\n",
    "K = 50\n",
    "length = data_length\n",
    "rr = [0.01, 0.05, 0.1, 0.5, 1.0]\n",
    "ss = [0.01, 0.05, 0.1, 0.5, 1.0]\n",
    "Cs = [1, 10, 100, 1000, 10000]\n",
    "Kn = 10\n",
    "\n",
    "df_gdf_log_z = overview_z_score.write_gdf_logistic(K=K, Kn=Kn, rr=rr, ss=ss, Cs=Cs)\n",
    "df_gdf_log_z.drop(columns=[c for c in df_gdf_log_z.columns if 'Unnamed' in c], inplace=True)\n",
    "df_gdf_log_z.sort_values(by='roc_cv_score', ascending=False).head()"
   ]
  },
  {
   "cell_type": "code",
   "execution_count": 6,
   "metadata": {},
   "outputs": [
    {
     "name": "stdout",
     "output_type": "stream",
     "text": [
      "Results read from file\n"
     ]
    },
    {
     "data": {
      "text/html": [
       "<div>\n",
       "<style scoped>\n",
       "    .dataframe tbody tr th:only-of-type {\n",
       "        vertical-align: middle;\n",
       "    }\n",
       "\n",
       "    .dataframe tbody tr th {\n",
       "        vertical-align: top;\n",
       "    }\n",
       "\n",
       "    .dataframe thead th {\n",
       "        text-align: right;\n",
       "    }\n",
       "</style>\n",
       "<table border=\"1\" class=\"dataframe\">\n",
       "  <thead>\n",
       "    <tr style=\"text-align: right;\">\n",
       "      <th></th>\n",
       "      <th>c</th>\n",
       "      <th>roc_cv_score</th>\n",
       "      <th>roc_train_score</th>\n",
       "      <th>K</th>\n",
       "      <th>Kn</th>\n",
       "      <th>r</th>\n",
       "      <th>s</th>\n",
       "      <th>stock</th>\n",
       "    </tr>\n",
       "  </thead>\n",
       "  <tbody>\n",
       "    <tr>\n",
       "      <th>101</th>\n",
       "      <td>10</td>\n",
       "      <td>0.631263</td>\n",
       "      <td>0.763377</td>\n",
       "      <td>50</td>\n",
       "      <td>10</td>\n",
       "      <td>1.00</td>\n",
       "      <td>0.01</td>\n",
       "      <td>13003</td>\n",
       "    </tr>\n",
       "    <tr>\n",
       "      <th>76</th>\n",
       "      <td>10</td>\n",
       "      <td>0.589468</td>\n",
       "      <td>0.763377</td>\n",
       "      <td>50</td>\n",
       "      <td>10</td>\n",
       "      <td>0.50</td>\n",
       "      <td>0.01</td>\n",
       "      <td>13003</td>\n",
       "    </tr>\n",
       "    <tr>\n",
       "      <th>46</th>\n",
       "      <td>10</td>\n",
       "      <td>0.570893</td>\n",
       "      <td>0.517939</td>\n",
       "      <td>50</td>\n",
       "      <td>10</td>\n",
       "      <td>0.05</td>\n",
       "      <td>1.00</td>\n",
       "      <td>13003</td>\n",
       "    </tr>\n",
       "    <tr>\n",
       "      <th>47</th>\n",
       "      <td>100</td>\n",
       "      <td>0.561431</td>\n",
       "      <td>0.522069</td>\n",
       "      <td>50</td>\n",
       "      <td>10</td>\n",
       "      <td>0.05</td>\n",
       "      <td>1.00</td>\n",
       "      <td>13003</td>\n",
       "    </tr>\n",
       "    <tr>\n",
       "      <th>3</th>\n",
       "      <td>1000</td>\n",
       "      <td>0.561144</td>\n",
       "      <td>0.518542</td>\n",
       "      <td>50</td>\n",
       "      <td>10</td>\n",
       "      <td>0.01</td>\n",
       "      <td>0.01</td>\n",
       "      <td>13003</td>\n",
       "    </tr>\n",
       "  </tbody>\n",
       "</table>\n",
       "</div>"
      ],
      "text/plain": [
       "        c  roc_cv_score  roc_train_score   K  Kn     r     s  stock\n",
       "101    10      0.631263         0.763377  50  10  1.00  0.01  13003\n",
       "76     10      0.589468         0.763377  50  10  0.50  0.01  13003\n",
       "46     10      0.570893         0.517939  50  10  0.05  1.00  13003\n",
       "47    100      0.561431         0.522069  50  10  0.05  1.00  13003\n",
       "3    1000      0.561144         0.518542  50  10  0.01  0.01  13003"
      ]
     },
     "execution_count": 6,
     "metadata": {},
     "output_type": "execute_result"
    }
   ],
   "source": [
    "overview_regular = overview.Overview(stock, data_length)\n",
    "\n",
    "K = 50\n",
    "length = data_length\n",
    "rr = [0.01, 0.05, 0.1, 0.5, 1.0]\n",
    "ss = [0.01, 0.05, 0.1, 0.5, 1.0]\n",
    "Cs = [1, 10, 100, 1000, 10000]\n",
    "Kn = 10\n",
    "\n",
    "df_gdf_log_reg = overview_regular.write_gdf_logistic(K=K, Kn=Kn, rr=rr, ss=ss, Cs=Cs)\n",
    "df_gdf_log_reg.drop(columns=[c for c in df_gdf_log_reg.columns if 'Unnamed' in c], inplace=True)\n",
    "df_gdf_log_reg.sort_values(by='roc_cv_score', ascending=False).head()"
   ]
  },
  {
   "cell_type": "code",
   "execution_count": 7,
   "metadata": {},
   "outputs": [
    {
     "data": {
      "text/html": [
       "<div>\n",
       "<style scoped>\n",
       "    .dataframe tbody tr th:only-of-type {\n",
       "        vertical-align: middle;\n",
       "    }\n",
       "\n",
       "    .dataframe tbody tr th {\n",
       "        vertical-align: top;\n",
       "    }\n",
       "\n",
       "    .dataframe thead th {\n",
       "        text-align: right;\n",
       "    }\n",
       "</style>\n",
       "<table border=\"1\" class=\"dataframe\">\n",
       "  <thead>\n",
       "    <tr style=\"text-align: right;\">\n",
       "      <th></th>\n",
       "      <th>r</th>\n",
       "      <th>roc_cv_score</th>\n",
       "      <th>roc_cv_score_z</th>\n",
       "      <th>roc_train_score</th>\n",
       "      <th>roc_train_score_z</th>\n",
       "      <th>s</th>\n",
       "    </tr>\n",
       "  </thead>\n",
       "  <tbody>\n",
       "    <tr>\n",
       "      <th>2</th>\n",
       "      <td>0.05</td>\n",
       "      <td>0.570893</td>\n",
       "      <td>0.757568</td>\n",
       "      <td>0.517939</td>\n",
       "      <td>0.550267</td>\n",
       "      <td>1.0</td>\n",
       "    </tr>\n",
       "    <tr>\n",
       "      <th>3</th>\n",
       "      <td>0.05</td>\n",
       "      <td>0.561431</td>\n",
       "      <td>0.757568</td>\n",
       "      <td>0.522069</td>\n",
       "      <td>0.550267</td>\n",
       "      <td>1.0</td>\n",
       "    </tr>\n",
       "    <tr>\n",
       "      <th>8</th>\n",
       "      <td>0.05</td>\n",
       "      <td>0.554845</td>\n",
       "      <td>0.757568</td>\n",
       "      <td>0.524052</td>\n",
       "      <td>0.550267</td>\n",
       "      <td>1.0</td>\n",
       "    </tr>\n",
       "    <tr>\n",
       "      <th>13</th>\n",
       "      <td>0.05</td>\n",
       "      <td>0.540333</td>\n",
       "      <td>0.757568</td>\n",
       "      <td>0.524887</td>\n",
       "      <td>0.550267</td>\n",
       "      <td>1.0</td>\n",
       "    </tr>\n",
       "    <tr>\n",
       "      <th>38</th>\n",
       "      <td>0.05</td>\n",
       "      <td>0.520253</td>\n",
       "      <td>0.757568</td>\n",
       "      <td>0.520513</td>\n",
       "      <td>0.550267</td>\n",
       "      <td>1.0</td>\n",
       "    </tr>\n",
       "  </tbody>\n",
       "</table>\n",
       "</div>"
      ],
      "text/plain": [
       "       r  roc_cv_score  roc_cv_score_z  roc_train_score  roc_train_score_z  \\\n",
       "2   0.05      0.570893        0.757568         0.517939           0.550267   \n",
       "3   0.05      0.561431        0.757568         0.522069           0.550267   \n",
       "8   0.05      0.554845        0.757568         0.524052           0.550267   \n",
       "13  0.05      0.540333        0.757568         0.524887           0.550267   \n",
       "38  0.05      0.520253        0.757568         0.520513           0.550267   \n",
       "\n",
       "      s  \n",
       "2   1.0  \n",
       "3   1.0  \n",
       "8   1.0  \n",
       "13  1.0  \n",
       "38  1.0  "
      ]
     },
     "execution_count": 7,
     "metadata": {},
     "output_type": "execute_result"
    }
   ],
   "source": [
    "def compare(df_gdf_res, df_gdf_log_res):\n",
    "    res_best = df_gdf_res.sort_values(by='roc_cv_score', ascending=False)\n",
    "    df_gdf_log_res = df_gdf_log_res.sort_values(by='roc_cv_score', ascending=False)\n",
    "    comp = []\n",
    "    for i, row in res_best.iterrows():\n",
    "        r = df_gdf_log_res[df_gdf_log_res['r'] == row['r']][df_gdf_log_res['s'] == row['s']].iloc[0]\n",
    "        comp.append({\n",
    "            'roc_cv_score': row['roc_cv_score'],\n",
    "            'roc_train_score': row['roc_train_score'],\n",
    "            'r': row['r'],\n",
    "            's': row['s'],\n",
    "            'roc_cv_score_z': r['roc_cv_score'],\n",
    "            'roc_train_score_z': r['roc_train_score']\n",
    "        })\n",
    "    return pd.DataFrame(comp).sort_values(\n",
    "        by=['roc_cv_score_z', 'roc_cv_score'], ascending=False).dropna()\n",
    "compare(df_gdf_log_reg, df_gdf_log_z).head()"
   ]
  },
  {
   "cell_type": "markdown",
   "metadata": {},
   "source": [
    "## Let's check on test!"
   ]
  },
  {
   "cell_type": "code",
   "execution_count": 8,
   "metadata": {
    "collapsed": true
   },
   "outputs": [],
   "source": [
    "best_gdf_log_z = df_gdf_log_z.sort_values(by=['roc_cv_score', 'roc_train_score'], ascending=False).iloc[0]\n",
    "\n",
    "best_gdf_log_reg = df_gdf_log_reg.sort_values(by=['roc_cv_score', 'roc_train_score'], ascending=False).iloc[0]\n",
    "res_dict = OrderedDict({\n",
    "    'gdf_log_z': best_gdf_log_z,\n",
    "    'gdf_log_reg': best_gdf_log_reg,\n",
    "})"
   ]
  },
  {
   "cell_type": "code",
   "execution_count": 9,
   "metadata": {},
   "outputs": [
    {
     "data": {
      "text/plain": [
       "0.5273635550253505"
      ]
     },
     "execution_count": 9,
     "metadata": {},
     "output_type": "execute_result"
    }
   ],
   "source": [
    "def gdf_log_classification(df, K, C=1000):\n",
    "    gdf_columns = ['gdf_' + str(i) for i in range(0, K)]\n",
    "    clf = LogisticRegression(C=C)\n",
    "    X = df.loc[:, gdf_columns]\n",
    "    y = df['mid_price_indicator'].values.reshape(-1, 1)\n",
    "    y[0] = 0\n",
    "    clf.fit(X, y)\n",
    "    return clf\n",
    "\n",
    "filename = 'gdf_{}_len{}_r{}_s{}_K{}'.format(\n",
    "    stock, length, best_gdf_log_reg['r'], best_gdf_log_reg['s'], int(best_gdf_log_reg['K']))\n",
    "dfs, dfs_cv, dfs_test = lob.load_prepared_data(\n",
    "    filename, data_dir='../gaussian_filter/data_gdf/', cv=True, length=length)\n",
    "svm_gdf_clf = gdf_log_classification(dfs, K, C=best_gdf_log_reg['c'])\n",
    "gdf_columns = ['gdf_' + str(i) for i in range(0, K)]\n",
    "pred_test = svm_gdf_clf.predict(dfs_test.loc[:, gdf_columns])\n",
    "roc_test = roc_auc_score(pred_test, dfs_test['mid_price_indicator'])\n",
    "best_gdf_log_reg['roc_test_score'] = roc_test\n",
    "roc_test"
   ]
  },
  {
   "cell_type": "code",
   "execution_count": 10,
   "metadata": {},
   "outputs": [
    {
     "data": {
      "text/plain": [
       "0.5275451559934319"
      ]
     },
     "execution_count": 10,
     "metadata": {},
     "output_type": "execute_result"
    }
   ],
   "source": [
    "def gdf_log_classification(df, K, C=1000):\n",
    "    gdf_columns = ['gdf_' + str(i) for i in range(0, K)]\n",
    "    clf = LogisticRegression(C=C)\n",
    "    X = df.loc[:, gdf_columns]\n",
    "    y = df['mid_price_indicator'].values.reshape(-1, 1)\n",
    "    y[0] = 0\n",
    "    clf.fit(X, y)\n",
    "    return clf\n",
    "\n",
    "filename = 'gdf_{}_len{}_r{}_s{}_K{}_z_score'.format(\n",
    "    stock, length, best_gdf_log_z['r'], best_gdf_log_z['s'], int(best_gdf_log_z['K']))\n",
    "dfs, dfs_cv, dfs_test = lob.load_prepared_data(\n",
    "    filename, data_dir='../gaussian_filter/data_gdf_z_score/', cv=True)\n",
    "svm_gdf_clf = gdf_log_classification(dfs, K, C=best_gdf_log_z['c'])\n",
    "gdf_columns = ['gdf_' + str(i) for i in range(0, K)]\n",
    "pred_test = svm_gdf_clf.predict(dfs_test.loc[:, gdf_columns])\n",
    "roc_test = roc_auc_score(pred_test, dfs_test['mid_price_indicator'])\n",
    "best_gdf_log_z['roc_test_score'] = roc_test\n",
    "roc_test"
   ]
  },
  {
   "cell_type": "code",
   "execution_count": 11,
   "metadata": {},
   "outputs": [
    {
     "data": {
      "text/plain": [
       "<matplotlib.legend.Legend at 0x7fcb2007feb8>"
      ]
     },
     "execution_count": 11,
     "metadata": {},
     "output_type": "execute_result"
    },
    {
     "data": {
      "image/png": "[encoded data removed]",
      "text/plain": [
       "<Figure size 576x576 with 1 Axes>"
      ]
     },
     "metadata": {},
     "output_type": "display_data"
    }
   ],
   "source": [
    "res = []\n",
    "for k, v in res_dict.items():\n",
    "    dd = v.to_dict()\n",
    "    dd['type'] = k\n",
    "    res.append(dd)\n",
    "df_res = pd.DataFrame(res)\n",
    "\n",
    "df_res[['roc_train_score', 'roc_cv_score', 'roc_test_score']].plot(kind='bar', figsize=(8, 8))\n",
    "d = plt.xticks(list(range(len(res_dict.keys()))), list(res_dict.keys()))\n",
    "plt.legend(loc='upper right')"
   ]
  },
  {
   "cell_type": "markdown",
   "metadata": {
    "collapsed": true
   },
   "source": [
    "## Conclusion\n",
    "\n",
    "No, z score normalizer is not what I want to continue with."
   ]
  }
 ],
 "metadata": {
  "kernelspec": {
   "display_name": "Python 3",
   "language": "python",
   "name": "python3"
  },
  "language_info": {
   "codemirror_mode": {
    "name": "ipython",
    "version": 3
   },
   "file_extension": ".py",
   "mimetype": "text/x-python",
   "name": "python",
   "nbconvert_exporter": "python",
   "pygments_lexer": "ipython3",
   "version": "3.6.1"
  }
 },
 "nbformat": 4,
 "nbformat_minor": 2
}
