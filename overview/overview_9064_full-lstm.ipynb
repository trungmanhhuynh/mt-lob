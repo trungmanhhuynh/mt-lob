{
 "cells": [
  {
   "cell_type": "code",
   "execution_count": 1,
   "metadata": {},
   "outputs": [
    {
     "name": "stderr",
     "output_type": "stream",
     "text": [
      "Using TensorFlow backend.\n"
     ]
    }
   ],
   "source": [
    "%load_ext autoreload\n",
    "\n",
    "%autoreload 2\n",
    "%matplotlib inline\n",
    "import pandas as pd\n",
    "import matplotlib.pyplot as plt\n",
    "import seaborn as sns\n",
    "from sklearn.cluster import KMeans\n",
    "from sklearn.svm import SVC\n",
    "from sklearn.metrics import roc_auc_score, roc_curve\n",
    "\n",
    "from sklearn import preprocessing\n",
    "from sklearn.linear_model import LogisticRegression\n",
    "from sklearn.decomposition import PCA\n",
    "\n",
    "from keras.models import Sequential\n",
    "from keras.layers import Dense, Dropout\n",
    "from keras.layers import LSTM\n",
    "from keras.utils import plot_model\n",
    "\n",
    "\n",
    "from keras.models import Sequential\n",
    "from keras.layers import Dense, TimeDistributed\n",
    "from keras.layers import LSTM, Bidirectional\n",
    "from keras.layers.embeddings import Embedding\n",
    "from keras.preprocessing import sequence\n",
    "\n",
    "\n",
    "import warnings\n",
    "import numpy as np\n",
    "from collections import OrderedDict\n",
    "\n",
    "import os\n",
    "\n",
    "from lob_data_utils import lob, db_result, gdf_pca\n",
    "from lob_data_utils.svm_calculation import lob_svm\n",
    "from numpy.random import seed\n",
    "seed(1)\n",
    "\n",
    "\n",
    "sns.set_style('whitegrid')\n",
    "warnings.filterwarnings('ignore')"
   ]
  },
  {
   "cell_type": "code",
   "execution_count": 2,
   "metadata": {},
   "outputs": [],
   "source": [
    "data_length = 15000\n",
    "stock = '9064'\n",
    "gdf_filename_pattern = 'gdf_{}_' + 'len{}'.format(data_length) + '_r{}_s{}_K50'\n",
    "gdf_parameters = [(1.0, 1.0), (0.1, 0.1), (0.1, 1.0), (1.0, 0.1), (0.01, 0.1)]"
   ]
  },
  {
   "cell_type": "code",
   "execution_count": 3,
   "metadata": {},
   "outputs": [
    {
     "data": {
      "text/html": [
       "<div>\n",
       "<style scoped>\n",
       "    .dataframe tbody tr th:only-of-type {\n",
       "        vertical-align: middle;\n",
       "    }\n",
       "\n",
       "    .dataframe tbody tr th {\n",
       "        vertical-align: top;\n",
       "    }\n",
       "\n",
       "    .dataframe thead th {\n",
       "        text-align: right;\n",
       "    }\n",
       "</style>\n",
       "<table border=\"1\" class=\"dataframe\">\n",
       "  <thead>\n",
       "    <tr style=\"text-align: right;\">\n",
       "      <th></th>\n",
       "      <th>matthews</th>\n",
       "      <th>roc_auc</th>\n",
       "      <th>test_matthews</th>\n",
       "      <th>test_roc_auc</th>\n",
       "      <th>train_matthews</th>\n",
       "      <th>train_roc_auc</th>\n",
       "    </tr>\n",
       "  </thead>\n",
       "  <tbody>\n",
       "    <tr>\n",
       "      <th>10</th>\n",
       "      <td>0.081063</td>\n",
       "      <td>0.5403</td>\n",
       "      <td>0.071621</td>\n",
       "      <td>0.53506</td>\n",
       "      <td>0.081458</td>\n",
       "      <td>0.540529</td>\n",
       "    </tr>\n",
       "  </tbody>\n",
       "</table>\n",
       "</div>"
      ],
      "text/plain": [
       "    matthews  roc_auc  test_matthews  test_roc_auc  train_matthews  \\\n",
       "10  0.081063   0.5403       0.071621       0.53506        0.081458   \n",
       "\n",
       "    train_roc_auc  \n",
       "10       0.540529  "
      ]
     },
     "execution_count": 3,
     "metadata": {},
     "output_type": "execute_result"
    }
   ],
   "source": [
    "df_log = pd.read_csv('../gdf_pca/res_log_que.csv')   \n",
    "df_log = df_log[df_log['stock'] == int(stock)]\n",
    "columns = [c for c in df_log.columns if 'matthews' in c or 'roc_auc' in c]\n",
    "df_log[columns]"
   ]
  },
  {
   "cell_type": "code",
   "execution_count": 4,
   "metadata": {},
   "outputs": [],
   "source": [
    "gdf_dfs = []\n",
    "for r, s in gdf_parameters:\n",
    "    gdf_dfs.append(gdf_pca.SvmGdfResults(\n",
    "        stock,  r=r, s=s, data_length=data_length, \n",
    "        gdf_filename_pattern=gdf_filename_pattern))"
   ]
  },
  {
   "cell_type": "code",
   "execution_count": 5,
   "metadata": {},
   "outputs": [],
   "source": [
    "df = gdf_dfs[1].df\n",
    "df_test = gdf_dfs[1].df_test"
   ]
  },
  {
   "cell_type": "code",
   "execution_count": 6,
   "metadata": {},
   "outputs": [],
   "source": [
    "def as_keras_metric(method):\n",
    "    import functools\n",
    "    from keras import backend as K\n",
    "    import tensorflow as tf\n",
    "    @functools.wraps(method)\n",
    "    def wrapper(self, args, **kwargs):\n",
    "        \"\"\" Wrapper for turning tensorflow metrics into keras metrics \"\"\"\n",
    "        value, update_op = method(self, args, **kwargs)\n",
    "        K.get_session().run(tf.local_variables_initializer())\n",
    "        with tf.control_dependencies([update_op]):\n",
    "            value = tf.identity(value)\n",
    "        return value\n",
    "    return wrapper\n",
    "import tensorflow as tf\n",
    "auc_roc = as_keras_metric(tf.metrics.auc)"
   ]
  },
  {
   "cell_type": "code",
   "execution_count": 78,
   "metadata": {},
   "outputs": [
    {
     "name": "stdout",
     "output_type": "stream",
     "text": [
      "(11999, 10)\n",
      "(11999, 1, 10) [[ 8.03684455e-01 -2.59166263e-01 -2.18981194e-03 -2.49577730e-04\n",
      "   1.04311335e-02  1.04069174e-02 -1.56815275e-02  5.21206073e-03\n",
      "  -1.10669100e-03 -7.05417722e-03]]\n",
      "[0. 1. 1. ... 0. 0. 0.]\n",
      "[[1. 0.]\n",
      " [0. 1.]\n",
      " [0. 1.]\n",
      " ...\n",
      " [1. 0.]\n",
      " [1. 0.]\n",
      " [1. 0.]]\n"
     ]
    }
   ],
   "source": [
    "X_train = df[[gdf for gdf in gdf_dfs[0].df.columns if 'gdf' in gdf or 'queue' in gdf]].values\n",
    "\n",
    "pca = PCA(n_components=10)\n",
    "pca.fit(X_train)\n",
    "X_train = pca.transform(X_train)\n",
    "\n",
    "\n",
    "print(X_train.shape)\n",
    "X_train = np.reshape(X_train, (X_train.shape[0], 1, 10))\n",
    "print(X_train.shape, X_train[0])\n",
    "y_train = df['mid_price_indicator'].values\n",
    "from keras.utils import to_categorical\n",
    "print(y_train)\n",
    "y_train = to_categorical(y_train)\n",
    "print(y_train)"
   ]
  },
  {
   "cell_type": "code",
   "execution_count": 80,
   "metadata": {},
   "outputs": [
    {
     "name": "stdout",
     "output_type": "stream",
     "text": [
      "{'loss': [0.689071329298273, 0.6883888926215147, 0.6883914086140934, 0.6878309954662245, 0.6880568823761538, 0.688084092360952, 0.6878105874498325, 0.6877971552781179, 0.68785172924418, 0.6879226406004659, 0.6878155153963464, 0.6876118149605579, 0.6873872626403023, 0.6876632590941245, 0.6874724281798881, 0.6873438655262103, 0.6874315168313339, 0.687352978186723, 0.6873102694891405, 0.6873236922971785, 0.6873138741519373, 0.6871779839668049, 0.6872510164615978, 0.6874507802040818, 0.687233687684043, 0.6873090182833795, 0.6872264728495275, 0.687124679670581, 0.6870316781345154, 0.6872873129829962, 0.6871778174622554, 0.6872164496819927, 0.6872837636379194, 0.6872933700994925, 0.6873130588861731, 0.6872057584049562, 0.6871552908904394, 0.6872885963282731, 0.6871687267331126, 0.6873407937783144, 0.6871154019808569, 0.6870949649842583, 0.6871844886372374, 0.6871048551627482, 0.6868308582686615, 0.6871133061963048, 0.687415543253476, 0.6871691478005111, 0.6872105705747009, 0.687060109738837], 'auc': [0.5438370872451938, 0.5536483589217349, 0.5553286518193412, 0.5562947741279265, 0.5565701303645784, 0.5567193926150664, 0.5567632582607106, 0.5570904864242786, 0.5574196027322494, 0.5575526425198462, 0.5576717227049118, 0.5573885404067155, 0.5577373436485015, 0.5579603906472193, 0.5580495541637585, 0.5581192504128711, 0.5583987971009469, 0.5583387556667377, 0.5584140102290464, 0.5585038312396086, 0.5585158432669536, 0.5585368590033425, 0.5587222618464183, 0.5586418705102215, 0.5585880817666791, 0.558713210136734, 0.5587551592091579, 0.5586924604380445, 0.5588942741699959, 0.5588905282075807, 0.5588813145336126, 0.5589301245482189, 0.5589222542017, 0.5589624357199667, 0.5589653497557311, 0.5590426948519784, 0.5590389908497627, 0.5590776764697776, 0.5590063746258243, 0.5590960288884312, 0.5591481345148323, 0.5591219808272654, 0.559138677439915, 0.5591270516878247, 0.559151538889332, 0.5592124466399708, 0.5592199616535911, 0.5592398707176588, 0.5592471420223469, 0.5591977957099942]}\n",
      "_________________________________________________________________\n",
      "Layer (type)                 Output Shape              Param #   \n",
      "=================================================================\n",
      "lstm_33 (LSTM)               (None, 128)               71168     \n",
      "_________________________________________________________________\n",
      "dense_57 (Dense)             (None, 128)               16512     \n",
      "_________________________________________________________________\n",
      "dense_58 (Dense)             (None, 2)                 258       \n",
      "=================================================================\n",
      "Total params: 87,938\n",
      "Trainable params: 87,938\n",
      "Non-trainable params: 0\n",
      "_________________________________________________________________\n",
      "None\n",
      "11999/11999 [==============================] - 3s 238us/step\n",
      "[0.6868817533082848, 0.5592601000989454]\n"
     ]
    },
    {
     "data": {
      "image/png": "[encoded data removed]",
      "text/plain": [
       "<Figure size 432x288 with 1 Axes>"
      ]
     },
     "metadata": {},
     "output_type": "display_data"
    },
    {
     "data": {
      "image/png": "[encoded data removed]",
      "text/plain": [
       "<Figure size 432x288 with 1 Axes>"
      ]
     },
     "metadata": {},
     "output_type": "display_data"
    }
   ],
   "source": [
    "def train_model(X_train, y_train):\n",
    "    model = Sequential()\n",
    "    model.add(LSTM(1))\n",
    "    model.add(Dense(1, activation='sigmoid'))\n",
    "\n",
    "    model.compile(loss='binary_crossentropy', optimizer='adam', metrics=[auc_roc])\n",
    "\n",
    "    model.fit(X_train, y_train, epochs=3, batch_size=10)\n",
    "    plot_model(model, to_file='model0.png', show_shapes=True, show_layer_names=True)\n",
    "    print(model.summary())\n",
    "\n",
    "    return model\n",
    "\n",
    "def train_model1(X_train, y_train):\n",
    "    model = Sequential()\n",
    "    model.add(LSTM(128, input_shape=(1, 10)))\n",
    "    model.add(Dense(128, input_shape=(128, 1), activation='tanh'))\n",
    "  #  model.add(Dropout(0.1, input_shape=(128, 1)))\n",
    "    model.add(Dense(2, input_shape=(128, 1), activation='sigmoid'))\n",
    "    model.compile(loss='categorical_crossentropy', optimizer='adam', metrics=[auc_roc])\n",
    "    history = model.fit(X_train, y_train, epochs=50, batch_size=100, verbose=0)\n",
    "    print(history.history)\n",
    "    plt.plot(history.history['loss'])\n",
    "    plt.figure()\n",
    "    plt.plot(history.history['auc'])\n",
    "    print(model.summary())\n",
    "    print(model.evaluate(X_train, y_train))\n",
    "    plot_model(model, to_file='model1.png', show_shapes=True, show_layer_names=True)\n",
    "    return model\n",
    "model = train_model1(X_train, y_train)"
   ]
  },
  {
   "cell_type": "code",
   "execution_count": 93,
   "metadata": {},
   "outputs": [
    {
     "name": "stdout",
     "output_type": "stream",
     "text": [
      "(2999, 10)\n"
     ]
    }
   ],
   "source": [
    "X_test = df_test[[gdf for gdf in gdf_dfs[1].df_test.columns if 'gdf' in gdf or 'queue' in gdf]].values\n",
    "\n",
    "X_test = pca.transform(X_test)\n",
    "\n",
    "\n",
    "print(X_test.shape)\n",
    "X_test= np.reshape(X_test, (X_test.shape[0], 1, 10))\n",
    "y_test = df_test['mid_price_indicator'].values"
   ]
  },
  {
   "cell_type": "code",
   "execution_count": 99,
   "metadata": {},
   "outputs": [
    {
     "data": {
      "text/plain": [
       "(0.5553099077408202, 0.5469030537483247)"
      ]
     },
     "execution_count": 99,
     "metadata": {},
     "output_type": "execute_result"
    }
   ],
   "source": [
    "pred_test = model.predict_classes(X_test)\n",
    "pred = model.predict_classes(X_train)\n",
    "\n",
    "#pred = [np.argmax(p) for p in pred]\n",
    "#pred_test = [np.argmax(p) for p in pred_test]\n",
    "\n",
    "from sklearn import metrics\n",
    "metrics.roc_auc_score(y_test, pred_test), metrics.roc_auc_score([np.argmax(y) for y in y_train], pred)"
   ]
  },
  {
   "cell_type": "code",
   "execution_count": 101,
   "metadata": {},
   "outputs": [
    {
     "data": {
      "text/plain": [
       "(0.11117140316757734, 0.093858084679031)"
      ]
     },
     "execution_count": 101,
     "metadata": {},
     "output_type": "execute_result"
    }
   ],
   "source": [
    "metrics.matthews_corrcoef(y_test, pred_test), metrics.matthews_corrcoef([np.argmax(y) for y in y_train], pred)"
   ]
  }
 ],
 "metadata": {
  "kernelspec": {
   "display_name": "Python 3",
   "language": "python",
   "name": "python3"
  },
  "language_info": {
   "codemirror_mode": {
    "name": "ipython",
    "version": 3
   },
   "file_extension": ".py",
   "mimetype": "text/x-python",
   "name": "python",
   "nbconvert_exporter": "python",
   "pygments_lexer": "ipython3",
   "version": "3.6.5"
  }
 },
 "nbformat": 4,
 "nbformat_minor": 2
}
