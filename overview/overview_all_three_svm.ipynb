{
 "cells": [
  {
   "cell_type": "code",
   "execution_count": 1,
   "metadata": {},
   "outputs": [
    {
     "name": "stderr",
     "output_type": "stream",
     "text": [
      "Using TensorFlow backend.\n"
     ]
    }
   ],
   "source": [
    "%load_ext autoreload\n",
    "\n",
    "%autoreload 2\n",
    "%matplotlib inline\n",
    "import pandas as pd\n",
    "import matplotlib.pyplot as plt\n",
    "import seaborn as sns\n",
    "from sklearn.cluster import KMeans\n",
    "from sklearn.svm import SVC\n",
    "from sklearn import metrics\n",
    "\n",
    "from ast import literal_eval\n",
    "\n",
    "from mlxtend.plotting import plot_decision_regions\n",
    "from sklearn import preprocessing\n",
    "from sklearn.linear_model import LogisticRegression\n",
    "\n",
    "\n",
    "import warnings\n",
    "import numpy as np\n",
    "from collections import OrderedDict\n",
    "\n",
    "from lob_data_utils import lob, db_result, model\n",
    "from lob_data_utils.svm_calculation import lob_svm\n",
    "\n",
    "\n",
    "sns.set_style('whitegrid')\n",
    "warnings.filterwarnings('ignore')"
   ]
  },
  {
   "cell_type": "code",
   "execution_count": 2,
   "metadata": {},
   "outputs": [],
   "source": [
    "data_length = 24000\n",
    "stocks = ['3459', '2748', '9268']\n",
    "should_save_fig = True"
   ]
  },
  {
   "cell_type": "code",
   "execution_count": 3,
   "metadata": {},
   "outputs": [],
   "source": [
    "d_stocks = {}\n",
    "d_cv_stocks = {}\n",
    "d_test_stocks = {}\n",
    "for s in stocks:\n",
    "    d,  d_test = lob.load_prepared_data(s, length=data_length)\n",
    "    d.index = pd.to_datetime(d['Unnamed: 0'].values)\n",
    "    d_test.index = pd.to_datetime(d_test['Unnamed: 0'].values)\n",
    "    d['prev_queue_imbalance'] = [None] + d['queue_imbalance'].iloc[0:len(d)-1].values.tolist()\n",
    "    d.dropna(inplace=True)\n",
    "    d_test['prev_queue_imbalance'] = [None] + d_test['queue_imbalance'].iloc[0:len(d_test)-1].values.tolist()\n",
    "    d_test.dropna(inplace=True)\n",
    "    d_stocks[s] = d\n",
    "    d_test_stocks[s] = d_test"
   ]
  },
  {
   "cell_type": "code",
   "execution_count": 4,
   "metadata": {},
   "outputs": [
    {
     "data": {
      "text/html": [
       "<div>\n",
       "<style scoped>\n",
       "    .dataframe tbody tr th:only-of-type {\n",
       "        vertical-align: middle;\n",
       "    }\n",
       "\n",
       "    .dataframe tbody tr th {\n",
       "        vertical-align: top;\n",
       "    }\n",
       "\n",
       "    .dataframe thead th {\n",
       "        text-align: right;\n",
       "    }\n",
       "</style>\n",
       "<table border=\"1\" class=\"dataframe\">\n",
       "  <thead>\n",
       "    <tr style=\"text-align: right;\">\n",
       "      <th></th>\n",
       "      <th>Unnamed: 0</th>\n",
       "      <th>bid</th>\n",
       "      <th>ask</th>\n",
       "      <th>bid_price</th>\n",
       "      <th>ask_price</th>\n",
       "      <th>mid_price</th>\n",
       "      <th>sum_sell_ask</th>\n",
       "      <th>sum_buy_bid</th>\n",
       "      <th>mid_price_indicator</th>\n",
       "      <th>queue_imbalance</th>\n",
       "      <th>prev_queue_imbalance</th>\n",
       "    </tr>\n",
       "  </thead>\n",
       "  <tbody>\n",
       "    <tr>\n",
       "      <th>2013-09-02 08:31:00</th>\n",
       "      <td>2013-09-02 08:31:00</td>\n",
       "      <td>[(550.0, 4600.0), (590.0, 3500.0), (666.0, 956...</td>\n",
       "      <td>[(749.5, 19522.0), (750.0, 51865.0), (750.5, 1...</td>\n",
       "      <td>748.5</td>\n",
       "      <td>749.5</td>\n",
       "      <td>749.0</td>\n",
       "      <td>19522.0</td>\n",
       "      <td>8078.0</td>\n",
       "      <td>0.0</td>\n",
       "      <td>-0.414638</td>\n",
       "      <td>-0.573878</td>\n",
       "    </tr>\n",
       "    <tr>\n",
       "      <th>2013-09-02 08:32:00</th>\n",
       "      <td>2013-09-02 08:32:00</td>\n",
       "      <td>[(550.0, 4600.0), (590.0, 3500.0), (666.0, 956...</td>\n",
       "      <td>[(749.5, 13371.0), (750.0, 51046.0), (750.5, 1...</td>\n",
       "      <td>748.5</td>\n",
       "      <td>749.5</td>\n",
       "      <td>749.0</td>\n",
       "      <td>13371.0</td>\n",
       "      <td>16818.0</td>\n",
       "      <td>0.0</td>\n",
       "      <td>0.114181</td>\n",
       "      <td>-0.414638</td>\n",
       "    </tr>\n",
       "    <tr>\n",
       "      <th>2013-09-02 08:33:00</th>\n",
       "      <td>2013-09-02 08:33:00</td>\n",
       "      <td>[(550.0, 4600.0), (590.0, 3500.0), (666.0, 956...</td>\n",
       "      <td>[(749.5, 20645.0), (750.0, 51474.0), (750.5, 1...</td>\n",
       "      <td>748.5</td>\n",
       "      <td>749.5</td>\n",
       "      <td>749.0</td>\n",
       "      <td>20645.0</td>\n",
       "      <td>7206.0</td>\n",
       "      <td>0.0</td>\n",
       "      <td>-0.482532</td>\n",
       "      <td>0.114181</td>\n",
       "    </tr>\n",
       "    <tr>\n",
       "      <th>2013-09-02 08:34:00</th>\n",
       "      <td>2013-09-02 08:34:00</td>\n",
       "      <td>[(550.0, 4600.0), (590.0, 3500.0), (666.0, 956...</td>\n",
       "      <td>[(749.5, 14676.0), (750.0, 51474.0), (750.5, 1...</td>\n",
       "      <td>748.5</td>\n",
       "      <td>749.5</td>\n",
       "      <td>749.0</td>\n",
       "      <td>14676.0</td>\n",
       "      <td>7206.0</td>\n",
       "      <td>0.0</td>\n",
       "      <td>-0.341376</td>\n",
       "      <td>-0.482532</td>\n",
       "    </tr>\n",
       "    <tr>\n",
       "      <th>2013-09-02 08:35:00</th>\n",
       "      <td>2013-09-02 08:35:00</td>\n",
       "      <td>[(550.0, 4600.0), (590.0, 3500.0), (666.0, 956...</td>\n",
       "      <td>[(749.0, 9652.0), (749.5, 35846.0), (750.0, 42...</td>\n",
       "      <td>748.0</td>\n",
       "      <td>749.0</td>\n",
       "      <td>748.5</td>\n",
       "      <td>9652.0</td>\n",
       "      <td>5395.0</td>\n",
       "      <td>1.0</td>\n",
       "      <td>-0.282914</td>\n",
       "      <td>-0.341376</td>\n",
       "    </tr>\n",
       "  </tbody>\n",
       "</table>\n",
       "</div>"
      ],
      "text/plain": [
       "                              Unnamed: 0  \\\n",
       "2013-09-02 08:31:00  2013-09-02 08:31:00   \n",
       "2013-09-02 08:32:00  2013-09-02 08:32:00   \n",
       "2013-09-02 08:33:00  2013-09-02 08:33:00   \n",
       "2013-09-02 08:34:00  2013-09-02 08:34:00   \n",
       "2013-09-02 08:35:00  2013-09-02 08:35:00   \n",
       "\n",
       "                                                                   bid  \\\n",
       "2013-09-02 08:31:00  [(550.0, 4600.0), (590.0, 3500.0), (666.0, 956...   \n",
       "2013-09-02 08:32:00  [(550.0, 4600.0), (590.0, 3500.0), (666.0, 956...   \n",
       "2013-09-02 08:33:00  [(550.0, 4600.0), (590.0, 3500.0), (666.0, 956...   \n",
       "2013-09-02 08:34:00  [(550.0, 4600.0), (590.0, 3500.0), (666.0, 956...   \n",
       "2013-09-02 08:35:00  [(550.0, 4600.0), (590.0, 3500.0), (666.0, 956...   \n",
       "\n",
       "                                                                   ask  \\\n",
       "2013-09-02 08:31:00  [(749.5, 19522.0), (750.0, 51865.0), (750.5, 1...   \n",
       "2013-09-02 08:32:00  [(749.5, 13371.0), (750.0, 51046.0), (750.5, 1...   \n",
       "2013-09-02 08:33:00  [(749.5, 20645.0), (750.0, 51474.0), (750.5, 1...   \n",
       "2013-09-02 08:34:00  [(749.5, 14676.0), (750.0, 51474.0), (750.5, 1...   \n",
       "2013-09-02 08:35:00  [(749.0, 9652.0), (749.5, 35846.0), (750.0, 42...   \n",
       "\n",
       "                     bid_price  ask_price  mid_price  sum_sell_ask  \\\n",
       "2013-09-02 08:31:00      748.5      749.5      749.0       19522.0   \n",
       "2013-09-02 08:32:00      748.5      749.5      749.0       13371.0   \n",
       "2013-09-02 08:33:00      748.5      749.5      749.0       20645.0   \n",
       "2013-09-02 08:34:00      748.5      749.5      749.0       14676.0   \n",
       "2013-09-02 08:35:00      748.0      749.0      748.5        9652.0   \n",
       "\n",
       "                     sum_buy_bid  mid_price_indicator  queue_imbalance  \\\n",
       "2013-09-02 08:31:00       8078.0                  0.0        -0.414638   \n",
       "2013-09-02 08:32:00      16818.0                  0.0         0.114181   \n",
       "2013-09-02 08:33:00       7206.0                  0.0        -0.482532   \n",
       "2013-09-02 08:34:00       7206.0                  0.0        -0.341376   \n",
       "2013-09-02 08:35:00       5395.0                  1.0        -0.282914   \n",
       "\n",
       "                     prev_queue_imbalance  \n",
       "2013-09-02 08:31:00             -0.573878  \n",
       "2013-09-02 08:32:00             -0.414638  \n",
       "2013-09-02 08:33:00              0.114181  \n",
       "2013-09-02 08:34:00             -0.482532  \n",
       "2013-09-02 08:35:00             -0.341376  "
      ]
     },
     "execution_count": 4,
     "metadata": {},
     "output_type": "execute_result"
    }
   ],
   "source": [
    "d_stocks['3459'].head()"
   ]
  },
  {
   "cell_type": "markdown",
   "metadata": {},
   "source": [
    "## SVM with queue imbalance"
   ]
  },
  {
   "cell_type": "code",
   "execution_count": 5,
   "metadata": {},
   "outputs": [
    {
     "ename": "IndentationError",
     "evalue": "unindent does not match any outer indentation level (<ipython-input-5-d28b695134df>, line 6)",
     "output_type": "error",
     "traceback": [
      "\u001b[0;36m  File \u001b[0;32m\"<ipython-input-5-d28b695134df>\"\u001b[0;36m, line \u001b[0;32m6\u001b[0m\n\u001b[0;31m    df_res_temp = df_res_temp.append(\u001b[0m\n\u001b[0m                                     ^\u001b[0m\n\u001b[0;31mIndentationError\u001b[0m\u001b[0;31m:\u001b[0m unindent does not match any outer indentation level\n"
     ]
    }
   ],
   "source": [
    "df_res = {}\n",
    "for s in stocks:\n",
    "     df_res_temp = pd.read_csv('../svm_queue_imbalance/res_svm/svm_linear_{}_len{}.csv'.format(s, data_length))\n",
    "#     df_res_temp = df_res_temp.append(\n",
    "#         pd.read_csv('../svm_queue_imbalance/res_svm/svm_sigmoid_{}_len{}.csv'.format(s, data_length)))\n",
    "    df_res_temp = df_res_temp.append(\n",
    "        pd.read_csv('../svm_queue_imbalance/res_svm/svm_rbf_{}_len{}.csv'.format(s, data_length)))\n",
    "    df_res[s] = df_res_temp\n",
    "    df_res[s].index = list(range(len(df_res[s])))\n"
   ]
  },
  {
   "cell_type": "code",
   "execution_count": null,
   "metadata": {},
   "outputs": [],
   "source": [
    "df_best_svm = pd.DataFrame()\n",
    "for s in stocks:\n",
    "    idx_max = df_res[s]['matthews'].idxmax()\n",
    "    df_best_svm = df_best_svm.append(df_res[s].loc[idx_max])\n",
    "df_best_svm"
   ]
  },
  {
   "cell_type": "code",
   "execution_count": null,
   "metadata": {},
   "outputs": [],
   "source": [
    "print(df_best_svm[['stock', 'kernel', 'C', 'gamma', 'coef0']].to_latex())"
   ]
  },
  {
   "cell_type": "code",
   "execution_count": null,
   "metadata": {},
   "outputs": [],
   "source": [
    " from sklearn import utils\n",
    "\n",
    "def get_classes_weights(y_train):\n",
    "    classes = np.unique(y_train)\n",
    "    class_weight_list = utils.class_weight.compute_class_weight('balanced', classes, y_train)\n",
    "    class_weights = {classes[0]: class_weight_list[0], classes[1]: class_weight_list[1]}\n",
    "    return class_weights\n",
    "\n",
    "def fit_best_svm_classifier(df_best_svm, df, stock=None):\n",
    "    stock = int(stock)\n",
    "    gamma = df_best_svm[df_best_svm['stock'] == stock]['gamma'].values[0]\n",
    "    coef0 = df_best_svm[df_best_svm['stock'] == stock]['coef0'].values[0]\n",
    "    c = df_best_svm[df_best_svm['stock'] == stock]['C'].values[0]\n",
    "    kernel = df_best_svm[df_best_svm['stock'] == stock]['kernel'].values[0]\n",
    "\n",
    "    X = df['queue_imbalance'].values.reshape(-1, 1)\n",
    "    y = df['mid_price_indicator']\n",
    "   \n",
    "    weights = get_classes_weights(y)\n",
    "    clf = SVC(gamma=gamma, C=c, coef0=coef0, kernel=kernel, random_state=23131, class_weight=weights)\n",
    "    clf.fit(X, y)\n",
    "    return clf\n",
    "    "
   ]
  },
  {
   "cell_type": "code",
   "execution_count": null,
   "metadata": {},
   "outputs": [],
   "source": [
    "def get_scores_dict_for_data(functions_to_run, dfs, log_clf, stock):\n",
    "    scores = {'stock': stock}\n",
    "    for func_name, func in functions_to_run.items():\n",
    "        for df_name, df in dfs.items():\n",
    "            pred = log_clf.predict(df['queue_imbalance'].values.reshape(-1, 1))\n",
    "            df['pred'] = pred\n",
    "            scores['{}_{}'.format(df_name, func_name)] = func(df['mid_price_indicator'], pred)\n",
    "    return scores\n",
    "            \n",
    "functions_to_run = {'precision': metrics.precision_score, 'roc_auc': metrics.roc_auc_score,\n",
    "                   'f1_score': metrics.f1_score, 'recall': metrics.recall_score, \n",
    "                   'matthews': metrics.matthews_corrcoef, 'kappa': metrics.cohen_kappa_score}\n",
    "scores = []\n",
    "for stock in stocks:\n",
    "    log_clf = fit_best_svm_classifier(df_best_svm, d_stocks[stock], stock=stock)\n",
    "    dfs = {'train': d_stocks[stock], 'test': d_test_stocks[stock], }\n",
    "    res_validation = model.validate_model(\n",
    "        fit_best_svm_classifier(df_best_svm, d_stocks[stock], stock=stock), \n",
    "        d_stocks[stock][['queue_imbalance']], d_stocks[stock]['mid_price_indicator'])\n",
    "    res = get_scores_dict_for_data(functions_to_run, dfs, log_clf, stock)\n",
    "    res = {**res, **res_validation}\n",
    "    scores.append(res)\n",
    "df_scores = pd.DataFrame(scores, index=stocks)"
   ]
  },
  {
   "cell_type": "code",
   "execution_count": null,
   "metadata": {},
   "outputs": [],
   "source": [
    "def convert_scores(df, column):\n",
    "    scores = []\n",
    "    for i, row in df.iterrows():\n",
    "        scores.append(np.mean(row[column]))\n",
    "    return scores\n",
    "scores_columns = ['f1', 'kappa', 'matthews', 'precision', 'recall', 'roc_auc', 'train_f1', 'train_kappa',\n",
    "       'train_matthews', 'train_precision', 'train_recall', 'train_roc_auc']\n",
    "\n",
    "for col in scores_columns:\n",
    "    df_scores[col] = convert_scores(df_scores, col)\n",
    "df_scores"
   ]
  },
  {
   "cell_type": "code",
   "execution_count": null,
   "metadata": {},
   "outputs": [],
   "source": [
    "print(df_scores[['train_matthews',  'matthews', 'test_matthews', 'train_roc_auc',  'roc_auc', 'test_roc_auc']].to_latex())"
   ]
  },
  {
   "cell_type": "code",
   "execution_count": null,
   "metadata": {},
   "outputs": [],
   "source": [
    "df_scores[['train_precision', 'test_precision', 'train_recall', 'test_recall']]"
   ]
  },
  {
   "cell_type": "code",
   "execution_count": null,
   "metadata": {},
   "outputs": [],
   "source": [
    "df_scores[['train_f1', 'test_f1_score', 'train_roc_auc', 'test_roc_auc']]"
   ]
  },
  {
   "cell_type": "code",
   "execution_count": null,
   "metadata": {},
   "outputs": [],
   "source": [
    "f, ax = plt.subplots(1, 3, figsize=(27,6))\n",
    "for i in range(len(stocks)):\n",
    "    s = stocks[i]\n",
    "    d_stocks[s]['Predicition of Mid Price Indicator'] = d_stocks[s]['pred']\n",
    "    d_stocks[s]['Mid Price Indicator'] = d_stocks[s]['mid_price_indicator']\n",
    "    d_stocks[s][['Predicition of Mid Price Indicator', 'Mid Price Indicator']].plot(\n",
    "        kind='kde', ax=ax[i])\n",
    "    ax[i].set_title('Density of Mid Price Indicator and its prediction {} on training data'.format(s))\n",
    "    ax[i].legend(loc='lower right')\n",
    "if should_save_fig:\n",
    "    print('Saving')\n",
    "    plt.savefig('density_of_mid_price_and_prediction_training_data_svm.png')"
   ]
  },
  {
   "cell_type": "code",
   "execution_count": null,
   "metadata": {},
   "outputs": [],
   "source": [
    "for s in stocks:\n",
    "    d_stocks[s]['queue_imbalance'].plot(kind='kde')\n",
    "    d_stocks[s]['mid_price_indicator'].plot(kind='kde')"
   ]
  },
  {
   "cell_type": "code",
   "execution_count": null,
   "metadata": {},
   "outputs": [],
   "source": [
    "df_scores[['train_matthews', 'matthews', 'test_matthews']]"
   ]
  },
  {
   "cell_type": "code",
   "execution_count": null,
   "metadata": {},
   "outputs": [],
   "source": [
    "print('all 3')\n",
    "df_scores[['train_roc_auc', 'roc_auc', 'test_roc_auc']]"
   ]
  },
  {
   "cell_type": "code",
   "execution_count": null,
   "metadata": {},
   "outputs": [],
   "source": [
    "print(df_scores[['train_matthews', 'matthews', 'test_matthews', \n",
    "                 'train_roc_auc', 'roc_auc', 'test_roc_auc']].to_latex())"
   ]
  },
  {
   "cell_type": "code",
   "execution_count": null,
   "metadata": {},
   "outputs": [],
   "source": [
    "print(df_scores[['f1', 'test_f1_score', 'precision', 'test_precision', 'recall', 'test_recall']].to_latex())"
   ]
  },
  {
   "cell_type": "code",
   "execution_count": null,
   "metadata": {},
   "outputs": [],
   "source": [
    "f, ax = plt.subplots(1, 3, figsize=(27,6))\n",
    "for i in range(len(stocks)):\n",
    "    stock = stocks[i]\n",
    "    d_stocks[stock]['Predicition of Mid Price Indicator'] = d_stocks[stock]['pred']\n",
    "    d_stocks[stock]['Mid Price Indicator'] = d_stocks[stock]['mid_price_indicator']\n",
    "    sns.heatmap(metrics.confusion_matrix(d_stocks[stock]['mid_price_indicator'], d_stocks[stock]['pred']), \n",
    "               ax=ax[i], annot=True, fmt='d', xticklabels=['Negative', 'Positive'], \n",
    "                yticklabels=['Negative', 'Positive'])\n",
    "    \n",
    "    ax[i].set_title('{}'.format(stock))\n",
    "    ax[i].set_ylabel('True Mid Price Indicator')\n",
    "    ax[i].set_xlabel('Predicted Mid Price Indicator')\n",
    "plt.tight_layout()\n",
    "if should_save_fig:\n",
    "    print('Saving figure')\n",
    "    plt.savefig('svm_confusion_matrix.png')"
   ]
  },
  {
   "cell_type": "code",
   "execution_count": null,
   "metadata": {},
   "outputs": [],
   "source": [
    "df_scores.to_csv('res_overview_all_three_svm.csv')"
   ]
  },
  {
   "cell_type": "code",
   "execution_count": null,
   "metadata": {},
   "outputs": [],
   "source": [
    "df_best_svm"
   ]
  },
  {
   "cell_type": "code",
   "execution_count": null,
   "metadata": {},
   "outputs": [],
   "source": [
    "print('Pivot values')\n",
    "for i in range(len(stocks)):\n",
    "    stock = stocks[i]\n",
    "    df = d_stocks[stock]\n",
    "    print(np.mean([np.min(df[df['pred'] == 1]['queue_imbalance']), \n",
    "                  np.max(df[df['pred'] == 0]['queue_imbalance'])]))"
   ]
  },
  {
   "cell_type": "code",
   "execution_count": null,
   "metadata": {},
   "outputs": [],
   "source": [
    "f, ax = plt.subplots(3, 1, figsize=(35, 15), sharex=True)\n",
    "i = 0\n",
    "\n",
    "for i in range(len(stocks)):\n",
    "    s = stocks[i]\n",
    "    df = d_stocks[s]\n",
    "    X = d_stocks[s][['queue_imbalance']].values\n",
    "    y = d_stocks[s]['mid_price_indicator'].values.astype(np.integer)\n",
    "\n",
    "    clf = fit_best_svm_classifier(df_best_svm, d_stocks[s], stock=s)\n",
    "    plot_decision_regions(X[0:900], y[0:900], clf=clf,ax=ax[i], colors=','.join(['orange', 'blue']))\n",
    "    ax[i].set_xlabel('Queue Imbalance')\n",
    "    ax[i].set_title('SVM Decision Regions for {} on training data'.format(s))\n",
    "    ax[i].set_xlim(-1.01, 1.01)\n",
    "plt.tight_layout()\n",
    "if should_save_fig:\n",
    "    print('Saving')\n",
    "    plt.savefig('svm_decision_region.png')"
   ]
  },
  {
   "cell_type": "code",
   "execution_count": null,
   "metadata": {},
   "outputs": [],
   "source": []
  }
 ],
 "metadata": {
  "kernelspec": {
   "display_name": "Python 3",
   "language": "python",
   "name": "python3"
  },
  "language_info": {
   "codemirror_mode": {
    "name": "ipython",
    "version": 3
   },
   "file_extension": ".py",
   "mimetype": "text/x-python",
   "name": "python",
   "nbconvert_exporter": "python",
   "pygments_lexer": "ipython3",
   "version": "3.6.5"
  }
 },
 "nbformat": 4,
 "nbformat_minor": 2
}
