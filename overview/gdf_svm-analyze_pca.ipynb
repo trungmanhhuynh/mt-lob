{
 "cells": [
  {
   "cell_type": "code",
   "execution_count": 1,
   "metadata": {},
   "outputs": [],
   "source": [
    "%load_ext autoreload\n",
    "\n",
    "%autoreload 2\n",
    "%matplotlib inline\n",
    "import pandas as pd\n",
    "import matplotlib.pyplot as plt\n",
    "import seaborn as sns\n",
    "from sklearn.cluster import KMeans\n",
    "from sklearn.svm import SVC\n",
    " \n",
    "from sklearn import metrics\n",
    "\n",
    "from sklearn import preprocessing\n",
    "from sklearn.linear_model import LogisticRegression\n",
    "from ast import literal_eval\n",
    "\n",
    "from sklearn.decomposition import PCA\n",
    "import warnings\n",
    "import numpy as np\n",
    "from collections import OrderedDict\n",
    "\n",
    "from lob_data_utils import lob, db_result, model\n",
    "from lob_data_utils.svm_calculation import lob_svm\n",
    "import os\n",
    "\n",
    "\n",
    "sns.set_style('whitegrid')\n",
    "warnings.filterwarnings('ignore')"
   ]
  },
  {
   "cell_type": "code",
   "execution_count": 2,
   "metadata": {
    "collapsed": true
   },
   "outputs": [],
   "source": [
    "data_length = 10000\n",
    "stocks = ['9064', '9061', '9265']"
   ]
  },
  {
   "cell_type": "code",
   "execution_count": 3,
   "metadata": {
    "collapsed": true
   },
   "outputs": [],
   "source": [
    "def convert_scores(df, column):\n",
    "    scores = []\n",
    "    for i, row in df.iterrows():\n",
    "        try:\n",
    "            scores.append(np.mean(row[column]))\n",
    "        except:\n",
    "            scores.append(np.mean(np.array(literal_eval(row[column])).astype(np.float64)))\n",
    "    return scores\n",
    "scores_columns = ['f1', 'kappa', 'matthews', 'precision', 'recall', 'roc_auc', 'train_f1', 'train_kappa',\n",
    "       'train_matthews', 'train_precision', 'train_recall', 'train_roc_auc']"
   ]
  },
  {
   "cell_type": "code",
   "execution_count": 4,
   "metadata": {},
   "outputs": [
    {
     "name": "stdout",
     "output_type": "stream",
     "text": [
      "gdf_9064_len10000_r1.0_s1.0_K50\n",
      "gdf_9061_len10000_r1.0_s1.0_K50\n",
      "gdf_9265_len10000_r1.0_s1.0_K50\n"
     ]
    }
   ],
   "source": [
    "dfs = {}\n",
    "dfs_test = {}\n",
    "dfs_reg = {}\n",
    "dfs_reg_test = {}\n",
    "data_dir='../gaussian_filter/data_gdf'\n",
    "for stock in stocks:\n",
    "    r = 1.0\n",
    "    s = 1.0\n",
    "    gdf_filename = 'gdf_{}_len{}_r{}_s{}_K50'.format(stock, data_length, r, s)\n",
    "    reg_filename = '{}'.format(stock)\n",
    "    print(gdf_filename)\n",
    "    dfs[stock], dfs_test[stock] = lob.load_prepared_data(\n",
    "        gdf_filename, data_dir=data_dir, cv=False, length=data_length)\n",
    "    dfs_reg[stock], dfs_reg_test[stock] = lob.load_prepared_data(\n",
    "        reg_filename, data_dir='../gaussian_filter/data', cv=False, length=data_length)"
   ]
  },
  {
   "cell_type": "code",
   "execution_count": 5,
   "metadata": {
    "collapsed": true
   },
   "outputs": [],
   "source": [
    "for stock in stocks:\n",
    "    dfs[stock]['queue_imbalance'] = dfs_reg[stock]['queue_imbalance']\n",
    "    dfs[stock]['prev_queue_imbalance'] = dfs[stock]['queue_imbalance'].shift()\n",
    "    dfs[stock].dropna(inplace=True)\n",
    "    dfs_test[stock]['queue_imbalance'] = dfs_reg_test[stock]['queue_imbalance']\n",
    "    dfs_test[stock]['prev_queue_imbalance'] = dfs_test[stock]['queue_imbalance'].shift()\n",
    "    dfs_test[stock].dropna(inplace=True)"
   ]
  },
  {
   "cell_type": "code",
   "execution_count": 43,
   "metadata": {
    "collapsed": true
   },
   "outputs": [],
   "source": [
    "feature_columns_dict = {\n",
    "    'gdf_24-26_que_prev': ['gdf_24', 'gdf_25', 'queue_imbalance', 'prev_queue_imbalance'], \n",
    "    'pca_gdf_que3': ['gdf_{}'.format(i) for i in range(0, 50)] + ['queue_imbalance'],\n",
    "    'pca_gdf_que7': ['gdf_{}'.format(i) for i in range(0, 50)] + ['queue_imbalance'],\n",
    "    'pca_gdf_que1': ['gdf_{}'.format(i) for i in range(0, 50)] + ['queue_imbalance'],\n",
    "    'pca_gdf_que_mle': ['gdf_{}'.format(i) for i in range(0, 50)] + ['queue_imbalance'],\n",
    "}"
   ]
  },
  {
   "cell_type": "code",
   "execution_count": 65,
   "metadata": {},
   "outputs": [],
   "source": [
    "def get_number_of_pca_components(feature_name: str):\n",
    "    if 'mle' in feature_name:\n",
    "        return 'mle'\n",
    "    if 'pca_gdf_que_prev' in feature_name:\n",
    "        return int(feature_name.replace('pca_gdf_que_prev', ''))\n",
    "    if 'pca_gdf_que' in feature_name:\n",
    "        return int(feature_name.replace('pca_gdf_que', ''))\n",
    "    return None\n",
    "\n",
    "def get_pca(dfs, stock, feature_name):\n",
    "    df = dfs[stock][feature_columns_dict[feature_name]]\n",
    "    train_x = dfs[stock][feature_columns_dict[feature_name]]\n",
    "    n_components = get_number_of_pca_components(feature_name)\n",
    "    pca = None\n",
    "    if n_components:\n",
    "        pca = PCA(n_components=n_components, svd_solver='full', whiten=True)\n",
    "        pca.fit(train_x)\n",
    "        train_x = pca.transform(train_x)\n",
    "        print(len(train_x[0]))\n",
    "    else:\n",
    "        return None\n",
    "    return pca\n",
    "#     return pd.DataFrame(\n",
    "#         pca.components_, columns=dfs[stock][feature_columns_dict[feature_name]].columns, \n",
    "#         index=['PC_{}'.format(i) for i in range(pca.n_components)])"
   ]
  },
  {
   "cell_type": "code",
   "execution_count": 86,
   "metadata": {},
   "outputs": [
    {
     "name": "stdout",
     "output_type": "stream",
     "text": [
      "1\n",
      "1\n"
     ]
    },
    {
     "data": {
      "text/plain": [
       "[('queue_imbalance', -0.99997647814160162),\n",
       " ('gdf_0', -0.0016180957165767267),\n",
       " ('gdf_8', -0.0015366001113582312),\n",
       " ('gdf_7', -0.0015157789227477629),\n",
       " ('gdf_9', -0.0015034843288352856),\n",
       " ('gdf_1', -0.0014929511767705905),\n",
       " ('gdf_10', -0.0014695220446824305),\n",
       " ('gdf_6', -0.0014656822699881846),\n",
       " ('gdf_11', -0.0014287235479413288),\n",
       " ('gdf_5', -0.0014157825158893876),\n",
       " ('gdf_2', -0.0014118435040223476),\n",
       " ('gdf_4', -0.0013887749324736824),\n",
       " ('gdf_3', -0.0013879607480006134),\n",
       " ('gdf_12', -0.0013701486126352321),\n",
       " ('gdf_13', -0.0013266580672073617),\n",
       " ('gdf_14', -0.0013012460853458366),\n",
       " ('gdf_15', -0.0012778257961710612),\n",
       " ('gdf_16', -0.0012313079678227411),\n",
       " ('gdf_17', -0.0011886137972627513),\n",
       " ('gdf_18', -0.001135364319109903),\n",
       " ('gdf_19', -0.0010823085851116511),\n",
       " ('gdf_20', -0.001012177011642043),\n",
       " ('gdf_21', -0.00091213080413764139),\n",
       " ('gdf_22', -0.00081819616699830709),\n",
       " ('gdf_23', -0.00072902213081048881),\n",
       " ('gdf_24', -0.00064619320070085013),\n",
       " ('gdf_47', -0.00060496764622002441),\n",
       " ('gdf_46', -0.00059968911431911519),\n",
       " ('gdf_28', -0.00055814287416136761),\n",
       " ('gdf_25', -0.00054966183175472988),\n",
       " ('gdf_27', -0.00054776347750076944),\n",
       " ('gdf_29', -0.00054310499526416154),\n",
       " ('gdf_26', -0.00053664632690136784),\n",
       " ('gdf_48', -0.0005270812024351473),\n",
       " ('gdf_45', -0.00051490382318856293),\n",
       " ('gdf_30', -0.00048535844742191915),\n",
       " ('gdf_44', -0.00044302862094174435),\n",
       " ('gdf_31', -0.00044261706448071089),\n",
       " ('gdf_32', -0.00042352291688819581),\n",
       " ('gdf_34', -0.00040063906519768666),\n",
       " ('gdf_33', -0.00039939551413027712),\n",
       " ('gdf_35', -0.00039776470593443341),\n",
       " ('gdf_49', -0.00039406315686463949),\n",
       " ('gdf_43', -0.00038275688917960825),\n",
       " ('gdf_36', -0.00037459888784265938),\n",
       " ('gdf_41', -0.00036044469055611443),\n",
       " ('gdf_40', -0.0003598814537527256),\n",
       " ('gdf_42', -0.0003574928118170932),\n",
       " ('gdf_37', -0.00035366577652865162),\n",
       " ('gdf_38', -0.00035047775698229605),\n",
       " ('gdf_39', -0.00034555611201062512)]"
      ]
     },
     "execution_count": 86,
     "metadata": {},
     "output_type": "execute_result"
    }
   ],
   "source": [
    "pca_9061 = {}\n",
    "pca = get_pca(dfs, stock='9064', feature_name='pca_gdf_que1')\n",
    "print(pca.n_components_)\n",
    "d = {k: v for v, k in zip(pca.components_[0], dfs[stock][feature_columns_dict['pca_gdf_que3']].columns)}\n",
    "pca_9061 = d\n",
    "sorted(pca_9061.items(), key=lambda x: (x[1],x[0]))"
   ]
  },
  {
   "cell_type": "code",
   "execution_count": 40,
   "metadata": {},
   "outputs": [
    {
     "data": {
      "text/plain": [
       "[('queue_imbalance', -0.9820085513213842),\n",
       " ('gdf_0', 0.016349831103641355),\n",
       " ('gdf_8', 0.016431326708859835),\n",
       " ('gdf_7', 0.01645214789747031),\n",
       " ('gdf_9', 0.016464442491382781),\n",
       " ('gdf_1', 0.016474975643447437),\n",
       " ('gdf_10', 0.016498404775535633),\n",
       " ('gdf_6', 0.016502244550229885),\n",
       " ('gdf_11', 0.016539203272276738),\n",
       " ('gdf_5', 0.016552144304328685),\n",
       " ('gdf_2', 0.016556083316195829),\n",
       " ('gdf_4', 0.016579151887744385),\n",
       " ('gdf_3', 0.016579966072217456),\n",
       " ('gdf_12', 0.016597778207582837),\n",
       " ('gdf_13', 0.0166412687530107),\n",
       " ('gdf_14', 0.016666680734872229),\n",
       " ('gdf_15', 0.016690101024046989),\n",
       " ('gdf_16', 0.016736618852395319),\n",
       " ('gdf_17', 0.016779313022955308),\n",
       " ('gdf_18', 0.016832562501108157),\n",
       " ('gdf_19', 0.016885618235106412),\n",
       " ('gdf_20', 0.016955749808576014),\n",
       " ('gdf_21', 0.017055796016080413),\n",
       " ('gdf_22', 0.017149730653219744),\n",
       " ('gdf_23', 0.017238904689407565),\n",
       " ('gdf_24', 0.0173217336195172),\n",
       " ('gdf_47', 0.017362959173998004),\n",
       " ('gdf_46', 0.017368237705898907),\n",
       " ('gdf_28', 0.017409783946056683),\n",
       " ('gdf_25', 0.017418264988463321),\n",
       " ('gdf_27', 0.017420163342717274),\n",
       " ('gdf_29', 0.01742482182495388),\n",
       " ('gdf_26', 0.017431280493316673),\n",
       " ('gdf_48', 0.017440845617782877),\n",
       " ('gdf_45', 0.017453022997029465),\n",
       " ('gdf_30', 0.017482568372796128),\n",
       " ('gdf_44', 0.017524898199276284),\n",
       " ('gdf_31', 0.017525309755737326),\n",
       " ('gdf_32', 0.017544403903329849),\n",
       " ('gdf_34', 0.017567287755020353),\n",
       " ('gdf_33', 0.017568531306087765),\n",
       " ('gdf_35', 0.0175701621142836),\n",
       " ('gdf_49', 0.017573863663353385),\n",
       " ('gdf_43', 0.017585169931038425),\n",
       " ('gdf_36', 0.017593327932375377),\n",
       " ('gdf_41', 0.017607482129661914),\n",
       " ('gdf_40', 0.017608045366465309),\n",
       " ('gdf_42', 0.01761043400840093),\n",
       " ('gdf_37', 0.017614261043689385),\n",
       " ('gdf_38', 0.017617449063235736),\n",
       " ('gdf_39', 0.017622370708207408)]"
      ]
     },
     "execution_count": 40,
     "metadata": {},
     "output_type": "execute_result"
    }
   ],
   "source": [
    "pca_9061 = {}\n",
    "for k, v in get_pca(dfs, stock='9064', feature_name='pca_gdf_que1').items():\n",
    "    pca_9061[k] = v[0]\n",
    "sorted(pca_9061.items(), key=lambda x: (x[1],x[0]))"
   ]
  }
 ],
 "metadata": {
  "kernelspec": {
   "display_name": "Python 3",
   "language": "python",
   "name": "python3"
  },
  "language_info": {
   "codemirror_mode": {
    "name": "ipython",
    "version": 3
   },
   "file_extension": ".py",
   "mimetype": "text/x-python",
   "name": "python",
   "nbconvert_exporter": "python",
   "pygments_lexer": "ipython3",
   "version": "3.6.1"
  }
 },
 "nbformat": 4,
 "nbformat_minor": 2
}
