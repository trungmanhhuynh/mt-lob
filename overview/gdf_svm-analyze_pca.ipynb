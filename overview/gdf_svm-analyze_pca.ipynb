{
 "cells": [
  {
   "cell_type": "code",
   "execution_count": 1,
   "metadata": {},
   "outputs": [],
   "source": [
    "%load_ext autoreload\n",
    "\n",
    "%autoreload 2\n",
    "%matplotlib inline\n",
    "import pandas as pd\n",
    "import matplotlib.pyplot as plt\n",
    "import seaborn as sns\n",
    "from sklearn.cluster import KMeans\n",
    "from sklearn.svm import SVC\n",
    " \n",
    "from sklearn import metrics\n",
    "\n",
    "from mlxtend.plotting import plot_decision_regions\n",
    "from sklearn import preprocessing\n",
    "from sklearn.linear_model import LogisticRegression\n",
    "from ast import literal_eval\n",
    "\n",
    "from sklearn.decomposition import PCA\n",
    "import warnings\n",
    "import numpy as np\n",
    "from collections import OrderedDict\n",
    "\n",
    "from lob_data_utils import lob, db_result, model\n",
    "from lob_data_utils.svm_calculation import lob_svm\n",
    "import os\n",
    "\n",
    "\n",
    "sns.set_style('whitegrid')\n",
    "warnings.filterwarnings('ignore')"
   ]
  },
  {
   "cell_type": "code",
   "execution_count": 2,
   "metadata": {},
   "outputs": [],
   "source": [
    "data_length = 10000\n",
    "stocks = ['9064', '9061', '9265']"
   ]
  },
  {
   "cell_type": "code",
   "execution_count": 3,
   "metadata": {},
   "outputs": [],
   "source": [
    "def convert_scores(df, column):\n",
    "    scores = []\n",
    "    for i, row in df.iterrows():\n",
    "        try:\n",
    "            scores.append(np.mean(row[column]))\n",
    "        except:\n",
    "            scores.append(np.mean(np.array(literal_eval(row[column])).astype(np.float64)))\n",
    "    return scores\n",
    "scores_columns = ['f1', 'kappa', 'matthews', 'precision', 'recall', 'roc_auc', 'train_f1', 'train_kappa',\n",
    "       'train_matthews', 'train_precision', 'train_recall', 'train_roc_auc']"
   ]
  },
  {
   "cell_type": "code",
   "execution_count": 4,
   "metadata": {},
   "outputs": [
    {
     "name": "stdout",
     "output_type": "stream",
     "text": [
      "gdf_9064_len10000_r1.0_s1.0_K50\n",
      "gdf_9061_len10000_r1.0_s1.0_K50\n",
      "gdf_9265_len10000_r1.0_s1.0_K50\n"
     ]
    }
   ],
   "source": [
    "dfs = {}\n",
    "dfs_test = {}\n",
    "dfs_reg = {}\n",
    "dfs_reg_test = {}\n",
    "data_dir='../gaussian_filter/data_gdf'\n",
    "for stock in stocks:\n",
    "    r = 1.0\n",
    "    s = 1.0\n",
    "    gdf_filename = 'gdf_{}_len{}_r{}_s{}_K50'.format(stock, data_length, r, s)\n",
    "    reg_filename = '{}'.format(stock)\n",
    "    print(gdf_filename)\n",
    "    dfs[stock], dfs_test[stock] = lob.load_prepared_data(\n",
    "        gdf_filename, data_dir=data_dir, cv=False, length=data_length)\n",
    "    dfs_reg[stock], dfs_reg_test[stock] = lob.load_prepared_data(\n",
    "        reg_filename, data_dir='../gaussian_filter/data', cv=False, length=data_length)"
   ]
  },
  {
   "cell_type": "code",
   "execution_count": 5,
   "metadata": {},
   "outputs": [],
   "source": [
    "for stock in stocks:\n",
    "    dfs[stock]['queue_imbalance'] = dfs_reg[stock]['queue_imbalance']\n",
    "    dfs[stock]['prev_queue_imbalance'] = dfs[stock]['queue_imbalance'].shift()\n",
    "    dfs[stock].dropna(inplace=True)\n",
    "    dfs_test[stock]['queue_imbalance'] = dfs_reg_test[stock]['queue_imbalance']\n",
    "    dfs_test[stock]['prev_queue_imbalance'] = dfs_test[stock]['queue_imbalance'].shift()\n",
    "    dfs_test[stock].dropna(inplace=True)"
   ]
  },
  {
   "cell_type": "code",
   "execution_count": 6,
   "metadata": {},
   "outputs": [],
   "source": [
    "feature_columns_dict = {\n",
    "    'gdf_24-26_que_prev': ['gdf_24', 'gdf_25', 'queue_imbalance', 'prev_queue_imbalance'], \n",
    "    'pca_gdf_que3': ['gdf_{}'.format(i) for i in range(0, 50)] + ['queue_imbalance'],\n",
    "    'pca_gdf_que7': ['gdf_{}'.format(i) for i in range(0, 50)] + ['queue_imbalance'],\n",
    "}"
   ]
  },
  {
   "cell_type": "code",
   "execution_count": 35,
   "metadata": {},
   "outputs": [],
   "source": [
    "def get_number_of_pca_components(feature_name: str):\n",
    "    if 'pca_gdf_que_prev' in feature_name:\n",
    "        return int(feature_name.replace('pca_gdf_que_prev', ''))\n",
    "    if 'pca_gdf_que' in feature_name:\n",
    "        return int(feature_name.replace('pca_gdf_que', ''))\n",
    "    return None\n",
    "\n",
    "def get_pca(dfs, stock, feature_name):\n",
    "    df = dfs[stock][feature_columns_dict[feature_name]]\n",
    "    train_x = dfs[stock][feature_columns_dict[feature_name]]\n",
    "    n_components = get_number_of_pca_components(feature_name)\n",
    "    pca = None\n",
    "    if n_components:\n",
    "        pca = PCA(n_components=n_components)\n",
    "        pca.fit(train_x)\n",
    "        train_x = pca.transform(train_x)\n",
    "    else:\n",
    "        return None\n",
    "    return {k: v for v, k in zip(pca.transform(np.identity(df.shape[1])), df.columns)}\n",
    "#     return pd.DataFrame(\n",
    "#         pca.components_, columns=dfs[stock][feature_columns_dict[feature_name]].columns, \n",
    "#         index=['PC_{}'.format(i) for i in range(pca.n_components)])"
   ]
  },
  {
   "cell_type": "code",
   "execution_count": 36,
   "metadata": {},
   "outputs": [],
   "source": [
    "pca1 = get_pca(dfs, stock='9265', feature_name='pca_gdf_que3')\n",
    "pca2 = get_pca(dfs, stock='9061', feature_name='gdf_24-26_que_prev')\n",
    "pca3 = get_pca(dfs, stock='9064', feature_name='pca_gdf_que7')"
   ]
  },
  {
   "cell_type": "code",
   "execution_count": 39,
   "metadata": {},
   "outputs": [
    {
     "data": {
      "text/plain": [
       "{'gdf_0': array([ 0.01634983, -0.6006981 , -0.23097131,  0.20585547,  0.22575358,\n",
       "        -0.23938899,  0.21677998]),\n",
       " 'gdf_1': array([ 0.01647498, -0.59795531, -0.22972273,  0.19596229,  0.2112014 ,\n",
       "        -0.20428797,  0.17703729]),\n",
       " 'gdf_2': array([ 0.01655608, -0.59523115, -0.22747879,  0.18282889,  0.18906579,\n",
       "        -0.15995478,  0.12612774]),\n",
       " 'gdf_3': array([ 0.01657997, -0.59249857, -0.22425028,  0.16612836,  0.15977412,\n",
       "        -0.10834544,  0.06396481]),\n",
       " 'gdf_4': array([ 0.01657915, -0.5897468 , -0.21965481,  0.14462753,  0.12284755,\n",
       "        -0.04836414, -0.00733333]),\n",
       " 'gdf_5': array([ 0.01655214, -0.58706691, -0.21426254,  0.12211703,  0.0850272 ,\n",
       "         0.01031724, -0.07518165]),\n",
       " 'gdf_6': array([ 0.01650224, -0.58475028, -0.2079043 ,  0.09899451,  0.04667467,\n",
       "         0.06486314, -0.1300321 ]),\n",
       " 'gdf_7': array([ 0.01645215, -0.58258217, -0.2011979 ,  0.07567671,  0.00919847,\n",
       "         0.11196672, -0.16699912]),\n",
       " 'gdf_8': array([ 0.01643133, -0.58056317, -0.19419508,  0.05145779, -0.02692658,\n",
       "         0.1483877 , -0.18285404]),\n",
       " 'gdf_9': array([ 0.01646444, -0.57854586, -0.18705873,  0.02761636, -0.06130464,\n",
       "         0.1738402 , -0.18389263]),\n",
       " 'gdf_10': array([ 0.0164984 , -0.57650234, -0.17958508,  0.00333299, -0.09286645,\n",
       "         0.18780716, -0.17190499]),\n",
       " 'gdf_11': array([ 0.0165392 , -0.57441947, -0.17161125, -0.02057512, -0.12165106,\n",
       "         0.19062957, -0.14740925]),\n",
       " 'gdf_12': array([ 0.01659778, -0.57232456, -0.16314639, -0.043868  , -0.14688031,\n",
       "         0.18317179, -0.11261187]),\n",
       " 'gdf_13': array([ 0.01664127, -0.57039438, -0.15396288, -0.06605193, -0.16728886,\n",
       "         0.16348555, -0.06770118]),\n",
       " 'gdf_14': array([ 0.01666668, -0.56875729, -0.14430131, -0.0871747 , -0.1819965 ,\n",
       "         0.13390501, -0.01326148]),\n",
       " 'gdf_15': array([ 0.0166901 , -0.56729729, -0.13422621, -0.10775545, -0.19074508,\n",
       "         0.09760435,  0.04258339]),\n",
       " 'gdf_16': array([ 0.01673662, -0.56611953, -0.1237173 , -0.12732883, -0.19188527,\n",
       "         0.05647364,  0.09418669]),\n",
       " 'gdf_17': array([ 0.01677931, -0.56509624, -0.11266812, -0.14631283, -0.18494222,\n",
       "         0.01220002,  0.13962708]),\n",
       " 'gdf_18': array([ 0.01683256, -0.56426754, -0.10118753, -0.16445277, -0.1720924 ,\n",
       "        -0.03317972,  0.17435847]),\n",
       " 'gdf_19': array([ 0.01688562, -0.56352825, -0.08919993, -0.18083423, -0.15405725,\n",
       "        -0.07554278,  0.19301845]),\n",
       " 'gdf_20': array([ 0.01695575, -0.56303603, -0.07697828, -0.19402177, -0.13125243,\n",
       "        -0.11258682,  0.19281029]),\n",
       " 'gdf_21': array([ 0.0170558 , -0.56279714, -0.06462519, -0.20382848, -0.10481213,\n",
       "        -0.14325584,  0.17598938]),\n",
       " 'gdf_22': array([ 0.01714973, -0.56260913, -0.05177854, -0.21077334, -0.07600955,\n",
       "        -0.16845999,  0.14526168]),\n",
       " 'gdf_23': array([ 0.0172389 , -0.56268788, -0.03860572, -0.21492834, -0.04544151,\n",
       "        -0.18350856,  0.09964931]),\n",
       " 'gdf_24': array([ 0.01732173, -0.56303754, -0.02512099, -0.21658539, -0.01332144,\n",
       "        -0.19029855,  0.04339617]),\n",
       " 'gdf_25': array([ 0.01741826, -0.56417888,  0.00137044, -0.21189864,  0.05102019,\n",
       "        -0.18192235, -0.07745438]),\n",
       " 'gdf_26': array([ 0.01743128, -0.56517676,  0.01411093, -0.20509418,  0.08124277,\n",
       "        -0.16745036, -0.13011257]),\n",
       " 'gdf_27': array([ 0.01742016, -0.56650528,  0.02666608, -0.19570135,  0.10968333,\n",
       "        -0.14563977, -0.17288985]),\n",
       " 'gdf_28': array([ 0.01740978, -0.56802009,  0.03883633, -0.18394279,  0.13495193,\n",
       "        -0.11552769, -0.19994312]),\n",
       " 'gdf_29': array([ 0.01742482, -0.56965326,  0.0504182 , -0.16999982,  0.15622044,\n",
       "        -0.07906175, -0.20959063]),\n",
       " 'gdf_30': array([ 0.01748257, -0.57138977,  0.0617056 , -0.15448799,  0.17236867,\n",
       "        -0.03812208, -0.19853651]),\n",
       " 'gdf_31': array([ 0.01752531, -0.57319769,  0.07258339, -0.13698654,  0.1829058 ,\n",
       "         0.0044396 , -0.1704411 ]),\n",
       " 'gdf_32': array([ 0.0175444 , -0.57505777,  0.08287535, -0.11784482,  0.18773072,\n",
       "         0.04667168, -0.12743714]),\n",
       " 'gdf_33': array([ 0.01756853, -0.57707556,  0.09210354, -0.09850425,  0.18620726,\n",
       "         0.08491995, -0.07489415]),\n",
       " 'gdf_34': array([ 0.01756729, -0.57934261,  0.10081085, -0.07802479,  0.17806589,\n",
       "         0.11793009, -0.01530595]),\n",
       " 'gdf_35': array([ 0.01757016, -0.58169589,  0.10870525, -0.05755475,  0.16449812,\n",
       "         0.14541417,  0.04250802]),\n",
       " 'gdf_36': array([ 0.01759333, -0.5841583 ,  0.11555455, -0.03669812,  0.14624241,\n",
       "         0.16589726,  0.09567347]),\n",
       " 'gdf_37': array([ 0.01761426, -0.58676231,  0.12171609, -0.01515406,  0.12278766,\n",
       "         0.17868018,  0.13965326]),\n",
       " 'gdf_38': array([ 0.01761745, -0.5894496 ,  0.12727156,  0.00571947,  0.09626316,\n",
       "         0.18149976,  0.16782048]),\n",
       " 'gdf_39': array([ 0.01762237, -0.59210261,  0.13247665,  0.02666128,  0.06729492,\n",
       "         0.1746299 ,  0.18290924]),\n",
       " 'gdf_40': array([ 0.01760805, -0.59455372,  0.13726063,  0.04739988,  0.0366694 ,\n",
       "         0.15964634,  0.18393925]),\n",
       " 'gdf_41': array([ 0.01760748, -0.59682624,  0.14200159,  0.06800451,  0.00401817,\n",
       "         0.13619858,  0.1724594 ]),\n",
       " 'gdf_42': array([ 0.01761043, -0.59910132,  0.14650948,  0.08820148, -0.03056606,\n",
       "         0.10297855,  0.14681759]),\n",
       " 'gdf_43': array([ 0.01758517, -0.60141121,  0.15077747,  0.1085048 , -0.06579402,\n",
       "         0.05946002,  0.1054796 ]),\n",
       " 'gdf_44': array([ 0.0175249 , -0.60380067,  0.1545728 ,  0.1289866 , -0.10147189,\n",
       "         0.00661321,  0.0508196 ]),\n",
       " 'gdf_45': array([ 0.01745302, -0.60606632,  0.15778136,  0.14904398, -0.13597017,\n",
       "        -0.05198226, -0.0111279 ]),\n",
       " 'gdf_46': array([ 0.01736824, -0.60837249,  0.16029878,  0.16723331, -0.16718991,\n",
       "        -0.11242592, -0.07278056]),\n",
       " 'gdf_47': array([ 0.01736296, -0.61059304,  0.16223933,  0.18349371, -0.19557317,\n",
       "        -0.17147937, -0.13037363]),\n",
       " 'gdf_48': array([ 0.01744085, -0.61253004,  0.16363313,  0.19568901, -0.21916463,\n",
       "        -0.22215089, -0.17762077]),\n",
       " 'gdf_49': array([ 0.01757386, -0.61440326,  0.16431618,  0.20470676, -0.23567811,\n",
       "        -0.2615029 , -0.21024153]),\n",
       " 'queue_imbalance': array([-0.98200855, -0.72834854, -0.02445926, -0.03548526, -0.00119107,\n",
       "        -0.00126403, -0.00154716])}"
      ]
     },
     "execution_count": 39,
     "metadata": {},
     "output_type": "execute_result"
    }
   ],
   "source": [
    "pca3"
   ]
  }
 ],
 "metadata": {
  "kernelspec": {
   "display_name": "Python 3",
   "language": "python",
   "name": "python3"
  },
  "language_info": {
   "codemirror_mode": {
    "name": "ipython",
    "version": 3
   },
   "file_extension": ".py",
   "mimetype": "text/x-python",
   "name": "python",
   "nbconvert_exporter": "python",
   "pygments_lexer": "ipython3",
   "version": "3.6.5"
  }
 },
 "nbformat": 4,
 "nbformat_minor": 2
}
