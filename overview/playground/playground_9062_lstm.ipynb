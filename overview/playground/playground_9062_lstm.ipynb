{
 "cells": [
  {
   "cell_type": "code",
   "execution_count": 88,
   "metadata": {},
   "outputs": [
    {
     "name": "stdout",
     "output_type": "stream",
     "text": [
      "The autoreload extension is already loaded. To reload it, use:\n",
      "  %reload_ext autoreload\n"
     ]
    }
   ],
   "source": [
    "%load_ext autoreload\n",
    "\n",
    "%autoreload 2\n",
    "%matplotlib inline\n",
    "import pandas as pd\n",
    "import matplotlib.pyplot as plt\n",
    "import seaborn as sns\n",
    "from sklearn.cluster import KMeans\n",
    "from sklearn.svm import SVC\n",
    "from sklearn.metrics import roc_auc_score, roc_curve\n",
    "\n",
    "from sklearn import preprocessing\n",
    "from sklearn.linear_model import LogisticRegression\n",
    "from sklearn.decomposition import PCA\n",
    "from sklearn import metrics\n",
    "\n",
    "from keras.models import Sequential\n",
    "from keras.layers import Dense, Dropout, regularizers\n",
    "from keras.layers import LSTM\n",
    "\n",
    "\n",
    "from keras.models import Sequential\n",
    "from keras.layers import Dense\n",
    "from keras.layers import LSTM\n",
    "from keras.layers.embeddings import Embedding\n",
    "from keras.preprocessing import sequence\n",
    "\n",
    "\n",
    "import warnings\n",
    "import numpy as np\n",
    "from collections import OrderedDict\n",
    "\n",
    "import os\n",
    "\n",
    "from lob_data_utils import lob, db_result, gdf_pca, model\n",
    "from lob_data_utils.svm_calculation import lob_svm\n",
    "\n",
    "\n",
    "sns.set_style('whitegrid')\n",
    "warnings.filterwarnings('ignore')"
   ]
  },
  {
   "cell_type": "code",
   "execution_count": 2,
   "metadata": {},
   "outputs": [],
   "source": [
    "data_length = 24000\n",
    "stock = '9062'\n",
    "gdf_filename_pattern = 'gdf_{}_r{}_s{}_K50'\n",
    "gdf_parameters = [(0.1, 0.1), (0.01, 0.1), (0.1, 0.5), (0.01, 0.5)]"
   ]
  },
  {
   "cell_type": "code",
   "execution_count": 150,
   "metadata": {},
   "outputs": [
    {
     "data": {
      "text/html": [
       "<div>\n",
       "<style scoped>\n",
       "    .dataframe tbody tr th:only-of-type {\n",
       "        vertical-align: middle;\n",
       "    }\n",
       "\n",
       "    .dataframe tbody tr th {\n",
       "        vertical-align: top;\n",
       "    }\n",
       "\n",
       "    .dataframe thead th {\n",
       "        text-align: right;\n",
       "    }\n",
       "</style>\n",
       "<table border=\"1\" class=\"dataframe\">\n",
       "  <thead>\n",
       "    <tr style=\"text-align: right;\">\n",
       "      <th></th>\n",
       "      <th>matthews</th>\n",
       "      <th>roc_auc</th>\n",
       "      <th>test_matthews</th>\n",
       "      <th>test_roc_auc</th>\n",
       "      <th>train_matthews</th>\n",
       "      <th>train_roc_auc</th>\n",
       "      <th>train_val_matthews</th>\n",
       "      <th>train_val_roc_auc</th>\n",
       "    </tr>\n",
       "  </thead>\n",
       "  <tbody>\n",
       "    <tr>\n",
       "      <th>29</th>\n",
       "      <td>0.057241</td>\n",
       "      <td>0.528676</td>\n",
       "      <td>0.047951</td>\n",
       "      <td>0.524117</td>\n",
       "      <td>0.062033</td>\n",
       "      <td>0.531175</td>\n",
       "      <td>0.066864</td>\n",
       "      <td>0.533577</td>\n",
       "    </tr>\n",
       "  </tbody>\n",
       "</table>\n",
       "</div>"
      ],
      "text/plain": [
       "    matthews   roc_auc  test_matthews  test_roc_auc  train_matthews  \\\n",
       "29  0.057241  0.528676       0.047951      0.524117        0.062033   \n",
       "\n",
       "    train_roc_auc  train_val_matthews  train_val_roc_auc  \n",
       "29       0.531175            0.066864           0.533577  "
      ]
     },
     "execution_count": 150,
     "metadata": {},
     "output_type": "execute_result"
    }
   ],
   "source": [
    "df_log = pd.read_csv('../gdf_pca/res_log_que.csv')   \n",
    "df_log = df_log[df_log['stock'] == int(stock)]\n",
    "columns = [c for c in df_log.columns if 'matthews' in c or 'roc_auc' in c]\n",
    "df_log[columns]"
   ]
  },
  {
   "cell_type": "code",
   "execution_count": 3,
   "metadata": {},
   "outputs": [],
   "source": [
    "gdf_dfs = []\n",
    "for r, s in gdf_parameters:\n",
    "    gdf_dfs.append(gdf_pca.SvmGdfResults(\n",
    "        stock,  r=r, s=s, data_length=data_length, data_dir='~/shit2',\n",
    "        gdf_filename_pattern=gdf_filename_pattern))"
   ]
  },
  {
   "cell_type": "code",
   "execution_count": 4,
   "metadata": {},
   "outputs": [
    {
     "data": {
      "text/plain": [
       "Index(['Unnamed: 0', 'datetime', 'gdf_0', 'gdf_1', 'gdf_10', 'gdf_11',\n",
       "       'gdf_12', 'gdf_13', 'gdf_14', 'gdf_15', 'gdf_16', 'gdf_17', 'gdf_18',\n",
       "       'gdf_19', 'gdf_2', 'gdf_20', 'gdf_21', 'gdf_22', 'gdf_23', 'gdf_24',\n",
       "       'gdf_25', 'gdf_26', 'gdf_27', 'gdf_28', 'gdf_29', 'gdf_3', 'gdf_30',\n",
       "       'gdf_31', 'gdf_32', 'gdf_33', 'gdf_34', 'gdf_35', 'gdf_36', 'gdf_37',\n",
       "       'gdf_38', 'gdf_39', 'gdf_4', 'gdf_40', 'gdf_41', 'gdf_42', 'gdf_43',\n",
       "       'gdf_44', 'gdf_45', 'gdf_46', 'gdf_47', 'gdf_48', 'gdf_49', 'gdf_5',\n",
       "       'gdf_6', 'gdf_7', 'gdf_8', 'gdf_9', 'mid_price', 'mid_price_indicator',\n",
       "       'queue_imbalance', 'bid_price', 'ask_price', 'prev_queue_imbalance'],\n",
       "      dtype='object')"
      ]
     },
     "execution_count": 4,
     "metadata": {},
     "output_type": "execute_result"
    }
   ],
   "source": [
    "gdf_dfs[0].df.columns"
   ]
  },
  {
   "cell_type": "code",
   "execution_count": 117,
   "metadata": {},
   "outputs": [
    {
     "name": "stdout",
     "output_type": "stream",
     "text": [
      "3 {0.0: 0.9082694673100578, 1.0: 1.11234067207416}\n"
     ]
    }
   ],
   "source": [
    "df = gdf_dfs[2].df\n",
    "df_test = gdf_dfs[2].df_test\n",
    "n_components = gdf_dfs[2].get_pca('pca_n_gdf_que_prev').n_components_\n",
    "class_weights = gdf_dfs[2].get_classes_weights()\n",
    "print(n_components, class_weights)"
   ]
  },
  {
   "cell_type": "code",
   "execution_count": 118,
   "metadata": {},
   "outputs": [
    {
     "data": {
      "text/plain": [
       "<matplotlib.axes._subplots.AxesSubplot at 0x7fabaf623860>"
      ]
     },
     "execution_count": 118,
     "metadata": {},
     "output_type": "execute_result"
    },
    {
     "data": {
      "image/png": "[encoded data removed]",
      "text/plain": [
       "<Figure size 1152x288 with 1 Axes>"
      ]
     },
     "metadata": {},
     "output_type": "display_data"
    }
   ],
   "source": [
    "df[[c for c in df.columns if 'gdf' in c]].boxplot(figsize=(16, 4))"
   ]
  },
  {
   "cell_type": "code",
   "execution_count": 19,
   "metadata": {},
   "outputs": [],
   "source": [
    "def as_keras_metric(method):\n",
    "    import functools\n",
    "    from keras import backend as K\n",
    "    import tensorflow as tf\n",
    "    @functools.wraps(method)\n",
    "    def wrapper(self, args, **kwargs):\n",
    "        \"\"\" Wrapper for turning tensorflow metrics into keras metrics \"\"\"\n",
    "        value, update_op = method(self, args, **kwargs)\n",
    "        K.get_session().run(tf.local_variables_initializer())\n",
    "        with tf.control_dependencies([update_op]):\n",
    "            value = tf.identity(value)\n",
    "        return value\n",
    "    return wrapper\n",
    "import tensorflow as tf\n",
    "auc_roc = as_keras_metric(tf.metrics.auc)"
   ]
  },
  {
   "cell_type": "code",
   "execution_count": 119,
   "metadata": {},
   "outputs": [
    {
     "name": "stdout",
     "output_type": "stream",
     "text": [
      "3\n",
      "(19199, 3)\n",
      "(4799, 3)\n"
     ]
    }
   ],
   "source": [
    "X_train = df[[gdf for gdf in df.columns if 'gdf' in gdf or 'queue' in gdf]].values\n",
    "y_train = df['mid_price_indicator'].values\n",
    "\n",
    "print(n_components)\n",
    "pca = PCA(n_components=n_components)\n",
    "pca.fit(X_train)\n",
    "X_train = pca.transform(X_train)\n",
    "\n",
    "X_test = df_test[[gdf for gdf in df_test.columns if 'gdf' in gdf or 'queue' in gdf]].values\n",
    "y_test = df_test['mid_price_indicator'].values\n",
    "X_test = pca.transform(X_test)\n",
    "\n",
    "print(X_train.shape)\n",
    "print(X_test.shape)\n"
   ]
  },
  {
   "cell_type": "code",
   "execution_count": 120,
   "metadata": {},
   "outputs": [
    {
     "data": {
      "text/plain": [
       "<matplotlib.collections.PathCollection at 0x7fabae3e34e0>"
      ]
     },
     "execution_count": 120,
     "metadata": {},
     "output_type": "execute_result"
    },
    {
     "data": {
      "image/png": "[encoded data removed]",
      "text/plain": [
       "<Figure size 432x288 with 1 Axes>"
      ]
     },
     "metadata": {},
     "output_type": "display_data"
    }
   ],
   "source": [
    "plt.scatter(X_train[:, 0], X_train[:, 1], c=y_train)"
   ]
  },
  {
   "cell_type": "code",
   "execution_count": 121,
   "metadata": {},
   "outputs": [
    {
     "name": "stdout",
     "output_type": "stream",
     "text": [
      "Epoch 1/4\n",
      "19199/19199 [==============================] - 15s 805us/step - loss: 0.6970 - auc: 0.5272\n",
      "Epoch 2/4\n",
      "19199/19199 [==============================] - 8s 415us/step - loss: 0.6941 - auc: 0.5234\n",
      "Epoch 3/4\n",
      "19199/19199 [==============================] - 8s 413us/step - loss: 0.6925 - auc: 0.5246\n",
      "Epoch 4/4\n",
      "19199/19199 [==============================] - 8s 415us/step - loss: 0.6924 - auc: 0.5267\n",
      "_________________________________________________________________\n",
      "Layer (type)                 Output Shape              Param #   \n",
      "=================================================================\n",
      "dense_137 (Dense)            (None, 8)                 32        \n",
      "_________________________________________________________________\n",
      "dense_138 (Dense)            (None, 16)                144       \n",
      "_________________________________________________________________\n",
      "dense_139 (Dense)            (None, 32)                544       \n",
      "_________________________________________________________________\n",
      "dropout_16 (Dropout)         (None, 32)                0         \n",
      "_________________________________________________________________\n",
      "dense_140 (Dense)            (None, 64)                2112      \n",
      "_________________________________________________________________\n",
      "dropout_17 (Dropout)         (None, 64)                0         \n",
      "_________________________________________________________________\n",
      "dense_141 (Dense)            (None, 128)               8320      \n",
      "_________________________________________________________________\n",
      "dropout_18 (Dropout)         (None, 128)               0         \n",
      "_________________________________________________________________\n",
      "dense_142 (Dense)            (None, 256)               33024     \n",
      "_________________________________________________________________\n",
      "dropout_19 (Dropout)         (None, 256)               0         \n",
      "_________________________________________________________________\n",
      "dense_143 (Dense)            (None, 1)                 257       \n",
      "=================================================================\n",
      "Total params: 44,433\n",
      "Trainable params: 44,433\n",
      "Non-trainable params: 0\n",
      "_________________________________________________________________\n",
      "None\n"
     ]
    }
   ],
   "source": [
    "max_features = 1024\n",
    "model = Sequential()\n",
    "# model.add(LSTM(6))\n",
    "model.add(Dense(8, activation='tanh'))\n",
    "model.add(Dense(16, activation='tanh'))\n",
    "model.add(Dense(32, activation='tanh'))\n",
    "model.add(Dropout(rate=0.25))\n",
    "model.add(Dense(64, activation='tanh'))\n",
    "model.add(Dropout(rate=0.25))\n",
    "model.add(Dense(128, activation='tanh'))\n",
    "model.add(Dropout(rate=0.5))\n",
    "model.add(Dense(256, activation='tanh'))\n",
    "model.add(Dropout(rate=0.5))\n",
    "model.add(Dense(1, activation='sigmoid'))\n",
    "model.compile(loss='binary_crossentropy', optimizer='adam', metrics=[auc_roc])\n",
    "\n",
    "model.fit(X_train, y_train, shuffle=False, \n",
    "          epochs=4, batch_size=50, class_weight=class_weights)\n",
    "print(model.summary())"
   ]
  },
  {
   "cell_type": "code",
   "execution_count": 122,
   "metadata": {},
   "outputs": [
    {
     "name": "stdout",
     "output_type": "stream",
     "text": [
      "0.5179348722219899 0.5292410673906186\n",
      "0.03713836599936981 0.06220184117841557\n"
     ]
    }
   ],
   "source": [
    "pred_test = model.predict_classes(X_test)\n",
    "pred = model.predict_classes(X_train)\n",
    "\n",
    "print(metrics.roc_auc_score(y_test, pred_test), metrics.roc_auc_score(y_train, pred))\n",
    "print(metrics.matthews_corrcoef(y_test, pred_test), metrics.matthews_corrcoef(y_train, pred))"
   ]
  },
  {
   "cell_type": "code",
   "execution_count": null,
   "metadata": {},
   "outputs": [],
   "source": []
  },
  {
   "cell_type": "code",
   "execution_count": 126,
   "metadata": {},
   "outputs": [],
   "source": [
    "model = Sequential()\n",
    "model.add(LSTM(6))\n",
    "model.add(Dense(1, activation='sigmoid'))\n",
    "model.compile(loss='binary_crossentropy', optimizer='adam', metrics=[auc_roc])"
   ]
  },
  {
   "cell_type": "code",
   "execution_count": 127,
   "metadata": {},
   "outputs": [
    {
     "name": "stdout",
     "output_type": "stream",
     "text": [
      "Epoch 1/3\n",
      "8725/8725 [==============================] - 13s 1ms/step - loss: 0.6904 - auc: 0.5458\n",
      "Epoch 2/3\n",
      "8725/8725 [==============================] - 4s 465us/step - loss: 0.6897 - auc: 0.5486 1s - loss: 0\n",
      "Epoch 3/3\n",
      "8725/8725 [==============================] - 3s 396us/step - loss: 0.6893 - auc: 0.5481\n",
      "Epoch 1/3\n",
      "8725/8725 [==============================] - 11s 1ms/step - loss: 0.6896 - auc: 0.5496\n",
      "Epoch 2/3\n",
      "8725/8725 [==============================] - 2s 225us/step - loss: 0.6896 - auc: 0.5480\n",
      "Epoch 3/3\n",
      "8725/8725 [==============================] - 2s 252us/step - loss: 0.6896 - auc: 0.5475\n",
      "Epoch 1/3\n",
      "8725/8725 [==============================] - 15s 2ms/step - loss: 0.6896 - auc: 0.5386\n",
      "Epoch 2/3\n",
      "8725/8725 [==============================] - 3s 377us/step - loss: 0.6896 - auc: 0.5450\n",
      "Epoch 3/3\n",
      "8725/8725 [==============================] - 3s 301us/step - loss: 0.6896 - auc: 0.5450\n",
      "Epoch 1/3\n",
      "8725/8725 [==============================] - 12s 1ms/step - loss: 0.6899 - auc: 0.5388\n",
      "Epoch 2/3\n",
      "8725/8725 [==============================] - 4s 427us/step - loss: 0.6899 - auc: 0.5423\n",
      "Epoch 3/3\n",
      "8725/8725 [==============================] - 4s 476us/step - loss: 0.6899 - auc: 0.5425 3s - lo\n",
      "Epoch 1/3\n",
      "8725/8725 [==============================] - 11s 1ms/step - loss: 0.6909 - auc: 0.5382\n",
      "Epoch 2/3\n",
      "8725/8725 [==============================] - 2s 272us/step - loss: 0.6908 - auc: 0.5432\n",
      "Epoch 3/3\n",
      "8725/8725 [==============================] - 3s 311us/step - loss: 0.6908 - auc: 0.5433\n",
      "Epoch 1/3\n",
      "19199/19199 [==============================] - 9s 457us/step - loss: 0.6904 - auc: 0.5448 3s - loss: 0.6 - ETA: 1s \n",
      "Epoch 2/3\n",
      "19199/19199 [==============================] - 7s 374us/step - loss: 0.6904 - auc: 0.5440\n",
      "Epoch 3/3\n",
      "19199/19199 [==============================] - 6s 300us/step - loss: 0.6904 - auc: 0.5437\n",
      "Epoch 1/3\n",
      "19199/19199 [==============================] - 19s 966us/step - loss: 0.6904 - auc: 0.5476\n",
      "Epoch 2/3\n",
      "19199/19199 [==============================] - 9s 478us/step - loss: 0.6904 - auc: 0.5443\n",
      "Epoch 3/3\n",
      "19199/19199 [==============================] - 8s 427us/step - loss: 0.6904 - auc: 0.5437\n",
      "Epoch 1/3\n",
      "19199/19199 [==============================] - 14s 754us/step - loss: 0.6904 - auc: 0.5477\n",
      "Epoch 2/3\n",
      "19199/19199 [==============================] - 5s 242us/step - loss: 0.6904 - auc: 0.5443\n",
      "Epoch 3/3\n",
      "19199/19199 [==============================] - 5s 282us/step - loss: 0.6904 - auc: 0.5437\n"
     ]
    }
   ],
   "source": [
    "epochs = 3\n",
    "batch_size = 10\n",
    "score = gdf_dfs[2].train_lstm(\n",
    "    model, feature_name='que', plot_name='here.png',\n",
    "    fit_kwargs={'epochs': epochs, 'batch_size': batch_size, 'verbose': 1, 'shuffle': False}, \n",
    "    class_weight=class_weights,\n",
    "    compile_kwargs= { 'loss': 'binary_crossentropy', 'optimizer': 'adam', 'metrics': [auc_roc]})"
   ]
  },
  {
   "cell_type": "code",
   "execution_count": 128,
   "metadata": {},
   "outputs": [
    {
     "data": {
      "text/plain": [
       "{'precision': 0.48078399240548214,\n",
       " 'f1': 0.4951621610855529,\n",
       " 'recall': 0.5117284686732922,\n",
       " 'roc_auc': 0.5287147738330024,\n",
       " 'kappa': 0.057134601024832386,\n",
       " 'matthews': 0.057290024233485295,\n",
       " 'train_val_precision': 0.4821217747265264,\n",
       " 'train_val_f1': 0.5056294422314384,\n",
       " 'train_val_recall': 0.5318953323073748,\n",
       " 'train_val_roc_auc': 0.533843056803835,\n",
       " 'train_val_kappa': 0.06704884507492123,\n",
       " 'train_val_matthews': 0.06738439157309774,\n",
       " 'train_precision': 0.48281114012184506,\n",
       " 'train_f1': 0.49803613511390415,\n",
       " 'train_recall': 0.514252607184241,\n",
       " 'train_roc_auc': 0.5322232853311687,\n",
       " 'train_kappa': 0.06406387578862038,\n",
       " 'train_matthews': 0.06417490015487604,\n",
       " 'stock': '9062',\n",
       " 'kernel': 'lstm',\n",
       " 'features': 'que',\n",
       " 'pca_components': None,\n",
       " 'test_precision': 0.46881720430107526,\n",
       " 'test_f1': 0.48857014791573283,\n",
       " 'test_recall': 0.5100608329433786,\n",
       " 'test_roc_auc': 0.5230619716933271,\n",
       " 'test_kappa': 0.045727254792748306,\n",
       " 'test_matthews': 0.04586922377300537}"
      ]
     },
     "execution_count": 128,
     "metadata": {},
     "output_type": "execute_result"
    }
   ],
   "source": [
    "score"
   ]
  },
  {
   "cell_type": "code",
   "execution_count": null,
   "metadata": {},
   "outputs": [],
   "source": []
  },
  {
   "cell_type": "code",
   "execution_count": null,
   "metadata": {},
   "outputs": [],
   "source": [
    "# More time steps"
   ]
  },
  {
   "cell_type": "code",
   "execution_count": 129,
   "metadata": {},
   "outputs": [],
   "source": [
    "def split_sequences(sequences, labels, n_steps):\n",
    "    X, y = list(), list()\n",
    "    for i in range(len(sequences)):\n",
    "        end_ix = i + n_steps\n",
    "        # check if we are beyond the dataset\n",
    "        if end_ix > len(sequences):\n",
    "            break\n",
    "        # gather input and output parts of the pattern\n",
    "        seq_x = sequences[i:end_ix] \n",
    "        lab = labels[end_ix-1]\n",
    "        X.append(seq_x)\n",
    "        y.append(lab)\n",
    "    return np.array(X), np.array(y)"
   ]
  },
  {
   "cell_type": "code",
   "execution_count": 130,
   "metadata": {},
   "outputs": [
    {
     "name": "stdout",
     "output_type": "stream",
     "text": [
      "(19195, 5, 3)\n",
      "(4795, 5, 3)\n"
     ]
    }
   ],
   "source": [
    "X_train = df[[gdf for gdf in df.columns if 'gdf' in gdf or 'queue' in gdf]].values\n",
    "y_train = df['mid_price_indicator'].values\n",
    "pca = PCA(n_components=n_components)\n",
    "pca.fit(X_train)\n",
    "X_train = pca.transform(X_train)\n",
    "\n",
    "X_test = df_test[[gdf for gdf in df_test.columns if 'gdf' in gdf or 'queue' in gdf]].values\n",
    "y_test = df_test['mid_price_indicator'].values\n",
    "X_test = pca.transform(X_test)\n",
    "\n",
    "X_train, y_train = split_sequences(X_train, y_train, n_steps=5)\n",
    "X_test, y_test = split_sequences(X_test, y_test, n_steps=5)\n",
    "\n",
    "\n",
    "\n",
    "#X_test= np.reshape(X_test, (X_test.shape[0], 1, 3))\n",
    "#X_train = np.reshape(X_train, (X_train.shape[0], 1, 3))\n",
    "print(X_train.shape)\n",
    "print(X_test.shape)"
   ]
  },
  {
   "cell_type": "code",
   "execution_count": 146,
   "metadata": {},
   "outputs": [
    {
     "name": "stdout",
     "output_type": "stream",
     "text": [
      "Epoch 1/7\n",
      "19195/19195 [==============================] - 31s 2ms/step - loss: 0.6916 - auc: 0.5256\n",
      "Epoch 2/7\n",
      "19195/19195 [==============================] - 9s 483us/step - loss: 0.6909 - auc: 0.5365\n",
      "Epoch 3/7\n",
      "19195/19195 [==============================] - 10s 504us/step - loss: 0.6908 - auc: 0.5375\n",
      "Epoch 4/7\n",
      "19195/19195 [==============================] - 9s 477us/step - loss: 0.6908 - auc: 0.5381\n",
      "Epoch 5/7\n",
      "19195/19195 [==============================] - 10s 523us/step - loss: 0.6908 - auc: 0.5384\n",
      "Epoch 6/7\n",
      "19195/19195 [==============================] - 11s 594us/step - loss: 0.6907 - auc: 0.5388\n",
      "Epoch 7/7\n",
      "19195/19195 [==============================] - 10s 511us/step - loss: 0.6907 - auc: 0.5390\n",
      "_________________________________________________________________\n",
      "Layer (type)                 Output Shape              Param #   \n",
      "=================================================================\n",
      "lstm_21 (LSTM)               (None, 128)               67584     \n",
      "_________________________________________________________________\n",
      "dense_173 (Dense)            (None, 64)                8256      \n",
      "_________________________________________________________________\n",
      "dense_174 (Dense)            (None, 32)                2080      \n",
      "_________________________________________________________________\n",
      "dense_175 (Dense)            (None, 16)                528       \n",
      "_________________________________________________________________\n",
      "dense_176 (Dense)            (None, 8)                 136       \n",
      "_________________________________________________________________\n",
      "dense_177 (Dense)            (None, 4)                 36        \n",
      "_________________________________________________________________\n",
      "dense_178 (Dense)            (None, 2)                 10        \n",
      "_________________________________________________________________\n",
      "dense_179 (Dense)            (None, 1)                 3         \n",
      "=================================================================\n",
      "Total params: 78,633\n",
      "Trainable params: 78,633\n",
      "Non-trainable params: 0\n",
      "_________________________________________________________________\n",
      "None\n"
     ]
    }
   ],
   "source": [
    "max_features = 1024\n",
    "model = Sequential()\n",
    "model.add(LSTM(128, input_shape=(5, 3)))\n",
    "model.add(Dense(64, activation='tanh'))\n",
    "model.add(Dense(32, activation='tanh'))\n",
    "model.add(Dense(16, activation='tanh'))\n",
    "model.add(Dense(8, activation='tanh'))\n",
    "model.add(Dense(4, activation='tanh'))\n",
    "model.add(Dense(2, activation='tanh'))\n",
    "model.add(Dense(1, activation='sigmoid'))\n",
    "model.compile(loss='binary_crossentropy', optimizer='adam', metrics=[auc_roc])\n",
    "\n",
    "model.fit(X_train, y_train, shuffle=False, \n",
    "          epochs=7, batch_size=50, class_weight=class_weights)\n",
    "print(model.summary())"
   ]
  },
  {
   "cell_type": "code",
   "execution_count": 148,
   "metadata": {},
   "outputs": [
    {
     "name": "stdout",
     "output_type": "stream",
     "text": [
      "0.5231634413903612 0.5311473877155106\n",
      "0.046179426330006275 0.06291341882450528\n"
     ]
    }
   ],
   "source": [
    "pred_test = model.predict_classes(X_test)\n",
    "pred = model.predict_classes(X_train)\n",
    "\n",
    "print(metrics.roc_auc_score(y_test, pred_test), metrics.roc_auc_score(y_train, pred))\n",
    "print(metrics.matthews_corrcoef(y_test, pred_test), metrics.matthews_corrcoef(y_train, pred))"
   ]
  },
  {
   "cell_type": "code",
   "execution_count": 142,
   "metadata": {},
   "outputs": [],
   "source": [
    "## With validation"
   ]
  },
  {
   "cell_type": "code",
   "execution_count": 202,
   "metadata": {},
   "outputs": [],
   "source": [
    "model = Sequential()\n",
    "model.add(LSTM(512, input_shape=(2, 2)))\n",
    "model.add(Dropout(rate=0.5))\n",
    "model.add(Dense(256, activation='tanh'))\n",
    "model.add(Dense(128, activation='tanh'))\n",
    "model.add(Dense(64, activation='tanh'))\n",
    "model.add(Dense(32, activation='tanh'))\n",
    "model.add(Dense(16, activation='tanh'))\n",
    "model.add(Dense(8, activation='tanh'))\n",
    "model.add(Dense(4, activation='tanh'))\n",
    "model.add(Dense(2, activation='tanh'))\n",
    "model.add(Dense(1, activation='sigmoid'))\n",
    "model.compile(loss='binary_crossentropy', optimizer='adam', metrics=[auc_roc])"
   ]
  },
  {
   "cell_type": "code",
   "execution_count": 203,
   "metadata": {},
   "outputs": [
    {
     "name": "stdout",
     "output_type": "stream",
     "text": [
      "Epoch 1/3\n",
      "8725/8725 [==============================] - 37s 4ms/step - loss: 0.6933 - auc: 0.5133\n",
      "Epoch 2/3\n",
      "8725/8725 [==============================] - 19s 2ms/step - loss: 0.6923 - auc: 0.5215\n",
      "Epoch 3/3\n",
      "8725/8725 [==============================] - 19s 2ms/step - loss: 0.6924 - auc: 0.5232\n",
      "Epoch 1/3\n",
      "8725/8725 [==============================] - 38s 4ms/step - loss: 0.6933 - auc: 0.5130\n",
      "Epoch 2/3\n",
      "8725/8725 [==============================] - 17s 2ms/step - loss: 0.6935 - auc: 0.5065\n",
      "Epoch 3/3\n",
      "8725/8725 [==============================] - 17s 2ms/step - loss: 0.6929 - auc: 0.5071\n",
      "Epoch 1/3\n",
      "8725/8725 [==============================] - 34s 4ms/step - loss: 0.6933 - auc: 0.4734\n",
      "Epoch 2/3\n",
      "8725/8725 [==============================] - 17s 2ms/step - loss: 0.6931 - auc: 0.4915\n",
      "Epoch 3/3\n",
      "8725/8725 [==============================] - 17s 2ms/step - loss: 0.6931 - auc: 0.4929\n",
      "Epoch 1/3\n",
      "8725/8725 [==============================] - 34s 4ms/step - loss: 0.6930 - auc: 0.4849\n",
      "Epoch 2/3\n",
      "8725/8725 [==============================] - 17s 2ms/step - loss: 0.6929 - auc: 0.4946\n",
      "Epoch 3/3\n",
      "8725/8725 [==============================] - 17s 2ms/step - loss: 0.6929 - auc: 0.4937\n",
      "Epoch 1/3\n",
      "8725/8725 [==============================] - 35s 4ms/step - loss: 0.6940 - auc: 0.4886\n",
      "Epoch 2/3\n",
      "8725/8725 [==============================] - 17s 2ms/step - loss: 0.6940 - auc: 0.4931\n",
      "Epoch 3/3\n",
      "8725/8725 [==============================] - 17s 2ms/step - loss: 0.6940 - auc: 0.4931\n",
      "Epoch 1/3\n",
      "19198/19198 [==============================] - 38s 2ms/step - loss: 0.6934 - auc: 0.4959\n",
      "Epoch 2/3\n",
      "19198/19198 [==============================] - 38s 2ms/step - loss: 0.6934 - auc: 0.4959\n",
      "Epoch 3/3\n",
      "19198/19198 [==============================] - 41s 2ms/step - loss: 0.6934 - auc: 0.4957\n",
      "Epoch 1/3\n",
      "19198/19198 [==============================] - 55s 3ms/step - loss: 0.6934 - auc: 0.4911\n",
      "Epoch 2/3\n",
      "19198/19198 [==============================] - 39s 2ms/step - loss: 0.6934 - auc: 0.4948\n",
      "Epoch 3/3\n",
      "19198/19198 [==============================] - 39s 2ms/step - loss: 0.6934 - auc: 0.4944\n",
      "Epoch 1/3\n",
      "19198/19198 [==============================] - 58s 3ms/step - loss: 0.6934 - auc: 0.4910\n",
      "Epoch 2/3\n",
      "19198/19198 [==============================] - 39s 2ms/step - loss: 0.6934 - auc: 0.4948\n",
      "Epoch 3/3\n",
      "19198/19198 [==============================] - 39s 2ms/step - loss: 0.6934 - auc: 0.4943\n"
     ]
    }
   ],
   "source": [
    "epochs = 3\n",
    "batch_size = 25\n",
    "score = gdf_dfs[0].train_lstm(\n",
    "    model, feature_name='pca_n_gdf_que_prev', plot_name='here.png', n_steps=2,\n",
    "    fit_kwargs={'epochs': epochs, 'batch_size': batch_size, 'verbose': 1, 'shuffle': False}, \n",
    "    class_weight=class_weights,\n",
    "    compile_kwargs= { 'loss': 'binary_crossentropy', 'optimizer': 'adam', 'metrics': [auc_roc]})"
   ]
  },
  {
   "cell_type": "code",
   "execution_count": 204,
   "metadata": {},
   "outputs": [
    {
     "data": {
      "text/plain": [
       "(0.00843709030374834, 0.0, 0.5042339016032436, 0.5)"
      ]
     },
     "execution_count": 204,
     "metadata": {},
     "output_type": "execute_result"
    }
   ],
   "source": [
    "score['matthews'], score['test_matthews'], score['roc_auc'], score['test_roc_auc']"
   ]
  },
  {
   "cell_type": "code",
   "execution_count": 205,
   "metadata": {},
   "outputs": [],
   "source": [
    "model = Sequential()\n",
    "model.add(LSTM(8, input_shape=(2, 1)))\n",
    "model.add(Dense(1, activation='sigmoid'))\n",
    "model.compile(loss='binary_crossentropy', optimizer='adam', metrics=[auc_roc])"
   ]
  },
  {
   "cell_type": "code",
   "execution_count": 208,
   "metadata": {},
   "outputs": [
    {
     "name": "stdout",
     "output_type": "stream",
     "text": [
      "Epoch 1/3\n",
      "8725/8725 [==============================] - 48s 5ms/step - loss: 0.6892 - auc: 0.5493\n",
      "Epoch 2/3\n",
      "8725/8725 [==============================] - 7s 847us/step - loss: 0.6892 - auc: 0.5497\n",
      "Epoch 3/3\n",
      "8725/8725 [==============================] - 9s 1ms/step - loss: 0.6892 - auc: 0.5493\n",
      "Epoch 1/3\n",
      "8725/8725 [==============================] - 50s 6ms/step - loss: 0.6896 - auc: 0.5506\n",
      "Epoch 2/3\n",
      "8725/8725 [==============================] - 9s 978us/step - loss: 0.6896 - auc: 0.5472\n",
      "Epoch 3/3\n",
      "8725/8725 [==============================] - 7s 852us/step - loss: 0.6896 - auc: 0.5467\n",
      "Epoch 1/3\n",
      "8725/8725 [==============================] - 55s 6ms/step - loss: 0.6897 - auc: 0.5380\n",
      "Epoch 2/3\n",
      "8725/8725 [==============================] - 11s 1ms/step - loss: 0.6897 - auc: 0.5440\n",
      "Epoch 3/3\n",
      "8725/8725 [==============================] - 7s 856us/step - loss: 0.6897 - auc: 0.5439\n",
      "Epoch 1/3\n",
      "8725/8725 [==============================] - 59s 7ms/step - loss: 0.6899 - auc: 0.5395\n",
      "Epoch 2/3\n",
      "8725/8725 [==============================] - 7s 825us/step - loss: 0.6898 - auc: 0.5417\n",
      "Epoch 3/3\n",
      "8725/8725 [==============================] - 6s 725us/step - loss: 0.6898 - auc: 0.5418\n",
      "Epoch 1/3\n",
      "8725/8725 [==============================] - 39s 4ms/step - loss: 0.6910 - auc: 0.5400\n",
      "Epoch 2/3\n",
      "8725/8725 [==============================] - 8s 929us/step - loss: 0.6909 - auc: 0.5426\n",
      "Epoch 3/3\n",
      "8725/8725 [==============================] - 7s 829us/step - loss: 0.6909 - auc: 0.5427\n",
      "Epoch 1/3\n",
      "19198/19198 [==============================] - 37s 2ms/step - loss: 0.6904 - auc: 0.5442\n",
      "Epoch 2/3\n",
      "19198/19198 [==============================] - 44s 2ms/step - loss: 0.6904 - auc: 0.5435\n",
      "Epoch 3/3\n",
      "19198/19198 [==============================] - 22s 1ms/step - loss: 0.6904 - auc: 0.5432\n",
      "Epoch 1/3\n",
      "19198/19198 [==============================] - 110s 6ms/step - loss: 0.6904 - auc: 0.5480\n",
      "Epoch 2/3\n",
      "19198/19198 [==============================] - 40s 2ms/step - loss: 0.6904 - auc: 0.5438\n",
      "Epoch 3/3\n",
      "19198/19198 [==============================] - 33s 2ms/step - loss: 0.6904 - auc: 0.5431\n",
      "Epoch 1/3\n",
      "19198/19198 [==============================] - 52s 3ms/step - loss: 0.6904 - auc: 0.5477\n",
      "Epoch 2/3\n",
      "19198/19198 [==============================] - 24s 1ms/step - loss: 0.6904 - auc: 0.5438\n",
      "Epoch 3/3\n",
      "19198/19198 [==============================] - 15s 785us/step - loss: 0.6904 - auc: 0.5431\n"
     ]
    }
   ],
   "source": [
    "epochs = 3\n",
    "batch_size = 25\n",
    "score = gdf_dfs[1].train_lstm(\n",
    "    model, feature_name='pca_n_gdf_que', plot_name='here.png', n_steps=2,\n",
    "    fit_kwargs={'epochs': epochs, 'batch_size': batch_size, 'verbose': 1, 'shuffle': False}, \n",
    "    class_weight=class_weights,\n",
    "    compile_kwargs= { 'loss': 'binary_crossentropy', 'optimizer': 'adam', 'metrics': [auc_roc]})"
   ]
  },
  {
   "cell_type": "code",
   "execution_count": 209,
   "metadata": {},
   "outputs": [
    {
     "data": {
      "text/plain": [
       "(0.058865640163601886,\n",
       " 0.05058573811750905,\n",
       " 0.5293542807878525,\n",
       " 0.5253009480073275)"
      ]
     },
     "execution_count": 209,
     "metadata": {},
     "output_type": "execute_result"
    }
   ],
   "source": [
    "score['matthews'], score['test_matthews'], score['roc_auc'], score['test_roc_auc']"
   ]
  },
  {
   "cell_type": "code",
   "execution_count": 210,
   "metadata": {},
   "outputs": [],
   "source": [
    "score = {**score, 'arch': model.to_json(), 'batch_size': batch_size, 'n_steps': 2, 'epochs': epochs, \n",
    "         'r': gdf_dfs[1].r, 's': gdf_dfs[1].s}\n",
    "pd.DataFrame([score]).to_csv(\n",
    "    '../gdf_pca/res_lstm_weird/res_lstm_pca_que_{}_len24000_r{}_s{}.csv'.format(stock, gdf_dfs[1].r, gdf_dfs[1].s))"
   ]
  }
 ],
 "metadata": {
  "kernelspec": {
   "display_name": "Python 3",
   "language": "python",
   "name": "python3"
  },
  "language_info": {
   "codemirror_mode": {
    "name": "ipython",
    "version": 3
   },
   "file_extension": ".py",
   "mimetype": "text/x-python",
   "name": "python",
   "nbconvert_exporter": "python",
   "pygments_lexer": "ipython3",
   "version": "3.6.5"
  }
 },
 "nbformat": 4,
 "nbformat_minor": 2
}
