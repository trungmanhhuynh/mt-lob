{
 "cells": [
  {
   "cell_type": "code",
   "execution_count": 1,
   "metadata": {},
   "outputs": [
    {
     "name": "stderr",
     "output_type": "stream",
     "text": [
      "Using TensorFlow backend.\n"
     ]
    }
   ],
   "source": [
    "%load_ext autoreload\n",
    "\n",
    "%autoreload 2\n",
    "%matplotlib inline\n",
    "import functools\n",
    "import pandas as pd\n",
    "import matplotlib.pyplot as plt\n",
    "import seaborn as sns\n",
    "from sklearn.cluster import KMeans\n",
    "from sklearn.svm import SVC\n",
    "from sklearn.metrics import roc_auc_score, roc_curve\n",
    "\n",
    "from sklearn import preprocessing\n",
    "from sklearn.linear_model import LogisticRegression\n",
    "from sklearn.decomposition import PCA\n",
    "from sklearn import metrics\n",
    "\n",
    "from keras.models import Sequential\n",
    "from keras.layers import Dense, Dropout\n",
    "from keras.layers import LSTM\n",
    "\n",
    "\n",
    "from keras.models import Sequential\n",
    "from keras.layers import Dense\n",
    "from keras.layers import LSTM\n",
    "from keras.layers.embeddings import Embedding\n",
    "from keras.preprocessing import sequence\n",
    "\n",
    "\n",
    "import warnings\n",
    "import numpy as np\n",
    "from collections import OrderedDict\n",
    "\n",
    "import os\n",
    "\n",
    "from lob_data_utils import lob, db_result, gdf_pca, model\n",
    "from lob_data_utils.svm_calculation import lob_svm\n",
    "\n",
    "\n",
    "from keras import backend as K\n",
    "\n",
    "sns.set_style('whitegrid')\n",
    "warnings.filterwarnings('ignore')\n",
    "import tensorflow as tf\n",
    "def as_keras_metric(method):\n",
    "    @functools.wraps(method)\n",
    "    def wrapper(self, args, **kwargs):\n",
    "        \"\"\" Wrapper for turning tensorflow metrics into keras metrics \"\"\"\n",
    "        value, update_op = method(self, args, **kwargs)\n",
    "        K.get_session().run(tf.local_variables_initializer())\n",
    "        with tf.control_dependencies([update_op]):\n",
    "            value = tf.identity(value)\n",
    "        return value\n",
    "\n",
    "    return wrapper\n",
    "\n",
    "\n",
    "auc_roc = as_keras_metric(tf.metrics.auc)"
   ]
  },
  {
   "cell_type": "code",
   "execution_count": 2,
   "metadata": {},
   "outputs": [],
   "source": [
    "data_length = 10000\n",
    "stock = '9062'\n",
    "gdf_filename_pattern = 'gdf_{}_' + 'len{}'.format(data_length) + '_r{}_s{}_K50'\n",
    "gdf_parameters = [(1.0, 1.0), (0.1, 0.1), (0.1, 1.0), (1.0, 0.1), (0.01, 0.1)]"
   ]
  },
  {
   "cell_type": "code",
   "execution_count": 3,
   "metadata": {},
   "outputs": [
    {
     "data": {
      "text/html": [
       "<div>\n",
       "<style scoped>\n",
       "    .dataframe tbody tr th:only-of-type {\n",
       "        vertical-align: middle;\n",
       "    }\n",
       "\n",
       "    .dataframe tbody tr th {\n",
       "        vertical-align: top;\n",
       "    }\n",
       "\n",
       "    .dataframe thead th {\n",
       "        text-align: right;\n",
       "    }\n",
       "</style>\n",
       "<table border=\"1\" class=\"dataframe\">\n",
       "  <thead>\n",
       "    <tr style=\"text-align: right;\">\n",
       "      <th></th>\n",
       "      <th>matthews</th>\n",
       "      <th>roc_auc</th>\n",
       "      <th>test_matthews</th>\n",
       "      <th>test_roc_auc</th>\n",
       "      <th>train_matthews</th>\n",
       "      <th>train_roc_auc</th>\n",
       "      <th>train_val_matthews</th>\n",
       "      <th>train_val_roc_auc</th>\n",
       "    </tr>\n",
       "  </thead>\n",
       "  <tbody>\n",
       "    <tr>\n",
       "      <th>17</th>\n",
       "      <td>0.068364</td>\n",
       "      <td>0.534164</td>\n",
       "      <td>0.10818</td>\n",
       "      <td>0.554053</td>\n",
       "      <td>0.071634</td>\n",
       "      <td>0.535742</td>\n",
       "      <td>0.065592</td>\n",
       "      <td>0.532787</td>\n",
       "    </tr>\n",
       "  </tbody>\n",
       "</table>\n",
       "</div>"
      ],
      "text/plain": [
       "    matthews   roc_auc  test_matthews  test_roc_auc  train_matthews  \\\n",
       "17  0.068364  0.534164        0.10818      0.554053        0.071634   \n",
       "\n",
       "    train_roc_auc  train_val_matthews  train_val_roc_auc  \n",
       "17       0.535742            0.065592           0.532787  "
      ]
     },
     "execution_count": 3,
     "metadata": {},
     "output_type": "execute_result"
    }
   ],
   "source": [
    "df_log = pd.read_csv('../gdf_pca/res_log_que.csv')   \n",
    "df_log = df_log[df_log['stock'] == int(stock)]\n",
    "columns = [c for c in df_log.columns if 'matthews' in c or 'roc_auc' in c]\n",
    "df_log[columns]"
   ]
  },
  {
   "cell_type": "code",
   "execution_count": 4,
   "metadata": {},
   "outputs": [],
   "source": [
    "gdf_dfs = []\n",
    "for r, s in gdf_parameters:\n",
    "    gdf_dfs.append(gdf_pca.SvmGdfResults(\n",
    "        stock,  r=r, s=s, data_length=data_length, \n",
    "        gdf_filename_pattern=gdf_filename_pattern))"
   ]
  },
  {
   "cell_type": "code",
   "execution_count": 5,
   "metadata": {},
   "outputs": [
    {
     "data": {
      "text/plain": [
       "<matplotlib.axes._subplots.AxesSubplot at 0x7f71295ea550>"
      ]
     },
     "execution_count": 5,
     "metadata": {},
     "output_type": "execute_result"
    },
    {
     "data": {
      "image/png": "[encoded data removed]",
      "text/plain": [
       "<Figure size 432x288 with 1 Axes>"
      ]
     },
     "metadata": {},
     "output_type": "display_data"
    }
   ],
   "source": [
    "gdf_dfs[1].df['mid_price'].iloc[0:1000].plot()"
   ]
  },
  {
   "cell_type": "code",
   "execution_count": 6,
   "metadata": {},
   "outputs": [
    {
     "data": {
      "text/plain": [
       "<matplotlib.axes._subplots.AxesSubplot at 0x7f712953a2e8>"
      ]
     },
     "execution_count": 6,
     "metadata": {},
     "output_type": "execute_result"
    },
    {
     "data": {
      "image/png": "[encoded data removed]",
      "text/plain": [
       "<Figure size 1152x288 with 1 Axes>"
      ]
     },
     "metadata": {},
     "output_type": "display_data"
    }
   ],
   "source": [
    "plt.figure(figsize=(16, 4))\n",
    "gdf_dfs[4].df[[c for c in gdf_dfs[1].df.columns if 'gdf' in c]].boxplot()"
   ]
  },
  {
   "cell_type": "code",
   "execution_count": 9,
   "metadata": {},
   "outputs": [
    {
     "name": "stdout",
     "output_type": "stream",
     "text": [
      "Epoch 1/5\n",
      "3635/3635 [==============================] - 7s 2ms/step - loss: 0.6917 - auc: 0.5161\n",
      "Epoch 2/5\n",
      "3635/3635 [==============================] - 4s 1ms/step - loss: 0.6890 - auc: 0.5444\n",
      "Epoch 3/5\n",
      "3635/3635 [==============================] - 3s 853us/step - loss: 0.6884 - auc: 0.5462\n",
      "Epoch 4/5\n",
      "3635/3635 [==============================] - 2s 641us/step - loss: 0.6884 - auc: 0.5505\n",
      "Epoch 5/5\n",
      "3635/3635 [==============================] - 2s 644us/step - loss: 0.6882 - auc: 0.5515\n",
      "Epoch 1/5\n",
      "3635/3635 [==============================] - 5s 1ms/step - loss: 0.6890 - auc: 0.5700\n",
      "Epoch 2/5\n",
      "3635/3635 [==============================] - 2s 633us/step - loss: 0.6889 - auc: 0.5502\n",
      "Epoch 3/5\n",
      "3635/3635 [==============================] - 3s 835us/step - loss: 0.6887 - auc: 0.5538\n",
      "Epoch 4/5\n",
      "3635/3635 [==============================] - 4s 991us/step - loss: 0.6888 - auc: 0.5525\n",
      "Epoch 5/5\n",
      "3635/3635 [==============================] - 4s 1ms/step - loss: 0.6888 - auc: 0.5530\n",
      "Epoch 1/5\n",
      "3635/3635 [==============================] - 5s 1ms/step - loss: 0.6896 - auc: 0.5459\n",
      "Epoch 2/5\n",
      "3635/3635 [==============================] - 2s 629us/step - loss: 0.6896 - auc: 0.5495\n",
      "Epoch 3/5\n",
      "3635/3635 [==============================] - 3s 710us/step - loss: 0.6895 - auc: 0.5486\n",
      "Epoch 4/5\n",
      "3635/3635 [==============================] - 3s 693us/step - loss: 0.6895 - auc: 0.5473\n",
      "Epoch 5/5\n",
      "3635/3635 [==============================] - 2s 678us/step - loss: 0.6896 - auc: 0.5478\n",
      "Epoch 1/5\n",
      "3635/3635 [==============================] - 6s 2ms/step - loss: 0.6900 - auc: 0.5492\n",
      "Epoch 2/5\n",
      "3635/3635 [==============================] - 3s 722us/step - loss: 0.6900 - auc: 0.5457\n",
      "Epoch 3/5\n",
      "3635/3635 [==============================] - 3s 704us/step - loss: 0.6900 - auc: 0.5435\n",
      "Epoch 4/5\n",
      "3635/3635 [==============================] - 3s 786us/step - loss: 0.6900 - auc: 0.5440\n",
      "Epoch 5/5\n",
      "3635/3635 [==============================] - 3s 743us/step - loss: 0.6899 - auc: 0.5440\n",
      "Epoch 1/5\n",
      "3635/3635 [==============================] - 7s 2ms/step - loss: 0.6910 - auc: 0.5188\n",
      "Epoch 2/5\n",
      "3635/3635 [==============================] - 2s 650us/step - loss: 0.6908 - auc: 0.5366\n",
      "Epoch 3/5\n",
      "3635/3635 [==============================] - 2s 612us/step - loss: 0.6908 - auc: 0.5375\n",
      "Epoch 4/5\n",
      "3635/3635 [==============================] - 3s 747us/step - loss: 0.6908 - auc: 0.5390\n",
      "Epoch 5/5\n",
      "3635/3635 [==============================] - 3s 712us/step - loss: 0.6908 - auc: 0.5375\n",
      "Epoch 1/5\n",
      "7999/7999 [==============================] - 6s 799us/step - loss: 0.6896 - auc: 0.5399\n",
      "Epoch 2/5\n",
      "7999/7999 [==============================] - 9s 1ms/step - loss: 0.6895 - auc: 0.5419\n",
      "Epoch 3/5\n",
      "7999/7999 [==============================] - 5s 670us/step - loss: 0.6894 - auc: 0.5434\n",
      "Epoch 4/5\n",
      "7999/7999 [==============================] - 5s 673us/step - loss: 0.6894 - auc: 0.5447\n",
      "Epoch 5/5\n",
      "7999/7999 [==============================] - 7s 907us/step - loss: 0.6894 - auc: 0.5457\n",
      "Epoch 1/5\n",
      "7999/7999 [==============================] - 8s 1000us/step - loss: 0.6894 - auc: 0.5543\n",
      "Epoch 2/5\n",
      "7999/7999 [==============================] - 8s 951us/step - loss: 0.6894 - auc: 0.5491\n",
      "Epoch 3/5\n",
      "7999/7999 [==============================] - 5s 671us/step - loss: 0.6893 - auc: 0.5484\n",
      "Epoch 4/5\n",
      "7999/7999 [==============================] - 5s 670us/step - loss: 0.6892 - auc: 0.5498\n",
      "Epoch 5/5\n",
      "7999/7999 [==============================] - 6s 689us/step - loss: 0.6894 - auc: 0.5500\n",
      "Epoch 1/5\n",
      "7999/7999 [==============================] - 8s 984us/step - loss: 0.6893 - auc: 0.5631\n",
      "Epoch 2/5\n",
      "7999/7999 [==============================] - 5s 631us/step - loss: 0.6894 - auc: 0.5521\n",
      "Epoch 3/5\n",
      "7999/7999 [==============================] - 5s 624us/step - loss: 0.6893 - auc: 0.5504\n",
      "Epoch 4/5\n",
      "7999/7999 [==============================] - 5s 612us/step - loss: 0.6893 - auc: 0.5499\n",
      "Epoch 5/5\n",
      "7999/7999 [==============================] - 5s 620us/step - loss: 0.6893 - auc: 0.5504\n"
     ]
    },
    {
     "data": {
      "text/plain": [
       "{'precision': 0.5439391386516961,\n",
       " 'f1': 0.5402219240496184,\n",
       " 'recall': 0.5368428358434996,\n",
       " 'roc_auc': 0.5390000212653696,\n",
       " 'kappa': 0.07799505187046354,\n",
       " 'matthews': 0.07804547531861512,\n",
       " 'train_val_precision': 0.532782749357779,\n",
       " 'train_val_f1': 0.5338660031684703,\n",
       " 'train_val_recall': 0.5351318318172479,\n",
       " 'train_val_roc_auc': 0.5334291887548817,\n",
       " 'train_val_kappa': 0.0668570440117616,\n",
       " 'train_val_matthews': 0.06687987833733963,\n",
       " 'train_precision': 0.5405993233446109,\n",
       " 'train_f1': 0.5476802546211287,\n",
       " 'train_recall': 0.5549491441329695,\n",
       " 'train_roc_auc': 0.5379332414213235,\n",
       " 'train_kappa': 0.07588247294875206,\n",
       " 'train_matthews': 0.07590965848476003,\n",
       " 'stock': '9062',\n",
       " 'kernel': 'lstm',\n",
       " 'features': 'pca_n_gdf_que_prev',\n",
       " 'pca_components': 3,\n",
       " 'test_precision': 0.5614035087719298,\n",
       " 'test_f1': 0.5779467680608364,\n",
       " 'test_recall': 0.5954946131243879,\n",
       " 'test_roc_auc': 0.5549047707748729,\n",
       " 'test_kappa': 0.10995632793658272,\n",
       " 'test_matthews': 0.11016925476529703}"
      ]
     },
     "execution_count": 9,
     "metadata": {},
     "output_type": "execute_result"
    }
   ],
   "source": [
    "max_features = 1024\n",
    "model2 = Sequential()\n",
    "model2.add(LSTM(20))\n",
    "model2.add(Dense(1, activation='sigmoid'))\n",
    "model2.compile(loss='binary_crossentropy', optimizer='adam', metrics=[auc_roc])\n",
    "gdf_dfs[0].train_lstm(model2, feature_name='pca_n_gdf_que',\n",
    "                      compile_kwargs={'loss': 'binary_crossentropy', 'optimizer': 'adam', 'metrics': [auc_roc]},\n",
    "                      fit_kwargs={'epochs': 5, 'batch_size': 10, 'verbose': 1}, plot_name='here.png')"
   ]
  },
  {
   "cell_type": "code",
   "execution_count": 8,
   "metadata": {},
   "outputs": [
    {
     "data": {
      "text/html": [
       "<div>\n",
       "<style scoped>\n",
       "    .dataframe tbody tr th:only-of-type {\n",
       "        vertical-align: middle;\n",
       "    }\n",
       "\n",
       "    .dataframe tbody tr th {\n",
       "        vertical-align: top;\n",
       "    }\n",
       "\n",
       "    .dataframe thead th {\n",
       "        text-align: right;\n",
       "    }\n",
       "</style>\n",
       "<table border=\"1\" class=\"dataframe\">\n",
       "  <thead>\n",
       "    <tr style=\"text-align: right;\">\n",
       "      <th></th>\n",
       "      <th>matthews</th>\n",
       "      <th>roc_auc</th>\n",
       "      <th>test_matthews</th>\n",
       "      <th>test_roc_auc</th>\n",
       "      <th>train_matthews</th>\n",
       "      <th>train_roc_auc</th>\n",
       "      <th>train_val_matthews</th>\n",
       "      <th>train_val_roc_auc</th>\n",
       "    </tr>\n",
       "  </thead>\n",
       "  <tbody>\n",
       "    <tr>\n",
       "      <th>17</th>\n",
       "      <td>0.068364</td>\n",
       "      <td>0.534164</td>\n",
       "      <td>0.10818</td>\n",
       "      <td>0.554053</td>\n",
       "      <td>0.071634</td>\n",
       "      <td>0.535742</td>\n",
       "      <td>0.065592</td>\n",
       "      <td>0.532787</td>\n",
       "    </tr>\n",
       "  </tbody>\n",
       "</table>\n",
       "</div>"
      ],
      "text/plain": [
       "    matthews   roc_auc  test_matthews  test_roc_auc  train_matthews  \\\n",
       "17  0.068364  0.534164        0.10818      0.554053        0.071634   \n",
       "\n",
       "    train_roc_auc  train_val_matthews  train_val_roc_auc  \n",
       "17       0.535742            0.065592           0.532787  "
      ]
     },
     "execution_count": 8,
     "metadata": {},
     "output_type": "execute_result"
    }
   ],
   "source": [
    "df_log[columns]"
   ]
  },
  {
   "cell_type": "code",
   "execution_count": 12,
   "metadata": {},
   "outputs": [
    {
     "name": "stdout",
     "output_type": "stream",
     "text": [
      "_________________________________________________________________\n",
      "Layer (type)                 Output Shape              Param #   \n",
      "=================================================================\n",
      "lstm_2 (LSTM)                (None, 20)                1920      \n",
      "_________________________________________________________________\n",
      "dense_2 (Dense)              (None, 1)                 21        \n",
      "=================================================================\n",
      "Total params: 1,941\n",
      "Trainable params: 1,941\n",
      "Non-trainable params: 0\n",
      "_________________________________________________________________\n"
     ]
    }
   ],
   "source": [
    "model2.summary()"
   ]
  },
  {
   "cell_type": "code",
   "execution_count": 15,
   "metadata": {},
   "outputs": [
    {
     "data": {
      "text/plain": [
       "[array([[ 0.40771672],\n",
       "        [-0.08520772],\n",
       "        [ 0.27424112],\n",
       "        [-0.3665431 ],\n",
       "        [ 0.05496182],\n",
       "        [-0.24250585],\n",
       "        [-0.47143513],\n",
       "        [-0.34155908],\n",
       "        [ 0.3901339 ],\n",
       "        [ 0.2574395 ],\n",
       "        [-0.5653437 ],\n",
       "        [ 0.2803113 ],\n",
       "        [-0.00413674],\n",
       "        [ 0.1740253 ],\n",
       "        [ 0.00770706],\n",
       "        [-0.00726315],\n",
       "        [-0.1824405 ],\n",
       "        [-0.07685271],\n",
       "        [-0.00848819],\n",
       "        [-0.00713313]], dtype=float32), array([-0.00051371], dtype=float32)]"
      ]
     },
     "execution_count": 15,
     "metadata": {},
     "output_type": "execute_result"
    }
   ],
   "source": [
    "model2.get_layer('dense_2').get_weights()"
   ]
  }
 ],
 "metadata": {
  "kernelspec": {
   "display_name": "Python 3",
   "language": "python",
   "name": "python3"
  },
  "language_info": {
   "codemirror_mode": {
    "name": "ipython",
    "version": 3
   },
   "file_extension": ".py",
   "mimetype": "text/x-python",
   "name": "python",
   "nbconvert_exporter": "python",
   "pygments_lexer": "ipython3",
   "version": "3.6.5"
  }
 },
 "nbformat": 4,
 "nbformat_minor": 2
}
