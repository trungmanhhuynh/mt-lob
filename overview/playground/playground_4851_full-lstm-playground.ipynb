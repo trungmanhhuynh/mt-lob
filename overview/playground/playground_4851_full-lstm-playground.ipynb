{
 "cells": [
  {
   "cell_type": "code",
   "execution_count": 1,
   "metadata": {},
   "outputs": [
    {
     "name": "stderr",
     "output_type": "stream",
     "text": [
      "/home/vevurka/.conda/envs/py365/lib/python3.6/site-packages/h5py/__init__.py:36: FutureWarning: Conversion of the second argument of issubdtype from `float` to `np.floating` is deprecated. In future, it will be treated as `np.float64 == np.dtype(float).type`.\n",
      "  from ._conv import register_converters as _register_converters\n",
      "Using TensorFlow backend.\n"
     ]
    }
   ],
   "source": [
    "%load_ext autoreload\n",
    "\n",
    "%autoreload 2\n",
    "%matplotlib inline\n",
    "import pandas as pd\n",
    "import matplotlib.pyplot as plt\n",
    "import seaborn as sns\n",
    "from sklearn.cluster import KMeans\n",
    "from sklearn.svm import SVC\n",
    "from sklearn.metrics import roc_auc_score, roc_curve\n",
    "\n",
    "from sklearn import preprocessing\n",
    "from sklearn.linear_model import LogisticRegression\n",
    "from sklearn.decomposition import PCA\n",
    "from sklearn import metrics\n",
    "\n",
    "from keras.models import Sequential\n",
    "from keras.layers import Dense, Dropout\n",
    "from keras.layers import LSTM\n",
    "\n",
    "\n",
    "from keras.models import Sequential\n",
    "from keras.layers import Dense\n",
    "from keras.layers import LSTM\n",
    "from keras.layers.embeddings import Embedding\n",
    "from keras.preprocessing import sequence\n",
    "\n",
    "\n",
    "import warnings\n",
    "import numpy as np\n",
    "from collections import OrderedDict\n",
    "\n",
    "import os\n",
    "\n",
    "from lob_data_utils import lob, db_result, gdf_pca, model\n",
    "from lob_data_utils.svm_calculation import lob_svm\n",
    "\n",
    "\n",
    "sns.set_style('whitegrid')\n",
    "warnings.filterwarnings('ignore')"
   ]
  },
  {
   "cell_type": "code",
   "execution_count": 2,
   "metadata": {},
   "outputs": [],
   "source": [
    "data_length = 24000\n",
    "stock = '4851'\n",
    "gdf_filename_pattern = 'gdf_{}_r{}_s{}_K50'\n",
    "gdf_parameters = [(0.1, 0.1), (0.01, 0.1), (0.1, 0.5), (0.01, 0.5)]"
   ]
  },
  {
   "cell_type": "code",
   "execution_count": 3,
   "metadata": {},
   "outputs": [
    {
     "data": {
      "text/html": [
       "<div>\n",
       "<style scoped>\n",
       "    .dataframe tbody tr th:only-of-type {\n",
       "        vertical-align: middle;\n",
       "    }\n",
       "\n",
       "    .dataframe tbody tr th {\n",
       "        vertical-align: top;\n",
       "    }\n",
       "\n",
       "    .dataframe thead th {\n",
       "        text-align: right;\n",
       "    }\n",
       "</style>\n",
       "<table border=\"1\" class=\"dataframe\">\n",
       "  <thead>\n",
       "    <tr style=\"text-align: right;\">\n",
       "      <th></th>\n",
       "      <th>matthews</th>\n",
       "      <th>roc_auc</th>\n",
       "      <th>test_matthews</th>\n",
       "      <th>test_roc_auc</th>\n",
       "      <th>train_matthews</th>\n",
       "      <th>train_roc_auc</th>\n",
       "      <th>train_val_matthews</th>\n",
       "      <th>train_val_roc_auc</th>\n",
       "    </tr>\n",
       "  </thead>\n",
       "  <tbody>\n",
       "    <tr>\n",
       "      <th>81</th>\n",
       "      <td>0.141509</td>\n",
       "      <td>0.602119</td>\n",
       "      <td>0.13868</td>\n",
       "      <td>0.600747</td>\n",
       "      <td>0.146122</td>\n",
       "      <td>0.601755</td>\n",
       "      <td>0.1511</td>\n",
       "      <td>0.603678</td>\n",
       "    </tr>\n",
       "  </tbody>\n",
       "</table>\n",
       "</div>"
      ],
      "text/plain": [
       "    matthews   roc_auc  test_matthews  test_roc_auc  train_matthews  \\\n",
       "81  0.141509  0.602119        0.13868      0.600747        0.146122   \n",
       "\n",
       "    train_roc_auc  train_val_matthews  train_val_roc_auc  \n",
       "81       0.601755              0.1511           0.603678  "
      ]
     },
     "execution_count": 3,
     "metadata": {},
     "output_type": "execute_result"
    }
   ],
   "source": [
    "df_log = pd.read_csv('res_log_que.csv')   \n",
    "df_log = df_log[df_log['stock'] == int(stock)]\n",
    "columns = [c for c in df_log.columns if 'matthews' in c or 'roc_auc' in c]\n",
    "df_log[columns]"
   ]
  },
  {
   "cell_type": "code",
   "execution_count": 4,
   "metadata": {},
   "outputs": [],
   "source": [
    "gdf_dfs = []\n",
    "for r, s in gdf_parameters:\n",
    "    gdf_dfs.append(gdf_pca.SvmGdfResults(\n",
    "        stock,  r=r, s=s, data_length=data_length, data_dir='../gaussian_filter/data_gdf_not_synced',\n",
    "        gdf_filename_pattern=gdf_filename_pattern))"
   ]
  },
  {
   "cell_type": "code",
   "execution_count": 5,
   "metadata": {},
   "outputs": [
    {
     "data": {
      "text/plain": [
       "Index(['Unnamed: 0', 'datetime', 'gdf_0', 'gdf_1', 'gdf_10', 'gdf_11',\n",
       "       'gdf_12', 'gdf_13', 'gdf_14', 'gdf_15', 'gdf_16', 'gdf_17', 'gdf_18',\n",
       "       'gdf_19', 'gdf_2', 'gdf_20', 'gdf_21', 'gdf_22', 'gdf_23', 'gdf_24',\n",
       "       'gdf_25', 'gdf_26', 'gdf_27', 'gdf_28', 'gdf_29', 'gdf_3', 'gdf_30',\n",
       "       'gdf_31', 'gdf_32', 'gdf_33', 'gdf_34', 'gdf_35', 'gdf_36', 'gdf_37',\n",
       "       'gdf_38', 'gdf_39', 'gdf_4', 'gdf_40', 'gdf_41', 'gdf_42', 'gdf_43',\n",
       "       'gdf_44', 'gdf_45', 'gdf_46', 'gdf_47', 'gdf_48', 'gdf_49', 'gdf_5',\n",
       "       'gdf_6', 'gdf_7', 'gdf_8', 'gdf_9', 'mid_price', 'mid_price_indicator',\n",
       "       'queue_imbalance', 'bid_price', 'ask_price', 'prev_queue_imbalance'],\n",
       "      dtype='object')"
      ]
     },
     "execution_count": 5,
     "metadata": {},
     "output_type": "execute_result"
    }
   ],
   "source": [
    "gdf_dfs[0].df.columns"
   ]
  },
  {
   "cell_type": "code",
   "execution_count": 10,
   "metadata": {},
   "outputs": [],
   "source": [
    "def as_keras_metric(method):\n",
    "    import functools\n",
    "    from keras import backend as K\n",
    "    import tensorflow as tf\n",
    "    @functools.wraps(method)\n",
    "    def wrapper(self, args, **kwargs):\n",
    "        \"\"\" Wrapper for turning tensorflow metrics into keras metrics \"\"\"\n",
    "        value, update_op = method(self, args, **kwargs)\n",
    "        K.get_session().run(tf.local_variables_initializer())\n",
    "        with tf.control_dependencies([update_op]):\n",
    "            value = tf.identity(value)\n",
    "        return value\n",
    "    return wrapper\n",
    "import tensorflow as tf\n",
    "auc_roc = as_keras_metric(tf.metrics.auc)"
   ]
  },
  {
   "cell_type": "code",
   "execution_count": 7,
   "metadata": {},
   "outputs": [
    {
     "name": "stdout",
     "output_type": "stream",
     "text": [
      "[0. 1.]\n"
     ]
    },
    {
     "data": {
      "text/plain": [
       "array([0.58766452, 3.35178073])"
      ]
     },
     "execution_count": 7,
     "metadata": {},
     "output_type": "execute_result"
    }
   ],
   "source": [
    "y_train = gdf_dfs[0].df['mid_price_indicator'].values\n",
    "from sklearn.utils import class_weight\n",
    "a = np.unique(y_train)\n",
    "print(a)\n",
    "class_weight.compute_class_weight('balanced', a, y_train)"
   ]
  },
  {
   "cell_type": "code",
   "execution_count": 24,
   "metadata": {},
   "outputs": [],
   "source": [
    "model = Sequential()\n",
    "model.add(LSTM(6))\n",
    "model.add(Dense(6, activation='tanh'))\n",
    "model.add(Dense(6, activation='tanh'))\n",
    "model.add(Dense(6, activation='tanh'))\n",
    "model.add(Dense(6, activation='tanh'))\n",
    "model.add(Dense(6, activation='tanh'))\n",
    "model.add(Dense(6, activation='tanh'))\n",
    "model.add(Dense(1, activation='sigmoid'))\n",
    "model.compile(loss='binary_crossentropy', optimizer='adam', metrics=[auc_roc])"
   ]
  },
  {
   "cell_type": "code",
   "execution_count": 25,
   "metadata": {},
   "outputs": [
    {
     "name": "stdout",
     "output_type": "stream",
     "text": [
      "Epoch 1/3\n",
      "8725/8725 [==============================] - 4s 496us/step - loss: 0.7095 - auc: 0.5257\n",
      "Epoch 2/3\n",
      "8725/8725 [==============================] - 0s 56us/step - loss: 0.6959 - auc: 0.5827\n",
      "Epoch 3/3\n",
      "8725/8725 [==============================] - 0s 55us/step - loss: 0.6895 - auc: 0.6041\n",
      "Epoch 1/3\n",
      "8725/8725 [==============================] - 5s 530us/step - loss: 0.6859 - auc: 0.6128\n",
      "Epoch 2/3\n",
      "8725/8725 [==============================] - 0s 55us/step - loss: 0.6854 - auc: 0.6392\n",
      "Epoch 3/3\n",
      "8725/8725 [==============================] - 0s 55us/step - loss: 0.6852 - auc: 0.6417\n",
      "Epoch 1/3\n",
      "8725/8725 [==============================] - 5s 568us/step - loss: 0.6635 - auc: 0.6489\n",
      "Epoch 2/3\n",
      "8725/8725 [==============================] - 0s 56us/step - loss: 0.6631 - auc: 0.6601\n",
      "Epoch 3/3\n",
      "8725/8725 [==============================] - 0s 56us/step - loss: 0.6627 - auc: 0.6613\n",
      "Epoch 1/3\n",
      "8725/8725 [==============================] - 5s 611us/step - loss: 0.6570 - auc: 0.6523\n",
      "Epoch 2/3\n",
      "8725/8725 [==============================] - 1s 59us/step - loss: 0.6569 - auc: 0.6645\n",
      "Epoch 3/3\n",
      "8725/8725 [==============================] - 0s 57us/step - loss: 0.6563 - auc: 0.6648\n",
      "Epoch 1/3\n",
      "8725/8725 [==============================] - 6s 644us/step - loss: 0.6306 - auc: 0.6715\n",
      "Epoch 2/3\n",
      "8725/8725 [==============================] - 1s 58us/step - loss: 0.6312 - auc: 0.6658\n",
      "Epoch 3/3\n",
      "8725/8725 [==============================] - 1s 61us/step - loss: 0.6308 - auc: 0.6642\n",
      "Epoch 1/3\n",
      "19199/19199 [==============================] - 1s 56us/step - loss: 0.6585 - auc: 0.6582\n",
      "Epoch 2/3\n",
      "19199/19199 [==============================] - 1s 60us/step - loss: 0.6580 - auc: 0.6557\n",
      "Epoch 3/3\n",
      "19199/19199 [==============================] - 1s 58us/step - loss: 0.6578 - auc: 0.6546\n",
      "Epoch 1/3\n",
      "19199/19199 [==============================] - 7s 344us/step - loss: 0.6579 - auc: 0.6414\n",
      "Epoch 2/3\n",
      "19199/19199 [==============================] - 1s 59us/step - loss: 0.6575 - auc: 0.6496\n",
      "Epoch 3/3\n",
      "19199/19199 [==============================] - 1s 60us/step - loss: 0.6574 - auc: 0.6508\n",
      "Epoch 1/3\n",
      "19199/19199 [==============================] - 7s 362us/step - loss: 0.6575 - auc: 0.6423\n",
      "Epoch 2/3\n",
      "19199/19199 [==============================] - 1s 61us/step - loss: 0.6572 - auc: 0.6504\n",
      "Epoch 3/3\n",
      "19199/19199 [==============================] - 1s 63us/step - loss: 0.6571 - auc: 0.6515\n"
     ]
    }
   ],
   "source": [
    "epochs = 3\n",
    "batch_size = 50\n",
    "score = gdf_dfs[0].train_lstm(\n",
    "    model, feature_name='pca_n_gdf_que_prev', plot_name='here.png',\n",
    "    fit_kwargs={'epochs': epochs, 'batch_size': batch_size, 'verbose': 1, 'shuffle': False}, \n",
    "    compile_kwargs= { 'loss': 'binary_crossentropy', 'optimizer': 'adam', 'metrics': [auc_roc]},\n",
    "    class_weight={0: 0.58766452, 1: 3.35178073})"
   ]
  },
  {
   "cell_type": "code",
   "execution_count": 27,
   "metadata": {},
   "outputs": [
    {
     "name": "stdout",
     "output_type": "stream",
     "text": [
      "0.15462240845231612 0.1638715652092099 0.16414313401061825\n"
     ]
    },
    {
     "data": {
      "text/plain": [
       "(0.6068381147607853, 0.6132439277658932, 0.6187873460902539)"
      ]
     },
     "execution_count": 27,
     "metadata": {},
     "output_type": "execute_result"
    }
   ],
   "source": [
    "print(score['matthews'], score['train_matthews'], score['test_matthews'])\n",
    "score['roc_auc'], score['train_roc_auc'], score['test_roc_auc']"
   ]
  },
  {
   "cell_type": "code",
   "execution_count": null,
   "metadata": {},
   "outputs": [],
   "source": [
    "## True LSTM "
   ]
  },
  {
   "cell_type": "code",
   "execution_count": 28,
   "metadata": {},
   "outputs": [],
   "source": [
    "model = Sequential()\n",
    "model.add(LSTM(12, input_shape=(10, 4)))\n",
    "model.add(Dense(12, activation='tanh'))\n",
    "model.add(Dense(6, activation='tanh'))\n",
    "model.add(Dense(4, activation='tanh'))\n",
    "model.add(Dense(2, activation='tanh'))\n",
    "# model.add(Dense(6, activation='tanh'))\n",
    "# model.add(Dense(6, activation='tanh'))\n",
    "model.add(Dense(1, activation='sigmoid'))\n",
    "model.compile(loss='binary_crossentropy', optimizer='adam', metrics=[auc_roc])"
   ]
  },
  {
   "cell_type": "code",
   "execution_count": 29,
   "metadata": {},
   "outputs": [
    {
     "name": "stdout",
     "output_type": "stream",
     "text": [
      "Epoch 1/3\n",
      "8720/8720 [==============================] - 7s 848us/step - loss: 0.7034 - auc: 0.5653\n",
      "Epoch 2/3\n",
      "8720/8720 [==============================] - 1s 123us/step - loss: 0.6903 - auc: 0.6040\n",
      "Epoch 3/3\n",
      "8720/8720 [==============================] - 1s 123us/step - loss: 0.6876 - auc: 0.6186\n",
      "Epoch 1/3\n",
      "8720/8720 [==============================] - 8s 877us/step - loss: 0.6841 - auc: 0.6157\n",
      "Epoch 2/3\n",
      "8720/8720 [==============================] - 1s 119us/step - loss: 0.6834 - auc: 0.6418\n",
      "Epoch 3/3\n",
      "8720/8720 [==============================] - 1s 120us/step - loss: 0.6829 - auc: 0.6445\n",
      "Epoch 1/3\n",
      "8720/8720 [==============================] - 8s 916us/step - loss: 0.6611 - auc: 0.6504\n",
      "Epoch 2/3\n",
      "8720/8720 [==============================] - 1s 121us/step - loss: 0.6603 - auc: 0.6641\n",
      "Epoch 3/3\n",
      "8720/8720 [==============================] - 1s 122us/step - loss: 0.6597 - auc: 0.6657\n",
      "Epoch 1/3\n",
      "8720/8720 [==============================] - 8s 942us/step - loss: 0.6540 - auc: 0.6601\n",
      "Epoch 2/3\n",
      "8720/8720 [==============================] - 1s 120us/step - loss: 0.6537 - auc: 0.6700\n",
      "Epoch 3/3\n",
      "8720/8720 [==============================] - 1s 120us/step - loss: 0.6531 - auc: 0.6700\n",
      "Epoch 1/3\n",
      "8720/8720 [==============================] - 9s 979us/step - loss: 0.6271 - auc: 0.6747\n",
      "Epoch 2/3\n",
      "8720/8720 [==============================] - 1s 127us/step - loss: 0.6270 - auc: 0.6714\n",
      "Epoch 3/3\n",
      "8720/8720 [==============================] - 1s 128us/step - loss: 0.6263 - auc: 0.6707\n",
      "Epoch 1/3\n",
      "19190/19190 [==============================] - 2s 127us/step - loss: 0.6540 - auc: 0.6657\n",
      "Epoch 2/3\n",
      "19190/19190 [==============================] - 2s 126us/step - loss: 0.6532 - auc: 0.6636\n",
      "Epoch 3/3\n",
      "19190/19190 [==============================] - 2s 126us/step - loss: 0.6527 - auc: 0.6629\n",
      "Epoch 1/3\n",
      "19190/19190 [==============================] - 10s 522us/step - loss: 0.6524 - auc: 0.6529\n",
      "Epoch 2/3\n",
      "19190/19190 [==============================] - 2s 122us/step - loss: 0.6518 - auc: 0.6601\n",
      "Epoch 3/3\n",
      "19190/19190 [==============================] - 2s 123us/step - loss: 0.6514 - auc: 0.6614\n",
      "Epoch 1/3\n",
      "19190/19190 [==============================] - 10s 546us/step - loss: 0.6511 - auc: 0.6552\n",
      "Epoch 2/3\n",
      "19190/19190 [==============================] - 2s 127us/step - loss: 0.6505 - auc: 0.6622\n",
      "Epoch 3/3\n",
      "19190/19190 [==============================] - 2s 129us/step - loss: 0.6501 - auc: 0.6636\n"
     ]
    }
   ],
   "source": [
    "epochs = 3\n",
    "batch_size = 50\n",
    "score = gdf_dfs[0].train_lstm(\n",
    "    model, feature_name='pca_n_gdf_que_prev', plot_name='here.png', n_steps=10,\n",
    "    fit_kwargs={'epochs': epochs, 'batch_size': batch_size, 'verbose': 1, 'shuffle': False}, \n",
    "    compile_kwargs= { 'loss': 'binary_crossentropy', 'optimizer': 'adam', 'metrics': [auc_roc]},\n",
    "    class_weight={0: 0.58766452, 1: 3.35178073})"
   ]
  },
  {
   "cell_type": "code",
   "execution_count": 30,
   "metadata": {},
   "outputs": [
    {
     "name": "stdout",
     "output_type": "stream",
     "text": [
      "0.15613824278721528 0.17062989490760755 0.18318639236055428\n"
     ]
    },
    {
     "data": {
      "text/plain": [
       "(0.608856615583336, 0.6173021372460791, 0.6313930110995783)"
      ]
     },
     "execution_count": 30,
     "metadata": {},
     "output_type": "execute_result"
    }
   ],
   "source": [
    "print(score['matthews'], score['train_matthews'], score['test_matthews'])\n",
    "score['roc_auc'], score['train_roc_auc'], score['test_roc_auc']"
   ]
  }
 ],
 "metadata": {
  "kernelspec": {
   "display_name": "Python 3",
   "language": "python",
   "name": "python3"
  },
  "language_info": {
   "codemirror_mode": {
    "name": "ipython",
    "version": 3
   },
   "file_extension": ".py",
   "mimetype": "text/x-python",
   "name": "python",
   "nbconvert_exporter": "python",
   "pygments_lexer": "ipython3",
   "version": "3.6.5"
  }
 },
 "nbformat": 4,
 "nbformat_minor": 2
}
