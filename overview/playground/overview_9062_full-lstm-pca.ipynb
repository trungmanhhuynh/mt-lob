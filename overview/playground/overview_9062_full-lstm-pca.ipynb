{
 "cells": [
  {
   "cell_type": "code",
   "execution_count": 3,
   "metadata": {},
   "outputs": [
    {
     "name": "stderr",
     "output_type": "stream",
     "text": [
      "Using TensorFlow backend.\n"
     ]
    }
   ],
   "source": [
    "%load_ext autoreload\n",
    "\n",
    "%autoreload 2\n",
    "%matplotlib inline\n",
    "import functools\n",
    "import pandas as pd\n",
    "import matplotlib.pyplot as plt\n",
    "import seaborn as sns\n",
    "from sklearn.cluster import KMeans\n",
    "from sklearn.svm import SVC\n",
    "from sklearn.metrics import roc_auc_score, roc_curve\n",
    "\n",
    "from sklearn import preprocessing\n",
    "from sklearn.linear_model import LogisticRegression\n",
    "from sklearn.decomposition import PCA\n",
    "\n",
    "from keras.models import Sequential\n",
    "from keras.layers import Dense, Dropout\n",
    "from keras import regularizers\n",
    "from keras.layers import LSTM\n",
    "from keras.utils import plot_model\n",
    "from keras import backend as K\n",
    "import keras.metrics\n",
    "import tensorflow as tf\n",
    "\n",
    "\n",
    "from keras.models import Sequential\n",
    "from keras.layers import Dense, TimeDistributed\n",
    "from keras.layers import LSTM, Bidirectional\n",
    "from keras.layers.embeddings import Embedding\n",
    "from keras.preprocessing import sequence\n",
    "\n",
    "\n",
    "import warnings\n",
    "import numpy as np\n",
    "from collections import OrderedDict\n",
    "\n",
    "import os\n",
    "\n",
    "from lob_data_utils import lob, db_result, gdf_pca\n",
    "from lob_data_utils.svm_calculation import lob_svm\n",
    "from numpy.random import seed\n",
    "seed(1)\n",
    "\n",
    "\n",
    "sns.set_style('whitegrid')\n",
    "warnings.filterwarnings('ignore')"
   ]
  },
  {
   "cell_type": "code",
   "execution_count": 4,
   "metadata": {},
   "outputs": [],
   "source": [
    "data_length = 10000\n",
    "stock = '9062'\n",
    "gdf_filename_pattern = 'gdf_{}_' + 'len{}'.format(data_length) + '_r{}_s{}_K50'\n",
    "gdf_parameters = [(1.0, 1.0), (0.1, 0.1), (0.1, 1.0), (1.0, 0.1), (0.01, 0.1)]"
   ]
  },
  {
   "cell_type": "code",
   "execution_count": 5,
   "metadata": {},
   "outputs": [
    {
     "data": {
      "text/html": [
       "<div>\n",
       "<style scoped>\n",
       "    .dataframe tbody tr th:only-of-type {\n",
       "        vertical-align: middle;\n",
       "    }\n",
       "\n",
       "    .dataframe tbody tr th {\n",
       "        vertical-align: top;\n",
       "    }\n",
       "\n",
       "    .dataframe thead th {\n",
       "        text-align: right;\n",
       "    }\n",
       "</style>\n",
       "<table border=\"1\" class=\"dataframe\">\n",
       "  <thead>\n",
       "    <tr style=\"text-align: right;\">\n",
       "      <th></th>\n",
       "      <th>matthews</th>\n",
       "      <th>roc_auc</th>\n",
       "      <th>test_matthews</th>\n",
       "      <th>test_roc_auc</th>\n",
       "      <th>train_matthews</th>\n",
       "      <th>train_roc_auc</th>\n",
       "      <th>train_val_matthews</th>\n",
       "      <th>train_val_roc_auc</th>\n",
       "    </tr>\n",
       "  </thead>\n",
       "  <tbody>\n",
       "    <tr>\n",
       "      <th>17</th>\n",
       "      <td>0.068364</td>\n",
       "      <td>0.534164</td>\n",
       "      <td>0.10818</td>\n",
       "      <td>0.554053</td>\n",
       "      <td>0.071634</td>\n",
       "      <td>0.535742</td>\n",
       "      <td>0.065592</td>\n",
       "      <td>0.532787</td>\n",
       "    </tr>\n",
       "  </tbody>\n",
       "</table>\n",
       "</div>"
      ],
      "text/plain": [
       "    matthews   roc_auc  test_matthews  test_roc_auc  train_matthews  \\\n",
       "17  0.068364  0.534164        0.10818      0.554053        0.071634   \n",
       "\n",
       "    train_roc_auc  train_val_matthews  train_val_roc_auc  \n",
       "17       0.535742            0.065592           0.532787  "
      ]
     },
     "execution_count": 5,
     "metadata": {},
     "output_type": "execute_result"
    }
   ],
   "source": [
    "df_log = pd.read_csv('../gdf_pca/res_log_que.csv')   \n",
    "df_log = df_log[df_log['stock'] == int(stock)]\n",
    "columns = [c for c in df_log.columns if 'matthews' in c or 'roc_auc' in c]\n",
    "df_log[columns]"
   ]
  },
  {
   "cell_type": "code",
   "execution_count": 6,
   "metadata": {},
   "outputs": [],
   "source": [
    "def convert_scores_to_df(scores):\n",
    "    scores2 = []\n",
    "    for l in scores:\n",
    "        res = {}\n",
    "        for k, v in l.items():\n",
    "            if isinstance(v, list):\n",
    "                res[k] = np.mean(v)\n",
    "            else:\n",
    "                res[k] = v\n",
    "        scores2.append(res)\n",
    "    return pd.DataFrame(scores2)"
   ]
  },
  {
   "cell_type": "code",
   "execution_count": 7,
   "metadata": {},
   "outputs": [],
   "source": [
    "def as_keras_metric(method):\n",
    "    @functools.wraps(method)\n",
    "    def wrapper(self, args, **kwargs):\n",
    "        \"\"\" Wrapper for turning tensorflow metrics into keras metrics \"\"\"\n",
    "        value, update_op = method(self, args, **kwargs)\n",
    "        K.get_session().run(tf.local_variables_initializer())\n",
    "        with tf.control_dependencies([update_op]):\n",
    "            value = tf.identity(value)\n",
    "        return value\n",
    "\n",
    "    return wrapper\n",
    "\n",
    "auc_roc = as_keras_metric(tf.metrics.auc)"
   ]
  },
  {
   "cell_type": "code",
   "execution_count": 8,
   "metadata": {},
   "outputs": [],
   "source": [
    "gdf_dfs = []\n",
    "for r, s in gdf_parameters:\n",
    "    gdf_dfs.append(gdf_pca.SvmGdfResults(\n",
    "        stock,  r=r, s=s, data_length=data_length, \n",
    "        gdf_filename_pattern=gdf_filename_pattern))"
   ]
  },
  {
   "cell_type": "code",
   "execution_count": 10,
   "metadata": {},
   "outputs": [],
   "source": [
    "pca = gdf_dfs[0].get_pca('pca_gdf_que_prev10')"
   ]
  },
  {
   "cell_type": "code",
   "execution_count": 21,
   "metadata": {},
   "outputs": [
    {
     "name": "stdout",
     "output_type": "stream",
     "text": [
      "0.9927944224914231\n"
     ]
    },
    {
     "data": {
      "image/png": "[encoded data removed]",
      "text/plain": [
       "<Figure size 432x288 with 1 Axes>"
      ]
     },
     "metadata": {},
     "output_type": "display_data"
    }
   ],
   "source": [
    "plt.bar(list(range(10)), pca.explained_variance_ratio_)\n",
    "print(np.sum(pca.explained_variance_ratio_[0:3]))"
   ]
  }
 ],
 "metadata": {
  "kernelspec": {
   "display_name": "Python 3",
   "language": "python",
   "name": "python3"
  },
  "language_info": {
   "codemirror_mode": {
    "name": "ipython",
    "version": 3
   },
   "file_extension": ".py",
   "mimetype": "text/x-python",
   "name": "python",
   "nbconvert_exporter": "python",
   "pygments_lexer": "ipython3",
   "version": "3.6.5"
  }
 },
 "nbformat": 4,
 "nbformat_minor": 2
}
