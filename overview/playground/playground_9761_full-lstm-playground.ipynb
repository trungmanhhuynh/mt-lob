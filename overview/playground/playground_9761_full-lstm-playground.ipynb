{
 "cells": [
  {
   "cell_type": "code",
   "execution_count": 1,
   "metadata": {},
   "outputs": [
    {
     "name": "stderr",
     "output_type": "stream",
     "text": [
      "Using TensorFlow backend.\n"
     ]
    }
   ],
   "source": [
    "%load_ext autoreload\n",
    "\n",
    "%autoreload 2\n",
    "%matplotlib inline\n",
    "import pandas as pd\n",
    "import matplotlib.pyplot as plt\n",
    "import seaborn as sns\n",
    "from sklearn.cluster import KMeans\n",
    "from sklearn.svm import SVC\n",
    "from sklearn.metrics import roc_auc_score, roc_curve\n",
    "\n",
    "from sklearn import preprocessing\n",
    "from sklearn.linear_model import LogisticRegression\n",
    "from sklearn.decomposition import PCA\n",
    "from sklearn import metrics\n",
    "\n",
    "from keras.models import Sequential\n",
    "from keras.layers import Dense, Dropout\n",
    "from keras.layers import LSTM\n",
    "\n",
    "\n",
    "from keras.models import Sequential\n",
    "from keras.layers import Dense\n",
    "from keras.layers import LSTM\n",
    "from keras.layers.embeddings import Embedding\n",
    "from keras.preprocessing import sequence\n",
    "\n",
    "\n",
    "import warnings\n",
    "import numpy as np\n",
    "from collections import OrderedDict\n",
    "\n",
    "import os\n",
    "\n",
    "from lob_data_utils import lob, db_result, gdf_pca, model\n",
    "from lob_data_utils.svm_calculation import lob_svm\n",
    "\n",
    "\n",
    "sns.set_style('whitegrid')\n",
    "warnings.filterwarnings('ignore')"
   ]
  },
  {
   "cell_type": "code",
   "execution_count": 2,
   "metadata": {},
   "outputs": [],
   "source": [
    "data_length = 24000\n",
    "stock = '9761'\n",
    "gdf_filename_pattern = 'gdf_{}_r{}_s{}_K50'\n",
    "gdf_parameters = [(0.1, 0.1), (0.01, 0.1), (0.1, 0.5), (0.01, 0.5)]"
   ]
  },
  {
   "cell_type": "code",
   "execution_count": 4,
   "metadata": {},
   "outputs": [
    {
     "data": {
      "text/html": [
       "<div>\n",
       "<style scoped>\n",
       "    .dataframe tbody tr th:only-of-type {\n",
       "        vertical-align: middle;\n",
       "    }\n",
       "\n",
       "    .dataframe tbody tr th {\n",
       "        vertical-align: top;\n",
       "    }\n",
       "\n",
       "    .dataframe thead th {\n",
       "        text-align: right;\n",
       "    }\n",
       "</style>\n",
       "<table border=\"1\" class=\"dataframe\">\n",
       "  <thead>\n",
       "    <tr style=\"text-align: right;\">\n",
       "      <th></th>\n",
       "      <th>matthews</th>\n",
       "      <th>roc_auc</th>\n",
       "      <th>test_matthews</th>\n",
       "      <th>test_roc_auc</th>\n",
       "      <th>train_matthews</th>\n",
       "      <th>train_roc_auc</th>\n",
       "      <th>train_val_matthews</th>\n",
       "      <th>train_val_roc_auc</th>\n",
       "    </tr>\n",
       "  </thead>\n",
       "  <tbody>\n",
       "    <tr>\n",
       "      <th>35</th>\n",
       "      <td>0.146427</td>\n",
       "      <td>0.579966</td>\n",
       "      <td>0.107514</td>\n",
       "      <td>0.558467</td>\n",
       "      <td>0.125276</td>\n",
       "      <td>0.568539</td>\n",
       "      <td>0.125167</td>\n",
       "      <td>0.568139</td>\n",
       "    </tr>\n",
       "  </tbody>\n",
       "</table>\n",
       "</div>"
      ],
      "text/plain": [
       "    matthews   roc_auc  test_matthews  test_roc_auc  train_matthews  \\\n",
       "35  0.146427  0.579966       0.107514      0.558467        0.125276   \n",
       "\n",
       "    train_roc_auc  train_val_matthews  train_val_roc_auc  \n",
       "35       0.568539            0.125167           0.568139  "
      ]
     },
     "execution_count": 4,
     "metadata": {},
     "output_type": "execute_result"
    }
   ],
   "source": [
    "df_log = pd.read_csv('../gdf_pca/res_log_que.csv')   \n",
    "df_log = df_log[df_log['stock'] == int(stock)]\n",
    "columns = [c for c in df_log.columns if 'matthews' in c or 'roc_auc' in c]\n",
    "df_log[columns]"
   ]
  },
  {
   "cell_type": "code",
   "execution_count": 6,
   "metadata": {},
   "outputs": [],
   "source": [
    "gdf_dfs = []\n",
    "for r, s in gdf_parameters:\n",
    "    gdf_dfs.append(gdf_pca.SvmGdfResults(\n",
    "        stock,  r=r, s=s, data_length=data_length, data_dir='~/shit2',\n",
    "        gdf_filename_pattern=gdf_filename_pattern))"
   ]
  },
  {
   "cell_type": "code",
   "execution_count": 7,
   "metadata": {},
   "outputs": [
    {
     "data": {
      "text/plain": [
       "Index(['Unnamed: 0', 'datetime', 'gdf_0', 'gdf_1', 'gdf_10', 'gdf_11',\n",
       "       'gdf_12', 'gdf_13', 'gdf_14', 'gdf_15', 'gdf_16', 'gdf_17', 'gdf_18',\n",
       "       'gdf_19', 'gdf_2', 'gdf_20', 'gdf_21', 'gdf_22', 'gdf_23', 'gdf_24',\n",
       "       'gdf_25', 'gdf_26', 'gdf_27', 'gdf_28', 'gdf_29', 'gdf_3', 'gdf_30',\n",
       "       'gdf_31', 'gdf_32', 'gdf_33', 'gdf_34', 'gdf_35', 'gdf_36', 'gdf_37',\n",
       "       'gdf_38', 'gdf_39', 'gdf_4', 'gdf_40', 'gdf_41', 'gdf_42', 'gdf_43',\n",
       "       'gdf_44', 'gdf_45', 'gdf_46', 'gdf_47', 'gdf_48', 'gdf_49', 'gdf_5',\n",
       "       'gdf_6', 'gdf_7', 'gdf_8', 'gdf_9', 'mid_price', 'mid_price_indicator',\n",
       "       'queue_imbalance', 'bid_price', 'ask_price', 'prev_queue_imbalance'],\n",
       "      dtype='object')"
      ]
     },
     "execution_count": 7,
     "metadata": {},
     "output_type": "execute_result"
    }
   ],
   "source": [
    "gdf_dfs[0].df.columns"
   ]
  },
  {
   "cell_type": "code",
   "execution_count": 8,
   "metadata": {},
   "outputs": [],
   "source": [
    "def as_keras_metric(method):\n",
    "    import functools\n",
    "    from keras import backend as K\n",
    "    import tensorflow as tf\n",
    "    @functools.wraps(method)\n",
    "    def wrapper(self, args, **kwargs):\n",
    "        \"\"\" Wrapper for turning tensorflow metrics into keras metrics \"\"\"\n",
    "        value, update_op = method(self, args, **kwargs)\n",
    "        K.get_session().run(tf.local_variables_initializer())\n",
    "        with tf.control_dependencies([update_op]):\n",
    "            value = tf.identity(value)\n",
    "        return value\n",
    "    return wrapper\n",
    "import tensorflow as tf\n",
    "auc_roc = as_keras_metric(tf.metrics.auc)"
   ]
  },
  {
   "cell_type": "code",
   "execution_count": null,
   "metadata": {},
   "outputs": [],
   "source": [
    "df = gdf_dfs[0].df\n",
    "df_test = gdf_dfs[0].df_test\n",
    "\n",
    "X_train = df[[gdf for gdf in gdf_dfs[0].df.columns if 'gdf' in gdf or 'queue' in gdf]].values\n",
    "y_train = gdf_dfs[0].df['mid_price_indicator'].values\n",
    "pca = PCA(n_components=3)\n",
    "pca.fit(X_train)\n",
    "X_train = pca.transform(X_train)\n",
    "\n",
    "X_test = df_test[[gdf for gdf in gdf_dfs[0].df_test.columns if 'gdf' in gdf or 'queue' in gdf]].values\n",
    "y_test = df_test['mid_price_indicator'].values\n",
    "X_test = pca.transform(X_test)\n",
    "\n",
    "#X_test= np.reshape(X_test, (X_test.shape[0], 1, 3))\n",
    "#X_train = np.reshape(X_train, (X_train.shape[0], 1, 3))\n",
    "print(X_train.shape)\n",
    "print(X_test.shape)\n"
   ]
  },
  {
   "cell_type": "code",
   "execution_count": null,
   "metadata": {},
   "outputs": [],
   "source": [
    "from sklearn.utils import class_weight\n",
    "a = np.unique(y_train)\n",
    "print(a)\n",
    "class_weight.compute_class_weight('balanced', a, y_train)"
   ]
  },
  {
   "cell_type": "code",
   "execution_count": null,
   "metadata": {},
   "outputs": [],
   "source": [
    "max_features = 1024\n",
    "model = Sequential()\n",
    "# model.add(LSTM(6))\n",
    "model.add(Dense(6, activation='tanh'))\n",
    "model.add(Dense(6, activation='tanh'))\n",
    "model.add(Dense(6, activation='tanh'))\n",
    "model.add(Dense(6, activation='tanh'))\n",
    "model.add(Dense(6, activation='tanh'))\n",
    "model.add(Dense(6, activation='tanh'))\n",
    "model.add(Dense(1, activation='sigmoid'))\n",
    "model.compile(loss='binary_crossentropy', optimizer='adam', metrics=[auc_roc])\n",
    "\n",
    "model.fit(X_train, y_train, shuffle=False, \n",
    "          epochs=4, batch_size=50, class_weight={0: 0.71002219, 1: 1.69035041})\n",
    "print(model.summary())"
   ]
  },
  {
   "cell_type": "code",
   "execution_count": null,
   "metadata": {},
   "outputs": [],
   "source": [
    "pred_test = model.predict_classes(X_test)\n",
    "pred = model.predict_classes(X_train)\n",
    "\n",
    "print(metrics.roc_auc_score(y_test, pred_test), metrics.roc_auc_score(y_train, pred))\n",
    "print(metrics.matthews_corrcoef(y_test, pred_test), metrics.matthews_corrcoef(y_train, pred))"
   ]
  },
  {
   "cell_type": "code",
   "execution_count": null,
   "metadata": {},
   "outputs": [],
   "source": []
  },
  {
   "cell_type": "code",
   "execution_count": 14,
   "metadata": {},
   "outputs": [],
   "source": [
    "model = Sequential()\n",
    "model.add(LSTM(6))\n",
    "model.add(Dense(6, activation='tanh'))\n",
    "model.add(Dense(6, activation='tanh'))\n",
    "model.add(Dense(6, activation='tanh'))\n",
    "model.add(Dense(6, activation='tanh'))\n",
    "model.add(Dense(6, activation='tanh'))\n",
    "model.add(Dense(6, activation='tanh'))\n",
    "model.add(Dense(1, activation='sigmoid'))\n",
    "model.compile(loss='binary_crossentropy', optimizer='adam', metrics=[auc_roc])"
   ]
  },
  {
   "cell_type": "code",
   "execution_count": 15,
   "metadata": {},
   "outputs": [
    {
     "name": "stdout",
     "output_type": "stream",
     "text": [
      "Epoch 1/3\n",
      "8725/8725 [==============================] - 3s 289us/step - loss: 0.6868 - auc: 0.5762\n",
      "Epoch 2/3\n",
      "8725/8725 [==============================] - 0s 46us/step - loss: 0.6869 - auc: 0.5854\n",
      "Epoch 3/3\n",
      "8725/8725 [==============================] - 0s 48us/step - loss: 0.6864 - auc: 0.5871\n",
      "Epoch 1/3\n",
      "8725/8725 [==============================] - 3s 333us/step - loss: 0.6780 - auc: 0.5763\n",
      "Epoch 2/3\n",
      "8725/8725 [==============================] - 0s 48us/step - loss: 0.6770 - auc: 0.5900\n",
      "Epoch 3/3\n",
      "8725/8725 [==============================] - 0s 56us/step - loss: 0.6767 - auc: 0.5912\n",
      "Epoch 1/3\n",
      "8725/8725 [==============================] - 3s 342us/step - loss: 0.6702 - auc: 0.5765\n",
      "Epoch 2/3\n",
      "8725/8725 [==============================] - 0s 51us/step - loss: 0.6696 - auc: 0.5923\n",
      "Epoch 3/3\n",
      "8725/8725 [==============================] - 0s 50us/step - loss: 0.6693 - auc: 0.5935\n",
      "Epoch 1/3\n",
      "8725/8725 [==============================] - 3s 365us/step - loss: 0.6671 - auc: 0.5836\n",
      "Epoch 2/3\n",
      "8725/8725 [==============================] - 0s 50us/step - loss: 0.6663 - auc: 0.5972\n",
      "Epoch 3/3\n",
      "8725/8725 [==============================] - 0s 51us/step - loss: 0.6661 - auc: 0.5990\n",
      "Epoch 1/3\n",
      "8725/8725 [==============================] - 4s 411us/step - loss: 0.6521 - auc: 0.6079\n",
      "Epoch 2/3\n",
      "8725/8725 [==============================] - 1s 65us/step - loss: 0.6526 - auc: 0.6136\n",
      "Epoch 3/3\n",
      "8725/8725 [==============================] - 0s 54us/step - loss: 0.6526 - auc: 0.6147\n",
      "Epoch 1/3\n",
      "19199/19199 [==============================] - 1s 59us/step - loss: 0.6786 - auc: 0.6125\n",
      "Epoch 2/3\n",
      "19199/19199 [==============================] - 1s 58us/step - loss: 0.6772 - auc: 0.6097\n",
      "Epoch 3/3\n",
      "19199/19199 [==============================] - 1s 55us/step - loss: 0.6772 - auc: 0.6081\n",
      "Epoch 1/3\n",
      "19199/19199 [==============================] - 4s 227us/step - loss: 0.6773 - auc: 0.5958\n",
      "Epoch 2/3\n",
      "19199/19199 [==============================] - 1s 54us/step - loss: 0.6773 - auc: 0.6025\n",
      "Epoch 3/3\n",
      "19199/19199 [==============================] - 1s 54us/step - loss: 0.6774 - auc: 0.6025\n",
      "Epoch 1/3\n",
      "19199/19199 [==============================] - 5s 238us/step - loss: 0.6774 - auc: 0.5961\n",
      "Epoch 2/3\n",
      "19199/19199 [==============================] - 1s 53us/step - loss: 0.6774 - auc: 0.6023\n",
      "Epoch 3/3\n",
      "19199/19199 [==============================] - 1s 52us/step - loss: 0.6774 - auc: 0.6023\n"
     ]
    }
   ],
   "source": [
    "epochs = 3\n",
    "batch_size = 50\n",
    "score = gdf_dfs[0].train_lstm(\n",
    "    model, feature_name='pca_n_gdf_que_prev', plot_name='here.png',\n",
    "    fit_kwargs={'epochs': epochs, 'batch_size': batch_size, 'verbose': 1, \n",
    "                'class_weight': {0: 0.71002219, 1: 1.69035041}, 'shuffle': False}, \n",
    "    compile_kwargs= { 'loss': 'binary_crossentropy', 'optimizer': 'adam', 'metrics': [auc_roc]})"
   ]
  },
  {
   "cell_type": "code",
   "execution_count": 16,
   "metadata": {},
   "outputs": [
    {
     "data": {
      "text/plain": [
       "{'precision': 0.3645214368099968,\n",
       " 'f1': 0.4035936534246898,\n",
       " 'recall': 0.49424392816898133,\n",
       " 'roc_auc': 0.5724031829164193,\n",
       " 'kappa': 0.1279464530598284,\n",
       " 'matthews': 0.13745705998636343,\n",
       " 'train_val_precision': 0.3616774880844805,\n",
       " 'train_val_f1': 0.40701070023442754,\n",
       " 'train_val_recall': 0.5022124514333182,\n",
       " 'train_val_roc_auc': 0.5683271107492425,\n",
       " 'train_val_kappa': 0.12196590678046657,\n",
       " 'train_val_matthews': 0.13087735528486508,\n",
       " 'train_precision': 0.3435976392096484,\n",
       " 'train_f1': 0.46252158894645934,\n",
       " 'train_recall': 0.7073428420496566,\n",
       " 'train_roc_auc': 0.5698696458768994,\n",
       " 'train_kappa': 0.1069175937058614,\n",
       " 'train_matthews': 0.13069376092927196,\n",
       " 'stock': '9761',\n",
       " 'kernel': 'lstm',\n",
       " 'features': 'pca_n_gdf_que_prev',\n",
       " 'pca_components': 4,\n",
       " 'test_precision': 0.3461939520333681,\n",
       " 'test_f1': 0.4598337950138504,\n",
       " 'test_recall': 0.6845360824742268,\n",
       " 'test_roc_auc': 0.5610180412371134,\n",
       " 'test_kappa': 0.0956365518211113,\n",
       " 'test_matthews': 0.11447384390129056}"
      ]
     },
     "execution_count": 16,
     "metadata": {},
     "output_type": "execute_result"
    }
   ],
   "source": [
    "score"
   ]
  },
  {
   "cell_type": "code",
   "execution_count": null,
   "metadata": {},
   "outputs": [],
   "source": [
    "## With validation"
   ]
  },
  {
   "cell_type": "code",
   "execution_count": 15,
   "metadata": {},
   "outputs": [],
   "source": [
    "model = Sequential()\n",
    "model.add(LSTM(12, input_shape=(10, 4)))\n",
    "model.add(Dense(12, activation='tanh'))\n",
    "model.add(Dense(6, activation='tanh'))\n",
    "model.add(Dense(3, activation='tanh'))\n",
    "model.add(Dense(1, activation='sigmoid'))\n",
    "model.compile(loss='binary_crossentropy', optimizer='adam', metrics=[auc_roc])"
   ]
  },
  {
   "cell_type": "code",
   "execution_count": 16,
   "metadata": {},
   "outputs": [
    {
     "name": "stdout",
     "output_type": "stream",
     "text": [
      "Epoch 1/3\n",
      "8720/8720 [==============================] - 10s 1ms/step - loss: 0.6927 - auc: 0.4982\n",
      "Epoch 2/3\n",
      "8720/8720 [==============================] - 8s 916us/step - loss: 0.6873 - auc: 0.5620\n",
      "Epoch 3/3\n",
      "8720/8720 [==============================] - 8s 896us/step - loss: 0.6847 - auc: 0.5750\n",
      "Epoch 1/3\n",
      "8720/8720 [==============================] - 12s 1ms/step - loss: 0.6751 - auc: 0.5802\n",
      "Epoch 2/3\n",
      "8720/8720 [==============================] - 8s 878us/step - loss: 0.6739 - auc: 0.5970 0s - loss: 0.6722 - auc: 0.5\n",
      "Epoch 3/3\n",
      "8720/8720 [==============================] - 6s 669us/step - loss: 0.6734 - auc: 0.5988\n",
      "Epoch 1/3\n",
      "8720/8720 [==============================] - 8s 952us/step - loss: 0.6663 - auc: 0.5873 1s - loss: 0.66\n",
      "Epoch 2/3\n",
      "8720/8720 [==============================] - 6s 634us/step - loss: 0.6659 - auc: 0.6026\n",
      "Epoch 3/3\n",
      "8720/8720 [==============================] - 5s 597us/step - loss: 0.6657 - auc: 0.6034\n",
      "Epoch 1/3\n",
      "8720/8720 [==============================] - 8s 936us/step - loss: 0.6634 - auc: 0.5982\n",
      "Epoch 2/3\n",
      "8720/8720 [==============================] - 5s 616us/step - loss: 0.6630 - auc: 0.6076\n",
      "Epoch 3/3\n",
      "8720/8720 [==============================] - 6s 704us/step - loss: 0.6628 - auc: 0.6083\n",
      "Epoch 1/3\n",
      "8720/8720 [==============================] - 8s 887us/step - loss: 0.6488 - auc: 0.6162\n",
      "Epoch 2/3\n",
      "8720/8720 [==============================] - 6s 663us/step - loss: 0.6492 - auc: 0.6215\n",
      "Epoch 3/3\n",
      "8720/8720 [==============================] - 6s 644us/step - loss: 0.6491 - auc: 0.6226\n",
      "Epoch 1/3\n",
      "19190/19190 [==============================] - 13s 665us/step - loss: 0.6754 - auc: 0.6204\n",
      "Epoch 2/3\n",
      "19190/19190 [==============================] - 14s 752us/step - loss: 0.6744 - auc: 0.6172\n",
      "Epoch 3/3\n",
      "19190/19190 [==============================] - 12s 645us/step - loss: 0.6743 - auc: 0.6154\n",
      "Epoch 1/3\n",
      "19190/19190 [==============================] - 19s 969us/step - loss: 0.6743 - auc: 0.6013\n",
      "Epoch 2/3\n",
      "19190/19190 [==============================] - 12s 606us/step - loss: 0.6741 - auc: 0.6096\n",
      "Epoch 3/3\n",
      "19190/19190 [==============================] - 14s 727us/step - loss: 0.6739 - auc: 0.6101\n",
      "Epoch 1/3\n",
      "19190/19190 [==============================] - 15s 801us/step - loss: 0.6740 - auc: 0.6020\n",
      "Epoch 2/3\n",
      "19190/19190 [==============================] - 13s 666us/step - loss: 0.6737 - auc: 0.6102\n",
      "Epoch 3/3\n",
      "19190/19190 [==============================] - 12s 625us/step - loss: 0.6737 - auc: 0.6108\n"
     ]
    }
   ],
   "source": [
    "epochs = 3\n",
    "batch_size = 50\n",
    "score = gdf_dfs[0].train_lstm(\n",
    "    model, feature_name='pca_n_gdf_que_prev', plot_name='here.png', n_steps=10,\n",
    "    fit_kwargs={'epochs': epochs, 'batch_size': batch_size, 'verbose': 1, 'shuffle': False}, \n",
    "    class_weight={0: 0.71002219, 1: 1.69035041},\n",
    "    compile_kwargs= { 'loss': 'binary_crossentropy', 'optimizer': 'adam', 'metrics': [auc_roc]})"
   ]
  },
  {
   "cell_type": "code",
   "execution_count": 18,
   "metadata": {},
   "outputs": [
    {
     "data": {
      "text/plain": [
       "(0.14407964291768027, 0.11959443708797061)"
      ]
     },
     "execution_count": 18,
     "metadata": {},
     "output_type": "execute_result"
    }
   ],
   "source": [
    "score['matthews'], score['test_matthews']"
   ]
  }
 ],
 "metadata": {
  "kernelspec": {
   "display_name": "Python 3",
   "language": "python",
   "name": "python3"
  },
  "language_info": {
   "codemirror_mode": {
    "name": "ipython",
    "version": 3
   },
   "file_extension": ".py",
   "mimetype": "text/x-python",
   "name": "python",
   "nbconvert_exporter": "python",
   "pygments_lexer": "ipython3",
   "version": "3.6.5"
  }
 },
 "nbformat": 4,
 "nbformat_minor": 2
}
