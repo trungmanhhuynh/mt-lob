{
 "cells": [
  {
   "cell_type": "code",
   "execution_count": 1,
   "metadata": {},
   "outputs": [
    {
     "name": "stderr",
     "output_type": "stream",
     "text": [
      "Using TensorFlow backend.\n"
     ]
    }
   ],
   "source": [
    "%load_ext autoreload\n",
    "\n",
    "%autoreload 2\n",
    "%matplotlib inline\n",
    "import pandas as pd\n",
    "import matplotlib.pyplot as plt\n",
    "import seaborn as sns\n",
    "from sklearn.cluster import KMeans\n",
    "from sklearn.svm import SVC\n",
    " \n",
    "from sklearn import metrics\n",
    "\n",
    "from mlxtend.plotting import plot_decision_regions\n",
    "from sklearn import preprocessing, metrics\n",
    "from sklearn.linear_model import LogisticRegression\n",
    "\n",
    "import warnings\n",
    "import numpy as np\n",
    "from collections import OrderedDict\n",
    "\n",
    "from lob_data_utils import lob, db_result, model\n",
    "from lob_data_utils.svm_calculation import lob_svm\n",
    "\n",
    "\n",
    "sns.set_style('whitegrid')\n",
    "warnings.filterwarnings('ignore')"
   ]
  },
  {
   "cell_type": "code",
   "execution_count": 2,
   "metadata": {},
   "outputs": [],
   "source": [
    "data_length = 24000\n",
    "stocks = ['3459', '2748', '9268']\n",
    "should_save_fig = True"
   ]
  },
  {
   "cell_type": "code",
   "execution_count": 3,
   "metadata": {},
   "outputs": [],
   "source": [
    "d_stocks = {}\n",
    "d_cv_stocks = {}\n",
    "d_test_stocks = {}\n",
    "for s in stocks:\n",
    "    d, d_test = lob.load_prepared_data(\n",
    "        s, data_dir='../data/prepared', length=data_length)\n",
    "    d.index = pd.to_datetime(d['Unnamed: 0'].values)\n",
    "    d_test.index = pd.to_datetime(d_test['Unnamed: 0'].values)\n",
    "    d_stocks[s] = d\n",
    "    d_test_stocks[s] = d_test"
   ]
  },
  {
   "cell_type": "code",
   "execution_count": 4,
   "metadata": {},
   "outputs": [
    {
     "name": "stdout",
     "output_type": "stream",
     "text": [
      "Dates of datasets\n",
      "3459\n",
      "training 2013-09-02 08:30:00 - 2013-10-30 12:47:00\n",
      "testing 2013-10-30 12:48:00 - 2013-11-14 10:06:00\n",
      "2748\n",
      "training 2013-09-02 08:30:00 - 2013-10-30 12:51:00\n",
      "testing 2013-10-30 12:52:00 - 2013-11-14 10:10:00\n",
      "9268\n",
      "training 2013-09-02 08:30:00 - 2013-10-30 12:47:00\n",
      "testing 2013-10-30 12:48:00 - 2013-11-14 10:06:00\n"
     ]
    }
   ],
   "source": [
    "print('Dates of datasets')\n",
    "for s in stocks:\n",
    "    print(s)\n",
    "    print('training', min(d_stocks[s].index), '-', max(d_stocks[s].index))\n",
    "    print('testing', min(d_test_stocks[s].index), '-', max(d_test_stocks[s].index))"
   ]
  },
  {
   "cell_type": "markdown",
   "metadata": {},
   "source": [
    "## Logistic regression on queue imbalance feature\n"
   ]
  },
  {
   "cell_type": "code",
   "execution_count": 5,
   "metadata": {},
   "outputs": [],
   "source": [
    "from sklearn import utils\n",
    "def get_classes_weights(df):\n",
    "    y_train = df['mid_price_indicator'].values\n",
    "    classes = np.unique(y_train)\n",
    "    class_weight_list = utils.class_weight.compute_class_weight('balanced', classes, y_train)\n",
    "    class_weights = {classes[0]: class_weight_list[0], classes[1]: class_weight_list[1]}\n",
    "    return class_weights"
   ]
  },
  {
   "cell_type": "code",
   "execution_count": 6,
   "metadata": {},
   "outputs": [],
   "source": [
    "def get_scores_dict_for_data(functions_to_run, dfs, clf, stock):\n",
    "    scores = {'stock': stock}\n",
    "    for func_name, func in functions_to_run.items():\n",
    "        for df_name, df in dfs.items():\n",
    "            pred = clf.predict(df['queue_imbalance'].values.reshape(-1, 1))\n",
    "            scores['{}_{}'.format(df_name, func_name)] = func(df['mid_price_indicator'], pred)\n",
    "    return scores\n",
    "            \n",
    "functions_to_run = {'precision': metrics.precision_score, 'roc_auc': metrics.roc_auc_score,\n",
    "                   'f1_score': metrics.f1_score, 'recall': metrics.recall_score,\n",
    "                   'matthews': metrics.matthews_corrcoef, 'kappa': metrics.cohen_kappa_score}\n",
    "scores = []\n",
    "for stock in stocks:\n",
    "    log_clf = LogisticRegression(random_state=0, class_weight=get_classes_weights(d_stocks[stock])) #21312)\n",
    "    res_train = model.validate_model(log_clf, d_stocks[stock][['queue_imbalance']], \n",
    "                         d_stocks[stock]['mid_price_indicator'])\n",
    "    dfs = {'test': d_test_stocks[stock]}\n",
    "    res = get_scores_dict_for_data(functions_to_run, dfs, log_clf, stock)\n",
    "    d_stocks[stock]['pred_log'] = log_clf.predict(d_stocks[stock][['queue_imbalance']])\n",
    "\n",
    "    res = {**res, **res_train}\n",
    "    scores.append(res)\n",
    "df_scores = pd.DataFrame(scores, index=stocks)"
   ]
  },
  {
   "cell_type": "code",
   "execution_count": 7,
   "metadata": {},
   "outputs": [
    {
     "data": {
      "text/html": [
       "<div>\n",
       "<style scoped>\n",
       "    .dataframe tbody tr th:only-of-type {\n",
       "        vertical-align: middle;\n",
       "    }\n",
       "\n",
       "    .dataframe tbody tr th {\n",
       "        vertical-align: top;\n",
       "    }\n",
       "\n",
       "    .dataframe thead th {\n",
       "        text-align: right;\n",
       "    }\n",
       "</style>\n",
       "<table border=\"1\" class=\"dataframe\">\n",
       "  <thead>\n",
       "    <tr style=\"text-align: right;\">\n",
       "      <th></th>\n",
       "      <th>f1</th>\n",
       "      <th>kappa</th>\n",
       "      <th>matthews</th>\n",
       "      <th>precision</th>\n",
       "      <th>recall</th>\n",
       "      <th>roc_auc</th>\n",
       "      <th>stock</th>\n",
       "      <th>test_f1_score</th>\n",
       "      <th>test_kappa</th>\n",
       "      <th>test_matthews</th>\n",
       "      <th>...</th>\n",
       "      <th>train_matthews</th>\n",
       "      <th>train_precision</th>\n",
       "      <th>train_recall</th>\n",
       "      <th>train_roc_auc</th>\n",
       "      <th>train_val_f1</th>\n",
       "      <th>train_val_kappa</th>\n",
       "      <th>train_val_matthews</th>\n",
       "      <th>train_val_precision</th>\n",
       "      <th>train_val_recall</th>\n",
       "      <th>train_val_roc_auc</th>\n",
       "    </tr>\n",
       "  </thead>\n",
       "  <tbody>\n",
       "    <tr>\n",
       "      <th>3459</th>\n",
       "      <td>0.344387</td>\n",
       "      <td>0.092428</td>\n",
       "      <td>0.120196</td>\n",
       "      <td>0.236054</td>\n",
       "      <td>0.641646</td>\n",
       "      <td>0.576229</td>\n",
       "      <td>3459</td>\n",
       "      <td>0.352005</td>\n",
       "      <td>0.112207</td>\n",
       "      <td>0.130774</td>\n",
       "      <td>...</td>\n",
       "      <td>0.129963</td>\n",
       "      <td>0.250888</td>\n",
       "      <td>0.600319</td>\n",
       "      <td>0.581691</td>\n",
       "      <td>[0.36654569449026725, 0.371033360455655, 0.361...</td>\n",
       "      <td>[0.11206933746230985, 0.11422034093170752, 0.1...</td>\n",
       "      <td>[0.1383540326726628, 0.14171977601535152, 0.14...</td>\n",
       "      <td>[0.2584321935333799, 0.2612282309807516, 0.257...</td>\n",
       "      <td>[0.6301758366420873, 0.6400898371701291, 0.605...</td>\n",
       "      <td>[0.5861307221130574, 0.5879020614422075, 0.588...</td>\n",
       "    </tr>\n",
       "    <tr>\n",
       "      <th>2748</th>\n",
       "      <td>0.275834</td>\n",
       "      <td>0.115930</td>\n",
       "      <td>0.143627</td>\n",
       "      <td>0.234475</td>\n",
       "      <td>0.496546</td>\n",
       "      <td>0.592444</td>\n",
       "      <td>2748</td>\n",
       "      <td>0.291378</td>\n",
       "      <td>0.090305</td>\n",
       "      <td>0.134270</td>\n",
       "      <td>...</td>\n",
       "      <td>0.105855</td>\n",
       "      <td>0.184566</td>\n",
       "      <td>0.580131</td>\n",
       "      <td>0.575097</td>\n",
       "      <td>[0.26843878697117185, 0.2090909090909091, 0.22...</td>\n",
       "      <td>[0.06169525741580861, 0.09248273018217901, 0.0...</td>\n",
       "      <td>[0.08403748562839436, 0.0973096088719295, 0.10...</td>\n",
       "      <td>[0.17552019583843328, 0.1644993498049415, 0.17...</td>\n",
       "      <td>[0.5704057279236276, 0.2868480725623583, 0.352...</td>\n",
       "      <td>[0.5597074167202498, 0.5615038526779661, 0.571...</td>\n",
       "    </tr>\n",
       "    <tr>\n",
       "      <th>9268</th>\n",
       "      <td>0.429318</td>\n",
       "      <td>0.109560</td>\n",
       "      <td>0.116182</td>\n",
       "      <td>0.354562</td>\n",
       "      <td>0.544722</td>\n",
       "      <td>0.563328</td>\n",
       "      <td>9268</td>\n",
       "      <td>0.455886</td>\n",
       "      <td>0.122201</td>\n",
       "      <td>0.132175</td>\n",
       "      <td>...</td>\n",
       "      <td>0.122804</td>\n",
       "      <td>0.366101</td>\n",
       "      <td>0.564870</td>\n",
       "      <td>0.566503</td>\n",
       "      <td>[0.46559538524927896, 0.44929889298892983, 0.4...</td>\n",
       "      <td>[0.1203107617434479, 0.12525541618276848, 0.12...</td>\n",
       "      <td>[0.13132272935561157, 0.13319997013049167, 0.1...</td>\n",
       "      <td>[0.3744201457919152, 0.3700461949914904, 0.362...</td>\n",
       "      <td>[0.6154684095860566, 0.5717505634861006, 0.531...</td>\n",
       "      <td>[0.5705879981274781, 0.572202182617205, 0.5686...</td>\n",
       "    </tr>\n",
       "  </tbody>\n",
       "</table>\n",
       "<p>3 rows × 25 columns</p>\n",
       "</div>"
      ],
      "text/plain": [
       "            f1     kappa  matthews  precision    recall   roc_auc stock  \\\n",
       "3459  0.344387  0.092428  0.120196   0.236054  0.641646  0.576229  3459   \n",
       "2748  0.275834  0.115930  0.143627   0.234475  0.496546  0.592444  2748   \n",
       "9268  0.429318  0.109560  0.116182   0.354562  0.544722  0.563328  9268   \n",
       "\n",
       "      test_f1_score  test_kappa  test_matthews  \\\n",
       "3459       0.352005    0.112207       0.130774   \n",
       "2748       0.291378    0.090305       0.134270   \n",
       "9268       0.455886    0.122201       0.132175   \n",
       "\n",
       "                            ...                          train_matthews  \\\n",
       "3459                        ...                                0.129963   \n",
       "2748                        ...                                0.105855   \n",
       "9268                        ...                                0.122804   \n",
       "\n",
       "      train_precision  train_recall  train_roc_auc  \\\n",
       "3459         0.250888      0.600319       0.581691   \n",
       "2748         0.184566      0.580131       0.575097   \n",
       "9268         0.366101      0.564870       0.566503   \n",
       "\n",
       "                                           train_val_f1  \\\n",
       "3459  [0.36654569449026725, 0.371033360455655, 0.361...   \n",
       "2748  [0.26843878697117185, 0.2090909090909091, 0.22...   \n",
       "9268  [0.46559538524927896, 0.44929889298892983, 0.4...   \n",
       "\n",
       "                                        train_val_kappa  \\\n",
       "3459  [0.11206933746230985, 0.11422034093170752, 0.1...   \n",
       "2748  [0.06169525741580861, 0.09248273018217901, 0.0...   \n",
       "9268  [0.1203107617434479, 0.12525541618276848, 0.12...   \n",
       "\n",
       "                                     train_val_matthews  \\\n",
       "3459  [0.1383540326726628, 0.14171977601535152, 0.14...   \n",
       "2748  [0.08403748562839436, 0.0973096088719295, 0.10...   \n",
       "9268  [0.13132272935561157, 0.13319997013049167, 0.1...   \n",
       "\n",
       "                                    train_val_precision  \\\n",
       "3459  [0.2584321935333799, 0.2612282309807516, 0.257...   \n",
       "2748  [0.17552019583843328, 0.1644993498049415, 0.17...   \n",
       "9268  [0.3744201457919152, 0.3700461949914904, 0.362...   \n",
       "\n",
       "                                       train_val_recall  \\\n",
       "3459  [0.6301758366420873, 0.6400898371701291, 0.605...   \n",
       "2748  [0.5704057279236276, 0.2868480725623583, 0.352...   \n",
       "9268  [0.6154684095860566, 0.5717505634861006, 0.531...   \n",
       "\n",
       "                                      train_val_roc_auc  \n",
       "3459  [0.5861307221130574, 0.5879020614422075, 0.588...  \n",
       "2748  [0.5597074167202498, 0.5615038526779661, 0.571...  \n",
       "9268  [0.5705879981274781, 0.572202182617205, 0.5686...  \n",
       "\n",
       "[3 rows x 25 columns]"
      ]
     },
     "execution_count": 7,
     "metadata": {},
     "output_type": "execute_result"
    }
   ],
   "source": [
    "def convert_scores(df, column):\n",
    "    scores = []\n",
    "    for i, row in df.iterrows():\n",
    "        scores.append(np.mean(row[column]))\n",
    "    return scores\n",
    "scores_columns = ['f1', 'kappa', 'matthews', 'precision', 'recall', 'roc_auc', 'train_f1', 'train_kappa',\n",
    "       'train_matthews', 'train_precision', 'train_recall', 'train_roc_auc']\n",
    "\n",
    "for col in scores_columns:\n",
    "    df_scores[col] = convert_scores(df_scores, col)\n",
    "df_scores"
   ]
  },
  {
   "cell_type": "code",
   "execution_count": 8,
   "metadata": {},
   "outputs": [
    {
     "data": {
      "text/html": [
       "<div>\n",
       "<style scoped>\n",
       "    .dataframe tbody tr th:only-of-type {\n",
       "        vertical-align: middle;\n",
       "    }\n",
       "\n",
       "    .dataframe tbody tr th {\n",
       "        vertical-align: top;\n",
       "    }\n",
       "\n",
       "    .dataframe thead th {\n",
       "        text-align: right;\n",
       "    }\n",
       "</style>\n",
       "<table border=\"1\" class=\"dataframe\">\n",
       "  <thead>\n",
       "    <tr style=\"text-align: right;\">\n",
       "      <th></th>\n",
       "      <th>train_matthews</th>\n",
       "      <th>matthews</th>\n",
       "      <th>test_matthews</th>\n",
       "    </tr>\n",
       "  </thead>\n",
       "  <tbody>\n",
       "    <tr>\n",
       "      <th>3459</th>\n",
       "      <td>0.129963</td>\n",
       "      <td>0.120196</td>\n",
       "      <td>0.130774</td>\n",
       "    </tr>\n",
       "    <tr>\n",
       "      <th>2748</th>\n",
       "      <td>0.105855</td>\n",
       "      <td>0.143627</td>\n",
       "      <td>0.134270</td>\n",
       "    </tr>\n",
       "    <tr>\n",
       "      <th>9268</th>\n",
       "      <td>0.122804</td>\n",
       "      <td>0.116182</td>\n",
       "      <td>0.132175</td>\n",
       "    </tr>\n",
       "  </tbody>\n",
       "</table>\n",
       "</div>"
      ],
      "text/plain": [
       "      train_matthews  matthews  test_matthews\n",
       "3459        0.129963  0.120196       0.130774\n",
       "2748        0.105855  0.143627       0.134270\n",
       "9268        0.122804  0.116182       0.132175"
      ]
     },
     "execution_count": 8,
     "metadata": {},
     "output_type": "execute_result"
    }
   ],
   "source": [
    "df_scores[['train_matthews', 'matthews', 'test_matthews']]"
   ]
  },
  {
   "cell_type": "code",
   "execution_count": 9,
   "metadata": {},
   "outputs": [
    {
     "name": "stdout",
     "output_type": "stream",
     "text": [
      "log\n"
     ]
    },
    {
     "data": {
      "text/html": [
       "<div>\n",
       "<style scoped>\n",
       "    .dataframe tbody tr th:only-of-type {\n",
       "        vertical-align: middle;\n",
       "    }\n",
       "\n",
       "    .dataframe tbody tr th {\n",
       "        vertical-align: top;\n",
       "    }\n",
       "\n",
       "    .dataframe thead th {\n",
       "        text-align: right;\n",
       "    }\n",
       "</style>\n",
       "<table border=\"1\" class=\"dataframe\">\n",
       "  <thead>\n",
       "    <tr style=\"text-align: right;\">\n",
       "      <th></th>\n",
       "      <th>train_roc_auc</th>\n",
       "      <th>roc_auc</th>\n",
       "      <th>test_roc_auc</th>\n",
       "    </tr>\n",
       "  </thead>\n",
       "  <tbody>\n",
       "    <tr>\n",
       "      <th>3459</th>\n",
       "      <td>0.581691</td>\n",
       "      <td>0.576229</td>\n",
       "      <td>0.581522</td>\n",
       "    </tr>\n",
       "    <tr>\n",
       "      <th>2748</th>\n",
       "      <td>0.575097</td>\n",
       "      <td>0.592444</td>\n",
       "      <td>0.596587</td>\n",
       "    </tr>\n",
       "    <tr>\n",
       "      <th>9268</th>\n",
       "      <td>0.566503</td>\n",
       "      <td>0.563328</td>\n",
       "      <td>0.571607</td>\n",
       "    </tr>\n",
       "  </tbody>\n",
       "</table>\n",
       "</div>"
      ],
      "text/plain": [
       "      train_roc_auc   roc_auc  test_roc_auc\n",
       "3459       0.581691  0.576229      0.581522\n",
       "2748       0.575097  0.592444      0.596587\n",
       "9268       0.566503  0.563328      0.571607"
      ]
     },
     "execution_count": 9,
     "metadata": {},
     "output_type": "execute_result"
    }
   ],
   "source": [
    "print('log')\n",
    "df_scores[['train_roc_auc', 'roc_auc', 'test_roc_auc']]"
   ]
  },
  {
   "cell_type": "code",
   "execution_count": 10,
   "metadata": {},
   "outputs": [
    {
     "name": "stdout",
     "output_type": "stream",
     "text": [
      "\\begin{tabular}{lrrrrrr}\n",
      "\\toprule\n",
      "{} &  train\\_matthews &  matthews &  test\\_matthews &  train\\_roc\\_auc &   roc\\_auc &  test\\_roc\\_auc \\\\\n",
      "\\midrule\n",
      "3459 &        0.129963 &  0.120196 &       0.130774 &       0.581691 &  0.576229 &      0.581522 \\\\\n",
      "2748 &        0.105855 &  0.143627 &       0.134270 &       0.575097 &  0.592444 &      0.596587 \\\\\n",
      "9268 &        0.122804 &  0.116182 &       0.132175 &       0.566503 &  0.563328 &      0.571607 \\\\\n",
      "\\bottomrule\n",
      "\\end{tabular}\n",
      "\n"
     ]
    }
   ],
   "source": [
    "print(df_scores[['train_matthews', 'matthews', 'test_matthews', 'train_roc_auc', 'roc_auc', 'test_roc_auc']].to_latex())"
   ]
  },
  {
   "cell_type": "code",
   "execution_count": 11,
   "metadata": {},
   "outputs": [],
   "source": [
    "df_scores.to_csv('res_overview_all_three_logistic_regression.csv')"
   ]
  },
  {
   "cell_type": "code",
   "execution_count": 12,
   "metadata": {},
   "outputs": [
    {
     "name": "stdout",
     "output_type": "stream",
     "text": [
      "\\begin{tabular}{lrrrrrr}\n",
      "\\toprule\n",
      "{} &        f1 &  test\\_f1\\_score &  precision &  test\\_precision &    recall &  test\\_recall \\\\\n",
      "\\midrule\n",
      "3459 &  0.344387 &       0.352005 &   0.236054 &        0.256027 &  0.641646 &     0.563097 \\\\\n",
      "2748 &  0.275834 &       0.291378 &   0.234475 &        0.184830 &  0.496546 &     0.687964 \\\\\n",
      "9268 &  0.429318 &       0.455886 &   0.354562 &        0.368774 &  0.544722 &     0.596883 \\\\\n",
      "\\bottomrule\n",
      "\\end{tabular}\n",
      "\n"
     ]
    }
   ],
   "source": [
    "print(df_scores[['f1', 'test_f1_score', 'precision', 'test_precision', 'recall', 'test_recall']].to_latex())"
   ]
  },
  {
   "cell_type": "code",
   "execution_count": 13,
   "metadata": {},
   "outputs": [
    {
     "name": "stdout",
     "output_type": "stream",
     "text": [
      "Saving figure\n"
     ]
    },
    {
     "data": {
      "image/png": "[encoded data removed]",
      "text/plain": [
       "<Figure size 1944x432 with 3 Axes>"
      ]
     },
     "metadata": {},
     "output_type": "display_data"
    }
   ],
   "source": [
    "f, ax = plt.subplots(1, 3, figsize=(27,6))\n",
    "for i in range(len(stocks)):\n",
    "    stock = stocks[i]\n",
    "    d_stocks[stock]['Predicition of Mid Price Indicator'] = d_stocks[stock]['pred_log']\n",
    "    d_stocks[stock]['Mid Price Indicator'] = d_stocks[stock]['mid_price_indicator']\n",
    "    d_stocks[stock][['Predicition of Mid Price Indicator', 'Mid Price Indicator']].plot(\n",
    "        kind='kde', ax=ax[i])\n",
    "    ax[i].set_title('Density of Mid Price Indicator and its prediction {} on training data'.format(stock))\n",
    "    ax[i].legend(loc='lower right')\n",
    "if should_save_fig:\n",
    "    print('Saving figure')\n",
    "    plt.savefig('density_of_mid_price_and_prediction_training_data.png')"
   ]
  },
  {
   "cell_type": "code",
   "execution_count": 14,
   "metadata": {},
   "outputs": [
    {
     "name": "stdout",
     "output_type": "stream",
     "text": [
      "Saving figure\n"
     ]
    },
    {
     "data": {
      "image/png": "[encoded data removed]",
      "text/plain": [
       "<Figure size 1152x288 with 6 Axes>"
      ]
     },
     "metadata": {},
     "output_type": "display_data"
    }
   ],
   "source": [
    "f, ax = plt.subplots(1, 3, figsize=(16, 4))\n",
    "for i in range(len(stocks)):\n",
    "    stock = stocks[i]\n",
    "    d_stocks[stock]['Predicition of Mid Price Indicator'] = d_stocks[stock]['pred_log']\n",
    "    d_stocks[stock]['Mid Price Indicator'] = d_stocks[stock]['mid_price_indicator']\n",
    "    tn, fp, fn, tp = metrics.confusion_matrix(d_stocks[stock]['mid_price_indicator'], \n",
    "                                                  d_stocks[stock]['pred_log']).ravel()\n",
    "    sns.heatmap([[tp, fp], [fn, tn]],\n",
    "               ax=ax[i], annot=True, fmt='d', xticklabels=['Positive', 'Negative'], \n",
    "                yticklabels=['Positive', 'Negative'])\n",
    "    \n",
    "    ax[i].set_title('{}'.format(stock))\n",
    "    ax[i].set_ylabel('True Mid Price Indicator')\n",
    "    ax[i].set_xlabel('Predicted Mid Price Indicator')\n",
    "plt.tight_layout()\n",
    "if should_save_fig:\n",
    "    print('Saving figure')\n",
    "    plt.savefig('logistic_confusion_matrix.png')"
   ]
  },
  {
   "cell_type": "code",
   "execution_count": 15,
   "metadata": {},
   "outputs": [
    {
     "name": "stdout",
     "output_type": "stream",
     "text": [
      "Pivot values\n"
     ]
    },
    {
     "data": {
      "text/html": [
       "<div>\n",
       "<style scoped>\n",
       "    .dataframe tbody tr th:only-of-type {\n",
       "        vertical-align: middle;\n",
       "    }\n",
       "\n",
       "    .dataframe tbody tr th {\n",
       "        vertical-align: top;\n",
       "    }\n",
       "\n",
       "    .dataframe thead th {\n",
       "        text-align: right;\n",
       "    }\n",
       "</style>\n",
       "<table border=\"1\" class=\"dataframe\">\n",
       "  <thead>\n",
       "    <tr style=\"text-align: right;\">\n",
       "      <th></th>\n",
       "      <th>pivot</th>\n",
       "      <th>stock</th>\n",
       "    </tr>\n",
       "  </thead>\n",
       "  <tbody>\n",
       "    <tr>\n",
       "      <th>3459</th>\n",
       "      <td>0.096860</td>\n",
       "      <td>3459</td>\n",
       "    </tr>\n",
       "    <tr>\n",
       "      <th>2748</th>\n",
       "      <td>0.038263</td>\n",
       "      <td>2748</td>\n",
       "    </tr>\n",
       "    <tr>\n",
       "      <th>9268</th>\n",
       "      <td>0.018577</td>\n",
       "      <td>9268</td>\n",
       "    </tr>\n",
       "  </tbody>\n",
       "</table>\n",
       "</div>"
      ],
      "text/plain": [
       "         pivot stock\n",
       "3459  0.096860  3459\n",
       "2748  0.038263  2748\n",
       "9268  0.018577  9268"
      ]
     },
     "execution_count": 15,
     "metadata": {},
     "output_type": "execute_result"
    }
   ],
   "source": [
    "pivots = []\n",
    "print('Pivot values')\n",
    "for i in df_scores.index:\n",
    "    stock = i\n",
    "    df = d_stocks[stock]\n",
    "    \n",
    "    pivot = np.mean([np.min(df[df['pred_log'] == 1]['queue_imbalance']), \n",
    "                    np.max(df[df['pred_log'] == 0]['queue_imbalance'])])\n",
    "    pivots.append(pivot)\n",
    "df_scores['pivot'] = pivots\n",
    "df_scores[['pivot', 'stock']]"
   ]
  },
  {
   "cell_type": "code",
   "execution_count": 16,
   "metadata": {},
   "outputs": [],
   "source": [
    "for k, d in d_stocks.items():\n",
    "    above_pivot = []\n",
    "    pivot = df_scores[df_scores['stock'] == k]['pivot'].values[0]\n",
    "    for i, row in d.iterrows():\n",
    "        if row['queue_imbalance'] < pivot:\n",
    "            above_pivot.append(0)\n",
    "        else:\n",
    "            above_pivot.append(1)\n",
    "    d['above_pivot'] = above_pivot"
   ]
  },
  {
   "cell_type": "code",
   "execution_count": 17,
   "metadata": {},
   "outputs": [
    {
     "data": {
      "text/plain": [
       "Text(0.5,1,'Positive and ')"
      ]
     },
     "execution_count": 17,
     "metadata": {},
     "output_type": "execute_result"
    },
    {
     "data": {
      "image/png": "[encoded data removed]",
      "text/plain": [
       "<Figure size 1152x288 with 3 Axes>"
      ]
     },
     "metadata": {},
     "output_type": "display_data"
    }
   ],
   "source": [
    "f, ax = plt.subplots(1, 3, sharey=True, sharex=True, figsize=(16, 4))\n",
    "i = 0\n",
    "\n",
    "for k, d in d_stocks.items():\n",
    "    pivot = df_scores[df_scores['stock'] == k]['pivot'].values[0]\n",
    "    df = d[d['queue_imbalance'] < pivot]\n",
    "    confusion_matrix1 = metrics.confusion_matrix(df['mid_price_indicator'], df['pred_log'])\n",
    "    ax[i].bar(height = confusion_matrix1.ravel(), x=['Negatives below pivot','Positives below pivot',\n",
    "                                                     'Negatives above pivot','Postives above pivot'])\n",
    "    df = d[d['queue_imbalance'] > pivot]\n",
    "    confusion_matrix2 = metrics.confusion_matrix(df['mid_price_indicator'], df['pred_log'])\n",
    "    ax[i].bar(height = confusion_matrix2.ravel(), x=['Negatives below pivot','Positives below pivot',\n",
    "                                                     'Negatives above pivot','Postives above pivot'])\n",
    "    i += 1\n",
    "plt.title('Positive and ')"
   ]
  },
  {
   "cell_type": "code",
   "execution_count": 18,
   "metadata": {},
   "outputs": [
    {
     "ename": "AttributeError",
     "evalue": "module 'seaborn' has no attribute 'boxenplot'",
     "output_type": "error",
     "traceback": [
      "\u001b[0;31m---------------------------------------------------------------------------\u001b[0m",
      "\u001b[0;31mAttributeError\u001b[0m                            Traceback (most recent call last)",
      "\u001b[0;32m<ipython-input-18-0e9614d62bd2>\u001b[0m in \u001b[0;36m<module>\u001b[0;34m()\u001b[0m\n\u001b[1;32m      5\u001b[0m     \u001b[0mpivot\u001b[0m \u001b[0;34m=\u001b[0m \u001b[0mdf_scores\u001b[0m\u001b[0;34m[\u001b[0m\u001b[0mdf_scores\u001b[0m\u001b[0;34m[\u001b[0m\u001b[0;34m'stock'\u001b[0m\u001b[0;34m]\u001b[0m \u001b[0;34m==\u001b[0m \u001b[0mk\u001b[0m\u001b[0;34m]\u001b[0m\u001b[0;34m[\u001b[0m\u001b[0;34m'pivot'\u001b[0m\u001b[0;34m]\u001b[0m\u001b[0;34m.\u001b[0m\u001b[0mvalues\u001b[0m\u001b[0;34m[\u001b[0m\u001b[0;36m0\u001b[0m\u001b[0;34m]\u001b[0m\u001b[0;34m\u001b[0m\u001b[0m\n\u001b[1;32m      6\u001b[0m     \u001b[0mdf\u001b[0m \u001b[0;34m=\u001b[0m \u001b[0md\u001b[0m\u001b[0;34m[\u001b[0m\u001b[0md\u001b[0m\u001b[0;34m[\u001b[0m\u001b[0;34m'queue_imbalance'\u001b[0m\u001b[0;34m]\u001b[0m \u001b[0;34m<\u001b[0m \u001b[0mpivot\u001b[0m\u001b[0;34m]\u001b[0m\u001b[0;34m\u001b[0m\u001b[0m\n\u001b[0;32m----> 7\u001b[0;31m     \u001b[0msns\u001b[0m\u001b[0;34m.\u001b[0m\u001b[0mboxenplot\u001b[0m\u001b[0;34m(\u001b[0m\u001b[0my\u001b[0m\u001b[0;34m=\u001b[0m\u001b[0mdf\u001b[0m\u001b[0;34m[\u001b[0m\u001b[0;34m'queue_imbalance'\u001b[0m\u001b[0;34m]\u001b[0m\u001b[0;34m,\u001b[0m \u001b[0mx\u001b[0m\u001b[0;34m=\u001b[0m\u001b[0mdf\u001b[0m\u001b[0;34m[\u001b[0m\u001b[0;34m'mid_price_indicator'\u001b[0m\u001b[0;34m]\u001b[0m\u001b[0;34m,\u001b[0m \u001b[0max\u001b[0m\u001b[0;34m=\u001b[0m\u001b[0max\u001b[0m\u001b[0;34m[\u001b[0m\u001b[0mi\u001b[0m\u001b[0;34m]\u001b[0m\u001b[0;34m,\u001b[0m \u001b[0mpalette\u001b[0m\u001b[0;34m=\u001b[0m\u001b[0;34m'Set2'\u001b[0m\u001b[0;34m,\u001b[0m\u001b[0;34m)\u001b[0m\u001b[0;34m\u001b[0m\u001b[0m\n\u001b[0m\u001b[1;32m      8\u001b[0m     \u001b[0mdf\u001b[0m \u001b[0;34m=\u001b[0m \u001b[0md\u001b[0m\u001b[0;34m[\u001b[0m\u001b[0md\u001b[0m\u001b[0;34m[\u001b[0m\u001b[0;34m'queue_imbalance'\u001b[0m\u001b[0;34m]\u001b[0m \u001b[0;34m>\u001b[0m \u001b[0mpivot\u001b[0m\u001b[0;34m]\u001b[0m\u001b[0;34m\u001b[0m\u001b[0m\n\u001b[1;32m      9\u001b[0m     \u001b[0msns\u001b[0m\u001b[0;34m.\u001b[0m\u001b[0mboxenplot\u001b[0m\u001b[0;34m(\u001b[0m\u001b[0my\u001b[0m\u001b[0;34m=\u001b[0m\u001b[0mdf\u001b[0m\u001b[0;34m[\u001b[0m\u001b[0;34m'queue_imbalance'\u001b[0m\u001b[0;34m]\u001b[0m\u001b[0;34m,\u001b[0m \u001b[0mx\u001b[0m\u001b[0;34m=\u001b[0m\u001b[0mdf\u001b[0m\u001b[0;34m[\u001b[0m\u001b[0;34m'mid_price_indicator'\u001b[0m\u001b[0;34m]\u001b[0m\u001b[0;34m,\u001b[0m \u001b[0max\u001b[0m\u001b[0;34m=\u001b[0m\u001b[0max\u001b[0m\u001b[0;34m[\u001b[0m\u001b[0mi\u001b[0m\u001b[0;34m]\u001b[0m\u001b[0;34m,\u001b[0m \u001b[0mpalette\u001b[0m\u001b[0;34m=\u001b[0m\u001b[0;34m'Set1'\u001b[0m\u001b[0;34m,\u001b[0m \u001b[0;34m)\u001b[0m\u001b[0;34m\u001b[0m\u001b[0m\n",
      "\u001b[0;31mAttributeError\u001b[0m: module 'seaborn' has no attribute 'boxenplot'"
     ]
    },
    {
     "data": {
      "image/png": "[encoded data removed]",
      "text/plain": [
       "<Figure size 1152x864 with 3 Axes>"
      ]
     },
     "metadata": {},
     "output_type": "display_data"
    }
   ],
   "source": [
    "f, ax = plt.subplots(1, 3, sharey=True, sharex=True, figsize=(16, 12))\n",
    "plt.title('Violin Plots of Queue Imbalance vs Mid Price Indicator')\n",
    "i = 0\n",
    "for k, d in d_stocks.items():\n",
    "    pivot = df_scores[df_scores['stock'] == k]['pivot'].values[0]\n",
    "    df = d[d['queue_imbalance'] < pivot]\n",
    "    sns.boxenplot(y=df['queue_imbalance'], x=df['mid_price_indicator'], ax=ax[i], palette='Set2',)\n",
    "    df = d[d['queue_imbalance'] > pivot]\n",
    "    sns.boxenplot(y=df['queue_imbalance'], x=df['mid_price_indicator'], ax=ax[i], palette='Set1', )\n",
    "    ax[i].set_title(k)\n",
    "    ax[i].set_ylabel('Queue Imbalance')\n",
    "    ax[i].set_xlabel('Mid Price Indicator')\n",
    "    i += 1\n",
    "\n",
    "plt.ylabel('Queue Imbalance')\n",
    "plt.xlabel('Mid Price Indicator')"
   ]
  },
  {
   "cell_type": "code",
   "execution_count": null,
   "metadata": {},
   "outputs": [],
   "source": [
    "f, ax = plt.subplots(3, 1, figsize=(35, 15), sharex=True)\n",
    "i = 0\n",
    "\n",
    "for i in range(len(stocks)):\n",
    "    stock = stocks[i]\n",
    "    df = d_stocks[stock]\n",
    "    X = df[['queue_imbalance']].values\n",
    "    y = df['mid_price_indicator'].values.astype(np.integer)\n",
    "    \n",
    "    clf = LogisticRegression(class_weight=get_classes_weights(df))\n",
    "    clf.fit(X, y)\n",
    "    plot_decision_regions(X[0:1000], y[0:1000], clf=clf,ax=ax[i], colors=','.join(['orange', 'blue']))\n",
    "    ax[i].set_xlabel('Queue Imbalance')\n",
    "    ax[i].set_title('Logistic Regression Decision Regions for {} on training data'.format(stock))\n",
    "    ax[i].set_xlim(-1.01, 1.01)\n",
    "plt.tight_layout()\n",
    "if should_save_fig:\n",
    "    print('Saving figure')\n",
    "    plt.savefig('logistic_regression_decision_region.png'.format(s))"
   ]
  }
 ],
 "metadata": {
  "kernelspec": {
   "display_name": "Python 3",
   "language": "python",
   "name": "python3"
  },
  "language_info": {
   "codemirror_mode": {
    "name": "ipython",
    "version": 3
   },
   "file_extension": ".py",
   "mimetype": "text/x-python",
   "name": "python",
   "nbconvert_exporter": "python",
   "pygments_lexer": "ipython3",
   "version": "3.6.5"
  }
 },
 "nbformat": 4,
 "nbformat_minor": 2
}
