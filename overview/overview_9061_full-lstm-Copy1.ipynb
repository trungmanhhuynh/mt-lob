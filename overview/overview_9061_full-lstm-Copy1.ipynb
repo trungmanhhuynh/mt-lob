{
 "cells": [
  {
   "cell_type": "code",
   "execution_count": 3,
   "metadata": {},
   "outputs": [
    {
     "name": "stdout",
     "output_type": "stream",
     "text": [
      "The autoreload extension is already loaded. To reload it, use:\n",
      "  %reload_ext autoreload\n"
     ]
    },
    {
     "name": "stderr",
     "output_type": "stream",
     "text": [
      "Using TensorFlow backend.\n"
     ]
    }
   ],
   "source": [
    "%load_ext autoreload\n",
    "\n",
    "%autoreload 2\n",
    "%matplotlib inline\n",
    "import pandas as pd\n",
    "import matplotlib.pyplot as plt\n",
    "import seaborn as sns\n",
    "from sklearn.cluster import KMeans\n",
    "from sklearn.svm import SVC\n",
    "from sklearn.metrics import roc_auc_score, roc_curve\n",
    "\n",
    "from sklearn import preprocessing\n",
    "from sklearn.linear_model import LogisticRegression\n",
    "from sklearn.decomposition import PCA\n",
    "\n",
    "from keras.models import Sequential\n",
    "from keras.layers import Dense, Dropout\n",
    "from keras.layers import LSTM\n",
    "\n",
    "\n",
    "from keras.models import Sequential\n",
    "from keras.layers import Dense\n",
    "from keras.layers import LSTM\n",
    "from keras.layers.embeddings import Embedding\n",
    "from keras.preprocessing import sequence\n",
    "\n",
    "\n",
    "import warnings\n",
    "import numpy as np\n",
    "from collections import OrderedDict\n",
    "\n",
    "import os\n",
    "\n",
    "from lob_data_utils import lob, db_result, gdf_pca, model\n",
    "from lob_data_utils.svm_calculation import lob_svm\n",
    "\n",
    "\n",
    "sns.set_style('whitegrid')\n",
    "warnings.filterwarnings('ignore')"
   ]
  },
  {
   "cell_type": "code",
   "execution_count": 14,
   "metadata": {},
   "outputs": [],
   "source": [
    "data_length = 15000\n",
    "stock = '9061'\n",
    "gdf_filename_pattern = 'gdf_{}_r{}_s{}_K50'\n",
    "gdf_parameters = [(0.1, 0.1)] # [(1.0, 1.0), (0.1, 0.1), (0.1, 1.0), (1.0, 0.1), (0.01, 0.1)]"
   ]
  },
  {
   "cell_type": "code",
   "execution_count": 26,
   "metadata": {},
   "outputs": [
    {
     "data": {
      "text/html": [
       "<div>\n",
       "<style scoped>\n",
       "    .dataframe tbody tr th:only-of-type {\n",
       "        vertical-align: middle;\n",
       "    }\n",
       "\n",
       "    .dataframe tbody tr th {\n",
       "        vertical-align: top;\n",
       "    }\n",
       "\n",
       "    .dataframe thead th {\n",
       "        text-align: right;\n",
       "    }\n",
       "</style>\n",
       "<table border=\"1\" class=\"dataframe\">\n",
       "  <thead>\n",
       "    <tr style=\"text-align: right;\">\n",
       "      <th></th>\n",
       "      <th>matthews</th>\n",
       "      <th>roc_auc</th>\n",
       "      <th>test_matthews</th>\n",
       "      <th>test_roc_auc</th>\n",
       "      <th>train_matthews</th>\n",
       "      <th>train_roc_auc</th>\n",
       "      <th>train_val_matthews</th>\n",
       "      <th>train_val_roc_auc</th>\n",
       "    </tr>\n",
       "  </thead>\n",
       "  <tbody>\n",
       "    <tr>\n",
       "      <th>6</th>\n",
       "      <td>0.05613</td>\n",
       "      <td>0.519736</td>\n",
       "      <td>0.028219</td>\n",
       "      <td>0.506652</td>\n",
       "      <td>0.028341</td>\n",
       "      <td>0.50725</td>\n",
       "      <td>0.055184</td>\n",
       "      <td>0.518238</td>\n",
       "    </tr>\n",
       "  </tbody>\n",
       "</table>\n",
       "</div>"
      ],
      "text/plain": [
       "   matthews   roc_auc  test_matthews  test_roc_auc  train_matthews  \\\n",
       "6   0.05613  0.519736       0.028219      0.506652        0.028341   \n",
       "\n",
       "   train_roc_auc  train_val_matthews  train_val_roc_auc  \n",
       "6        0.50725            0.055184           0.518238  "
      ]
     },
     "execution_count": 26,
     "metadata": {},
     "output_type": "execute_result"
    }
   ],
   "source": [
    "df_log = pd.read_csv('res_log_que.csv')   \n",
    "df_log = df_log[df_log['stock'] == int(stock)]\n",
    "columns = [c for c in df_log.columns if 'matthews' in c or 'roc_auc' in c]\n",
    "df_log[columns]"
   ]
  },
  {
   "cell_type": "code",
   "execution_count": 16,
   "metadata": {},
   "outputs": [],
   "source": [
    "gdf_dfs = []\n",
    "for r, s in gdf_parameters:\n",
    "    gdf_dfs.append(gdf_pca.SvmGdfResults(\n",
    "        stock,  r=r, s=s, data_length=data_length, \n",
    "        gdf_filename_pattern=gdf_filename_pattern))"
   ]
  },
  {
   "cell_type": "code",
   "execution_count": 18,
   "metadata": {},
   "outputs": [
    {
     "data": {
      "text/plain": [
       "Index(['Unnamed: 0', 'datetime', 'gdf_0', 'gdf_1', 'gdf_10', 'gdf_11',\n",
       "       'gdf_12', 'gdf_13', 'gdf_14', 'gdf_15', 'gdf_16', 'gdf_17', 'gdf_18',\n",
       "       'gdf_19', 'gdf_2', 'gdf_20', 'gdf_21', 'gdf_22', 'gdf_23', 'gdf_24',\n",
       "       'gdf_25', 'gdf_26', 'gdf_27', 'gdf_28', 'gdf_29', 'gdf_3', 'gdf_30',\n",
       "       'gdf_31', 'gdf_32', 'gdf_33', 'gdf_34', 'gdf_35', 'gdf_36', 'gdf_37',\n",
       "       'gdf_38', 'gdf_39', 'gdf_4', 'gdf_40', 'gdf_41', 'gdf_42', 'gdf_43',\n",
       "       'gdf_44', 'gdf_45', 'gdf_46', 'gdf_47', 'gdf_48', 'gdf_49', 'gdf_5',\n",
       "       'gdf_6', 'gdf_7', 'gdf_8', 'gdf_9', 'mid_price', 'mid_price_indicator',\n",
       "       'queue_imbalance', 'bid_price', 'ask_price', 'prev_queue_imbalance'],\n",
       "      dtype='object')"
      ]
     },
     "execution_count": 18,
     "metadata": {},
     "output_type": "execute_result"
    }
   ],
   "source": [
    "gdf_dfs[0].df.columns"
   ]
  },
  {
   "cell_type": "code",
   "execution_count": 19,
   "metadata": {},
   "outputs": [],
   "source": [
    "def as_keras_metric(method):\n",
    "    import functools\n",
    "    from keras import backend as K\n",
    "    import tensorflow as tf\n",
    "    @functools.wraps(method)\n",
    "    def wrapper(self, args, **kwargs):\n",
    "        \"\"\" Wrapper for turning tensorflow metrics into keras metrics \"\"\"\n",
    "        value, update_op = method(self, args, **kwargs)\n",
    "        K.get_session().run(tf.local_variables_initializer())\n",
    "        with tf.control_dependencies([update_op]):\n",
    "            value = tf.identity(value)\n",
    "        return value\n",
    "    return wrapper\n",
    "import tensorflow as tf\n",
    "auc_roc = as_keras_metric(tf.metrics.auc)"
   ]
  },
  {
   "cell_type": "code",
   "execution_count": 20,
   "metadata": {},
   "outputs": [
    {
     "name": "stdout",
     "output_type": "stream",
     "text": [
      "(11999, 10)\n"
     ]
    }
   ],
   "source": [
    "X_train = gdf_dfs[0].df[[gdf for gdf in gdf_dfs[0].df.columns if 'gdf' in gdf or 'queue' in gdf]].values\n",
    "\n",
    "pca = PCA(n_components=10)\n",
    "pca.fit(X_train)\n",
    "X_train = pca.transform(X_train)\n",
    "\n",
    "print(X_train.shape)\n",
    "X_train = np.reshape(X_train, (X_train.shape[0], 1, 10))\n",
    "y_train = gdf_dfs[0].df['mid_price_indicator'].values\n",
    "#y_train = np.reshape(y_train, (y_train.shape[0], 1, y_train.shape[0]))"
   ]
  },
  {
   "cell_type": "code",
   "execution_count": 21,
   "metadata": {},
   "outputs": [
    {
     "name": "stdout",
     "output_type": "stream",
     "text": [
      "Epoch 1/3\n",
      "11999/11999 [==============================] - 3s 269us/step - loss: 0.6816 - auc: 0.5218\n",
      "Epoch 2/3\n",
      "11999/11999 [==============================] - 3s 222us/step - loss: 0.6804 - auc: 0.5481\n",
      "Epoch 3/3\n",
      "11999/11999 [==============================] - 3s 225us/step - loss: 0.6804 - auc: 0.5486\n",
      "_________________________________________________________________\n",
      "Layer (type)                 Output Shape              Param #   \n",
      "=================================================================\n",
      "lstm_1 (LSTM)                (None, 128)               71168     \n",
      "_________________________________________________________________\n",
      "dense_1 (Dense)              (None, 1)                 129       \n",
      "=================================================================\n",
      "Total params: 71,297\n",
      "Trainable params: 71,297\n",
      "Non-trainable params: 0\n",
      "_________________________________________________________________\n",
      "None\n"
     ]
    }
   ],
   "source": [
    "max_features = 1024\n",
    "model = Sequential()\n",
    "model.add(LSTM(128))\n",
    "model.add(Dense(1, activation='sigmoid'))\n",
    "model.compile(loss='binary_crossentropy', optimizer='adam', metrics=[auc_roc])\n",
    "\n",
    "model.fit(X_train, y_train, epochs=3, batch_size=10)\n",
    "print(model.summary())"
   ]
  },
  {
   "cell_type": "code",
   "execution_count": 24,
   "metadata": {},
   "outputs": [
    {
     "name": "stdout",
     "output_type": "stream",
     "text": [
      "(2999, 10)\n"
     ]
    }
   ],
   "source": [
    "X_test = gdf_dfs[0].df_test[[gdf for gdf in gdf_dfs[0].df_test.columns if 'gdf' in gdf or 'queue' in gdf]].values\n",
    "\n",
    "X_test = pca.transform(X_test)\n",
    "\n",
    "\n",
    "print(X_test.shape)\n",
    "X_test= np.reshape(X_test, (X_test.shape[0], 1, 10))\n",
    "y_test = gdf_dfs[0].df_test['mid_price_indicator'].values"
   ]
  },
  {
   "cell_type": "code",
   "execution_count": 25,
   "metadata": {},
   "outputs": [
    {
     "data": {
      "text/plain": [
       "(0.569473373438173, 0.5558991730354538)"
      ]
     },
     "execution_count": 25,
     "metadata": {},
     "output_type": "execute_result"
    }
   ],
   "source": [
    "pred_test = model.predict(X_test)\n",
    "\n",
    "pred = model.predict(X_train)\n",
    "from sklearn import metrics\n",
    "metrics.roc_auc_score(y_test, pred_test), metrics.roc_auc_score(y_train, pred)"
   ]
  },
  {
   "cell_type": "code",
   "execution_count": 12,
   "metadata": {},
   "outputs": [],
   "source": []
  }
 ],
 "metadata": {
  "kernelspec": {
   "display_name": "Python 3",
   "language": "python",
   "name": "python3"
  },
  "language_info": {
   "codemirror_mode": {
    "name": "ipython",
    "version": 3
   },
   "file_extension": ".py",
   "mimetype": "text/x-python",
   "name": "python",
   "nbconvert_exporter": "python",
   "pygments_lexer": "ipython3",
   "version": "3.6.5"
  }
 },
 "nbformat": 4,
 "nbformat_minor": 2
}
