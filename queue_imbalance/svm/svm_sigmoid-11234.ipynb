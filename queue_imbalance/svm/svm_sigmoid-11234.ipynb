{
 "cells": [
  {
   "cell_type": "markdown",
   "metadata": {},
   "source": [
    "# SVM with sigmoid kernel\n",
    "\n",
    "The goal of this notebook is to find the best parameters for polynomial kernel. We also want to check if the parameters depend on stock.\n",
    "\n",
    "We will use [sklearn.svm](http://scikit-learn.org/stable/modules/generated/sklearn.svm.SVC.html#sklearn.svm.SVC) library to perform calculations. We want to pick the best parameters for **SVC**:\n",
    "\n",
    "* C (default 1.0)\n",
    "* gamma (default 1/number_of_features, so 1 in our case)\n",
    "* coef0 (default 0.0)\n",
    "\n",
    "Sigmoid kernel function: $(\\tanh(\\gamma \\langle x,x'\\rangle + coef0))$"
   ]
  },
  {
   "cell_type": "code",
   "execution_count": 1,
   "metadata": {
    "collapsed": true
   },
   "outputs": [],
   "source": [
    "%matplotlib inline\n",
    "import pandas as pd\n",
    "\n",
    "import matplotlib.pyplot as plt\n",
    "import matplotlib.dates as md\n",
    "from statsmodels.distributions.empirical_distribution import ECDF\n",
    "import numpy as np\n",
    "import seaborn as sns\n",
    "from sklearn.metrics import roc_auc_score\n",
    "from sklearn.metrics import roc_curve\n",
    "from sklearn.metrics import classification_report\n",
    "from sklearn import svm\n",
    "import warnings\n",
    "\n",
    "from lob_data_utils import lob\n",
    "\n",
    "sns.set_style('whitegrid')\n",
    "\n",
    "warnings.filterwarnings('ignore')"
   ]
  },
  {
   "cell_type": "markdown",
   "metadata": {},
   "source": [
    "# Data\n",
    "\n",
    "We use data from 5 stocks (from dates 2013-09-01 - 2013-11-16) for which logistic regression yielded the best results.\n",
    "\n",
    "We selected 3 subsets for each stock:\n",
    "* training set (60% of data)\n",
    "* test set (20% of data)\n",
    "* cross-validation set (20% of data)"
   ]
  },
  {
   "cell_type": "code",
   "execution_count": 2,
   "metadata": {},
   "outputs": [
    {
     "name": "stdout",
     "output_type": "stream",
     "text": [
      "Len of data for  11234 is 6416\n",
      "Training set length for 11234: 3850\n",
      "Testing set length for 11234: 1283\n",
      "Cross-validation set length for 11234: 1283\n"
     ]
    }
   ],
   "source": [
    "stocks = ['11234']\n",
    "\n",
    "dfs = {}\n",
    "dfs_cv = {}\n",
    "dfs_test = {}\n",
    "\n",
    "for s in stocks:\n",
    "    df, df_cv, df_test = lob.load_prepared_data(s, cv=True, length=6416)\n",
    "    dfs[s] = df\n",
    "    dfs_test[s] = df_cv\n",
    "    dfs_cv[s] = df_test"
   ]
  },
  {
   "cell_type": "code",
   "execution_count": 3,
   "metadata": {},
   "outputs": [
    {
     "data": {
      "text/html": [
       "<div>\n",
       "<style>\n",
       "    .dataframe thead tr:only-child th {\n",
       "        text-align: right;\n",
       "    }\n",
       "\n",
       "    .dataframe thead th {\n",
       "        text-align: left;\n",
       "    }\n",
       "\n",
       "    .dataframe tbody tr th {\n",
       "        vertical-align: top;\n",
       "    }\n",
       "</style>\n",
       "<table border=\"1\" class=\"dataframe\">\n",
       "  <thead>\n",
       "    <tr style=\"text-align: right;\">\n",
       "      <th></th>\n",
       "      <th>Unnamed: 0</th>\n",
       "      <th>bid</th>\n",
       "      <th>ask</th>\n",
       "      <th>bid_price</th>\n",
       "      <th>ask_price</th>\n",
       "      <th>mid_price</th>\n",
       "      <th>sum_sell_ask</th>\n",
       "      <th>sum_buy_bid</th>\n",
       "      <th>mid_price_indicator</th>\n",
       "      <th>queue_imbalance</th>\n",
       "    </tr>\n",
       "  </thead>\n",
       "  <tbody>\n",
       "    <tr>\n",
       "      <th>1283</th>\n",
       "      <td>2013-09-16 14:11:00</td>\n",
       "      <td>[(950.0, 1000.0), (980.0, 500.0), (1000.0, 842...</td>\n",
       "      <td>[(1115.0, 10340.0), (1116.0, 28731.0), (1117.0...</td>\n",
       "      <td>1114.0</td>\n",
       "      <td>1115.0</td>\n",
       "      <td>1114.5</td>\n",
       "      <td>10340.0</td>\n",
       "      <td>287.0</td>\n",
       "      <td>0.0</td>\n",
       "      <td>-0.945987</td>\n",
       "    </tr>\n",
       "    <tr>\n",
       "      <th>1284</th>\n",
       "      <td>2013-09-16 14:13:00</td>\n",
       "      <td>[(950.0, 1000.0), (980.0, 500.0), (1000.0, 842...</td>\n",
       "      <td>[(1115.0, 12765.0), (1116.0, 25135.0), (1117.0...</td>\n",
       "      <td>1113.0</td>\n",
       "      <td>1115.0</td>\n",
       "      <td>1114.0</td>\n",
       "      <td>12765.0</td>\n",
       "      <td>43988.0</td>\n",
       "      <td>1.0</td>\n",
       "      <td>0.550156</td>\n",
       "    </tr>\n",
       "    <tr>\n",
       "      <th>1285</th>\n",
       "      <td>2013-09-16 14:15:00</td>\n",
       "      <td>[(950.0, 1000.0), (980.0, 500.0), (1000.0, 842...</td>\n",
       "      <td>[(1115.0, 8957.0), (1116.0, 12815.0), (1117.0,...</td>\n",
       "      <td>1114.0</td>\n",
       "      <td>1115.0</td>\n",
       "      <td>1114.5</td>\n",
       "      <td>8957.0</td>\n",
       "      <td>3036.0</td>\n",
       "      <td>0.0</td>\n",
       "      <td>-0.493705</td>\n",
       "    </tr>\n",
       "    <tr>\n",
       "      <th>1286</th>\n",
       "      <td>2013-09-16 14:18:00</td>\n",
       "      <td>[(950.0, 1000.0), (980.0, 500.0), (1000.0, 842...</td>\n",
       "      <td>[(1114.0, 3533.0), (1115.0, 20793.0), (1116.0,...</td>\n",
       "      <td>1113.0</td>\n",
       "      <td>1114.0</td>\n",
       "      <td>1113.5</td>\n",
       "      <td>3533.0</td>\n",
       "      <td>35022.0</td>\n",
       "      <td>1.0</td>\n",
       "      <td>0.816729</td>\n",
       "    </tr>\n",
       "    <tr>\n",
       "      <th>1287</th>\n",
       "      <td>2013-09-16 14:19:00</td>\n",
       "      <td>[(950.0, 1000.0), (980.0, 500.0), (1000.0, 842...</td>\n",
       "      <td>[(1115.0, 13136.0), (1116.0, 20184.0), (1117.0...</td>\n",
       "      <td>1113.0</td>\n",
       "      <td>1115.0</td>\n",
       "      <td>1114.0</td>\n",
       "      <td>13136.0</td>\n",
       "      <td>34319.0</td>\n",
       "      <td>0.0</td>\n",
       "      <td>0.446381</td>\n",
       "    </tr>\n",
       "  </tbody>\n",
       "</table>\n",
       "</div>"
      ],
      "text/plain": [
       "               Unnamed: 0                                                bid  \\\n",
       "1283  2013-09-16 14:11:00  [(950.0, 1000.0), (980.0, 500.0), (1000.0, 842...   \n",
       "1284  2013-09-16 14:13:00  [(950.0, 1000.0), (980.0, 500.0), (1000.0, 842...   \n",
       "1285  2013-09-16 14:15:00  [(950.0, 1000.0), (980.0, 500.0), (1000.0, 842...   \n",
       "1286  2013-09-16 14:18:00  [(950.0, 1000.0), (980.0, 500.0), (1000.0, 842...   \n",
       "1287  2013-09-16 14:19:00  [(950.0, 1000.0), (980.0, 500.0), (1000.0, 842...   \n",
       "\n",
       "                                                    ask  bid_price  ask_price  \\\n",
       "1283  [(1115.0, 10340.0), (1116.0, 28731.0), (1117.0...     1114.0     1115.0   \n",
       "1284  [(1115.0, 12765.0), (1116.0, 25135.0), (1117.0...     1113.0     1115.0   \n",
       "1285  [(1115.0, 8957.0), (1116.0, 12815.0), (1117.0,...     1114.0     1115.0   \n",
       "1286  [(1114.0, 3533.0), (1115.0, 20793.0), (1116.0,...     1113.0     1114.0   \n",
       "1287  [(1115.0, 13136.0), (1116.0, 20184.0), (1117.0...     1113.0     1115.0   \n",
       "\n",
       "      mid_price  sum_sell_ask  sum_buy_bid  mid_price_indicator  \\\n",
       "1283     1114.5       10340.0        287.0                  0.0   \n",
       "1284     1114.0       12765.0      43988.0                  1.0   \n",
       "1285     1114.5        8957.0       3036.0                  0.0   \n",
       "1286     1113.5        3533.0      35022.0                  1.0   \n",
       "1287     1114.0       13136.0      34319.0                  0.0   \n",
       "\n",
       "      queue_imbalance  \n",
       "1283        -0.945987  \n",
       "1284         0.550156  \n",
       "1285        -0.493705  \n",
       "1286         0.816729  \n",
       "1287         0.446381  "
      ]
     },
     "execution_count": 3,
     "metadata": {},
     "output_type": "execute_result"
    }
   ],
   "source": [
    "dfs[stocks[0]].head()"
   ]
  },
  {
   "cell_type": "code",
   "execution_count": 4,
   "metadata": {
    "collapsed": true
   },
   "outputs": [],
   "source": [
    "def svm_classification(d, kernel, gamma='auto', C=1.0, degree=3, coef0=0.0):\n",
    "    clf = svm.SVC(kernel=kernel, gamma=gamma, C=C, degree=degree, coef0=coef0)\n",
    "    X = d['queue_imbalance'].values.reshape(-1, 1)\n",
    "    y = d['mid_price_indicator'].values.reshape(-1, 1)\n",
    "    clf.fit(X, y)\n",
    "    return clf"
   ]
  },
  {
   "cell_type": "markdown",
   "metadata": {},
   "source": [
    "# Methodology\n",
    "\n",
    "We will use at first naive approach to grasp how each of the parameter influences the ROC area score and what values make sense, when the other parameters are set to defaults for parameters C and gamma.\n",
    "\n",
    "Next we will choose parameter coef0 for SVM with gamma and C set to the best values we got."
   ]
  },
  {
   "cell_type": "markdown",
   "metadata": {},
   "source": [
    "### C parameter\n",
    "\n",
    "The C parameter has influence over margin picked by SVM:\n",
    "* for large values of **C** SVM will choose a smaller-margin hyperplane, which means that more data points will be classified correctly\n",
    "* for small values of **C** SVM will choose a bigger-margin hyperplane, so there may be more misclassifications\n",
    "\n",
    "At first we tried parameters: [0.0001, 0.001, 0.01, 0.1, 1, 10, 1000], but after first calculations it seems that it wasn't enough, so a few more values were introduced or removed."
   ]
  },
  {
   "cell_type": "code",
   "execution_count": 5,
   "metadata": {},
   "outputs": [
    {
     "data": {
      "text/plain": [
       "<matplotlib.legend.Legend at 0x7fef83419320>"
      ]
     },
     "execution_count": 5,
     "metadata": {},
     "output_type": "execute_result"
    },
    {
     "data": {
      "image/png": "[encoded data removed]",
      "text/plain": [
       "<matplotlib.figure.Figure at 0x7fef82e85860>"
      ]
     },
     "metadata": {},
     "output_type": "display_data"
    }
   ],
   "source": [
    "cs = [0.01, 0.09, 0.1, 0.102, 0.105, 0.107, 0.11, 1.5]\n",
    "df_css = {}\n",
    "\n",
    "ax = plt.subplot()\n",
    "ax.set_xscale(\"log\", basex=10)\n",
    "for s in stocks:\n",
    "    df_cs = pd.DataFrame(index=cs)\n",
    "    df_cs['roc'] = np.zeros(len(df_cs))\n",
    "    for c in cs:\n",
    "        reg_svm = svm_classification(dfs[s], 'sigmoid', C=c, coef0=0)\n",
    "        pred_svm_out_of_sample = reg_svm.predict(dfs_cv[s]['queue_imbalance'].values.reshape(-1, 1))\n",
    "        logit_roc_auc = roc_auc_score(dfs_cv[s]['mid_price_indicator'], pred_svm_out_of_sample)\n",
    "        df_cs.loc[c] = logit_roc_auc\n",
    "    plt.plot(df_cs, linestyle='--', label=s, marker='x', alpha=0.5)\n",
    "    df_css[s] = df_cs\n",
    "    \n",
    "plt.legend()"
   ]
  },
  {
   "cell_type": "markdown",
   "metadata": {},
   "source": [
    "##### Best values of C parameter\n",
    "\n",
    "Choice of parameter C should be small - less than 0.1"
   ]
  },
  {
   "cell_type": "code",
   "execution_count": 6,
   "metadata": {},
   "outputs": [
    {
     "name": "stdout",
     "output_type": "stream",
     "text": [
      "For 11234 the best is 0.105\n"
     ]
    }
   ],
   "source": [
    "for s in stocks:\n",
    "    idx = df_css[s]['roc'].idxmax()\n",
    "    print('For {} the best is {}'.format(s, idx))"
   ]
  },
  {
   "cell_type": "markdown",
   "metadata": {},
   "source": [
    "##### Influence of C parameter\n",
    "\n",
    "The score difference between SVM with the worst choice of parameter **C** and the best choice one is shown on the output below."
   ]
  },
  {
   "cell_type": "code",
   "execution_count": 7,
   "metadata": {},
   "outputs": [
    {
     "name": "stdout",
     "output_type": "stream",
     "text": [
      "For 11234 the diff between best and worst 0.10875975631118973\n"
     ]
    }
   ],
   "source": [
    "for s in stocks:\n",
    "    err_max = df_css[s]['roc'].max()\n",
    "    err_min = df_css[s]['roc'].min()\n",
    "    print('For {} the diff between best and worst {}'.format(s, err_max - err_min))"
   ]
  },
  {
   "cell_type": "markdown",
   "metadata": {},
   "source": [
    "### Gamma\n",
    "\n",
    "Gamma is a parameter which has influence over decision region - the bigger it is, the bigger influence every single row of data has. When gamma is low the decision region is very broad. When gamma is high it can even create islands of decision-boundaries around data points."
   ]
  },
  {
   "cell_type": "code",
   "execution_count": 8,
   "metadata": {},
   "outputs": [
    {
     "data": {
      "text/plain": [
       "<matplotlib.legend.Legend at 0x7fef82fbfe48>"
      ]
     },
     "execution_count": 8,
     "metadata": {},
     "output_type": "execute_result"
    },
    {
     "data": {
      "image/png": "[encoded data removed]",
      "text/plain": [
       "<matplotlib.figure.Figure at 0x7fef82ff4a90>"
      ]
     },
     "metadata": {},
     "output_type": "display_data"
    }
   ],
   "source": [
    "gammas = [0.5, 0.85, 0.87, 0.9, 0.92, 0.93, 0.94, 0.95, 0.96, 0.97]\n",
    "\n",
    "df_gammas = {}\n",
    "\n",
    "ax = plt.subplot()\n",
    "ax.set_xscale(\"log\", basex=10)\n",
    "for s in stocks:\n",
    "    df_gamma = pd.DataFrame(index=gammas)\n",
    "    df_gamma['roc'] = np.zeros(len(df_gamma))\n",
    "    for g in gammas:\n",
    "        reg_svm = svm_classification(dfs[s], 'sigmoid', gamma=g, coef0=0)\n",
    "        pred_svm_out_of_sample = reg_svm.predict(dfs_cv[s]['queue_imbalance'].values.reshape(-1, 1))\n",
    "\n",
    "        logit_roc_auc = roc_auc_score(dfs_cv[s]['mid_price_indicator'], pred_svm_out_of_sample)\n",
    "        df_gamma.loc[g] = logit_roc_auc\n",
    "    plt.plot(df_gamma, linestyle='--', label=s, marker='x', alpha=0.5)\n",
    "    df_gammas[s] = df_gamma\n",
    "    \n",
    "plt.legend()"
   ]
  },
  {
   "cell_type": "markdown",
   "metadata": {},
   "source": [
    "##### Best values of gamma\n",
    "\n",
    "There is no rule, how to set this parameter."
   ]
  },
  {
   "cell_type": "code",
   "execution_count": 9,
   "metadata": {},
   "outputs": [
    {
     "name": "stdout",
     "output_type": "stream",
     "text": [
      "For 11234 the best is 0.5\n"
     ]
    }
   ],
   "source": [
    "for s in stocks:\n",
    "    idx = df_gammas[s]['roc'].idxmax()\n",
    "    print('For {} the best is {}'.format(s, idx))"
   ]
  },
  {
   "cell_type": "markdown",
   "metadata": {},
   "source": [
    "##### Influence of gamma\n",
    "\n",
    "The score difference between SVM with the worst choice of **gamma** and the best choice one is shown on the output below. For scoring method we used *roc_area*. For stocks **10795**, **11618** and **4481** the difference is more than 0.1, so it's definitelly worth to experiment more."
   ]
  },
  {
   "cell_type": "code",
   "execution_count": 10,
   "metadata": {},
   "outputs": [
    {
     "name": "stdout",
     "output_type": "stream",
     "text": [
      "For 11234 the diff between best and worst 0.08745523288631096\n"
     ]
    }
   ],
   "source": [
    "for s in stocks:\n",
    "    err_max = df_gammas[s]['roc'].max()\n",
    "    err_min = df_gammas[s]['roc'].min()\n",
    "    print('For {} the diff between best and worst {}'.format(s, err_max - err_min))"
   ]
  },
  {
   "cell_type": "code",
   "execution_count": 11,
   "metadata": {},
   "outputs": [
    {
     "name": "stdout",
     "output_type": "stream",
     "text": [
      "11234\n"
     ]
    }
   ],
   "source": [
    "df_params = {}\n",
    "\n",
    "for s in stocks:\n",
    "    print(s)\n",
    "    params = []\n",
    "    for c in cs:\n",
    "        for g in gammas:\n",
    "            reg_svm = svm_classification(dfs[s], 'sigmoid', C=c, gamma=g)\n",
    "            prediction = reg_svm.predict(dfs_cv[s]['queue_imbalance'].values.reshape(-1, 1))\n",
    "            score = roc_auc_score(dfs_cv[s]['mid_price_indicator'], prediction)\n",
    "            params.append({'score': score, 'gamma': g, 'c': c})\n",
    "    df_params[s] = pd.DataFrame(params)"
   ]
  },
  {
   "cell_type": "code",
   "execution_count": 12,
   "metadata": {},
   "outputs": [
    {
     "data": {
      "image/png": "[encoded data removed]",
      "text/plain": [
       "<matplotlib.figure.Figure at 0x7fef7fc9e470>"
      ]
     },
     "metadata": {},
     "output_type": "display_data"
    },
    {
     "data": {
      "text/plain": [
       "<matplotlib.figure.Figure at 0x7fef82f69d68>"
      ]
     },
     "metadata": {},
     "output_type": "display_data"
    }
   ],
   "source": [
    "for s in stocks:\n",
    "    df_g = df_params[s].pivot(index='c', columns='gamma', values='score')\n",
    "    sns.heatmap(df_g)\n",
    "    plt.title('Best params for ' + s)\n",
    "    plt.figure()"
   ]
  },
  {
   "cell_type": "code",
   "execution_count": 13,
   "metadata": {},
   "outputs": [
    {
     "name": "stdout",
     "output_type": "stream",
     "text": [
      "11234 c        0.107000\n",
      "gamma    0.950000\n",
      "score    0.616324\n",
      "Name: 57, dtype: float64\n"
     ]
    }
   ],
   "source": [
    "for s in stocks:\n",
    "    print(s, df_params[s].iloc[df_params[s]['score'].idxmax()])"
   ]
  },
  {
   "cell_type": "code",
   "execution_count": 14,
   "metadata": {},
   "outputs": [
    {
     "data": {
      "text/html": [
       "<div>\n",
       "<style>\n",
       "    .dataframe thead tr:only-child th {\n",
       "        text-align: right;\n",
       "    }\n",
       "\n",
       "    .dataframe thead th {\n",
       "        text-align: left;\n",
       "    }\n",
       "\n",
       "    .dataframe tbody tr th {\n",
       "        vertical-align: top;\n",
       "    }\n",
       "</style>\n",
       "<table border=\"1\" class=\"dataframe\">\n",
       "  <thead>\n",
       "    <tr style=\"text-align: right;\">\n",
       "      <th></th>\n",
       "      <th>c</th>\n",
       "      <th>gamma</th>\n",
       "      <th>score</th>\n",
       "    </tr>\n",
       "  </thead>\n",
       "  <tbody>\n",
       "    <tr>\n",
       "      <th>57</th>\n",
       "      <td>0.107</td>\n",
       "      <td>0.95</td>\n",
       "      <td>0.616324</td>\n",
       "    </tr>\n",
       "    <tr>\n",
       "      <th>66</th>\n",
       "      <td>0.110</td>\n",
       "      <td>0.94</td>\n",
       "      <td>0.616324</td>\n",
       "    </tr>\n",
       "    <tr>\n",
       "      <th>48</th>\n",
       "      <td>0.105</td>\n",
       "      <td>0.96</td>\n",
       "      <td>0.615571</td>\n",
       "    </tr>\n",
       "    <tr>\n",
       "      <th>39</th>\n",
       "      <td>0.102</td>\n",
       "      <td>0.97</td>\n",
       "      <td>0.615571</td>\n",
       "    </tr>\n",
       "    <tr>\n",
       "      <th>69</th>\n",
       "      <td>0.110</td>\n",
       "      <td>0.97</td>\n",
       "      <td>0.614667</td>\n",
       "    </tr>\n",
       "  </tbody>\n",
       "</table>\n",
       "</div>"
      ],
      "text/plain": [
       "        c  gamma     score\n",
       "57  0.107   0.95  0.616324\n",
       "66  0.110   0.94  0.616324\n",
       "48  0.105   0.96  0.615571\n",
       "39  0.102   0.97  0.615571\n",
       "69  0.110   0.97  0.614667"
      ]
     },
     "execution_count": 14,
     "metadata": {},
     "output_type": "execute_result"
    }
   ],
   "source": [
    "df_params[stocks[0]].sort_values(by='score', ascending=False).head(5)"
   ]
  },
  {
   "cell_type": "markdown",
   "metadata": {},
   "source": [
    "### Coef0\n",
    "\n",
    "For sigmoid kernel we use function:\n",
    "$(\\tanh(\\gamma \\langle x,x'\\rangle + r))$, where r is specified by coef0."
   ]
  },
  {
   "cell_type": "code",
   "execution_count": 15,
   "metadata": {},
   "outputs": [
    {
     "data": {
      "text/plain": [
       "<matplotlib.legend.Legend at 0x7fef7fb52198>"
      ]
     },
     "execution_count": 15,
     "metadata": {},
     "output_type": "execute_result"
    },
    {
     "data": {
      "image/png": "[encoded data removed]",
      "text/plain": [
       "<matplotlib.figure.Figure at 0x7fef7fb52160>"
      ]
     },
     "metadata": {},
     "output_type": "display_data"
    }
   ],
   "source": [
    "coeffs = [0, 0.0000001, 0.000001, 0.00009, 0.0001, 0.0002]\n",
    "# 10, 1\n",
    "df_coefs = {}\n",
    "\n",
    "ax = plt.subplot()\n",
    "ax.set_xscale(\"log\", basex=10)\n",
    "for s in stocks:\n",
    "    df_coef = pd.DataFrame(index=cs)\n",
    "    df_coef['roc'] = np.zeros(len(df_coef))\n",
    "    for c in coeffs:\n",
    "        best_idx = df_params[s]['score'].idxmax()\n",
    "        reg_svm = svm_classification(dfs[s], 'sigmoid', C=df_params[s].iloc[best_idx]['c'], \n",
    "                                     gamma=df_params[s].iloc[best_idx]['gamma'], coef0=c)\n",
    "        pred_svm_out_of_sample = reg_svm.predict(dfs_cv[s]['queue_imbalance'].values.reshape(-1, 1))\n",
    "        logit_roc_auc = roc_auc_score(dfs_cv[s]['mid_price_indicator'], pred_svm_out_of_sample)\n",
    "        df_coef.loc[c] = logit_roc_auc\n",
    "    plt.plot(df_coef, linestyle='--', label=s, marker='x', alpha=0.5)\n",
    "    df_coefs[s] = df_coef\n",
    "\n",
    "plt.legend()"
   ]
  },
  {
   "cell_type": "markdown",
   "metadata": {},
   "source": [
    "##### Best values of coef0\n",
    "\n",
    "The value of coef0 should be rather small - less than 0.5."
   ]
  },
  {
   "cell_type": "code",
   "execution_count": 16,
   "metadata": {},
   "outputs": [
    {
     "name": "stdout",
     "output_type": "stream",
     "text": [
      "For 11234 the best is 0.0\n"
     ]
    }
   ],
   "source": [
    "for s in stocks:\n",
    "    idx = df_coefs[s]['roc'].idxmax()\n",
    "    print('For {} the best is {}'.format(s, idx))"
   ]
  },
  {
   "cell_type": "markdown",
   "metadata": {},
   "source": [
    "##### Influence of coef0\n",
    "\n",
    "For all stocks choice of coef0 is significant, it can make even 0.5 difference."
   ]
  },
  {
   "cell_type": "code",
   "execution_count": 17,
   "metadata": {},
   "outputs": [
    {
     "name": "stdout",
     "output_type": "stream",
     "text": [
      "For 11234 the diff between best and worst 0.6163239387274462\n"
     ]
    }
   ],
   "source": [
    "for s in stocks:\n",
    "    err_max = df_coefs[s]['roc'].max()\n",
    "    err_min = df_coefs[s]['roc'].min()\n",
    "    print('For {} the diff between best and worst {}'.format(s, err_max - err_min))"
   ]
  },
  {
   "cell_type": "markdown",
   "metadata": {},
   "source": [
    "#### Best params so far"
   ]
  },
  {
   "cell_type": "code",
   "execution_count": 18,
   "metadata": {},
   "outputs": [
    {
     "name": "stdout",
     "output_type": "stream",
     "text": [
      "11234 \t C \t gamma \t coef0\n",
      "11234 \t 0.105 \t 0.5 \t 0.0\n"
     ]
    }
   ],
   "source": [
    "print(s, '\\t', 'C', '\\t', 'gamma', '\\t', 'coef0')\n",
    "    \n",
    "for s in stocks:\n",
    "    print(s, '\\t', df_css[s]['roc'].idxmax(), '\\t', df_gammas[s]['roc'].idxmax(), \n",
    "          '\\t', df_coefs[s]['roc'].idxmax())"
   ]
  },
  {
   "cell_type": "code",
   "execution_count": 19,
   "metadata": {},
   "outputs": [
    {
     "name": "stdout",
     "output_type": "stream",
     "text": [
      "11234\n",
      "342\n"
     ]
    }
   ],
   "source": [
    "df_params_coef = {}\n",
    "for s in stocks:\n",
    "    print(s)\n",
    "    params = []\n",
    "    for idx, row in df_params[s].iterrows():\n",
    "        for coef in coeffs:\n",
    "            reg_svm = svm_classification(dfs[s], 'sigmoid', C=row['c'], \n",
    "                                         gamma=row['gamma'], coef0=coef)\n",
    "            prediction = reg_svm.predict(dfs_cv[s]['queue_imbalance'].values.reshape(-1, 1))\n",
    "            score = roc_auc_score(dfs_cv[s]['mid_price_indicator'], prediction)\n",
    "            params.append({'score': score, 'gamma': row['gamma'], 'c': row['c'], 'coef0': coef})\n",
    "    df_params_coef[s] = pd.DataFrame(params)\n",
    "    print(df_params_coef[s]['score'].idxmax())\n",
    "\n",
    "    "
   ]
  },
  {
   "cell_type": "code",
   "execution_count": 20,
   "metadata": {},
   "outputs": [
    {
     "data": {
      "text/html": [
       "<div>\n",
       "<style>\n",
       "    .dataframe thead tr:only-child th {\n",
       "        text-align: right;\n",
       "    }\n",
       "\n",
       "    .dataframe thead th {\n",
       "        text-align: left;\n",
       "    }\n",
       "\n",
       "    .dataframe tbody tr th {\n",
       "        vertical-align: top;\n",
       "    }\n",
       "</style>\n",
       "<table border=\"1\" class=\"dataframe\">\n",
       "  <thead>\n",
       "    <tr style=\"text-align: right;\">\n",
       "      <th></th>\n",
       "      <th>c</th>\n",
       "      <th>coef0</th>\n",
       "      <th>gamma</th>\n",
       "      <th>score</th>\n",
       "    </tr>\n",
       "  </thead>\n",
       "  <tbody>\n",
       "    <tr>\n",
       "      <th>396</th>\n",
       "      <td>0.110</td>\n",
       "      <td>0.000000e+00</td>\n",
       "      <td>0.94</td>\n",
       "      <td>0.616324</td>\n",
       "    </tr>\n",
       "    <tr>\n",
       "      <th>345</th>\n",
       "      <td>0.107</td>\n",
       "      <td>9.000000e-05</td>\n",
       "      <td>0.95</td>\n",
       "      <td>0.616324</td>\n",
       "    </tr>\n",
       "    <tr>\n",
       "      <th>344</th>\n",
       "      <td>0.107</td>\n",
       "      <td>1.000000e-06</td>\n",
       "      <td>0.95</td>\n",
       "      <td>0.616324</td>\n",
       "    </tr>\n",
       "    <tr>\n",
       "      <th>343</th>\n",
       "      <td>0.107</td>\n",
       "      <td>1.000000e-07</td>\n",
       "      <td>0.95</td>\n",
       "      <td>0.616324</td>\n",
       "    </tr>\n",
       "    <tr>\n",
       "      <th>342</th>\n",
       "      <td>0.107</td>\n",
       "      <td>0.000000e+00</td>\n",
       "      <td>0.95</td>\n",
       "      <td>0.616324</td>\n",
       "    </tr>\n",
       "    <tr>\n",
       "      <th>397</th>\n",
       "      <td>0.110</td>\n",
       "      <td>1.000000e-07</td>\n",
       "      <td>0.94</td>\n",
       "      <td>0.616324</td>\n",
       "    </tr>\n",
       "    <tr>\n",
       "      <th>346</th>\n",
       "      <td>0.107</td>\n",
       "      <td>1.000000e-04</td>\n",
       "      <td>0.95</td>\n",
       "      <td>0.616324</td>\n",
       "    </tr>\n",
       "    <tr>\n",
       "      <th>400</th>\n",
       "      <td>0.110</td>\n",
       "      <td>1.000000e-04</td>\n",
       "      <td>0.94</td>\n",
       "      <td>0.616324</td>\n",
       "    </tr>\n",
       "    <tr>\n",
       "      <th>399</th>\n",
       "      <td>0.110</td>\n",
       "      <td>9.000000e-05</td>\n",
       "      <td>0.94</td>\n",
       "      <td>0.616324</td>\n",
       "    </tr>\n",
       "    <tr>\n",
       "      <th>398</th>\n",
       "      <td>0.110</td>\n",
       "      <td>1.000000e-06</td>\n",
       "      <td>0.94</td>\n",
       "      <td>0.616324</td>\n",
       "    </tr>\n",
       "    <tr>\n",
       "      <th>293</th>\n",
       "      <td>0.105</td>\n",
       "      <td>2.000000e-04</td>\n",
       "      <td>0.96</td>\n",
       "      <td>0.615571</td>\n",
       "    </tr>\n",
       "    <tr>\n",
       "      <th>236</th>\n",
       "      <td>0.102</td>\n",
       "      <td>1.000000e-06</td>\n",
       "      <td>0.97</td>\n",
       "      <td>0.615571</td>\n",
       "    </tr>\n",
       "    <tr>\n",
       "      <th>237</th>\n",
       "      <td>0.102</td>\n",
       "      <td>9.000000e-05</td>\n",
       "      <td>0.97</td>\n",
       "      <td>0.615571</td>\n",
       "    </tr>\n",
       "    <tr>\n",
       "      <th>238</th>\n",
       "      <td>0.102</td>\n",
       "      <td>1.000000e-04</td>\n",
       "      <td>0.97</td>\n",
       "      <td>0.615571</td>\n",
       "    </tr>\n",
       "    <tr>\n",
       "      <th>239</th>\n",
       "      <td>0.102</td>\n",
       "      <td>2.000000e-04</td>\n",
       "      <td>0.97</td>\n",
       "      <td>0.615571</td>\n",
       "    </tr>\n",
       "    <tr>\n",
       "      <th>235</th>\n",
       "      <td>0.102</td>\n",
       "      <td>1.000000e-07</td>\n",
       "      <td>0.97</td>\n",
       "      <td>0.615571</td>\n",
       "    </tr>\n",
       "    <tr>\n",
       "      <th>234</th>\n",
       "      <td>0.102</td>\n",
       "      <td>0.000000e+00</td>\n",
       "      <td>0.97</td>\n",
       "      <td>0.615571</td>\n",
       "    </tr>\n",
       "    <tr>\n",
       "      <th>288</th>\n",
       "      <td>0.105</td>\n",
       "      <td>0.000000e+00</td>\n",
       "      <td>0.96</td>\n",
       "      <td>0.615571</td>\n",
       "    </tr>\n",
       "    <tr>\n",
       "      <th>289</th>\n",
       "      <td>0.105</td>\n",
       "      <td>1.000000e-07</td>\n",
       "      <td>0.96</td>\n",
       "      <td>0.615571</td>\n",
       "    </tr>\n",
       "    <tr>\n",
       "      <th>290</th>\n",
       "      <td>0.105</td>\n",
       "      <td>1.000000e-06</td>\n",
       "      <td>0.96</td>\n",
       "      <td>0.615571</td>\n",
       "    </tr>\n",
       "    <tr>\n",
       "      <th>291</th>\n",
       "      <td>0.105</td>\n",
       "      <td>9.000000e-05</td>\n",
       "      <td>0.96</td>\n",
       "      <td>0.615571</td>\n",
       "    </tr>\n",
       "    <tr>\n",
       "      <th>292</th>\n",
       "      <td>0.105</td>\n",
       "      <td>1.000000e-04</td>\n",
       "      <td>0.96</td>\n",
       "      <td>0.615571</td>\n",
       "    </tr>\n",
       "    <tr>\n",
       "      <th>401</th>\n",
       "      <td>0.110</td>\n",
       "      <td>2.000000e-04</td>\n",
       "      <td>0.94</td>\n",
       "      <td>0.615516</td>\n",
       "    </tr>\n",
       "    <tr>\n",
       "      <th>347</th>\n",
       "      <td>0.107</td>\n",
       "      <td>2.000000e-04</td>\n",
       "      <td>0.95</td>\n",
       "      <td>0.615516</td>\n",
       "    </tr>\n",
       "    <tr>\n",
       "      <th>419</th>\n",
       "      <td>0.110</td>\n",
       "      <td>2.000000e-04</td>\n",
       "      <td>0.97</td>\n",
       "      <td>0.614667</td>\n",
       "    </tr>\n",
       "    <tr>\n",
       "      <th>418</th>\n",
       "      <td>0.110</td>\n",
       "      <td>1.000000e-04</td>\n",
       "      <td>0.97</td>\n",
       "      <td>0.614667</td>\n",
       "    </tr>\n",
       "    <tr>\n",
       "      <th>417</th>\n",
       "      <td>0.110</td>\n",
       "      <td>9.000000e-05</td>\n",
       "      <td>0.97</td>\n",
       "      <td>0.614667</td>\n",
       "    </tr>\n",
       "    <tr>\n",
       "      <th>416</th>\n",
       "      <td>0.110</td>\n",
       "      <td>1.000000e-06</td>\n",
       "      <td>0.97</td>\n",
       "      <td>0.614667</td>\n",
       "    </tr>\n",
       "    <tr>\n",
       "      <th>415</th>\n",
       "      <td>0.110</td>\n",
       "      <td>1.000000e-07</td>\n",
       "      <td>0.97</td>\n",
       "      <td>0.614667</td>\n",
       "    </tr>\n",
       "    <tr>\n",
       "      <th>414</th>\n",
       "      <td>0.110</td>\n",
       "      <td>0.000000e+00</td>\n",
       "      <td>0.97</td>\n",
       "      <td>0.614667</td>\n",
       "    </tr>\n",
       "    <tr>\n",
       "      <th>...</th>\n",
       "      <td>...</td>\n",
       "      <td>...</td>\n",
       "      <td>...</td>\n",
       "      <td>...</td>\n",
       "    </tr>\n",
       "    <tr>\n",
       "      <th>29</th>\n",
       "      <td>0.010</td>\n",
       "      <td>2.000000e-04</td>\n",
       "      <td>0.92</td>\n",
       "      <td>0.604989</td>\n",
       "    </tr>\n",
       "    <tr>\n",
       "      <th>28</th>\n",
       "      <td>0.010</td>\n",
       "      <td>1.000000e-04</td>\n",
       "      <td>0.92</td>\n",
       "      <td>0.604989</td>\n",
       "    </tr>\n",
       "    <tr>\n",
       "      <th>27</th>\n",
       "      <td>0.010</td>\n",
       "      <td>9.000000e-05</td>\n",
       "      <td>0.92</td>\n",
       "      <td>0.604989</td>\n",
       "    </tr>\n",
       "    <tr>\n",
       "      <th>26</th>\n",
       "      <td>0.010</td>\n",
       "      <td>1.000000e-06</td>\n",
       "      <td>0.92</td>\n",
       "      <td>0.604989</td>\n",
       "    </tr>\n",
       "    <tr>\n",
       "      <th>25</th>\n",
       "      <td>0.010</td>\n",
       "      <td>1.000000e-07</td>\n",
       "      <td>0.92</td>\n",
       "      <td>0.604989</td>\n",
       "    </tr>\n",
       "    <tr>\n",
       "      <th>55</th>\n",
       "      <td>0.010</td>\n",
       "      <td>1.000000e-07</td>\n",
       "      <td>0.97</td>\n",
       "      <td>0.604989</td>\n",
       "    </tr>\n",
       "    <tr>\n",
       "      <th>0</th>\n",
       "      <td>0.010</td>\n",
       "      <td>0.000000e+00</td>\n",
       "      <td>0.50</td>\n",
       "      <td>0.604770</td>\n",
       "    </tr>\n",
       "    <tr>\n",
       "      <th>1</th>\n",
       "      <td>0.010</td>\n",
       "      <td>1.000000e-07</td>\n",
       "      <td>0.50</td>\n",
       "      <td>0.604770</td>\n",
       "    </tr>\n",
       "    <tr>\n",
       "      <th>5</th>\n",
       "      <td>0.010</td>\n",
       "      <td>2.000000e-04</td>\n",
       "      <td>0.50</td>\n",
       "      <td>0.604770</td>\n",
       "    </tr>\n",
       "    <tr>\n",
       "      <th>2</th>\n",
       "      <td>0.010</td>\n",
       "      <td>1.000000e-06</td>\n",
       "      <td>0.50</td>\n",
       "      <td>0.604770</td>\n",
       "    </tr>\n",
       "    <tr>\n",
       "      <th>3</th>\n",
       "      <td>0.010</td>\n",
       "      <td>9.000000e-05</td>\n",
       "      <td>0.50</td>\n",
       "      <td>0.604770</td>\n",
       "    </tr>\n",
       "    <tr>\n",
       "      <th>4</th>\n",
       "      <td>0.010</td>\n",
       "      <td>1.000000e-04</td>\n",
       "      <td>0.50</td>\n",
       "      <td>0.604770</td>\n",
       "    </tr>\n",
       "    <tr>\n",
       "      <th>41</th>\n",
       "      <td>0.010</td>\n",
       "      <td>2.000000e-04</td>\n",
       "      <td>0.94</td>\n",
       "      <td>0.604181</td>\n",
       "    </tr>\n",
       "    <tr>\n",
       "      <th>40</th>\n",
       "      <td>0.010</td>\n",
       "      <td>1.000000e-04</td>\n",
       "      <td>0.94</td>\n",
       "      <td>0.604181</td>\n",
       "    </tr>\n",
       "    <tr>\n",
       "      <th>39</th>\n",
       "      <td>0.010</td>\n",
       "      <td>9.000000e-05</td>\n",
       "      <td>0.94</td>\n",
       "      <td>0.604181</td>\n",
       "    </tr>\n",
       "    <tr>\n",
       "      <th>38</th>\n",
       "      <td>0.010</td>\n",
       "      <td>1.000000e-06</td>\n",
       "      <td>0.94</td>\n",
       "      <td>0.604181</td>\n",
       "    </tr>\n",
       "    <tr>\n",
       "      <th>37</th>\n",
       "      <td>0.010</td>\n",
       "      <td>1.000000e-07</td>\n",
       "      <td>0.94</td>\n",
       "      <td>0.604181</td>\n",
       "    </tr>\n",
       "    <tr>\n",
       "      <th>36</th>\n",
       "      <td>0.010</td>\n",
       "      <td>0.000000e+00</td>\n",
       "      <td>0.94</td>\n",
       "      <td>0.604181</td>\n",
       "    </tr>\n",
       "    <tr>\n",
       "      <th>35</th>\n",
       "      <td>0.010</td>\n",
       "      <td>2.000000e-04</td>\n",
       "      <td>0.93</td>\n",
       "      <td>0.604181</td>\n",
       "    </tr>\n",
       "    <tr>\n",
       "      <th>34</th>\n",
       "      <td>0.010</td>\n",
       "      <td>1.000000e-04</td>\n",
       "      <td>0.93</td>\n",
       "      <td>0.604181</td>\n",
       "    </tr>\n",
       "    <tr>\n",
       "      <th>33</th>\n",
       "      <td>0.010</td>\n",
       "      <td>9.000000e-05</td>\n",
       "      <td>0.93</td>\n",
       "      <td>0.604181</td>\n",
       "    </tr>\n",
       "    <tr>\n",
       "      <th>32</th>\n",
       "      <td>0.010</td>\n",
       "      <td>1.000000e-06</td>\n",
       "      <td>0.93</td>\n",
       "      <td>0.604181</td>\n",
       "    </tr>\n",
       "    <tr>\n",
       "      <th>31</th>\n",
       "      <td>0.010</td>\n",
       "      <td>1.000000e-07</td>\n",
       "      <td>0.93</td>\n",
       "      <td>0.604181</td>\n",
       "    </tr>\n",
       "    <tr>\n",
       "      <th>30</th>\n",
       "      <td>0.010</td>\n",
       "      <td>0.000000e+00</td>\n",
       "      <td>0.93</td>\n",
       "      <td>0.604181</td>\n",
       "    </tr>\n",
       "    <tr>\n",
       "      <th>139</th>\n",
       "      <td>0.100</td>\n",
       "      <td>1.000000e-07</td>\n",
       "      <td>0.90</td>\n",
       "      <td>0.603879</td>\n",
       "    </tr>\n",
       "    <tr>\n",
       "      <th>141</th>\n",
       "      <td>0.100</td>\n",
       "      <td>9.000000e-05</td>\n",
       "      <td>0.90</td>\n",
       "      <td>0.603879</td>\n",
       "    </tr>\n",
       "    <tr>\n",
       "      <th>143</th>\n",
       "      <td>0.100</td>\n",
       "      <td>2.000000e-04</td>\n",
       "      <td>0.90</td>\n",
       "      <td>0.603879</td>\n",
       "    </tr>\n",
       "    <tr>\n",
       "      <th>138</th>\n",
       "      <td>0.100</td>\n",
       "      <td>0.000000e+00</td>\n",
       "      <td>0.90</td>\n",
       "      <td>0.603879</td>\n",
       "    </tr>\n",
       "    <tr>\n",
       "      <th>142</th>\n",
       "      <td>0.100</td>\n",
       "      <td>1.000000e-04</td>\n",
       "      <td>0.90</td>\n",
       "      <td>0.603879</td>\n",
       "    </tr>\n",
       "    <tr>\n",
       "      <th>140</th>\n",
       "      <td>0.100</td>\n",
       "      <td>1.000000e-06</td>\n",
       "      <td>0.90</td>\n",
       "      <td>0.603879</td>\n",
       "    </tr>\n",
       "  </tbody>\n",
       "</table>\n",
       "<p>420 rows × 4 columns</p>\n",
       "</div>"
      ],
      "text/plain": [
       "         c         coef0  gamma     score\n",
       "396  0.110  0.000000e+00   0.94  0.616324\n",
       "345  0.107  9.000000e-05   0.95  0.616324\n",
       "344  0.107  1.000000e-06   0.95  0.616324\n",
       "343  0.107  1.000000e-07   0.95  0.616324\n",
       "342  0.107  0.000000e+00   0.95  0.616324\n",
       "397  0.110  1.000000e-07   0.94  0.616324\n",
       "346  0.107  1.000000e-04   0.95  0.616324\n",
       "400  0.110  1.000000e-04   0.94  0.616324\n",
       "399  0.110  9.000000e-05   0.94  0.616324\n",
       "398  0.110  1.000000e-06   0.94  0.616324\n",
       "293  0.105  2.000000e-04   0.96  0.615571\n",
       "236  0.102  1.000000e-06   0.97  0.615571\n",
       "237  0.102  9.000000e-05   0.97  0.615571\n",
       "238  0.102  1.000000e-04   0.97  0.615571\n",
       "239  0.102  2.000000e-04   0.97  0.615571\n",
       "235  0.102  1.000000e-07   0.97  0.615571\n",
       "234  0.102  0.000000e+00   0.97  0.615571\n",
       "288  0.105  0.000000e+00   0.96  0.615571\n",
       "289  0.105  1.000000e-07   0.96  0.615571\n",
       "290  0.105  1.000000e-06   0.96  0.615571\n",
       "291  0.105  9.000000e-05   0.96  0.615571\n",
       "292  0.105  1.000000e-04   0.96  0.615571\n",
       "401  0.110  2.000000e-04   0.94  0.615516\n",
       "347  0.107  2.000000e-04   0.95  0.615516\n",
       "419  0.110  2.000000e-04   0.97  0.614667\n",
       "418  0.110  1.000000e-04   0.97  0.614667\n",
       "417  0.110  9.000000e-05   0.97  0.614667\n",
       "416  0.110  1.000000e-06   0.97  0.614667\n",
       "415  0.110  1.000000e-07   0.97  0.614667\n",
       "414  0.110  0.000000e+00   0.97  0.614667\n",
       "..     ...           ...    ...       ...\n",
       "29   0.010  2.000000e-04   0.92  0.604989\n",
       "28   0.010  1.000000e-04   0.92  0.604989\n",
       "27   0.010  9.000000e-05   0.92  0.604989\n",
       "26   0.010  1.000000e-06   0.92  0.604989\n",
       "25   0.010  1.000000e-07   0.92  0.604989\n",
       "55   0.010  1.000000e-07   0.97  0.604989\n",
       "0    0.010  0.000000e+00   0.50  0.604770\n",
       "1    0.010  1.000000e-07   0.50  0.604770\n",
       "5    0.010  2.000000e-04   0.50  0.604770\n",
       "2    0.010  1.000000e-06   0.50  0.604770\n",
       "3    0.010  9.000000e-05   0.50  0.604770\n",
       "4    0.010  1.000000e-04   0.50  0.604770\n",
       "41   0.010  2.000000e-04   0.94  0.604181\n",
       "40   0.010  1.000000e-04   0.94  0.604181\n",
       "39   0.010  9.000000e-05   0.94  0.604181\n",
       "38   0.010  1.000000e-06   0.94  0.604181\n",
       "37   0.010  1.000000e-07   0.94  0.604181\n",
       "36   0.010  0.000000e+00   0.94  0.604181\n",
       "35   0.010  2.000000e-04   0.93  0.604181\n",
       "34   0.010  1.000000e-04   0.93  0.604181\n",
       "33   0.010  9.000000e-05   0.93  0.604181\n",
       "32   0.010  1.000000e-06   0.93  0.604181\n",
       "31   0.010  1.000000e-07   0.93  0.604181\n",
       "30   0.010  0.000000e+00   0.93  0.604181\n",
       "139  0.100  1.000000e-07   0.90  0.603879\n",
       "141  0.100  9.000000e-05   0.90  0.603879\n",
       "143  0.100  2.000000e-04   0.90  0.603879\n",
       "138  0.100  0.000000e+00   0.90  0.603879\n",
       "142  0.100  1.000000e-04   0.90  0.603879\n",
       "140  0.100  1.000000e-06   0.90  0.603879\n",
       "\n",
       "[420 rows x 4 columns]"
      ]
     },
     "execution_count": 20,
     "metadata": {},
     "output_type": "execute_result"
    }
   ],
   "source": [
    "df_params_coef[stocks[0]].sort_values(by='score', \n",
    "                                      ascending=False)[df_params_coef[\n",
    "    stocks[0]]['score']> 0.6]"
   ]
  },
  {
   "cell_type": "markdown",
   "metadata": {},
   "source": [
    "# Results\n",
    "\n",
    "We compare reults of SVMs with the best choices of parameter against the logistic regression and SVM with defaults.\n",
    "\n",
    "We will use naive approach - for each stock we will just pick the best values we found in the previous section."
   ]
  },
  {
   "cell_type": "markdown",
   "metadata": {},
   "source": [
    "#### Naive approach\n",
    "\n",
    "We pick the best **C** parameter and the best **gamma** separately from the results of [section above](#Methodology), which were obtained using cross-validation set. The **coef0** parameter \"depend\" of the choice of the rest of parameters.\n",
    "\n",
    "For 3 stocks the results are quite good, the rest is very bad."
   ]
  },
  {
   "cell_type": "code",
   "execution_count": 21,
   "metadata": {},
   "outputs": [],
   "source": [
    "df_results = pd.DataFrame(index=stocks)\n",
    "df_results['logistic'] = np.zeros(len(stocks))\n",
    "df_results['sigmoid-tunned'] = np.zeros(len(stocks))\n",
    "df_results['c-tunned'] = np.zeros(len(stocks))\n",
    "df_results['coef-tunned'] = np.zeros(len(stocks))\n",
    "df_results['gamma-tunned'] = np.zeros(len(stocks))"
   ]
  },
  {
   "cell_type": "code",
   "execution_count": 22,
   "metadata": {},
   "outputs": [
    {
     "name": "stdout",
     "output_type": "stream",
     "text": [
      "0.107 0.95 0.0\n"
     ]
    },
    {
     "data": {
      "image/png": "[encoded data removed]",
      "text/plain": [
       "<matplotlib.figure.Figure at 0x7fef7fa80518>"
      ]
     },
     "metadata": {},
     "output_type": "display_data"
    }
   ],
   "source": [
    "plt.subplot(121)\n",
    "\n",
    "for s in stocks:\n",
    "    best_idx = df_params_coef[s]['score'].idxmax()\n",
    "    c = df_params_coef[s].iloc[best_idx]['c']\n",
    "    gamma = df_params_coef[s].iloc[best_idx]['gamma']\n",
    "    coef0 = df_params_coef[s].iloc[best_idx]['coef0']\n",
    "    print(c, gamma, coef0)\n",
    "    df_results['c-tunned'][s] = c\n",
    "    df_results['coef-tunned'][s] = coef0\n",
    "    df_results['gamma-tunned'][s] = gamma\n",
    "    \n",
    "    reg_svm = svm_classification(\n",
    "        dfs[s], 'sigmoid', C=c, gamma=gamma, coef0=coef0)\n",
    "    roc_score = lob.plot_roc(dfs_test[s], reg_svm, stock=s, title='ROC for test set with the best params')\n",
    "    df_results['sigmoid-tunned'][s] = roc_score\n",
    "\n",
    "plt.subplot(122)\n",
    "for s in stocks:\n",
    "    reg_log = lob.logistic_regression(dfs[s], 0, len(dfs[s]))\n",
    "    roc_score = lob.plot_roc(dfs_test[s], reg_log, stock=s, title='ROC for test set with logistic')\n",
    "    df_results['logistic'][s] = roc_score\n",
    "\n",
    "plt.subplots_adjust(left=0, wspace=0.1, top=1, right=2)"
   ]
  },
  {
   "cell_type": "code",
   "execution_count": 23,
   "metadata": {},
   "outputs": [
    {
     "data": {
      "text/html": [
       "<div>\n",
       "<style>\n",
       "    .dataframe thead tr:only-child th {\n",
       "        text-align: right;\n",
       "    }\n",
       "\n",
       "    .dataframe thead th {\n",
       "        text-align: left;\n",
       "    }\n",
       "\n",
       "    .dataframe tbody tr th {\n",
       "        vertical-align: top;\n",
       "    }\n",
       "</style>\n",
       "<table border=\"1\" class=\"dataframe\">\n",
       "  <thead>\n",
       "    <tr style=\"text-align: right;\">\n",
       "      <th></th>\n",
       "      <th>logistic</th>\n",
       "      <th>sigmoid-tunned</th>\n",
       "      <th>c-tunned</th>\n",
       "      <th>coef-tunned</th>\n",
       "      <th>gamma-tunned</th>\n",
       "    </tr>\n",
       "  </thead>\n",
       "  <tbody>\n",
       "    <tr>\n",
       "      <th>11234</th>\n",
       "      <td>0.593071</td>\n",
       "      <td>0.59667</td>\n",
       "      <td>0.107</td>\n",
       "      <td>0.0</td>\n",
       "      <td>0.95</td>\n",
       "    </tr>\n",
       "  </tbody>\n",
       "</table>\n",
       "</div>"
      ],
      "text/plain": [
       "       logistic  sigmoid-tunned  c-tunned  coef-tunned  gamma-tunned\n",
       "11234  0.593071         0.59667     0.107          0.0          0.95"
      ]
     },
     "execution_count": 23,
     "metadata": {},
     "output_type": "execute_result"
    }
   ],
   "source": [
    "df_results"
   ]
  },
  {
   "cell_type": "code",
   "execution_count": 24,
   "metadata": {},
   "outputs": [
    {
     "name": "stdout",
     "output_type": "stream",
     "text": [
      "11234\n",
      "c        0.107000\n",
      "coef0    0.000000\n",
      "gamma    0.950000\n",
      "score    0.616324\n",
      "Name: 342, dtype: float64\n",
      "\n"
     ]
    }
   ],
   "source": [
    "for s in stocks:\n",
    "    ddd = df_params_coef[s]\n",
    "    print(s)\n",
    "    print(ddd.iloc[ddd['score'].idxmax()])\n",
    "    print()"
   ]
  },
  {
   "cell_type": "code",
   "execution_count": 25,
   "metadata": {},
   "outputs": [
    {
     "data": {
      "text/plain": [
       "0.59368347379778941"
      ]
     },
     "execution_count": 25,
     "metadata": {},
     "output_type": "execute_result"
    }
   ],
   "source": [
    "s = stocks[0]\n",
    "reg_svm = svm_classification(dfs[s], 'sigmoid', C=0.005, \n",
    "                             gamma=10, coef0=1)\n",
    "prediction = reg_svm.predict(dfs_test[s]['queue_imbalance'].values.reshape(-1, 1))\n",
    "score = roc_auc_score(dfs_test[s]['mid_price_indicator'], prediction)\n",
    "score"
   ]
  },
  {
   "cell_type": "markdown",
   "metadata": {},
   "source": [
    "# Conclusions\n",
    "\n",
    "\n",
    "We didn't use valid grid approach for choosing the best parameters, so there is possibility that these parameters could be improved. For one stock **2051** we have significant improvement (even when we consider other results). For stock **11618** we have small improvement."
   ]
  },
  {
   "cell_type": "markdown",
   "metadata": {},
   "source": [
    "### Resources\n",
    "\n",
    "1. [Queue Imbalance as a One-Tick-Ahead Price Predictor in a Limit Order Book](https://arxiv.org/abs/1512.03492) <a class=\"anchor-link\" href=\"#1\">¶</a>"
   ]
  }
 ],
 "metadata": {
  "kernelspec": {
   "display_name": "Python 3",
   "language": "python",
   "name": "python3"
  },
  "language_info": {
   "codemirror_mode": {
    "name": "ipython",
    "version": 3
   },
   "file_extension": ".py",
   "mimetype": "text/x-python",
   "name": "python",
   "nbconvert_exporter": "python",
   "pygments_lexer": "ipython3",
   "version": "3.6.1"
  }
 },
 "nbformat": 4,
 "nbformat_minor": 1
}
