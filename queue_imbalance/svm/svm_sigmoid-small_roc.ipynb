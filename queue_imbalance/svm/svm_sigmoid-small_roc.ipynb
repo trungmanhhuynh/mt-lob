{
 "cells": [
  {
   "cell_type": "markdown",
   "metadata": {},
   "source": [
    "# SVM with sigmoid kernel\n",
    "\n",
    "The goal of this notebook is to find the best parameters for polynomial kernel. We also want to check if the parameters depend on stock.\n",
    "\n",
    "We will use [sklearn.svm](http://scikit-learn.org/stable/modules/generated/sklearn.svm.SVC.html#sklearn.svm.SVC) library to perform calculations. We want to pick the best parameters for **SVC**:\n",
    "\n",
    "* C (default 1.0)\n",
    "* gamma (default 1/number_of_features, so 1 in our case)\n",
    "* coef0 (default 0.0)\n",
    "\n",
    "Sigmoid kernel function: $(\\tanh(\\gamma \\langle x,x'\\rangle + coef0))$"
   ]
  },
  {
   "cell_type": "code",
   "execution_count": 1,
   "metadata": {
    "collapsed": true
   },
   "outputs": [],
   "source": [
    "%matplotlib inline\n",
    "import pandas as pd\n",
    "\n",
    "import matplotlib.pyplot as plt\n",
    "import matplotlib.dates as md\n",
    "from statsmodels.distributions.empirical_distribution import ECDF\n",
    "import numpy as np\n",
    "import seaborn as sns\n",
    "from sklearn.metrics import roc_auc_score\n",
    "from sklearn.metrics import roc_curve\n",
    "from sklearn.metrics import classification_report\n",
    "from sklearn import svm\n",
    "import warnings\n",
    "\n",
    "import lob\n",
    "\n",
    "sns.set_style('whitegrid')\n",
    "\n",
    "warnings.filterwarnings('ignore')"
   ]
  },
  {
   "cell_type": "markdown",
   "metadata": {},
   "source": [
    "# Data\n",
    "\n",
    "We use data from 5 stocks (from dates 2013-09-01 - 2013-11-16) for which logistic regression yielded the best results.\n",
    "\n",
    "We selected 3 subsets for each stock:\n",
    "* training set (60% of data)\n",
    "* test set (20% of data)\n",
    "* cross-validation set (20% of data)"
   ]
  },
  {
   "cell_type": "code",
   "execution_count": 2,
   "metadata": {},
   "outputs": [
    {
     "name": "stdout",
     "output_type": "stream",
     "text": [
      "Training set length for 9058: 9332\n",
      "Testing set length for 9058: 3110\n",
      "Cross-validation set length for 9058: 3110\n",
      "Training set length for 13003: 7755\n",
      "Testing set length for 13003: 2584\n",
      "Cross-validation set length for 13003: 2584\n",
      "Training set length for 9074: 8596\n",
      "Testing set length for 9074: 2864\n",
      "Cross-validation set length for 9074: 2864\n",
      "Training set length for 11244: 10512\n",
      "Testing set length for 11244: 3503\n",
      "Cross-validation set length for 11244: 3503\n",
      "Training set length for 9270: 8385\n",
      "Testing set length for 9270: 2795\n",
      "Cross-validation set length for 9270: 2795\n"
     ]
    }
   ],
   "source": [
    "stocks = ['9058', '13003', '9074', '11244', '9270']\n",
    "\n",
    "dfs = {}\n",
    "dfs_cv = {}\n",
    "dfs_test = {}\n",
    "\n",
    "for s in stocks:\n",
    "    df, df_cv, df_test = lob.load_data(s, data_dir='data/INDEX/', cv=True)\n",
    "    dfs[s] = df\n",
    "    dfs_cv[s] = df_cv\n",
    "    dfs_test[s] = df_test"
   ]
  },
  {
   "cell_type": "code",
   "execution_count": 3,
   "metadata": {},
   "outputs": [
    {
     "data": {
      "text/html": [
       "<div>\n",
       "<style>\n",
       "    .dataframe thead tr:only-child th {\n",
       "        text-align: right;\n",
       "    }\n",
       "\n",
       "    .dataframe thead th {\n",
       "        text-align: left;\n",
       "    }\n",
       "\n",
       "    .dataframe tbody tr th {\n",
       "        vertical-align: top;\n",
       "    }\n",
       "</style>\n",
       "<table border=\"1\" class=\"dataframe\">\n",
       "  <thead>\n",
       "    <tr style=\"text-align: right;\">\n",
       "      <th></th>\n",
       "      <th>bid</th>\n",
       "      <th>ask</th>\n",
       "      <th>bid_price</th>\n",
       "      <th>ask_price</th>\n",
       "      <th>mid_price</th>\n",
       "      <th>sum_sell_ask</th>\n",
       "      <th>sum_buy_bid</th>\n",
       "      <th>mid_price_indicator</th>\n",
       "      <th>queue_imbalance</th>\n",
       "    </tr>\n",
       "  </thead>\n",
       "  <tbody>\n",
       "    <tr>\n",
       "      <th>2013-09-16 14:02:00</th>\n",
       "      <td>[(1000.0, 400.0), (1260.0, 400.0), (1350.0, 50...</td>\n",
       "      <td>[(1917.0, 4920.0), (1917.5, 9151.0), (1918.0, ...</td>\n",
       "      <td>1916.0</td>\n",
       "      <td>1917.0</td>\n",
       "      <td>1916.50</td>\n",
       "      <td>4920.0</td>\n",
       "      <td>4181.0</td>\n",
       "      <td>1.0</td>\n",
       "      <td>-0.081200</td>\n",
       "    </tr>\n",
       "    <tr>\n",
       "      <th>2013-09-16 14:03:00</th>\n",
       "      <td>[(1000.0, 400.0), (1260.0, 400.0), (1350.0, 50...</td>\n",
       "      <td>[(1917.0, 1378.0), (1917.5, 6515.0), (1918.0, ...</td>\n",
       "      <td>1916.5</td>\n",
       "      <td>1917.0</td>\n",
       "      <td>1916.75</td>\n",
       "      <td>1378.0</td>\n",
       "      <td>96.0</td>\n",
       "      <td>0.0</td>\n",
       "      <td>-0.869742</td>\n",
       "    </tr>\n",
       "    <tr>\n",
       "      <th>2013-09-16 14:04:00</th>\n",
       "      <td>[(1000.0, 400.0), (1260.0, 400.0), (1350.0, 50...</td>\n",
       "      <td>[(1916.5, 2428.0), (1917.0, 7498.0), (1917.5, ...</td>\n",
       "      <td>1915.5</td>\n",
       "      <td>1916.5</td>\n",
       "      <td>1916.00</td>\n",
       "      <td>2428.0</td>\n",
       "      <td>3568.0</td>\n",
       "      <td>1.0</td>\n",
       "      <td>0.190127</td>\n",
       "    </tr>\n",
       "    <tr>\n",
       "      <th>2013-09-16 14:05:00</th>\n",
       "      <td>[(1000.0, 400.0), (1260.0, 400.0), (1350.0, 50...</td>\n",
       "      <td>[(1916.5, 900.0), (1917.0, 5990.0), (1917.5, 8...</td>\n",
       "      <td>1916.0</td>\n",
       "      <td>1916.5</td>\n",
       "      <td>1916.25</td>\n",
       "      <td>900.0</td>\n",
       "      <td>3648.0</td>\n",
       "      <td>1.0</td>\n",
       "      <td>0.604222</td>\n",
       "    </tr>\n",
       "    <tr>\n",
       "      <th>2013-09-16 14:06:00</th>\n",
       "      <td>[(1000.0, 400.0), (1260.0, 400.0), (1350.0, 50...</td>\n",
       "      <td>[(1917.0, 2012.0), (1917.5, 9613.0), (1918.0, ...</td>\n",
       "      <td>1916.0</td>\n",
       "      <td>1917.0</td>\n",
       "      <td>1916.50</td>\n",
       "      <td>2012.0</td>\n",
       "      <td>5083.0</td>\n",
       "      <td>1.0</td>\n",
       "      <td>0.432840</td>\n",
       "    </tr>\n",
       "  </tbody>\n",
       "</table>\n",
       "</div>"
      ],
      "text/plain": [
       "                                                                   bid  \\\n",
       "2013-09-16 14:02:00  [(1000.0, 400.0), (1260.0, 400.0), (1350.0, 50...   \n",
       "2013-09-16 14:03:00  [(1000.0, 400.0), (1260.0, 400.0), (1350.0, 50...   \n",
       "2013-09-16 14:04:00  [(1000.0, 400.0), (1260.0, 400.0), (1350.0, 50...   \n",
       "2013-09-16 14:05:00  [(1000.0, 400.0), (1260.0, 400.0), (1350.0, 50...   \n",
       "2013-09-16 14:06:00  [(1000.0, 400.0), (1260.0, 400.0), (1350.0, 50...   \n",
       "\n",
       "                                                                   ask  \\\n",
       "2013-09-16 14:02:00  [(1917.0, 4920.0), (1917.5, 9151.0), (1918.0, ...   \n",
       "2013-09-16 14:03:00  [(1917.0, 1378.0), (1917.5, 6515.0), (1918.0, ...   \n",
       "2013-09-16 14:04:00  [(1916.5, 2428.0), (1917.0, 7498.0), (1917.5, ...   \n",
       "2013-09-16 14:05:00  [(1916.5, 900.0), (1917.0, 5990.0), (1917.5, 8...   \n",
       "2013-09-16 14:06:00  [(1917.0, 2012.0), (1917.5, 9613.0), (1918.0, ...   \n",
       "\n",
       "                     bid_price  ask_price  mid_price  sum_sell_ask  \\\n",
       "2013-09-16 14:02:00     1916.0     1917.0    1916.50        4920.0   \n",
       "2013-09-16 14:03:00     1916.5     1917.0    1916.75        1378.0   \n",
       "2013-09-16 14:04:00     1915.5     1916.5    1916.00        2428.0   \n",
       "2013-09-16 14:05:00     1916.0     1916.5    1916.25         900.0   \n",
       "2013-09-16 14:06:00     1916.0     1917.0    1916.50        2012.0   \n",
       "\n",
       "                     sum_buy_bid  mid_price_indicator  queue_imbalance  \n",
       "2013-09-16 14:02:00       4181.0                  1.0        -0.081200  \n",
       "2013-09-16 14:03:00         96.0                  0.0        -0.869742  \n",
       "2013-09-16 14:04:00       3568.0                  1.0         0.190127  \n",
       "2013-09-16 14:05:00       3648.0                  1.0         0.604222  \n",
       "2013-09-16 14:06:00       5083.0                  1.0         0.432840  "
      ]
     },
     "execution_count": 3,
     "metadata": {},
     "output_type": "execute_result"
    }
   ],
   "source": [
    "dfs[stocks[0]].head()"
   ]
  },
  {
   "cell_type": "code",
   "execution_count": 4,
   "metadata": {
    "collapsed": true
   },
   "outputs": [],
   "source": [
    "def svm_classification(d, kernel, gamma='auto', C=1.0, degree=3, coef0=0.0, decision_function_shape='ovr'):\n",
    "    clf = svm.SVC(kernel=kernel, gamma=gamma, C=C, degree=degree, coef0=coef0, \n",
    "                  decision_function_shape=decision_function_shape)\n",
    "    X = d['queue_imbalance'].values.reshape(-1, 1)\n",
    "    y = d['mid_price_indicator'].values.reshape(-1, 1)\n",
    "    clf.fit(X, y)\n",
    "    return clf"
   ]
  },
  {
   "cell_type": "markdown",
   "metadata": {},
   "source": [
    "# Methodology\n",
    "\n",
    "We will use at first naive approach to grasp how each of the parameter influences the ROC area score and what values make sense, when the other parameters are set to defaults for parameters C and gamma.\n",
    "\n",
    "Next we will choose parameter coef0 for SVM with gamma and C set to the best values we got."
   ]
  },
  {
   "cell_type": "markdown",
   "metadata": {},
   "source": [
    "### C parameter\n",
    "\n",
    "The C parameter has influence over margin picked by SVM:\n",
    "* for large values of **C** SVM will choose a smaller-margin hyperplane, which means that more data points will be classified correctly\n",
    "* for small values of **C** SVM will choose a bigger-margin hyperplane, so there may be more misclassifications\n",
    "\n",
    "At first we tried parameters: [0.0001, 0.001, 0.01, 0.1, 1, 10, 1000], but after first calculations it seems that it wasn't enough, so a few more values were introduced or removed."
   ]
  },
  {
   "cell_type": "code",
   "execution_count": 5,
   "metadata": {},
   "outputs": [
    {
     "data": {
      "text/plain": [
       "<matplotlib.legend.Legend at 0x7f99305e7780>"
      ]
     },
     "execution_count": 5,
     "metadata": {},
     "output_type": "execute_result"
    },
    {
     "data": {
      "image/png": "[encoded data removed]",
      "text/plain": [
       "<matplotlib.figure.Figure at 0x7f99639a3b00>"
      ]
     },
     "metadata": {},
     "output_type": "display_data"
    }
   ],
   "source": [
    "cs = [0.0001, 0.001, 0.003, 0.004, 0.005, 0.006]\n",
    "df_css = {}\n",
    "\n",
    "ax = plt.subplot()\n",
    "ax.set_xscale(\"log\", basex=10)\n",
    "for s in stocks:\n",
    "    df_cs = pd.DataFrame(index=cs)\n",
    "    df_cs['roc'] = np.zeros(len(df_cs))\n",
    "    for c in cs:\n",
    "        reg_svm = svm_classification(dfs[s], 'sigmoid', C=c)\n",
    "        pred_svm_out_of_sample = reg_svm.predict(dfs_cv[s]['queue_imbalance'].values.reshape(-1, 1))\n",
    "        logit_roc_auc = roc_auc_score(dfs_cv[s]['mid_price_indicator'], pred_svm_out_of_sample)\n",
    "        df_cs.loc[c] = logit_roc_auc\n",
    "    plt.plot(df_cs, linestyle='--', label=s, marker='x', alpha=0.5)\n",
    "    df_css[s] = df_cs\n",
    "    \n",
    "plt.legend()"
   ]
  },
  {
   "cell_type": "markdown",
   "metadata": {},
   "source": [
    "##### Best values of C parameter\n",
    "\n",
    "Choice of parameter C should be small - less than 0.1"
   ]
  },
  {
   "cell_type": "code",
   "execution_count": 6,
   "metadata": {},
   "outputs": [
    {
     "name": "stdout",
     "output_type": "stream",
     "text": [
      "For 9058 the best is 0.003\n",
      "For 13003 the best is 0.005\n",
      "For 9074 the best is 0.004\n",
      "For 11244 the best is 0.004\n",
      "For 9270 the best is 0.003\n"
     ]
    }
   ],
   "source": [
    "for s in stocks:\n",
    "    idx = df_css[s]['roc'].idxmax()\n",
    "    print('For {} the best is {}'.format(s, idx))"
   ]
  },
  {
   "cell_type": "markdown",
   "metadata": {},
   "source": [
    "##### Influence of C parameter\n",
    "\n",
    "The score difference between SVM with the worst choice of parameter **C** and the best choice one is shown on the output below. For scoring method we used *roc_area*. For three stocks **10795**, **12098** and **11618** it can affect the prediction by 0.1, for the rest the difference is less."
   ]
  },
  {
   "cell_type": "code",
   "execution_count": 7,
   "metadata": {},
   "outputs": [
    {
     "name": "stdout",
     "output_type": "stream",
     "text": [
      "For 9058 the diff between best and worst 0.05320797265459554\n",
      "For 13003 the diff between best and worst 0.06712510959849893\n",
      "For 9074 the diff between best and worst 0.05621508379888274\n",
      "For 11244 the diff between best and worst 0.04764491655208425\n",
      "For 9270 the diff between best and worst 0.054839811473025746\n"
     ]
    }
   ],
   "source": [
    "for s in stocks:\n",
    "    err_max = df_css[s]['roc'].max()\n",
    "    err_min = df_css[s]['roc'].min()\n",
    "    print('For {} the diff between best and worst {}'.format(s, err_max - err_min))"
   ]
  },
  {
   "cell_type": "markdown",
   "metadata": {},
   "source": [
    "### Gamma"
   ]
  },
  {
   "cell_type": "code",
   "execution_count": 8,
   "metadata": {},
   "outputs": [
    {
     "data": {
      "text/plain": [
       "<matplotlib.legend.Legend at 0x7f9925e4be80>"
      ]
     },
     "execution_count": 8,
     "metadata": {},
     "output_type": "execute_result"
    },
    {
     "data": {
      "image/png": "[encoded data removed]",
      "text/plain": [
       "<matplotlib.figure.Figure at 0x7f9936ef1940>"
      ]
     },
     "metadata": {},
     "output_type": "display_data"
    }
   ],
   "source": [
    "gammas = [0.0001, 0.001, 0.1, 0.15, 0.2]\n",
    "\n",
    "df_gammas = {}\n",
    "\n",
    "ax = plt.subplot()\n",
    "ax.set_xscale(\"log\", basex=10)\n",
    "for s in stocks:\n",
    "    df_gamma = pd.DataFrame(index=gammas)\n",
    "    df_gamma['roc'] = np.zeros(len(df_gamma))\n",
    "    for g in gammas:\n",
    "        reg_svm = svm_classification(dfs[s], 'sigmoid', gamma=g)\n",
    "        pred_svm_out_of_sample = reg_svm.predict(dfs_cv[s]['queue_imbalance'].values.reshape(-1, 1))\n",
    "\n",
    "        logit_roc_auc = roc_auc_score(dfs_cv[s]['mid_price_indicator'], pred_svm_out_of_sample)\n",
    "        df_gamma.loc[g] = logit_roc_auc\n",
    "    plt.plot(df_gamma, linestyle='--', label=s, marker='x', alpha=0.5)\n",
    "    df_gammas[s] = df_gamma\n",
    "    \n",
    "plt.legend()"
   ]
  },
  {
   "cell_type": "markdown",
   "metadata": {},
   "source": [
    "##### Best values of gamma"
   ]
  },
  {
   "cell_type": "code",
   "execution_count": 9,
   "metadata": {},
   "outputs": [
    {
     "name": "stdout",
     "output_type": "stream",
     "text": [
      "For 9058 the best is 0.2\n",
      "For 13003 the best is 0.15\n",
      "For 9074 the best is 0.1\n",
      "For 11244 the best is 0.2\n",
      "For 9270 the best is 0.1\n"
     ]
    }
   ],
   "source": [
    "for s in stocks:\n",
    "    idx = df_gammas[s]['roc'].idxmax()\n",
    "    print('For {} the best is {}'.format(s, idx))"
   ]
  },
  {
   "cell_type": "markdown",
   "metadata": {},
   "source": [
    "##### Influence of gamma"
   ]
  },
  {
   "cell_type": "code",
   "execution_count": 10,
   "metadata": {},
   "outputs": [
    {
     "name": "stdout",
     "output_type": "stream",
     "text": [
      "For 9058 the diff between best and worst 0.053588505267894826\n",
      "For 13003 the diff between best and worst 0.06689335680309427\n",
      "For 9074 the diff between best and worst 0.05551675977653625\n",
      "For 11244 the diff between best and worst 0.04711731605372438\n",
      "For 9270 the diff between best and worst 0.050380116180464785\n"
     ]
    }
   ],
   "source": [
    "for s in stocks:\n",
    "    err_max = df_gammas[s]['roc'].max()\n",
    "    err_min = df_gammas[s]['roc'].min()\n",
    "    print('For {} the diff between best and worst {}'.format(s, err_max - err_min))"
   ]
  },
  {
   "cell_type": "markdown",
   "metadata": {},
   "source": [
    "### Coef0\n",
    "\n",
    "For sigmoid kernel we use function:\n",
    "$(\\tanh(\\gamma \\langle x,x'\\rangle + r))$, where r is specified by coef0."
   ]
  },
  {
   "cell_type": "code",
   "execution_count": 11,
   "metadata": {},
   "outputs": [
    {
     "data": {
      "text/plain": [
       "<matplotlib.legend.Legend at 0x7f99158dbe10>"
      ]
     },
     "execution_count": 11,
     "metadata": {},
     "output_type": "execute_result"
    },
    {
     "data": {
      "image/png": "[encoded data removed]",
      "text/plain": [
       "<matplotlib.figure.Figure at 0x7f9923414cc0>"
      ]
     },
     "metadata": {},
     "output_type": "display_data"
    }
   ],
   "source": [
    "coeffs = [0.00001, 0.0001, 0.001, 0.005]\n",
    "\n",
    "df_coefs = {}\n",
    "\n",
    "ax = plt.subplot()\n",
    "ax.set_xscale(\"log\", basex=10)\n",
    "for s in stocks:\n",
    "    df_coef = pd.DataFrame(index=cs)\n",
    "    df_coef['roc'] = np.zeros(len(df_coef))\n",
    "    for c in coeffs:\n",
    "        reg_svm = svm_classification(dfs[s], 'sigmoid', coef0=c, C=df_css[s]['roc'].idxmax(), \n",
    "                                     gamma=df_gammas[s]['roc'].idxmax())\n",
    "        pred_svm_out_of_sample = reg_svm.predict(dfs_cv[s]['queue_imbalance'].values.reshape(-1, 1))\n",
    "        logit_roc_auc = roc_auc_score(dfs_cv[s]['mid_price_indicator'], pred_svm_out_of_sample)\n",
    "        df_coef.loc[c] = logit_roc_auc\n",
    "    plt.plot(df_coef, linestyle='--', label=s, marker='x', alpha=0.5)\n",
    "    df_coefs[s] = df_coef\n",
    "\n",
    "plt.legend()"
   ]
  },
  {
   "cell_type": "markdown",
   "metadata": {},
   "source": [
    "##### Best values of coef0"
   ]
  },
  {
   "cell_type": "code",
   "execution_count": 12,
   "metadata": {},
   "outputs": [
    {
     "name": "stdout",
     "output_type": "stream",
     "text": [
      "For 9058 the best is 0.0001\n",
      "For 13003 the best is 0.0001\n",
      "For 9074 the best is 0.0001\n",
      "For 11244 the best is 0.0001\n",
      "For 9270 the best is 0.0001\n"
     ]
    }
   ],
   "source": [
    "for s in stocks:\n",
    "    idx = df_coefs[s]['roc'].idxmax()\n",
    "    print('For {} the best is {}'.format(s, idx))"
   ]
  },
  {
   "cell_type": "markdown",
   "metadata": {},
   "source": [
    "##### Influence of coef0"
   ]
  },
  {
   "cell_type": "code",
   "execution_count": 13,
   "metadata": {},
   "outputs": [
    {
     "name": "stdout",
     "output_type": "stream",
     "text": [
      "For 9058 the diff between best and worst 0.5\n",
      "For 13003 the diff between best and worst 0.5\n",
      "For 9074 the diff between best and worst 0.5\n",
      "For 11244 the diff between best and worst 0.5\n",
      "For 9270 the diff between best and worst 0.5\n"
     ]
    }
   ],
   "source": [
    "for s in stocks:\n",
    "    err_max = df_coefs[s]['roc'].max()\n",
    "    err_min = df_coefs[s]['roc'].min()\n",
    "    print('For {} the diff between best and worst {}'.format(s, err_max - err_min))"
   ]
  },
  {
   "cell_type": "markdown",
   "metadata": {},
   "source": [
    "#### Best params so far"
   ]
  },
  {
   "cell_type": "code",
   "execution_count": 14,
   "metadata": {},
   "outputs": [
    {
     "name": "stdout",
     "output_type": "stream",
     "text": [
      "9270 \t C \t gamma \t coef0\n",
      "9058 \t 0.003 \t 0.2 \t 0.0001\n",
      "13003 \t 0.005 \t 0.15 \t 0.0001\n",
      "9074 \t 0.004 \t 0.1 \t 0.0001\n",
      "11244 \t 0.004 \t 0.2 \t 0.0001\n",
      "9270 \t 0.003 \t 0.1 \t 0.0001\n"
     ]
    }
   ],
   "source": [
    "print(s, '\\t', 'C', '\\t', 'gamma', '\\t', 'coef0')\n",
    "    \n",
    "for s in stocks:\n",
    "    print(s, '\\t', df_css[s]['roc'].idxmax(), '\\t', df_gammas[s]['roc'].idxmax(), \n",
    "          '\\t', df_coefs[s]['roc'].idxmax())"
   ]
  },
  {
   "cell_type": "markdown",
   "metadata": {},
   "source": [
    "### Let's try to pick coef0 against default params"
   ]
  },
  {
   "cell_type": "code",
   "execution_count": 16,
   "metadata": {},
   "outputs": [
    {
     "data": {
      "text/plain": [
       "<matplotlib.legend.Legend at 0x7f991e1af4e0>"
      ]
     },
     "execution_count": 16,
     "metadata": {},
     "output_type": "execute_result"
    },
    {
     "data": {
      "image/png": "[encoded data removed]",
      "text/plain": [
       "<matplotlib.figure.Figure at 0x7f99208e3e48>"
      ]
     },
     "metadata": {},
     "output_type": "display_data"
    }
   ],
   "source": [
    "coeffs = [0.00001, 0.0001, 0.001, 0.005]\n",
    "\n",
    "df_coefs_def = {}\n",
    "\n",
    "ax = plt.subplot()\n",
    "ax.set_xscale(\"log\", basex=10)\n",
    "for s in stocks:\n",
    "    df_coef = pd.DataFrame(index=cs)\n",
    "    df_coef['roc'] = np.zeros(len(df_coef))\n",
    "    for c in coeffs:\n",
    "        reg_svm = svm_classification(dfs[s], 'sigmoid', coef0=c)\n",
    "        prediction = reg_svm.predict(dfs_cv[s]['queue_imbalance'].values.reshape(-1, 1))\n",
    "        score = roc_auc_score(dfs_cv[s]['mid_price_indicator'], prediction)\n",
    "        df_coef.loc[c] = score\n",
    "    plt.plot(df_coef, linestyle='--', label=s, marker='x', alpha=0.5)\n",
    "    df_coefs_def[s] = df_coef\n",
    "\n",
    "plt.legend()"
   ]
  },
  {
   "cell_type": "markdown",
   "metadata": {},
   "source": [
    "# Results\n",
    "\n",
    "We compare reults of SVMs with the best choices of parameter against the logistic regression and SVM with defaults.\n",
    "\n",
    "We will use naive approach - for each stock we will just pick the best values we found in the previous section."
   ]
  },
  {
   "cell_type": "markdown",
   "metadata": {},
   "source": [
    "#### Naive approach\n",
    "\n",
    "We pick the best **C** parameter and the best **gamma** separately from the results of [section above](#Methodology), which were obtained using cross-validation set. The **coef0** parameter \"depend\" of the choice of the rest of parameters."
   ]
  },
  {
   "cell_type": "code",
   "execution_count": null,
   "metadata": {
    "collapsed": true
   },
   "outputs": [],
   "source": [
    "df_results = pd.DataFrame(index=stocks)\n",
    "df_results['logistic'] = np.zeros(len(stocks))\n",
    "df_results['sigmoid-default'] = np.zeros(len(stocks))\n",
    "df_results['sigmoid-tunned'] = np.zeros(len(stocks))"
   ]
  },
  {
   "cell_type": "code",
   "execution_count": null,
   "metadata": {},
   "outputs": [],
   "source": [
    "plt.subplot(121)\n",
    "\n",
    "for s in stocks:\n",
    "    reg_svm = svm_classification(\n",
    "        dfs[s], 'sigmoid', C=df_css[s]['roc'].idxmax(), gamma=df_gammas[s]['roc'].idxmax(),\n",
    "        coef0=df_coefs[s]['roc'].idxmax())\n",
    "    score = lob.plot_roc(df_test, reg_svm, stock=s, title='sigmoid tunned')\n",
    "    df_results['sigmoid-tunned'][s] = score\n",
    "\n",
    "plt.subplot(122)\n",
    "for s in stocks:\n",
    "    reg_svm = svm_classification(dfs[s], 'sigmoid')\n",
    "    score = lob.plot_roc(df_test, reg_svm, stock=s, title='default')\n",
    "    df_results['sigmoid-default'][s] = score\n",
    "    \n",
    "plt.subplots_adjust(left=0, wspace=0.1, top=1, right=2)"
   ]
  },
  {
   "cell_type": "code",
   "execution_count": null,
   "metadata": {},
   "outputs": [],
   "source": [
    "plt.subplot(121)\n",
    "\n",
    "for s in stocks:\n",
    "    reg_svm = svm_classification(\n",
    "        dfs[s], 'sigmoid', C=df_css[s]['roc'].idxmax(), gamma=df_gammas[s]['roc'].idxmax(),\n",
    "        coef0=df_coefs[s]['roc'].idxmax())\n",
    "    score = lob.plot_roc(df_test, reg_svm, stock=s, title='sigmoid tunned')\n",
    "    df_results['sigmoid-tunned'][s] = score\n",
    "\n",
    "plt.subplot(122)\n",
    "for s in stocks:\n",
    "    reg_log = lob.logistic_regression(dfs[s], 0, len(dfs[s]))\n",
    "    score = lob.plot_roc(df_test, reg_log, stock=s, title='logistic')\n",
    "    df_results['logistic'][s] = score\n",
    "\n",
    "plt.subplots_adjust(left=0, wspace=0.1, top=1, right=2)"
   ]
  },
  {
   "cell_type": "code",
   "execution_count": null,
   "metadata": {},
   "outputs": [],
   "source": [
    "df_results"
   ]
  },
  {
   "cell_type": "code",
   "execution_count": null,
   "metadata": {},
   "outputs": [],
   "source": [
    "best_c = {}\n",
    "best_g = {}\n",
    "best_coef = {}\n",
    "best_score = {}\n",
    "\n",
    "for s in stocks:\n",
    "    print(s)\n",
    "    best_score[s] = 0\n",
    "    best_c[s] = -1\n",
    "    best_g[s] = -1\n",
    "    best_coef[s] = -1\n",
    "    for c in cs:\n",
    "        for g in gammas:\n",
    "            for coef in coeffs:\n",
    "                reg_svm = svm_classification(dfs[s], 'sigmoid', C=c, gamma=g, coef0=coef)\n",
    "                prediction = reg_svm.predict(dfs_cv[s]['queue_imbalance'].values.reshape(-1, 1))\n",
    "                score = roc_auc_score(dfs_cv[s]['mid_price_indicator'], prediction)\n",
    "                if score > best_score[s]:\n",
    "                    best_c[s] = c\n",
    "                    best_g[s] = g\n",
    "                    best_coef[s] = coef\n",
    "                    best_score[s] = score"
   ]
  },
  {
   "cell_type": "code",
   "execution_count": null,
   "metadata": {},
   "outputs": [],
   "source": [
    "df_bests = pd.DataFrame(index=stocks)\n",
    "df_bests['gamma'] = np.ones(len(stocks))\n",
    "df_bests['c'] = np.ones(len(stocks))\n",
    "df_bests['coef'] = np.ones(len(stocks))\n",
    "df_bests['score'] = np.ones(len(stocks))\n",
    "df_bests['logistic-score'] = df_results['logistic']\n",
    "for s in stocks:\n",
    "    df_bests['gamma'][s] = best_g[s]\n",
    "    df_bests['c'][s] = best_c[s]\n",
    "    df_bests['coef'][s] = best_coef[s]\n",
    "    df_bests['score'][s] = best_score[s]\n",
    "df_bests"
   ]
  },
  {
   "cell_type": "markdown",
   "metadata": {},
   "source": [
    "# Conclusions"
   ]
  },
  {
   "cell_type": "markdown",
   "metadata": {},
   "source": [
    "### Resources\n",
    "\n",
    "1. [Queue Imbalance as a One-Tick-Ahead Price Predictor in a Limit Order Book](https://arxiv.org/abs/1512.03492) <a class=\"anchor-link\" href=\"#1\">¶</a>"
   ]
  }
 ],
 "metadata": {
  "kernelspec": {
   "display_name": "Python 3",
   "language": "python",
   "name": "python3"
  },
  "language_info": {
   "codemirror_mode": {
    "name": "ipython",
    "version": 3
   },
   "file_extension": ".py",
   "mimetype": "text/x-python",
   "name": "python",
   "nbconvert_exporter": "python",
   "pygments_lexer": "ipython3",
   "version": "3.6.1"
  }
 },
 "nbformat": 4,
 "nbformat_minor": 1
}
