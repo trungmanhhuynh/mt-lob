{
 "cells": [
  {
   "cell_type": "markdown",
   "metadata": {},
   "source": [
    "# SVM with sigmoid kernel\n",
    "\n",
    "The goal of this notebook is to find the best parameters for polynomial kernel. We also want to check if the parameters depend on stock.\n",
    "\n",
    "We will use [sklearn.svm](http://scikit-learn.org/stable/modules/generated/sklearn.svm.SVC.html#sklearn.svm.SVC) library to perform calculations. We want to pick the best parameters for **SVC**:\n",
    "\n",
    "* C (default 1.0)\n",
    "* gamma (default 1/number_of_features, so 1 in our case)\n",
    "* coef0 (default 0.0)\n",
    "\n",
    "Sigmoid kernel function: $(\\tanh(\\gamma \\langle x,x'\\rangle + coef0))$"
   ]
  },
  {
   "cell_type": "code",
   "execution_count": 1,
   "metadata": {
    "collapsed": true
   },
   "outputs": [],
   "source": [
    "%matplotlib inline\n",
    "import pandas as pd\n",
    "\n",
    "import matplotlib.pyplot as plt\n",
    "import matplotlib.dates as md\n",
    "from statsmodels.distributions.empirical_distribution import ECDF\n",
    "import numpy as np\n",
    "import seaborn as sns\n",
    "from sklearn.metrics import roc_auc_score\n",
    "from sklearn.metrics import roc_curve\n",
    "from sklearn.metrics import classification_report\n",
    "from sklearn import svm\n",
    "import warnings\n",
    "\n",
    "from lob_data_utils import lob\n",
    "\n",
    "sns.set_style('whitegrid')\n",
    "\n",
    "warnings.filterwarnings('ignore')"
   ]
  },
  {
   "cell_type": "markdown",
   "metadata": {},
   "source": [
    "# Data\n",
    "\n",
    "We use data from 5 stocks (from dates 2013-09-01 - 2013-11-16) for which logistic regression yielded the best results.\n",
    "\n",
    "We selected 3 subsets for each stock:\n",
    "* training set (60% of data)\n",
    "* test set (20% of data)\n",
    "* cross-validation set (20% of data)"
   ]
  },
  {
   "cell_type": "code",
   "execution_count": 2,
   "metadata": {},
   "outputs": [
    {
     "name": "stdout",
     "output_type": "stream",
     "text": [
      "Len of data for  7858 is 13791\n",
      "Training set length for 7858: 8275\n",
      "Testing set length for 7858: 2758\n",
      "Cross-validation set length for 7858: 2758\n"
     ]
    }
   ],
   "source": [
    "stocks = ['7858']\n",
    "\n",
    "dfs = {}\n",
    "dfs_cv = {}\n",
    "dfs_test = {}\n",
    "\n",
    "for s in stocks:\n",
    "    df, df_cv, df_test = lob.load_prepared_data(s, cv=True, length=None)\n",
    "    dfs[s] = df\n",
    "    dfs_test[s] = df_cv\n",
    "    dfs_cv[s] = df_test"
   ]
  },
  {
   "cell_type": "code",
   "execution_count": 3,
   "metadata": {},
   "outputs": [
    {
     "data": {
      "text/html": [
       "<div>\n",
       "<style>\n",
       "    .dataframe thead tr:only-child th {\n",
       "        text-align: right;\n",
       "    }\n",
       "\n",
       "    .dataframe thead th {\n",
       "        text-align: left;\n",
       "    }\n",
       "\n",
       "    .dataframe tbody tr th {\n",
       "        vertical-align: top;\n",
       "    }\n",
       "</style>\n",
       "<table border=\"1\" class=\"dataframe\">\n",
       "  <thead>\n",
       "    <tr style=\"text-align: right;\">\n",
       "      <th></th>\n",
       "      <th>Unnamed: 0</th>\n",
       "      <th>bid</th>\n",
       "      <th>ask</th>\n",
       "      <th>bid_price</th>\n",
       "      <th>ask_price</th>\n",
       "      <th>mid_price</th>\n",
       "      <th>sum_sell_ask</th>\n",
       "      <th>sum_buy_bid</th>\n",
       "      <th>mid_price_indicator</th>\n",
       "      <th>queue_imbalance</th>\n",
       "    </tr>\n",
       "  </thead>\n",
       "  <tbody>\n",
       "    <tr>\n",
       "      <th>2758</th>\n",
       "      <td>2013-09-18 10:43:00</td>\n",
       "      <td>[(2800.0, 500.0), (4100.0, 300.0), (4120.0, 50...</td>\n",
       "      <td>[(4490.0, 1025.0), (4491.0, 201.0), (4492.0, 5...</td>\n",
       "      <td>4486.0</td>\n",
       "      <td>4490.0</td>\n",
       "      <td>4488.0</td>\n",
       "      <td>1025.0</td>\n",
       "      <td>640.0</td>\n",
       "      <td>0.0</td>\n",
       "      <td>-0.231231</td>\n",
       "    </tr>\n",
       "    <tr>\n",
       "      <th>2759</th>\n",
       "      <td>2013-09-18 10:44:00</td>\n",
       "      <td>[(2800.0, 500.0), (4100.0, 300.0), (4120.0, 50...</td>\n",
       "      <td>[(4489.0, 807.0), (4490.0, 272.0), (4491.0, 50...</td>\n",
       "      <td>4486.0</td>\n",
       "      <td>4489.0</td>\n",
       "      <td>4487.5</td>\n",
       "      <td>807.0</td>\n",
       "      <td>440.0</td>\n",
       "      <td>0.0</td>\n",
       "      <td>-0.294306</td>\n",
       "    </tr>\n",
       "    <tr>\n",
       "      <th>2760</th>\n",
       "      <td>2013-09-18 10:45:00</td>\n",
       "      <td>[(2800.0, 500.0), (4100.0, 300.0), (4120.0, 50...</td>\n",
       "      <td>[(4488.0, 528.0), (4489.0, 726.0), (4490.0, 52...</td>\n",
       "      <td>4485.0</td>\n",
       "      <td>4488.0</td>\n",
       "      <td>4486.5</td>\n",
       "      <td>528.0</td>\n",
       "      <td>600.0</td>\n",
       "      <td>0.0</td>\n",
       "      <td>0.063830</td>\n",
       "    </tr>\n",
       "    <tr>\n",
       "      <th>2761</th>\n",
       "      <td>2013-09-18 10:46:00</td>\n",
       "      <td>[(2800.0, 500.0), (4100.0, 300.0), (4120.0, 50...</td>\n",
       "      <td>[(4488.0, 157.0), (4489.0, 621.0), (4490.0, 58...</td>\n",
       "      <td>4484.0</td>\n",
       "      <td>4488.0</td>\n",
       "      <td>4486.0</td>\n",
       "      <td>157.0</td>\n",
       "      <td>667.0</td>\n",
       "      <td>1.0</td>\n",
       "      <td>0.618932</td>\n",
       "    </tr>\n",
       "    <tr>\n",
       "      <th>2762</th>\n",
       "      <td>2013-09-18 10:47:00</td>\n",
       "      <td>[(2800.0, 500.0), (4100.0, 300.0), (4120.0, 50...</td>\n",
       "      <td>[(4489.0, 630.0), (4490.0, 397.0), (4491.0, 96...</td>\n",
       "      <td>4486.0</td>\n",
       "      <td>4489.0</td>\n",
       "      <td>4487.5</td>\n",
       "      <td>630.0</td>\n",
       "      <td>73.0</td>\n",
       "      <td>1.0</td>\n",
       "      <td>-0.792319</td>\n",
       "    </tr>\n",
       "  </tbody>\n",
       "</table>\n",
       "</div>"
      ],
      "text/plain": [
       "               Unnamed: 0                                                bid  \\\n",
       "2758  2013-09-18 10:43:00  [(2800.0, 500.0), (4100.0, 300.0), (4120.0, 50...   \n",
       "2759  2013-09-18 10:44:00  [(2800.0, 500.0), (4100.0, 300.0), (4120.0, 50...   \n",
       "2760  2013-09-18 10:45:00  [(2800.0, 500.0), (4100.0, 300.0), (4120.0, 50...   \n",
       "2761  2013-09-18 10:46:00  [(2800.0, 500.0), (4100.0, 300.0), (4120.0, 50...   \n",
       "2762  2013-09-18 10:47:00  [(2800.0, 500.0), (4100.0, 300.0), (4120.0, 50...   \n",
       "\n",
       "                                                    ask  bid_price  ask_price  \\\n",
       "2758  [(4490.0, 1025.0), (4491.0, 201.0), (4492.0, 5...     4486.0     4490.0   \n",
       "2759  [(4489.0, 807.0), (4490.0, 272.0), (4491.0, 50...     4486.0     4489.0   \n",
       "2760  [(4488.0, 528.0), (4489.0, 726.0), (4490.0, 52...     4485.0     4488.0   \n",
       "2761  [(4488.0, 157.0), (4489.0, 621.0), (4490.0, 58...     4484.0     4488.0   \n",
       "2762  [(4489.0, 630.0), (4490.0, 397.0), (4491.0, 96...     4486.0     4489.0   \n",
       "\n",
       "      mid_price  sum_sell_ask  sum_buy_bid  mid_price_indicator  \\\n",
       "2758     4488.0        1025.0        640.0                  0.0   \n",
       "2759     4487.5         807.0        440.0                  0.0   \n",
       "2760     4486.5         528.0        600.0                  0.0   \n",
       "2761     4486.0         157.0        667.0                  1.0   \n",
       "2762     4487.5         630.0         73.0                  1.0   \n",
       "\n",
       "      queue_imbalance  \n",
       "2758        -0.231231  \n",
       "2759        -0.294306  \n",
       "2760         0.063830  \n",
       "2761         0.618932  \n",
       "2762        -0.792319  "
      ]
     },
     "execution_count": 3,
     "metadata": {},
     "output_type": "execute_result"
    }
   ],
   "source": [
    "dfs[stocks[0]].head()"
   ]
  },
  {
   "cell_type": "code",
   "execution_count": 4,
   "metadata": {
    "collapsed": true
   },
   "outputs": [],
   "source": [
    "def svm_classification(d, kernel, gamma='auto', C=1.0, degree=3, coef0=0.0):\n",
    "    clf = svm.SVC(kernel=kernel, gamma=gamma, C=C, degree=degree, coef0=coef0)\n",
    "    X = d['queue_imbalance'].values.reshape(-1, 1)\n",
    "    y = d['mid_price_indicator'].values.reshape(-1, 1)\n",
    "    clf.fit(X, y)\n",
    "    return clf"
   ]
  },
  {
   "cell_type": "markdown",
   "metadata": {},
   "source": [
    "# Methodology\n",
    "\n",
    "We will use at first naive approach to grasp how each of the parameter influences the ROC area score and what values make sense, when the other parameters are set to defaults for parameters C and gamma.\n",
    "\n",
    "Next we will choose parameter coef0 for SVM with gamma and C set to the best values we got."
   ]
  },
  {
   "cell_type": "markdown",
   "metadata": {},
   "source": [
    "### C parameter\n",
    "\n",
    "The C parameter has influence over margin picked by SVM:\n",
    "* for large values of **C** SVM will choose a smaller-margin hyperplane, which means that more data points will be classified correctly\n",
    "* for small values of **C** SVM will choose a bigger-margin hyperplane, so there may be more misclassifications\n",
    "\n",
    "At first we tried parameters: [0.0001, 0.001, 0.01, 0.1, 1, 10, 1000], but after first calculations it seems that it wasn't enough, so a few more values were introduced or removed."
   ]
  },
  {
   "cell_type": "code",
   "execution_count": 5,
   "metadata": {},
   "outputs": [
    {
     "data": {
      "text/plain": [
       "<matplotlib.legend.Legend at 0x7f79fa4532e8>"
      ]
     },
     "execution_count": 5,
     "metadata": {},
     "output_type": "execute_result"
    },
    {
     "data": {
      "image/png": "[encoded data removed]",
      "text/plain": [
       "<matplotlib.figure.Figure at 0x7f79fa437828>"
      ]
     },
     "metadata": {},
     "output_type": "display_data"
    }
   ],
   "source": [
    "cs = [0.01, 0.09, 0.1, 0.2, 1, 8, 9, 9.5]\n",
    "df_css = {}\n",
    "\n",
    "ax = plt.subplot()\n",
    "ax.set_xscale(\"log\", basex=10)\n",
    "for s in stocks:\n",
    "    df_cs = pd.DataFrame(index=cs)\n",
    "    df_cs['roc'] = np.zeros(len(df_cs))\n",
    "    for c in cs:\n",
    "        reg_svm = svm_classification(dfs[s], 'sigmoid', C=c, coef0=0)\n",
    "        pred_svm_out_of_sample = reg_svm.predict(dfs_cv[s]['queue_imbalance'].values.reshape(-1, 1))\n",
    "        logit_roc_auc = roc_auc_score(dfs_cv[s]['mid_price_indicator'], pred_svm_out_of_sample)\n",
    "        df_cs.loc[c] = logit_roc_auc\n",
    "    plt.plot(df_cs, linestyle='--', label=s, marker='x', alpha=0.5)\n",
    "    df_css[s] = df_cs\n",
    "    \n",
    "plt.legend()"
   ]
  },
  {
   "cell_type": "markdown",
   "metadata": {},
   "source": [
    "##### Best values of C parameter\n",
    "\n",
    "Choice of parameter C should be small - less than 0.1"
   ]
  },
  {
   "cell_type": "code",
   "execution_count": 6,
   "metadata": {},
   "outputs": [
    {
     "name": "stdout",
     "output_type": "stream",
     "text": [
      "For 7858 the best is 0.01\n"
     ]
    }
   ],
   "source": [
    "for s in stocks:\n",
    "    idx = df_css[s]['roc'].idxmax()\n",
    "    print('For {} the best is {}'.format(s, idx))"
   ]
  },
  {
   "cell_type": "markdown",
   "metadata": {},
   "source": [
    "##### Influence of C parameter\n",
    "\n",
    "The score difference between SVM with the worst choice of parameter **C** and the best choice one is shown on the output below."
   ]
  },
  {
   "cell_type": "code",
   "execution_count": 7,
   "metadata": {},
   "outputs": [
    {
     "name": "stdout",
     "output_type": "stream",
     "text": [
      "For 7858 the diff between best and worst 0.07458031298335477\n"
     ]
    }
   ],
   "source": [
    "for s in stocks:\n",
    "    err_max = df_css[s]['roc'].max()\n",
    "    err_min = df_css[s]['roc'].min()\n",
    "    print('For {} the diff between best and worst {}'.format(s, err_max - err_min))"
   ]
  },
  {
   "cell_type": "markdown",
   "metadata": {},
   "source": [
    "### Gamma\n",
    "\n",
    "Gamma is a parameter which has influence over decision region - the bigger it is, the bigger influence every single row of data has. When gamma is low the decision region is very broad. When gamma is high it can even create islands of decision-boundaries around data points."
   ]
  },
  {
   "cell_type": "code",
   "execution_count": 8,
   "metadata": {},
   "outputs": [
    {
     "data": {
      "text/plain": [
       "<matplotlib.legend.Legend at 0x7f79f7000390>"
      ]
     },
     "execution_count": 8,
     "metadata": {},
     "output_type": "execute_result"
    },
    {
     "data": {
      "image/png": "[encoded data removed]",
      "text/plain": [
       "<matplotlib.figure.Figure at 0x7f79f6c34f28>"
      ]
     },
     "metadata": {},
     "output_type": "display_data"
    }
   ],
   "source": [
    "gammas = [0.01, 0.08, 0.09, 0.095]\n",
    "\n",
    "df_gammas = {}\n",
    "\n",
    "ax = plt.subplot()\n",
    "ax.set_xscale(\"log\", basex=10)\n",
    "for s in stocks:\n",
    "    df_gamma = pd.DataFrame(index=gammas)\n",
    "    df_gamma['roc'] = np.zeros(len(df_gamma))\n",
    "    for g in gammas:\n",
    "        reg_svm = svm_classification(dfs[s], 'sigmoid', gamma=g, coef0=0)\n",
    "        pred_svm_out_of_sample = reg_svm.predict(dfs_cv[s]['queue_imbalance'].values.reshape(-1, 1))\n",
    "\n",
    "        logit_roc_auc = roc_auc_score(dfs_cv[s]['mid_price_indicator'], pred_svm_out_of_sample)\n",
    "        df_gamma.loc[g] = logit_roc_auc\n",
    "    plt.plot(df_gamma, linestyle='--', label=s, marker='x', alpha=0.5)\n",
    "    df_gammas[s] = df_gamma\n",
    "    \n",
    "plt.legend()"
   ]
  },
  {
   "cell_type": "markdown",
   "metadata": {},
   "source": [
    "##### Best values of gamma\n",
    "\n",
    "There is no rule, how to set this parameter."
   ]
  },
  {
   "cell_type": "code",
   "execution_count": 9,
   "metadata": {},
   "outputs": [
    {
     "name": "stdout",
     "output_type": "stream",
     "text": [
      "For 7858 the best is 0.01\n"
     ]
    }
   ],
   "source": [
    "for s in stocks:\n",
    "    idx = df_gammas[s]['roc'].idxmax()\n",
    "    print('For {} the best is {}'.format(s, idx))"
   ]
  },
  {
   "cell_type": "markdown",
   "metadata": {},
   "source": [
    "##### Influence of gamma\n",
    "\n",
    "The score difference between SVM with the worst choice of **gamma** and the best choice one is shown on the output below. For scoring method we used *roc_area*. For stocks **10795**, **11618** and **4481** the difference is more than 0.1, so it's definitelly worth to experiment more."
   ]
  },
  {
   "cell_type": "code",
   "execution_count": 10,
   "metadata": {},
   "outputs": [
    {
     "name": "stdout",
     "output_type": "stream",
     "text": [
      "For 7858 the diff between best and worst 0.0008616396449095953\n"
     ]
    }
   ],
   "source": [
    "for s in stocks:\n",
    "    err_max = df_gammas[s]['roc'].max()\n",
    "    err_min = df_gammas[s]['roc'].min()\n",
    "    print('For {} the diff between best and worst {}'.format(s, err_max - err_min))"
   ]
  },
  {
   "cell_type": "code",
   "execution_count": 11,
   "metadata": {},
   "outputs": [
    {
     "name": "stdout",
     "output_type": "stream",
     "text": [
      "7858\n"
     ]
    }
   ],
   "source": [
    "df_params = {}\n",
    "\n",
    "for s in stocks:\n",
    "    print(s)\n",
    "    params = []\n",
    "    for c in cs:\n",
    "        for g in gammas:\n",
    "            reg_svm = svm_classification(dfs[s], 'sigmoid', C=c, gamma=g)\n",
    "            prediction = reg_svm.predict(dfs_cv[s]['queue_imbalance'].values.reshape(-1, 1))\n",
    "            score = roc_auc_score(dfs_cv[s]['mid_price_indicator'], prediction)\n",
    "            params.append({'score': score, 'gamma': g, 'c': c})\n",
    "    df_params[s] = pd.DataFrame(params)"
   ]
  },
  {
   "cell_type": "code",
   "execution_count": 12,
   "metadata": {},
   "outputs": [
    {
     "data": {
      "image/png": "[encoded data removed]",
      "text/plain": [
       "<matplotlib.figure.Figure at 0x7f79f6d4c908>"
      ]
     },
     "metadata": {},
     "output_type": "display_data"
    },
    {
     "data": {
      "text/plain": [
       "<matplotlib.figure.Figure at 0x7f79f6b365f8>"
      ]
     },
     "metadata": {},
     "output_type": "display_data"
    }
   ],
   "source": [
    "for s in stocks:\n",
    "    df_g = df_params[s].pivot(index='c', columns='gamma', values='score')\n",
    "    sns.heatmap(df_g)\n",
    "    plt.title('Best params for ' + s)\n",
    "    plt.figure()"
   ]
  },
  {
   "cell_type": "code",
   "execution_count": 13,
   "metadata": {},
   "outputs": [
    {
     "name": "stdout",
     "output_type": "stream",
     "text": [
      "7858 c        9.000000\n",
      "gamma    0.090000\n",
      "score    0.585526\n",
      "Name: 26, dtype: float64\n"
     ]
    }
   ],
   "source": [
    "for s in stocks:\n",
    "    print(s, df_params[s].iloc[df_params[s]['score'].idxmax()])"
   ]
  },
  {
   "cell_type": "code",
   "execution_count": 14,
   "metadata": {},
   "outputs": [
    {
     "data": {
      "text/html": [
       "<div>\n",
       "<style>\n",
       "    .dataframe thead tr:only-child th {\n",
       "        text-align: right;\n",
       "    }\n",
       "\n",
       "    .dataframe thead th {\n",
       "        text-align: left;\n",
       "    }\n",
       "\n",
       "    .dataframe tbody tr th {\n",
       "        vertical-align: top;\n",
       "    }\n",
       "</style>\n",
       "<table border=\"1\" class=\"dataframe\">\n",
       "  <thead>\n",
       "    <tr style=\"text-align: right;\">\n",
       "      <th></th>\n",
       "      <th>c</th>\n",
       "      <th>gamma</th>\n",
       "      <th>score</th>\n",
       "    </tr>\n",
       "  </thead>\n",
       "  <tbody>\n",
       "    <tr>\n",
       "      <th>26</th>\n",
       "      <td>9.00</td>\n",
       "      <td>0.090</td>\n",
       "      <td>0.585526</td>\n",
       "    </tr>\n",
       "    <tr>\n",
       "      <th>9</th>\n",
       "      <td>0.10</td>\n",
       "      <td>0.080</td>\n",
       "      <td>0.584805</td>\n",
       "    </tr>\n",
       "    <tr>\n",
       "      <th>6</th>\n",
       "      <td>0.09</td>\n",
       "      <td>0.090</td>\n",
       "      <td>0.584805</td>\n",
       "    </tr>\n",
       "    <tr>\n",
       "      <th>15</th>\n",
       "      <td>0.20</td>\n",
       "      <td>0.095</td>\n",
       "      <td>0.584805</td>\n",
       "    </tr>\n",
       "    <tr>\n",
       "      <th>14</th>\n",
       "      <td>0.20</td>\n",
       "      <td>0.090</td>\n",
       "      <td>0.584805</td>\n",
       "    </tr>\n",
       "  </tbody>\n",
       "</table>\n",
       "</div>"
      ],
      "text/plain": [
       "       c  gamma     score\n",
       "26  9.00  0.090  0.585526\n",
       "9   0.10  0.080  0.584805\n",
       "6   0.09  0.090  0.584805\n",
       "15  0.20  0.095  0.584805\n",
       "14  0.20  0.090  0.584805"
      ]
     },
     "execution_count": 14,
     "metadata": {},
     "output_type": "execute_result"
    }
   ],
   "source": [
    "df_params[stocks[0]].sort_values(by='score', ascending=False).head(5)"
   ]
  },
  {
   "cell_type": "markdown",
   "metadata": {},
   "source": [
    "### Coef0\n",
    "\n",
    "For sigmoid kernel we use function:\n",
    "$(\\tanh(\\gamma \\langle x,x'\\rangle + r))$, where r is specified by coef0."
   ]
  },
  {
   "cell_type": "code",
   "execution_count": 15,
   "metadata": {},
   "outputs": [
    {
     "data": {
      "text/plain": [
       "<matplotlib.legend.Legend at 0x7f79f6b6d198>"
      ]
     },
     "execution_count": 15,
     "metadata": {},
     "output_type": "execute_result"
    },
    {
     "data": {
      "image/png": "[encoded data removed]",
      "text/plain": [
       "<matplotlib.figure.Figure at 0x7f79f6b6d240>"
      ]
     },
     "metadata": {},
     "output_type": "display_data"
    }
   ],
   "source": [
    "coeffs = [0, 0.01, 0.1, 1, 10]\n",
    "# 10, 1\n",
    "df_coefs = {}\n",
    "\n",
    "ax = plt.subplot()\n",
    "ax.set_xscale(\"log\", basex=10)\n",
    "for s in stocks:\n",
    "    df_coef = pd.DataFrame(index=cs)\n",
    "    df_coef['roc'] = np.zeros(len(df_coef))\n",
    "    for c in coeffs:\n",
    "        best_idx = df_params[s]['score'].idxmax()\n",
    "        reg_svm = svm_classification(dfs[s], 'sigmoid', C=df_params[s].iloc[best_idx]['c'], \n",
    "                                     gamma=df_params[s].iloc[best_idx]['gamma'], coef0=c)\n",
    "        pred_svm_out_of_sample = reg_svm.predict(dfs_cv[s]['queue_imbalance'].values.reshape(-1, 1))\n",
    "        logit_roc_auc = roc_auc_score(dfs_cv[s]['mid_price_indicator'], pred_svm_out_of_sample)\n",
    "        df_coef.loc[c] = logit_roc_auc\n",
    "    plt.plot(df_coef, linestyle='--', label=s, marker='x', alpha=0.5)\n",
    "    df_coefs[s] = df_coef\n",
    "\n",
    "plt.legend()"
   ]
  },
  {
   "cell_type": "markdown",
   "metadata": {},
   "source": [
    "##### Best values of coef0\n",
    "\n",
    "The value of coef0 should be rather small - less than 0.5."
   ]
  },
  {
   "cell_type": "code",
   "execution_count": 16,
   "metadata": {},
   "outputs": [
    {
     "name": "stdout",
     "output_type": "stream",
     "text": [
      "For 7858 the best is 0.0\n"
     ]
    }
   ],
   "source": [
    "for s in stocks:\n",
    "    idx = df_coefs[s]['roc'].idxmax()\n",
    "    print('For {} the best is {}'.format(s, idx))"
   ]
  },
  {
   "cell_type": "markdown",
   "metadata": {},
   "source": [
    "##### Influence of coef0\n",
    "\n",
    "For all stocks choice of coef0 is significant, it can make even 0.5 difference."
   ]
  },
  {
   "cell_type": "code",
   "execution_count": 17,
   "metadata": {},
   "outputs": [
    {
     "name": "stdout",
     "output_type": "stream",
     "text": [
      "For 7858 the diff between best and worst 0.5855257714573304\n"
     ]
    }
   ],
   "source": [
    "for s in stocks:\n",
    "    err_max = df_coefs[s]['roc'].max()\n",
    "    err_min = df_coefs[s]['roc'].min()\n",
    "    print('For {} the diff between best and worst {}'.format(s, err_max - err_min))"
   ]
  },
  {
   "cell_type": "markdown",
   "metadata": {},
   "source": [
    "#### Best params so far"
   ]
  },
  {
   "cell_type": "code",
   "execution_count": 18,
   "metadata": {},
   "outputs": [
    {
     "name": "stdout",
     "output_type": "stream",
     "text": [
      "7858 \t C \t gamma \t coef0\n",
      "7858 \t 0.01 \t 0.01 \t 0.0\n"
     ]
    }
   ],
   "source": [
    "print(s, '\\t', 'C', '\\t', 'gamma', '\\t', 'coef0')\n",
    "    \n",
    "for s in stocks:\n",
    "    print(s, '\\t', df_css[s]['roc'].idxmax(), '\\t', df_gammas[s]['roc'].idxmax(), \n",
    "          '\\t', df_coefs[s]['roc'].idxmax())"
   ]
  },
  {
   "cell_type": "code",
   "execution_count": 19,
   "metadata": {},
   "outputs": [
    {
     "name": "stdout",
     "output_type": "stream",
     "text": [
      "7858\n",
      "130\n"
     ]
    }
   ],
   "source": [
    "df_params_coef = {}\n",
    "for s in stocks:\n",
    "    print(s)\n",
    "    params = []\n",
    "    for idx, row in df_params[s].iterrows():\n",
    "        for coef in coeffs:\n",
    "            reg_svm = svm_classification(dfs[s], 'sigmoid', C=row['c'], \n",
    "                                         gamma=row['gamma'], coef0=coef)\n",
    "            prediction = reg_svm.predict(dfs_cv[s]['queue_imbalance'].values.reshape(-1, 1))\n",
    "            score = roc_auc_score(dfs_cv[s]['mid_price_indicator'], prediction)\n",
    "            params.append({'score': score, 'gamma': row['gamma'], 'c': row['c'], 'coef0': coef})\n",
    "    df_params_coef[s] = pd.DataFrame(params)\n",
    "    print(df_params_coef[s]['score'].idxmax())\n",
    "\n",
    "    "
   ]
  },
  {
   "cell_type": "code",
   "execution_count": 20,
   "metadata": {},
   "outputs": [
    {
     "data": {
      "text/html": [
       "<div>\n",
       "<style>\n",
       "    .dataframe thead tr:only-child th {\n",
       "        text-align: right;\n",
       "    }\n",
       "\n",
       "    .dataframe thead th {\n",
       "        text-align: left;\n",
       "    }\n",
       "\n",
       "    .dataframe tbody tr th {\n",
       "        vertical-align: top;\n",
       "    }\n",
       "</style>\n",
       "<table border=\"1\" class=\"dataframe\">\n",
       "  <thead>\n",
       "    <tr style=\"text-align: right;\">\n",
       "      <th></th>\n",
       "      <th>c</th>\n",
       "      <th>coef0</th>\n",
       "      <th>gamma</th>\n",
       "      <th>score</th>\n",
       "    </tr>\n",
       "  </thead>\n",
       "  <tbody>\n",
       "    <tr>\n",
       "      <th>130</th>\n",
       "      <td>9.00</td>\n",
       "      <td>0.00</td>\n",
       "      <td>0.090</td>\n",
       "      <td>0.585526</td>\n",
       "    </tr>\n",
       "    <tr>\n",
       "      <th>107</th>\n",
       "      <td>8.00</td>\n",
       "      <td>0.10</td>\n",
       "      <td>0.080</td>\n",
       "      <td>0.585369</td>\n",
       "    </tr>\n",
       "    <tr>\n",
       "      <th>31</th>\n",
       "      <td>0.09</td>\n",
       "      <td>0.01</td>\n",
       "      <td>0.090</td>\n",
       "      <td>0.584805</td>\n",
       "    </tr>\n",
       "    <tr>\n",
       "      <th>30</th>\n",
       "      <td>0.09</td>\n",
       "      <td>0.00</td>\n",
       "      <td>0.090</td>\n",
       "      <td>0.584805</td>\n",
       "    </tr>\n",
       "    <tr>\n",
       "      <th>66</th>\n",
       "      <td>0.20</td>\n",
       "      <td>0.01</td>\n",
       "      <td>0.080</td>\n",
       "      <td>0.584805</td>\n",
       "    </tr>\n",
       "    <tr>\n",
       "      <th>70</th>\n",
       "      <td>0.20</td>\n",
       "      <td>0.00</td>\n",
       "      <td>0.090</td>\n",
       "      <td>0.584805</td>\n",
       "    </tr>\n",
       "    <tr>\n",
       "      <th>46</th>\n",
       "      <td>0.10</td>\n",
       "      <td>0.01</td>\n",
       "      <td>0.080</td>\n",
       "      <td>0.584805</td>\n",
       "    </tr>\n",
       "    <tr>\n",
       "      <th>45</th>\n",
       "      <td>0.10</td>\n",
       "      <td>0.00</td>\n",
       "      <td>0.080</td>\n",
       "      <td>0.584805</td>\n",
       "    </tr>\n",
       "    <tr>\n",
       "      <th>75</th>\n",
       "      <td>0.20</td>\n",
       "      <td>0.00</td>\n",
       "      <td>0.095</td>\n",
       "      <td>0.584805</td>\n",
       "    </tr>\n",
       "    <tr>\n",
       "      <th>35</th>\n",
       "      <td>0.09</td>\n",
       "      <td>0.00</td>\n",
       "      <td>0.095</td>\n",
       "      <td>0.584805</td>\n",
       "    </tr>\n",
       "    <tr>\n",
       "      <th>71</th>\n",
       "      <td>0.20</td>\n",
       "      <td>0.01</td>\n",
       "      <td>0.090</td>\n",
       "      <td>0.584459</td>\n",
       "    </tr>\n",
       "    <tr>\n",
       "      <th>81</th>\n",
       "      <td>1.00</td>\n",
       "      <td>0.01</td>\n",
       "      <td>0.010</td>\n",
       "      <td>0.584459</td>\n",
       "    </tr>\n",
       "    <tr>\n",
       "      <th>80</th>\n",
       "      <td>1.00</td>\n",
       "      <td>0.00</td>\n",
       "      <td>0.010</td>\n",
       "      <td>0.584459</td>\n",
       "    </tr>\n",
       "    <tr>\n",
       "      <th>26</th>\n",
       "      <td>0.09</td>\n",
       "      <td>0.01</td>\n",
       "      <td>0.080</td>\n",
       "      <td>0.584425</td>\n",
       "    </tr>\n",
       "    <tr>\n",
       "      <th>115</th>\n",
       "      <td>8.00</td>\n",
       "      <td>0.00</td>\n",
       "      <td>0.095</td>\n",
       "      <td>0.584385</td>\n",
       "    </tr>\n",
       "    <tr>\n",
       "      <th>150</th>\n",
       "      <td>9.50</td>\n",
       "      <td>0.00</td>\n",
       "      <td>0.090</td>\n",
       "      <td>0.584385</td>\n",
       "    </tr>\n",
       "    <tr>\n",
       "      <th>142</th>\n",
       "      <td>9.50</td>\n",
       "      <td>0.10</td>\n",
       "      <td>0.010</td>\n",
       "      <td>0.584180</td>\n",
       "    </tr>\n",
       "    <tr>\n",
       "      <th>122</th>\n",
       "      <td>9.00</td>\n",
       "      <td>0.10</td>\n",
       "      <td>0.010</td>\n",
       "      <td>0.584180</td>\n",
       "    </tr>\n",
       "    <tr>\n",
       "      <th>51</th>\n",
       "      <td>0.10</td>\n",
       "      <td>0.01</td>\n",
       "      <td>0.090</td>\n",
       "      <td>0.584146</td>\n",
       "    </tr>\n",
       "    <tr>\n",
       "      <th>76</th>\n",
       "      <td>0.20</td>\n",
       "      <td>0.01</td>\n",
       "      <td>0.095</td>\n",
       "      <td>0.584112</td>\n",
       "    </tr>\n",
       "    <tr>\n",
       "      <th>102</th>\n",
       "      <td>8.00</td>\n",
       "      <td>0.10</td>\n",
       "      <td>0.010</td>\n",
       "      <td>0.584112</td>\n",
       "    </tr>\n",
       "    <tr>\n",
       "      <th>82</th>\n",
       "      <td>1.00</td>\n",
       "      <td>0.10</td>\n",
       "      <td>0.010</td>\n",
       "      <td>0.584112</td>\n",
       "    </tr>\n",
       "    <tr>\n",
       "      <th>56</th>\n",
       "      <td>0.10</td>\n",
       "      <td>0.01</td>\n",
       "      <td>0.095</td>\n",
       "      <td>0.584112</td>\n",
       "    </tr>\n",
       "    <tr>\n",
       "      <th>55</th>\n",
       "      <td>0.10</td>\n",
       "      <td>0.00</td>\n",
       "      <td>0.095</td>\n",
       "      <td>0.584112</td>\n",
       "    </tr>\n",
       "    <tr>\n",
       "      <th>36</th>\n",
       "      <td>0.09</td>\n",
       "      <td>0.01</td>\n",
       "      <td>0.095</td>\n",
       "      <td>0.584112</td>\n",
       "    </tr>\n",
       "    <tr>\n",
       "      <th>50</th>\n",
       "      <td>0.10</td>\n",
       "      <td>0.00</td>\n",
       "      <td>0.090</td>\n",
       "      <td>0.584112</td>\n",
       "    </tr>\n",
       "    <tr>\n",
       "      <th>65</th>\n",
       "      <td>0.20</td>\n",
       "      <td>0.00</td>\n",
       "      <td>0.080</td>\n",
       "      <td>0.584045</td>\n",
       "    </tr>\n",
       "    <tr>\n",
       "      <th>90</th>\n",
       "      <td>1.00</td>\n",
       "      <td>0.00</td>\n",
       "      <td>0.090</td>\n",
       "      <td>0.583943</td>\n",
       "    </tr>\n",
       "    <tr>\n",
       "      <th>95</th>\n",
       "      <td>1.00</td>\n",
       "      <td>0.00</td>\n",
       "      <td>0.095</td>\n",
       "      <td>0.583910</td>\n",
       "    </tr>\n",
       "    <tr>\n",
       "      <th>61</th>\n",
       "      <td>0.20</td>\n",
       "      <td>0.01</td>\n",
       "      <td>0.010</td>\n",
       "      <td>0.583852</td>\n",
       "    </tr>\n",
       "    <tr>\n",
       "      <th>...</th>\n",
       "      <td>...</td>\n",
       "      <td>...</td>\n",
       "      <td>...</td>\n",
       "      <td>...</td>\n",
       "    </tr>\n",
       "    <tr>\n",
       "      <th>93</th>\n",
       "      <td>1.00</td>\n",
       "      <td>1.00</td>\n",
       "      <td>0.090</td>\n",
       "      <td>0.583042</td>\n",
       "    </tr>\n",
       "    <tr>\n",
       "      <th>127</th>\n",
       "      <td>9.00</td>\n",
       "      <td>0.10</td>\n",
       "      <td>0.080</td>\n",
       "      <td>0.583002</td>\n",
       "    </tr>\n",
       "    <tr>\n",
       "      <th>156</th>\n",
       "      <td>9.50</td>\n",
       "      <td>0.01</td>\n",
       "      <td>0.095</td>\n",
       "      <td>0.582981</td>\n",
       "    </tr>\n",
       "    <tr>\n",
       "      <th>103</th>\n",
       "      <td>8.00</td>\n",
       "      <td>1.00</td>\n",
       "      <td>0.010</td>\n",
       "      <td>0.582928</td>\n",
       "    </tr>\n",
       "    <tr>\n",
       "      <th>125</th>\n",
       "      <td>9.00</td>\n",
       "      <td>0.00</td>\n",
       "      <td>0.080</td>\n",
       "      <td>0.582889</td>\n",
       "    </tr>\n",
       "    <tr>\n",
       "      <th>145</th>\n",
       "      <td>9.50</td>\n",
       "      <td>0.00</td>\n",
       "      <td>0.080</td>\n",
       "      <td>0.582889</td>\n",
       "    </tr>\n",
       "    <tr>\n",
       "      <th>132</th>\n",
       "      <td>9.00</td>\n",
       "      <td>0.10</td>\n",
       "      <td>0.090</td>\n",
       "      <td>0.582864</td>\n",
       "    </tr>\n",
       "    <tr>\n",
       "      <th>37</th>\n",
       "      <td>0.09</td>\n",
       "      <td>0.10</td>\n",
       "      <td>0.095</td>\n",
       "      <td>0.582794</td>\n",
       "    </tr>\n",
       "    <tr>\n",
       "      <th>28</th>\n",
       "      <td>0.09</td>\n",
       "      <td>1.00</td>\n",
       "      <td>0.080</td>\n",
       "      <td>0.582717</td>\n",
       "    </tr>\n",
       "    <tr>\n",
       "      <th>143</th>\n",
       "      <td>9.50</td>\n",
       "      <td>1.00</td>\n",
       "      <td>0.010</td>\n",
       "      <td>0.582683</td>\n",
       "    </tr>\n",
       "    <tr>\n",
       "      <th>98</th>\n",
       "      <td>1.00</td>\n",
       "      <td>1.00</td>\n",
       "      <td>0.095</td>\n",
       "      <td>0.582619</td>\n",
       "    </tr>\n",
       "    <tr>\n",
       "      <th>77</th>\n",
       "      <td>0.20</td>\n",
       "      <td>0.10</td>\n",
       "      <td>0.095</td>\n",
       "      <td>0.582481</td>\n",
       "    </tr>\n",
       "    <tr>\n",
       "      <th>72</th>\n",
       "      <td>0.20</td>\n",
       "      <td>0.10</td>\n",
       "      <td>0.090</td>\n",
       "      <td>0.582481</td>\n",
       "    </tr>\n",
       "    <tr>\n",
       "      <th>53</th>\n",
       "      <td>0.10</td>\n",
       "      <td>1.00</td>\n",
       "      <td>0.090</td>\n",
       "      <td>0.582472</td>\n",
       "    </tr>\n",
       "    <tr>\n",
       "      <th>48</th>\n",
       "      <td>0.10</td>\n",
       "      <td>1.00</td>\n",
       "      <td>0.080</td>\n",
       "      <td>0.582438</td>\n",
       "    </tr>\n",
       "    <tr>\n",
       "      <th>147</th>\n",
       "      <td>9.50</td>\n",
       "      <td>0.10</td>\n",
       "      <td>0.080</td>\n",
       "      <td>0.582131</td>\n",
       "    </tr>\n",
       "    <tr>\n",
       "      <th>33</th>\n",
       "      <td>0.09</td>\n",
       "      <td>1.00</td>\n",
       "      <td>0.090</td>\n",
       "      <td>0.582125</td>\n",
       "    </tr>\n",
       "    <tr>\n",
       "      <th>58</th>\n",
       "      <td>0.10</td>\n",
       "      <td>1.00</td>\n",
       "      <td>0.095</td>\n",
       "      <td>0.582125</td>\n",
       "    </tr>\n",
       "    <tr>\n",
       "      <th>38</th>\n",
       "      <td>0.09</td>\n",
       "      <td>1.00</td>\n",
       "      <td>0.095</td>\n",
       "      <td>0.582125</td>\n",
       "    </tr>\n",
       "    <tr>\n",
       "      <th>112</th>\n",
       "      <td>8.00</td>\n",
       "      <td>0.10</td>\n",
       "      <td>0.090</td>\n",
       "      <td>0.582122</td>\n",
       "    </tr>\n",
       "    <tr>\n",
       "      <th>87</th>\n",
       "      <td>1.00</td>\n",
       "      <td>0.10</td>\n",
       "      <td>0.080</td>\n",
       "      <td>0.581779</td>\n",
       "    </tr>\n",
       "    <tr>\n",
       "      <th>152</th>\n",
       "      <td>9.50</td>\n",
       "      <td>0.10</td>\n",
       "      <td>0.090</td>\n",
       "      <td>0.581367</td>\n",
       "    </tr>\n",
       "    <tr>\n",
       "      <th>73</th>\n",
       "      <td>0.20</td>\n",
       "      <td>1.00</td>\n",
       "      <td>0.090</td>\n",
       "      <td>0.581322</td>\n",
       "    </tr>\n",
       "    <tr>\n",
       "      <th>97</th>\n",
       "      <td>1.00</td>\n",
       "      <td>0.10</td>\n",
       "      <td>0.095</td>\n",
       "      <td>0.580975</td>\n",
       "    </tr>\n",
       "    <tr>\n",
       "      <th>68</th>\n",
       "      <td>0.20</td>\n",
       "      <td>1.00</td>\n",
       "      <td>0.080</td>\n",
       "      <td>0.580773</td>\n",
       "    </tr>\n",
       "    <tr>\n",
       "      <th>78</th>\n",
       "      <td>0.20</td>\n",
       "      <td>1.00</td>\n",
       "      <td>0.095</td>\n",
       "      <td>0.580629</td>\n",
       "    </tr>\n",
       "    <tr>\n",
       "      <th>92</th>\n",
       "      <td>1.00</td>\n",
       "      <td>0.10</td>\n",
       "      <td>0.090</td>\n",
       "      <td>0.580527</td>\n",
       "    </tr>\n",
       "    <tr>\n",
       "      <th>88</th>\n",
       "      <td>1.00</td>\n",
       "      <td>1.00</td>\n",
       "      <td>0.080</td>\n",
       "      <td>0.580009</td>\n",
       "    </tr>\n",
       "    <tr>\n",
       "      <th>137</th>\n",
       "      <td>9.00</td>\n",
       "      <td>0.10</td>\n",
       "      <td>0.095</td>\n",
       "      <td>0.579938</td>\n",
       "    </tr>\n",
       "    <tr>\n",
       "      <th>157</th>\n",
       "      <td>9.50</td>\n",
       "      <td>0.10</td>\n",
       "      <td>0.095</td>\n",
       "      <td>0.577783</td>\n",
       "    </tr>\n",
       "  </tbody>\n",
       "</table>\n",
       "<p>94 rows × 4 columns</p>\n",
       "</div>"
      ],
      "text/plain": [
       "        c  coef0  gamma     score\n",
       "130  9.00   0.00  0.090  0.585526\n",
       "107  8.00   0.10  0.080  0.585369\n",
       "31   0.09   0.01  0.090  0.584805\n",
       "30   0.09   0.00  0.090  0.584805\n",
       "66   0.20   0.01  0.080  0.584805\n",
       "70   0.20   0.00  0.090  0.584805\n",
       "46   0.10   0.01  0.080  0.584805\n",
       "45   0.10   0.00  0.080  0.584805\n",
       "75   0.20   0.00  0.095  0.584805\n",
       "35   0.09   0.00  0.095  0.584805\n",
       "71   0.20   0.01  0.090  0.584459\n",
       "81   1.00   0.01  0.010  0.584459\n",
       "80   1.00   0.00  0.010  0.584459\n",
       "26   0.09   0.01  0.080  0.584425\n",
       "115  8.00   0.00  0.095  0.584385\n",
       "150  9.50   0.00  0.090  0.584385\n",
       "142  9.50   0.10  0.010  0.584180\n",
       "122  9.00   0.10  0.010  0.584180\n",
       "51   0.10   0.01  0.090  0.584146\n",
       "76   0.20   0.01  0.095  0.584112\n",
       "102  8.00   0.10  0.010  0.584112\n",
       "82   1.00   0.10  0.010  0.584112\n",
       "56   0.10   0.01  0.095  0.584112\n",
       "55   0.10   0.00  0.095  0.584112\n",
       "36   0.09   0.01  0.095  0.584112\n",
       "50   0.10   0.00  0.090  0.584112\n",
       "65   0.20   0.00  0.080  0.584045\n",
       "90   1.00   0.00  0.090  0.583943\n",
       "95   1.00   0.00  0.095  0.583910\n",
       "61   0.20   0.01  0.010  0.583852\n",
       "..    ...    ...    ...       ...\n",
       "93   1.00   1.00  0.090  0.583042\n",
       "127  9.00   0.10  0.080  0.583002\n",
       "156  9.50   0.01  0.095  0.582981\n",
       "103  8.00   1.00  0.010  0.582928\n",
       "125  9.00   0.00  0.080  0.582889\n",
       "145  9.50   0.00  0.080  0.582889\n",
       "132  9.00   0.10  0.090  0.582864\n",
       "37   0.09   0.10  0.095  0.582794\n",
       "28   0.09   1.00  0.080  0.582717\n",
       "143  9.50   1.00  0.010  0.582683\n",
       "98   1.00   1.00  0.095  0.582619\n",
       "77   0.20   0.10  0.095  0.582481\n",
       "72   0.20   0.10  0.090  0.582481\n",
       "53   0.10   1.00  0.090  0.582472\n",
       "48   0.10   1.00  0.080  0.582438\n",
       "147  9.50   0.10  0.080  0.582131\n",
       "33   0.09   1.00  0.090  0.582125\n",
       "58   0.10   1.00  0.095  0.582125\n",
       "38   0.09   1.00  0.095  0.582125\n",
       "112  8.00   0.10  0.090  0.582122\n",
       "87   1.00   0.10  0.080  0.581779\n",
       "152  9.50   0.10  0.090  0.581367\n",
       "73   0.20   1.00  0.090  0.581322\n",
       "97   1.00   0.10  0.095  0.580975\n",
       "68   0.20   1.00  0.080  0.580773\n",
       "78   0.20   1.00  0.095  0.580629\n",
       "92   1.00   0.10  0.090  0.580527\n",
       "88   1.00   1.00  0.080  0.580009\n",
       "137  9.00   0.10  0.095  0.579938\n",
       "157  9.50   0.10  0.095  0.577783\n",
       "\n",
       "[94 rows x 4 columns]"
      ]
     },
     "execution_count": 20,
     "metadata": {},
     "output_type": "execute_result"
    }
   ],
   "source": [
    "df_params_coef[stocks[0]].sort_values(by='score', \n",
    "                                      ascending=False)[df_params_coef[\n",
    "    stocks[0]]['score'] > 0.57]"
   ]
  },
  {
   "cell_type": "markdown",
   "metadata": {},
   "source": [
    "# Results\n",
    "\n",
    "We compare reults of SVMs with the best choices of parameter against the logistic regression and SVM with defaults.\n",
    "\n",
    "We will use naive approach - for each stock we will just pick the best values we found in the previous section."
   ]
  },
  {
   "cell_type": "markdown",
   "metadata": {},
   "source": [
    "#### Naive approach\n",
    "\n",
    "We pick the best **C** parameter and the best **gamma** separately from the results of [section above](#Methodology), which were obtained using cross-validation set. The **coef0** parameter \"depend\" of the choice of the rest of parameters.\n",
    "\n",
    "For 3 stocks the results are quite good, the rest is very bad."
   ]
  },
  {
   "cell_type": "code",
   "execution_count": 21,
   "metadata": {
    "collapsed": true
   },
   "outputs": [],
   "source": [
    "df_results = pd.DataFrame(index=stocks)\n",
    "df_results['logistic'] = np.zeros(len(stocks))\n",
    "df_results['sigmoid-tunned'] = np.zeros(len(stocks))\n",
    "df_results['c-tunned'] = np.zeros(len(stocks))\n",
    "df_results['coef-tunned'] = np.zeros(len(stocks))\n",
    "df_results['gamma-tunned'] = np.zeros(len(stocks))"
   ]
  },
  {
   "cell_type": "code",
   "execution_count": 22,
   "metadata": {},
   "outputs": [
    {
     "name": "stdout",
     "output_type": "stream",
     "text": [
      "9.0 0.09 0.0\n"
     ]
    },
    {
     "data": {
      "image/png": "[encoded data removed]",
      "text/plain": [
       "<matplotlib.figure.Figure at 0x7f79f6ae8240>"
      ]
     },
     "metadata": {},
     "output_type": "display_data"
    }
   ],
   "source": [
    "plt.subplot(121)\n",
    "\n",
    "for s in stocks:\n",
    "    best_idx = df_params_coef[s]['score'].idxmax()\n",
    "    c = df_params_coef[s].iloc[best_idx]['c']\n",
    "    gamma = df_params_coef[s].iloc[best_idx]['gamma']\n",
    "    coef0 = df_params_coef[s].iloc[best_idx]['coef0']\n",
    "    print(c, gamma, coef0)\n",
    "    df_results['c-tunned'][s] = c\n",
    "    df_results['coef-tunned'][s] = coef0\n",
    "    df_results['gamma-tunned'][s] = gamma\n",
    "    \n",
    "    reg_svm = svm_classification(\n",
    "        dfs[s], 'sigmoid', C=c, gamma=gamma, coef0=coef0)\n",
    "    roc_score = lob.plot_roc(dfs_test[s], reg_svm, stock=s, title='ROC for test set with the best params')\n",
    "    df_results['sigmoid-tunned'][s] = roc_score\n",
    "\n",
    "plt.subplot(122)\n",
    "for s in stocks:\n",
    "    reg_log = lob.logistic_regression(dfs[s], 0, len(dfs[s]))\n",
    "    roc_score = lob.plot_roc(dfs_test[s], reg_log, stock=s, title='ROC for test set with logistic')\n",
    "    df_results['logistic'][s] = roc_score\n",
    "\n",
    "plt.subplots_adjust(left=0, wspace=0.1, top=1, right=2)"
   ]
  },
  {
   "cell_type": "code",
   "execution_count": 23,
   "metadata": {},
   "outputs": [
    {
     "data": {
      "text/html": [
       "<div>\n",
       "<style>\n",
       "    .dataframe thead tr:only-child th {\n",
       "        text-align: right;\n",
       "    }\n",
       "\n",
       "    .dataframe thead th {\n",
       "        text-align: left;\n",
       "    }\n",
       "\n",
       "    .dataframe tbody tr th {\n",
       "        vertical-align: top;\n",
       "    }\n",
       "</style>\n",
       "<table border=\"1\" class=\"dataframe\">\n",
       "  <thead>\n",
       "    <tr style=\"text-align: right;\">\n",
       "      <th></th>\n",
       "      <th>logistic</th>\n",
       "      <th>sigmoid-tunned</th>\n",
       "      <th>c-tunned</th>\n",
       "      <th>coef-tunned</th>\n",
       "      <th>gamma-tunned</th>\n",
       "    </tr>\n",
       "  </thead>\n",
       "  <tbody>\n",
       "    <tr>\n",
       "      <th>7858</th>\n",
       "      <td>0.568496</td>\n",
       "      <td>0.566943</td>\n",
       "      <td>9.0</td>\n",
       "      <td>0.0</td>\n",
       "      <td>0.09</td>\n",
       "    </tr>\n",
       "  </tbody>\n",
       "</table>\n",
       "</div>"
      ],
      "text/plain": [
       "      logistic  sigmoid-tunned  c-tunned  coef-tunned  gamma-tunned\n",
       "7858  0.568496        0.566943       9.0          0.0          0.09"
      ]
     },
     "execution_count": 23,
     "metadata": {},
     "output_type": "execute_result"
    }
   ],
   "source": [
    "df_results"
   ]
  },
  {
   "cell_type": "code",
   "execution_count": 24,
   "metadata": {},
   "outputs": [
    {
     "name": "stdout",
     "output_type": "stream",
     "text": [
      "7858\n",
      "c        9.000000\n",
      "coef0    0.000000\n",
      "gamma    0.090000\n",
      "score    0.585526\n",
      "Name: 130, dtype: float64\n",
      "\n"
     ]
    }
   ],
   "source": [
    "for s in stocks:\n",
    "    ddd = df_params_coef[s]\n",
    "    print(s)\n",
    "    print(ddd.iloc[ddd['score'].idxmax()])\n",
    "    print()"
   ]
  },
  {
   "cell_type": "markdown",
   "metadata": {},
   "source": [
    "# Conclusions\n",
    "\n",
    "\n",
    "We didn't use valid grid approach for choosing the best parameters, so there is possibility that these parameters could be improved. For one stock **2051** we have significant improvement (even when we consider other results). For stock **11618** we have small improvement."
   ]
  },
  {
   "cell_type": "markdown",
   "metadata": {},
   "source": [
    "### Resources\n",
    "\n",
    "1. [Queue Imbalance as a One-Tick-Ahead Price Predictor in a Limit Order Book](https://arxiv.org/abs/1512.03492) <a class=\"anchor-link\" href=\"#1\">¶</a>"
   ]
  }
 ],
 "metadata": {
  "kernelspec": {
   "display_name": "Python 3",
   "language": "python",
   "name": "python3"
  },
  "language_info": {
   "codemirror_mode": {
    "name": "ipython",
    "version": 3
   },
   "file_extension": ".py",
   "mimetype": "text/x-python",
   "name": "python",
   "nbconvert_exporter": "python",
   "pygments_lexer": "ipython3",
   "version": "3.6.1"
  }
 },
 "nbformat": 4,
 "nbformat_minor": 1
}
