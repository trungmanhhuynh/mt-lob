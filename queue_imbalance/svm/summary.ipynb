{
 "cells": [
  {
   "cell_type": "markdown",
   "metadata": {},
   "source": [
    "# Queue Imbalance as a One-Tick-Ahead Price Predictor in LOB\n",
    "\n",
    "\n",
    "Order of this notebook is as follows:\n",
    "1. [Data](#Data)\n",
    "2. [Methodology](#Methodology)\n",
    "3. [Results](#Results)\n",
    "4. [Conclusions](#Conclusions)\n",
    "5. [Other data](#Other-data)\n",
    "\n",
    "Goal is to implement queue imbalance predictor from [[1]](#Resources)."
   ]
  },
  {
   "cell_type": "code",
   "execution_count": 1,
   "metadata": {
    "collapsed": true
   },
   "outputs": [],
   "source": [
    "%matplotlib inline\n",
    "import pandas as pd\n",
    "\n",
    "import matplotlib.pyplot as plt\n",
    "import matplotlib.dates as md\n",
    "from statsmodels.distributions.empirical_distribution import ECDF\n",
    "import numpy as np\n",
    "import seaborn as sns\n",
    "from sklearn.metrics import roc_auc_score\n",
    "from sklearn.metrics import roc_curve\n",
    "import warnings\n",
    "\n",
    "from lob_data_utils import lob\n",
    "\n",
    "sns.set_style('whitegrid')\n",
    "\n",
    "warnings.filterwarnings('ignore')"
   ]
  },
  {
   "cell_type": "markdown",
   "metadata": {},
   "source": [
    "# Data\n",
    "\n",
    "We use data from 5 stocks from 2013-09 - 2013-11. The market is open between 8-16 on weekdays, so we use the data from 9-15 to avoid having data affected by the abnormal trading behaviour, which usually occurs right after opening or closing auction. The tick size is $\\pi = 0.01$ for the market, but the *relative tick size*(the ratio between stock price and $\\pi$) for each stock differs.\n",
    "\n",
    "To each stock data we introduce:\n",
    "\n",
    "* bid price: $$ b(t) := \\underset{\\{x \\in bidList(t) \\}}{\\max} x.price $$\n",
    "* ask price: $$ a(t) := \\underset{\\{x \\in askList(t)\\}}{\\min} x.price $$\n",
    "\n",
    "* total size of active buy orders: $$ n^{b}(p, t) = \\sum_{\\{x \\in buyList(t), p_x = p\\}} x.volumen $$\n",
    "\n",
    "* total size of active sell orders: $$ n^{a}(p, t) = \\sum_{\\{x \\in askList(t), p_x = p\\}} x.volumen $$\n",
    "\n",
    "\n",
    "* mid price: $$ m(t) := \\frac{a(t) + b(t)}{2} $$\n",
    "\n",
    "* queue imbalance: $$ I(t) := \\frac{n^b (b_t , t) - n^a (a_t, t)}{n^b (b_t , t) + n^a (a_t, t)} $$ where $a_t$ and $b_t$ are ask and bid prices for time $t$ respectively.\n",
    "\n",
    "* mid price indicator: $$ y_i = \\begin{cases} 1 & \\text{if} & m(t_i) > m(t_{i-1})\\\\ 0 & \\text{if} & m(t_i) < m(t_{i-1})\\\\ \\end{cases} $$\n",
    "\n",
    "Based on the **queue imbalance** we will try to predict **mid price indicator**"
   ]
  },
  {
   "cell_type": "code",
   "execution_count": 9,
   "metadata": {},
   "outputs": [],
   "source": [
    "dfs = {}\n",
    "dfs_test = {}\n",
    "stocks = ['9061', '9062', '9063', '9064', '9065']\n",
    "\n",
    "for s in stocks:\n",
    "    d, d_test = lob.load_prepared_data(s, data_dir='../data/prepared/')\n",
    "    dfs[s] = d\n",
    "    dfs_test[s] = d_test"
   ]
  },
  {
   "cell_type": "markdown",
   "metadata": {},
   "source": [
    "### Description of DataFrame\n",
    "\n",
    "The data is indexed with time $t$.\n",
    "\n",
    "* `bid` - bid queue\n",
    "* `ask` - ask queue\n",
    "* `bid_price` - bid price $b(t)$\n",
    "* `ask_price` - ask price $a(t)$\n",
    "* `mid_price` - mid price $m(t)$\n",
    "* `sum_sell_ask` - total size of active sell orders for ask price  $ n^{a}(a(t), t) $\n",
    "* `sum_buy_bid` - total size of active buy orders for bid price  $ n^{b}(b(t), t) $\n",
    "* `mid_price_indicator` - the indicator if the mid price will rise in the **next** time tick\n",
    "* `queue_imbalance` - $I(t)$"
   ]
  },
  {
   "cell_type": "code",
   "execution_count": 10,
   "metadata": {},
   "outputs": [
    {
     "data": {
      "text/html": [
       "<div>\n",
       "<style scoped>\n",
       "    .dataframe tbody tr th:only-of-type {\n",
       "        vertical-align: middle;\n",
       "    }\n",
       "\n",
       "    .dataframe tbody tr th {\n",
       "        vertical-align: top;\n",
       "    }\n",
       "\n",
       "    .dataframe thead th {\n",
       "        text-align: right;\n",
       "    }\n",
       "</style>\n",
       "<table border=\"1\" class=\"dataframe\">\n",
       "  <thead>\n",
       "    <tr style=\"text-align: right;\">\n",
       "      <th></th>\n",
       "      <th>Unnamed: 0</th>\n",
       "      <th>bid</th>\n",
       "      <th>ask</th>\n",
       "      <th>bid_price</th>\n",
       "      <th>ask_price</th>\n",
       "      <th>mid_price</th>\n",
       "      <th>sum_sell_ask</th>\n",
       "      <th>sum_buy_bid</th>\n",
       "      <th>mid_price_indicator</th>\n",
       "      <th>queue_imbalance</th>\n",
       "    </tr>\n",
       "  </thead>\n",
       "  <tbody>\n",
       "    <tr>\n",
       "      <th>1010</th>\n",
       "      <td>2013-09-05 09:26:00</td>\n",
       "      <td>[(523.0, 1000.0), (550.0, 6364.0), (615.0, 363...</td>\n",
       "      <td>[(704.9, 9714.0), (705.0, 33868.0), (705.1, 22...</td>\n",
       "      <td>704.6</td>\n",
       "      <td>704.9</td>\n",
       "      <td>704.75</td>\n",
       "      <td>9714.0</td>\n",
       "      <td>6385.0</td>\n",
       "      <td>0.0</td>\n",
       "      <td>-0.206783</td>\n",
       "    </tr>\n",
       "    <tr>\n",
       "      <th>1011</th>\n",
       "      <td>2013-09-05 09:27:00</td>\n",
       "      <td>[(523.0, 1000.0), (550.0, 6364.0), (615.0, 363...</td>\n",
       "      <td>[(704.6, 5730.0), (704.7, 10848.0), (704.8, 20...</td>\n",
       "      <td>704.3</td>\n",
       "      <td>704.6</td>\n",
       "      <td>704.45</td>\n",
       "      <td>5730.0</td>\n",
       "      <td>10614.0</td>\n",
       "      <td>1.0</td>\n",
       "      <td>0.298825</td>\n",
       "    </tr>\n",
       "    <tr>\n",
       "      <th>1012</th>\n",
       "      <td>2013-09-05 09:28:00</td>\n",
       "      <td>[(523.0, 1000.0), (550.0, 6364.0), (615.0, 363...</td>\n",
       "      <td>[(704.6, 7209.0), (704.7, 18769.0), (704.8, 19...</td>\n",
       "      <td>704.4</td>\n",
       "      <td>704.6</td>\n",
       "      <td>704.50</td>\n",
       "      <td>7209.0</td>\n",
       "      <td>2470.0</td>\n",
       "      <td>0.0</td>\n",
       "      <td>-0.489617</td>\n",
       "    </tr>\n",
       "    <tr>\n",
       "      <th>1013</th>\n",
       "      <td>2013-09-05 09:29:00</td>\n",
       "      <td>[(523.0, 1000.0), (550.0, 6364.0), (615.0, 363...</td>\n",
       "      <td>[(704.3, 5263.0), (704.4, 17973.0), (704.5, 19...</td>\n",
       "      <td>704.0</td>\n",
       "      <td>704.3</td>\n",
       "      <td>704.15</td>\n",
       "      <td>5263.0</td>\n",
       "      <td>4859.0</td>\n",
       "      <td>1.0</td>\n",
       "      <td>-0.039913</td>\n",
       "    </tr>\n",
       "    <tr>\n",
       "      <th>1014</th>\n",
       "      <td>2013-09-05 09:30:00</td>\n",
       "      <td>[(523.0, 1000.0), (550.0, 6364.0), (615.0, 363...</td>\n",
       "      <td>[(704.5, 13440.0), (704.6, 20454.0), (704.7, 1...</td>\n",
       "      <td>704.2</td>\n",
       "      <td>704.5</td>\n",
       "      <td>704.35</td>\n",
       "      <td>13440.0</td>\n",
       "      <td>6156.0</td>\n",
       "      <td>1.0</td>\n",
       "      <td>-0.371709</td>\n",
       "    </tr>\n",
       "    <tr>\n",
       "      <th>1015</th>\n",
       "      <td>2013-09-05 09:32:00</td>\n",
       "      <td>[(523.0, 1000.0), (550.0, 6364.0), (615.0, 363...</td>\n",
       "      <td>[(704.5, 1313.0), (704.6, 9695.0), (704.7, 142...</td>\n",
       "      <td>704.4</td>\n",
       "      <td>704.5</td>\n",
       "      <td>704.45</td>\n",
       "      <td>1313.0</td>\n",
       "      <td>1005.0</td>\n",
       "      <td>1.0</td>\n",
       "      <td>-0.132873</td>\n",
       "    </tr>\n",
       "    <tr>\n",
       "      <th>1016</th>\n",
       "      <td>2013-09-05 09:33:00</td>\n",
       "      <td>[(523.0, 1000.0), (550.0, 6364.0), (615.0, 363...</td>\n",
       "      <td>[(704.8, 5744.0), (704.9, 15298.0), (705.0, 58...</td>\n",
       "      <td>704.5</td>\n",
       "      <td>704.8</td>\n",
       "      <td>704.65</td>\n",
       "      <td>5744.0</td>\n",
       "      <td>10235.0</td>\n",
       "      <td>1.0</td>\n",
       "      <td>0.281056</td>\n",
       "    </tr>\n",
       "    <tr>\n",
       "      <th>1017</th>\n",
       "      <td>2013-09-05 09:34:00</td>\n",
       "      <td>[(523.0, 1000.0), (550.0, 6364.0), (615.0, 363...</td>\n",
       "      <td>[(705.0, 20732.0), (705.1, 33810.0), (705.2, 1...</td>\n",
       "      <td>704.7</td>\n",
       "      <td>705.0</td>\n",
       "      <td>704.85</td>\n",
       "      <td>20732.0</td>\n",
       "      <td>4961.0</td>\n",
       "      <td>0.0</td>\n",
       "      <td>-0.613825</td>\n",
       "    </tr>\n",
       "    <tr>\n",
       "      <th>1018</th>\n",
       "      <td>2013-09-05 09:36:00</td>\n",
       "      <td>[(523.0, 1000.0), (550.0, 6364.0), (615.0, 363...</td>\n",
       "      <td>[(704.8, 8228.0), (704.9, 14366.0), (705.0, 35...</td>\n",
       "      <td>704.6</td>\n",
       "      <td>704.8</td>\n",
       "      <td>704.70</td>\n",
       "      <td>8228.0</td>\n",
       "      <td>600.0</td>\n",
       "      <td>0.0</td>\n",
       "      <td>-0.864069</td>\n",
       "    </tr>\n",
       "    <tr>\n",
       "      <th>1019</th>\n",
       "      <td>2013-09-05 09:38:00</td>\n",
       "      <td>[(523.0, 1000.0), (550.0, 6364.0), (615.0, 363...</td>\n",
       "      <td>[(704.7, 12348.0), (704.8, 16664.0), (704.9, 1...</td>\n",
       "      <td>704.5</td>\n",
       "      <td>704.7</td>\n",
       "      <td>704.60</td>\n",
       "      <td>12348.0</td>\n",
       "      <td>1100.0</td>\n",
       "      <td>1.0</td>\n",
       "      <td>-0.836407</td>\n",
       "    </tr>\n",
       "  </tbody>\n",
       "</table>\n",
       "</div>"
      ],
      "text/plain": [
       "               Unnamed: 0                                                bid  \\\n",
       "1010  2013-09-05 09:26:00  [(523.0, 1000.0), (550.0, 6364.0), (615.0, 363...   \n",
       "1011  2013-09-05 09:27:00  [(523.0, 1000.0), (550.0, 6364.0), (615.0, 363...   \n",
       "1012  2013-09-05 09:28:00  [(523.0, 1000.0), (550.0, 6364.0), (615.0, 363...   \n",
       "1013  2013-09-05 09:29:00  [(523.0, 1000.0), (550.0, 6364.0), (615.0, 363...   \n",
       "1014  2013-09-05 09:30:00  [(523.0, 1000.0), (550.0, 6364.0), (615.0, 363...   \n",
       "1015  2013-09-05 09:32:00  [(523.0, 1000.0), (550.0, 6364.0), (615.0, 363...   \n",
       "1016  2013-09-05 09:33:00  [(523.0, 1000.0), (550.0, 6364.0), (615.0, 363...   \n",
       "1017  2013-09-05 09:34:00  [(523.0, 1000.0), (550.0, 6364.0), (615.0, 363...   \n",
       "1018  2013-09-05 09:36:00  [(523.0, 1000.0), (550.0, 6364.0), (615.0, 363...   \n",
       "1019  2013-09-05 09:38:00  [(523.0, 1000.0), (550.0, 6364.0), (615.0, 363...   \n",
       "\n",
       "                                                    ask  bid_price  ask_price  \\\n",
       "1010  [(704.9, 9714.0), (705.0, 33868.0), (705.1, 22...      704.6      704.9   \n",
       "1011  [(704.6, 5730.0), (704.7, 10848.0), (704.8, 20...      704.3      704.6   \n",
       "1012  [(704.6, 7209.0), (704.7, 18769.0), (704.8, 19...      704.4      704.6   \n",
       "1013  [(704.3, 5263.0), (704.4, 17973.0), (704.5, 19...      704.0      704.3   \n",
       "1014  [(704.5, 13440.0), (704.6, 20454.0), (704.7, 1...      704.2      704.5   \n",
       "1015  [(704.5, 1313.0), (704.6, 9695.0), (704.7, 142...      704.4      704.5   \n",
       "1016  [(704.8, 5744.0), (704.9, 15298.0), (705.0, 58...      704.5      704.8   \n",
       "1017  [(705.0, 20732.0), (705.1, 33810.0), (705.2, 1...      704.7      705.0   \n",
       "1018  [(704.8, 8228.0), (704.9, 14366.0), (705.0, 35...      704.6      704.8   \n",
       "1019  [(704.7, 12348.0), (704.8, 16664.0), (704.9, 1...      704.5      704.7   \n",
       "\n",
       "      mid_price  sum_sell_ask  sum_buy_bid  mid_price_indicator  \\\n",
       "1010     704.75        9714.0       6385.0                  0.0   \n",
       "1011     704.45        5730.0      10614.0                  1.0   \n",
       "1012     704.50        7209.0       2470.0                  0.0   \n",
       "1013     704.15        5263.0       4859.0                  1.0   \n",
       "1014     704.35       13440.0       6156.0                  1.0   \n",
       "1015     704.45        1313.0       1005.0                  1.0   \n",
       "1016     704.65        5744.0      10235.0                  1.0   \n",
       "1017     704.85       20732.0       4961.0                  0.0   \n",
       "1018     704.70        8228.0        600.0                  0.0   \n",
       "1019     704.60       12348.0       1100.0                  1.0   \n",
       "\n",
       "      queue_imbalance  \n",
       "1010        -0.206783  \n",
       "1011         0.298825  \n",
       "1012        -0.489617  \n",
       "1013        -0.039913  \n",
       "1014        -0.371709  \n",
       "1015        -0.132873  \n",
       "1016         0.281056  \n",
       "1017        -0.613825  \n",
       "1018        -0.864069  \n",
       "1019        -0.836407  "
      ]
     },
     "execution_count": 10,
     "metadata": {},
     "output_type": "execute_result"
    }
   ],
   "source": [
    "dfs['9061'].head(10)"
   ]
  },
  {
   "cell_type": "markdown",
   "metadata": {
    "collapsed": true
   },
   "source": [
    "### Stock characteristic\n",
    "\n",
    "For each stock we want to know how the can compare the *relative tick size* as the authors of [[1]](#Resources) saw it's is relevant for predictions. They decided that stocks are: \n",
    "\n",
    "* *large-tick stocks* when **maximal trade price** was below $50.00$\n",
    "* *small-tick stocks* when **minimal trade price** was above $100.00$\n",
    "\n",
    "They found out that the stocks which were between these two tresholds could behave similarily to both of these groups. \n",
    "    \n",
    "The means of $n^{b}(b(t), t)$ and $n^{a}(a(t), t)$ for:\n",
    "\n",
    "* *large-tick* stocks were above 3000 \n",
    "* *small-tick* stocks were below 200\n",
    "\n",
    "The bid ask spread for:\n",
    "\n",
    "* *large-tick* stocks was below 0.02\n",
    "* *small-tick* stocks was above 0.2\n",
    "\n",
    "### Tick sizes for our data\n",
    "\n",
    "* 9061 - looks like intermediate tick, but behaves like small\n",
    "* 9062 - small tick\n",
    "* 9063 - small tick\n",
    "* 9064 - intermediate tick\n",
    "* 9065 - small tick"
   ]
  },
  {
   "cell_type": "code",
   "execution_count": 11,
   "metadata": {},
   "outputs": [
    {
     "data": {
      "text/html": [
       "<div>\n",
       "<style scoped>\n",
       "    .dataframe tbody tr th:only-of-type {\n",
       "        vertical-align: middle;\n",
       "    }\n",
       "\n",
       "    .dataframe tbody tr th {\n",
       "        vertical-align: top;\n",
       "    }\n",
       "\n",
       "    .dataframe thead th {\n",
       "        text-align: right;\n",
       "    }\n",
       "</style>\n",
       "<table border=\"1\" class=\"dataframe\">\n",
       "  <thead>\n",
       "    <tr style=\"text-align: right;\">\n",
       "      <th></th>\n",
       "      <th>sum_sell_ask_mean</th>\n",
       "      <th>sum_buy_bid_mean</th>\n",
       "      <th>max_trade_price</th>\n",
       "      <th>min_trade_price</th>\n",
       "      <th>bid_ask_spread</th>\n",
       "    </tr>\n",
       "  </thead>\n",
       "  <tbody>\n",
       "    <tr>\n",
       "      <th>9061</th>\n",
       "      <td>5726.552228</td>\n",
       "      <td>6531.535644</td>\n",
       "      <td>730.20</td>\n",
       "      <td>685.10</td>\n",
       "      <td>0.188441</td>\n",
       "    </tr>\n",
       "    <tr>\n",
       "      <th>9062</th>\n",
       "      <td>925.056683</td>\n",
       "      <td>974.365099</td>\n",
       "      <td>3286.50</td>\n",
       "      <td>3065.50</td>\n",
       "      <td>1.076980</td>\n",
       "    </tr>\n",
       "    <tr>\n",
       "      <th>9063</th>\n",
       "      <td>7013.116584</td>\n",
       "      <td>6547.990099</td>\n",
       "      <td>468.00</td>\n",
       "      <td>437.40</td>\n",
       "      <td>0.093094</td>\n",
       "    </tr>\n",
       "    <tr>\n",
       "      <th>9064</th>\n",
       "      <td>33029.945050</td>\n",
       "      <td>35948.790842</td>\n",
       "      <td>79.85</td>\n",
       "      <td>73.28</td>\n",
       "      <td>0.026161</td>\n",
       "    </tr>\n",
       "    <tr>\n",
       "      <th>9065</th>\n",
       "      <td>5988.511139</td>\n",
       "      <td>6271.668564</td>\n",
       "      <td>1666.00</td>\n",
       "      <td>1560.00</td>\n",
       "      <td>0.682178</td>\n",
       "    </tr>\n",
       "  </tbody>\n",
       "</table>\n",
       "</div>"
      ],
      "text/plain": [
       "      sum_sell_ask_mean  sum_buy_bid_mean  max_trade_price  min_trade_price  \\\n",
       "9061        5726.552228       6531.535644           730.20           685.10   \n",
       "9062         925.056683        974.365099          3286.50          3065.50   \n",
       "9063        7013.116584       6547.990099           468.00           437.40   \n",
       "9064       33029.945050      35948.790842            79.85            73.28   \n",
       "9065        5988.511139       6271.668564          1666.00          1560.00   \n",
       "\n",
       "      bid_ask_spread  \n",
       "9061        0.188441  \n",
       "9062        1.076980  \n",
       "9063        0.093094  \n",
       "9064        0.026161  \n",
       "9065        0.682178  "
      ]
     },
     "execution_count": 11,
     "metadata": {},
     "output_type": "execute_result"
    }
   ],
   "source": [
    "df_summary = pd.DataFrame(index=stocks)\n",
    "sum_sell_ask_mean = []\n",
    "sum_buy_bid_mean = []\n",
    "max_trade_price = []\n",
    "min_trade_price = []\n",
    "bid_ask_spread = []\n",
    "\n",
    "for s in stocks:\n",
    "    sum_sell_ask_mean.append(dfs[s]['sum_sell_ask'].mean())\n",
    "    sum_buy_bid_mean.append(dfs[s]['sum_buy_bid'].mean())\n",
    "    max_trade_price.append(max( dfs[s]['bid_price'].max(), dfs[s]['ask_price'].max()))\n",
    "    min_trade_price.append(max( dfs[s]['bid_price'].min(), dfs[s]['ask_price'].min()))\n",
    "    bid_ask_spread.append((dfs[s]['ask_price'] - dfs[s]['bid_price']).mean())\n",
    "\n",
    "df_summary['sum_sell_ask_mean'] = sum_sell_ask_mean\n",
    "df_summary['sum_buy_bid_mean'] = sum_buy_bid_mean\n",
    "df_summary['max_trade_price'] = max_trade_price\n",
    "df_summary['min_trade_price'] = min_trade_price\n",
    "df_summary['bid_ask_spread'] = bid_ask_spread\n",
    "df_summary.head()"
   ]
  },
  {
   "cell_type": "markdown",
   "metadata": {},
   "source": [
    "# Methodology \n",
    "\n",
    "We perform classification using logistic regression and svm.\n",
    "\n",
    "### Sample construction\n",
    "\n",
    "As the authors of the [[1]](#Resources) didn't see difference in sampling in-between data samples we stick to the original timestamps of the events. We also tried to pick 100 samples per day, but it didn't lead to better results.\n",
    "\n",
    "### Data in-sample and out-of-sample\n",
    "\n",
    "Test set is 20% of data we have, the rest 80% is training set - we pick data from first two weeks of 2013-09 as test data. \n",
    "\n",
    "The authors used 25200 data points per stock, we have about 12000 per stock. Authors randomly picked the time range with 20% of data for training set. They picked randomly about 100 points for each day instead of using all the data they had.\n",
    "\n",
    "We tried to do similar sampling, but with 200 and 300 points per day, it didn't bring any different results. But we have data for only 2 months, instead of 12 months, so this approach cuts the amount of data drastically.\n",
    "\n",
    "### Formulating predictions with logistic regression\n",
    "\n",
    "We perform a logistic regression of mid price indicator $y$ based on queue imbalance $I$. Specifically, we use the data in our training set to calculate\n",
    "maximum likelihood estimates of the coefficients $x_0$ and $x_1$:\n",
    "\n",
    "$$ \\hat{y}(I) = \\frac{1}{1 + e^{-(x_0 + Ix_1 )}}$$\n",
    "\n",
    "If $\\hat{y}(I) > \\frac{1}{2}$ we predict that the mid price will raise in the next tick."
   ]
  },
  {
   "cell_type": "code",
   "execution_count": 12,
   "metadata": {
    "collapsed": true
   },
   "outputs": [],
   "source": [
    "reg = {}\n",
    "reg_svm = {}\n",
    "\n",
    "for s in stocks:\n",
    "    reg[s] = lob.logistic_regression(dfs[s], 0, len(dfs[s]))\n",
    "    reg_svm[s] = lob.svm_classification(dfs[s], 0, len(dfs[s]))"
   ]
  },
  {
   "cell_type": "code",
   "execution_count": 13,
   "metadata": {
    "collapsed": true
   },
   "outputs": [],
   "source": [
    "pred_in_sample = {}\n",
    "pred_out_of_sample = {}\n",
    "for s in stocks:\n",
    "    pred_in_sample[s] = reg[s].predict(dfs[s]['queue_imbalance'].values.reshape(-1, 1))\n",
    "    pred_out_of_sample[s] = reg[s].predict(dfs_test[s]['queue_imbalance'].values.reshape(-1, 1))\n",
    "    \n",
    "pred_svm_in_sample = {}\n",
    "pred_svm_out_of_sample = {}\n",
    "for s in stocks:\n",
    "    pred_svm_in_sample[s] = reg_svm[s].predict(dfs[s]['queue_imbalance'].values.reshape(-1, 1))\n",
    "    pred_svm_out_of_sample[s] = reg_svm[s].predict(dfs_test[s]['queue_imbalance'].values.reshape(-1, 1))"
   ]
  },
  {
   "cell_type": "markdown",
   "metadata": {},
   "source": [
    "# Results"
   ]
  },
  {
   "cell_type": "markdown",
   "metadata": {},
   "source": [
    "## Distribution of $I$\n",
    "\n",
    "### Denisty plot\n",
    "\n",
    "From the queue imbalance density plot we can see that we can observe wide range of imbalances between $-\\frac{1}{2}$ and $\\frac{1}{2}$ for **9061**, **9062**, **9064** and it decays outside this range. It looks more like *large-tick stock* imbalance distribution from the [[1]](#Resources). \n",
    "\n",
    "The **9062** is not smooth.\n",
    "The **9063** is more assymetric. \n",
    "The **9065** is more steep than the rest."
   ]
  },
  {
   "cell_type": "code",
   "execution_count": 14,
   "metadata": {},
   "outputs": [
    {
     "data": {
      "text/plain": [
       "Text(0.5, 1.0, 'Queue imbalance density')"
      ]
     },
     "execution_count": 14,
     "metadata": {},
     "output_type": "execute_result"
    },
    {
     "data": {
      "image/png": "[encoded data removed]",
      "text/plain": [
       "<Figure size 432x288 with 1 Axes>"
      ]
     },
     "metadata": {},
     "output_type": "display_data"
    }
   ],
   "source": [
    "for s in stocks:\n",
    "    sns.kdeplot(np.array(dfs[s]['queue_imbalance']), label=s)\n",
    "\n",
    "plt.legend()\n",
    "plt.xlabel('Queue imbalance')\n",
    "plt.ylabel('Density')\n",
    "plt.title('Queue imbalance density')"
   ]
  },
  {
   "cell_type": "markdown",
   "metadata": {},
   "source": [
    "### ECDF curve\n",
    "\n",
    "The ECDF (emprical cumulative density functions) curve of the bid and ask prices queue lengths is smooth, which indicates that the queues lengths differ. \n",
    "\n",
    "For the **9062** it explains why it is not so pleated - it has an steep artifact near $(100, 0.95)$."
   ]
  },
  {
   "cell_type": "code",
   "execution_count": 15,
   "metadata": {},
   "outputs": [
    {
     "data": {
      "text/plain": [
       "Text(0.5, 1.0, 'Bid-Ask queue ECDF')"
      ]
     },
     "execution_count": 15,
     "metadata": {},
     "output_type": "execute_result"
    },
    {
     "data": {
      "image/png": "[encoded data removed]",
      "text/plain": [
       "<Figure size 432x288 with 1 Axes>"
      ]
     },
     "metadata": {},
     "output_type": "display_data"
    }
   ],
   "source": [
    "ax = plt.subplot()\n",
    "ax.set_xscale(\"log\", basex=100)\n",
    "for s in stocks:\n",
    "    ecdf = ECDF(np.append(dfs[s]['sum_buy_bid'], dfs[s]['sum_sell_ask']))\n",
    "    e = 1 - ecdf.y\n",
    "    plt.plot(ecdf.x, e, label=s)\n",
    "plt.legend()\n",
    "plt.ylabel('1 - ECDF')\n",
    "plt.xlabel('Accumulative ask queue length')\n",
    "plt.title('Bid-Ask queue ECDF')"
   ]
  },
  {
   "cell_type": "markdown",
   "metadata": {},
   "source": [
    "## Logistic Regression fits\n",
    "\n",
    "\n",
    "### Likelihood estimates\n",
    "$$ \\hat{y}(I) = \\frac{1}{1 + e^{-(x_0 + Ix_1 )}}$$\n",
    "\n",
    "We can see that $x_0$ value is small - this suggests that there is a symmetric behaviour in terms of buying and selling activity.\n",
    "\n",
    "The $x_1$ is positive in each case.\n",
    "This implies that the logistic regression line is an increasing function. So that \n",
    "suggests that the larger the queue imbalance, the higher the probability that the next mid-price will go up.\n",
    "\n",
    "In [[1]](#Resources) the authors noticed that the fitted values of $x_1$ are much larger for large-tick stocks (for which\n",
    "they vary from about 2 to about 3) than for small-tick stocks (for which they\n",
    "vary from about 0.5 to about 0.8)."
   ]
  },
  {
   "cell_type": "code",
   "execution_count": 16,
   "metadata": {},
   "outputs": [
    {
     "data": {
      "text/html": [
       "<div>\n",
       "<style scoped>\n",
       "    .dataframe tbody tr th:only-of-type {\n",
       "        vertical-align: middle;\n",
       "    }\n",
       "\n",
       "    .dataframe tbody tr th {\n",
       "        vertical-align: top;\n",
       "    }\n",
       "\n",
       "    .dataframe thead th {\n",
       "        text-align: right;\n",
       "    }\n",
       "</style>\n",
       "<table border=\"1\" class=\"dataframe\">\n",
       "  <thead>\n",
       "    <tr style=\"text-align: right;\">\n",
       "      <th></th>\n",
       "      <th>x1</th>\n",
       "      <th>x0</th>\n",
       "    </tr>\n",
       "  </thead>\n",
       "  <tbody>\n",
       "    <tr>\n",
       "      <th>9061</th>\n",
       "      <td>0.355351</td>\n",
       "      <td>-0.063453</td>\n",
       "    </tr>\n",
       "    <tr>\n",
       "      <th>9062</th>\n",
       "      <td>0.260442</td>\n",
       "      <td>0.011823</td>\n",
       "    </tr>\n",
       "    <tr>\n",
       "      <th>9063</th>\n",
       "      <td>0.375201</td>\n",
       "      <td>-0.028470</td>\n",
       "    </tr>\n",
       "    <tr>\n",
       "      <th>9064</th>\n",
       "      <td>0.357565</td>\n",
       "      <td>0.015748</td>\n",
       "    </tr>\n",
       "    <tr>\n",
       "      <th>9065</th>\n",
       "      <td>0.086953</td>\n",
       "      <td>-0.016496</td>\n",
       "    </tr>\n",
       "  </tbody>\n",
       "</table>\n",
       "</div>"
      ],
      "text/plain": [
       "            x1        x0\n",
       "9061  0.355351 -0.063453\n",
       "9062  0.260442  0.011823\n",
       "9063  0.375201 -0.028470\n",
       "9064  0.357565  0.015748\n",
       "9065  0.086953 -0.016496"
      ]
     },
     "execution_count": 16,
     "metadata": {},
     "output_type": "execute_result"
    }
   ],
   "source": [
    "df_reg = pd.DataFrame(index=stocks)\n",
    "x1 = []\n",
    "x0 = []\n",
    "for s in stocks:\n",
    "    x1.append(reg[s].coef_[0][0])\n",
    "    x0.append(reg[s].intercept_[0])\n",
    "df_reg['x1'] = x1\n",
    "df_reg['x0'] = x0\n",
    "df_reg.head()"
   ]
  },
  {
   "cell_type": "markdown",
   "metadata": {},
   "source": [
    "### Fitted logistic regression curves\n",
    "\n",
    "The fitted curves are monotonically increasing. \n",
    "They look almost like a straingth lines, which is more charactersitc to the *small-tick* stocks according to [[1]](#Resources)."
   ]
  },
  {
   "cell_type": "code",
   "execution_count": 17,
   "metadata": {},
   "outputs": [
    {
     "data": {
      "text/plain": [
       "<matplotlib.legend.Legend at 0x7f114d14e7f0>"
      ]
     },
     "execution_count": 17,
     "metadata": {},
     "output_type": "execute_result"
    },
    {
     "data": {
      "image/png": "[encoded data removed]",
      "text/plain": [
       "<Figure size 432x288 with 1 Axes>"
      ]
     },
     "metadata": {},
     "output_type": "display_data"
    }
   ],
   "source": [
    "for s in stocks:\n",
    "    plt.plot(dfs[s]['queue_imbalance'].values, \n",
    "             lob.sigmoid(reg[s].coef_[0] * dfs[s]['queue_imbalance'].values + reg[s].intercept_), '-', label=s)\n",
    "plt.title('Imbalance vs mid price raise prediction fit')\n",
    "plt.xlabel('Imbalance')\n",
    "plt.ylabel('Prediction')\n",
    "plt.ylim(0, 1)\n",
    "plt.legend()"
   ]
  },
  {
   "cell_type": "markdown",
   "metadata": {},
   "source": [
    "## Assessing predictions for logistic regression\n",
    "\n",
    "### Mean square error \n",
    "\n",
    "We calculate residual $r_i$:\n",
    "\n",
    "$$ r_i = \\hat{y_i} - y_i $$\n",
    "\n",
    "We use mean square residual on testing set to assess the predictive power."
   ]
  },
  {
   "cell_type": "code",
   "execution_count": 18,
   "metadata": {},
   "outputs": [
    {
     "name": "stdout",
     "output_type": "stream",
     "text": [
      "Error for 9061 is 0.24893353352787195\n",
      "Error for 9062 is 0.2484820721302284\n",
      "Error for 9063 is 0.2482785925183295\n",
      "Error for 9064 is 0.24865982145111662\n",
      "Error for 9065 is 0.24856548688638286\n"
     ]
    }
   ],
   "source": [
    "for s in stocks:\n",
    "    err = ((dfs_test[s]['mid_price_indicator'].values - reg[s].predict_proba(\n",
    "        dfs_test[s]['queue_imbalance'].values.reshape(-1, 1))[:,1]) ** 2).mean()\n",
    "    print('Error for {} is {}'.format(s, err))"
   ]
  },
  {
   "cell_type": "markdown",
   "metadata": {},
   "source": [
    "### ROC curves\n",
    "\n",
    "We calculate the out-of-sample ROC curves and area-under-ROC-curve statistics to\n",
    "assess the predectivity power of both svm and logistic regressions."
   ]
  },
  {
   "cell_type": "code",
   "execution_count": 20,
   "metadata": {},
   "outputs": [
    {
     "data": {
      "text/plain": [
       "<matplotlib.legend.Legend at 0x7f114d475860>"
      ]
     },
     "execution_count": 20,
     "metadata": {},
     "output_type": "execute_result"
    },
    {
     "data": {
      "image/png": "[encoded data removed]",
      "text/plain": [
       "<Figure size 432x288 with 1 Axes>"
      ]
     },
     "metadata": {},
     "output_type": "display_data"
    }
   ],
   "source": [
    "for s in stocks:\n",
    "    logit_roc_auc = roc_auc_score(dfs_test[s]['mid_price_indicator'], pred_out_of_sample[s])\n",
    "    fpr, tpr, thresholds = roc_curve(\n",
    "        dfs_test[s]['mid_price_indicator'].values, \n",
    "        reg[s].predict_proba(dfs_test[s]['queue_imbalance'].values.reshape(-1, 1))[:,1])\n",
    "    plt.plot(fpr, tpr, label='{} (area = {})'.format(s, logit_roc_auc))\n",
    "plt.plot([0, 1], [0, 1],'r--')\n",
    "plt.xlim([0.0, 1.0])\n",
    "plt.ylim([0.0, 1.05])\n",
    "plt.xlabel('False Positive Rate')\n",
    "plt.ylabel('True Positive Rate')\n",
    "plt.title('Receiver operating characteristic')\n",
    "plt.legend(loc=\"lower right\")"
   ]
  },
  {
   "cell_type": "code",
   "execution_count": 21,
   "metadata": {},
   "outputs": [
    {
     "name": "stdout",
     "output_type": "stream",
     "text": [
      "9061\n",
      "              precision    recall  f1-score   support\n",
      "\n",
      "         0.0       0.62      0.55      0.58      2340\n",
      "         1.0       0.46      0.54      0.50      1700\n",
      "\n",
      "   micro avg       0.54      0.54      0.54      4040\n",
      "   macro avg       0.54      0.54      0.54      4040\n",
      "weighted avg       0.55      0.54      0.55      4040\n",
      "\n",
      "\n",
      "9062\n",
      "              precision    recall  f1-score   support\n",
      "\n",
      "         0.0       0.50      0.55      0.52      1854\n",
      "         1.0       0.59      0.55      0.57      2186\n",
      "\n",
      "   micro avg       0.55      0.55      0.55      4040\n",
      "   macro avg       0.55      0.55      0.55      4040\n",
      "weighted avg       0.55      0.55      0.55      4040\n",
      "\n",
      "\n",
      "9063\n",
      "              precision    recall  f1-score   support\n",
      "\n",
      "         0.0       0.61      0.55      0.58      2295\n",
      "         1.0       0.48      0.54      0.51      1745\n",
      "\n",
      "   micro avg       0.55      0.55      0.55      4040\n",
      "   macro avg       0.54      0.55      0.54      4040\n",
      "weighted avg       0.55      0.55      0.55      4040\n",
      "\n",
      "\n",
      "9064\n",
      "              precision    recall  f1-score   support\n",
      "\n",
      "         0.0       0.47      0.54      0.50      1741\n",
      "         1.0       0.61      0.55      0.58      2299\n",
      "\n",
      "   micro avg       0.54      0.54      0.54      4040\n",
      "   macro avg       0.54      0.54      0.54      4040\n",
      "weighted avg       0.55      0.54      0.54      4040\n",
      "\n",
      "\n",
      "9065\n",
      "              precision    recall  f1-score   support\n",
      "\n",
      "         0.0       0.65      0.55      0.60      2399\n",
      "         1.0       0.46      0.57      0.51      1641\n",
      "\n",
      "   micro avg       0.56      0.56      0.56      4040\n",
      "   macro avg       0.56      0.56      0.55      4040\n",
      "weighted avg       0.57      0.56      0.56      4040\n",
      "\n",
      "\n"
     ]
    }
   ],
   "source": [
    "from sklearn.metrics import classification_report\n",
    "for s in stocks:\n",
    "    print(s)\n",
    "    print(classification_report(pred_in_sample[s], dfs[s]['mid_price_indicator'].values))\n",
    "    print()"
   ]
  },
  {
   "cell_type": "markdown",
   "metadata": {
    "collapsed": true
   },
   "source": [
    "##  SVM"
   ]
  },
  {
   "cell_type": "code",
   "execution_count": 22,
   "metadata": {},
   "outputs": [
    {
     "name": "stdout",
     "output_type": "stream",
     "text": [
      "Error for 9061 is 0.24928598885262487\n",
      "Error for 9062 is 0.24853105156194527\n",
      "Error for 9063 is 0.24875332528516192\n",
      "Error for 9064 is 0.24812733994782515\n",
      "Error for 9065 is 0.24494974045877466\n"
     ]
    }
   ],
   "source": [
    "for s in stocks:\n",
    "    err = ((dfs_test[s]['mid_price_indicator'].values - reg_svm[s].predict_proba(\n",
    "        dfs_test[s]['queue_imbalance'].values.reshape(-1, 1))[:,1]) ** 2).mean()\n",
    "    print('Error for {} is {}'.format(s, err))"
   ]
  },
  {
   "cell_type": "code",
   "execution_count": 25,
   "metadata": {},
   "outputs": [
    {
     "data": {
      "text/plain": [
       "<matplotlib.legend.Legend at 0x7f114d636908>"
      ]
     },
     "execution_count": 25,
     "metadata": {},
     "output_type": "execute_result"
    },
    {
     "data": {
      "image/png": "[encoded data removed]",
      "text/plain": [
       "<Figure size 432x288 with 1 Axes>"
      ]
     },
     "metadata": {},
     "output_type": "display_data"
    }
   ],
   "source": [
    "for s in stocks:\n",
    "    logit_roc_auc = roc_auc_score(dfs_test[s]['mid_price_indicator'], pred_svm_out_of_sample[s])\n",
    "    fpr, tpr, thresholds = roc_curve(\n",
    "        dfs_test[s]['mid_price_indicator'].values, \n",
    "        reg_svm[s].predict_proba(dfs_test[s]['queue_imbalance'].values.reshape(-1, 1))[:,1])\n",
    "    plt.plot(fpr, tpr, label='{} (area = {})'.format(s, logit_roc_auc))\n",
    "plt.plot([0, 1], [0, 1],'r--')\n",
    "plt.xlim([0.0, 1.0])\n",
    "plt.ylim([0.0, 1.05])\n",
    "plt.xlabel('False Positive Rate')\n",
    "plt.ylabel('True Positive Rate')\n",
    "plt.title('Receiver operating characteristic')\n",
    "plt.legend(loc=\"lower right\")"
   ]
  },
  {
   "cell_type": "code",
   "execution_count": 26,
   "metadata": {},
   "outputs": [
    {
     "name": "stdout",
     "output_type": "stream",
     "text": [
      "9061\n",
      "              precision    recall  f1-score   support\n",
      "\n",
      "         0.0       0.61      0.55      0.58      2315\n",
      "         1.0       0.47      0.54      0.50      1725\n",
      "\n",
      "   micro avg       0.54      0.54      0.54      4040\n",
      "   macro avg       0.54      0.54      0.54      4040\n",
      "weighted avg       0.55      0.54      0.55      4040\n",
      "\n",
      "9062\n",
      "              precision    recall  f1-score   support\n",
      "\n",
      "         0.0       0.50      0.55      0.52      1830\n",
      "         1.0       0.59      0.55      0.57      2210\n",
      "\n",
      "   micro avg       0.55      0.55      0.55      4040\n",
      "   macro avg       0.55      0.55      0.55      4040\n",
      "weighted avg       0.55      0.55      0.55      4040\n",
      "\n",
      "9063\n",
      "              precision    recall  f1-score   support\n",
      "\n",
      "         0.0       0.59      0.55      0.57      2231\n",
      "         1.0       0.49      0.54      0.51      1809\n",
      "\n",
      "   micro avg       0.54      0.54      0.54      4040\n",
      "   macro avg       0.54      0.54      0.54      4040\n",
      "weighted avg       0.55      0.54      0.55      4040\n",
      "\n",
      "9064\n",
      "              precision    recall  f1-score   support\n",
      "\n",
      "         0.0       0.44      0.54      0.48      1624\n",
      "         1.0       0.64      0.54      0.58      2416\n",
      "\n",
      "   micro avg       0.54      0.54      0.54      4040\n",
      "   macro avg       0.54      0.54      0.53      4040\n",
      "weighted avg       0.56      0.54      0.54      4040\n",
      "\n",
      "9065\n",
      "              precision    recall  f1-score   support\n",
      "\n",
      "         0.0       0.61      0.55      0.58      2237\n",
      "         1.0       0.50      0.56      0.53      1803\n",
      "\n",
      "   micro avg       0.56      0.56      0.56      4040\n",
      "   macro avg       0.56      0.56      0.55      4040\n",
      "weighted avg       0.56      0.56      0.56      4040\n",
      "\n"
     ]
    }
   ],
   "source": [
    "for s in stocks:\n",
    "    print(s)\n",
    "    print(classification_report(pred_svm_in_sample[s], dfs[s]['mid_price_indicator']))"
   ]
  },
  {
   "cell_type": "markdown",
   "metadata": {},
   "source": [
    "# Conclusions\n",
    "\n",
    "* there is almost no difference between using SVM and logistic regression for this data sets\n",
    "* the data sets don't have characteristic tick size as the data used by authors of article [[1]](#Resources)\n",
    "* our results are a bit worse than their results for *small-tick* stocks, but we had much less data, which wasn't preprocessed so carefully (they used the data from the whole year, we use from 2 months). We cleaned the data from morning and evening events, but other outliers weren't removed."
   ]
  },
  {
   "cell_type": "markdown",
   "metadata": {},
   "source": [
    "### Resources\n",
    "\n",
    "1. [Queue Imbalance as a One-Tick-Ahead Price Predictor in a Limit Order Book](https://arxiv.org/abs/1512.03492) <a class=\"anchor-link\" href=\"#1\">¶</a>"
   ]
  },
  {
   "cell_type": "markdown",
   "metadata": {},
   "source": [
    "# Other data\n",
    "\n",
    "In this sections there are ROC plots for other data. Data and plots was generated using `roc.py` (it uses the same approach as this notebook) script."
   ]
  },
  {
   "cell_type": "markdown",
   "metadata": {},
   "source": [
    "### Stocks with the best results\n",
    "\n",
    "The stocks for which logistic regression yields the best results in terms of **roc_area** scoring."
   ]
  },
  {
   "cell_type": "code",
   "execution_count": 27,
   "metadata": {},
   "outputs": [
    {
     "data": {
      "text/html": [
       "<div>\n",
       "<style scoped>\n",
       "    .dataframe tbody tr th:only-of-type {\n",
       "        vertical-align: middle;\n",
       "    }\n",
       "\n",
       "    .dataframe tbody tr th {\n",
       "        vertical-align: top;\n",
       "    }\n",
       "\n",
       "    .dataframe thead th {\n",
       "        text-align: right;\n",
       "    }\n",
       "</style>\n",
       "<table border=\"1\" class=\"dataframe\">\n",
       "  <thead>\n",
       "    <tr style=\"text-align: right;\">\n",
       "      <th></th>\n",
       "      <th>stock</th>\n",
       "      <th>roc_area</th>\n",
       "    </tr>\n",
       "  </thead>\n",
       "  <tbody>\n",
       "    <tr>\n",
       "      <th>28</th>\n",
       "      <td>4799</td>\n",
       "      <td>0.584326</td>\n",
       "    </tr>\n",
       "    <tr>\n",
       "      <th>33</th>\n",
       "      <td>9268</td>\n",
       "      <td>0.581925</td>\n",
       "    </tr>\n",
       "    <tr>\n",
       "      <th>50</th>\n",
       "      <td>11946</td>\n",
       "      <td>0.581297</td>\n",
       "    </tr>\n",
       "    <tr>\n",
       "      <th>25</th>\n",
       "      <td>3035</td>\n",
       "      <td>0.580671</td>\n",
       "    </tr>\n",
       "    <tr>\n",
       "      <th>40</th>\n",
       "      <td>3879</td>\n",
       "      <td>0.580233</td>\n",
       "    </tr>\n",
       "  </tbody>\n",
       "</table>\n",
       "</div>"
      ],
      "text/plain": [
       "    stock  roc_area\n",
       "28   4799  0.584326\n",
       "33   9268  0.581925\n",
       "50  11946  0.581297\n",
       "25   3035  0.580671\n",
       "40   3879  0.580233"
      ]
     },
     "execution_count": 27,
     "metadata": {},
     "output_type": "execute_result"
    }
   ],
   "source": [
    "from lob_data_utils.roc_results import results_10000 as results\n",
    "\n",
    "df_roc = pd.DataFrame()\n",
    "df_roc['stock'] = results.keys()\n",
    "df_roc['roc_area'] = results.values()\n",
    "\n",
    "df_roc.sort_values(by='roc_area', ascending=False).head(5)"
   ]
  },
  {
   "cell_type": "markdown",
   "metadata": {},
   "source": [
    "### Stocks with the worst results\n",
    "\n",
    "The stocks for which logistic regression yields the worst results in terms of **roc_area** scoring."
   ]
  },
  {
   "cell_type": "code",
   "execution_count": 28,
   "metadata": {},
   "outputs": [
    {
     "data": {
      "text/html": [
       "<div>\n",
       "<style scoped>\n",
       "    .dataframe tbody tr th:only-of-type {\n",
       "        vertical-align: middle;\n",
       "    }\n",
       "\n",
       "    .dataframe tbody tr th {\n",
       "        vertical-align: top;\n",
       "    }\n",
       "\n",
       "    .dataframe thead th {\n",
       "        text-align: right;\n",
       "    }\n",
       "</style>\n",
       "<table border=\"1\" class=\"dataframe\">\n",
       "  <thead>\n",
       "    <tr style=\"text-align: right;\">\n",
       "      <th></th>\n",
       "      <th>stock</th>\n",
       "      <th>roc_area</th>\n",
       "    </tr>\n",
       "  </thead>\n",
       "  <tbody>\n",
       "    <tr>\n",
       "      <th>13</th>\n",
       "      <td>11244</td>\n",
       "      <td>0.531468</td>\n",
       "    </tr>\n",
       "    <tr>\n",
       "      <th>17</th>\n",
       "      <td>9062</td>\n",
       "      <td>0.533872</td>\n",
       "    </tr>\n",
       "    <tr>\n",
       "      <th>22</th>\n",
       "      <td>1907</td>\n",
       "      <td>0.535701</td>\n",
       "    </tr>\n",
       "    <tr>\n",
       "      <th>0</th>\n",
       "      <td>9069</td>\n",
       "      <td>0.538344</td>\n",
       "    </tr>\n",
       "    <tr>\n",
       "      <th>10</th>\n",
       "      <td>9064</td>\n",
       "      <td>0.542774</td>\n",
       "    </tr>\n",
       "  </tbody>\n",
       "</table>\n",
       "</div>"
      ],
      "text/plain": [
       "    stock  roc_area\n",
       "13  11244  0.531468\n",
       "17   9062  0.533872\n",
       "22   1907  0.535701\n",
       "0    9069  0.538344\n",
       "10   9064  0.542774"
      ]
     },
     "execution_count": 28,
     "metadata": {},
     "output_type": "execute_result"
    }
   ],
   "source": [
    "df_roc.sort_values(by='roc_area', ascending=True).head(5)"
   ]
  },
  {
   "cell_type": "markdown",
   "metadata": {},
   "source": [
    "### ROC Plots for all data\n",
    "\n",
    "For logistic regression."
   ]
  },
  {
   "cell_type": "code",
   "execution_count": null,
   "metadata": {},
   "outputs": [],
   "source": [
    "from IPython.display import Image\n",
    "Image(filename='plots/plots_10.png')"
   ]
  },
  {
   "cell_type": "code",
   "execution_count": null,
   "metadata": {},
   "outputs": [],
   "source": [
    "Image(filename='plots/plots_20.png')"
   ]
  },
  {
   "cell_type": "code",
   "execution_count": null,
   "metadata": {},
   "outputs": [],
   "source": [
    "Image(filename='plots/plots_30.png')"
   ]
  },
  {
   "cell_type": "code",
   "execution_count": null,
   "metadata": {},
   "outputs": [],
   "source": [
    "Image(filename='plots/plots_40.png')"
   ]
  },
  {
   "cell_type": "code",
   "execution_count": null,
   "metadata": {},
   "outputs": [],
   "source": [
    "Image(filename='plots/plots_50.png')"
   ]
  },
  {
   "cell_type": "code",
   "execution_count": null,
   "metadata": {},
   "outputs": [],
   "source": [
    "Image(filename='plots/plots_60.png')"
   ]
  },
  {
   "cell_type": "code",
   "execution_count": null,
   "metadata": {},
   "outputs": [],
   "source": [
    "Image(filename='plots/plots_70.png')"
   ]
  },
  {
   "cell_type": "code",
   "execution_count": null,
   "metadata": {},
   "outputs": [],
   "source": [
    "Image(filename='plots/plots_80.png')"
   ]
  },
  {
   "cell_type": "code",
   "execution_count": null,
   "metadata": {},
   "outputs": [],
   "source": [
    "Image(filename='plots/plots_90.png')"
   ]
  },
  {
   "cell_type": "code",
   "execution_count": null,
   "metadata": {},
   "outputs": [],
   "source": [
    "Image(filename='plots/plots_98.png')"
   ]
  },
  {
   "cell_type": "code",
   "execution_count": null,
   "metadata": {
    "collapsed": true
   },
   "outputs": [],
   "source": []
  }
 ],
 "metadata": {
  "kernelspec": {
   "display_name": "Python 3",
   "language": "python",
   "name": "python3"
  },
  "language_info": {
   "codemirror_mode": {
    "name": "ipython",
    "version": 3
   },
   "file_extension": ".py",
   "mimetype": "text/x-python",
   "name": "python",
   "nbconvert_exporter": "python",
   "pygments_lexer": "ipython3",
   "version": "3.6.1"
  }
 },
 "nbformat": 4,
 "nbformat_minor": 1
}
