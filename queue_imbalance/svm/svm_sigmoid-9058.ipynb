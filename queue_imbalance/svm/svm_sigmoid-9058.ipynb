{
 "cells": [
  {
   "cell_type": "markdown",
   "metadata": {},
   "source": [
    "# SVM with sigmoid kernel\n",
    "\n",
    "The goal of this notebook is to find the best parameters for polynomial kernel. We also want to check if the parameters depend on stock.\n",
    "\n",
    "We will use [sklearn.svm](http://scikit-learn.org/stable/modules/generated/sklearn.svm.SVC.html#sklearn.svm.SVC) library to perform calculations. We want to pick the best parameters for **SVC**:\n",
    "\n",
    "* C (default 1.0)\n",
    "* gamma (default 1/number_of_features, so 1 in our case)\n",
    "* coef0 (default 0.0)\n",
    "\n",
    "Sigmoid kernel function: $(\\tanh(\\gamma \\langle x,x'\\rangle + coef0))$"
   ]
  },
  {
   "cell_type": "code",
   "execution_count": 1,
   "metadata": {
    "collapsed": true
   },
   "outputs": [],
   "source": [
    "%matplotlib inline\n",
    "import pandas as pd\n",
    "\n",
    "import matplotlib.pyplot as plt\n",
    "import matplotlib.dates as md\n",
    "from statsmodels.distributions.empirical_distribution import ECDF\n",
    "import numpy as np\n",
    "import seaborn as sns\n",
    "from sklearn.metrics import roc_auc_score\n",
    "from sklearn.metrics import roc_curve\n",
    "from sklearn.metrics import classification_report\n",
    "from sklearn import svm\n",
    "import warnings\n",
    "\n",
    "from lob_data_utils import lob\n",
    "\n",
    "sns.set_style('whitegrid')\n",
    "\n",
    "warnings.filterwarnings('ignore')"
   ]
  },
  {
   "cell_type": "markdown",
   "metadata": {},
   "source": [
    "# Data\n",
    "\n",
    "We use data from 5 stocks (from dates 2013-09-01 - 2013-11-16) for which logistic regression yielded the best results.\n",
    "\n",
    "We selected 3 subsets for each stock:\n",
    "* training set (60% of data)\n",
    "* test set (20% of data)\n",
    "* cross-validation set (20% of data)"
   ]
  },
  {
   "cell_type": "code",
   "execution_count": 2,
   "metadata": {},
   "outputs": [
    {
     "name": "stdout",
     "output_type": "stream",
     "text": [
      "Len of data for  9058 is 15552\n",
      "Training set length for 9058: 9332\n",
      "Testing set length for 9058: 3110\n",
      "Cross-validation set length for 9058: 3110\n"
     ]
    }
   ],
   "source": [
    "stocks = ['9058']\n",
    "\n",
    "dfs = {}\n",
    "dfs_cv = {}\n",
    "dfs_test = {}\n",
    "\n",
    "for s in stocks:\n",
    "    df, df_cv, df_test = lob.load_prepared_data(s, cv=True, length=None)\n",
    "    dfs[s] = df\n",
    "    dfs_test[s] = df_cv\n",
    "    dfs_cv[s] = df_test"
   ]
  },
  {
   "cell_type": "code",
   "execution_count": 3,
   "metadata": {},
   "outputs": [
    {
     "data": {
      "text/html": [
       "<div>\n",
       "<style>\n",
       "    .dataframe thead tr:only-child th {\n",
       "        text-align: right;\n",
       "    }\n",
       "\n",
       "    .dataframe thead th {\n",
       "        text-align: left;\n",
       "    }\n",
       "\n",
       "    .dataframe tbody tr th {\n",
       "        vertical-align: top;\n",
       "    }\n",
       "</style>\n",
       "<table border=\"1\" class=\"dataframe\">\n",
       "  <thead>\n",
       "    <tr style=\"text-align: right;\">\n",
       "      <th></th>\n",
       "      <th>Unnamed: 0</th>\n",
       "      <th>bid</th>\n",
       "      <th>ask</th>\n",
       "      <th>bid_price</th>\n",
       "      <th>ask_price</th>\n",
       "      <th>mid_price</th>\n",
       "      <th>sum_sell_ask</th>\n",
       "      <th>sum_buy_bid</th>\n",
       "      <th>mid_price_indicator</th>\n",
       "      <th>queue_imbalance</th>\n",
       "    </tr>\n",
       "  </thead>\n",
       "  <tbody>\n",
       "    <tr>\n",
       "      <th>3110</th>\n",
       "      <td>2013-09-16 14:02:00</td>\n",
       "      <td>[(1000.0, 400.0), (1260.0, 400.0), (1350.0, 50...</td>\n",
       "      <td>[(1917.0, 4920.0), (1917.5, 9151.0), (1918.0, ...</td>\n",
       "      <td>1916.0</td>\n",
       "      <td>1917.0</td>\n",
       "      <td>1916.50</td>\n",
       "      <td>4920.0</td>\n",
       "      <td>4181.0</td>\n",
       "      <td>1.0</td>\n",
       "      <td>-0.081200</td>\n",
       "    </tr>\n",
       "    <tr>\n",
       "      <th>3111</th>\n",
       "      <td>2013-09-16 14:03:00</td>\n",
       "      <td>[(1000.0, 400.0), (1260.0, 400.0), (1350.0, 50...</td>\n",
       "      <td>[(1917.0, 1378.0), (1917.5, 6515.0), (1918.0, ...</td>\n",
       "      <td>1916.5</td>\n",
       "      <td>1917.0</td>\n",
       "      <td>1916.75</td>\n",
       "      <td>1378.0</td>\n",
       "      <td>96.0</td>\n",
       "      <td>0.0</td>\n",
       "      <td>-0.869742</td>\n",
       "    </tr>\n",
       "    <tr>\n",
       "      <th>3112</th>\n",
       "      <td>2013-09-16 14:04:00</td>\n",
       "      <td>[(1000.0, 400.0), (1260.0, 400.0), (1350.0, 50...</td>\n",
       "      <td>[(1916.5, 2428.0), (1917.0, 7498.0), (1917.5, ...</td>\n",
       "      <td>1915.5</td>\n",
       "      <td>1916.5</td>\n",
       "      <td>1916.00</td>\n",
       "      <td>2428.0</td>\n",
       "      <td>3568.0</td>\n",
       "      <td>1.0</td>\n",
       "      <td>0.190127</td>\n",
       "    </tr>\n",
       "    <tr>\n",
       "      <th>3113</th>\n",
       "      <td>2013-09-16 14:05:00</td>\n",
       "      <td>[(1000.0, 400.0), (1260.0, 400.0), (1350.0, 50...</td>\n",
       "      <td>[(1916.5, 900.0), (1917.0, 5990.0), (1917.5, 8...</td>\n",
       "      <td>1916.0</td>\n",
       "      <td>1916.5</td>\n",
       "      <td>1916.25</td>\n",
       "      <td>900.0</td>\n",
       "      <td>3648.0</td>\n",
       "      <td>1.0</td>\n",
       "      <td>0.604222</td>\n",
       "    </tr>\n",
       "    <tr>\n",
       "      <th>3114</th>\n",
       "      <td>2013-09-16 14:06:00</td>\n",
       "      <td>[(1000.0, 400.0), (1260.0, 400.0), (1350.0, 50...</td>\n",
       "      <td>[(1917.0, 2012.0), (1917.5, 9613.0), (1918.0, ...</td>\n",
       "      <td>1916.0</td>\n",
       "      <td>1917.0</td>\n",
       "      <td>1916.50</td>\n",
       "      <td>2012.0</td>\n",
       "      <td>5083.0</td>\n",
       "      <td>1.0</td>\n",
       "      <td>0.432840</td>\n",
       "    </tr>\n",
       "  </tbody>\n",
       "</table>\n",
       "</div>"
      ],
      "text/plain": [
       "               Unnamed: 0                                                bid  \\\n",
       "3110  2013-09-16 14:02:00  [(1000.0, 400.0), (1260.0, 400.0), (1350.0, 50...   \n",
       "3111  2013-09-16 14:03:00  [(1000.0, 400.0), (1260.0, 400.0), (1350.0, 50...   \n",
       "3112  2013-09-16 14:04:00  [(1000.0, 400.0), (1260.0, 400.0), (1350.0, 50...   \n",
       "3113  2013-09-16 14:05:00  [(1000.0, 400.0), (1260.0, 400.0), (1350.0, 50...   \n",
       "3114  2013-09-16 14:06:00  [(1000.0, 400.0), (1260.0, 400.0), (1350.0, 50...   \n",
       "\n",
       "                                                    ask  bid_price  ask_price  \\\n",
       "3110  [(1917.0, 4920.0), (1917.5, 9151.0), (1918.0, ...     1916.0     1917.0   \n",
       "3111  [(1917.0, 1378.0), (1917.5, 6515.0), (1918.0, ...     1916.5     1917.0   \n",
       "3112  [(1916.5, 2428.0), (1917.0, 7498.0), (1917.5, ...     1915.5     1916.5   \n",
       "3113  [(1916.5, 900.0), (1917.0, 5990.0), (1917.5, 8...     1916.0     1916.5   \n",
       "3114  [(1917.0, 2012.0), (1917.5, 9613.0), (1918.0, ...     1916.0     1917.0   \n",
       "\n",
       "      mid_price  sum_sell_ask  sum_buy_bid  mid_price_indicator  \\\n",
       "3110    1916.50        4920.0       4181.0                  1.0   \n",
       "3111    1916.75        1378.0         96.0                  0.0   \n",
       "3112    1916.00        2428.0       3568.0                  1.0   \n",
       "3113    1916.25         900.0       3648.0                  1.0   \n",
       "3114    1916.50        2012.0       5083.0                  1.0   \n",
       "\n",
       "      queue_imbalance  \n",
       "3110        -0.081200  \n",
       "3111        -0.869742  \n",
       "3112         0.190127  \n",
       "3113         0.604222  \n",
       "3114         0.432840  "
      ]
     },
     "execution_count": 3,
     "metadata": {},
     "output_type": "execute_result"
    }
   ],
   "source": [
    "dfs[stocks[0]].head()"
   ]
  },
  {
   "cell_type": "code",
   "execution_count": 4,
   "metadata": {
    "collapsed": true
   },
   "outputs": [],
   "source": [
    "def svm_classification(d, kernel, gamma='auto', C=1.0, degree=3, coef0=0.0):\n",
    "    clf = svm.SVC(kernel=kernel, gamma=gamma, C=C, degree=degree, coef0=coef0)\n",
    "    X = d['queue_imbalance'].values.reshape(-1, 1)\n",
    "    y = d['mid_price_indicator'].values.reshape(-1, 1)\n",
    "    clf.fit(X, y)\n",
    "    return clf"
   ]
  },
  {
   "cell_type": "markdown",
   "metadata": {},
   "source": [
    "# Methodology\n",
    "\n",
    "We will use at first naive approach to grasp how each of the parameter influences the ROC area score and what values make sense, when the other parameters are set to defaults for parameters C and gamma.\n",
    "\n",
    "Next we will choose parameter coef0 for SVM with gamma and C set to the best values we got."
   ]
  },
  {
   "cell_type": "markdown",
   "metadata": {},
   "source": [
    "### C parameter\n",
    "\n",
    "The C parameter has influence over margin picked by SVM:\n",
    "* for large values of **C** SVM will choose a smaller-margin hyperplane, which means that more data points will be classified correctly\n",
    "* for small values of **C** SVM will choose a bigger-margin hyperplane, so there may be more misclassifications\n",
    "\n",
    "At first we tried parameters: [0.0001, 0.001, 0.01, 0.1, 1, 10, 1000], but after first calculations it seems that it wasn't enough, so a few more values were introduced or removed."
   ]
  },
  {
   "cell_type": "code",
   "execution_count": 5,
   "metadata": {},
   "outputs": [
    {
     "data": {
      "text/plain": [
       "<matplotlib.legend.Legend at 0x7f06f22892e8>"
      ]
     },
     "execution_count": 5,
     "metadata": {},
     "output_type": "execute_result"
    },
    {
     "data": {
      "image/png": "[encoded data removed]",
      "text/plain": [
       "<matplotlib.figure.Figure at 0x7f06f2267710>"
      ]
     },
     "metadata": {},
     "output_type": "display_data"
    }
   ],
   "source": [
    "cs = [0.001, 0.01, 0.08, 0.1, 0.2]\n",
    "df_css = {}\n",
    "\n",
    "ax = plt.subplot()\n",
    "ax.set_xscale(\"log\", basex=10)\n",
    "for s in stocks:\n",
    "    df_cs = pd.DataFrame(index=cs)\n",
    "    df_cs['roc'] = np.zeros(len(df_cs))\n",
    "    for c in cs:\n",
    "        reg_svm = svm_classification(dfs[s], 'sigmoid', C=c, coef0=0)\n",
    "        pred_svm_out_of_sample = reg_svm.predict(dfs_cv[s]['queue_imbalance'].values.reshape(-1, 1))\n",
    "        logit_roc_auc = roc_auc_score(dfs_cv[s]['mid_price_indicator'], pred_svm_out_of_sample)\n",
    "        df_cs.loc[c] = logit_roc_auc\n",
    "    plt.plot(df_cs, linestyle='--', label=s, marker='x', alpha=0.5)\n",
    "    df_css[s] = df_cs\n",
    "    \n",
    "plt.legend()"
   ]
  },
  {
   "cell_type": "markdown",
   "metadata": {},
   "source": [
    "##### Best values of C parameter\n",
    "\n",
    "Choice of parameter C should be small - less than 0.1"
   ]
  },
  {
   "cell_type": "code",
   "execution_count": 6,
   "metadata": {},
   "outputs": [
    {
     "name": "stdout",
     "output_type": "stream",
     "text": [
      "For 9058 the best is 0.01\n"
     ]
    }
   ],
   "source": [
    "for s in stocks:\n",
    "    idx = df_css[s]['roc'].idxmax()\n",
    "    print('For {} the best is {}'.format(s, idx))"
   ]
  },
  {
   "cell_type": "markdown",
   "metadata": {},
   "source": [
    "##### Influence of C parameter\n",
    "\n",
    "The score difference between SVM with the worst choice of parameter **C** and the best choice one is shown on the output below."
   ]
  },
  {
   "cell_type": "code",
   "execution_count": 7,
   "metadata": {},
   "outputs": [
    {
     "name": "stdout",
     "output_type": "stream",
     "text": [
      "For 9058 the diff between best and worst 0.04079924020556813\n"
     ]
    }
   ],
   "source": [
    "for s in stocks:\n",
    "    err_max = df_css[s]['roc'].max()\n",
    "    err_min = df_css[s]['roc'].min()\n",
    "    print('For {} the diff between best and worst {}'.format(s, err_max - err_min))"
   ]
  },
  {
   "cell_type": "markdown",
   "metadata": {},
   "source": [
    "### Gamma\n",
    "\n",
    "Gamma is a parameter which has influence over decision region - the bigger it is, the bigger influence every single row of data has. When gamma is low the decision region is very broad. When gamma is high it can even create islands of decision-boundaries around data points."
   ]
  },
  {
   "cell_type": "code",
   "execution_count": 9,
   "metadata": {},
   "outputs": [
    {
     "data": {
      "text/plain": [
       "<matplotlib.legend.Legend at 0x7f06eeae8d30>"
      ]
     },
     "execution_count": 9,
     "metadata": {},
     "output_type": "execute_result"
    },
    {
     "data": {
      "image/png": "[encoded data removed]",
      "text/plain": [
       "<matplotlib.figure.Figure at 0x7f06eeb8d278>"
      ]
     },
     "metadata": {},
     "output_type": "display_data"
    }
   ],
   "source": [
    "gammas = [0.01, 0.08, 0.1, 0.2, 0.5, 0.85, 1]\n",
    "\n",
    "df_gammas = {}\n",
    "\n",
    "ax = plt.subplot()\n",
    "ax.set_xscale(\"log\", basex=10)\n",
    "for s in stocks:\n",
    "    df_gamma = pd.DataFrame(index=gammas)\n",
    "    df_gamma['roc'] = np.zeros(len(df_gamma))\n",
    "    for g in gammas:\n",
    "        reg_svm = svm_classification(dfs[s], 'sigmoid', gamma=g, coef0=0)\n",
    "        pred_svm_out_of_sample = reg_svm.predict(dfs_cv[s]['queue_imbalance'].values.reshape(-1, 1))\n",
    "\n",
    "        logit_roc_auc = roc_auc_score(dfs_cv[s]['mid_price_indicator'], pred_svm_out_of_sample)\n",
    "        df_gamma.loc[g] = logit_roc_auc\n",
    "    plt.plot(df_gamma, linestyle='--', label=s, marker='x', alpha=0.5)\n",
    "    df_gammas[s] = df_gamma\n",
    "    \n",
    "plt.legend()"
   ]
  },
  {
   "cell_type": "markdown",
   "metadata": {},
   "source": [
    "##### Best values of gamma\n",
    "\n",
    "There is no rule, how to set this parameter."
   ]
  },
  {
   "cell_type": "code",
   "execution_count": 10,
   "metadata": {},
   "outputs": [
    {
     "name": "stdout",
     "output_type": "stream",
     "text": [
      "For 9058 the best is 0.01\n"
     ]
    }
   ],
   "source": [
    "for s in stocks:\n",
    "    idx = df_gammas[s]['roc'].idxmax()\n",
    "    print('For {} the best is {}'.format(s, idx))"
   ]
  },
  {
   "cell_type": "markdown",
   "metadata": {},
   "source": [
    "##### Influence of gamma\n",
    "\n",
    "The score difference between SVM with the worst choice of **gamma** and the best choice one is shown on the output below. For scoring method we used *roc_area*. For stocks **10795**, **11618** and **4481** the difference is more than 0.1, so it's definitelly worth to experiment more."
   ]
  },
  {
   "cell_type": "code",
   "execution_count": 11,
   "metadata": {},
   "outputs": [
    {
     "name": "stdout",
     "output_type": "stream",
     "text": [
      "For 9058 the diff between best and worst 0.04111609698630325\n"
     ]
    }
   ],
   "source": [
    "for s in stocks:\n",
    "    err_max = df_gammas[s]['roc'].max()\n",
    "    err_min = df_gammas[s]['roc'].min()\n",
    "    print('For {} the diff between best and worst {}'.format(s, err_max - err_min))"
   ]
  },
  {
   "cell_type": "code",
   "execution_count": 12,
   "metadata": {},
   "outputs": [
    {
     "name": "stdout",
     "output_type": "stream",
     "text": [
      "9058\n"
     ]
    },
    {
     "ename": "KeyboardInterrupt",
     "evalue": "",
     "traceback": [
      "\u001b[0;31m---------------------------------------------------------------------------\u001b[0m",
      "\u001b[0;31mKeyboardInterrupt\u001b[0m                         Traceback (most recent call last)",
      "\u001b[0;32m<ipython-input-12-909accca27fb>\u001b[0m in \u001b[0;36m<module>\u001b[0;34m()\u001b[0m\n\u001b[1;32m      6\u001b[0m     \u001b[0;32mfor\u001b[0m \u001b[0mc\u001b[0m \u001b[0;32min\u001b[0m \u001b[0mcs\u001b[0m\u001b[0;34m:\u001b[0m\u001b[0;34m\u001b[0m\u001b[0m\n\u001b[1;32m      7\u001b[0m         \u001b[0;32mfor\u001b[0m \u001b[0mg\u001b[0m \u001b[0;32min\u001b[0m \u001b[0mgammas\u001b[0m\u001b[0;34m:\u001b[0m\u001b[0;34m\u001b[0m\u001b[0m\n\u001b[0;32m----> 8\u001b[0;31m             \u001b[0mreg_svm\u001b[0m \u001b[0;34m=\u001b[0m \u001b[0msvm_classification\u001b[0m\u001b[0;34m(\u001b[0m\u001b[0mdfs\u001b[0m\u001b[0;34m[\u001b[0m\u001b[0ms\u001b[0m\u001b[0;34m]\u001b[0m\u001b[0;34m,\u001b[0m \u001b[0;34m'sigmoid'\u001b[0m\u001b[0;34m,\u001b[0m \u001b[0mC\u001b[0m\u001b[0;34m=\u001b[0m\u001b[0mc\u001b[0m\u001b[0;34m,\u001b[0m \u001b[0mgamma\u001b[0m\u001b[0;34m=\u001b[0m\u001b[0mg\u001b[0m\u001b[0;34m)\u001b[0m\u001b[0;34m\u001b[0m\u001b[0m\n\u001b[0m\u001b[1;32m      9\u001b[0m             \u001b[0mprediction\u001b[0m \u001b[0;34m=\u001b[0m \u001b[0mreg_svm\u001b[0m\u001b[0;34m.\u001b[0m\u001b[0mpredict\u001b[0m\u001b[0;34m(\u001b[0m\u001b[0mdfs_cv\u001b[0m\u001b[0;34m[\u001b[0m\u001b[0ms\u001b[0m\u001b[0;34m]\u001b[0m\u001b[0;34m[\u001b[0m\u001b[0;34m'queue_imbalance'\u001b[0m\u001b[0;34m]\u001b[0m\u001b[0;34m.\u001b[0m\u001b[0mvalues\u001b[0m\u001b[0;34m.\u001b[0m\u001b[0mreshape\u001b[0m\u001b[0;34m(\u001b[0m\u001b[0;34m-\u001b[0m\u001b[0;36m1\u001b[0m\u001b[0;34m,\u001b[0m \u001b[0;36m1\u001b[0m\u001b[0;34m)\u001b[0m\u001b[0;34m)\u001b[0m\u001b[0;34m\u001b[0m\u001b[0m\n\u001b[1;32m     10\u001b[0m             \u001b[0mscore\u001b[0m \u001b[0;34m=\u001b[0m \u001b[0mroc_auc_score\u001b[0m\u001b[0;34m(\u001b[0m\u001b[0mdfs_cv\u001b[0m\u001b[0;34m[\u001b[0m\u001b[0ms\u001b[0m\u001b[0;34m]\u001b[0m\u001b[0;34m[\u001b[0m\u001b[0;34m'mid_price_indicator'\u001b[0m\u001b[0;34m]\u001b[0m\u001b[0;34m,\u001b[0m \u001b[0mprediction\u001b[0m\u001b[0;34m)\u001b[0m\u001b[0;34m\u001b[0m\u001b[0m\n",
      "\u001b[0;32m<ipython-input-4-1cd01c2a0ee5>\u001b[0m in \u001b[0;36msvm_classification\u001b[0;34m(d, kernel, gamma, C, degree, coef0)\u001b[0m\n\u001b[1;32m      3\u001b[0m     \u001b[0mX\u001b[0m \u001b[0;34m=\u001b[0m \u001b[0md\u001b[0m\u001b[0;34m[\u001b[0m\u001b[0;34m'queue_imbalance'\u001b[0m\u001b[0;34m]\u001b[0m\u001b[0;34m.\u001b[0m\u001b[0mvalues\u001b[0m\u001b[0;34m.\u001b[0m\u001b[0mreshape\u001b[0m\u001b[0;34m(\u001b[0m\u001b[0;34m-\u001b[0m\u001b[0;36m1\u001b[0m\u001b[0;34m,\u001b[0m \u001b[0;36m1\u001b[0m\u001b[0;34m)\u001b[0m\u001b[0;34m\u001b[0m\u001b[0m\n\u001b[1;32m      4\u001b[0m     \u001b[0my\u001b[0m \u001b[0;34m=\u001b[0m \u001b[0md\u001b[0m\u001b[0;34m[\u001b[0m\u001b[0;34m'mid_price_indicator'\u001b[0m\u001b[0;34m]\u001b[0m\u001b[0;34m.\u001b[0m\u001b[0mvalues\u001b[0m\u001b[0;34m.\u001b[0m\u001b[0mreshape\u001b[0m\u001b[0;34m(\u001b[0m\u001b[0;34m-\u001b[0m\u001b[0;36m1\u001b[0m\u001b[0;34m,\u001b[0m \u001b[0;36m1\u001b[0m\u001b[0;34m)\u001b[0m\u001b[0;34m\u001b[0m\u001b[0m\n\u001b[0;32m----> 5\u001b[0;31m     \u001b[0mclf\u001b[0m\u001b[0;34m.\u001b[0m\u001b[0mfit\u001b[0m\u001b[0;34m(\u001b[0m\u001b[0mX\u001b[0m\u001b[0;34m,\u001b[0m \u001b[0my\u001b[0m\u001b[0;34m)\u001b[0m\u001b[0;34m\u001b[0m\u001b[0m\n\u001b[0m\u001b[1;32m      6\u001b[0m     \u001b[0;32mreturn\u001b[0m \u001b[0mclf\u001b[0m\u001b[0;34m\u001b[0m\u001b[0m\n",
      "\u001b[0;32m/home/vevurka/.conda/envs/python36/lib/python3.6/site-packages/sklearn/svm/base.py\u001b[0m in \u001b[0;36mfit\u001b[0;34m(self, X, y, sample_weight)\u001b[0m\n\u001b[1;32m    187\u001b[0m \u001b[0;34m\u001b[0m\u001b[0m\n\u001b[1;32m    188\u001b[0m         \u001b[0mseed\u001b[0m \u001b[0;34m=\u001b[0m \u001b[0mrnd\u001b[0m\u001b[0;34m.\u001b[0m\u001b[0mrandint\u001b[0m\u001b[0;34m(\u001b[0m\u001b[0mnp\u001b[0m\u001b[0;34m.\u001b[0m\u001b[0miinfo\u001b[0m\u001b[0;34m(\u001b[0m\u001b[0;34m'i'\u001b[0m\u001b[0;34m)\u001b[0m\u001b[0;34m.\u001b[0m\u001b[0mmax\u001b[0m\u001b[0;34m)\u001b[0m\u001b[0;34m\u001b[0m\u001b[0m\n\u001b[0;32m--> 189\u001b[0;31m         \u001b[0mfit\u001b[0m\u001b[0;34m(\u001b[0m\u001b[0mX\u001b[0m\u001b[0;34m,\u001b[0m \u001b[0my\u001b[0m\u001b[0;34m,\u001b[0m \u001b[0msample_weight\u001b[0m\u001b[0;34m,\u001b[0m \u001b[0msolver_type\u001b[0m\u001b[0;34m,\u001b[0m \u001b[0mkernel\u001b[0m\u001b[0;34m,\u001b[0m \u001b[0mrandom_seed\u001b[0m\u001b[0;34m=\u001b[0m\u001b[0mseed\u001b[0m\u001b[0;34m)\u001b[0m\u001b[0;34m\u001b[0m\u001b[0m\n\u001b[0m\u001b[1;32m    190\u001b[0m         \u001b[0;31m# see comment on the other call to np.iinfo in this file\u001b[0m\u001b[0;34m\u001b[0m\u001b[0;34m\u001b[0m\u001b[0m\n\u001b[1;32m    191\u001b[0m \u001b[0;34m\u001b[0m\u001b[0m\n",
      "\u001b[0;32m/home/vevurka/.conda/envs/python36/lib/python3.6/site-packages/sklearn/svm/base.py\u001b[0m in \u001b[0;36m_dense_fit\u001b[0;34m(self, X, y, sample_weight, solver_type, kernel, random_seed)\u001b[0m\n\u001b[1;32m    254\u001b[0m                 \u001b[0mcache_size\u001b[0m\u001b[0;34m=\u001b[0m\u001b[0mself\u001b[0m\u001b[0;34m.\u001b[0m\u001b[0mcache_size\u001b[0m\u001b[0;34m,\u001b[0m \u001b[0mcoef0\u001b[0m\u001b[0;34m=\u001b[0m\u001b[0mself\u001b[0m\u001b[0;34m.\u001b[0m\u001b[0mcoef0\u001b[0m\u001b[0;34m,\u001b[0m\u001b[0;34m\u001b[0m\u001b[0m\n\u001b[1;32m    255\u001b[0m                 \u001b[0mgamma\u001b[0m\u001b[0;34m=\u001b[0m\u001b[0mself\u001b[0m\u001b[0;34m.\u001b[0m\u001b[0m_gamma\u001b[0m\u001b[0;34m,\u001b[0m \u001b[0mepsilon\u001b[0m\u001b[0;34m=\u001b[0m\u001b[0mself\u001b[0m\u001b[0;34m.\u001b[0m\u001b[0mepsilon\u001b[0m\u001b[0;34m,\u001b[0m\u001b[0;34m\u001b[0m\u001b[0m\n\u001b[0;32m--> 256\u001b[0;31m                 max_iter=self.max_iter, random_seed=random_seed)\n\u001b[0m\u001b[1;32m    257\u001b[0m \u001b[0;34m\u001b[0m\u001b[0m\n\u001b[1;32m    258\u001b[0m         \u001b[0mself\u001b[0m\u001b[0;34m.\u001b[0m\u001b[0m_warn_from_fit_status\u001b[0m\u001b[0;34m(\u001b[0m\u001b[0;34m)\u001b[0m\u001b[0;34m\u001b[0m\u001b[0m\n",
      "\u001b[0;31mKeyboardInterrupt\u001b[0m: "
     ],
     "output_type": "error"
    }
   ],
   "source": [
    "df_params = {}\n",
    "\n",
    "for s in stocks:\n",
    "    print(s)\n",
    "    params = []\n",
    "    for c in cs:\n",
    "        for g in gammas:\n",
    "            reg_svm = svm_classification(dfs[s], 'sigmoid', C=c, gamma=g)\n",
    "            prediction = reg_svm.predict(dfs_cv[s]['queue_imbalance'].values.reshape(-1, 1))\n",
    "            score = roc_auc_score(dfs_cv[s]['mid_price_indicator'], prediction)\n",
    "            params.append({'score': score, 'gamma': g, 'c': c})\n",
    "    df_params[s] = pd.DataFrame(params)"
   ]
  },
  {
   "cell_type": "code",
   "execution_count": null,
   "metadata": {},
   "outputs": [],
   "source": [
    "for s in stocks:\n",
    "    df_g = df_params[s].pivot(index='c', columns='gamma', values='score')\n",
    "    sns.heatmap(df_g)\n",
    "    plt.title('Best params for ' + s)\n",
    "    plt.figure()"
   ]
  },
  {
   "cell_type": "code",
   "execution_count": null,
   "metadata": {},
   "outputs": [],
   "source": [
    "for s in stocks:\n",
    "    print(s, df_params[s].iloc[df_params[s]['score'].idxmax()])"
   ]
  },
  {
   "cell_type": "code",
   "execution_count": null,
   "metadata": {},
   "outputs": [],
   "source": [
    "df_params[stocks[0]].sort_values(by='score', ascending=False).head(5)"
   ]
  },
  {
   "cell_type": "markdown",
   "metadata": {},
   "source": [
    "### Coef0\n",
    "\n",
    "For sigmoid kernel we use function:\n",
    "$(\\tanh(\\gamma \\langle x,x'\\rangle + r))$, where r is specified by coef0."
   ]
  },
  {
   "cell_type": "code",
   "execution_count": null,
   "metadata": {},
   "outputs": [],
   "source": [
    "coeffs = [0, 0.0000001, 0.000001, 0.1, 1, 2]\n",
    "# 10, 1\n",
    "df_coefs = {}\n",
    "\n",
    "ax = plt.subplot()\n",
    "ax.set_xscale(\"log\", basex=10)\n",
    "for s in stocks:\n",
    "    df_coef = pd.DataFrame(index=cs)\n",
    "    df_coef['roc'] = np.zeros(len(df_coef))\n",
    "    for c in coeffs:\n",
    "        best_idx = df_params[s]['score'].idxmax()\n",
    "        reg_svm = svm_classification(dfs[s], 'sigmoid', C=df_params[s].iloc[best_idx]['c'], \n",
    "                                     gamma=df_params[s].iloc[best_idx]['gamma'], coef0=c)\n",
    "        pred_svm_out_of_sample = reg_svm.predict(dfs_cv[s]['queue_imbalance'].values.reshape(-1, 1))\n",
    "        logit_roc_auc = roc_auc_score(dfs_cv[s]['mid_price_indicator'], pred_svm_out_of_sample)\n",
    "        df_coef.loc[c] = logit_roc_auc\n",
    "    plt.plot(df_coef, linestyle='--', label=s, marker='x', alpha=0.5)\n",
    "    df_coefs[s] = df_coef\n",
    "\n",
    "plt.legend()"
   ]
  },
  {
   "cell_type": "markdown",
   "metadata": {},
   "source": [
    "##### Best values of coef0\n",
    "\n",
    "The value of coef0 should be rather small - less than 0.5."
   ]
  },
  {
   "cell_type": "code",
   "execution_count": null,
   "metadata": {},
   "outputs": [],
   "source": [
    "for s in stocks:\n",
    "    idx = df_coefs[s]['roc'].idxmax()\n",
    "    print('For {} the best is {}'.format(s, idx))"
   ]
  },
  {
   "cell_type": "markdown",
   "metadata": {},
   "source": [
    "##### Influence of coef0\n",
    "\n",
    "For all stocks choice of coef0 is significant, it can make even 0.5 difference."
   ]
  },
  {
   "cell_type": "code",
   "execution_count": null,
   "metadata": {},
   "outputs": [],
   "source": [
    "for s in stocks:\n",
    "    err_max = df_coefs[s]['roc'].max()\n",
    "    err_min = df_coefs[s]['roc'].min()\n",
    "    print('For {} the diff between best and worst {}'.format(s, err_max - err_min))"
   ]
  },
  {
   "cell_type": "markdown",
   "metadata": {},
   "source": [
    "#### Best params so far"
   ]
  },
  {
   "cell_type": "code",
   "execution_count": null,
   "metadata": {},
   "outputs": [],
   "source": [
    "print(s, '\\t', 'C', '\\t', 'gamma', '\\t', 'coef0')\n",
    "    \n",
    "for s in stocks:\n",
    "    print(s, '\\t', df_css[s]['roc'].idxmax(), '\\t', df_gammas[s]['roc'].idxmax(), \n",
    "          '\\t', df_coefs[s]['roc'].idxmax())"
   ]
  },
  {
   "cell_type": "code",
   "execution_count": null,
   "metadata": {},
   "outputs": [],
   "source": [
    "df_params_coef = {}\n",
    "for s in stocks:\n",
    "    print(s)\n",
    "    params = []\n",
    "    for idx, row in df_params[s].iterrows():\n",
    "        for coef in coeffs:\n",
    "            reg_svm = svm_classification(dfs[s], 'sigmoid', C=row['c'], \n",
    "                                         gamma=row['gamma'], coef0=coef)\n",
    "            prediction = reg_svm.predict(dfs_cv[s]['queue_imbalance'].values.reshape(-1, 1))\n",
    "            score = roc_auc_score(dfs_cv[s]['mid_price_indicator'], prediction)\n",
    "            params.append({'score': score, 'gamma': row['gamma'], 'c': row['c'], 'coef0': coef})\n",
    "    df_params_coef[s] = pd.DataFrame(params)\n",
    "    print(df_params_coef[s]['score'].idxmax())\n",
    "\n",
    "    "
   ]
  },
  {
   "cell_type": "code",
   "execution_count": null,
   "metadata": {},
   "outputs": [],
   "source": [
    "df_params_coef[stocks[0]].sort_values(by='score', \n",
    "                                      ascending=False)[df_params_coef[\n",
    "    stocks[0]]['score']> 0.53]"
   ]
  },
  {
   "cell_type": "markdown",
   "metadata": {},
   "source": [
    "# Results\n",
    "\n",
    "We compare reults of SVMs with the best choices of parameter against the logistic regression and SVM with defaults.\n",
    "\n",
    "We will use naive approach - for each stock we will just pick the best values we found in the previous section."
   ]
  },
  {
   "cell_type": "markdown",
   "metadata": {},
   "source": [
    "#### Naive approach\n",
    "\n",
    "We pick the best **C** parameter and the best **gamma** separately from the results of [section above](#Methodology), which were obtained using cross-validation set. The **coef0** parameter \"depend\" of the choice of the rest of parameters.\n",
    "\n",
    "For 3 stocks the results are quite good, the rest is very bad."
   ]
  },
  {
   "cell_type": "code",
   "execution_count": null,
   "metadata": {
    "collapsed": true
   },
   "outputs": [],
   "source": [
    "df_results = pd.DataFrame(index=stocks)\n",
    "df_results['logistic'] = np.zeros(len(stocks))\n",
    "df_results['sigmoid-tunned'] = np.zeros(len(stocks))\n",
    "df_results['c-tunned'] = np.zeros(len(stocks))\n",
    "df_results['coef-tunned'] = np.zeros(len(stocks))\n",
    "df_results['gamma-tunned'] = np.zeros(len(stocks))"
   ]
  },
  {
   "cell_type": "code",
   "execution_count": null,
   "metadata": {},
   "outputs": [],
   "source": [
    "plt.subplot(121)\n",
    "\n",
    "for s in stocks:\n",
    "    best_idx = df_params_coef[s]['score'].idxmax()\n",
    "    c = df_params_coef[s].iloc[best_idx]['c']\n",
    "    gamma = df_params_coef[s].iloc[best_idx]['gamma']\n",
    "    coef0 = df_params_coef[s].iloc[best_idx]['coef0']\n",
    "    print(c, gamma, coef0)\n",
    "    df_results['c-tunned'][s] = c\n",
    "    df_results['coef-tunned'][s] = coef0\n",
    "    df_results['gamma-tunned'][s] = gamma\n",
    "    \n",
    "    reg_svm = svm_classification(\n",
    "        dfs[s], 'sigmoid', C=c, gamma=gamma, coef0=coef0)\n",
    "    roc_score = lob.plot_roc(dfs_test[s], reg_svm, stock=s, title='ROC for test set with the best params')\n",
    "    df_results['sigmoid-tunned'][s] = roc_score\n",
    "\n",
    "plt.subplot(122)\n",
    "for s in stocks:\n",
    "    reg_log = lob.logistic_regression(dfs[s], 0, len(dfs[s]))\n",
    "    roc_score = lob.plot_roc(dfs_test[s], reg_log, stock=s, title='ROC for test set with logistic')\n",
    "    df_results['logistic'][s] = roc_score\n",
    "\n",
    "plt.subplots_adjust(left=0, wspace=0.1, top=1, right=2)"
   ]
  },
  {
   "cell_type": "code",
   "execution_count": null,
   "metadata": {},
   "outputs": [],
   "source": [
    "df_results"
   ]
  },
  {
   "cell_type": "code",
   "execution_count": null,
   "metadata": {},
   "outputs": [],
   "source": [
    "for s in stocks:\n",
    "    ddd = df_params_coef[s]\n",
    "    print(s)\n",
    "    print(ddd.iloc[ddd['score'].idxmax()])\n",
    "    print()"
   ]
  },
  {
   "cell_type": "markdown",
   "metadata": {},
   "source": [
    "# Conclusions\n",
    "\n",
    "\n",
    "We didn't use valid grid approach for choosing the best parameters, so there is possibility that these parameters could be improved. For one stock **2051** we have significant improvement (even when we consider other results). For stock **11618** we have small improvement."
   ]
  },
  {
   "cell_type": "markdown",
   "metadata": {},
   "source": [
    "### Resources\n",
    "\n",
    "1. [Queue Imbalance as a One-Tick-Ahead Price Predictor in a Limit Order Book](https://arxiv.org/abs/1512.03492) <a class=\"anchor-link\" href=\"#1\">¶</a>"
   ]
  }
 ],
 "metadata": {
  "kernelspec": {
   "display_name": "Python 3",
   "language": "python",
   "name": "python3"
  },
  "language_info": {
   "codemirror_mode": {
    "name": "ipython",
    "version": 3
   },
   "file_extension": ".py",
   "mimetype": "text/x-python",
   "name": "python",
   "nbconvert_exporter": "python",
   "pygments_lexer": "ipython3",
   "version": "3.6.1"
  }
 },
 "nbformat": 4,
 "nbformat_minor": 1
}
