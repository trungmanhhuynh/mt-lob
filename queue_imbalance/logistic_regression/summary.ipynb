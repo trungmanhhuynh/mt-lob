{
 "cells": [
  {
   "cell_type": "markdown",
   "metadata": {},
   "source": [
    "# Queue Imbalance as a One-Tick-Ahead Price Predictor in LOB\n",
    "\n",
    "\n",
    "Order of this notebook is as follows:\n",
    "1. [Data](#Data)\n",
    "2. [Methodology](#Methodology)\n",
    "3. [Results](#Results)\n",
    "4. [Conclusions](#Conclusions)\n",
    "5. [Other data](#Other-data)\n",
    "\n",
    "Goal is to implement queue imbalance predictor from [[1]](#Resources)."
   ]
  },
  {
   "cell_type": "code",
   "execution_count": 1,
   "metadata": {
    "collapsed": true
   },
   "outputs": [],
   "source": [
    "%matplotlib inline\n",
    "\n",
    "import warnings\n",
    "\n",
    "import matplotlib.dates as md\n",
    "import matplotlib.pyplot as plt\n",
    "import numpy as np\n",
    "import seaborn as sns\n",
    "from lob_data_utils import lob\n",
    "from sklearn.metrics import roc_curve, roc_auc_score\n",
    "\n",
    "import pandas as pd\n",
    "from statsmodels.distributions.empirical_distribution import ECDF\n",
    "\n",
    "\n",
    "sns.set_style('whitegrid')\n",
    "warnings.filterwarnings('ignore')"
   ]
  },
  {
   "cell_type": "markdown",
   "metadata": {},
   "source": [
    "# Data\n",
    "\n",
    "We use data from 5 stocks from 2013-09 - 2013-11. The market is open between 8-16 on weekdays, so we use the data from 9-15 to avoid having data affected by the abnormal trading behaviour, which usually occurs right after opening or closing auction. The tick size is $\\pi = 0.01$ for the market, but the *relative tick size*(the ratio between stock price and $\\pi$) for each stock differs.\n",
    "\n",
    "To each stock data we introduce:\n",
    "\n",
    "* bid price: $$ b(t) := \\underset{\\{x \\in bidList(t) \\}}{\\max} x.price $$\n",
    "* ask price: $$ a(t) := \\underset{\\{x \\in askList(t)\\}}{\\min} x.price $$\n",
    "\n",
    "* total size of active buy orders: $$ n^{b}(p, t) = \\sum_{\\{x \\in buyList(t), p_x = p\\}} x.volumen $$\n",
    "\n",
    "* total size of active sell orders: $$ n^{a}(p, t) = \\sum_{\\{x \\in askList(t), p_x = p\\}} x.volumen $$\n",
    "\n",
    "\n",
    "* mid price: $$ m(t) := \\frac{a(t) + b(t)}{2} $$\n",
    "\n",
    "* queue imbalance: $$ I(t) := \\frac{n^b (b_t , t) - n^a (a_t, t)}{n^b (b_t , t) + n^a (a_t, t)} $$ where $a_t$ and $b_t$ are ask and bid prices for time $t$ respectively.\n",
    "\n",
    "* mid price indicator: $$ y_i = \\begin{cases} 1 & \\text{if} & m(t_i) > m(t_{i-1})\\\\ 0 & \\text{if} & m(t_i) < m(t_{i-1})\\\\ \\end{cases} $$\n",
    "\n",
    "Based on the **queue imbalance** we will try to predict **mid price indicator**"
   ]
  },
  {
   "cell_type": "code",
   "execution_count": 2,
   "metadata": {},
   "outputs": [],
   "source": [
    "dfs = {}\n",
    "dfs_test = {}\n",
    "stocks = ['9061', '9062', '9063', '9064', '9065']\n",
    "\n",
    "for s in stocks:\n",
    "    d, d_test = lob.load_prepared_data(s, data_dir='../data/prepared/', length=None)\n",
    "    dfs[s] = d\n",
    "    dfs_test[s] = d_test"
   ]
  },
  {
   "cell_type": "markdown",
   "metadata": {},
   "source": [
    "### Description of DataFrame\n",
    "\n",
    "The data is indexed with time $t$.\n",
    "\n",
    "* `bid` - bid queue\n",
    "* `ask` - ask queue\n",
    "* `bid_price` - bid price $b(t)$\n",
    "* `ask_price` - ask price $a(t)$\n",
    "* `mid_price` - mid price $m(t)$\n",
    "* `sum_sell_ask` - total size of active sell orders for ask price  $ n^{a}(a(t), t) $\n",
    "* `sum_buy_bid` - total size of active buy orders for bid price  $ n^{b}(b(t), t) $\n",
    "* `mid_price_indicator` - the indicator if the mid price will rise in the **next** time tick\n",
    "* `queue_imbalance` - $I(t)$"
   ]
  },
  {
   "cell_type": "code",
   "execution_count": 3,
   "metadata": {},
   "outputs": [
    {
     "data": {
      "text/html": [
       "<div>\n",
       "<style scoped>\n",
       "    .dataframe tbody tr th:only-of-type {\n",
       "        vertical-align: middle;\n",
       "    }\n",
       "\n",
       "    .dataframe tbody tr th {\n",
       "        vertical-align: top;\n",
       "    }\n",
       "\n",
       "    .dataframe thead th {\n",
       "        text-align: right;\n",
       "    }\n",
       "</style>\n",
       "<table border=\"1\" class=\"dataframe\">\n",
       "  <thead>\n",
       "    <tr style=\"text-align: right;\">\n",
       "      <th></th>\n",
       "      <th>Unnamed: 0</th>\n",
       "      <th>bid</th>\n",
       "      <th>ask</th>\n",
       "      <th>bid_price</th>\n",
       "      <th>ask_price</th>\n",
       "      <th>mid_price</th>\n",
       "      <th>sum_sell_ask</th>\n",
       "      <th>sum_buy_bid</th>\n",
       "      <th>mid_price_indicator</th>\n",
       "      <th>queue_imbalance</th>\n",
       "    </tr>\n",
       "  </thead>\n",
       "  <tbody>\n",
       "    <tr>\n",
       "      <th>3449</th>\n",
       "      <td>2013-09-16 13:05:00</td>\n",
       "      <td>[(550.0, 6364.0), (615.0, 273.0), (630.0, 1510...</td>\n",
       "      <td>[(706.2, 5181.0), (706.3, 9406.0), (706.4, 154...</td>\n",
       "      <td>706.0</td>\n",
       "      <td>706.2</td>\n",
       "      <td>706.10</td>\n",
       "      <td>5181.0</td>\n",
       "      <td>5261.0</td>\n",
       "      <td>0.0</td>\n",
       "      <td>0.007661</td>\n",
       "    </tr>\n",
       "    <tr>\n",
       "      <th>3450</th>\n",
       "      <td>2013-09-16 13:07:00</td>\n",
       "      <td>[(550.0, 6364.0), (615.0, 273.0), (630.0, 1510...</td>\n",
       "      <td>[(706.1, 7224.0), (706.2, 16599.0), (706.3, 26...</td>\n",
       "      <td>705.8</td>\n",
       "      <td>706.1</td>\n",
       "      <td>705.95</td>\n",
       "      <td>7224.0</td>\n",
       "      <td>5045.0</td>\n",
       "      <td>0.0</td>\n",
       "      <td>-0.177602</td>\n",
       "    </tr>\n",
       "    <tr>\n",
       "      <th>3451</th>\n",
       "      <td>2013-09-16 13:08:00</td>\n",
       "      <td>[(550.0, 6364.0), (615.0, 273.0), (630.0, 1510...</td>\n",
       "      <td>[(705.9, 582.0), (706.0, 11310.0), (706.1, 105...</td>\n",
       "      <td>705.7</td>\n",
       "      <td>705.9</td>\n",
       "      <td>705.80</td>\n",
       "      <td>582.0</td>\n",
       "      <td>2000.0</td>\n",
       "      <td>0.0</td>\n",
       "      <td>0.549187</td>\n",
       "    </tr>\n",
       "    <tr>\n",
       "      <th>3452</th>\n",
       "      <td>2013-09-16 13:09:00</td>\n",
       "      <td>[(550.0, 6364.0), (615.0, 273.0), (630.0, 1510...</td>\n",
       "      <td>[(705.8, 5031.0), (705.9, 8507.0), (706.0, 138...</td>\n",
       "      <td>705.6</td>\n",
       "      <td>705.8</td>\n",
       "      <td>705.70</td>\n",
       "      <td>5031.0</td>\n",
       "      <td>1292.0</td>\n",
       "      <td>0.0</td>\n",
       "      <td>-0.591333</td>\n",
       "    </tr>\n",
       "    <tr>\n",
       "      <th>3453</th>\n",
       "      <td>2013-09-16 13:10:00</td>\n",
       "      <td>[(550.0, 6364.0), (615.0, 273.0), (630.0, 1510...</td>\n",
       "      <td>[(705.6, 7042.0), (705.7, 14234.0), (705.8, 25...</td>\n",
       "      <td>705.3</td>\n",
       "      <td>705.6</td>\n",
       "      <td>705.45</td>\n",
       "      <td>7042.0</td>\n",
       "      <td>5785.0</td>\n",
       "      <td>0.0</td>\n",
       "      <td>-0.097996</td>\n",
       "    </tr>\n",
       "    <tr>\n",
       "      <th>3454</th>\n",
       "      <td>2013-09-16 13:11:00</td>\n",
       "      <td>[(550.0, 6364.0), (615.0, 273.0), (630.0, 1510...</td>\n",
       "      <td>[(705.0, 8155.0), (705.1, 8139.0), (705.2, 114...</td>\n",
       "      <td>704.8</td>\n",
       "      <td>705.0</td>\n",
       "      <td>704.90</td>\n",
       "      <td>8155.0</td>\n",
       "      <td>7191.0</td>\n",
       "      <td>1.0</td>\n",
       "      <td>-0.062818</td>\n",
       "    </tr>\n",
       "    <tr>\n",
       "      <th>3455</th>\n",
       "      <td>2013-09-16 13:12:00</td>\n",
       "      <td>[(550.0, 6364.0), (615.0, 273.0), (630.0, 1510...</td>\n",
       "      <td>[(705.2, 2345.0), (705.3, 9873.0), (705.4, 106...</td>\n",
       "      <td>705.0</td>\n",
       "      <td>705.2</td>\n",
       "      <td>705.10</td>\n",
       "      <td>2345.0</td>\n",
       "      <td>6808.0</td>\n",
       "      <td>0.0</td>\n",
       "      <td>0.487600</td>\n",
       "    </tr>\n",
       "    <tr>\n",
       "      <th>3456</th>\n",
       "      <td>2013-09-16 13:13:00</td>\n",
       "      <td>[(550.0, 6364.0), (615.0, 273.0), (630.0, 1510...</td>\n",
       "      <td>[(705.1, 8309.0), (705.2, 15273.0), (705.3, 12...</td>\n",
       "      <td>704.9</td>\n",
       "      <td>705.1</td>\n",
       "      <td>705.00</td>\n",
       "      <td>8309.0</td>\n",
       "      <td>5283.0</td>\n",
       "      <td>0.0</td>\n",
       "      <td>-0.222631</td>\n",
       "    </tr>\n",
       "    <tr>\n",
       "      <th>3457</th>\n",
       "      <td>2013-09-16 13:14:00</td>\n",
       "      <td>[(550.0, 6364.0), (615.0, 273.0), (630.0, 1510...</td>\n",
       "      <td>[(705.0, 1504.0), (705.1, 14844.0), (705.2, 10...</td>\n",
       "      <td>704.7</td>\n",
       "      <td>705.0</td>\n",
       "      <td>704.85</td>\n",
       "      <td>1504.0</td>\n",
       "      <td>4644.0</td>\n",
       "      <td>1.0</td>\n",
       "      <td>0.510735</td>\n",
       "    </tr>\n",
       "    <tr>\n",
       "      <th>3458</th>\n",
       "      <td>2013-09-16 13:15:00</td>\n",
       "      <td>[(550.0, 6364.0), (615.0, 273.0), (630.0, 1510...</td>\n",
       "      <td>[(705.1, 3365.0), (705.2, 8269.0), (705.3, 103...</td>\n",
       "      <td>704.9</td>\n",
       "      <td>705.1</td>\n",
       "      <td>705.00</td>\n",
       "      <td>3365.0</td>\n",
       "      <td>3000.0</td>\n",
       "      <td>1.0</td>\n",
       "      <td>-0.057345</td>\n",
       "    </tr>\n",
       "  </tbody>\n",
       "</table>\n",
       "</div>"
      ],
      "text/plain": [
       "               Unnamed: 0                                                bid  \\\n",
       "3449  2013-09-16 13:05:00  [(550.0, 6364.0), (615.0, 273.0), (630.0, 1510...   \n",
       "3450  2013-09-16 13:07:00  [(550.0, 6364.0), (615.0, 273.0), (630.0, 1510...   \n",
       "3451  2013-09-16 13:08:00  [(550.0, 6364.0), (615.0, 273.0), (630.0, 1510...   \n",
       "3452  2013-09-16 13:09:00  [(550.0, 6364.0), (615.0, 273.0), (630.0, 1510...   \n",
       "3453  2013-09-16 13:10:00  [(550.0, 6364.0), (615.0, 273.0), (630.0, 1510...   \n",
       "3454  2013-09-16 13:11:00  [(550.0, 6364.0), (615.0, 273.0), (630.0, 1510...   \n",
       "3455  2013-09-16 13:12:00  [(550.0, 6364.0), (615.0, 273.0), (630.0, 1510...   \n",
       "3456  2013-09-16 13:13:00  [(550.0, 6364.0), (615.0, 273.0), (630.0, 1510...   \n",
       "3457  2013-09-16 13:14:00  [(550.0, 6364.0), (615.0, 273.0), (630.0, 1510...   \n",
       "3458  2013-09-16 13:15:00  [(550.0, 6364.0), (615.0, 273.0), (630.0, 1510...   \n",
       "\n",
       "                                                    ask  bid_price  ask_price  \\\n",
       "3449  [(706.2, 5181.0), (706.3, 9406.0), (706.4, 154...      706.0      706.2   \n",
       "3450  [(706.1, 7224.0), (706.2, 16599.0), (706.3, 26...      705.8      706.1   \n",
       "3451  [(705.9, 582.0), (706.0, 11310.0), (706.1, 105...      705.7      705.9   \n",
       "3452  [(705.8, 5031.0), (705.9, 8507.0), (706.0, 138...      705.6      705.8   \n",
       "3453  [(705.6, 7042.0), (705.7, 14234.0), (705.8, 25...      705.3      705.6   \n",
       "3454  [(705.0, 8155.0), (705.1, 8139.0), (705.2, 114...      704.8      705.0   \n",
       "3455  [(705.2, 2345.0), (705.3, 9873.0), (705.4, 106...      705.0      705.2   \n",
       "3456  [(705.1, 8309.0), (705.2, 15273.0), (705.3, 12...      704.9      705.1   \n",
       "3457  [(705.0, 1504.0), (705.1, 14844.0), (705.2, 10...      704.7      705.0   \n",
       "3458  [(705.1, 3365.0), (705.2, 8269.0), (705.3, 103...      704.9      705.1   \n",
       "\n",
       "      mid_price  sum_sell_ask  sum_buy_bid  mid_price_indicator  \\\n",
       "3449     706.10        5181.0       5261.0                  0.0   \n",
       "3450     705.95        7224.0       5045.0                  0.0   \n",
       "3451     705.80         582.0       2000.0                  0.0   \n",
       "3452     705.70        5031.0       1292.0                  0.0   \n",
       "3453     705.45        7042.0       5785.0                  0.0   \n",
       "3454     704.90        8155.0       7191.0                  1.0   \n",
       "3455     705.10        2345.0       6808.0                  0.0   \n",
       "3456     705.00        8309.0       5283.0                  0.0   \n",
       "3457     704.85        1504.0       4644.0                  1.0   \n",
       "3458     705.00        3365.0       3000.0                  1.0   \n",
       "\n",
       "      queue_imbalance  \n",
       "3449         0.007661  \n",
       "3450        -0.177602  \n",
       "3451         0.549187  \n",
       "3452        -0.591333  \n",
       "3453        -0.097996  \n",
       "3454        -0.062818  \n",
       "3455         0.487600  \n",
       "3456        -0.222631  \n",
       "3457         0.510735  \n",
       "3458        -0.057345  "
      ]
     },
     "execution_count": 3,
     "metadata": {},
     "output_type": "execute_result"
    }
   ],
   "source": [
    "dfs['9061'].head(10)"
   ]
  },
  {
   "cell_type": "markdown",
   "metadata": {
    "collapsed": true
   },
   "source": [
    "### Stock characteristic\n",
    "\n",
    "For each stock we want to know how the can compare the *relative tick size* as the authors of [[1]](#Resources) saw it's is relevant for predictions. They decided that stocks are: \n",
    "\n",
    "* *large-tick stocks* when **maximal trade price** was below $50.00$\n",
    "* *small-tick stocks* when **minimal trade price** was above $100.00$\n",
    "\n",
    "They found out that the stocks which were between these two tresholds could behave similarily to both of these groups. \n",
    "    \n",
    "The means of $n^{b}(b(t), t)$ and $n^{a}(a(t), t)$ for:\n",
    "\n",
    "* *large-tick* stocks were above 3000 \n",
    "* *small-tick* stocks were below 200\n",
    "\n",
    "The bid ask spread for:\n",
    "\n",
    "* *large-tick* stocks was below 0.02\n",
    "* *small-tick* stocks was above 0.2\n",
    "\n",
    "### Tick sizes for our data\n",
    "\n",
    "* 9061 - looks like intermediate tick, but behaves like small\n",
    "* 9062 - small tick\n",
    "* 9063 - small tick\n",
    "* 9064 - intermediate tick\n",
    "* 9065 - small tick"
   ]
  },
  {
   "cell_type": "code",
   "execution_count": 4,
   "metadata": {},
   "outputs": [
    {
     "data": {
      "text/html": [
       "<div>\n",
       "<style scoped>\n",
       "    .dataframe tbody tr th:only-of-type {\n",
       "        vertical-align: middle;\n",
       "    }\n",
       "\n",
       "    .dataframe tbody tr th {\n",
       "        vertical-align: top;\n",
       "    }\n",
       "\n",
       "    .dataframe thead th {\n",
       "        text-align: right;\n",
       "    }\n",
       "</style>\n",
       "<table border=\"1\" class=\"dataframe\">\n",
       "  <thead>\n",
       "    <tr style=\"text-align: right;\">\n",
       "      <th></th>\n",
       "      <th>sum_sell_ask_mean</th>\n",
       "      <th>sum_buy_bid_mean</th>\n",
       "      <th>max_trade_price</th>\n",
       "      <th>min_trade_price</th>\n",
       "      <th>bid_ask_spread</th>\n",
       "    </tr>\n",
       "  </thead>\n",
       "  <tbody>\n",
       "    <tr>\n",
       "      <th>9061</th>\n",
       "      <td>6568.618150</td>\n",
       "      <td>7020.150333</td>\n",
       "      <td>730.20</td>\n",
       "      <td>662.30</td>\n",
       "      <td>0.169701</td>\n",
       "    </tr>\n",
       "    <tr>\n",
       "      <th>9062</th>\n",
       "      <td>941.166085</td>\n",
       "      <td>958.608717</td>\n",
       "      <td>3405.00</td>\n",
       "      <td>2937.00</td>\n",
       "      <td>1.020939</td>\n",
       "    </tr>\n",
       "    <tr>\n",
       "      <th>9063</th>\n",
       "      <td>8143.136539</td>\n",
       "      <td>7618.765707</td>\n",
       "      <td>510.10</td>\n",
       "      <td>427.05</td>\n",
       "      <td>0.093358</td>\n",
       "    </tr>\n",
       "    <tr>\n",
       "      <th>9064</th>\n",
       "      <td>28743.289513</td>\n",
       "      <td>27628.562902</td>\n",
       "      <td>80.88</td>\n",
       "      <td>72.70</td>\n",
       "      <td>0.024897</td>\n",
       "    </tr>\n",
       "    <tr>\n",
       "      <th>9065</th>\n",
       "      <td>6467.640279</td>\n",
       "      <td>6594.272798</td>\n",
       "      <td>1695.50</td>\n",
       "      <td>1536.00</td>\n",
       "      <td>0.662835</td>\n",
       "    </tr>\n",
       "  </tbody>\n",
       "</table>\n",
       "</div>"
      ],
      "text/plain": [
       "      sum_sell_ask_mean  sum_buy_bid_mean  max_trade_price  min_trade_price  \\\n",
       "9061        6568.618150       7020.150333           730.20           662.30   \n",
       "9062         941.166085        958.608717          3405.00          2937.00   \n",
       "9063        8143.136539       7618.765707           510.10           427.05   \n",
       "9064       28743.289513      27628.562902            80.88            72.70   \n",
       "9065        6467.640279       6594.272798          1695.50          1536.00   \n",
       "\n",
       "      bid_ask_spread  \n",
       "9061        0.169701  \n",
       "9062        1.020939  \n",
       "9063        0.093358  \n",
       "9064        0.024897  \n",
       "9065        0.662835  "
      ]
     },
     "execution_count": 4,
     "metadata": {},
     "output_type": "execute_result"
    }
   ],
   "source": [
    "df_summary = pd.DataFrame(index=stocks)\n",
    "sum_sell_ask_mean = []\n",
    "sum_buy_bid_mean = []\n",
    "max_trade_price = []\n",
    "min_trade_price = []\n",
    "bid_ask_spread = []\n",
    "\n",
    "for s in stocks:\n",
    "    sum_sell_ask_mean.append(dfs[s]['sum_sell_ask'].mean())\n",
    "    sum_buy_bid_mean.append(dfs[s]['sum_buy_bid'].mean())\n",
    "    max_trade_price.append(max( dfs[s]['bid_price'].max(), dfs[s]['ask_price'].max()))\n",
    "    min_trade_price.append(max( dfs[s]['bid_price'].min(), dfs[s]['ask_price'].min()))\n",
    "    bid_ask_spread.append((dfs[s]['ask_price'] - dfs[s]['bid_price']).mean())\n",
    "\n",
    "df_summary['sum_sell_ask_mean'] = sum_sell_ask_mean\n",
    "df_summary['sum_buy_bid_mean'] = sum_buy_bid_mean\n",
    "df_summary['max_trade_price'] = max_trade_price\n",
    "df_summary['min_trade_price'] = min_trade_price\n",
    "df_summary['bid_ask_spread'] = bid_ask_spread\n",
    "df_summary.head()"
   ]
  },
  {
   "cell_type": "markdown",
   "metadata": {},
   "source": [
    "# Methodology \n",
    "\n",
    "We perform classification using logistic regression and svm.\n",
    "\n",
    "### Sample construction\n",
    "\n",
    "As the authors of the [[1]](#Resources) didn't see difference in sampling in-between data samples we stick to the original timestamps of the events. We also tried to pick 100 samples per day, but it didn't lead to better results.\n",
    "\n",
    "### Data in-sample and out-of-sample\n",
    "\n",
    "Test set is 20% of data we have, the rest 80% is training set - we pick data from first two weeks of 2013-09 as test data. \n",
    "\n",
    "The authors used 25200 data points per stock, we have about 12000 per stock. Authors randomly picked the time range with 20% of data for training set. They picked randomly about 100 points for each day instead of using all the data they had.\n",
    "\n",
    "We tried to do similar sampling, but with 200 and 300 points per day, it didn't bring any different results. But we have data for only 2 months, instead of 12 months, so this approach cuts the amount of data drastically.\n",
    "\n",
    "### Formulating predictions with logistic regression\n",
    "\n",
    "We perform a logistic regression of mid price indicator $y$ based on queue imbalance $I$. Specifically, we use the data in our training set to calculate\n",
    "maximum likelihood estimates of the coefficients $x_0$ and $x_1$:\n",
    "\n",
    "$$ \\hat{y}(I) = \\frac{1}{1 + e^{-(x_0 + Ix_1 )}}$$\n",
    "\n",
    "If $\\hat{y}(I) > \\frac{1}{2}$ we predict that the mid price will raise in the next tick."
   ]
  },
  {
   "cell_type": "code",
   "execution_count": 5,
   "metadata": {
    "collapsed": true
   },
   "outputs": [],
   "source": [
    "reg = {}\n",
    "reg_svm = {}\n",
    "\n",
    "for s in stocks:\n",
    "    reg[s] = lob.logistic_regression(dfs[s], 0, len(dfs[s]))\n",
    "    reg_svm[s] = lob.svm_classification(dfs[s], 0, len(dfs[s]))"
   ]
  },
  {
   "cell_type": "code",
   "execution_count": 6,
   "metadata": {
    "collapsed": true
   },
   "outputs": [],
   "source": [
    "pred_in_sample = {}\n",
    "pred_out_of_sample = {}\n",
    "for s in stocks:\n",
    "    pred_in_sample[s] = reg[s].predict(dfs[s]['queue_imbalance'].values.reshape(-1, 1))\n",
    "    pred_out_of_sample[s] = reg[s].predict(dfs_test[s]['queue_imbalance'].values.reshape(-1, 1))\n",
    "    \n",
    "pred_svm_in_sample = {}\n",
    "pred_svm_out_of_sample = {}\n",
    "for s in stocks:\n",
    "    pred_svm_in_sample[s] = reg_svm[s].predict(dfs[s]['queue_imbalance'].values.reshape(-1, 1))\n",
    "    pred_svm_out_of_sample[s] = reg_svm[s].predict(dfs_test[s]['queue_imbalance'].values.reshape(-1, 1))"
   ]
  },
  {
   "cell_type": "markdown",
   "metadata": {},
   "source": [
    "# Results"
   ]
  },
  {
   "cell_type": "markdown",
   "metadata": {},
   "source": [
    "## Distribution of $I$\n",
    "\n",
    "### Denisty plot\n",
    "\n",
    "From the queue imbalance density plot we can see that we can observe wide range of imbalances between $-\\frac{1}{2}$ and $\\frac{1}{2}$ for **9061**, **9062**, **9064** and it decays outside this range. It looks more like *large-tick stock* imbalance distribution from the [[1]](#Resources). \n",
    "\n",
    "The **9062** is not smooth.\n",
    "The **9063** is more assymetric. \n",
    "The **9065** is more steep than the rest."
   ]
  },
  {
   "cell_type": "code",
   "execution_count": 7,
   "metadata": {},
   "outputs": [
    {
     "data": {
      "text/plain": [
       "Text(0.5, 1.0, 'Queue imbalance density')"
      ]
     },
     "execution_count": 7,
     "metadata": {},
     "output_type": "execute_result"
    },
    {
     "data": {
      "image/png": "[encoded data removed]",
      "text/plain": [
       "<Figure size 432x288 with 1 Axes>"
      ]
     },
     "metadata": {},
     "output_type": "display_data"
    }
   ],
   "source": [
    "for s in stocks:\n",
    "    sns.kdeplot(np.array(dfs[s]['queue_imbalance']), label=s)\n",
    "\n",
    "plt.legend()\n",
    "plt.xlabel('Queue imbalance')\n",
    "plt.ylabel('Density')\n",
    "plt.title('Queue imbalance density')"
   ]
  },
  {
   "cell_type": "markdown",
   "metadata": {},
   "source": [
    "### ECDF curve\n",
    "\n",
    "The ECDF (emprical cumulative density functions) curve of the bid and ask prices queue lengths is smooth, which indicates that the queues lengths differ. \n",
    "\n",
    "For the **9062** it explains why it is not so pleated - it has an steep artifact near $(100, 0.95)$."
   ]
  },
  {
   "cell_type": "code",
   "execution_count": 8,
   "metadata": {},
   "outputs": [
    {
     "data": {
      "text/plain": [
       "Text(0.5, 1.0, 'Bid-Ask queue ECDF')"
      ]
     },
     "execution_count": 8,
     "metadata": {},
     "output_type": "execute_result"
    },
    {
     "data": {
      "image/png": "[encoded data removed]",
      "text/plain": [
       "<Figure size 432x288 with 1 Axes>"
      ]
     },
     "metadata": {},
     "output_type": "display_data"
    }
   ],
   "source": [
    "ax = plt.subplot()\n",
    "ax.set_xscale(\"log\", basex=100)\n",
    "for s in stocks:\n",
    "    ecdf = ECDF(np.append(dfs[s]['sum_buy_bid'], dfs[s]['sum_sell_ask']))\n",
    "    e = 1 - ecdf.y\n",
    "    plt.plot(ecdf.x, e, label=s)\n",
    "plt.legend()\n",
    "plt.ylabel('1 - ECDF')\n",
    "plt.xlabel('Accumulative ask queue length')\n",
    "plt.title('Bid-Ask queue ECDF')"
   ]
  },
  {
   "cell_type": "markdown",
   "metadata": {},
   "source": [
    "## Logistic Regression fits\n",
    "\n",
    "\n",
    "### Likelihood estimates\n",
    "$$ \\hat{y}(I) = \\frac{1}{1 + e^{-(x_0 + Ix_1 )}}$$\n",
    "\n",
    "We can see that $x_0$ value is small - this suggests that there is a symmetric behaviour in terms of buying and selling activity.\n",
    "\n",
    "The $x_1$ is positive in each case.\n",
    "This implies that the logistic regression line is an increasing function. So that \n",
    "suggests that the larger the queue imbalance, the higher the probability that the next mid-price will go up.\n",
    "\n",
    "In [[1]](#Resources) the authors noticed that the fitted values of $x_1$ are much larger for large-tick stocks (for which\n",
    "they vary from about 2 to about 3) than for small-tick stocks (for which they\n",
    "vary from about 0.5 to about 0.8)."
   ]
  },
  {
   "cell_type": "code",
   "execution_count": 9,
   "metadata": {},
   "outputs": [
    {
     "data": {
      "text/html": [
       "<div>\n",
       "<style scoped>\n",
       "    .dataframe tbody tr th:only-of-type {\n",
       "        vertical-align: middle;\n",
       "    }\n",
       "\n",
       "    .dataframe tbody tr th {\n",
       "        vertical-align: top;\n",
       "    }\n",
       "\n",
       "    .dataframe thead th {\n",
       "        text-align: right;\n",
       "    }\n",
       "</style>\n",
       "<table border=\"1\" class=\"dataframe\">\n",
       "  <thead>\n",
       "    <tr style=\"text-align: right;\">\n",
       "      <th></th>\n",
       "      <th>x1</th>\n",
       "      <th>x0</th>\n",
       "    </tr>\n",
       "  </thead>\n",
       "  <tbody>\n",
       "    <tr>\n",
       "      <th>9061</th>\n",
       "      <td>0.179718</td>\n",
       "      <td>-0.017201</td>\n",
       "    </tr>\n",
       "    <tr>\n",
       "      <th>9062</th>\n",
       "      <td>0.111462</td>\n",
       "      <td>-0.018780</td>\n",
       "    </tr>\n",
       "    <tr>\n",
       "      <th>9063</th>\n",
       "      <td>0.219367</td>\n",
       "      <td>-0.016133</td>\n",
       "    </tr>\n",
       "    <tr>\n",
       "      <th>9064</th>\n",
       "      <td>0.386332</td>\n",
       "      <td>0.031302</td>\n",
       "    </tr>\n",
       "    <tr>\n",
       "      <th>9065</th>\n",
       "      <td>0.588597</td>\n",
       "      <td>-0.003519</td>\n",
       "    </tr>\n",
       "  </tbody>\n",
       "</table>\n",
       "</div>"
      ],
      "text/plain": [
       "            x1        x0\n",
       "9061  0.179718 -0.017201\n",
       "9062  0.111462 -0.018780\n",
       "9063  0.219367 -0.016133\n",
       "9064  0.386332  0.031302\n",
       "9065  0.588597 -0.003519"
      ]
     },
     "execution_count": 9,
     "metadata": {},
     "output_type": "execute_result"
    }
   ],
   "source": [
    "df_reg = pd.DataFrame(index=stocks)\n",
    "x1 = []\n",
    "x0 = []\n",
    "for s in stocks:\n",
    "    x1.append(reg[s].coef_[0][0])\n",
    "    x0.append(reg[s].intercept_[0])\n",
    "df_reg['x1'] = x1\n",
    "df_reg['x0'] = x0\n",
    "df_reg.head()"
   ]
  },
  {
   "cell_type": "markdown",
   "metadata": {},
   "source": [
    "### Fitted logistic regression curves\n",
    "\n",
    "The fitted curves are monotonically increasing. \n",
    "They look almost like a straingth lines, which is more charactersitc to the *small-tick* stocks according to [[1]](#Resources)."
   ]
  },
  {
   "cell_type": "code",
   "execution_count": 10,
   "metadata": {},
   "outputs": [
    {
     "data": {
      "text/plain": [
       "<matplotlib.legend.Legend at 0x7ff0a536dc50>"
      ]
     },
     "execution_count": 10,
     "metadata": {},
     "output_type": "execute_result"
    },
    {
     "data": {
      "image/png": "[encoded data removed]",
      "text/plain": [
       "<Figure size 432x288 with 1 Axes>"
      ]
     },
     "metadata": {},
     "output_type": "display_data"
    }
   ],
   "source": [
    "for s in stocks:\n",
    "    plt.plot(dfs[s]['queue_imbalance'].values, \n",
    "             lob.sigmoid(reg[s].coef_[0] * dfs[s]['queue_imbalance'].values + reg[s].intercept_), '-', label=s)\n",
    "plt.title('Imbalance vs mid price raise prediction fit')\n",
    "plt.xlabel('Imbalance')\n",
    "plt.ylabel('Prediction')\n",
    "plt.ylim(0, 1)\n",
    "plt.legend()"
   ]
  },
  {
   "cell_type": "markdown",
   "metadata": {},
   "source": [
    "## Assessing predictions for logistic regression\n",
    "\n",
    "### Mean square error \n",
    "\n",
    "We calculate residual $r_i$:\n",
    "\n",
    "$$ r_i = \\hat{y_i} - y_i $$\n",
    "\n",
    "We use mean square residual on testing set to assess the predictive power."
   ]
  },
  {
   "cell_type": "code",
   "execution_count": 11,
   "metadata": {},
   "outputs": [
    {
     "name": "stdout",
     "output_type": "stream",
     "text": [
      "Error for 9061 is 0.24868200314267513\n",
      "Error for 9062 is 0.24871796947187474\n",
      "Error for 9063 is 0.24757410906115332\n",
      "Error for 9064 is 0.24767916664610845\n",
      "Error for 9065 is 0.2451451524590481\n"
     ]
    }
   ],
   "source": [
    "for s in stocks:\n",
    "    err = ((dfs_test[s]['mid_price_indicator'].values - reg[s].predict_proba(\n",
    "        dfs_test[s]['queue_imbalance'].values.reshape(-1, 1))[:,1]) ** 2).mean()\n",
    "    print('Error for {} is {}'.format(s, err))"
   ]
  },
  {
   "cell_type": "markdown",
   "metadata": {},
   "source": [
    "### ROC curves\n",
    "\n",
    "We calculate the out-of-sample ROC curves and area-under-ROC-curve statistics to\n",
    "assess the predectivity power of both svm and logistic regressions."
   ]
  },
  {
   "cell_type": "code",
   "execution_count": 12,
   "metadata": {},
   "outputs": [
    {
     "ename": "AttributeError",
     "evalue": "'Series' object has no attribute 'reshape'",
     "output_type": "error",
     "traceback": [
      "\u001b[0;31m---------------------------------------------------------------------------\u001b[0m",
      "\u001b[0;31mAttributeError\u001b[0m                            Traceback (most recent call last)",
      "\u001b[0;32m<ipython-input-12-3a7b71faaae2>\u001b[0m in \u001b[0;36m<module>\u001b[0;34m()\u001b[0m\n\u001b[1;32m      2\u001b[0m     \u001b[0mlogit_roc_auc\u001b[0m \u001b[0;34m=\u001b[0m \u001b[0mroc_auc_score\u001b[0m\u001b[0;34m(\u001b[0m\u001b[0mdfs_test\u001b[0m\u001b[0;34m[\u001b[0m\u001b[0ms\u001b[0m\u001b[0;34m]\u001b[0m\u001b[0;34m[\u001b[0m\u001b[0;34m'mid_price_indicator'\u001b[0m\u001b[0;34m]\u001b[0m\u001b[0;34m,\u001b[0m \u001b[0mpred_out_of_sample\u001b[0m\u001b[0;34m[\u001b[0m\u001b[0ms\u001b[0m\u001b[0;34m]\u001b[0m\u001b[0;34m)\u001b[0m\u001b[0;34m\u001b[0m\u001b[0m\n\u001b[1;32m      3\u001b[0m     fpr, tpr, thresholds = roc_curve(dfs_test[s]['mid_price_indicator'].values, \n\u001b[0;32m----> 4\u001b[0;31m                                      reg[s].predict_proba(dfs_test[s]['queue_imbalance'].reshape(-1, 1))[:,1])\n\u001b[0m\u001b[1;32m      5\u001b[0m     \u001b[0mplt\u001b[0m\u001b[0;34m.\u001b[0m\u001b[0mplot\u001b[0m\u001b[0;34m(\u001b[0m\u001b[0mfpr\u001b[0m\u001b[0;34m,\u001b[0m \u001b[0mtpr\u001b[0m\u001b[0;34m,\u001b[0m \u001b[0mlabel\u001b[0m\u001b[0;34m=\u001b[0m\u001b[0;34m'{} (area = {})'\u001b[0m\u001b[0;34m.\u001b[0m\u001b[0mformat\u001b[0m\u001b[0;34m(\u001b[0m\u001b[0ms\u001b[0m\u001b[0;34m,\u001b[0m \u001b[0mlogit_roc_auc\u001b[0m\u001b[0;34m)\u001b[0m\u001b[0;34m)\u001b[0m\u001b[0;34m\u001b[0m\u001b[0m\n\u001b[1;32m      6\u001b[0m \u001b[0mplt\u001b[0m\u001b[0;34m.\u001b[0m\u001b[0mplot\u001b[0m\u001b[0;34m(\u001b[0m\u001b[0;34m[\u001b[0m\u001b[0;36m0\u001b[0m\u001b[0;34m,\u001b[0m \u001b[0;36m1\u001b[0m\u001b[0;34m]\u001b[0m\u001b[0;34m,\u001b[0m \u001b[0;34m[\u001b[0m\u001b[0;36m0\u001b[0m\u001b[0;34m,\u001b[0m \u001b[0;36m1\u001b[0m\u001b[0;34m]\u001b[0m\u001b[0;34m,\u001b[0m\u001b[0;34m'r--'\u001b[0m\u001b[0;34m)\u001b[0m\u001b[0;34m\u001b[0m\u001b[0m\n",
      "\u001b[0;32m/home/vevurka/.conda/envs/python36/lib/python3.6/site-packages/pandas/core/generic.py\u001b[0m in \u001b[0;36m__getattr__\u001b[0;34m(self, name)\u001b[0m\n\u001b[1;32m   4374\u001b[0m             \u001b[0;32mif\u001b[0m \u001b[0mself\u001b[0m\u001b[0;34m.\u001b[0m\u001b[0m_info_axis\u001b[0m\u001b[0;34m.\u001b[0m\u001b[0m_can_hold_identifiers_and_holds_name\u001b[0m\u001b[0;34m(\u001b[0m\u001b[0mname\u001b[0m\u001b[0;34m)\u001b[0m\u001b[0;34m:\u001b[0m\u001b[0;34m\u001b[0m\u001b[0m\n\u001b[1;32m   4375\u001b[0m                 \u001b[0;32mreturn\u001b[0m \u001b[0mself\u001b[0m\u001b[0;34m[\u001b[0m\u001b[0mname\u001b[0m\u001b[0;34m]\u001b[0m\u001b[0;34m\u001b[0m\u001b[0m\n\u001b[0;32m-> 4376\u001b[0;31m             \u001b[0;32mreturn\u001b[0m \u001b[0mobject\u001b[0m\u001b[0;34m.\u001b[0m\u001b[0m__getattribute__\u001b[0m\u001b[0;34m(\u001b[0m\u001b[0mself\u001b[0m\u001b[0;34m,\u001b[0m \u001b[0mname\u001b[0m\u001b[0;34m)\u001b[0m\u001b[0;34m\u001b[0m\u001b[0m\n\u001b[0m\u001b[1;32m   4377\u001b[0m \u001b[0;34m\u001b[0m\u001b[0m\n\u001b[1;32m   4378\u001b[0m     \u001b[0;32mdef\u001b[0m \u001b[0m__setattr__\u001b[0m\u001b[0;34m(\u001b[0m\u001b[0mself\u001b[0m\u001b[0;34m,\u001b[0m \u001b[0mname\u001b[0m\u001b[0;34m,\u001b[0m \u001b[0mvalue\u001b[0m\u001b[0;34m)\u001b[0m\u001b[0;34m:\u001b[0m\u001b[0;34m\u001b[0m\u001b[0m\n",
      "\u001b[0;31mAttributeError\u001b[0m: 'Series' object has no attribute 'reshape'"
     ]
    }
   ],
   "source": [
    "for s in stocks:\n",
    "    logit_roc_auc = roc_auc_score(dfs_test[s]['mid_price_indicator'], pred_out_of_sample[s])\n",
    "    fpr, tpr, thresholds = roc_curve(dfs_test[s]['mid_price_indicator'].values, \n",
    "                                     reg[s].predict_proba(dfs_test[s]['queue_imbalance'].reshape(-1, 1))[:,1])\n",
    "    plt.plot(fpr, tpr, label='{} (area = {})'.format(s, logit_roc_auc))\n",
    "plt.plot([0, 1], [0, 1],'r--')\n",
    "plt.xlim([0.0, 1.0])\n",
    "plt.ylim([0.0, 1.05])\n",
    "plt.xlabel('False Positive Rate')\n",
    "plt.ylabel('True Positive Rate')\n",
    "plt.title('Receiver operating characteristic')\n",
    "plt.legend(loc=\"lower right\")"
   ]
  },
  {
   "cell_type": "code",
   "execution_count": null,
   "metadata": {},
   "outputs": [],
   "source": [
    "from sklearn.metrics import classification_report\n",
    "for s in stocks:\n",
    "    print(s)\n",
    "    print(classification_report(pred_in_sample[s], dfs[s]['mid_price_indicator'].values))\n",
    "    print()"
   ]
  },
  {
   "cell_type": "markdown",
   "metadata": {
    "collapsed": true
   },
   "source": [
    "##  SVM"
   ]
  },
  {
   "cell_type": "code",
   "execution_count": null,
   "metadata": {},
   "outputs": [],
   "source": [
    "for s in stocks:\n",
    "    err = ((dfs_test[s]['mid_price_indicator'].values - reg_svm[s].predict_proba(\n",
    "        dfs_test[s]['queue_imbalance'].values.reshape(-1, 1))[:,1]) ** 2).mean()\n",
    "    print('Error for {} is {}'.format(s, err))"
   ]
  },
  {
   "cell_type": "code",
   "execution_count": null,
   "metadata": {},
   "outputs": [],
   "source": [
    "for s in stocks:\n",
    "    logit_roc_auc = roc_auc_score(dfs_test[s]['mid_price_indicator'], pred_svm_out_of_sample[s])\n",
    "    fpr, tpr, thresholds = roc_curve(dfs_test[s]['mid_price_indicator'].values, \n",
    "                                     reg_svm[s].predict_proba(dfs_test[s]['queue_imbalance'].reshape(-1, 1))[:,1])\n",
    "    plt.plot(fpr, tpr, label='{} (area = {})'.format(s, logit_roc_auc))\n",
    "plt.plot([0, 1], [0, 1],'r--')\n",
    "plt.xlim([0.0, 1.0])\n",
    "plt.ylim([0.0, 1.05])\n",
    "plt.xlabel('False Positive Rate')\n",
    "plt.ylabel('True Positive Rate')\n",
    "plt.title('Receiver operating characteristic')\n",
    "plt.legend(loc=\"lower right\")"
   ]
  },
  {
   "cell_type": "code",
   "execution_count": null,
   "metadata": {},
   "outputs": [],
   "source": [
    "for s in stocks:\n",
    "    print(s)\n",
    "    print(classification_report(pred_svm_in_sample[s], dfs[s]['mid_price_indicator']))"
   ]
  },
  {
   "cell_type": "markdown",
   "metadata": {},
   "source": [
    "# Conclusions\n",
    "\n",
    "* there is almost no difference between using SVM and logistic regression for this data sets\n",
    "* the data sets don't have characteristic tick size as the data used by authors of article [[1]](#Resources)\n",
    "* our results are a bit worse than their results for *small-tick* stocks, but we had much less data, which wasn't preprocessed so carefully (they used the data from the whole year, we use from 2 months). We cleaned the data from morning and evening events, but other outliers weren't removed."
   ]
  },
  {
   "cell_type": "markdown",
   "metadata": {},
   "source": [
    "### Resources\n",
    "\n",
    "1. [Queue Imbalance as a One-Tick-Ahead Price Predictor in a Limit Order Book](https://arxiv.org/abs/1512.03492) <a class=\"anchor-link\" href=\"#1\">¶</a>"
   ]
  },
  {
   "cell_type": "markdown",
   "metadata": {},
   "source": [
    "# Other data\n",
    "\n",
    "In this sections there are ROC plots for other data. Data and plots was generated using `roc.py` (it uses the same approach as this notebook) script."
   ]
  },
  {
   "cell_type": "markdown",
   "metadata": {},
   "source": [
    "### Stocks with the best results\n",
    "\n",
    "The stocks for which logistic regression yields the best results in terms of **roc_area** scoring."
   ]
  },
  {
   "cell_type": "code",
   "execution_count": null,
   "metadata": {},
   "outputs": [],
   "source": [
    "from roc_results import results\n",
    "\n",
    "df_roc = pd.DataFrame()\n",
    "df_roc['stock'] = results.keys()\n",
    "df_roc['roc_area'] = results.values()\n",
    "\n",
    "df_roc.sort_values(by='roc_area', ascending=False).head(5)"
   ]
  },
  {
   "cell_type": "markdown",
   "metadata": {},
   "source": [
    "### Stocks with the worst results\n",
    "\n",
    "The stocks for which logistic regression yields the worst results in terms of **roc_area** scoring."
   ]
  },
  {
   "cell_type": "code",
   "execution_count": null,
   "metadata": {},
   "outputs": [],
   "source": [
    "df_roc.sort_values(by='roc_area', ascending=True).head(5)"
   ]
  },
  {
   "cell_type": "markdown",
   "metadata": {},
   "source": [
    "### ROC Plots for all data\n",
    "\n",
    "Check files `../plots/plots_*.png`."
   ]
  }
 ],
 "metadata": {
  "kernelspec": {
   "display_name": "Python 3",
   "language": "python",
   "name": "python3"
  },
  "language_info": {
   "codemirror_mode": {
    "name": "ipython",
    "version": 3
   },
   "file_extension": ".py",
   "mimetype": "text/x-python",
   "name": "python",
   "nbconvert_exporter": "python",
   "pygments_lexer": "ipython3",
   "version": "3.6.1"
  }
 },
 "nbformat": 4,
 "nbformat_minor": 1
}
