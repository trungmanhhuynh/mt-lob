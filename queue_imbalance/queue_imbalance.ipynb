{
 "cells": [
  {
   "cell_type": "markdown",
   "metadata": {},
   "source": [
    "# Queue Imbalance as a One-Tick-Ahead Price Predictor in LOB\n",
    "\n",
    "\n",
    "Order of this notebook is as follows:\n",
    "1. [Data preparation](#Data-preparation)\n",
    "2. [Data visualization](#Data-visualization)\n",
    "3. [Predictions](#Predictions)\n",
    "4. [Conclusions](#Conclusions)\n",
    "\n",
    "Goal is to implement queue imbalance predictor from [1](#Resources)."
   ]
  },
  {
   "cell_type": "code",
   "execution_count": 8,
   "metadata": {
    "collapsed": true
   },
   "outputs": [],
   "source": [
    "import pandas as pd\n",
    "\n",
    "from typing import Tuple\n",
    "from datetime import datetime\n",
    "\n",
    "import matplotlib.pyplot as plt\n",
    "import matplotlib.dates as md\n",
    "\n",
    "import warnings\n",
    "warnings.filterwarnings('ignore')\n",
    "\n",
    "%matplotlib inline"
   ]
  },
  {
   "cell_type": "markdown",
   "metadata": {},
   "source": [
    "## Data preparation\n",
    "\n",
    "For loading data only simple parsing done in function `parse_order_book` is needed, because the data is already clean. \n",
    "\n",
    "For storing data we use `DataFrame` structure from `pandas` library. After parsing it will contain rows with columns:\n",
    "* `index` - time of datasample \n",
    "* `ask` - ask list of datasample, it contains orders as a tuple `(price, volumen)`\n",
    "* `bid` - bid list of datasample, it contains orders as a tuple `(price, volumen)`\n",
    "\n",
    "To calculate queue imbalance there will be a few additional functions needed, they are desribed below. "
   ]
  },
  {
   "cell_type": "code",
   "execution_count": 9,
   "metadata": {
    "collapsed": true
   },
   "outputs": [],
   "source": [
    "def parse_order_book(order_book: str) -> Tuple[datetime, list, list]:\n",
    "    \"\"\"\n",
    "    Input order_book row has format: 20130904 09080000 BID 2 2000 3 3000 ASK 4 4000 5 5000\n",
    "    Returns datetime of LOB, bid as a tuple (prize, number of items),\n",
    "    ask as tuple (prize, number of items)\n",
    "    \"\"\"\n",
    "    parts = order_book.split()\n",
    "    if not parts:\n",
    "        return None, [], []\n",
    "    \n",
    "    dt = datetime.strptime(parts[0] + parts[1], '%Y%m%d%H%M%S%f')\n",
    "    idx = 2 + 1 # skip string 'BID'\n",
    "    \n",
    "    bid = []\n",
    "    while idx + 1 < len(parts) and parts[idx] != 'ASK':\n",
    "        bid.append((float(parts[idx]), float(parts[idx+1])))\n",
    "        idx += 2\n",
    "    \n",
    "    idx += 1 # skip string 'ASK'\n",
    "    ask = []\n",
    "    while idx + 1 < len(parts) and idx < len(parts):\n",
    "        ask.append((float(parts[idx]), float(parts[idx+1])))\n",
    "        idx += 2\n",
    "    \n",
    "    return dt, bid, ask"
   ]
  },
  {
   "cell_type": "code",
   "execution_count": 10,
   "metadata": {},
   "outputs": [
    {
     "data": {
      "text/html": [
       "<div>\n",
       "<style>\n",
       "    .dataframe thead tr:only-child th {\n",
       "        text-align: right;\n",
       "    }\n",
       "\n",
       "    .dataframe thead th {\n",
       "        text-align: left;\n",
       "    }\n",
       "\n",
       "    .dataframe tbody tr th {\n",
       "        vertical-align: top;\n",
       "    }\n",
       "</style>\n",
       "<table border=\"1\" class=\"dataframe\">\n",
       "  <thead>\n",
       "    <tr style=\"text-align: right;\">\n",
       "      <th></th>\n",
       "      <th>bid</th>\n",
       "      <th>ask</th>\n",
       "    </tr>\n",
       "  </thead>\n",
       "  <tbody>\n",
       "    <tr>\n",
       "      <th>2013-11-01 00:00:00</th>\n",
       "      <td>[(1110.0, 2625.0), (1200.0, 4500.0), (1203.0, ...</td>\n",
       "      <td>[(1650.0, 303.0), (1685.0, 3000.0), (1695.0, 1...</td>\n",
       "    </tr>\n",
       "    <tr>\n",
       "      <th>2013-11-01 07:51:00</th>\n",
       "      <td>[(980.0, 500.0), (1000.0, 1000.0), (1110.0, 26...</td>\n",
       "      <td>[(1545.0, 212.0), (1611.0, 1288.0), (1650.0, 6...</td>\n",
       "    </tr>\n",
       "    <tr>\n",
       "      <th>2013-11-01 07:52:00</th>\n",
       "      <td>[(980.0, 500.0), (1000.0, 1000.0), (1110.0, 26...</td>\n",
       "      <td>[(1545.0, 524.0), (1611.0, 1288.0), (1649.0, 7...</td>\n",
       "    </tr>\n",
       "    <tr>\n",
       "      <th>2013-11-01 07:53:00</th>\n",
       "      <td>[(980.0, 500.0), (1000.0, 1000.0), (1110.0, 26...</td>\n",
       "      <td>[(1545.0, 525.0), (1611.0, 1288.0), (1643.5, 1...</td>\n",
       "    </tr>\n",
       "    <tr>\n",
       "      <th>2013-11-01 07:55:00</th>\n",
       "      <td>[(980.0, 500.0), (1000.0, 1000.0), (1110.0, 26...</td>\n",
       "      <td>[(1545.0, 525.0), (1611.0, 1288.0), (1643.5, 1...</td>\n",
       "    </tr>\n",
       "  </tbody>\n",
       "</table>\n",
       "</div>"
      ],
      "text/plain": [
       "                                                                   bid  \\\n",
       "2013-11-01 00:00:00  [(1110.0, 2625.0), (1200.0, 4500.0), (1203.0, ...   \n",
       "2013-11-01 07:51:00  [(980.0, 500.0), (1000.0, 1000.0), (1110.0, 26...   \n",
       "2013-11-01 07:52:00  [(980.0, 500.0), (1000.0, 1000.0), (1110.0, 26...   \n",
       "2013-11-01 07:53:00  [(980.0, 500.0), (1000.0, 1000.0), (1110.0, 26...   \n",
       "2013-11-01 07:55:00  [(980.0, 500.0), (1000.0, 1000.0), (1110.0, 26...   \n",
       "\n",
       "                                                                   ask  \n",
       "2013-11-01 00:00:00  [(1650.0, 303.0), (1685.0, 3000.0), (1695.0, 1...  \n",
       "2013-11-01 07:51:00  [(1545.0, 212.0), (1611.0, 1288.0), (1650.0, 6...  \n",
       "2013-11-01 07:52:00  [(1545.0, 524.0), (1611.0, 1288.0), (1649.0, 7...  \n",
       "2013-11-01 07:53:00  [(1545.0, 525.0), (1611.0, 1288.0), (1643.5, 1...  \n",
       "2013-11-01 07:55:00  [(1545.0, 525.0), (1611.0, 1288.0), (1643.5, 1...  "
      ]
     },
     "execution_count": 10,
     "metadata": {},
     "output_type": "execute_result"
    }
   ],
   "source": [
    "with open('OrderBookSnapshots.csv') as f:\n",
    "    order_books = f.read().split('\\n')\n",
    "parsed_order_book = []\n",
    "for o in order_books:\n",
    "    parsed_o = parse_order_book(o)\n",
    "    if parsed_o[0]:\n",
    "        parsed_order_book.append(parse_order_book(o))\n",
    "\n",
    "df = pd.DataFrame([p[1:] for p in parsed_order_book], \n",
    "                  index=[p[0] for p in parsed_order_book], columns=['bid', 'ask'])\n",
    "df.head()"
   ]
  },
  {
   "cell_type": "markdown",
   "metadata": {},
   "source": [
    "### Functions for queue imbalance\n",
    "\n",
    "We have two lists of orders: **ask list** and **bid list**. Both lists contain tuples with **price** and **volumen**. Beware that in this implementation time is used as an index in the data, so we can use number of a row to refer to certain time.\n",
    "\n",
    "\n",
    "* bid price: $$ b(t) := \\underset{\\{x \\in bidList(t) \\}}{\\max} x.price $$\n",
    "* ask price: $$ a(t) := \\underset{\\{x \\in askList(t)\\}}{\\min} x.price $$\n",
    "\n",
    "* total size of active buy orders: $$ n^{b}(p, t) = \\sum_{\\{x \\in buyList(t), p_x = p\\}} x.volumen $$\n",
    "* total size of active sell orders: $$ n^{a}(p, t) = \\sum_{\\{x \\in askList(t), p_x = p\\}} x.volumen $$\n",
    "\n",
    "* mid price: $$ m(t) := \\frac{a(t) + b(t)}{2} $$\n",
    "\n",
    "* queue imbalance: $$ I(t) := \\frac{n^b (b_t , t) − n^a (a_t, t)}{n^b (b_t , t) + n^a (a_t, t)} $$ where $a_t$ and $b_t$ are ask and bid prices for time $t$ respectively.\n",
    "\n",
    "* mid price indicator: $$ y_i = \\begin{cases} 0.5 & \\text{if} & m(t_{i-1}) & \\text{is undefined}\\\\ 1 & \\text{if} & m(t_i) > m(t_{i-1})\\\\ 0 & \\text{if} & m(t_i) < m(t_{i-1})\\\\ \\end{cases} $$\n",
    "\n",
    "We will calculate queue imbalance and mid price indicator for each row. After that we will drop rows which are next to each other in time and have the same mid price."
   ]
  },
  {
   "cell_type": "code",
   "execution_count": null,
   "metadata": {
    "collapsed": true
   },
   "outputs": [],
   "source": [
    "def get_bid_price(df: pd.DataFrame, index: int) -> float:\n",
    "    bid_list = df['bid'][index]\n",
    "    if not bid_list:\n",
    "        return 0\n",
    "    return max([price for price, vol in bid_list])\n",
    "\n",
    "def get_ask_price(df: pd.DataFrame, index: int) -> float:\n",
    "    ask_list = df['ask'][index]\n",
    "    if not ask_list:\n",
    "        return 0\n",
    "    return min([price for price, vol in ask_list])\n",
    "\n",
    "def get_mid_price(df: pd.DataFrame, index: int) -> float:\n",
    "    ask_price = get_ask_price(df, index)\n",
    "    bid_price = get_bid_price(df, index)\n",
    "    return (ask_price + bid_price) / 2"
   ]
  },
  {
   "cell_type": "code",
   "execution_count": null,
   "metadata": {
    "collapsed": true
   },
   "outputs": [],
   "source": [
    "def sum_buy_active_orders(price: float, df: pd.DataFrame, index: int) -> float:\n",
    "    if not df['bid'][index]:\n",
    "        return 0\n",
    "    return sum([vol for p, vol in df['bid'][index] if p == price])\n",
    "\n",
    "def sum_sell_active_orders(price: float, df: pd.DataFrame, index: int) -> float:\n",
    "    if not df['ask'][index]:\n",
    "        return 0\n",
    "    return sum([vol for p, vol in df['ask'][index] if p == price])\n",
    "\n",
    "def queue_imbalance(df: pd.DataFrame, index: int):\n",
    "    diff_bid_ask = sum_buy_active_orders(get_bid_price(df, index), df, index) - \\\n",
    "        sum_sell_active_orders(get_ask_price(df, index), df, index)\n",
    "    sum_bid_ask = sum_buy_active_orders(get_bid_price(df, index), df, index) + \\\n",
    "        sum_sell_active_orders(get_ask_price(df, index), df, index)\n",
    "    if sum_bid_ask == 0:\n",
    "        return 0 # as the lists are the same length 0\n",
    "    return diff_bid_ask / sum_bid_ask"
   ]
  },
  {
   "cell_type": "code",
   "execution_count": null,
   "metadata": {
    "collapsed": true
   },
   "outputs": [],
   "source": [
    "def add_mid_price_indicator(df: pd.DataFrame) -> pd.DataFrame:\n",
    "    y = [0.5] # undefined\n",
    "    previous_mid_price = get_mid_price(df, 0)\n",
    "    for i in range(1, len(df)):\n",
    "        current_mid_price = get_mid_price(df, i)\n",
    "        y.append(int(current_mid_price > previous_mid_price))\n",
    "        previous_mid_price = current_mid_price\n",
    "    df['mid_price_indicator'] = y\n",
    "    return df\n",
    "\n",
    "def add_queue_imbalance(df: pd.DataFrame) -> pd.DataFrame:\n",
    "    queue_imbalances = []\n",
    "    for i in range(0, len(df)):\n",
    "        queue_imbalances.append(queue_imbalance(df, i))\n",
    "    df['queue_imbalance'] = queue_imbalances\n",
    "    return df"
   ]
  },
  {
   "cell_type": "markdown",
   "metadata": {},
   "source": [
    "Let's drop rows which have the same mid_price as we are interesting in mid price raising or falling only."
   ]
  },
  {
   "cell_type": "code",
   "execution_count": null,
   "metadata": {
    "collapsed": true
   },
   "outputs": [],
   "source": [
    "df['bid_price'] = [get_bid_price(df, i) for i in range(len(df))]\n",
    "df['ask_price'] = [get_ask_price(df, i) for i in range(len(df))]\n",
    "df['mid_price'] = [get_mid_price(df, i) for i in range(len(df))]\n",
    "df['sum_sell_ask'] = [sum_sell_active_orders(get_ask_price(df, i), df, i) for i in range(len(df))] \n",
    "df['sum_buy_bid'] = [sum_buy_active_orders(get_bid_price(df, i), df, i) for i in range(len(df))] \n",
    "df = add_mid_price_indicator(df)\n",
    "df = add_queue_imbalance(df)"
   ]
  },
  {
   "cell_type": "code",
   "execution_count": null,
   "metadata": {
    "collapsed": true
   },
   "outputs": [],
   "source": [
    "# naive way\n",
    "rows_to_remove = []\n",
    "for i in range(len(df)-1, 0, -1):\n",
    "    if df['mid_price'].iloc[i] == df['mid_price'].iloc[i-1]:\n",
    "        rows_to_remove.append(i)\n",
    "    \n",
    "for r in rows_to_remove: # rows_to_remove is reversed so we can just remove\n",
    "    df = df.drop(df.index[r])"
   ]
  },
  {
   "cell_type": "code",
   "execution_count": null,
   "metadata": {
    "collapsed": true
   },
   "outputs": [],
   "source": [
    "df.head()"
   ]
  },
  {
   "cell_type": "markdown",
   "metadata": {},
   "source": [
    "## Data visualization\n",
    "\n",
    "A few plots:\n",
    "\n",
    "* sizes of buy and sell orders\n",
    "* bid, ask and mid prices\n",
    "* queue_imbalance and mid_price_indicator shown on small portion of data\n",
    "* density of mid_price_indicator\n",
    "* density of queue imbalance"
   ]
  },
  {
   "cell_type": "code",
   "execution_count": null,
   "metadata": {
    "collapsed": true
   },
   "outputs": [],
   "source": [
    "df['sum_buy_bid'].plot(label='total size of buy orders')\n",
    "df['sum_sell_ask'].plot(label='total size of sell orders')\n",
    "plt.title('Summed volumens for ask and bid lists')\n",
    "plt.xlabel('Time')\n",
    "plt.ylabel('Whole volume')\n",
    "plt.legend()"
   ]
  },
  {
   "cell_type": "code",
   "execution_count": null,
   "metadata": {
    "collapsed": true
   },
   "outputs": [],
   "source": [
    "df[['mid_price', 'bid_price', 'ask_price']].plot()\n",
    "plt.legend()\n",
    "plt.title('Prices')\n",
    "plt.xlabel('Time')\n",
    "plt.ylabel('Price')"
   ]
  },
  {
   "cell_type": "markdown",
   "metadata": {},
   "source": [
    "Seems that at 2013-09-09 there was some drop in prices"
   ]
  },
  {
   "cell_type": "code",
   "execution_count": null,
   "metadata": {
    "collapsed": true
   },
   "outputs": [],
   "source": [
    "df[['mid_price', 'bid_price', 'ask_price']].loc['2013-09-09 07:30':'2013-09-09 08:05'].plot()\n",
    "plt.legend()\n",
    "plt.xlabel('Time')\n",
    "plt.ylabel('Price')\n",
    "plt.title('Drop of prices at 2013-09-09')\n",
    "\n",
    "df[['sum_buy_bid', 'sum_sell_ask']].loc['2013-09-09 07:30':'2013-09-09 08:05'].plot()\n",
    "plt.legend()\n",
    "plt.xlabel('Time')\n",
    "plt.ylabel('Sum of volumens')\n",
    "plt.title('Drop of volumens at 2013-09-09')"
   ]
  },
  {
   "cell_type": "code",
   "execution_count": null,
   "metadata": {
    "collapsed": true
   },
   "outputs": [],
   "source": [
    "df[['mid_price', 'bid_price', 'ask_price']].loc['2013-09-06 16':'2013-09-06 17'].plot()\n",
    "plt.legend()\n",
    "plt.xlabel('Time')\n",
    "plt.ylabel('Price')\n",
    "plt.title('Prices between 2013-09-06 16-18')\n",
    "\n",
    "df[['sum_buy_bid', 'sum_sell_ask']].loc['2013-09-06 16':'2013-09-06 17'].plot()\n",
    "plt.legend()\n",
    "plt.xlabel('Time')\n",
    "plt.ylabel('Sum of volumens')\n",
    "plt.title('Volumens between 2013-09-06 16-17')"
   ]
  },
  {
   "cell_type": "code",
   "execution_count": null,
   "metadata": {
    "collapsed": true
   },
   "outputs": [],
   "source": [
    "df.iloc[10:20][['queue_imbalance', 'mid_price_indicator']].plot()\n",
    "plt.legend()\n",
    "plt.xlabel('Time')\n",
    "plt.ylabel('Imbalance or probability')\n",
    "plt.title('Queue imbalance vs mid price indicator for a few records')"
   ]
  },
  {
   "cell_type": "code",
   "execution_count": null,
   "metadata": {
    "collapsed": true
   },
   "outputs": [],
   "source": [
    "df['mid_price_indicator'].plot('kde')\n",
    "plt.legend()\n",
    "plt.xlabel('Mid price indicator')\n",
    "plt.title('Mid price indicator density')"
   ]
  },
  {
   "cell_type": "code",
   "execution_count": null,
   "metadata": {
    "collapsed": true
   },
   "outputs": [],
   "source": [
    "df['queue_imbalance'].plot('kde')\n",
    "plt.legend()\n",
    "plt.xlabel('Queue imbalance')\n",
    "plt.title('Queue imbalance density')"
   ]
  },
  {
   "cell_type": "markdown",
   "metadata": {},
   "source": [
    "## Predictions\n",
    "\n",
    "For predictions we use:\n",
    "\n",
    "* logistic regression to predict the probability of mid price rising in the next tick\n",
    "* binary classification (using SVM instead of Logistic Classification) to classify if the mid price will raise\n",
    "\n",
    "Feature for prediction is queue_imbalance and we want to predict mid_price_indicator.\n",
    "\n",
    "We perform in-sample tests and very naive out-of-sample tests."
   ]
  },
  {
   "cell_type": "code",
   "execution_count": null,
   "metadata": {
    "collapsed": true
   },
   "outputs": [],
   "source": [
    "from sklearn.linear_model import LogisticRegression\n",
    "from sklearn import svm\n",
    "import numpy as np\n",
    "\n",
    "def svm_classification(df, start_idx, end_idx):\n",
    "    clf = svm.SVC()        \n",
    "    X = df['queue_imbalance'][start_idx:end_idx].values.reshape(-1, 1)\n",
    "    y = df['mid_price_indicator'][start_idx:end_idx].values.reshape(-1, 1)\n",
    "    y[0] = 0\n",
    "    clf.fit(X, y)\n",
    "    return clf\n",
    "\n",
    "def logistic_regression(df, start_idx, end_idx):\n",
    "    clf = LogisticRegression()     \n",
    "    X = df['queue_imbalance'][start_idx:end_idx].values.reshape(-1, 1)\n",
    "    y = df['mid_price_indicator'][start_idx:end_idx].values.ravel()\n",
    "    y[0] = 0\n",
    "    clf.fit(X, y)\n",
    "    return clf\n",
    "\n",
    "def sigmoid(x):\n",
    "    return 1 / (1 + np.exp(-x))"
   ]
  },
  {
   "cell_type": "markdown",
   "metadata": {},
   "source": [
    "### Test for logistic regression in-sample\n",
    "\n",
    "We compare with our results using mean square error:\n",
    "\n",
    "* predicted probability vs $0.5$ probability\n",
    "* predicted probability vs mid_price_indicator\n",
    "* predicted mid_price_indicator vs  $0.5$ probability\n",
    "* predicted mid_price_indicator vs mid_price_indicator"
   ]
  },
  {
   "cell_type": "code",
   "execution_count": null,
   "metadata": {
    "collapsed": true
   },
   "outputs": [],
   "source": [
    "reg = logistic_regression(df, 0, len(df))\n",
    "\n",
    "probabilities = reg.predict_proba(df['queue_imbalance'].values.reshape(-1,1))\n",
    "probabilities = [p1 for p0, p1 in probabilities]\n",
    "prob_vs_half = ((0.5 * np.ones(len(probabilities)) - probabilities) ** 2).mean()\n",
    "prob_vs_ind = ((df['mid_price_indicator'] - probabilities) ** 2).mean()\n",
    "\n",
    "predictions = reg.predict(df['queue_imbalance'].values.reshape(-1, 1))\n",
    "pred_vs_half = ((0.5 * np.ones(len(predictions)) - predictions) ** 2).mean()\n",
    "pred_vs_ind = ((df['mid_price_indicator'] - predictions) ** 2).mean()\n",
    "\n",
    "plt.bar(np.arange(4), [prob_vs_half, prob_vs_ind, pred_vs_half, pred_vs_ind])\n",
    "plt.xticks(np.arange(4), ['prob_vs_half', 'prob_vs_ind', 'pred_vs_half', 'pred_vs_ind'])\n",
    "plt.xlabel('Mean square errors')\n",
    "plt.ylabel('Error value')\n",
    "plt.title('Error type')"
   ]
  },
  {
   "cell_type": "code",
   "execution_count": null,
   "metadata": {
    "collapsed": true
   },
   "outputs": [],
   "source": [
    "plt.plot(df['queue_imbalance'].values, sigmoid(reg.coef_[0] * df['queue_imbalance'].values + reg.intercept_))\n",
    "plt.title('Imbalance vs mid price raise prediction')\n",
    "plt.xlabel('Imbalance')\n",
    "plt.ylabel('Prediction')"
   ]
  },
  {
   "cell_type": "code",
   "execution_count": null,
   "metadata": {
    "collapsed": true
   },
   "outputs": [],
   "source": [
    "st = 10\n",
    "end = 30\n",
    "\n",
    "plt.plot(df.index[st:end], predictions[st:end], 'r', label='prediction')\n",
    "plt.plot(df.index[st:end], probabilities[st:end], 'g', label='probability')\n",
    "plt.plot(df.index[st:end], df['mid_price_indicator'].values[st:end], 'b', label='mid price')\n",
    "plt.xticks(rotation=25)\n",
    "plt.legend(loc=1)\n",
    "plt.xlabel('Time')\n",
    "plt.ylabel('Mid price prediction')"
   ]
  },
  {
   "cell_type": "markdown",
   "metadata": {},
   "source": [
    "### Test for SVM in-sample\n",
    "\n",
    "We compare with our results using mean square error:\n",
    "\n",
    "* predicted mid_price_indicator vs  $0.5$ probability\n",
    "* predicted mid_price_indicator vs mid_price_indicator"
   ]
  },
  {
   "cell_type": "code",
   "execution_count": null,
   "metadata": {
    "collapsed": true
   },
   "outputs": [],
   "source": [
    "reg = svm_classification(df, 0, len(df))\n",
    "\n",
    "predictions = reg.predict(df['queue_imbalance'].values.reshape(-1, 1))\n",
    "pred_vs_half = ((0.5 * np.ones(len(predictions)) - predictions) ** 2).mean()\n",
    "pred_vs_ind = ((df['mid_price_indicator'] - predictions) ** 2).mean()\n",
    "\n",
    "plt.bar(np.arange(2), [pred_vs_half, pred_vs_ind])\n",
    "plt.xticks(np.arange(2), ['pred_vs_half', 'pred_vs_ind'])\n",
    "plt.xlabel('Mean square errors')\n",
    "plt.ylabel('Error value')\n",
    "plt.title('Error type')"
   ]
  },
  {
   "cell_type": "code",
   "execution_count": null,
   "metadata": {
    "collapsed": true
   },
   "outputs": [],
   "source": [
    "st = 100\n",
    "end = 130\n",
    "\n",
    "plt.plot(df.index[st:end], predictions[st:end], 'r', label='prediction')\n",
    "plt.plot(df.index[st:end], df['mid_price_indicator'].values[st:end], 'b', label='mid price')\n",
    "plt.xlabel('Time')\n",
    "plt.ylabel('Mid price indicator')\n",
    "plt.xticks(rotation=25)\n",
    "plt.legend(loc=1)\n",
    "plt.title('Mid price indicator vs predicted mid price raise for a few samples')"
   ]
  },
  {
   "cell_type": "markdown",
   "metadata": {},
   "source": [
    "### Testing out-of-sample"
   ]
  },
  {
   "cell_type": "code",
   "execution_count": null,
   "metadata": {
    "collapsed": true
   },
   "outputs": [],
   "source": [
    "test_idx = 4000\n",
    "reg = logistic_regression(df, 0, test_idx) # naive approach\n",
    "\n",
    "probabilities = reg.predict_proba(df['queue_imbalance'].iloc[test_idx:len(df)].values.reshape(-1,1))\n",
    "probabilities = [p1 for p0, p1 in probabilities]\n",
    "prob_vs_half = ((0.5 * np.ones(len(probabilities)) - probabilities) ** 2).mean()\n",
    "prob_vs_ind = ((df['mid_price_indicator'].iloc[test_idx:len(df)] - probabilities) ** 2).mean()\n",
    "\n",
    "predictions = reg.predict(df['queue_imbalance'].iloc[test_idx:len(df)].values.reshape(-1, 1))\n",
    "pred_vs_half = ((0.5 * np.ones(len(predictions)) - predictions) ** 2).mean()\n",
    "pred_vs_ind = ((df['mid_price_indicator'].iloc[test_idx:len(df)] - predictions) ** 2).mean()\n",
    "\n",
    "plt.bar(np.arange(4), [prob_vs_half, prob_vs_ind, pred_vs_half, pred_vs_ind])\n",
    "plt.xticks(np.arange(4), ['prob_vs_half', 'prob_vs_ind', 'pred_vs_half', 'pred_vs_ind'])\n",
    "plt.xlabel('Mean square errors')\n",
    "plt.ylabel('Error value')\n",
    "plt.title('Error type')"
   ]
  },
  {
   "cell_type": "code",
   "execution_count": null,
   "metadata": {
    "collapsed": true
   },
   "outputs": [],
   "source": [
    "plt.plot(df['queue_imbalance'][test_idx:len(df)].values, \n",
    "         sigmoid(reg.coef_[0] * df['queue_imbalance'][test_idx:len(df)].values + reg.intercept_))\n",
    "\n",
    "plt.xlabel('Imbalance')\n",
    "plt.ylabel('Mid price prediction')\n",
    "plt.title('Imbalance vs mid price prediction')"
   ]
  },
  {
   "cell_type": "markdown",
   "metadata": {},
   "source": [
    "It looks like we never predict that the mid price will raise."
   ]
  },
  {
   "cell_type": "code",
   "execution_count": null,
   "metadata": {
    "collapsed": true
   },
   "outputs": [],
   "source": [
    "end = 30\n",
    "end_idx = test_idx + end\n",
    "\n",
    "plt.plot(df.index[test_idx:end_idx], df['mid_price_indicator'].values[test_idx:end_idx], 'b', label='mid price')\n",
    "plt.plot(df.index[test_idx:end_idx], predictions[0:end], 'r', label='prediction')\n",
    "plt.plot(df.index[test_idx:end_idx], probabilities[0:end], 'g', label='probability')\n",
    "plt.xticks(rotation=25)\n",
    "plt.xlabel('Time')\n",
    "plt.ylabel('Probability')\n",
    "plt.legend(loc=1)\n",
    "plt.title('Predictions of mid price')"
   ]
  },
  {
   "cell_type": "code",
   "execution_count": null,
   "metadata": {
    "collapsed": true
   },
   "outputs": [],
   "source": [
    "reg = svm_classification(df, 0, test_idx)\n",
    "\n",
    "predictions = reg.predict(df['queue_imbalance'].iloc[test_idx:len(df)].values.reshape(-1, 1))\n",
    "pred_vs_half = ((0.5 * np.ones(len(predictions)) - predictions) ** 2).mean()\n",
    "pred_vs_ind = ((df['mid_price_indicator'].iloc[test_idx:len(df)] - predictions) ** 2).mean()\n",
    "\n",
    "plt.bar(np.arange(2), [pred_vs_half, pred_vs_ind])\n",
    "plt.xticks(np.arange(2), ['pred_vs_half', 'pred_vs_ind'])\n",
    "plt.xlabel('Mean square errors')\n",
    "plt.ylabel('Error value')\n",
    "plt.title('Error type')"
   ]
  },
  {
   "cell_type": "code",
   "execution_count": null,
   "metadata": {
    "collapsed": true
   },
   "outputs": [],
   "source": [
    "end = 30\n",
    "end_idx = test_idx + end\n",
    "\n",
    "plt.plot(df.index[test_idx:end_idx], predictions[0:end], 'r', label='prediction of mid price indicator')\n",
    "plt.plot(df.index[test_idx:end_idx], df['mid_price_indicator'].iloc[test_idx:end_idx].values, \n",
    "         'b', label='mid price indicator')\n",
    "plt.xlabel('Time')\n",
    "plt.ylabel('Mid price indicator')\n",
    "plt.xticks(rotation=25)\n",
    "plt.legend(loc=1)\n",
    "plt.title('Mid price indicator vs predicted mid price raise')"
   ]
  },
  {
   "cell_type": "markdown",
   "metadata": {},
   "source": [
    "## Conclusions\n",
    "\n",
    "Predicted probability that `mid_price` will raise is close to `0.5` and it's only slightly better than \"no prediction\" (so probability $0.5$). Computed **mean square error** value for predictions is about $0.25$, so the same as the result in [1](#1). It seems it doesn't matter if we use SVM or LogisticRegression library for predictions in this case for this data.\n",
    "\n",
    "\n",
    "Of course data for testing was insufficient, to help a bit with that there could be better sample construction method used."
   ]
  },
  {
   "cell_type": "markdown",
   "metadata": {},
   "source": [
    "### Resources\n",
    "\n",
    "1. [Queue Imbalance as a One-Tick-Ahead Price Predictor in a Limit Order Book](https://arxiv.org/abs/1512.03492) <a class=\"anchor-link\" href=\"#1\">¶</a> "
   ]
  }
 ],
 "metadata": {
  "kernelspec": {
   "display_name": "Python 3",
   "language": "python",
   "name": "python3"
  },
  "language_info": {
   "codemirror_mode": {
    "name": "ipython",
    "version": 3
   },
   "file_extension": ".py",
   "mimetype": "text/x-python",
   "name": "python",
   "nbconvert_exporter": "python",
   "pygments_lexer": "ipython3",
   "version": "3.6.1"
  }
 },
 "nbformat": 4,
 "nbformat_minor": 1
}
